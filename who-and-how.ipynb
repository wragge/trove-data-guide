{
 "cells": [
  {
   "cell_type": "markdown",
   "id": "1c41d398-4544-464d-ad67-36bb69348920",
   "metadata": {
    "editable": true,
    "slideshow": {
     "slide_type": ""
    },
    "tags": []
   },
   "source": [
    "# Who is the Trove Data Guide for?"
   ]
  },
  {
   "cell_type": "markdown",
   "id": "da623669-59fb-4f62-98a7-248bc03006e8",
   "metadata": {
    "editable": true,
    "slideshow": {
     "slide_type": ""
    },
    "tags": []
   },
   "source": [
    "The Trove Data Guide aims to help researchers understand, access, and use data from Trove. But just because it's about 'data' doesn't mean you need to be able to code. To understand Trove data and its possibilities for research, you first need to understand Trove itself – its history, its structure, its assumptions, and its limits. This knowledge is useful to any Trove user.\n",
    "\n",
    "For example, all Trove users would benefit from knowing more about [works and versions](/what-is-trove/works-and-versions), or how to use the ['simple' search box for complex queries](/understanding-search/simple-search-options). There's also an introduction to [what's in (and not in) the digitised newspapers](/newspapers-and-gazettes/newspaper-corpus), and similar overviews for other digitised content such as [books](other-digitised-resources/books/overview), [parliamentary papers](/other-digitised-resources/parliamentary-papers/overview), and [oral histories](/other-digitised-resources/parliamentary-papers/overview).\n",
    "\n",
    "```{figure} ./images/newspapers-change.png\n",
    ":name: newspapers-change\n",
    ":width: 600px\n",
    "\n",
    "[Number of newspapers articles in Trove by publication year, showing the change from 2011 to 2022](newspapers:corpus:history)\n",
    "```\n",
    "\n",
    "Several sections document the way the web interface works (or doesn't work). There's a field guide to the various [interfaces](/what-is-trove/interfaces) and [identifiers](/what-is-trove/links-and-identifiers) you might come across, and details of [options for downloading data](/accessing-data/using-web-interface). The Trove Data Guide fills many gaps in the official Trove documentation, so check here if you run into problems, or can't figure out how to achieve a particular task. Perhaps you were wondering how [to download digitised images at their highest available resolution](/accessing-data/how-to/download-higher-resolution-images)?\n",
    "\n",
    "For people who are more comfortable with code there are plenty of useful snippets and complete working examples. For example there are sections that document how to [get metadata, text, and images from newspapers](/newspapers-and-gazettes/data/accessing-data), and [other digitised resources](/other-digitised-resources/accessing-data). There are also a series of 'HOW TO' pages that describe more complex data access methods.\n",
    "\n",
    "But what can you do with Trove data? The Trove Data Guide's [Pathways](/other-digitised-resources/accessing-data) provide detailed tutorials that lead you step by step through examples of packaging Trove data for use with other digital tools. Use these examples as a starting point in planning your own projects."
   ]
  }
 ],
 "metadata": {
  "kernelspec": {
   "display_name": "Python 3 (ipykernel)",
   "language": "python",
   "name": "python3"
  },
  "language_info": {
   "codemirror_mode": {
    "name": "ipython",
    "version": 3
   },
   "file_extension": ".py",
   "mimetype": "text/x-python",
   "name": "python",
   "nbconvert_exporter": "python",
   "pygments_lexer": "ipython3",
   "version": "3.10.12"
  }
 },
 "nbformat": 4,
 "nbformat_minor": 5
}
