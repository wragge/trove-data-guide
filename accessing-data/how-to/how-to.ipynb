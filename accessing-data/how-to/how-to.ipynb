{
 "cells": [
  {
   "cell_type": "markdown",
   "id": "e1f8d348-93b3-4d1e-bdd9-6109fdddc575",
   "metadata": {},
   "source": [
    "# How to"
   ]
  },
  {
   "cell_type": "markdown",
   "id": "9fe2c03e-0a28-4814-803d-9cc6df4df4e1",
   "metadata": {},
   "source": [
    "\n",
    "```{tableofcontents}\n",
    "```"
   ]
  }
 ],
 "metadata": {
  "kernelspec": {
   "display_name": "Python 3 (ipykernel)",
   "language": "python",
   "name": "python3"
  },
  "language_info": {
   "codemirror_mode": {
    "name": "ipython",
    "version": 3
   },
   "file_extension": ".py",
   "mimetype": "text/x-python",
   "name": "python",
   "nbconvert_exporter": "python",
   "pygments_lexer": "ipython3",
   "version": "3.8.12"
  }
 },
 "nbformat": 4,
 "nbformat_minor": 5
}
