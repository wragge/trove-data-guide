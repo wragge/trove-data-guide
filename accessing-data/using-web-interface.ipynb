{
 "cells": [
  {
   "cell_type": "markdown",
   "id": "c661cc8d-a6ef-448c-99a4-dc88353bf694",
   "metadata": {
    "editable": true,
    "slideshow": {
     "slide_type": ""
    },
    "tags": []
   },
   "source": [
    "# Downloading data from the Trove web interface"
   ]
  },
  {
   "cell_type": "markdown",
   "id": "76ff3835-7751-4716-b248-c01e543b9e01",
   "metadata": {
    "editable": true,
    "slideshow": {
     "slide_type": ""
    },
    "tags": []
   },
   "source": [
    "<!---\n",
    "See [](/what-is-trove/interfaces) for a overview of the different components that make up the web interface. In particular, it's important to understand the difference between the main search interface and the digitised item viewers.\n",
    "--->"
   ]
  },
  {
   "cell_type": "markdown",
   "id": "5ffb67b2-fb59-47c2-9c2d-5e2d60001ee0",
   "metadata": {},
   "source": [
    "(downloading-images-web-interface)=\n",
    "## Downloading images, PDFs, text, and audio\n",
    "\n",
    "Items that have been digitised by the NLA and made available through one of Trove's digitised item viewers can usually be downloaded in a variety of formats. This includes newspapers, books, journals, images, maps, manuscripts, and oral histories.\n",
    "\n",
    "The official Trove Help includes a page on [Downloading](https://trove.nla.gov.au/help/using-trove/downloading) that describes the options available in the various Trove categories for downloading images, PDFs, text, and audio. Different formats have different viewers, but generally speaking you just need to find the download tab in the sidebar, select a format, and click the button."
   ]
  },
  {
   "cell_type": "markdown",
   "id": "51090ccb-9c93-4ebc-a026-4708ba0a06a6",
   "metadata": {},
   "source": [
    "```{figure} /images/web-download-example.png\n",
    ":name: download-tab\n",
    ":width: 300\n",
    "Example of the download tab in the digitised magazines and newsletters viewer\n",
    "```"
   ]
  },
  {
   "cell_type": "markdown",
   "id": "e8ba94e8-8abb-41fd-a0d1-c18700fc0dd8",
   "metadata": {
    "editable": true,
    "slideshow": {
     "slide_type": ""
    },
    "tags": []
   },
   "source": [
    "Items that are arranged in hierarchical structures, such as some images, maps, and manuscripts, might have an option to download a 'collection'. If so a **Download** button will appear on the collection page. This isn't always available, and there can be limits on how many items in a collection you can download at once. To find the 'collection' page, try using the breadcrumb links to move up the record hierarchy.\n",
    "\n",
    "While many of the same download options are available across different Trove categories, they don't always mean the same thing! For example, the 'text' you get from newspapers is not the same as the 'text' you get from books. This table summarises what's available and describes some of these oddities.\n",
    "\n",
    "```{list-table} Available download options\n",
    ":header-rows: 1\n",
    ":name: table-available-download-options\n",
    "* - Trove category\n",
    "  - Item type\n",
    "  - Download option\n",
    "  - Note\n",
    "* - Newspapers & gazettes\n",
    "  - article\n",
    "  - image\n",
    "  - The 'image' option actually delivers an HTML page with embedded images. Long articles will often be sliced up in unfortunate ways to 'fit' an A4 page. To get the images themselves you need to extract them from the HTML and try to reassemble them.\n",
    "* - Newspapers & gazettes\n",
    "  - article\n",
    "  - PDF\n",
    "  -\n",
    "* - Newspapers & gazettes\n",
    "  - article\n",
    "  - text\n",
    "  - The 'text' option actually delivers an HTML page that includes the publication details as well as the article text. If you just want the plain OCRd text you'd need to extract it from the HTML and remove the publication details.\n",
    "* - Newspapers & gazettes\n",
    "  - page\n",
    "  - PDF\n",
    "  -\n",
    "* - Newspapers & gazettes\n",
    "  - issue\n",
    "  - PDF\n",
    "  - \n",
    "* - Books & libraries\n",
    "  - single page, range of pages, or complete book\n",
    "  - image\n",
    "  - Images (single or multiple) are packaged in a zip file with an additional page of copyright information.\n",
    "* - Books & libraries\n",
    "  - single page, range of pages, or complete book\n",
    "  - PDF\n",
    "  - \n",
    "* - Books & libraries\n",
    "  - single page, range of pages, or complete book\n",
    "  - text\n",
    "  - Unlike the newspapers, this is plain text with no formatting.\n",
    "* - Books & libraries\n",
    "  - single page, range of pages, or complete book\n",
    "  - image\n",
    "  - Images (single or multiple) are packaged in a zip file with an additional page of copyright information.\n",
    "* - Magazines & newsletters\n",
    "  - single page, range of pages, or complete issue\n",
    "  - PDF\n",
    "  - \n",
    "* - Magazines & newsletters\n",
    "  - single page, range of pages, or complete issue\n",
    "  - text\n",
    "  - Unlike the newspapers, this is plain text with no formatting.\n",
    "* - Images, maps, & artefacts\n",
    "  - single item, range of items\n",
    "  - image\n",
    "  - Images are packaged in a zip file with an additional page of copyright information. As well as the standard JPEG format, some maps include an option to download high-resolution TIFF files.\n",
    "* - Images, maps, & artefacts\n",
    "  - single item, range of items\n",
    "  - PDF\n",
    "  -\n",
    "* - Images, maps, & artefacts\n",
    "  - collection\n",
    "  - image\n",
    "  - A maximum of 20 images can be downloaded at one time.\n",
    "* - Images, maps, & artefacts\n",
    "  - collection\n",
    "  - PDF\n",
    "  - A maximum of 20 images can be included in the PDF.\n",
    "* - Diaries, letters & archives\n",
    "  - single page, range of pages\n",
    "  - image\n",
    "  - Images are packaged in a zip file with an additional page of copyright information.\n",
    "* - Diaries, letters & archives\n",
    "  - single page, range of pages\n",
    "  - PDF\n",
    "  - \n",
    "* - Diaries, letters & archives\n",
    "  - collection\n",
    "  - image\n",
    "  - Images are packaged in a zip file with an additional page of copyright information. Depending on where you are in the collection hierarchy, you might only get the top-level image.\n",
    "* - Diaries, letters & archives\n",
    "  - collection\n",
    "  - PDF\n",
    "  - \n",
    "* - Music, audio & video\n",
    "  - oral history interview transcript\n",
    "  - text\n",
    "  -\n",
    "* - Music, audio & video\n",
    "  - oral history interview transcript\n",
    "  - PDF\n",
    "  -\n",
    "* - Music, audio & video\n",
    "  - oral history interview\n",
    "  - audio recording\n",
    "  - MP3 files available at a variety of bitrates (the higher the bitrate, the larger the file), eg: 48kbps, 128kbps, and 256kbps\n",
    "\n",
    "```\n",
    "\n",
    "Some download options you might expect to find are not actually available. These are listed in the table below.\n",
    "\n",
    "````{margin}\n",
    "```{seealso}\n",
    "The **GLAM Workbench** provides some useful workarounds where download options are missing or don't deliver data in useful formats. For example, there are web apps to help you [save a newspaper article as an image](https://glam-workbench.net/trove-newspapers/Save-Trove-newspaper-article-as-image-app/) and to [download a page as an image](https://glam-workbench.net/trove-newspapers/Save-page-image/). The [Trove Newspaper & Gazette Harvester](https://glam-workbench.net/trove-harvester/) cleans up article text and can download images as well.\n",
    "```\n",
    "````\n",
    "\n",
    "```{list-table} Missing download formats\n",
    ":header-rows: 1\n",
    ":name: table-missing-download-formats\n",
    "* - Trove category\n",
    "  - Item type\n",
    "  - Download format\n",
    "  - Note\n",
    "* - Newspapers & gazettes\n",
    "  - page\n",
    "  - image\n",
    "  - There's no option to download a page as an image, just a page image embedded in a PDF.\n",
    "* - Magazines & newsletters\n",
    "  - article\n",
    "  - any\n",
    "  - There's no option to download individual articles as images, PDFs, or text. While you search for individual articles, the viewer only presents pages. This is different to the newspapers where the viewer presents individual articles.\n",
    "```"
   ]
  },
  {
   "cell_type": "markdown",
   "id": "eb9f25de-2bcb-4994-9db9-1abe1185b4ca",
   "metadata": {
    "editable": true,
    "slideshow": {
     "slide_type": ""
    },
    "tags": []
   },
   "source": [
    "```{admonition} What about image resolutions?\n",
    ":class: note\n",
    "\n",
    "One confusing, and often frustrating, aspect of image downloads is their resolution (or size). You can use the Trove image viewer to zoom in close to many photographs and manuscripts, enabling you to pick up fine details. But if you download the same image, you could find the resolution is much lower. This means you're limited in how you can use the downloaded image. The available resolutions vary across categories and formats, and you really don't know what you'll get until you download it. Many manuscripts, in particular, seem to have low-resolution downloads, which doesn't help you much when you're trying to decipher someone's handwriting! But never fear, there are a [few hacks and work arounds](/accessing-data/how-to/download-higher-resolution-images) you can try to get higher resolution versions.\n",
    "```"
   ]
  },
  {
   "cell_type": "markdown",
   "id": "c32b08b0-6d01-470b-a6ba-4ff1888e4ede",
   "metadata": {},
   "source": [
    "## Download metadata using citations and BibTex\n",
    "\n",
    "BibTex is a [file format](https://www.bibtex.org/Format/) used to save structured information about references, and is used by many tools to manage citations and build bibliographies. You can download item metadata in BibTex format using Trove's 'Citation' tab.\n",
    "\n",
    "In the main search interface, the 'Citation' tab includes a BibTex option. You can copy or download the BibTex record.\n",
    "\n",
    "```{figure} ../images/trove-citation-tab.png\n",
    ":name: citation-tab\n",
    ":width: 400\n",
    "Example of the Citation tab with the BibTex option selected\n",
    "```\n",
    "\n",
    "In the digitised newspaper viewer, the 'Citation' tab includes a button to download a BibTex record.\n",
    "\n",
    "```{figure} ../images/newspaper-citation-options.png\n",
    ":name: newspaper-citation-tab\n",
    ":width: 300\n",
    "Options for downloading newspaper citations\n",
    "```\n",
    "\n",
    "The Trove viewers for digitised books, journals, images, and maps don't include a BibTex option.\n",
    "\n",
    "This is a simple way of capturing metadata in a structured format, but the BibTex records don't always include the full range of metadata available in Trove."
   ]
  },
  {
   "cell_type": "markdown",
   "id": "ed9fb9eb-135c-403b-815b-8d178ca6ecf2",
   "metadata": {},
   "source": [
    "## Downloading lists"
   ]
  },
  {
   "cell_type": "markdown",
   "id": "d36db636-e2cc-4a25-9010-67e56047f983",
   "metadata": {
    "editable": true,
    "slideshow": {
     "slide_type": ""
    },
    "tags": []
   },
   "source": [
    "````{margin}\n",
    "```{seealso}\n",
    "The GLAM Workbench notebook [Convert a Trove list into a CSV file](https://glam-workbench.net/trove-lists/convert-a-trove-list-into-a-csv-file/) will download detailed List metadata using the Trove API. It creates separate CSV files for newspaper articles and other works, and can even retrieve the full text of articles.\n",
    "```\n",
    "````\n",
    "\n",
    "Trove Lists include a button to 'Download this List'. Once you click the button you can choose your desired output format: CSV, JSON, XML, or as a list of citations.\n",
    "\n",
    "The metadata provided by the List download option is quite limited. In particular, newspaper articles are missing information about titles, and the dates are not formatted according to the ISO standard. You can retrieve more and better metadata from Lists by using the Trove API."
   ]
  },
  {
   "cell_type": "markdown",
   "id": "889c40ae-1556-4352-9dd7-939cba6d88c2",
   "metadata": {},
   "source": [
    "(bulk-export)=\n",
    "## Bulk export"
   ]
  },
  {
   "cell_type": "markdown",
   "id": "a572638c-cb21-4278-9d70-1fe0019d8f5d",
   "metadata": {
    "editable": true,
    "slideshow": {
     "slide_type": ""
    },
    "tags": []
   },
   "source": [
    "Trove's new [Bulk Export](https://trove.nla.gov.au/about/create-something/bulk-download) feature makes it easy to save the results of a search. But it has a number of limitations:\n",
    "\n",
    "- Number of results limited to one million\n",
    "- Version information is not included with work records\n",
    "- Text is not included with newspaper articles\n",
    "\n",
    "For many research uses you'll be better off using the Trove API or a tool like the [Trove Newspaper Harvester](https://wragge.github.io/trove-newspaper-harvester/)."
   ]
  },
  {
   "cell_type": "markdown",
   "id": "e08f9666-f012-4517-a416-e9a688e5e499",
   "metadata": {
    "editable": true,
    "slideshow": {
     "slide_type": ""
    },
    "tags": []
   },
   "source": [
    "<!---\n",
    "## Map search?\n",
    "\n",
    "Can download geo-rectified TIFFs\n",
    "\n",
    "<https://mapsearch.nla.gov.au/>\n",
    "--->"
   ]
  }
 ],
 "metadata": {
  "kernelspec": {
   "display_name": "Python 3 (ipykernel)",
   "language": "python",
   "name": "python3"
  },
  "language_info": {
   "codemirror_mode": {
    "name": "ipython",
    "version": 3
   },
   "file_extension": ".py",
   "mimetype": "text/x-python",
   "name": "python",
   "nbconvert_exporter": "python",
   "pygments_lexer": "ipython3",
   "version": "3.8.12"
  }
 },
 "nbformat": 4,
 "nbformat_minor": 5
}
