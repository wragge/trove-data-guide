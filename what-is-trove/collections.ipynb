{
 "cells": [
  {
   "cell_type": "markdown",
   "id": "8b54dd9f-08bc-474e-8ef2-cc3b3faf4842",
   "metadata": {
    "editable": true,
    "slideshow": {
     "slide_type": ""
    },
    "tags": []
   },
   "source": [
    "# Collections within collections"
   ]
  },
  {
   "cell_type": "code",
   "execution_count": null,
   "id": "df54af5b-8172-41d6-a613-62b3f8015bd6",
   "metadata": {
    "editable": true,
    "slideshow": {
     "slide_type": ""
    },
    "tags": [
     "remove-cell"
    ]
   },
   "outputs": [],
   "source": [
    "import requests\n",
    "import pandas as pd\n",
    "import os\n",
    "\n",
    "from dotenv import load_dotenv\n",
    "\n",
    "load_dotenv()"
   ]
  },
  {
   "cell_type": "code",
   "execution_count": null,
   "id": "a767ad82-a57f-4fe8-9651-9ed26b022aad",
   "metadata": {
    "editable": true,
    "slideshow": {
     "slide_type": ""
    },
    "tags": [
     "remove-cell"
    ]
   },
   "outputs": [],
   "source": [
    "YOUR_API_KEY = os.getenv(\"TROVE_API_KEY\")"
   ]
  },
  {
   "cell_type": "markdown",
   "id": "687a2946-d8e7-4b75-bfbc-a0005c904b56",
   "metadata": {
    "editable": true,
    "slideshow": {
     "slide_type": ""
    },
    "tags": []
   },
   "source": [
    "````{card} On this page\n",
    "Learn about the different ways Trove creates and represents collections of resources.\n",
    "\n",
    "```{contents}\n",
    ":local:\n",
    ":backlinks: None\n",
    "```\n",
    "````"
   ]
  },
  {
   "cell_type": "markdown",
   "id": "da42a1c2-c080-453d-88c5-ac196f2333c1",
   "metadata": {
    "editable": true,
    "slideshow": {
     "slide_type": ""
    },
    "tags": []
   },
   "source": [
    "## A collection of collections\n",
    "\n",
    "Trove is a collection of collections. Some of those collections are harvested into Trove from collaborating organisations. Other collections, such as the digitised newspapers, are a product of the NLA's own processing pipelines. Within these groups, resources are linked together in a variety of different ways. For example, a newspaper article is part of an issue, a periodical issue is part of a title, a photograph might be part of an album, a book might be part of a series, and a letter might be part of a manuscript collection. These sorts of relationships can help you navigate through the layers of collections, moving from whole to part and back again. \n",
    "\n",
    "Unfortunately, Trove doesn't have a standard way of representing these sorts of parent/child relationships. Instead, a variety of metadata fields, facets, hierarchical structures, and interfaces group things in inconsistent and sometimes confusing ways. This means that collections are often fragmented in Trove search results, making it hard to see patterns and connections.\n",
    "\n",
    "## Trove's categories are not collections!\n",
    "\n",
    "Trove's top-level categories *look* like collections, but beware! While some categories, like **Newspapers & Gazettes**, have clear cut boundaries, others don't. As I've suggested in the [section on categories and zones](contexts-not-collections), it's best to think of the categories as contexts for discovery rather than collections.\n",
    "\n",
    "## Works and versions can hide collections\n",
    "\n",
    "Trove creates many thousands of little collections by trying to [group different versions of the same thing together as 'works'](/what-is-trove/works-and-versions.md). This grouping operates on a couple of levels and results in a hierarchical structure where works contain versions, and versions contain the original metadata records. However, it's [not always successful](muddy-metadata). As well as obvious grouping errors, works sometimes [cram different members of a collection together](not-the-same), as if they're actually the *same thing*. Even more concerning, it seems that works and versions have sometimes been used deliberately to [describe collections of digitised resources](digitised-works-groups). The problem with this is that the members of these collections are difficult to find and use as their individual metadata has either not been recorded or has been munged together as a single 'work'. In effect, **work groupings hide collections**. This is one of the reasons why I recommend unpacking all the versions from works and saving them individually when you're harvesting data.\n",
    "\n",
    "## Finding collections by contributor\n",
    "\n",
    "You can explore the different collections harvested into Trove by filtering your search results according to the source of the metadata. Organisations contributing data to Trove are assigned a National Union Catalogue (NUC) identifier. You can find an organisation's NUC by searching the [Australian Libraries Gateway](http://www.nla.gov.au/apps/libraries/index.html), or by looking in the dropdown list of 'Organisations' in Trove's advanced search form (the NUC is in square brackets).\n",
    "\n",
    "```{figure} /images/nuc-dropdown.png\n",
    ":name: \"nuc-dropdown\"\n",
    ":width: 600px\n",
    "NUC identifiers are displayed in square brackets\n",
    "```\n",
    "\n",
    "```{admonition} Advanced search for NUCs is broken!\n",
    ":class: warning\n",
    "While you can use Trove's advanced search to *find* a NUC, you can't reliably use it to search for items using that NUC. There's a longstanding bug that means if you select an organisation whose NUC includes a colon you'll get **no results**. You can fix the broken url by simply putting double quotes around the NUC value, or use one of the methods below.\n",
    "```\n",
    "\n",
    "Once you have a NUC you can find records from that organisation by using either the `nuc:` index or the `partnerNuc` facet – as far as I can tell the results are the same. For example, to find records from the ANU's institutional repository you'd [search for `nuc:\"ANU:IR\"`](https://trove.nla.gov.au/search/category/research?keyword=nuc%3A%22ANU%3AIR%22) (note the double quotes around the NUC value).\n",
    "\n",
    "[![Try it!](https://troveconsole.herokuapp.com/static/img/try-trove-api-console.svg)](https://troveconsole.herokuapp.com/v3/?url=https%3A%2F%2Fapi.trove.nla.gov.au%2Fv3%2Fresult%3Fq%3Dnuc%3A%22ANU%3AIR%22%26category%3Dall%26l-availability%3Dy%26encoding%3Djson%26bulkHarvest%3Dtrue&comment=)\n",
    "\n",
    "(collections-ispartof)=\n",
    "## `isPartOf` relationships\n",
    "\n",
    "Some parent/child relationships in Trove are documented using the Dublin Core `isPartOf` metadata field. This field can appear in records aggregated into Trove from other organisations, as well as in records of digitised resources created by the NLA itself. In the web interface, `isPartOf` values can be displayed under a variety of headings, including 'Appears in', 'Part of', and 'Series'. Here's an example linking an individual oral history interview to an oral history project:\n",
    "\n",
    "```{figure} /images/part-of-example.png\n",
    ":name: \"part-of-example\"\n",
    ":width: 600px\n",
    "Example of the way `isPartOf` values are displayed in the Trove web interface\n",
    "```\n",
    "\n",
    "Here's how the same record appears in the API:\n",
    "\n",
    "``` json\n",
    "\"isPartOf\": [\n",
    "    {\n",
    "        \"value\": \"Australian women scientists oral history project [sound recording].\",\n",
    "        \"type\": \"publication\"\n",
    "    },\n",
    "    {\n",
    "        \"value\": \"Australian women scientists oral history project.\",\n",
    "        \"type\": \"series\"\n",
    "    }\n",
    "],\n",
    "```\n",
    "\n",
    "[![Try it!](https://troveconsole.herokuapp.com/static/img/try-trove-api-console.svg)](https://troveconsole.herokuapp.com/v3/?url=https%3A%2F%2Fapi.trove.nla.gov.au%2Fv3%2Fwork%2F245550805%3Fencoding%3Djson%26include%3Dworkversions%2Clinks%2Choldings&comment=)\n",
    "\n",
    "The value of `isPartOf` is a text string rather than an identifier, so the connections can be a bit fuzzy. Also, a record can have multiple `isPartOf` values linking it to different points in a collection hierarchy – a record might be linked both to its direct parent and the top-level collection record. This means you can't reliably reconstruct a collection from the `isPartOf` values alone. Nonetheless, they can be useful in finding groupings of related resources.\n",
    "\n",
    "As you can see in the API example above, `isPartOf` values can be qualified by supplying a `type`. The most common types seem to be `series` and `publication`. The [Trove Data Dictionary](https://trove.nla.gov.au/partners/partner-services/contribute/trove-data-dictionary) doesn't explain how the `type` qualifiers are meant to be used, but it seems that `series` generally denotes a collection, while `publication` is a more restricted grouping, such as the title of a parent publication.\n",
    "\n",
    "To limit your search results to items with a particular `isPartOf` value, you can use either the `series:` index or the `contribcollection` facet, however, they behave slightly differently.\n",
    "\n",
    "### Use the `contribcollection` facet to filter searches\n",
    "\n",
    "The `contribcollection` facet seems to match all `isPartOf` values, irrespective of their `type`. However, **the matches must be exact, and are case-sensitive** – searching by `Annual report`, `Annual Report` and `Annual report.` will all produce different results! For example, to find more oral histories from the 'Australian women scientists oral history project' you could add `l-contribcollection=Australian women scientists oral history project.` to your query, but it only returns two results.\n",
    "\n",
    "[![Try it!](https://troveconsole.herokuapp.com/static/img/try-trove-api-console.svg)](https://troveconsole.herokuapp.com/v3/?url=https%3A%2F%2Fapi.trove.nla.gov.au%2Fv3%2Fresult%3Fcategory%3Dmusic%26l-contribcollection%3DAustralian+women+scientists+oral+history+project.%26encoding%3Djson&comment=)\n",
    "\n",
    "If you remove the trailing full stop from the collection name, you'll find another 22!\n",
    "\n",
    "[![Try it!](https://troveconsole.herokuapp.com/static/img/try-trove-api-console.svg)](https://troveconsole.herokuapp.com/v3/?url=https%3A%2F%2Fapi.trove.nla.gov.au%2Fv3%2Fresult%3Fcategory%3Dmusic%26l-contribcollection%3DAustralian+women+scientists+oral+history+project%26encoding%3Djson&comment=)\n",
    "\n",
    ":::{admonition} Using `contribcollection` in the web interface\n",
    ":class: \"note\"\n",
    "\n",
    "The `contribcollection` facet is not displayed in the web interface, so you can't just check a box to filter results. To use it you'll need to manually edit the search url adding `&l-contribcollection=[YOUR IS_PART_OF VALUE]`.\n",
    ":::\n",
    "\n",
    "Inconsistencies in the metadata, such as trailing full stops, and the unforgiving nature of the `contribcollection` facet makes it tricky to use. You need to know the exact `isPartOf` value in advance, and be prepared to make multiple queries to capture any variations.\n",
    "\n",
    "To complicate matters further, the `title` facet used in the **Magazines & Newsletters** category also works with values from the `isPartOf` field. It seems to return a subset of the results you get from `contribcollection`, perhaps because it's only using `isPartOf` values which have `type` set to `publication`. It's also case-sensitive, and expects exact matches, but it looks like trailing full stops have been removed.\n",
    "\n",
    "(collections-ispartof-series)=\n",
    "### Search the `isPartOf` field using the `series` index\n",
    "\n",
    "````{margin}\n",
    "```{seealso}\n",
    "The `isPartOf` field is useful in identifying sub-collections of digitised resources such as [Parliamentary Papers](/other-digitised-resources/parliamentary-papers/finding-pp).\n",
    "```\n",
    "````\n",
    "\n",
    "You can use the `series` index to search `isPartOf` values. It seems to only match records where the `isPartOf` type is `series`, but you can it's much more flexible than the `contribcollection` facet as it accepts partial matches and is case-insensitive. For example, a [search for `series:\"Australian women scientists oral history project\"`](https://trove.nla.gov.au/search/category/music?keyword=series%3A%22Australian%20women%20scientists%20oral%20history%20project%22) returns 25 results – no need to worry about trailing full stops!\n",
    "\n",
    "[![Try it!](https://troveconsole.herokuapp.com/static/img/try-trove-api-console.svg)](https://troveconsole.herokuapp.com/v3/?url=https%3A%2F%2Fapi.trove.nla.gov.au%2Fv3%2Fresult%3Fq%3Dseries%3A%22Australian+women+scientists+oral+history+project%22%26category%3Dmusic%26encoding%3Djson&comment=)\n",
    "\n",
    "Because it accepts partial matches, you can use the `series` index to search for items from collections that include certain keywords. For example, there's a lots of separate ephemera collections from the NLA in Trove, to find items from all of them you can [search for `series:ephemera`](https://trove.nla.gov.au/?keyword=series%3Aephemera).\n",
    "\n",
    "[![Try it!](https://troveconsole.herokuapp.com/static/img/try-trove-api-console.svg)](https://troveconsole.herokuapp.com/v3/?url=https%3A%2F%2Fapi.trove.nla.gov.au%2Fv3%2Fresult%3Fq%3Dseries%3Aephemera%26category%3Dall%26encoding%3Djson%26include%3Dworkversions%26bulkHarvest%3Dtrue&comment=)\n",
    "\n",
    "This lets you poke around to see what collections are available, rather than having to know the `isPartOf` value in advance.\n",
    "\n",
    "### Harvesting all `isPartOf` values\n",
    "\n",
    "````{margin}\n",
    "```{seealso}\n",
    "Here's a [pre-harvested dataset](oral-histories-downloadable-data) of oral history records, and a [complete list of series values](https://github.com/GLAM-Workbench/trove-oral-histories-data/blob/main/trove-oral-history-series.txt) from the `isPartOf` field.\n",
    "```\n",
    "````\n",
    "\n",
    "Your ability to find the range of available `isPartOf` values using standard search queries is limited. Using the API you can set `facet` to `contribcollection` to get a list of the 100 most common `isPartOf` values related to your search. For example, to find a list of the NLA's oral history collections you can search for `nuc:ANL` in the `music` category, set the `format` facet to `Sound/Interview, lecture, talk`, and `facet` to `contribcollection`."
   ]
  },
  {
   "cell_type": "code",
   "execution_count": 18,
   "id": "57da0076-9f68-444c-ad28-f07743387432",
   "metadata": {
    "editable": true,
    "slideshow": {
     "slide_type": ""
    },
    "tags": [
     "hide-input"
    ]
   },
   "outputs": [
    {
     "data": {
      "text/html": [
       "<style type=\"text/css\">\n",
       "</style>\n",
       "<table id=\"T_245cd\">\n",
       "  <thead>\n",
       "    <tr>\n",
       "      <th id=\"T_245cd_level0_col0\" class=\"col_heading level0 col0\" >display</th>\n",
       "      <th id=\"T_245cd_level0_col1\" class=\"col_heading level0 col1\" >count</th>\n",
       "    </tr>\n",
       "  </thead>\n",
       "  <tbody>\n",
       "    <tr>\n",
       "      <td id=\"T_245cd_row0_col0\" class=\"data row0 col0\" >Hazel de Berg collection</td>\n",
       "      <td id=\"T_245cd_row0_col1\" class=\"data row0 col1\" >1266</td>\n",
       "    </tr>\n",
       "    <tr>\n",
       "      <td id=\"T_245cd_row1_col0\" class=\"data row1 col0\" >National Press Club luncheon address</td>\n",
       "      <td id=\"T_245cd_row1_col1\" class=\"data row1 col1\" >905</td>\n",
       "    </tr>\n",
       "    <tr>\n",
       "      <td id=\"T_245cd_row2_col0\" class=\"data row2 col0\" >Rob and Olya Willis folklore collection</td>\n",
       "      <td id=\"T_245cd_row2_col1\" class=\"data row2 col1\" >760</td>\n",
       "    </tr>\n",
       "    <tr>\n",
       "      <td id=\"T_245cd_row3_col0\" class=\"data row3 col0\" >Australia 1938 oral history project</td>\n",
       "      <td id=\"T_245cd_row3_col1\" class=\"data row3 col1\" >584</td>\n",
       "    </tr>\n",
       "    <tr>\n",
       "      <td id=\"T_245cd_row4_col0\" class=\"data row4 col0\" >Cultural context of unemployment oral history project</td>\n",
       "      <td id=\"T_245cd_row4_col1\" class=\"data row4 col1\" >480</td>\n",
       "    </tr>\n",
       "    <tr>\n",
       "      <td id=\"T_245cd_row5_col0\" class=\"data row5 col0\" >National Press Club luncheon address.</td>\n",
       "      <td id=\"T_245cd_row5_col1\" class=\"data row5 col1\" >438</td>\n",
       "    </tr>\n",
       "    <tr>\n",
       "      <td id=\"T_245cd_row6_col0\" class=\"data row6 col0\" >Menzies MS 4936 collection</td>\n",
       "      <td id=\"T_245cd_row6_col1\" class=\"data row6 col1\" >346</td>\n",
       "    </tr>\n",
       "    <tr>\n",
       "      <td id=\"T_245cd_row7_col0\" class=\"data row7 col0\" >Bringing them home oral history project</td>\n",
       "      <td id=\"T_245cd_row7_col1\" class=\"data row7 col1\" >336</td>\n",
       "    </tr>\n",
       "    <tr>\n",
       "      <td id=\"T_245cd_row8_col0\" class=\"data row8 col0\" >Australian generations oral history project</td>\n",
       "      <td id=\"T_245cd_row8_col1\" class=\"data row8 col1\" >297</td>\n",
       "    </tr>\n",
       "    <tr>\n",
       "      <td id=\"T_245cd_row9_col0\" class=\"data row9 col0\" >Chris Sullivan folklore collection</td>\n",
       "      <td id=\"T_245cd_row9_col1\" class=\"data row9 col1\" >266</td>\n",
       "    </tr>\n",
       "  </tbody>\n",
       "</table>\n"
      ],
      "text/plain": [
       "<pandas.io.formats.style.Styler at 0x7f10b5621b50>"
      ]
     },
     "execution_count": 18,
     "metadata": {},
     "output_type": "execute_result"
    }
   ],
   "source": [
    "import requests\n",
    "import pandas as pd\n",
    "\n",
    "params = {\n",
    "    \"q\": \"nuc:ANL\",\n",
    "    \"category\": \"music\",\n",
    "    \"l-format\": \"Sound/Interview, lecture, talk\",\n",
    "    \"facet\": \"contribcollection\",\n",
    "    \"encoding\": \"json\",\n",
    "    \"n\": 0\n",
    "}\n",
    "\n",
    "headers = {\"X-API-KEY\": YOUR_API_KEY}\n",
    "\n",
    "response = requests.get(\n",
    "        \"https://api.trove.nla.gov.au/v3/result\", params=params, headers=headers\n",
    "    )\n",
    "data = response.json()\n",
    "\n",
    "facets = data[\"category\"][0][\"facets\"][\"facet\"][0][\"term\"]\n",
    "\n",
    "# Display the top ten values\n",
    "df = pd.DataFrame(facets)\n",
    "df[[\"display\", \"count\"]][:10].style.hide()"
   ]
  },
  {
   "cell_type": "markdown",
   "id": "bef3a329-5cfe-4ade-a289-73056bb6236a",
   "metadata": {
    "editable": true,
    "slideshow": {
     "slide_type": ""
    },
    "tags": []
   },
   "source": [
    "To get a complete list of collections you'd need to harvest the `isPartOf` values from the full results set using the API. A method for doing this is described in [](/other-digitised-resources/how-to/harvest-digitised-resources)."
   ]
  },
  {
   "cell_type": "markdown",
   "id": "51b5bb31-604f-4cb9-8d36-ac553a3664c9",
   "metadata": {
    "editable": true,
    "slideshow": {
     "slide_type": ""
    },
    "tags": []
   },
   "source": [
    "## Digitised collections\n",
    "\n",
    "Resources digitised by the NLA and delivered through Trove are sometimes grouped into collections. In the **Digitised Newspapers & Gazettes** category, relationships exist between the different parts of a newspaper – titles, issues, pages, and articles – enabling you move from one level to another, and [to access and aggregate data](/newspapers-and-gazettes/data/accessing-data) from the different components. For example, you can [find articles published on a particular page](get-page-identifier-from-search).\n",
    "\n",
    "These sorts of relationships are not as clearly defined for other types of digitised resources, and little data about them is directly available from the Trove API. The [Other digitised resources](/other-digitised-resources/index) section describes in detail the issues and possible workarounds for different content types.\n",
    "\n",
    "## Finding aids\n",
    "\n",
    "````{margin}\n",
    "```{seealso}\n",
    "See the [Trove unpublished works (diaries, letters, and archives)](https://glam-workbench.net/trove-unpublished/) section of the GLAM Workbench for examples of finding and extracting data from finding aids.\n",
    "```\n",
    "````\n",
    "\n",
    "Finding aids have their own in-built hierarchical structure of collections, series, sub-series, and items. They're mostly used in describing manuscript collections, but some of the NLA's photograph and ephemera collections are also described using finding aids.\n",
    "\n",
    "Finding aids are created using the [Encoded Archival Description (EAD)](https://www.loc.gov/ead/) standard. The original EAD hierarchy is presented as a nested list in Trove. Links from the list go to the digitised item viewer."
   ]
  }
 ],
 "metadata": {
  "kernelspec": {
   "display_name": "Python 3 (ipykernel)",
   "language": "python",
   "name": "python3"
  },
  "language_info": {
   "codemirror_mode": {
    "name": "ipython",
    "version": 3
   },
   "file_extension": ".py",
   "mimetype": "text/x-python",
   "name": "python",
   "nbconvert_exporter": "python",
   "pygments_lexer": "ipython3",
   "version": "3.10.12"
  }
 },
 "nbformat": 4,
 "nbformat_minor": 5
}
