{
 "cells": [
  {
   "cell_type": "markdown",
   "id": "1c5b805e-aae6-4fb0-9935-3202c76fa900",
   "metadata": {
    "editable": true,
    "slideshow": {
     "slide_type": ""
    },
    "tags": [],
    "user_expressions": []
   },
   "source": [
    "# Trove is...\n",
    "\n",
    "<!---\n",
    "```{attention}\n",
    "This guide is currently under development. For more information and discussion see [the list of issues](https://github.com/wragge/trove-data-guide/issues) on GitHub. Comments are welcome.\n",
    "```\n",
    "--->"
   ]
  },
  {
   "cell_type": "markdown",
   "id": "e28c5a98-13c9-474e-9061-61b4019bcbe8",
   "metadata": {},
   "source": [
    "````{card} On this page\n",
    "This section looks at stuff.\n",
    "\n",
    "```{contents}\n",
    ":local:\n",
    "```\n",
    "````"
   ]
  },
  {
   "cell_type": "markdown",
   "id": "a71c660f-0c71-4784-bbef-7d553dc4ae54",
   "metadata": {},
   "source": [
    "```{admonition} Key points\n",
    ":class: key-points\n",
    "\n",
    "These are the important things...\n",
    "```\n",
    "\n",
    "Trove is:\n",
    "\n",
    "- always changing\n",
    "- frustratingly inconsistent\n",
    "- rabbit hole\n",
    "-"
   ]
  },
  {
   "cell_type": "markdown",
   "id": "c8e3d9cb-fd9d-4ca7-8b79-3cb4c18cbb51",
   "metadata": {},
   "source": [
    "**Trove is not one thing**. On the [technical side](https://trove.nla.gov.au/about/what-trove/technical-ecosystem), Trove is a combination of many interconnected systems, data sources, and interfaces, each with its own individual history. But Trove is also an idea, an ambition, an attempt to provide Australians with facilitated access to research and heritage collections from across the country. That idea, expressed through policy documents, strategic plans, resource allocations, and collaborative agreements has also evolved over the past 15 years. At the same time, Trove has been enriched by its community of users, both by submitting annotations and corrections through the web interface, and by sharing their own research, methods, tools, and discoveries across the web. Trove now is the product of these entwined histories – technology, policy, and community. \n",
    "\n",
    "```{figure} /images/trove-data-flows-2010-cathro-collier.png\n",
    ":width: 600px\n",
    "\n",
    "Trove Data Flows, 2010, licensed CC-BY-NC. {cite:p}`cathroDevelopingTrovePolicy2010` See the Trove help documentation for [information about the current configuration](https://trove.nla.gov.au/about/what-trove/technical-ecosystem).\n",
    "```\n",
    "\n",
    "This Data Guide aims to help researchers make efficient and innovative use of Trove by documenting how it works and what it provides. But the complexity of Trove, and its evolution over time, makes it difficult to nail down its precise contents, limits, and structures. The simple question, 'What's in Trove?', is not easily answered. As I've grappled with topics such as Trove's [works and versions](/what-is-trove/works-and-versions), and struggled to quantify measures like the [number of pages missing from digitised newspapers](/newspapers-and-gazettes/newspapers-missing-pages), I've come to realise that Trove, as a whole, is effectively unknowable. It's too big, too complex, and too inconsistent to yield to precise analysis. It's also changing constantly, so any attempt to capture its contents will be immediately out of date. The best we can hope for are a series of blurry snapshots that help us understand the characteristics of Trove, even though some of the fine details remain out of focus."
   ]
  },
  {
   "cell_type": "markdown",
   "id": "16b30621-cb82-47d4-a772-abfd1943cc53",
   "metadata": {},
   "source": [
    "## Trove now\n",
    "\n",
    "- an aggregation of collection {term}`metadata` from Australian {abbr}`GLAM (Galleries, Libraries, Archives, and Museums)` and research organisations (includes pre-aggregated content through Libraries Australia as well as individually harvested collections)\n",
    "- a repository of digitised content from the NLA and partners, includes:\n",
    "    - newspapers\n",
    "    - journals and magazines\n",
    "    - books\n",
    "    - posters and ephemera\n",
    "    - photographs\n",
    "    - maps\n",
    "    - manuscripts\n",
    "    - oral histories\n",
    "- an archive of Australian web content from 1996 onwards\n",
    "- aggregated identity records for people and organisations\n",
    "- born-digital publications submitted via the electronic legal deposit scheme (access may be restricted to on-site use)\n",
    "- a platform for user engagement via tags, comments, lists, and OCR corrections\n",
    "- a series of APIs for delivering machine-actionable data\n",
    "\n",
    "More information in pages for specific formats."
   ]
  },
  {
   "cell_type": "markdown",
   "id": "21c4f1b0-9507-4d1a-901f-99955042a3ec",
   "metadata": {
    "jp-MarkdownHeadingCollapsed": true
   },
   "source": [
    "## Precursors and milestones\n",
    "\n",
    "Not a history. Idntifying major threads and changes that shape Trove now.\n",
    "\n",
    "What Trove is has changed over time.\n",
    "\n",
    "ANBD - Libraries Australia\n",
    "\n",
    "SBDP -- bringing together a range of discovery services\n",
    "\n",
    "Still find traces of earlier systems -- eg occupations in diaries\n",
    "\n",
    "Newspapers and web archives separate systems that were bolted on -- seams still evident\n",
    "\n",
    "DLIR for digitised collections material -- lack of integration with discovery parts of Trove, development driven by collection areas\n",
    "\n",
    "Changes:\n",
    "\n",
    "- OAISter and Gale\n",
    "- Pandora, AGWA\n",
    "-"
   ]
  }
 ],
 "metadata": {
  "jupytext": {
   "formats": "ipynb,md:myst"
  },
  "kernelspec": {
   "display_name": "Python 3 (ipykernel)",
   "language": "python",
   "name": "python3"
  },
  "language_info": {
   "codemirror_mode": {
    "name": "ipython",
    "version": 3
   },
   "file_extension": ".py",
   "mimetype": "text/x-python",
   "name": "python",
   "nbconvert_exporter": "python",
   "pygments_lexer": "ipython3",
   "version": "3.8.12"
  }
 },
 "nbformat": 4,
 "nbformat_minor": 5
}
