{
 "cells": [
  {
   "cell_type": "markdown",
   "id": "5ec93003-0d28-452a-bd98-09a92441f44e",
   "metadata": {
    "editable": true,
    "slideshow": {
     "slide_type": ""
    },
    "tags": []
   },
   "source": [
    "# Trove lists"
   ]
  },
  {
   "cell_type": "markdown",
   "id": "6b77a0b6-873f-437e-a96e-6b54e8898358",
   "metadata": {
    "editable": true,
    "slideshow": {
     "slide_type": ""
    },
    "tags": []
   },
   "source": [
    "## Metadata\n",
    "\n",
    "````{margin}\n",
    "```{seealso}\n",
    "The GLAM Workbench notebook [Convert a Trove list into a CSV file](https://glam-workbench.net/trove-lists/convert-a-trove-list-into-a-csv-file/) shows you how to save the full details of items in a Trove list as CSV files ­– one for newspaper articles, and another for works. You can also save the OCRd text of articles, as well as PDFs and images.\n",
    "```\n",
    "````\n",
    "\n",
    "### Getting list metadata using the web interface\n",
    "\n",
    "- basic download option\n",
    "- limited fields available for newspaper articles"
   ]
  },
  {
   "cell_type": "markdown",
   "id": "649fd713-1982-47d6-8f42-507b55bfaf54",
   "metadata": {
    "editable": true,
    "slideshow": {
     "slide_type": ""
    },
    "tags": []
   },
   "source": [
    "### Getting list metadata using the API \n",
    "\n",
    "- make additional requests to get more info about each item"
   ]
  }
 ],
 "metadata": {
  "kernelspec": {
   "display_name": "Python 3 (ipykernel)",
   "language": "python",
   "name": "python3"
  },
  "language_info": {
   "codemirror_mode": {
    "name": "ipython",
    "version": 3
   },
   "file_extension": ".py",
   "mimetype": "text/x-python",
   "name": "python",
   "nbconvert_exporter": "python",
   "pygments_lexer": "ipython3",
   "version": "3.8.12"
  }
 },
 "nbformat": 4,
 "nbformat_minor": 5
}
