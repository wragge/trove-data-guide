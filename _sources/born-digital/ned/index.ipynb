{
 "cells": [
  {
   "cell_type": "markdown",
   "id": "c6222502-2afc-4c67-a363-d0fe9f2e6c05",
   "metadata": {},
   "source": [
    "# National edeposit"
   ]
  }
 ],
 "metadata": {
  "kernelspec": {
   "display_name": "Python 3 (ipykernel)",
   "language": "python",
   "name": "python3"
  },
  "language_info": {
   "codemirror_mode": {
    "name": "ipython",
    "version": 3
   },
   "file_extension": ".py",
   "mimetype": "text/x-python",
   "name": "python",
   "nbconvert_exporter": "python",
   "pygments_lexer": "ipython3",
   "version": "3.10.12"
  }
 },
 "nbformat": 4,
 "nbformat_minor": 5
}
