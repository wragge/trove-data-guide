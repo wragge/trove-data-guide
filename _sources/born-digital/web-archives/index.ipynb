{
 "cells": [
  {
   "cell_type": "markdown",
   "id": "661f1c93-cf93-4a94-846b-071ae9670a38",
   "metadata": {},
   "source": [
    "# Web archives"
   ]
  },
  {
   "cell_type": "markdown",
   "id": "ff44532b-1ac4-4e99-88cc-75066bdf1a9b",
   "metadata": {},
   "source": [
    "How to:\n",
    "\n",
    "- get a capture near a date\n",
    "- get a list of captures (timemap or cdx)\n",
    "- get captures from a domain\n",
    "- get the original html"
   ]
  },
  {
   "cell_type": "raw",
   "id": "ef76e6f8-23d0-4a6b-af77-f631f2f385f4",
   "metadata": {},
   "source": []
  },
  {
   "cell_type": "markdown",
   "id": "005aa5b0-a049-424b-b96f-9b466d81ba89",
   "metadata": {},
   "source": [
    "Look at harvested titles - domains etc (using surts)"
   ]
  }
 ],
 "metadata": {
  "kernelspec": {
   "display_name": "Python 3 (ipykernel)",
   "language": "python",
   "name": "python3"
  },
  "language_info": {
   "codemirror_mode": {
    "name": "ipython",
    "version": 3
   },
   "file_extension": ".py",
   "mimetype": "text/x-python",
   "name": "python",
   "nbconvert_exporter": "python",
   "pygments_lexer": "ipython3",
   "version": "3.10.12"
  }
 },
 "nbformat": 4,
 "nbformat_minor": 5
}
