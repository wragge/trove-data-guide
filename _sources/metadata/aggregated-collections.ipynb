{
 "cells": [
  {
   "cell_type": "markdown",
   "id": "21b45367-47e9-4bb4-9f73-03520280ca25",
   "metadata": {},
   "source": [
    "# Aggregated collections"
   ]
  },
  {
   "cell_type": "markdown",
   "id": "ab7eb0b1-3580-4eaf-ac28-00ef61ea78ef",
   "metadata": {},
   "source": [
    "```{attention}\n",
    "This guide is currently under development. For more information and discussion see [the list of issues](https://github.com/wragge/trove-data-guide/issues) on GitHub. Comments are welcome.\n",
    "```"
   ]
  },
  {
   "cell_type": "markdown",
   "id": "fccb5ecd-b08d-4348-9b3e-c6e7bf314425",
   "metadata": {},
   "source": [
    "This sections will examine the collections aggregated into Trove.\n",
    "\n",
    "- Available metadata\n",
    "- What's online and accessible\n",
    "- Colections by contributor\n",
    "- Copyright information\n",
    "\n",
    "Research & reports:\n",
    "\n",
    "- content from IRs\n",
    "\n",
    "Focus on some interesting collections within the collection:\n",
    "\n",
    "- Parliamentary Press Releases\n",
    "- ABC RN"
   ]
  },
  {
   "cell_type": "markdown",
   "id": "a030cf26-540f-4312-a68e-3d2ec6c34b61",
   "metadata": {},
   "source": [
    "```{tableofcontents}\n",
    "```"
   ]
  }
 ],
 "metadata": {
  "kernelspec": {
   "display_name": "Python 3 (ipykernel)",
   "language": "python",
   "name": "python3"
  },
  "language_info": {
   "codemirror_mode": {
    "name": "ipython",
    "version": 3
   },
   "file_extension": ".py",
   "mimetype": "text/x-python",
   "name": "python",
   "nbconvert_exporter": "python",
   "pygments_lexer": "ipython3",
   "version": "3.8.12"
  }
 },
 "nbformat": 4,
 "nbformat_minor": 5
}
