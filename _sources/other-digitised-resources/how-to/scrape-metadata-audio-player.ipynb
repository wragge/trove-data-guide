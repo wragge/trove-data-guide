{
 "cells": [
  {
   "cell_type": "markdown",
   "id": "ba5b4a38-20d6-4d8b-9d8f-4a6062709111",
   "metadata": {
    "editable": true,
    "slideshow": {
     "slide_type": ""
    },
    "tags": []
   },
   "source": [
    "# HOW TO: Scrape metadata from the Trove audio player\n",
    "\n",
    "````{margin}\n",
    "```{seealso}\n",
    "For an example of this code in action see the GLAM Workbench notebook [Harvest oral histories metadata](https://glam-workbench.net/trove-music/harvest-oral-histories/).\n",
    "```\n",
    "````\n",
    "\n",
    "Trove's audio player displays some metadata that isn't included in the API records. This can include:\n",
    "\n",
    "- a descriptive note with the date and place of the recording\n",
    "- a note about the availability of transcript\n",
    "- roles of the people involved – ie 'interviewer' and 'interviewee'\n",
    "\n",
    "The `scrape_metadata()` function below retrieves the audio player page from an oral history's digital object url and uses BeautifulSoup to find and extract the metadata.\n",
    "\n",
    "For example, the 'Listen' link from [this oral history record](https://trove.nla.gov.au/work/245550803) goes to the url <https://nla.gov.au/nla.obj-220905784> which opens the audio player. In the API, the digital object url will be in the `identifier` field of the work or version, with a `linktype` of \"fulltext\".\n",
    "\n",
    "```json\n",
    "    \"type\": \"url\",\n",
    "    \"linktype\": \"fulltext\",\n",
    "    \"value\": \"https://nla.gov.au/nla.obj-220905784\"\n",
    "```\n",
    "\n",
    "[![Try it!](https://troveconsole.herokuapp.com/static/img/try-trove-api-console.svg)](https://troveconsole.herokuapp.com/v3/?url=https%3A%2F%2Fapi.trove.nla.gov.au%2Fv3%2Fwork%2F245550803%3Fencoding%3Djson%26include%3Dworkversions%2Clinks%2Choldings&comment=)\n",
    "\n",
    "Just give the `scrape_metadata()` function the digital object url and it will return the metadata as a Python dictionary with the following fields:\n",
    "\n",
    "- `catalogue_url` – url of the NLA catalogue record for this oral history\n",
    "- `identifier` – NLA identifier for this oral history\n",
    "- `description`\n",
    "- `extent`\n",
    "- `notes`\n",
    "- `contributor`\n",
    "\n",
    "The fields `description`, `extent`, and `contributor` can have multiple values and are returned as lists."
   ]
  },
  {
   "cell_type": "code",
   "execution_count": 5,
   "id": "22d089b8-1ce3-4209-bab2-d2b67fa47917",
   "metadata": {},
   "outputs": [],
   "source": [
    "import re\n",
    "\n",
    "import requests\n",
    "from bs4 import BeautifulSoup\n",
    "\n",
    "\n",
    "def scrape_metadata(url):\n",
    "    \"\"\"\n",
    "    Scrape metadata about an oral history from the audio player page.\n",
    "    \"\"\"\n",
    "    response = requests.get(url)\n",
    "    # If this is a collection page you'll get a 404\n",
    "    if response.status_code != 200:\n",
    "        return {}\n",
    "    soup = BeautifulSoup(response.text)\n",
    "    # Get the metadata container\n",
    "    details = soup.find(\"div\", class_=\"workdetails\")\n",
    "    if not details:\n",
    "        return {}\n",
    "    # Get link to NLA catalogue\n",
    "    catalogue = details.find(\"section\", class_=\"catalogue\")\n",
    "    catalogue_link = catalogue.find(\"a\", href=re.compile(\"nla.cat-vn\"))[\"href\"]\n",
    "    # Get oral history id\n",
    "    oral_history_id = \"\"\n",
    "    for string in catalogue.stripped_strings:\n",
    "        if string.startswith(\"ORAL TRC\"):\n",
    "            oral_history_id = string\n",
    "    # Get extent, description and notes\n",
    "    extent = []\n",
    "    description = []\n",
    "    for section in details.find_all(\"section\", class_=\"extent\"):\n",
    "        if section.string.startswith(\"Recorded\"):\n",
    "            description.append(section.string.strip())\n",
    "        else:\n",
    "            extent.append(section.string)\n",
    "    try:\n",
    "        notes = details.find(\"section\", class_=\"notes\").string\n",
    "    except AttributeError:\n",
    "        notes = \"\"\n",
    "    # Get contributors and role\n",
    "    contributors = []\n",
    "    for div in details.find_all(\"div\", class_=\"contributor\"):\n",
    "        role = div.find(\"span\", class_=\"role\")\n",
    "        if role:\n",
    "            contributors.append(f\"{list(div.stripped_strings)[0]} {role.string}\")\n",
    "        else:\n",
    "            contributors.append(f\"{list(div.stripped_strings)[0]}\")\n",
    "    return {\n",
    "        \"catalogue_url\": catalogue_link,\n",
    "        \"identifier\": oral_history_id,\n",
    "        \"description\": description,\n",
    "        \"extent\": extent,\n",
    "        \"notes\": notes,\n",
    "        \"contributor\": contributors,\n",
    "    }"
   ]
  },
  {
   "cell_type": "code",
   "execution_count": 6,
   "id": "0748f829-1137-4a45-81d0-5f965b7d055e",
   "metadata": {
    "editable": true,
    "slideshow": {
     "slide_type": ""
    },
    "tags": []
   },
   "outputs": [
    {
     "data": {
      "text/plain": [
       "{'catalogue_url': 'http://nla.gov.au/nla.cat-vn4979244',\n",
       " 'identifier': 'ORAL TRC 6233',\n",
       " 'description': ['Recorded on 8 October 2010 in Sydney, N.S.W.'],\n",
       " 'extent': ['2 sound files (ca. 167 min.)'],\n",
       " 'notes': \"Professor Bryan Gaensler is a Professor of Physics at the University of Sydney. In 2011 he will not only take up the position of Director of the ARC Centre of Excellence for All-sky Astrophysics but will also be an Australian Research Council Laureate Fellow. He has previously held positions at MIT, the Smithsonian Institute and Harvard University. He has made a number of ground breaking discoveries in fields such as, astrophysical magnetic fields, supernova explosions, the Magellanic Clouds, astrophysical shocks and the structure of the Milky Way. He hopes to use the Australian Square Kilometre Array Pathfinder to carry out the Polarisation Sky Survey of the Universe's Magnetism which will transform our understanding of magnetic fields in the cosmos.\",\n",
       " 'contributor': ['Bhathal, Ragbir (Ragbir Singh) (interviewer)',\n",
       "  'Gaensler, Bryan, 1973- (interviewee)']}"
      ]
     },
     "execution_count": 6,
     "metadata": {},
     "output_type": "execute_result"
    }
   ],
   "source": [
    "scrape_metadata(\"https://nla.gov.au/nla.obj-220905784\")"
   ]
  }
 ],
 "metadata": {
  "kernelspec": {
   "display_name": "Python 3 (ipykernel)",
   "language": "python",
   "name": "python3"
  },
  "language_info": {
   "codemirror_mode": {
    "name": "ipython",
    "version": 3
   },
   "file_extension": ".py",
   "mimetype": "text/x-python",
   "name": "python",
   "nbconvert_exporter": "python",
   "pygments_lexer": "ipython3",
   "version": "3.8.12"
  }
 },
 "nbformat": 4,
 "nbformat_minor": 5
}
