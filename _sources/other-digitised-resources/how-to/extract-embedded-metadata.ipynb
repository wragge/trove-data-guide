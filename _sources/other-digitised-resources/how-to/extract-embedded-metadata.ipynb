{
 "cells": [
  {
   "cell_type": "markdown",
   "id": "7fdab6f1-9e9d-4d9a-bb93-e03a2f76e5e4",
   "metadata": {
    "editable": true,
    "slideshow": {
     "slide_type": ""
    },
    "tags": []
   },
   "source": [
    "# HOW TO: Extract additional metadata from the web page of a digitised work"
   ]
  },
  {
   "cell_type": "code",
   "execution_count": 7,
   "id": "3f9a6415-ce81-4288-9ca9-a46fc474b634",
   "metadata": {
    "editable": true,
    "slideshow": {
     "slide_type": ""
    },
    "tags": [
     "remove-cell"
    ]
   },
   "outputs": [],
   "source": [
    "from myst_nb import glue"
   ]
  },
  {
   "cell_type": "markdown",
   "id": "e50b85b1-ac64-46ff-93d1-ef9c138dc0c3",
   "metadata": {
    "editable": true,
    "slideshow": {
     "slide_type": ""
    },
    "tags": []
   },
   "source": [
    "````{margin}\n",
    "```{seealso}\n",
    "This method is also documented in the GLAM Workbench notebook, [Metadata for Trove digitised works](https://glam-workbench.net/trove-books/metadata-for-digital-works/).\n",
    "```\n",
    "````\n",
    "\n",
    "The viewers you use to examine digitised resources in Trove embed some metadata that isn't available through the Trove API. This includes a JSON-ified version of the item's MARC record (presumably copied from the NLA catalogue), as well as structural information used by the viewer itself, such as a list of pages in a digitised book.\n",
    "\n",
    "This metadata can be useful in a number of different contexts. For example, you can extract the number of pages in a digitised book, then use this number to [automatically download the full text or a PDF](download-items-text-images). The GLAM Workbench includes an example where geospatial coordinates are extracted from the MARC data to add to a [harvest of digitised maps](https://glam-workbench.net/trove-maps/exploring-digitised-maps/)."
   ]
  },
  {
   "cell_type": "code",
   "execution_count": 8,
   "id": "811ae3ac-06f4-47bc-bc9b-2e89b702df0a",
   "metadata": {
    "editable": true,
    "slideshow": {
     "slide_type": ""
    },
    "tags": [
     "output_scroll"
    ]
   },
   "outputs": [
    {
     "data": {
      "application/papermill.record/text/plain": "{'id': '36205965',\n 'collection': 'nla.aus',\n 'type': 'work',\n 'form': 'Book',\n 'subType': 'book',\n 'bibLevel': 'Item',\n 'bibId': '653766',\n 'holdingNumber': 'JAFp BIO 92',\n 'pid': 'nla.obj-362059651',\n 'title': \"Lord Robert Cecil's gold fields diary\",\n 'accessConditions': 'Unrestricted',\n 'copyrightPolicy': 'Out of Copyright',\n 'recordSource': 'NLACat',\n 'digitalStatus': 'Captured',\n 'startDate': '01 January 1945',\n 'creator': 'Salisbury, Robert Cecil, marquess of, 1830-1903. 338373 9112d83c-f87f-5a34-a022-bea98d9ee823',\n 'extent': '32 p., [20] p. of plates : ill. ; 18 cm.',\n 'publisherName': 'Melbourne University Press',\n 'allowSearchEngineIndexing': 'false',\n 'findingAidAvailable': 'No',\n 'isOriginalCopyAvaliable': 'false',\n 'ocrMetsCopyAvaliable': 'true',\n 'partnerNucs': [],\n 'parentProjectIds': [],\n 'projectIds': [],\n 'marcData': {'record': [{'leader': {'type': 'Bibliographic',\n     'content': '01205cam a2200289 a 4500'},\n    'datafield': [{'ind2': ' ',\n      'ind1': 1,\n      'subfield': [{'code': 'a', 'content': 2617933},\n       {'code': 'z', 'content': 9324621}],\n      'tag': '019'},\n     {'ind2': ' ',\n      'ind1': ' ',\n      'subfield': {'code': 9, 'content': '(AuCNLDY)577939'},\n      'tag': '035'},\n     {'ind2': ' ',\n      'ind1': ' ',\n      'subfield': {'code': 'a', 'content': 653766},\n      'tag': '035'},\n     {'ind2': ' ',\n      'ind1': ' ',\n      'subfield': [{'code': 'a', 'content': 'NNCU:A'},\n       {'code': 'b', 'content': 'eng'},\n       {'code': 'c', 'content': 'NNCU:A'},\n       {'code': 'd', 'content': 'AUC:LSM'}],\n      'tag': '040'},\n     {'ind2': ' ',\n      'ind1': ' ',\n      'subfield': {'code': 'a', 'content': 'anuc'},\n      'tag': '042'},\n     {'ind2': ' ',\n      'ind1': ' ',\n      'subfield': {'code': 'a', 'content': 'u-at-vi'},\n      'tag': '043'},\n     {'ind2': 4,\n      'ind1': 0,\n      'subfield': [{'code': 'a', 'content': '994.5/03'},\n       {'code': 2, 'content': 19}],\n      'tag': '082'},\n     {'ind2': ' ',\n      'ind1': 1,\n      'subfield': [{'code': 'a', 'content': 'Salisbury, Robert Cecil,'},\n       {'code': 'c', 'content': 'marquess of,'},\n       {'code': 'd', 'content': '1830-1903.'},\n       {'code': 0, 'content': 338373},\n       {'code': 9, 'content': '9112d83c-f87f-5a34-a022-bea98d9ee823'}],\n      'tag': 100},\n     {'ind2': 0,\n      'ind1': 1,\n      'subfield': [{'code': 'a',\n        'content': \"Lord Robert Cecil's gold fields diary /\"},\n       {'code': 'c',\n        'content': 'with introduction and notes by Sir Ernest Scott.'}],\n      'tag': 245},\n     {'ind2': ' ',\n      'ind1': ' ',\n      'subfield': {'code': 'a', 'content': '2nd ed.'},\n      'tag': 250},\n     {'ind2': ' ',\n      'ind1': ' ',\n      'subfield': [{'code': 'a', 'content': 'Carlton, Vic. :'},\n       {'code': 'b', 'content': 'Melbourne University Press,'},\n       {'code': 'c', 'content': 1945}],\n      'tag': 260},\n     {'ind2': ' ',\n      'ind1': ' ',\n      'subfield': [{'code': 'a', 'content': '32 p., [20] p. of plates :'},\n       {'code': 'b', 'content': 'ill. ;'},\n       {'code': 'c', 'content': '18 cm.'}],\n      'tag': 300},\n     {'ind2': ' ',\n      'ind1': ' ',\n      'subfield': [{'code': 'a', 'content': 'Also available online'},\n       {'code': 'u', 'content': 'http://nla.gov.au/nla.obj-362059651'}],\n      'tag': 530},\n     {'ind2': 0,\n      'ind1': 1,\n      'subfield': [{'code': 'a', 'content': 'Salisbury, Robert Cecil,'},\n       {'code': 'c', 'content': 'marquess of,'},\n       {'code': 'd', 'content': '1830-1903.'}],\n      'tag': 600},\n     {'ind2': 0,\n      'ind1': ' ',\n      'subfield': [{'code': 'a', 'content': 'Gold mines and mining'},\n       {'code': 'z', 'content': 'Victoria.'}],\n      'tag': 650},\n     {'ind2': 0,\n      'ind1': ' ',\n      'subfield': [{'code': 'a', 'content': 'Victoria'},\n       {'code': 'x', 'content': 'Description and travel.'}],\n      'tag': 651},\n     {'ind2': ' ',\n      'ind1': 1,\n      'subfield': [{'code': 'a', 'content': 'Scott, Ernest,'},\n       {'code': 'd', 'content': '1868-1939.'}],\n      'tag': 700},\n     {'ind2': 1,\n      'ind1': 4,\n      'subfield': [{'code': 'z',\n        'content': 'National Library of Australia digitised item. JAFp BIO 92 copy'},\n       {'code': 'u', 'content': 'http://nla.gov.au/nla.obj-362059651'},\n       {'code': 'x', 'content': 'fulltext'}],\n      'tag': 856},\n     {'ind2': 'f',\n      'ind1': 'f',\n      'subfield': [{'code': 'i',\n        'content': '2c2be5dd-982b-5020-ac7c-f8820fc3ae34'},\n       {'code': 's', 'content': 'b08c2134-2fff-5812-bdd3-a55d68f73fa1'}],\n      'tag': 999}],\n    'controlfield': [{'tag': '001', 'content': 653766},\n     {'tag': '005', 'content': 20230828121255.5},\n     {'tag': '008', 'content': '830518s1945    vraa          000 0aeng d'}]},\n   {'leader': {'type': 'Holdings', 'content': '00000nam a2200000 a 4500'},\n    'datafield': [{'ind2': ' ',\n      'ind1': 8,\n      'subfield': [{'code': 'b', 'content': 'AUSP'},\n       {'code': 'h', 'content': 'Np 994.5 SAL'}],\n      'tag': 852},\n     {'ind2': 0,\n      'ind1': ' ',\n      'subfield': {'code': 'z', 'content': 'N pbk'},\n      'tag': 866},\n     {'ind2': ' ',\n      'ind1': ' ',\n      'subfield': {'code': 'a', 'content': 'NLA'},\n      'tag': 954}],\n    'controlfield': [{'tag': '001', 'content': 2912182},\n     {'tag': '004', 'content': 653766}]},\n   {'leader': {'type': 'Holdings', 'content': '00000nam a2200000 a 4500'},\n    'datafield': [{'ind2': ' ',\n      'ind1': 8,\n      'subfield': [{'code': 'b', 'content': 'PET'},\n       {'code': 'h', 'content': 'JAFp BIO 92'}],\n      'tag': 852},\n     {'ind2': ' ',\n      'ind1': ' ',\n      'subfield': {'code': 'a', 'content': 'NLA'},\n      'tag': 954}],\n    'controlfield': [{'tag': '001', 'content': 2912183},\n     {'tag': '004', 'content': 653766}]},\n   {'leader': {'type': 'Holdings', 'content': '00000nam a2200000 a 4500'},\n    'datafield': [{'ind2': ' ',\n      'ind1': 8,\n      'subfield': [{'code': 'b', 'content': 'PET'},\n       {'code': 'h', 'content': 'JAFp GEN SAL'}],\n      'tag': 852},\n     {'ind2': 0,\n      'ind1': ' ',\n      'subfield': {'code': 'z', 'content': 'FC copy'},\n      'tag': 866},\n     {'ind2': ' ',\n      'ind1': ' ',\n      'subfield': {'code': 'a', 'content': 'NLA'},\n      'tag': 954}],\n    'controlfield': [{'tag': '001', 'content': 2912184},\n     {'tag': '004', 'content': 653766}]},\n   {'leader': {'type': 'Holdings', 'content': '00000nam a2200000 a 4500'},\n    'datafield': [{'ind2': ' ',\n      'ind1': 8,\n      'subfield': [{'code': 'b', 'content': 'AUSLP'},\n       {'code': 'h', 'content': 'NLp 994.5 SAL'}],\n      'tag': 852},\n     {'ind2': 0,\n      'ind1': ' ',\n      'subfield': {'code': 'z', 'content': 'NL pbk'},\n      'tag': 866},\n     {'ind2': ' ',\n      'ind1': ' ',\n      'subfield': {'code': 'a', 'content': 'NLA'},\n      'tag': 954}],\n    'controlfield': [{'tag': '001', 'content': 4042315},\n     {'tag': '004', 'content': 653766}]}]},\n 'children': {'page': [{'id': '36205990',\n    'subType': 'page',\n    'title': \"Lord Robert Cecil's gold fields diary\",\n    'bibId': '653766',\n    'pid': 'nla.obj-362059904',\n    'form': 'Book',\n    'accessConditions': 'Unrestricted',\n    'copyrightPolicy': 'Out of Copyright',\n    'bibLevel': 'Part',\n    'digitalStatus': 'Captured',\n    'holdingNumber': 'JAFp BIO 92',\n    'copies': [{'copyrole': 'access',\n      'blobId': 11551350,\n      'filename': None,\n      'filesize': 357765,\n      'technicalmetadata': {'width': 1926, 'height': 2840}},\n     {'copyrole': 'm', 'access': 'false', 'filesize': 16436560}]},\n   {'id': '36206003',\n    'subType': 'page',\n    'title': \"Lord Robert Cecil's gold fields diary\",\n    'bibId': '653766',\n    'pid': 'nla.obj-362060036',\n    'form': 'Book',\n    'accessConditions': 'Unrestricted',\n    'copyrightPolicy': 'Out of Copyright',\n    'bibLevel': 'Part',\n    'digitalStatus': 'Captured',\n    'holdingNumber': 'JAFp BIO 92',\n    'copies': [{'copyrole': 'access',\n      'blobId': 11551354,\n      'filename': None,\n      'filesize': 325233,\n      'technicalmetadata': {'width': 1743, 'height': 2808}},\n     {'copyrole': 'm', 'access': 'false', 'filesize': 14709600}]},\n   {'id': '36206017',\n    'subType': 'page',\n    'title': \"Lord Robert Cecil's gold fields diary\",\n    'bibId': '653766',\n    'pid': 'nla.obj-362060175',\n    'form': 'Book',\n    'accessConditions': 'Unrestricted',\n    'copyrightPolicy': 'Out of Copyright',\n    'bibLevel': 'Part',\n    'digitalStatus': 'Captured',\n    'holdingNumber': 'JAFp BIO 92',\n    'copies': [{'copyrole': 'access',\n      'blobId': 11551358,\n      'filename': None,\n      'filesize': 332757,\n      'technicalmetadata': {'width': 1766, 'height': 2822}},\n     {'copyrole': 'm', 'access': 'false', 'filesize': 14976176}]},\n   {'id': '36206030',\n    'subType': 'page',\n    'title': \"Lord Robert Cecil's gold fields diary\",\n    'bibId': '653766',\n    'pid': 'nla.obj-362060307',\n    'form': 'Book',\n    'accessConditions': 'Unrestricted',\n    'copyrightPolicy': 'Out of Copyright',\n    'bibLevel': 'Part',\n    'digitalStatus': 'Captured',\n    'holdingNumber': 'JAFp BIO 92',\n    'copies': [{'copyrole': 'access',\n      'blobId': 11551362,\n      'filename': None,\n      'filesize': 290972,\n      'technicalmetadata': {'width': 1642, 'height': 2649}},\n     {'copyrole': 'm', 'access': 'false', 'filesize': 13074028}]},\n   {'id': '36206043',\n    'subType': 'page',\n    'title': \"Lord Robert Cecil's gold fields diary\",\n    'bibId': '653766',\n    'pid': 'nla.obj-362060433',\n    'form': 'Book',\n    'accessConditions': 'Unrestricted',\n    'copyrightPolicy': 'Out of Copyright',\n    'bibLevel': 'Part',\n    'digitalStatus': 'Captured',\n    'holdingNumber': 'JAFp BIO 92',\n    'copies': [{'copyrole': 'access',\n      'blobId': 11551366,\n      'filename': None,\n      'filesize': 316353,\n      'technicalmetadata': {'width': 1694, 'height': 2798}},\n     {'copyrole': 'm', 'access': 'false', 'filesize': 14244196}]},\n   {'id': '36206056',\n    'subType': 'page',\n    'title': \"Lord Robert Cecil's gold fields diary\",\n    'bibId': '653766',\n    'pid': 'nla.obj-362060563',\n    'form': 'Book',\n    'accessConditions': 'Unrestricted',\n    'copyrightPolicy': 'Out of Copyright',\n    'bibLevel': 'Part',\n    'digitalStatus': 'Captured',\n    'holdingNumber': 'JAFp BIO 92',\n    'copies': [{'copyrole': 'access',\n      'blobId': 11551370,\n      'filename': None,\n      'filesize': 308812,\n      'technicalmetadata': {'width': 1678, 'height': 2739}},\n     {'copyrole': 'm', 'access': 'false', 'filesize': 13813536}]},\n   {'id': '36206069',\n    'subType': 'page',\n    'title': \"Lord Robert Cecil's gold fields diary\",\n    'bibId': '653766',\n    'pid': 'nla.obj-362060694',\n    'form': 'Book',\n    'accessConditions': 'Unrestricted',\n    'copyrightPolicy': 'Out of Copyright',\n    'bibLevel': 'Part',\n    'digitalStatus': 'Captured',\n    'holdingNumber': 'JAFp BIO 92',\n    'copies': [{'copyrole': 'access',\n      'blobId': 11551374,\n      'filename': None,\n      'filesize': 315081,\n      'technicalmetadata': {'width': 1688, 'height': 2792}},\n     {'copyrole': 'm', 'access': 'false', 'filesize': 14165840}]},\n   {'id': '36206082',\n    'subType': 'page',\n    'title': \"Lord Robert Cecil's gold fields diary\",\n    'bibId': '653766',\n    'pid': 'nla.obj-362060828',\n    'form': 'Book',\n    'accessConditions': 'Unrestricted',\n    'copyrightPolicy': 'Out of Copyright',\n    'bibLevel': 'Part',\n    'digitalStatus': 'Captured',\n    'holdingNumber': 'JAFp BIO 92',\n    'copies': [{'copyrole': 'access',\n      'blobId': 11551378,\n      'filename': None,\n      'filesize': 314714,\n      'technicalmetadata': {'width': 1690, 'height': 2782}},\n     {'copyrole': 'm', 'access': 'false', 'filesize': 14129776}]},\n   {'id': '36206095',\n    'subType': 'page',\n    'title': \"Lord Robert Cecil's gold fields diary\",\n    'bibId': '653766',\n    'pid': 'nla.obj-362060959',\n    'form': 'Book',\n    'accessConditions': 'Unrestricted',\n    'copyrightPolicy': 'Out of Copyright',\n    'bibLevel': 'Part',\n    'digitalStatus': 'Captured',\n    'holdingNumber': 'JAFp BIO 92',\n    'copies': [{'copyrole': 'access',\n      'blobId': 11551382,\n      'filename': None,\n      'filesize': 315411,\n      'technicalmetadata': {'width': 1700, 'height': 2792}},\n     {'copyrole': 'm', 'access': 'false', 'filesize': 14266964}]},\n   {'id': '36206108',\n    'subType': 'page',\n    'title': \"Lord Robert Cecil's gold fields diary\",\n    'bibId': '653766',\n    'pid': 'nla.obj-362061083',\n    'form': 'Book',\n    'accessConditions': 'Unrestricted',\n    'copyrightPolicy': 'Out of Copyright',\n    'bibLevel': 'Part',\n    'digitalStatus': 'Captured',\n    'holdingNumber': 'JAFp BIO 92',\n    'copies': [{'copyrole': 'access',\n      'blobId': 11551386,\n      'filename': None,\n      'filesize': 310531,\n      'technicalmetadata': {'width': 1674, 'height': 2783}},\n     {'copyrole': 'm', 'access': 'false', 'filesize': 14004236}]},\n   {'id': '36206121',\n    'subType': 'page',\n    'title': \"Lord Robert Cecil's gold fields diary\",\n    'bibId': '653766',\n    'pid': 'nla.obj-362061212',\n    'form': 'Book',\n    'accessConditions': 'Unrestricted',\n    'copyrightPolicy': 'Out of Copyright',\n    'bibLevel': 'Part',\n    'digitalStatus': 'Captured',\n    'holdingNumber': 'JAFp BIO 92',\n    'copies': [{'copyrole': 'access',\n      'blobId': 11551390,\n      'filename': None,\n      'filesize': 316813,\n      'technicalmetadata': {'width': 1706, 'height': 2804}},\n     {'copyrole': 'm', 'access': 'false', 'filesize': 14378908}]},\n   {'id': '36206134',\n    'subType': 'page',\n    'title': \"Lord Robert Cecil's gold fields diary\",\n    'bibId': '653766',\n    'pid': 'nla.obj-362061349',\n    'form': 'Book',\n    'accessConditions': 'Unrestricted',\n    'copyrightPolicy': 'Out of Copyright',\n    'bibLevel': 'Part',\n    'digitalStatus': 'Captured',\n    'holdingNumber': 'JAFp BIO 92',\n    'copies': [{'copyrole': 'access',\n      'blobId': 11551394,\n      'filename': None,\n      'filesize': 309855,\n      'technicalmetadata': {'width': 1670, 'height': 2796}},\n     {'copyrole': 'm', 'access': 'false', 'filesize': 14036000}]},\n   {'id': '36206147',\n    'subType': 'page',\n    'title': \"Lord Robert Cecil's gold fields diary\",\n    'bibId': '653766',\n    'pid': 'nla.obj-362061476',\n    'form': 'Book',\n    'accessConditions': 'Unrestricted',\n    'copyrightPolicy': 'Out of Copyright',\n    'bibLevel': 'Part',\n    'digitalStatus': 'Captured',\n    'holdingNumber': 'JAFp BIO 92',\n    'copies': [{'copyrole': 'access',\n      'blobId': 11551398,\n      'filename': None,\n      'filesize': 321690,\n      'technicalmetadata': {'width': 1706, 'height': 2822}},\n     {'copyrole': 'm', 'access': 'false', 'filesize': 14469512}]},\n   {'id': '36206160',\n    'subType': 'page',\n    'title': \"Lord Robert Cecil's gold fields diary\",\n    'bibId': '653766',\n    'pid': 'nla.obj-362061603',\n    'form': 'Book',\n    'accessConditions': 'Unrestricted',\n    'copyrightPolicy': 'Out of Copyright',\n    'bibLevel': 'Part',\n    'digitalStatus': 'Captured',\n    'holdingNumber': 'JAFp BIO 92',\n    'copies': [{'copyrole': 'access',\n      'blobId': 11551402,\n      'filename': None,\n      'filesize': 302721,\n      'technicalmetadata': {'width': 1645, 'height': 2750}},\n     {'copyrole': 'm', 'access': 'false', 'filesize': 13599008}]},\n   {'id': '36206173',\n    'subType': 'page',\n    'title': \"Lord Robert Cecil's gold fields diary\",\n    'bibId': '653766',\n    'pid': 'nla.obj-362061731',\n    'form': 'Book',\n    'accessConditions': 'Unrestricted',\n    'copyrightPolicy': 'Out of Copyright',\n    'bibLevel': 'Part',\n    'digitalStatus': 'Captured',\n    'holdingNumber': 'JAFp BIO 92',\n    'copies': [{'copyrole': 'access',\n      'blobId': 11551406,\n      'filename': None,\n      'filesize': 302730,\n      'technicalmetadata': {'width': 1661, 'height': 2743}},\n     {'copyrole': 'm', 'access': 'false', 'filesize': 13696764}]},\n   {'id': '36206186',\n    'subType': 'page',\n    'title': \"Lord Robert Cecil's gold fields diary\",\n    'bibId': '653766',\n    'pid': 'nla.obj-362061862',\n    'form': 'Book',\n    'accessConditions': 'Unrestricted',\n    'copyrightPolicy': 'Out of Copyright',\n    'bibLevel': 'Part',\n    'digitalStatus': 'Captured',\n    'holdingNumber': 'JAFp BIO 92',\n    'copies': [{'copyrole': 'access',\n      'blobId': 11551410,\n      'filename': None,\n      'filesize': 309234,\n      'technicalmetadata': {'width': 1669, 'height': 2783}},\n     {'copyrole': 'm', 'access': 'false', 'filesize': 13962668}]},\n   {'id': '36206199',\n    'subType': 'page',\n    'title': \"Lord Robert Cecil's gold fields diary\",\n    'bibId': '653766',\n    'pid': 'nla.obj-362061995',\n    'form': 'Book',\n    'accessConditions': 'Unrestricted',\n    'copyrightPolicy': 'Out of Copyright',\n    'bibLevel': 'Part',\n    'digitalStatus': 'Captured',\n    'holdingNumber': 'JAFp BIO 92',\n    'copies': [{'copyrole': 'access',\n      'blobId': 11551414,\n      'filename': None,\n      'filesize': 318131,\n      'technicalmetadata': {'width': 1694, 'height': 2822}},\n     {'copyrole': 'm', 'access': 'false', 'filesize': 14369336}]},\n   {'id': '36206212',\n    'subType': 'page',\n    'title': \"Lord Robert Cecil's gold fields diary\",\n    'bibId': '653766',\n    'pid': 'nla.obj-362062124',\n    'form': 'Book',\n    'accessConditions': 'Unrestricted',\n    'copyrightPolicy': 'Out of Copyright',\n    'bibLevel': 'Part',\n    'digitalStatus': 'Captured',\n    'holdingNumber': 'JAFp BIO 92',\n    'copies': [{'copyrole': 'access',\n      'blobId': 11551418,\n      'filename': None,\n      'filesize': 307502,\n      'technicalmetadata': {'width': 1665, 'height': 2787}},\n     {'copyrole': 'm', 'access': 'false', 'filesize': 13949196}]},\n   {'id': '36206225',\n    'subType': 'page',\n    'title': \"Lord Robert Cecil's gold fields diary\",\n    'bibId': '653766',\n    'pid': 'nla.obj-362062250',\n    'form': 'Book',\n    'accessConditions': 'Unrestricted',\n    'copyrightPolicy': 'Out of Copyright',\n    'bibLevel': 'Part',\n    'digitalStatus': 'Captured',\n    'holdingNumber': 'JAFp BIO 92',\n    'copies': [{'copyrole': 'access',\n      'blobId': 11551422,\n      'filename': None,\n      'filesize': 310439,\n      'technicalmetadata': {'width': 1664, 'height': 2822}},\n     {'copyrole': 'm', 'access': 'false', 'filesize': 14114880}]},\n   {'id': '36206238',\n    'subType': 'page',\n    'title': \"Lord Robert Cecil's gold fields diary\",\n    'bibId': '653766',\n    'pid': 'nla.obj-362062384',\n    'form': 'Book',\n    'accessConditions': 'Unrestricted',\n    'copyrightPolicy': 'Out of Copyright',\n    'bibLevel': 'Part',\n    'digitalStatus': 'Captured',\n    'holdingNumber': 'JAFp BIO 92',\n    'copies': [{'copyrole': 'access',\n      'blobId': 11551426,\n      'filename': None,\n      'filesize': 301196,\n      'technicalmetadata': {'width': 1648, 'height': 2763}},\n     {'copyrole': 'm', 'access': 'false', 'filesize': 13687828}]},\n   {'id': '36206251',\n    'subType': 'page',\n    'title': \"Lord Robert Cecil's gold fields diary\",\n    'bibId': '653766',\n    'pid': 'nla.obj-362062514',\n    'form': 'Book',\n    'accessConditions': 'Unrestricted',\n    'copyrightPolicy': 'Out of Copyright',\n    'bibLevel': 'Part',\n    'digitalStatus': 'Captured',\n    'holdingNumber': 'JAFp BIO 92',\n    'copies': [{'copyrole': 'access',\n      'blobId': 11551430,\n      'filename': None,\n      'filesize': 309281,\n      'technicalmetadata': {'width': 1666, 'height': 2775}},\n     {'copyrole': 'm', 'access': 'false', 'filesize': 13897256}]},\n   {'id': '36206264',\n    'subType': 'page',\n    'title': \"Lord Robert Cecil's gold fields diary\",\n    'bibId': '653766',\n    'pid': 'nla.obj-362062649',\n    'form': 'Book',\n    'accessConditions': 'Unrestricted',\n    'copyrightPolicy': 'Out of Copyright',\n    'bibLevel': 'Part',\n    'digitalStatus': 'Captured',\n    'holdingNumber': 'JAFp BIO 92',\n    'copies': [{'copyrole': 'access',\n      'blobId': 11551434,\n      'filename': None,\n      'filesize': 305751,\n      'technicalmetadata': {'width': 1630, 'height': 2806}},\n     {'copyrole': 'm', 'access': 'false', 'filesize': 13748248}]},\n   {'id': '36206277',\n    'subType': 'page',\n    'title': \"Lord Robert Cecil's gold fields diary\",\n    'bibId': '653766',\n    'pid': 'nla.obj-362062779',\n    'form': 'Book',\n    'accessConditions': 'Unrestricted',\n    'copyrightPolicy': 'Out of Copyright',\n    'bibLevel': 'Part',\n    'digitalStatus': 'Captured',\n    'holdingNumber': 'JAFp BIO 92',\n    'copies': [{'copyrole': 'access',\n      'blobId': 11551438,\n      'filename': None,\n      'filesize': 308294,\n      'technicalmetadata': {'width': 1640, 'height': 2796}},\n     {'copyrole': 'm', 'access': 'false', 'filesize': 13783776}]},\n   {'id': '36206290',\n    'subType': 'page',\n    'title': \"Lord Robert Cecil's gold fields diary\",\n    'bibId': '653766',\n    'pid': 'nla.obj-362062905',\n    'form': 'Book',\n    'accessConditions': 'Unrestricted',\n    'copyrightPolicy': 'Out of Copyright',\n    'bibLevel': 'Part',\n    'digitalStatus': 'Captured',\n    'holdingNumber': 'JAFp BIO 92',\n    'copies': [{'copyrole': 'access',\n      'blobId': 11551442,\n      'filename': None,\n      'filesize': 305747,\n      'technicalmetadata': {'width': 1612, 'height': 2830}},\n     {'copyrole': 'm', 'access': 'false', 'filesize': 13713280}]},\n   {'id': '36206303',\n    'subType': 'page',\n    'title': \"Lord Robert Cecil's gold fields diary\",\n    'bibId': '653766',\n    'pid': 'nla.obj-362063031',\n    'form': 'Book',\n    'accessConditions': 'Unrestricted',\n    'copyrightPolicy': 'Out of Copyright',\n    'bibLevel': 'Part',\n    'digitalStatus': 'Captured',\n    'holdingNumber': 'JAFp BIO 92',\n    'copies': [{'copyrole': 'access',\n      'blobId': 11551446,\n      'filename': None,\n      'filesize': 306590,\n      'technicalmetadata': {'width': 1640, 'height': 2797}},\n     {'copyrole': 'm', 'access': 'false', 'filesize': 13788724}]},\n   {'id': '36206316',\n    'subType': 'page',\n    'title': \"Lord Robert Cecil's gold fields diary\",\n    'bibId': '653766',\n    'pid': 'nla.obj-362063165',\n    'form': 'Book',\n    'accessConditions': 'Unrestricted',\n    'copyrightPolicy': 'Out of Copyright',\n    'bibLevel': 'Part',\n    'digitalStatus': 'Captured',\n    'holdingNumber': 'JAFp BIO 92',\n    'copies': [{'copyrole': 'access',\n      'blobId': 11551450,\n      'filename': None,\n      'filesize': 299724,\n      'technicalmetadata': {'width': 1625, 'height': 2789}},\n     {'copyrole': 'm', 'access': 'false', 'filesize': 13623720}]},\n   {'id': '36206329',\n    'subType': 'page',\n    'title': \"Lord Robert Cecil's gold fields diary\",\n    'bibId': '653766',\n    'pid': 'nla.obj-362063296',\n    'form': 'Book',\n    'accessConditions': 'Unrestricted',\n    'copyrightPolicy': 'Out of Copyright',\n    'bibLevel': 'Part',\n    'digitalStatus': 'Captured',\n    'holdingNumber': 'JAFp BIO 92',\n    'copies': [{'copyrole': 'access',\n      'blobId': 11551454,\n      'filename': None,\n      'filesize': 295007,\n      'technicalmetadata': {'width': 1595, 'height': 2737}},\n     {'copyrole': 'm', 'access': 'false', 'filesize': 13124464}]},\n   {'id': '36206342',\n    'subType': 'page',\n    'title': \"Lord Robert Cecil's gold fields diary\",\n    'bibId': '653766',\n    'pid': 'nla.obj-362063426',\n    'form': 'Book',\n    'accessConditions': 'Unrestricted',\n    'copyrightPolicy': 'Out of Copyright',\n    'bibLevel': 'Part',\n    'digitalStatus': 'Captured',\n    'holdingNumber': 'JAFp BIO 92',\n    'copies': [{'copyrole': 'access',\n      'blobId': 11551458,\n      'filename': None,\n      'filesize': 297779,\n      'technicalmetadata': {'width': 1588, 'height': 2812}},\n     {'copyrole': 'm', 'access': 'false', 'filesize': 13423928}]},\n   {'id': '36206355',\n    'subType': 'page',\n    'title': \"Lord Robert Cecil's gold fields diary\",\n    'bibId': '653766',\n    'pid': 'nla.obj-362063555',\n    'form': 'Book',\n    'accessConditions': 'Unrestricted',\n    'copyrightPolicy': 'Out of Copyright',\n    'bibLevel': 'Part',\n    'digitalStatus': 'Captured',\n    'holdingNumber': 'JAFp BIO 92',\n    'copies': [{'copyrole': 'access',\n      'blobId': 11551462,\n      'filename': None,\n      'filesize': 296505,\n      'technicalmetadata': {'width': 1609, 'height': 2771}},\n     {'copyrole': 'm', 'access': 'false', 'filesize': 13402596}]},\n   {'id': '36206368',\n    'subType': 'page',\n    'title': \"Lord Robert Cecil's gold fields diary\",\n    'bibId': '653766',\n    'pid': 'nla.obj-362063681',\n    'form': 'Book',\n    'accessConditions': 'Unrestricted',\n    'copyrightPolicy': 'Out of Copyright',\n    'bibLevel': 'Part',\n    'digitalStatus': 'Captured',\n    'holdingNumber': 'JAFp BIO 92',\n    'copies': [{'copyrole': 'access',\n      'blobId': 11551466,\n      'filename': None,\n      'filesize': 295690,\n      'technicalmetadata': {'width': 1601, 'height': 2749}},\n     {'copyrole': 'm', 'access': 'false', 'filesize': 13230876}]},\n   {'id': '36206381',\n    'subType': 'page',\n    'title': \"Lord Robert Cecil's gold fields diary\",\n    'bibId': '653766',\n    'pid': 'nla.obj-362063813',\n    'form': 'Book',\n    'accessConditions': 'Unrestricted',\n    'copyrightPolicy': 'Out of Copyright',\n    'bibLevel': 'Part',\n    'digitalStatus': 'Captured',\n    'holdingNumber': 'JAFp BIO 92',\n    'copies': [{'copyrole': 'access',\n      'blobId': 11551470,\n      'filename': None,\n      'filesize': 295336,\n      'technicalmetadata': {'width': 1602, 'height': 2732}},\n     {'copyrole': 'm', 'access': 'false', 'filesize': 13157308}]},\n   {'id': '36206394',\n    'subType': 'page',\n    'title': \"Lord Robert Cecil's gold fields diary\",\n    'bibId': '653766',\n    'pid': 'nla.obj-362063942',\n    'form': 'Book',\n    'accessConditions': 'Unrestricted',\n    'copyrightPolicy': 'Out of Copyright',\n    'bibLevel': 'Part',\n    'digitalStatus': 'Captured',\n    'holdingNumber': 'JAFp BIO 92',\n    'copies': [{'copyrole': 'access',\n      'blobId': 11551474,\n      'filename': None,\n      'filesize': 297440,\n      'technicalmetadata': {'width': 1594, 'height': 2794}},\n     {'copyrole': 'm', 'access': 'false', 'filesize': 13388024}]},\n   {'id': '36206407',\n    'subType': 'page',\n    'title': \"Lord Robert Cecil's gold fields diary\",\n    'bibId': '653766',\n    'pid': 'nla.obj-362064075',\n    'form': 'Book',\n    'accessConditions': 'Unrestricted',\n    'copyrightPolicy': 'Out of Copyright',\n    'bibLevel': 'Part',\n    'digitalStatus': 'Captured',\n    'holdingNumber': 'JAFp BIO 92',\n    'copies': [{'copyrole': 'access',\n      'blobId': 11551478,\n      'filename': None,\n      'filesize': 289403,\n      'technicalmetadata': {'width': 1569, 'height': 2764}},\n     {'copyrole': 'm', 'access': 'false', 'filesize': 13037244}]},\n   {'id': '36206420',\n    'subType': 'page',\n    'title': \"Lord Robert Cecil's gold fields diary\",\n    'bibId': '653766',\n    'pid': 'nla.obj-362064205',\n    'form': 'Book',\n    'accessConditions': 'Unrestricted',\n    'copyrightPolicy': 'Out of Copyright',\n    'bibLevel': 'Part',\n    'digitalStatus': 'Captured',\n    'holdingNumber': 'JAFp BIO 92',\n    'copies': [{'copyrole': 'access',\n      'blobId': 11551482,\n      'filename': None,\n      'filesize': 294963,\n      'technicalmetadata': {'width': 1593, 'height': 2786}},\n     {'copyrole': 'm', 'access': 'false', 'filesize': 13341424}]},\n   {'id': '36206433',\n    'subType': 'page',\n    'title': \"Lord Robert Cecil's gold fields diary\",\n    'bibId': '653766',\n    'pid': 'nla.obj-362064331',\n    'form': 'Book',\n    'accessConditions': 'Unrestricted',\n    'copyrightPolicy': 'Out of Copyright',\n    'bibLevel': 'Part',\n    'digitalStatus': 'Captured',\n    'holdingNumber': 'JAFp BIO 92',\n    'copies': [{'copyrole': 'access',\n      'blobId': 11551486,\n      'filename': None,\n      'filesize': 300005,\n      'technicalmetadata': {'width': 1599, 'height': 2784}},\n     {'copyrole': 'm', 'access': 'false', 'filesize': 13381884}]},\n   {'id': '36206446',\n    'subType': 'page',\n    'title': \"Lord Robert Cecil's gold fields diary\",\n    'bibId': '653766',\n    'pid': 'nla.obj-362064462',\n    'form': 'Book',\n    'accessConditions': 'Unrestricted',\n    'copyrightPolicy': 'Out of Copyright',\n    'bibLevel': 'Part',\n    'digitalStatus': 'Captured',\n    'holdingNumber': 'JAFp BIO 92',\n    'copies': [{'copyrole': 'access',\n      'blobId': 11551490,\n      'filename': None,\n      'filesize': 295397,\n      'technicalmetadata': {'width': 1599, 'height': 2778}},\n     {'copyrole': 'm', 'access': 'false', 'filesize': 13353752}]},\n   {'id': '36206459',\n    'subType': 'page',\n    'title': \"Lord Robert Cecil's gold fields diary\",\n    'bibId': '653766',\n    'pid': 'nla.obj-362064599',\n    'form': 'Book',\n    'accessConditions': 'Unrestricted',\n    'copyrightPolicy': 'Out of Copyright',\n    'bibLevel': 'Part',\n    'digitalStatus': 'Captured',\n    'holdingNumber': 'JAFp BIO 92',\n    'copies': [{'copyrole': 'access',\n      'blobId': 11551494,\n      'filename': None,\n      'filesize': 293873,\n      'technicalmetadata': {'width': 1584, 'height': 2754}},\n     {'copyrole': 'm', 'access': 'false', 'filesize': 13114076}]},\n   {'id': '36206472',\n    'subType': 'page',\n    'title': \"Lord Robert Cecil's gold fields diary\",\n    'bibId': '653766',\n    'pid': 'nla.obj-362064729',\n    'form': 'Book',\n    'accessConditions': 'Unrestricted',\n    'copyrightPolicy': 'Out of Copyright',\n    'bibLevel': 'Part',\n    'digitalStatus': 'Captured',\n    'holdingNumber': 'JAFp BIO 92',\n    'copies': [{'copyrole': 'access',\n      'blobId': 11551498,\n      'filename': None,\n      'filesize': 289866,\n      'technicalmetadata': {'width': 1554, 'height': 2783}},\n     {'copyrole': 'm', 'access': 'false', 'filesize': 13001488}]},\n   {'id': '36206485',\n    'subType': 'page',\n    'title': \"Lord Robert Cecil's gold fields diary\",\n    'bibId': '653766',\n    'pid': 'nla.obj-362064858',\n    'form': 'Book',\n    'accessConditions': 'Unrestricted',\n    'copyrightPolicy': 'Out of Copyright',\n    'bibLevel': 'Part',\n    'digitalStatus': 'Captured',\n    'holdingNumber': 'JAFp BIO 92',\n    'copies': [{'copyrole': 'access',\n      'blobId': 11551502,\n      'filename': None,\n      'filesize': 300002,\n      'technicalmetadata': {'width': 1639, 'height': 2761}},\n     {'copyrole': 'm', 'access': 'false', 'filesize': 13603936}]},\n   {'id': '36206498',\n    'subType': 'page',\n    'title': \"Lord Robert Cecil's gold fields diary\",\n    'bibId': '653766',\n    'pid': 'nla.obj-362064987',\n    'form': 'Book',\n    'accessConditions': 'Unrestricted',\n    'copyrightPolicy': 'Out of Copyright',\n    'bibLevel': 'Part',\n    'digitalStatus': 'Captured',\n    'holdingNumber': 'JAFp BIO 92',\n    'copies': [{'copyrole': 'access',\n      'blobId': 11551506,\n      'filename': None,\n      'filesize': 317983,\n      'technicalmetadata': {'width': 1738, 'height': 2754}},\n     {'copyrole': 'm', 'access': 'false', 'filesize': 14387576}]},\n   {'id': '36206511',\n    'subType': 'page',\n    'title': \"Lord Robert Cecil's gold fields diary\",\n    'bibId': '653766',\n    'pid': 'nla.obj-362065113',\n    'form': 'Book',\n    'accessConditions': 'Unrestricted',\n    'copyrightPolicy': 'Out of Copyright',\n    'bibLevel': 'Part',\n    'digitalStatus': 'Captured',\n    'holdingNumber': 'JAFp BIO 92',\n    'copies': [{'copyrole': 'access',\n      'blobId': 11551510,\n      'filename': None,\n      'filesize': 322407,\n      'technicalmetadata': {'width': 1728, 'height': 2786}},\n     {'copyrole': 'm', 'access': 'false', 'filesize': 14470684}]},\n   {'id': '36206524',\n    'subType': 'page',\n    'title': \"Lord Robert Cecil's gold fields diary\",\n    'bibId': '653766',\n    'pid': 'nla.obj-362065244',\n    'form': 'Book',\n    'accessConditions': 'Unrestricted',\n    'copyrightPolicy': 'Out of Copyright',\n    'bibLevel': 'Part',\n    'digitalStatus': 'Captured',\n    'holdingNumber': 'JAFp BIO 92',\n    'copies': [{'copyrole': 'access',\n      'blobId': 11551514,\n      'filename': None,\n      'filesize': 333367,\n      'technicalmetadata': {'width': 1762, 'height': 2830}},\n     {'copyrole': 'm', 'access': 'false', 'filesize': 14987704}]},\n   {'id': '36206537',\n    'subType': 'page',\n    'title': \"Lord Robert Cecil's gold fields diary\",\n    'bibId': '653766',\n    'pid': 'nla.obj-362065373',\n    'form': 'Book',\n    'accessConditions': 'Unrestricted',\n    'copyrightPolicy': 'Out of Copyright',\n    'bibLevel': 'Part',\n    'digitalStatus': 'Captured',\n    'holdingNumber': 'JAFp BIO 92',\n    'copies': [{'copyrole': 'access',\n      'blobId': 11551518,\n      'filename': None,\n      'filesize': 330449,\n      'technicalmetadata': {'width': 1754, 'height': 2822}},\n     {'copyrole': 'm', 'access': 'false', 'filesize': 14877328}]},\n   {'id': '36206550',\n    'subType': 'page',\n    'title': \"Lord Robert Cecil's gold fields diary\",\n    'bibId': '653766',\n    'pid': 'nla.obj-362065503',\n    'form': 'Book',\n    'accessConditions': 'Unrestricted',\n    'copyrightPolicy': 'Out of Copyright',\n    'bibLevel': 'Part',\n    'digitalStatus': 'Captured',\n    'holdingNumber': 'JAFp BIO 92',\n    'copies': [{'copyrole': 'access',\n      'blobId': 11551522,\n      'filename': None,\n      'filesize': 324108,\n      'technicalmetadata': {'width': 1752, 'height': 2786}},\n     {'copyrole': 'm', 'access': 'false', 'filesize': 14669868}]},\n   {'id': '36206563',\n    'subType': 'page',\n    'title': \"Lord Robert Cecil's gold fields diary\",\n    'bibId': '653766',\n    'pid': 'nla.obj-362065633',\n    'form': 'Book',\n    'accessConditions': 'Unrestricted',\n    'copyrightPolicy': 'Out of Copyright',\n    'bibLevel': 'Part',\n    'digitalStatus': 'Captured',\n    'holdingNumber': 'JAFp BIO 92',\n    'copies': [{'copyrole': 'access',\n      'blobId': 11551526,\n      'filename': None,\n      'filesize': 315480,\n      'technicalmetadata': {'width': 1716, 'height': 2762}},\n     {'copyrole': 'm', 'access': 'false', 'filesize': 14246788}]},\n   {'id': '36206576',\n    'subType': 'page',\n    'title': \"Lord Robert Cecil's gold fields diary\",\n    'bibId': '653766',\n    'pid': 'nla.obj-362065767',\n    'form': 'Book',\n    'accessConditions': 'Unrestricted',\n    'copyrightPolicy': 'Out of Copyright',\n    'bibLevel': 'Part',\n    'digitalStatus': 'Captured',\n    'holdingNumber': 'JAFp BIO 92',\n    'copies': [{'copyrole': 'access',\n      'blobId': 11551530,\n      'filename': None,\n      'filesize': 324317,\n      'technicalmetadata': {'width': 1750, 'height': 2788}},\n     {'copyrole': 'm', 'access': 'false', 'filesize': 14665132}]},\n   {'id': '36206589',\n    'subType': 'page',\n    'title': \"Lord Robert Cecil's gold fields diary\",\n    'bibId': '653766',\n    'pid': 'nla.obj-362065894',\n    'form': 'Book',\n    'accessConditions': 'Unrestricted',\n    'copyrightPolicy': 'Out of Copyright',\n    'bibLevel': 'Part',\n    'digitalStatus': 'Captured',\n    'holdingNumber': 'JAFp BIO 92',\n    'copies': [{'copyrole': 'access',\n      'blobId': 11551534,\n      'filename': None,\n      'filesize': 326781,\n      'technicalmetadata': {'width': 1742, 'height': 2822}},\n     {'copyrole': 'm', 'access': 'false', 'filesize': 14775888}]},\n   {'id': '36206602',\n    'subType': 'page',\n    'title': \"Lord Robert Cecil's gold fields diary\",\n    'bibId': '653766',\n    'pid': 'nla.obj-362066023',\n    'form': 'Book',\n    'accessConditions': 'Unrestricted',\n    'copyrightPolicy': 'Out of Copyright',\n    'bibLevel': 'Part',\n    'digitalStatus': 'Captured',\n    'holdingNumber': 'JAFp BIO 92',\n    'copies': [{'copyrole': 'access',\n      'blobId': 11551538,\n      'filename': None,\n      'filesize': 333360,\n      'technicalmetadata': {'width': 1780, 'height': 2830}},\n     {'copyrole': 'm', 'access': 'false', 'filesize': 15140296}]},\n   {'id': '36206615',\n    'subType': 'page',\n    'title': \"Lord Robert Cecil's gold fields diary\",\n    'bibId': '653766',\n    'pid': 'nla.obj-362066153',\n    'form': 'Book',\n    'accessConditions': 'Unrestricted',\n    'copyrightPolicy': 'Out of Copyright',\n    'bibLevel': 'Part',\n    'digitalStatus': 'Captured',\n    'holdingNumber': 'JAFp BIO 92',\n    'copies': [{'copyrole': 'access',\n      'blobId': 11551542,\n      'filename': None,\n      'filesize': 314707,\n      'technicalmetadata': {'width': 1706, 'height': 2755}},\n     {'copyrole': 'm', 'access': 'false', 'filesize': 14128324}]},\n   {'id': '36206628',\n    'subType': 'page',\n    'title': \"Lord Robert Cecil's gold fields diary\",\n    'bibId': '653766',\n    'pid': 'nla.obj-362066287',\n    'form': 'Book',\n    'accessConditions': 'Unrestricted',\n    'copyrightPolicy': 'Out of Copyright',\n    'bibLevel': 'Part',\n    'digitalStatus': 'Captured',\n    'holdingNumber': 'JAFp BIO 92',\n    'copies': [{'copyrole': 'access',\n      'blobId': 11551546,\n      'filename': None,\n      'filesize': 324455,\n      'technicalmetadata': {'width': 1758, 'height': 2790}},\n     {'copyrole': 'm', 'access': 'false', 'filesize': 14742720}]},\n   {'id': '36206641',\n    'subType': 'page',\n    'title': \"Lord Robert Cecil's gold fields diary\",\n    'bibId': '653766',\n    'pid': 'nla.obj-362066417',\n    'form': 'Book',\n    'accessConditions': 'Unrestricted',\n    'copyrightPolicy': 'Out of Copyright',\n    'bibLevel': 'Part',\n    'digitalStatus': 'Captured',\n    'holdingNumber': 'JAFp BIO 92',\n    'copies': [{'copyrole': 'access',\n      'blobId': 11551550,\n      'filename': None,\n      'filesize': 321925,\n      'technicalmetadata': {'width': 1732, 'height': 2808}},\n     {'copyrole': 'm', 'access': 'false', 'filesize': 14618624}]},\n   {'id': '36206654',\n    'subType': 'page',\n    'title': \"Lord Robert Cecil's gold fields diary\",\n    'bibId': '653766',\n    'pid': 'nla.obj-362066547',\n    'form': 'Book',\n    'accessConditions': 'Unrestricted',\n    'copyrightPolicy': 'Out of Copyright',\n    'bibLevel': 'Part',\n    'digitalStatus': 'Captured',\n    'holdingNumber': 'JAFp BIO 92',\n    'copies': [{'copyrole': 'access',\n      'blobId': 11551554,\n      'filename': None,\n      'filesize': 329478,\n      'technicalmetadata': {'width': 1779, 'height': 2795}},\n     {'copyrole': 'm', 'access': 'false', 'filesize': 14945160}]},\n   {'id': '36206667',\n    'subType': 'page',\n    'title': \"Lord Robert Cecil's gold fields diary\",\n    'bibId': '653766',\n    'pid': 'nla.obj-362066673',\n    'form': 'Book',\n    'accessConditions': 'Unrestricted',\n    'copyrightPolicy': 'Out of Copyright',\n    'bibLevel': 'Part',\n    'digitalStatus': 'Captured',\n    'holdingNumber': 'JAFp BIO 92',\n    'copies': [{'copyrole': 'access',\n      'blobId': 11551558,\n      'filename': None,\n      'filesize': 308578,\n      'technicalmetadata': {'width': 1682, 'height': 2747}},\n     {'copyrole': 'm', 'access': 'false', 'filesize': 13889596}]},\n   {'id': '36206680',\n    'subType': 'page',\n    'title': \"Lord Robert Cecil's gold fields diary\",\n    'bibId': '653766',\n    'pid': 'nla.obj-362066807',\n    'form': 'Book',\n    'accessConditions': 'Unrestricted',\n    'copyrightPolicy': 'Out of Copyright',\n    'bibLevel': 'Part',\n    'digitalStatus': 'Captured',\n    'holdingNumber': 'JAFp BIO 92',\n    'copies': [{'copyrole': 'access',\n      'blobId': 11551562,\n      'filename': None,\n      'filesize': 323456,\n      'technicalmetadata': {'width': 1750, 'height': 2763}},\n     {'copyrole': 'm', 'access': 'false', 'filesize': 14533588}]},\n   {'id': '36206693',\n    'subType': 'page',\n    'title': \"Lord Robert Cecil's gold fields diary\",\n    'bibId': '653766',\n    'pid': 'nla.obj-362066935',\n    'form': 'Book',\n    'accessConditions': 'Unrestricted',\n    'copyrightPolicy': 'Out of Copyright',\n    'bibLevel': 'Part',\n    'digitalStatus': 'Captured',\n    'holdingNumber': 'JAFp BIO 92',\n    'copies': [{'copyrole': 'access',\n      'blobId': 11551566,\n      'filename': None,\n      'filesize': 324834,\n      'technicalmetadata': {'width': 1718, 'height': 2822}},\n     {'copyrole': 'm', 'access': 'false', 'filesize': 14569580}]},\n   {'id': '36205977',\n    'subType': 'page',\n    'title': \"Lord Robert Cecil's gold fields diary\",\n    'bibId': '653766',\n    'pid': 'nla.obj-362059771',\n    'form': 'Book',\n    'accessConditions': 'Unrestricted',\n    'copyrightPolicy': 'Out of Copyright',\n    'bibLevel': 'Part',\n    'digitalStatus': 'Captured',\n    'holdingNumber': 'JAFp BIO 92',\n    'copies': [{'copyrole': 'access',\n      'blobId': 11551346,\n      'filename': None,\n      'filesize': 361053,\n      'technicalmetadata': {'width': 1938, 'height': 2801}},\n     {'copyrole': 'm', 'access': 'false', 'filesize': 16310064}]}],\n  'article': [],\n  'chapter': [{'id': '36207811',\n    'subType': 'chapter',\n    'subUnitNo': '1',\n    'pid': 'nla.obj-362078119',\n    'bibLevel': 'Section',\n    'existson': [{'id': '36205990', 'page': 'nla.obj-362059904'},\n     {'id': '36206003', 'page': 'nla.obj-362060036'},\n     {'id': '36206017', 'page': 'nla.obj-362060175'},\n     {'id': '36206030', 'page': 'nla.obj-362060307'},\n     {'id': '36206043', 'page': 'nla.obj-362060433'},\n     {'id': '36206056', 'page': 'nla.obj-362060563'},\n     {'id': '36206069', 'page': 'nla.obj-362060694'}]},\n   {'id': '36207820',\n    'subType': 'chapter',\n    'subUnitNo': '2',\n    'pid': 'nla.obj-362078203',\n    'bibLevel': 'Section',\n    'existson': [{'id': '36206095', 'page': 'nla.obj-362060959'},\n     {'id': '36206082', 'page': 'nla.obj-362060828'},\n     {'id': '36206108', 'page': 'nla.obj-362061083'},\n     {'id': '36206121', 'page': 'nla.obj-362061212'},\n     {'id': '36206134', 'page': 'nla.obj-362061349'},\n     {'id': '36206147', 'page': 'nla.obj-362061476'},\n     {'id': '36206160', 'page': 'nla.obj-362061603'},\n     {'id': '36206173', 'page': 'nla.obj-362061731'},\n     {'id': '36206186', 'page': 'nla.obj-362061862'},\n     {'id': '36206199', 'page': 'nla.obj-362061995'},\n     {'id': '36206212', 'page': 'nla.obj-362062124'},\n     {'id': '36206225', 'page': 'nla.obj-362062250'},\n     {'id': '36206238', 'page': 'nla.obj-362062384'},\n     {'id': '36206251', 'page': 'nla.obj-362062514'},\n     {'id': '36206264', 'page': 'nla.obj-362062649'},\n     {'id': '36206277', 'page': 'nla.obj-362062779'},\n     {'id': '36206290', 'page': 'nla.obj-362062905'},\n     {'id': '36206303', 'page': 'nla.obj-362063031'},\n     {'id': '36206316', 'page': 'nla.obj-362063165'},\n     {'id': '36206329', 'page': 'nla.obj-362063296'},\n     {'id': '36206342', 'page': 'nla.obj-362063426'},\n     {'id': '36206355', 'page': 'nla.obj-362063555'},\n     {'id': '36206368', 'page': 'nla.obj-362063681'},\n     {'id': '36206381', 'page': 'nla.obj-362063813'},\n     {'id': '36206394', 'page': 'nla.obj-362063942'},\n     {'id': '36206407', 'page': 'nla.obj-362064075'},\n     {'id': '36206420', 'page': 'nla.obj-362064205'},\n     {'id': '36206433', 'page': 'nla.obj-362064331'},\n     {'id': '36206446', 'page': 'nla.obj-362064462'},\n     {'id': '36206459', 'page': 'nla.obj-362064599'},\n     {'id': '36206472', 'page': 'nla.obj-362064729'},\n     {'id': '36206485', 'page': 'nla.obj-362064858'},\n     {'id': '36206498', 'page': 'nla.obj-362064987'},\n     {'id': '36206511', 'page': 'nla.obj-362065113'},\n     {'id': '36206524', 'page': 'nla.obj-362065244'},\n     {'id': '36206537', 'page': 'nla.obj-362065373'},\n     {'id': '36206550', 'page': 'nla.obj-362065503'},\n     {'id': '36206563', 'page': 'nla.obj-362065633'},\n     {'id': '36206576', 'page': 'nla.obj-362065767'},\n     {'id': '36206589', 'page': 'nla.obj-362065894'},\n     {'id': '36206602', 'page': 'nla.obj-362066023'},\n     {'id': '36206615', 'page': 'nla.obj-362066153'},\n     {'id': '36206628', 'page': 'nla.obj-362066287'},\n     {'id': '36206641', 'page': 'nla.obj-362066417'},\n     {'id': '36206654', 'page': 'nla.obj-362066547'},\n     {'id': '36206667', 'page': 'nla.obj-362066673'},\n     {'id': '36206680', 'page': 'nla.obj-362066807'},\n     {'id': '36206693', 'page': 'nla.obj-362066935'},\n     {'id': '36205977', 'page': 'nla.obj-362059771'}]}],\n  'book': [],\n  'volume': [],\n  'other': []},\n 'topLevelCollection': 'nla.obj-362059651'}"
     },
     "metadata": {
      "scrapbook": {
       "mime_prefix": "application/papermill.record/",
       "name": "metadata"
      }
     },
     "output_type": "display_data"
    }
   ],
   "source": [
    "import json\n",
    "import re\n",
    "\n",
    "import requests\n",
    "from IPython.display import JSON\n",
    "\n",
    "work_id = \"https://nla.gov.au/nla.obj-362059651/\"\n",
    "\n",
    "# Get the HTML page\n",
    "response = requests.get(work_id)\n",
    "\n",
    "# Search for the JSON string using regex\n",
    "try:\n",
    "    work_data = re.search(\n",
    "        r\"var work = JSON\\.parse\\(JSON\\.stringify\\((\\{.*\\})\", response.text\n",
    "    ).group(1)\n",
    "except AttributeError:\n",
    "    # Just in case it's not there...\n",
    "    work_data = \"{}\"\n",
    "    print(\"No data found!\")\n",
    "\n",
    "# Load the JSON data\n",
    "data = json.loads(work_data)\n",
    "\n",
    "data"
   ]
  },
  {
   "cell_type": "markdown",
   "id": "8476c108-0f7d-4a75-b153-30b3028b1f60",
   "metadata": {},
   "source": [
    "## Get information about pages"
   ]
  },
  {
   "cell_type": "markdown",
   "id": "38c6ed1f-9cad-4393-8d02-6cc8d764ceec",
   "metadata": {},
   "source": [
    "Depending on the format, the `children` field can contain information about pages, chapters, and articles contained within the digitised work. Books and periodical issues should include `page` data. To find the number of pages, you just need to get the length of the `page` list."
   ]
  },
  {
   "cell_type": "code",
   "execution_count": 13,
   "id": "edefc31e-90c9-4958-b794-7240ba5f0722",
   "metadata": {},
   "outputs": [
    {
     "data": {
      "text/plain": [
       "56"
      ]
     },
     "execution_count": 13,
     "metadata": {},
     "output_type": "execute_result"
    }
   ],
   "source": [
    "# How many pages are there?\n",
    "len(data[\"children\"][\"page\"])"
   ]
  },
  {
   "cell_type": "markdown",
   "id": "86723a22-915f-4735-8f98-fe6f2478e72c",
   "metadata": {},
   "source": [
    "If you want to get the identifiers for each individual page, just loop through the list of pages saving the `pid` value."
   ]
  },
  {
   "cell_type": "code",
   "execution_count": 14,
   "id": "f2807868-a68b-468b-a175-f382c2ae8165",
   "metadata": {},
   "outputs": [
    {
     "data": {
      "text/plain": [
       "['nla.obj-362059904',\n",
       " 'nla.obj-362060036',\n",
       " 'nla.obj-362060175',\n",
       " 'nla.obj-362060307',\n",
       " 'nla.obj-362060433']"
      ]
     },
     "execution_count": 14,
     "metadata": {},
     "output_type": "execute_result"
    }
   ],
   "source": [
    "page_ids = [p[\"pid\"] for p in data[\"children\"][\"page\"]]\n",
    "page_ids[:5]"
   ]
  },
  {
   "cell_type": "markdown",
   "id": "42e493cf-2aed-47c0-a938-695948a45227",
   "metadata": {},
   "source": [
    "These page identifiers can be used to download images of the pages."
   ]
  },
  {
   "cell_type": "markdown",
   "id": "95bae7d9-d9f5-4bd2-88dc-36709f26626c",
   "metadata": {},
   "source": [
    "## Get MARC catalogue data"
   ]
  },
  {
   "cell_type": "markdown",
   "id": "3dd6e7e9-66ff-457a-80e6-e72fcf2c0dd0",
   "metadata": {},
   "source": [
    "The MARC data is contained in the `marcData` field. This field can contain multiple records – the main metadata is contained in the `Bibliographic` record. To retrieve a value you need to know the [MARC tag and subfield](https://www.loc.gov/marc/bibliographic/) for the field you're interested in. You can then loop through the `datafield` list until you find the tag and subfield, and extract the value from the `content` field.\n",
    "\n",
    "The functions below will extract the value of a given MARC tag and subfield from the embedded metadata."
   ]
  },
  {
   "cell_type": "code",
   "execution_count": 24,
   "id": "bc9acac7-37f4-4583-9758-cc90b8658842",
   "metadata": {},
   "outputs": [],
   "source": [
    "def find_field_content(record, tag, subfield):\n",
    "    \"\"\"\n",
    "    Loop through a MARC record looking for tag/subfield.\n",
    "    If found, return the subfield value.\n",
    "    \"\"\"\n",
    "    try:\n",
    "        for field in record[\"datafield\"]:\n",
    "            if str(field[\"tag\"]) == tag:\n",
    "                if isinstance(field[\"subfield\"], list):\n",
    "                    for sfield in field[\"subfield\"]:\n",
    "                        if sfield[\"code\"] == subfield:\n",
    "                            return sfield[\"content\"]\n",
    "                else:\n",
    "                    if field[\"subfield\"][\"code\"] == subfield:\n",
    "                        return field[\"subfield\"][\"content\"]\n",
    "    except (KeyError, TypeError):\n",
    "        pass\n",
    "    return None\n",
    "\n",
    "\n",
    "def get_marc_field(work_data, tag, subfield):\n",
    "    \"\"\"\n",
    "    Find the Bibliographic record in the MARC data and find the value\n",
    "    of a given tag and subfield.\n",
    "    \"\"\"\n",
    "    if \"marcData\" in work_data and work_data[\"marcData\"]:\n",
    "        for record in work_data[\"marcData\"][\"record\"]:\n",
    "            if record[\"leader\"][\"type\"] == \"Bibliographic\":\n",
    "                value = find_field_content(record, tag, subfield)\n",
    "                break\n",
    "    return value"
   ]
  },
  {
   "cell_type": "markdown",
   "id": "34f18d07-488c-4d59-903b-def75c0630f5",
   "metadata": {},
   "source": [
    "For example, the main title of a work is in MARC tag `245`, subfield `a`."
   ]
  },
  {
   "cell_type": "code",
   "execution_count": 25,
   "id": "a05a60a2-d085-43ab-a423-a34f805a80ba",
   "metadata": {},
   "outputs": [
    {
     "data": {
      "text/plain": [
       "\"Lord Robert Cecil's gold fields diary /\""
      ]
     },
     "execution_count": 25,
     "metadata": {},
     "output_type": "execute_result"
    }
   ],
   "source": [
    "get_marc_field(data, \"245\", \"a\")"
   ]
  },
  {
   "cell_type": "markdown",
   "id": "73e6e2b1-e20d-4f84-a419-a57a05665e9a",
   "metadata": {},
   "source": [
    "The subfield `c` contains a 'statement of responsibility'."
   ]
  },
  {
   "cell_type": "code",
   "execution_count": 21,
   "id": "b9d01733-9302-4d40-9d86-7ddb644bf23c",
   "metadata": {},
   "outputs": [
    {
     "data": {
      "text/plain": [
       "'with introduction and notes by Sir Ernest Scott.'"
      ]
     },
     "execution_count": 21,
     "metadata": {},
     "output_type": "execute_result"
    }
   ],
   "source": [
    "get_marc_field(data, 245, \"c\")"
   ]
  },
  {
   "cell_type": "code",
   "execution_count": null,
   "id": "042b7f51-0ca2-4cad-a49c-0d4c6dc1b1df",
   "metadata": {
    "editable": true,
    "slideshow": {
     "slide_type": ""
    },
    "tags": []
   },
   "outputs": [],
   "source": []
  }
 ],
 "metadata": {
  "kernelspec": {
   "display_name": "Python 3 (ipykernel)",
   "language": "python",
   "name": "python3"
  },
  "language_info": {
   "codemirror_mode": {
    "name": "ipython",
    "version": 3
   },
   "file_extension": ".py",
   "mimetype": "text/x-python",
   "name": "python",
   "nbconvert_exporter": "python",
   "pygments_lexer": "ipython3",
   "version": "3.8.12"
  }
 },
 "nbformat": 4,
 "nbformat_minor": 5
}
