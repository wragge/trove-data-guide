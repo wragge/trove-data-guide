{
 "cells": [
  {
   "cell_type": "markdown",
   "id": "c912690e-f482-4510-8b47-058f893e6239",
   "metadata": {
    "editable": true,
    "slideshow": {
     "slide_type": ""
    },
    "tags": []
   },
   "source": [
    "# Accessing data from Parliamentary Papers\n",
    "\n",
    "## What data is available?\n",
    "\n",
    "The following data is available relating to the digitised Parliamentary Papers in Trove:\n",
    "\n",
    "- metadata\n",
    "- OCRd text\n",
    "- images (as jpegs and PDFs)\n",
    "\n",
    "## Accessing metadata\n",
    "\n",
    "- pre-harvested dataset\n",
    "- Trove API\n",
    "- collection items\n",
    "- embedded metadata (including pages)\n",
    "\n",
    "## Accessing OCRd text\n",
    "\n",
    "% of papers with text\n",
    "\n",
    "## Accessing images"
   ]
  }
 ],
 "metadata": {
  "kernelspec": {
   "display_name": "Python 3 (ipykernel)",
   "language": "python",
   "name": "python3"
  },
  "language_info": {
   "codemirror_mode": {
    "name": "ipython",
    "version": 3
   },
   "file_extension": ".py",
   "mimetype": "text/x-python",
   "name": "python",
   "nbconvert_exporter": "python",
   "pygments_lexer": "ipython3",
   "version": "3.8.12"
  }
 },
 "nbformat": 4,
 "nbformat_minor": 5
}
