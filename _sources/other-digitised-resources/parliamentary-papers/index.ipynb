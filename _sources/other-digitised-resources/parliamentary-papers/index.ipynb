{
 "cells": [
  {
   "cell_type": "markdown",
   "id": "b8f434a6-2365-4301-bc0e-643ce9c9eeb0",
   "metadata": {
    "editable": true,
    "slideshow": {
     "slide_type": ""
    },
    "tags": []
   },
   "source": [
    "# Parliamentary papers\n",
    "\n",
    "The NLA has digitised a large collection of reports and papers presented to the Commonwealth Parliament. \n",
    "\n",
    "```{tableofcontents}\n",
    "\n",
    "```"
   ]
  },
  {
   "cell_type": "code",
   "execution_count": null,
   "id": "2ff0d29a-9d22-452b-a7ba-18144c1e8090",
   "metadata": {},
   "outputs": [],
   "source": []
  }
 ],
 "metadata": {
  "kernelspec": {
   "display_name": "Python 3 (ipykernel)",
   "language": "python",
   "name": "python3"
  },
  "language_info": {
   "codemirror_mode": {
    "name": "ipython",
    "version": 3
   },
   "file_extension": ".py",
   "mimetype": "text/x-python",
   "name": "python",
   "nbconvert_exporter": "python",
   "pygments_lexer": "ipython3",
   "version": "3.8.12"
  }
 },
 "nbformat": 4,
 "nbformat_minor": 5
}
