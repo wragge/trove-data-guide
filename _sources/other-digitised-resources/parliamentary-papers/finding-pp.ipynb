{
 "cells": [
  {
   "cell_type": "markdown",
   "id": "c7a70824-6a3c-4ca0-bb7b-972c592455ba",
   "metadata": {},
   "source": [
    "# Finding Parliamentary Papers in Trove"
   ]
  },
  {
   "cell_type": "markdown",
   "id": "02cf919d-f99b-48b5-a145-1c862a732753",
   "metadata": {
    "editable": true,
    "slideshow": {
     "slide_type": ""
    },
    "tags": []
   },
   "source": [
    "## Finding Parliamentary Papers in Trove\n",
    "\n",
    "You can [find NLA digitised resources](/understanding-search/finding-digitised-content) by searching for `\"nla.obj\"` and selecting the 'Online' facet (if you're using the API set `l-availability` to `y`). To further limit the results to digitised Parliamentary Papers the best option seems to be adding `series:\"Parliamentary paper (Australia. Parliament)\"` to [your search query](https://trove.nla.gov.au/search?keyword=%22nla.obj%22%20series%3A%22Parliamentary%20paper%20%28Australia.%20Parliament%29%22&l-availability=y).\n",
    "\n",
    "[![Try it!](https://troveconsole.herokuapp.com/static/img/try-trove-api-console.svg)](https://troveconsole.herokuapp.com/v3/?url=https%3A%2F%2Fapi.trove.nla.gov.au%2Fv3%2Fresult%3Fq%3D%22nla.obj%22+series%3A%22Parliamentary+paper+%28Australia.+Parliament%29%22%26category%3Dall%26l-availability%3Dy%26encoding%3Djson%26bulkHarvest%3Dtrue&comment=)\n",
    "\n",
    "The `series` index is generated from the `isPartOf` metadata field, so this query finds resources that are part of the 'Parliamentary paper (Australia. Parliament)' collection. This approach seems to return more Parliamentary Papers and much less noise than other options, such as setting `format` to `Government publication`."
   ]
  },
  {
   "cell_type": "code",
   "execution_count": 131,
   "id": "c00c369c-a3a3-47a8-a715-ffe2540eaff9",
   "metadata": {
    "editable": true,
    "slideshow": {
     "slide_type": ""
    },
    "tags": []
   },
   "outputs": [
    {
     "data": {
      "text/plain": [
       "True"
      ]
     },
     "execution_count": 131,
     "metadata": {},
     "output_type": "execute_result"
    }
   ],
   "source": [
    "import os\n",
    "import time\n",
    "\n",
    "import altair as alt\n",
    "import pandas as pd\n",
    "import requests\n",
    "from dotenv import load_dotenv\n",
    "from IPython.display import HTML\n",
    "from myst_nb import glue\n",
    "from wordcloud import WordCloud\n",
    "\n",
    "load_dotenv()"
   ]
  },
  {
   "cell_type": "code",
   "execution_count": 2,
   "id": "4efa431d-c1f1-4e94-922e-14289e161844",
   "metadata": {
    "editable": true,
    "slideshow": {
     "slide_type": ""
    },
    "tags": [
     "remove-cell"
    ]
   },
   "outputs": [],
   "source": [
    "YOUR_API_KEY = os.getenv(\"TROVE_API_KEY\")"
   ]
  },
  {
   "cell_type": "markdown",
   "id": "5a3ccf2d-102e-44a4-a93c-92a9728b1cf0",
   "metadata": {},
   "source": [
    "## How many digitised Parliamentary Papers are there in Trove?\n",
    "\n",
    "Using this query, you can find the total number of work-level records describing digitised Parliamentary Papers in Trove."
   ]
  },
  {
   "cell_type": "code",
   "execution_count": 27,
   "id": "40f209ab-44e4-4763-b6e8-242cb84fe75e",
   "metadata": {
    "editable": true,
    "slideshow": {
     "slide_type": ""
    },
    "tags": [
     "hide-input"
    ]
   },
   "outputs": [
    {
     "name": "stdout",
     "output_type": "stream",
     "text": [
      "There are 229,410 work records!\n"
     ]
    }
   ],
   "source": [
    "params = {\n",
    "    \"q\": '\"nla.obj\" series:\"Parliamentary paper (Australia. Parliament)\"',\n",
    "    \"category\": \"all\",  # Get results from all categories\n",
    "    \"l-availability\": \"y\",\n",
    "    \"encoding\": \"json\",\n",
    "    \"n\": 0,\n",
    "    \"bulkHarvest\": \"true\",  # This will combine the results from all categories\n",
    "}\n",
    "\n",
    "headers = {\"X-API-KEY\": YOUR_API_KEY}\n",
    "\n",
    "response = requests.get(\n",
    "    \"https://api.trove.nla.gov.au/v3/result\", params=params, headers=headers\n",
    ")\n",
    "data = response.json()\n",
    "\n",
    "print(f'There are {data[\"category\"][0][\"records\"][\"total\"]:,} work records!')"
   ]
  },
  {
   "cell_type": "markdown",
   "id": "6abf2a66-b4d2-492f-945b-a46d3bffd978",
   "metadata": {
    "editable": true,
    "slideshow": {
     "slide_type": ""
    },
    "tags": []
   },
   "source": [
    "That's a lot of records! But don't assume that the number of work records is the same as the number of digitised publications. If you examine the distribution of records by category and format, you'll see some interesting clusters.\n",
    "\n",
    "Here's the number of records in each category. Remember that records can be duplicated across categories, so if you add up the category totals it'll be more than the total number calculated above. The table below shows that most of the records are in the *Magazines & Newsletters* category. It also seems that many of them are duplicated in *Research & Reports*."
   ]
  },
  {
   "cell_type": "code",
   "execution_count": 100,
   "id": "5c40b90e-62dd-433e-a76e-9f7b40b700c0",
   "metadata": {
    "editable": true,
    "slideshow": {
     "slide_type": ""
    },
    "tags": [
     "hide-input"
    ]
   },
   "outputs": [
    {
     "data": {
      "text/html": [
       "<style type=\"text/css\">\n",
       "</style>\n",
       "<table id=\"T_a6ebb\">\n",
       "  <thead>\n",
       "    <tr>\n",
       "      <th id=\"T_a6ebb_level0_col0\" class=\"col_heading level0 col0\" >category</th>\n",
       "      <th id=\"T_a6ebb_level0_col1\" class=\"col_heading level0 col1\" >total</th>\n",
       "    </tr>\n",
       "  </thead>\n",
       "  <tbody>\n",
       "    <tr>\n",
       "      <td id=\"T_a6ebb_row0_col0\" class=\"data row0 col0\" >Books & Libraries</td>\n",
       "      <td id=\"T_a6ebb_row0_col1\" class=\"data row0 col1\" >13,667</td>\n",
       "    </tr>\n",
       "    <tr>\n",
       "      <td id=\"T_a6ebb_row1_col0\" class=\"data row1 col0\" >Diaries, Letters & Archives</td>\n",
       "      <td id=\"T_a6ebb_row1_col1\" class=\"data row1 col1\" >15</td>\n",
       "    </tr>\n",
       "    <tr>\n",
       "      <td id=\"T_a6ebb_row2_col0\" class=\"data row2 col0\" >Images, Maps & Artefacts</td>\n",
       "      <td id=\"T_a6ebb_row2_col1\" class=\"data row2 col1\" >12</td>\n",
       "    </tr>\n",
       "    <tr>\n",
       "      <td id=\"T_a6ebb_row3_col0\" class=\"data row3 col0\" >Lists</td>\n",
       "      <td id=\"T_a6ebb_row3_col1\" class=\"data row3 col1\" >0</td>\n",
       "    </tr>\n",
       "    <tr>\n",
       "      <td id=\"T_a6ebb_row4_col0\" class=\"data row4 col0\" >Magazines & Newsletters</td>\n",
       "      <td id=\"T_a6ebb_row4_col1\" class=\"data row4 col1\" >206,382</td>\n",
       "    </tr>\n",
       "    <tr>\n",
       "      <td id=\"T_a6ebb_row5_col0\" class=\"data row5 col0\" >Music, Audio & Video</td>\n",
       "      <td id=\"T_a6ebb_row5_col1\" class=\"data row5 col1\" >7</td>\n",
       "    </tr>\n",
       "    <tr>\n",
       "      <td id=\"T_a6ebb_row6_col0\" class=\"data row6 col0\" >Newspapers & Gazettes</td>\n",
       "      <td id=\"T_a6ebb_row6_col1\" class=\"data row6 col1\" >0</td>\n",
       "    </tr>\n",
       "    <tr>\n",
       "      <td id=\"T_a6ebb_row7_col0\" class=\"data row7 col0\" >People & Organisations</td>\n",
       "      <td id=\"T_a6ebb_row7_col1\" class=\"data row7 col1\" >0</td>\n",
       "    </tr>\n",
       "    <tr>\n",
       "      <td id=\"T_a6ebb_row8_col0\" class=\"data row8 col0\" >Research & Reports</td>\n",
       "      <td id=\"T_a6ebb_row8_col1\" class=\"data row8 col1\" >189,207</td>\n",
       "    </tr>\n",
       "  </tbody>\n",
       "</table>\n"
      ],
      "text/plain": [
       "<pandas.io.formats.style.Styler at 0x7f431ccbb670>"
      ]
     },
     "execution_count": 100,
     "metadata": {},
     "output_type": "execute_result"
    }
   ],
   "source": [
    "params = {\n",
    "    \"q\": '\"nla.obj\" series:\"Parliamentary paper (Australia. Parliament)\"',\n",
    "    \"category\": \"all\",\n",
    "    \"l-availability\": \"y\",\n",
    "    \"encoding\": \"json\",\n",
    "    \"n\": 0,\n",
    "}\n",
    "\n",
    "headers = {\"X-API-KEY\": YOUR_API_KEY}\n",
    "\n",
    "response = requests.get(\n",
    "    \"https://api.trove.nla.gov.au/v3/result\", params=params, headers=headers\n",
    ")\n",
    "data = response.json()\n",
    "\n",
    "totals = [\n",
    "    {\"category\": c[\"name\"], \"total\": c[\"records\"][\"total\"]} for c in data[\"category\"]\n",
    "]\n",
    "pd.DataFrame(totals).style.format(thousands=\",\").hide()"
   ]
  },
  {
   "cell_type": "markdown",
   "id": "2c0a37ed-eca4-4cf0-b837-62b8c758a2c0",
   "metadata": {
    "editable": true,
    "slideshow": {
     "slide_type": ""
    },
    "tags": []
   },
   "source": [
    "Here's the number of records by *format*. Remember that digitised resources can be [merged with other versions into works](/what-is-trove/works-and-versions), resulting in some odd combinations. This table shows that most of the records describing parliamentary papers have the format `Article`. This aligns with the fact that most of the records are in the *Magazines & Newsletters* category which contains articles extracted from digitised periodicals."
   ]
  },
  {
   "cell_type": "code",
   "execution_count": 119,
   "id": "892103fb-d1a4-4c5b-993d-aaa834c157fe",
   "metadata": {
    "editable": true,
    "slideshow": {
     "slide_type": ""
    },
    "tags": [
     "hide-input"
    ]
   },
   "outputs": [
    {
     "data": {
      "text/html": [
       "<style type=\"text/css\">\n",
       "</style>\n",
       "<table id=\"T_b2966\">\n",
       "  <thead>\n",
       "    <tr>\n",
       "      <th id=\"T_b2966_level0_col0\" class=\"col_heading level0 col0\" >format</th>\n",
       "      <th id=\"T_b2966_level0_col1\" class=\"col_heading level0 col1\" >total</th>\n",
       "    </tr>\n",
       "  </thead>\n",
       "  <tbody>\n",
       "    <tr>\n",
       "      <td id=\"T_b2966_row0_col0\" class=\"data row0 col0\" >Article</td>\n",
       "      <td id=\"T_b2966_row0_col1\" class=\"data row0 col1\" >217,656</td>\n",
       "    </tr>\n",
       "    <tr>\n",
       "      <td id=\"T_b2966_row1_col0\" class=\"data row1 col0\" >Book</td>\n",
       "      <td id=\"T_b2966_row1_col1\" class=\"data row1 col1\" >13,146</td>\n",
       "    </tr>\n",
       "    <tr>\n",
       "      <td id=\"T_b2966_row2_col0\" class=\"data row2 col0\" >Government publication</td>\n",
       "      <td id=\"T_b2966_row2_col1\" class=\"data row2 col1\" >11,351</td>\n",
       "    </tr>\n",
       "    <tr>\n",
       "      <td id=\"T_b2966_row3_col0\" class=\"data row3 col0\" >Periodical</td>\n",
       "      <td id=\"T_b2966_row3_col1\" class=\"data row3 col1\" >606</td>\n",
       "    </tr>\n",
       "    <tr>\n",
       "      <td id=\"T_b2966_row4_col0\" class=\"data row4 col0\" >Microform</td>\n",
       "      <td id=\"T_b2966_row4_col1\" class=\"data row4 col1\" >102</td>\n",
       "    </tr>\n",
       "    <tr>\n",
       "      <td id=\"T_b2966_row5_col0\" class=\"data row5 col0\" >Conference Proceedings</td>\n",
       "      <td id=\"T_b2966_row5_col1\" class=\"data row5 col1\" >73</td>\n",
       "    </tr>\n",
       "    <tr>\n",
       "      <td id=\"T_b2966_row6_col0\" class=\"data row6 col0\" >Archived website</td>\n",
       "      <td id=\"T_b2966_row6_col1\" class=\"data row6 col1\" >60</td>\n",
       "    </tr>\n",
       "    <tr>\n",
       "      <td id=\"T_b2966_row7_col0\" class=\"data row7 col0\" >Published</td>\n",
       "      <td id=\"T_b2966_row7_col1\" class=\"data row7 col1\" >12</td>\n",
       "    </tr>\n",
       "    <tr>\n",
       "      <td id=\"T_b2966_row8_col0\" class=\"data row8 col0\" >Map</td>\n",
       "      <td id=\"T_b2966_row8_col1\" class=\"data row8 col1\" >11</td>\n",
       "    </tr>\n",
       "    <tr>\n",
       "      <td id=\"T_b2966_row9_col0\" class=\"data row9 col0\" >Audio book</td>\n",
       "      <td id=\"T_b2966_row9_col1\" class=\"data row9 col1\" >6</td>\n",
       "    </tr>\n",
       "    <tr>\n",
       "      <td id=\"T_b2966_row10_col0\" class=\"data row10 col0\" >Thesis</td>\n",
       "      <td id=\"T_b2966_row10_col1\" class=\"data row10 col1\" >6</td>\n",
       "    </tr>\n",
       "    <tr>\n",
       "      <td id=\"T_b2966_row11_col0\" class=\"data row11 col0\" >Unpublished</td>\n",
       "      <td id=\"T_b2966_row11_col1\" class=\"data row11 col1\" >3</td>\n",
       "    </tr>\n",
       "    <tr>\n",
       "      <td id=\"T_b2966_row12_col0\" class=\"data row12 col0\" >Object</td>\n",
       "      <td id=\"T_b2966_row12_col1\" class=\"data row12 col1\" >1</td>\n",
       "    </tr>\n",
       "    <tr>\n",
       "      <td id=\"T_b2966_row13_col0\" class=\"data row13 col0\" >Sound</td>\n",
       "      <td id=\"T_b2966_row13_col1\" class=\"data row13 col1\" >1</td>\n",
       "    </tr>\n",
       "  </tbody>\n",
       "</table>\n"
      ],
      "text/plain": [
       "<pandas.io.formats.style.Styler at 0x7f4309fd7910>"
      ]
     },
     "execution_count": 119,
     "metadata": {},
     "output_type": "execute_result"
    }
   ],
   "source": [
    "params = {\n",
    "    \"q\": '\"nla.obj\" series:\"Parliamentary paper (Australia. Parliament)\"',\n",
    "    \"category\": \"all\",\n",
    "    \"l-availability\": \"y\",\n",
    "    \"encoding\": \"json\",\n",
    "    \"n\": 0,\n",
    "    \"facet\": \"format\",\n",
    "    \"bulkHarvest\": \"true\",\n",
    "}\n",
    "\n",
    "headers = {\"X-API-KEY\": YOUR_API_KEY}\n",
    "\n",
    "response = requests.get(\n",
    "    \"https://api.trove.nla.gov.au/v3/result\", params=params, headers=headers\n",
    ")\n",
    "data = response.json()\n",
    "\n",
    "facets = [\n",
    "    {\"format\": f[\"search\"], \"total\": f[\"count\"]}\n",
    "    for f in data[\"category\"][0][\"facets\"][\"facet\"][0][\"term\"]\n",
    "]\n",
    "\n",
    "pd.DataFrame(facets).style.format(thousands=\",\").hide()"
   ]
  },
  {
   "cell_type": "markdown",
   "id": "a2f3c80b-53cd-417a-b010-39a080ebd09f",
   "metadata": {
    "editable": true,
    "slideshow": {
     "slide_type": ""
    },
    "tags": []
   },
   "source": [
    "But why are Parliamentary Papers described as 'articles'? If you look at [the results in the **Magazines & Newsletters** category](https://trove.nla.gov.au/search/category/magazines?keyword=%22nla.obj%22%20series%3A%22Parliamentary%20paper%20%28Australia.%20Parliament%29%22&l-availability=y), you'll see that the records describe *sections* of Parliamentary Papers, not complete publications. In other words, **the Parliamentary Papers are being treated like issues of a periodical** – the contents of each paper is being split up into sections (like articles in a journal), and a record is being created for each individual section.\n",
    "\n",
    "As a result, most of the search results for Parliamentary Papers point to *parts* of publications, rather than to complete, individual Parliamentary Papers. The total number of Parliamentary Papers will be considerably less than the total number of work-level records displayed above. \n",
    "\n",
    "How then can you limit the search to only show complete Parliamentary Papers and exclude the 'articles'? I don't think you can. If you add `NOT format:Article` to your search you'll exclude reports with the format `Article/Report`, and probably lose other publications that are grouped with `Article` records. You could just ignore the **Magazines & Newsletters** category, but many of the 'articles' are also in **Research & Reports** where they're mixed with other publication formats. There's no way to drop the 'articles' without losing other, more relevant, records."
   ]
  },
  {
   "cell_type": "markdown",
   "id": "60440131-ea6c-4b42-9fbc-2886807eccab",
   "metadata": {
    "editable": true,
    "slideshow": {
     "slide_type": ""
    },
    "tags": []
   },
   "source": [
    "## How are Parliamentary Papers arranged and described?\n",
    "\n",
    "The splitting of Parliamentary Papers also generates some odd-looking 'articles', such as contents pages and appendices. When combined with the [grouping of versions into works](/what-is-trove/works-and-versions), this can have some unfortunate consequences. For example, [here's a record](https://trove.nla.gov.au/work/237938382) where the 'Table of contents' sections of different Parliamentary Papers have been grouped as a single work!\n",
    "\n",
    "Not all of the Parliamentary Papers are split into 'articles'. Sometimes they are only described as single, standalone works. This [report by the Australian Science and Technology Council on 'Marine sciences and technologies in Australia'](https://trove.nla.gov.au/work/9710970) is treated like a book, and is linked to a single digitised resource. If you [search for its NLA identifier](https://trove.nla.gov.au/search?keyword=%22nla.obj-1459420424%22) you won't find any child articles.\n",
    "\n",
    "Sometimes individual Parliamentary Papers are not described at all. While attempting to harvest a full list of Parliamentary Papers, I noticed that I couldn't find the parent publications of some 'articles'. These publications are digitised and accessible, but they don't turn up in Trove's search results. The only way to find them, in either the web interface or API, is to navigate upwards from an 'article'.\n",
    "\n",
    "In many cases, individual Parliamentary Papers are grouped together, like the issues of a periodical. An example of this might be all the annual reports of a particular government agency. Trove represents collections of resources in [a number of different ways](/what-is-trove/collections). Groups of Parliamentary Papers are generally created as collections within the digitised item viewer. For example, the work record for [Report of the Senate Select Committee on Superannuation](https://trove.nla.gov.au/work/22095680) links to a page with a **Browse this collection** button. Clicking on the button displays details of 28 different reports published between 1992 and 2001.\n",
    "\n",
    "In this case, both the collection and the individual reports within it have their own separate work records. So the digitised version of the 1993 report on the *Super Complaints Tribunal* can be accessed directly from [this work record](https://trove.nla.gov.au/work/237349942), or by using the **Browse this collection** page.\n",
    "\n",
    "However, there are other examples where there are only work records for the collection, not the individual reports. This means you can only find and access the reports from the collection page, or in disaggregated form as separate articles.\n",
    "\n",
    "The quality of the metadata also varies. The report on the *Super Complaints Tribunal*, for example, actually has the title 'PP no. 388 of 1993, Report no. 10', and so won't be returned by a title search for 'super complaints tribunal'. Added to that, there are a large number of duplicate records. The marine sciences report has two work records with different titles.\n",
    "\n",
    "**All of this means that search results in the Parliamentary Papers are a mix of different types of things – collections, publications, articles, and duplicates – and it can be difficult to figure out what it is that you're actually searching, or how to limit your results to type of resource you want.**\n",
    "\n",
    "If you're using the web interface, this means that you'll have to spend some time working through your search results – digging into collection groupings, navigating between articles and issues, discarding duplicates, and managing missing metadata. If you're using the API to create datasets of Parliamentary Papers, you'll need to combine a number of approaches to make sure your dataset is as complete as possible."
   ]
  }
 ],
 "metadata": {
  "kernelspec": {
   "display_name": "Python 3 (ipykernel)",
   "language": "python",
   "name": "python3"
  },
  "language_info": {
   "codemirror_mode": {
    "name": "ipython",
    "version": 3
   },
   "file_extension": ".py",
   "mimetype": "text/x-python",
   "name": "python",
   "nbconvert_exporter": "python",
   "pygments_lexer": "ipython3",
   "version": "3.8.12"
  }
 },
 "nbformat": 4,
 "nbformat_minor": 5
}
