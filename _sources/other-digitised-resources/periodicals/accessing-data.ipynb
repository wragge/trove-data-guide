{
 "cells": [
  {
   "cell_type": "markdown",
   "id": "d91ee1c2-bef4-4614-a542-751e64b4a51d",
   "metadata": {
    "editable": true,
    "slideshow": {
     "slide_type": ""
    },
    "tags": []
   },
   "source": [
    "# Accessing data from periodicals"
   ]
  },
  {
   "cell_type": "code",
   "execution_count": 15,
   "id": "b5763230-ffbf-4801-930d-2a04d401916f",
   "metadata": {
    "editable": true,
    "slideshow": {
     "slide_type": ""
    },
    "tags": [
     "remove-cell"
    ]
   },
   "outputs": [
    {
     "data": {
      "text/plain": [
       "True"
      ]
     },
     "execution_count": 15,
     "metadata": {},
     "output_type": "execute_result"
    }
   ],
   "source": [
    "# Let's import the libraries we need.\n",
    "import os\n",
    "import requests\n",
    "import pandas as pd\n",
    "import altair as alt\n",
    "from myst_nb import glue\n",
    "from dotenv import load_dotenv\n",
    "load_dotenv()"
   ]
  },
  {
   "cell_type": "code",
   "execution_count": 16,
   "id": "bd47cb87-aa02-4572-8cde-4a7c12b85f5e",
   "metadata": {
    "editable": true,
    "slideshow": {
     "slide_type": ""
    },
    "tags": [
     "remove-cell"
    ]
   },
   "outputs": [],
   "source": [
    "# Insert your Trove API key\n",
    "API_KEY = \"YOUR API KEY\"\n",
    "\n",
    "# Use api key value from environment variables if it is available\n",
    "if os.getenv(\"TROVE_API_KEY\"):\n",
    "    API_KEY = os.getenv(\"TROVE_API_KEY\")"
   ]
  },
  {
   "cell_type": "markdown",
   "id": "6174b1ba-873c-4f6d-89b2-0b3963dab7a2",
   "metadata": {
    "editable": true,
    "slideshow": {
     "slide_type": ""
    },
    "tags": []
   },
   "source": [
    "## What periodicals have been digitised?\n",
    "\n",
    "Search for [\"nla.obj\" NOT series:\"Parliamentary paper (Australia. Parliament)\" NOT nuc:\"ANL:NED\" and `l-format=Periodical` and `l-availability=y`](https://trove.nla.gov.au/search/category/books?keyword=%22nla.obj%22%20NOT%20series%3A%22Parliamentary%20paper%20%28Australia.%20Parliament%29%22%20NOT%20nuc%3A%22ANL%3ANED%22&l-format=Periodical&l-availability=y) in different categories (mostly B&L) : 968 results\n",
    "\n",
    "API provides another option\n",
    "\n",
    "Limits/problems:\n",
    "\n",
    "- includes parliamentary papers\n",
    "- hundreds of duplicates\n",
    "- titles that have had articles extracted from them\n",
    "- some missing?\n",
    "- no links to works (some ISSNs)\n",
    "\n",
    "Differences between the two sources.\n",
    "\n",
    "No work links from API but can get extra metadata from collection page -- include link to NLA catalogue and MARC data\n",
    "\n",
    "- Get a list of titles\n",
    "- Get a list of issues for a title\n",
    "- Get extra info about issues (number of pages etc)\n",
    "- Search for articles\n",
    "- Get text from articles\n",
    "- Get articles in an issue (from embedded metadata)\n",
    "- Get text from issue\n",
    "- Get text from title\n",
    "- Get covers of title\n",
    "- Get pages of issue"
   ]
  },
  {
   "cell_type": "code",
   "execution_count": null,
   "id": "94576871-21b2-4df2-b31f-1604bae89239",
   "metadata": {
    "editable": true,
    "slideshow": {
     "slide_type": ""
    },
    "tags": []
   },
   "outputs": [],
   "source": []
  },
  {
   "cell_type": "markdown",
   "id": "432fa9e7-5b7e-432d-bc94-745b6cca73d9",
   "metadata": {
    "editable": true,
    "slideshow": {
     "slide_type": ""
    },
    "tags": []
   },
   "source": [
    "## Periodical titles\n",
    "\n",
    "Finding out which periodicals in Trove have been digitised is not straightforward. There are two basic approaches:\n",
    "\n",
    "- use the `magazine/titles` API endpoint to retrieve a list of digitised periodical titles\n",
    "- search for `\"nla.obj\"` to find digitised items, setting the `format` facet to `Periodical` and the `availability` facet to `y`\n",
    "\n",
    "These two approaches return similar, but not identical, sets of results. Both have problems and inconsistencies. The best method will probably depend on what you want to do with the data.\n",
    "\n",
    "### Using the `magazine/titles` API endpoint\n",
    "\n",
    "The `magazine/titles` endpoint was introduced in version 3 of the Trove API. If you send a request to the `magazine/titles` you get back the first group of periodical titles. The maximum number of titles per request is 100, which you can set using the `limit` parameter. \n",
    "\n",
    "[![Try it!](https://troveconsole.herokuapp.com/static/img/try-trove-api-console.svg)](https://troveconsole.herokuapp.com/v3/?url=https%3A%2F%2Fapi.trove.nla.gov.au%2Fv3%2Fmagazine%2Ftitles%3Fencoding%3Djson%26limit%3D100&comment=)\n",
    "\n",
    "The `total` field of the API response tells you the total number of records. Here's an example."
   ]
  },
  {
   "cell_type": "code",
   "execution_count": 33,
   "id": "5a4a88e6-196a-47d4-a625-262b455f060c",
   "metadata": {
    "editable": true,
    "slideshow": {
     "slide_type": ""
    },
    "tags": [
     "hide-input"
    ]
   },
   "outputs": [
    {
     "name": "stdout",
     "output_type": "stream",
     "text": [
      "There are 2,504 records\n"
     ]
    }
   ],
   "source": [
    "import requests\n",
    "\n",
    "params = {\n",
    "    \"encoding\": \"json\"\n",
    "}\n",
    "\n",
    "headers = {\"X-API-KEY\": API_KEY}\n",
    "\n",
    "response = requests.get(\"https://api.trove.nla.gov.au/v3/magazine/titles\", headers=headers, params=params)\n",
    "data = response.json()\n",
    "\n",
    "print(f\"There are currently {data['total']:,} periodical records\")"
   ]
  },
  {
   "cell_type": "markdown",
   "id": "25cee24d-9ba6-4de3-886d-a20f030febaf",
   "metadata": {
    "editable": true,
    "slideshow": {
     "slide_type": ""
    },
    "tags": []
   },
   "source": [
    "```{warning}\n",
    "The number of records doesn't neccessarily reflect the number of digitised periodicals. The data currently includes many duplicates as well as Commonwealth Parliamentary Papers. See below for details and workarounds.\n",
    "```\n",
    "\n",
    "Here's an example of a periodical record. The `troveUrl` links go directly to the [digital collection viewer](interfaces:digitised-collection-viewer).\n",
    "\n",
    "```json\n",
    "{\n",
    "    \"id\": \"nla.obj-3000083880\",\n",
    "    \"title\": \"Adelaide punch.\",\n",
    "    \"publisher\": \"W.G. Roberts\",\n",
    "    \"place\": [\n",
    "        \"South Australia\"\n",
    "    ],\n",
    "    \"troveUrl\": \"https://nla.gov.au/nla.obj-3000083880\",\n",
    "    \"startDate\": \"1868-01-01\",\n",
    "    \"endDate\": \"1884-01-01\"\n",
    "}\n",
    "```\n",
    "\n",
    "#### Harvest all of the records\n",
    "\n",
    "To harvest details of *all* titles, you need to work your way through the complete dataset by using the `offset` parameter to move each request forward to the next group of titles. So if `limit` is set to `100`, your first request would have an `offset` value of `0`, and your second request would have an `offset` value of `100`. You'd then keep incrementing the `offset` value by 100 until you reach the end of the dataset. Here's a full example."
   ]
  },
  {
   "cell_type": "code",
   "execution_count": 36,
   "id": "dd5c3823-42c0-4aa8-97a9-004db72b4866",
   "metadata": {
    "editable": true,
    "slideshow": {
     "slide_type": ""
    },
    "tags": [
     "hide-input"
    ]
   },
   "outputs": [
    {
     "data": {
      "text/plain": [
       "[{'id': 'nla.obj-2526944948',\n",
       "  'title': '... Annual report of the Canned Fruits Control Board for the year ...',\n",
       "  'publisher': 'Printed and published for the Government of the Commonwealth of Australia by L. F. Johnston, Government Printer',\n",
       "  'place': ['Australia'],\n",
       "  'troveUrl': 'https://nla.gov.au/nla.obj-2526944948',\n",
       "  'startDate': '1927-01-01',\n",
       "  'endDate': '1937-06-30'},\n",
       " {'id': 'nla.obj-244631375',\n",
       "  'title': '... musical cabinet, no. 1-37 by W.H. Glen & Co. [1875-1903]',\n",
       "  'publisher': 'W.H. Glen & Co.',\n",
       "  'troveUrl': 'https://nla.gov.au/nla.obj-244631375'}]"
      ]
     },
     "metadata": {},
     "output_type": "display_data"
    }
   ],
   "source": [
    "import requests\n",
    "\n",
    "# The maximum number of records at a time is 100\n",
    "# To page through the complete list use the offset value\n",
    "params = {\n",
    "    \"encoding\": \"json\",\n",
    "    \"limit\": 100,\n",
    "    \"offset\": 0\n",
    "}\n",
    "\n",
    "headers = {\"X-API-KEY\": API_KEY}\n",
    "\n",
    "# Create a list to store the harvested titles in\n",
    "titles = []\n",
    "# When we reach the end, this will be set to False\n",
    "more = True\n",
    "\n",
    "# Continue until there's no more records\n",
    "while more:\n",
    "    # Request the data\n",
    "    response = requests.get(\"https://api.trove.nla.gov.au/v3/magazine/titles\", params=params, headers=headers)\n",
    "    data = response.json()\n",
    "    \n",
    "    # If there are results there'll be a `magazine` key.\n",
    "    # We can check this to see if we're at the end of the data.\n",
    "    if \"magazine\" in data:\n",
    "        # Add the titles\n",
    "        titles += data[\"magazine\"]\n",
    "        # Update the offset value\n",
    "        params[\"offset\"] += 100\n",
    "    # If there's no records we must be at the end of the data\n",
    "    else:\n",
    "        more = False\n",
    "\n",
    "# Display the first two titles\n",
    "display(titles[0:2])"
   ]
  },
  {
   "cell_type": "markdown",
   "id": "f14bd9d7-79cf-44d8-bb6e-2e28a022a0a8",
   "metadata": {
    "editable": true,
    "slideshow": {
     "slide_type": ""
    },
    "tags": []
   },
   "source": [
    "#### Data problems and workarounds\n",
    "\n",
    "By converting the list of titles into a dataframe, you can explore the contents.\n",
    "\n",
    "How many titles are there?"
   ]
  },
  {
   "cell_type": "markdown",
   "id": "162cb205-1538-4607-8efc-ba8f2a7a70e0",
   "metadata": {
    "editable": true,
    "slideshow": {
     "slide_type": ""
    },
    "tags": []
   },
   "source": [
    "The metadata available for each title varies. Every entry has an `id`, `title`, and `troveUrl`, and most have a `publisher`, `startDate` and `endDate`. Here's the percentage of missing values for each column."
   ]
  },
  {
   "cell_type": "code",
   "execution_count": 19,
   "id": "22fd8745-2960-49ff-8db2-f90eb6e9bc09",
   "metadata": {},
   "outputs": [
    {
     "data": {
      "text/html": [
       "<style type=\"text/css\">\n",
       "</style>\n",
       "<table id=\"T_e79ea\">\n",
       "  <thead>\n",
       "  </thead>\n",
       "  <tbody>\n",
       "    <tr>\n",
       "      <th id=\"T_e79ea_level0_row0\" class=\"row_heading level0 row0\" >id</th>\n",
       "      <td id=\"T_e79ea_row0_col0\" class=\"data row0 col0\" >0.00%</td>\n",
       "    </tr>\n",
       "    <tr>\n",
       "      <th id=\"T_e79ea_level0_row1\" class=\"row_heading level0 row1\" >title</th>\n",
       "      <td id=\"T_e79ea_row1_col0\" class=\"data row1 col0\" >0.00%</td>\n",
       "    </tr>\n",
       "    <tr>\n",
       "      <th id=\"T_e79ea_level0_row2\" class=\"row_heading level0 row2\" >publisher</th>\n",
       "      <td id=\"T_e79ea_row2_col0\" class=\"data row2 col0\" >0.52%</td>\n",
       "    </tr>\n",
       "    <tr>\n",
       "      <th id=\"T_e79ea_level0_row3\" class=\"row_heading level0 row3\" >place</th>\n",
       "      <td id=\"T_e79ea_row3_col0\" class=\"data row3 col0\" >19.17%</td>\n",
       "    </tr>\n",
       "    <tr>\n",
       "      <th id=\"T_e79ea_level0_row4\" class=\"row_heading level0 row4\" >troveUrl</th>\n",
       "      <td id=\"T_e79ea_row4_col0\" class=\"data row4 col0\" >0.00%</td>\n",
       "    </tr>\n",
       "    <tr>\n",
       "      <th id=\"T_e79ea_level0_row5\" class=\"row_heading level0 row5\" >startDate</th>\n",
       "      <td id=\"T_e79ea_row5_col0\" class=\"data row5 col0\" >0.44%</td>\n",
       "    </tr>\n",
       "    <tr>\n",
       "      <th id=\"T_e79ea_level0_row6\" class=\"row_heading level0 row6\" >endDate</th>\n",
       "      <td id=\"T_e79ea_row6_col0\" class=\"data row6 col0\" >9.98%</td>\n",
       "    </tr>\n",
       "    <tr>\n",
       "      <th id=\"T_e79ea_level0_row7\" class=\"row_heading level0 row7\" >issn</th>\n",
       "      <td id=\"T_e79ea_row7_col0\" class=\"data row7 col0\" >57.75%</td>\n",
       "    </tr>\n",
       "  </tbody>\n",
       "</table>\n"
      ],
      "text/plain": [
       "<pandas.io.formats.style.Styler at 0x7f4b42608e50>"
      ]
     },
     "execution_count": 19,
     "metadata": {},
     "output_type": "execute_result"
    }
   ],
   "source": [
    "(df_titles.isnull().sum() / df_titles.shape[0]).to_frame().style.format({0: \"{:.2%}\"}).hide(axis=1)"
   ]
  },
  {
   "cell_type": "markdown",
   "id": "42d3fabb-b7b7-4bbe-ac4a-94ae0f3551f9",
   "metadata": {
    "editable": true,
    "slideshow": {
     "slide_type": ""
    },
    "tags": []
   },
   "source": [
    "#### Removing duplicates"
   ]
  },
  {
   "cell_type": "markdown",
   "id": "0d9b591b-e276-40af-ad55-edc5fd7144db",
   "metadata": {
    "editable": true,
    "slideshow": {
     "slide_type": ""
    },
    "tags": []
   },
   "source": [
    "Unfortunately the `magazine/titles` endpoint data includes a significant number of duplicate records. Here's some examples."
   ]
  },
  {
   "cell_type": "code",
   "execution_count": 20,
   "id": "bdd56221-8b2f-4ee1-8a82-247316731891",
   "metadata": {
    "editable": true,
    "slideshow": {
     "slide_type": ""
    },
    "tags": []
   },
   "outputs": [
    {
     "data": {
      "text/html": [
       "<div>\n",
       "<style scoped>\n",
       "    .dataframe tbody tr th:only-of-type {\n",
       "        vertical-align: middle;\n",
       "    }\n",
       "\n",
       "    .dataframe tbody tr th {\n",
       "        vertical-align: top;\n",
       "    }\n",
       "\n",
       "    .dataframe thead th {\n",
       "        text-align: right;\n",
       "    }\n",
       "</style>\n",
       "<table border=\"1\" class=\"dataframe\">\n",
       "  <thead>\n",
       "    <tr style=\"text-align: right;\">\n",
       "      <th></th>\n",
       "      <th>id</th>\n",
       "      <th>title</th>\n",
       "      <th>publisher</th>\n",
       "      <th>place</th>\n",
       "      <th>troveUrl</th>\n",
       "      <th>startDate</th>\n",
       "      <th>endDate</th>\n",
       "      <th>issn</th>\n",
       "    </tr>\n",
       "  </thead>\n",
       "  <tbody>\n",
       "    <tr>\n",
       "      <th>166</th>\n",
       "      <td>nla.obj-1006706212</td>\n",
       "      <td>Annual report</td>\n",
       "      <td>Australian Government Publishing Service</td>\n",
       "      <td>[Australia]</td>\n",
       "      <td>https://nla.gov.au/nla.obj-1006706212</td>\n",
       "      <td>1986-01-01</td>\n",
       "      <td>1991-06-30</td>\n",
       "      <td>0818-6049</td>\n",
       "    </tr>\n",
       "    <tr>\n",
       "      <th>508</th>\n",
       "      <td>nla.obj-1006706212</td>\n",
       "      <td>Annual report</td>\n",
       "      <td>Australian Government Publishing Service</td>\n",
       "      <td>[Australia]</td>\n",
       "      <td>https://nla.gov.au/nla.obj-1006706212</td>\n",
       "      <td>1986-01-01</td>\n",
       "      <td>1991-06-30</td>\n",
       "      <td>0818-6049</td>\n",
       "    </tr>\n",
       "    <tr>\n",
       "      <th>165</th>\n",
       "      <td>nla.obj-1006814935</td>\n",
       "      <td>Annual report</td>\n",
       "      <td>Australian Govt. Pub. Service</td>\n",
       "      <td>[Australia]</td>\n",
       "      <td>https://nla.gov.au/nla.obj-1006814935</td>\n",
       "      <td>1986-01-01</td>\n",
       "      <td>1990-06-30</td>\n",
       "      <td>0818-4763</td>\n",
       "    </tr>\n",
       "    <tr>\n",
       "      <th>509</th>\n",
       "      <td>nla.obj-1006814935</td>\n",
       "      <td>Annual report</td>\n",
       "      <td>Australian Govt. Pub. Service</td>\n",
       "      <td>[Australia]</td>\n",
       "      <td>https://nla.gov.au/nla.obj-1006814935</td>\n",
       "      <td>1986-01-01</td>\n",
       "      <td>1990-06-30</td>\n",
       "      <td>0818-4763</td>\n",
       "    </tr>\n",
       "    <tr>\n",
       "      <th>164</th>\n",
       "      <td>nla.obj-1006922376</td>\n",
       "      <td>Annual report</td>\n",
       "      <td>Australian Government Publishing Service</td>\n",
       "      <td>[Australia]</td>\n",
       "      <td>https://nla.gov.au/nla.obj-1006922376</td>\n",
       "      <td>1986-01-01</td>\n",
       "      <td>1990-06-30</td>\n",
       "      <td>0819-5293</td>\n",
       "    </tr>\n",
       "    <tr>\n",
       "      <th>510</th>\n",
       "      <td>nla.obj-1006922376</td>\n",
       "      <td>Annual report</td>\n",
       "      <td>Australian Government Publishing Service</td>\n",
       "      <td>[Australia]</td>\n",
       "      <td>https://nla.gov.au/nla.obj-1006922376</td>\n",
       "      <td>1986-01-01</td>\n",
       "      <td>1990-06-30</td>\n",
       "      <td>0819-5293</td>\n",
       "    </tr>\n",
       "  </tbody>\n",
       "</table>\n",
       "</div>"
      ],
      "text/plain": [
       "                     id          title  \\\n",
       "166  nla.obj-1006706212  Annual report   \n",
       "508  nla.obj-1006706212  Annual report   \n",
       "165  nla.obj-1006814935  Annual report   \n",
       "509  nla.obj-1006814935  Annual report   \n",
       "164  nla.obj-1006922376  Annual report   \n",
       "510  nla.obj-1006922376  Annual report   \n",
       "\n",
       "                                    publisher        place  \\\n",
       "166  Australian Government Publishing Service  [Australia]   \n",
       "508  Australian Government Publishing Service  [Australia]   \n",
       "165             Australian Govt. Pub. Service  [Australia]   \n",
       "509             Australian Govt. Pub. Service  [Australia]   \n",
       "164  Australian Government Publishing Service  [Australia]   \n",
       "510  Australian Government Publishing Service  [Australia]   \n",
       "\n",
       "                                  troveUrl   startDate     endDate       issn  \n",
       "166  https://nla.gov.au/nla.obj-1006706212  1986-01-01  1991-06-30  0818-6049  \n",
       "508  https://nla.gov.au/nla.obj-1006706212  1986-01-01  1991-06-30  0818-6049  \n",
       "165  https://nla.gov.au/nla.obj-1006814935  1986-01-01  1990-06-30  0818-4763  \n",
       "509  https://nla.gov.au/nla.obj-1006814935  1986-01-01  1990-06-30  0818-4763  \n",
       "164  https://nla.gov.au/nla.obj-1006922376  1986-01-01  1990-06-30  0819-5293  \n",
       "510  https://nla.gov.au/nla.obj-1006922376  1986-01-01  1990-06-30  0819-5293  "
      ]
     },
     "execution_count": 20,
     "metadata": {},
     "output_type": "execute_result"
    }
   ],
   "source": [
    "df_titles.loc[df_titles.duplicated([\"id\"], keep=False)].sort_values(\"id\").head(6)"
   ]
  },
  {
   "cell_type": "markdown",
   "id": "1ac37f98-1c20-46c8-bdea-228c398831c1",
   "metadata": {
    "editable": true,
    "slideshow": {
     "slide_type": ""
    },
    "tags": []
   },
   "source": [
    "If you know that they're there, the duplicates are easy to remove."
   ]
  },
  {
   "cell_type": "code",
   "execution_count": 21,
   "id": "6b9803c6-d74c-4438-9a04-62c9626ad5f7",
   "metadata": {
    "editable": true,
    "slideshow": {
     "slide_type": ""
    },
    "tags": []
   },
   "outputs": [],
   "source": [
    "df_titles.drop_duplicates([\"id\"], inplace=True)"
   ]
  },
  {
   "cell_type": "markdown",
   "id": "6ca35ed8-3bea-400a-bd3a-4bdb8c3d90ff",
   "metadata": {},
   "source": [
    "How many titles are there now?"
   ]
  },
  {
   "cell_type": "code",
   "execution_count": 22,
   "id": "23d42481-8f5e-4198-83d7-4e44ac406750",
   "metadata": {},
   "outputs": [
    {
     "data": {
      "text/plain": [
       "2193"
      ]
     },
     "execution_count": 22,
     "metadata": {},
     "output_type": "execute_result"
    }
   ],
   "source": [
    "df_titles.shape[0]"
   ]
  },
  {
   "cell_type": "markdown",
   "id": "7d426f6f-6221-49a1-a00b-820073392128",
   "metadata": {
    "editable": true,
    "slideshow": {
     "slide_type": ""
    },
    "tags": []
   },
   "source": [
    "#### Removing parliamentary papers\n",
    "\n",
    "To get a sense of the types of periodicals in the dataset you can look at the titles. You'll see that many of them are just called 'Annual report'."
   ]
  },
  {
   "cell_type": "code",
   "execution_count": 23,
   "id": "ef764b8a-a89f-4663-a80b-de54dbc199ca",
   "metadata": {
    "editable": true,
    "slideshow": {
     "slide_type": ""
    },
    "tags": []
   },
   "outputs": [
    {
     "data": {
      "text/html": [
       "<style type=\"text/css\">\n",
       "</style>\n",
       "<table id=\"T_828bb\">\n",
       "  <thead>\n",
       "    <tr>\n",
       "      <th class=\"index_name level0\" >title</th>\n",
       "      <th class=\"blank col0\" >&nbsp;</th>\n",
       "    </tr>\n",
       "  </thead>\n",
       "  <tbody>\n",
       "    <tr>\n",
       "      <th id=\"T_828bb_level0_row0\" class=\"row_heading level0 row0\" >Annual report</th>\n",
       "      <td id=\"T_828bb_row0_col0\" class=\"data row0 col0\" >350</td>\n",
       "    </tr>\n",
       "    <tr>\n",
       "      <th id=\"T_828bb_level0_row1\" class=\"row_heading level0 row1\" >Report</th>\n",
       "      <td id=\"T_828bb_row1_col0\" class=\"data row1 col0\" >55</td>\n",
       "    </tr>\n",
       "    <tr>\n",
       "      <th id=\"T_828bb_level0_row2\" class=\"row_heading level0 row2\" >Notes on the science of building.</th>\n",
       "      <td id=\"T_828bb_row2_col0\" class=\"data row2 col0\" >26</td>\n",
       "    </tr>\n",
       "    <tr>\n",
       "      <th id=\"T_828bb_level0_row3\" class=\"row_heading level0 row3\" >The Newcastle and Maitland Catholic Sentinel : the official organ of the diocese of Maitland.</th>\n",
       "      <td id=\"T_828bb_row3_col0\" class=\"data row3 col0\" >11</td>\n",
       "    </tr>\n",
       "    <tr>\n",
       "      <th id=\"T_828bb_level0_row4\" class=\"row_heading level0 row4\" >Report for the period ...</th>\n",
       "      <td id=\"T_828bb_row4_col0\" class=\"data row4 col0\" >9</td>\n",
       "    </tr>\n",
       "    <tr>\n",
       "      <th id=\"T_828bb_level0_row5\" class=\"row_heading level0 row5\" >Annual report for year ended ...</th>\n",
       "      <td id=\"T_828bb_row5_col0\" class=\"data row5 col0\" >5</td>\n",
       "    </tr>\n",
       "    <tr>\n",
       "      <th id=\"T_828bb_level0_row6\" class=\"row_heading level0 row6\" >Report for ...</th>\n",
       "      <td id=\"T_828bb_row6_col0\" class=\"data row6 col0\" >5</td>\n",
       "    </tr>\n",
       "    <tr>\n",
       "      <th id=\"T_828bb_level0_row7\" class=\"row_heading level0 row7\" >Bulletin</th>\n",
       "      <td id=\"T_828bb_row7_col0\" class=\"data row7 col0\" >4</td>\n",
       "    </tr>\n",
       "    <tr>\n",
       "      <th id=\"T_828bb_level0_row8\" class=\"row_heading level0 row8\" >Reports on the examination of annual reports</th>\n",
       "      <td id=\"T_828bb_row8_col0\" class=\"data row8 col0\" >4</td>\n",
       "    </tr>\n",
       "    <tr>\n",
       "      <th id=\"T_828bb_level0_row9\" class=\"row_heading level0 row9\" >Civil works program</th>\n",
       "      <td id=\"T_828bb_row9_col0\" class=\"data row9 col0\" >4</td>\n",
       "    </tr>\n",
       "  </tbody>\n",
       "</table>\n"
      ],
      "text/plain": [
       "<pandas.io.formats.style.Styler at 0x7f4b42572350>"
      ]
     },
     "metadata": {},
     "output_type": "display_data"
    }
   ],
   "source": [
    "display(df_titles[\"title\"].value_counts()[:10].to_frame().style.hide(axis=1))"
   ]
  },
  {
   "cell_type": "markdown",
   "id": "6fe37fa1-462e-4908-8522-a4c65b7eb9cd",
   "metadata": {},
   "source": [
    "This reflects the fact that many of the periodicals in the `magazine/titles` endpoint data are actually Parliamentary Papers. This may not be what you expect or want. There's no metadata field in the API results that identifies Parliamentary Papers, so there's no easy way to filter them out. The only way to exclude them is to compare the list of periodical titles with a previously-harvested list of Parliamentary Papers. The code below extracts identifiers from a dataset of Parliamentary Papers, and uses them as a filter on the list of titles."
   ]
  },
  {
   "cell_type": "code",
   "execution_count": 24,
   "id": "fd23992f-f85b-45da-b91c-1ee437ee45cd",
   "metadata": {
    "editable": true,
    "slideshow": {
     "slide_type": ""
    },
    "tags": []
   },
   "outputs": [],
   "source": [
    "# Load the Parliamentary Pepers dataset\n",
    "df_pp = pd.read_csv(\"https://github.com/GLAM-Workbench/trove-parliamentary-papers-data/raw/main/trove-parliamentary-papers.csv\", keep_default_na=False)\n",
    "\n",
    "# The PP dataset contains individual publications (issues), the parent of an issue should be the periodical title.\n",
    "# Extract and dedupe the ids from the parent field.\n",
    "pp_ids = list(df_pp.loc[df_pp[\"parent\"] != \"\"][\"parent\"].str.split(\"|\").explode().reset_index()[\"parent\"].unique())\n",
    "\n",
    "# Exclude titles that whose id is in the list of PP parent ids\n",
    "df_notpp = df_titles.loc[~df_titles[\"id\"].isin(pp_ids)]"
   ]
  },
  {
   "cell_type": "markdown",
   "id": "ca5e9013-7024-4857-8f67-3af1283a1100",
   "metadata": {
    "editable": true,
    "slideshow": {
     "slide_type": ""
    },
    "tags": []
   },
   "source": [
    "How many titles are left?"
   ]
  },
  {
   "cell_type": "code",
   "execution_count": 25,
   "id": "d1975912-6873-4e61-9e63-b389f82a9cee",
   "metadata": {},
   "outputs": [
    {
     "data": {
      "text/plain": [
       "949"
      ]
     },
     "execution_count": 25,
     "metadata": {},
     "output_type": "execute_result"
    }
   ],
   "source": [
    "df_notpp.shape[0]"
   ]
  },
  {
   "cell_type": "markdown",
   "id": "64edbc93-23c3-4a21-be20-9ecb061af5b8",
   "metadata": {},
   "source": [
    "#### Data problems\n",
    "\n",
    "Once you start working with the data from the `magazine/titles` endpoint you might notice other problems, such as:\n",
    "\n",
    "- some of the entries point to periodical issues, rather than titles (that's why there's multiple entries for *The Newcastle and Maitland Catholic Sentinel* in the list above)\n",
    "- some of the titles point to"
   ]
  },
  {
   "cell_type": "markdown",
   "id": "59462b46-2982-4c11-af85-27dadee58925",
   "metadata": {},
   "source": [
    "### Get details of an individual title\n",
    "\n",
    "You can use the `magazine/title` endpoint to retrieve information about an individual periodical title. You can supply either an `nla.obj` identifier or a numeric work identifier. For example, to get details about the [*Journal of Soil Conservation*](https://trove.nla.gov.au/work/10411388) you can either use it's work identifier `10411388`:\n",
    "\n",
    "`https://api.trove.nla.gov.au/v3/magazine/title/10411388?encoding=json`\n",
    "\n",
    "[![Try it!](https://troveconsole.herokuapp.com/static/img/try-trove-api-console.svg)](https://troveconsole.herokuapp.com/v3/?url=https%3A%2F%2Fapi.trove.nla.gov.au%2Fv3%2Fmagazine%2Ftitle%2F10411388%3Fencoding%3Djson&comment=)\n",
    "\n",
    "Or you can use it's digital object identifier `nla.obj-740911077`:\n",
    "\n",
    "`https://api.trove.nla.gov.au/v3/magazine/title/nla.obj-740911077?encoding=json`\n",
    "\n",
    "[![Try it!](https://troveconsole.herokuapp.com/static/img/try-trove-api-console.svg)](https://troveconsole.herokuapp.com/v3/?url=https%3A%2F%2Fapi.trove.nla.gov.au%2Fv3%2Fmagazine%2Ftitle%2Fnla.obj-740911077%3Fencoding%3Djson&comment=)\n",
    "\n",
    "Both of these requests return exactly the same data:\n",
    "\n",
    "```json\n",
    "{\n",
    "    \"id\": \"nla.obj-740911077\",\n",
    "    \"title\": \"Journal of the Soil Conservation Service of New South Wales.\",\n",
    "    \"issn\": \"0028-6818\",\n",
    "    \"publisher\": \"Govt. Printer\",\n",
    "    \"place\": [\n",
    "        \"New South Wales\"\n",
    "    ],\n",
    "    \"troveUrl\": \"https://nla.gov.au/nla.obj-740911077\",\n",
    "    \"startDate\": \"1945-01-01\",\n",
    "    \"endDate\": \"1982-01-01\"\n",
    "}\n",
    "```\n",
    "\n",
    "You might notice that while you can use a periodical's work id to retrieve its API record, the data doesn't actually include a link *back* to the work. This means that there's no simple way to look up additional metadata describing a periodical using this API endpoint. To find a corresponding work record, you have to search for the digital object identifier using the `/result` endpoint. This is not an exact search, and will match the identifier wherever it appears in a record. As a result, it's likely to return multiple results and require some manual checking. Setting the `l-format` parameter to `Periodical` and `l-availability` to `y` should help narrow things down.\n",
    "\n",
    "[![Try it!](https://troveconsole.herokuapp.com/static/img/try-trove-api-console.svg)](https://troveconsole.herokuapp.com/v3/?url=https%3A%2F%2Fapi.trove.nla.gov.au%2Fv3%2Fresult%3Fq%3D%22nla.obj-740911077%22%26category%3Dbook%26l-format%3DPeriodical%26l-availability%3Dy%26encoding%3Djson&comment=)\n",
    "\n",
    "The data returned about individual periodicals using the `magazine/title` endpoint is the same as the data you get back about multiple titles using `magazine/titles`. However, there are a couple of additional parameters you can add to get information about issues from that periodical. These are described below."
   ]
  },
  {
   "cell_type": "markdown",
   "id": "6d7ec4e4-a9fc-476b-8616-935e2233a0b6",
   "metadata": {
    "editable": true,
    "slideshow": {
     "slide_type": ""
    },
    "tags": []
   },
   "source": [
    "## Issues\n",
    "\n",
    "You can use the `magazine/title` API endpoint to retrieve information about issues of a periodical that have been digitised and are available through Trove. As described above, you can get details about an individual periodical using either it's work identifier or `nla.obj` identifier.\n",
    "\n",
    "### Find the number of issues per year\n",
    "\n",
    "You can find the number of digitised issues per year by setting the `include` parameter to `years`. The data returned will include a list of years for which digitised issues are available, and the number of issues available each year. For example, to get issue counts from the *Australasian pocket almanack* (`nla.obj-2967431735`), you'd request:\n",
    "\n",
    "`https://api.trove.nla.gov.au/v3/magazine/title/nla.obj-2967431735?encoding=json&include=years`\n",
    "\n",
    "[![Try it!](https://troveconsole.herokuapp.com/static/img/try-trove-api-console.svg)](https://troveconsole.herokuapp.com/v3/?url=https%3A%2F%2Fapi.trove.nla.gov.au%2Fv3%2Fmagazine%2Ftitle%2Fnla.obj-2967431735%3Fencoding%3Djson%26include%3Dyears&comment=)\n",
    "\n",
    "Here's the data returned:\n",
    "\n",
    "```json\n",
    "{\n",
    "    \"id\": \"nla.obj-2967431735\",\n",
    "    \"title\": \"Australasian pocket almanack : for the year of Our Lord ...\",\n",
    "    \"publisher\": \"Compiled and printed by Robert Howe\",\n",
    "    \"place\": [\n",
    "        \"Australasia\"\n",
    "    ],\n",
    "    \"troveUrl\": \"https://nla.gov.au/nla.obj-2967431735\",\n",
    "    \"startDate\": \"1822-01-01\",\n",
    "    \"endDate\": \"1826-01-01\",\n",
    "    \"year\": [\n",
    "        {\n",
    "            \"date\": \"1822\",\n",
    "            \"issuecount\": 1\n",
    "        },\n",
    "        {\n",
    "            \"date\": \"1823\",\n",
    "            \"issuecount\": 1\n",
    "        },\n",
    "        {\n",
    "            \"date\": \"1824\",\n",
    "            \"issuecount\": 1\n",
    "        },\n",
    "        {\n",
    "            \"date\": \"1825\",\n",
    "            \"issuecount\": 1\n",
    "        },\n",
    "        {\n",
    "            \"date\": \"1826\",\n",
    "            \"issuecount\": 1\n",
    "        }\n",
    "    ]\n",
    "}\n",
    "```\n",
    "\n",
    "It's important to note that the `startDate` and `endDate` values don't necessarily match the range of years returned. I'm assuming that `startDate` and `endDate` are based on the available bibliographic data, while the list of years is generated from the issues that have actually been digitised. If any issues are undated, the list of years will include a value with the `date` set to `unknown`.\n",
    "\n",
    "Using this data you can calculate the range of available years and the total number of issues available."
   ]
  },
  {
   "cell_type": "code",
   "execution_count": 26,
   "id": "983c95be-d411-48a9-a23d-bc2c9189feca",
   "metadata": {
    "editable": true,
    "slideshow": {
     "slide_type": ""
    },
    "tags": []
   },
   "outputs": [
    {
     "name": "stdout",
     "output_type": "stream",
     "text": [
      "Journal of the Soil Conservation Service of New South Wales.\n",
      "First year: 1945\n",
      "Last year: 1982\n",
      "Total issues: 183\n"
     ]
    }
   ],
   "source": [
    "import requests\n",
    "\n",
    "obj_id = \"nla.obj-740911077\"\n",
    "\n",
    "params = {\n",
    "    \"include\": \"years\",\n",
    "    \"encoding\": \"json\"\n",
    "}\n",
    "\n",
    "headers = {\"X-API-KEY\": API_KEY}\n",
    "\n",
    "response = requests.get(f\"https://api.trove.nla.gov.au/v3/magazine/title/{obj_id}\", params=params, headers=headers)\n",
    "data = response.json()\n",
    "print(data[\"title\"])\n",
    "\n",
    "years = [y[\"date\"] for y in data[\"year\"]]\n",
    "years = sorted(years)\n",
    "print(f\"First year: {years[0]}\")\n",
    "print(f\"Last year: {years[-1]}\")\n",
    "\n",
    "issue_count = 0\n",
    "for year in data[\"year\"]:\n",
    "    issue_count += year[\"issuecount\"]\n",
    "print(f\"Total issues: {issue_count}\")"
   ]
  },
  {
   "cell_type": "markdown",
   "id": "4c9ed089-d6e6-426b-b13b-5fbd4c5c3290",
   "metadata": {},
   "source": [
    "You can also visualise the distribution of issues over time."
   ]
  },
  {
   "cell_type": "code",
   "execution_count": 27,
   "id": "6866f1ff-32ec-4635-9b8f-6f376f44a663",
   "metadata": {
    "editable": true,
    "slideshow": {
     "slide_type": ""
    },
    "tags": []
   },
   "outputs": [
    {
     "data": {
      "text/html": [
       "\n",
       "<style>\n",
       "  #altair-viz-f1aea3c839724fc78eae6cf80092a8c8.vega-embed {\n",
       "    width: 100%;\n",
       "    display: flex;\n",
       "  }\n",
       "\n",
       "  #altair-viz-f1aea3c839724fc78eae6cf80092a8c8.vega-embed details,\n",
       "  #altair-viz-f1aea3c839724fc78eae6cf80092a8c8.vega-embed details summary {\n",
       "    position: relative;\n",
       "  }\n",
       "</style>\n",
       "<div id=\"altair-viz-f1aea3c839724fc78eae6cf80092a8c8\"></div>\n",
       "<script type=\"text/javascript\">\n",
       "  var VEGA_DEBUG = (typeof VEGA_DEBUG == \"undefined\") ? {} : VEGA_DEBUG;\n",
       "  (function(spec, embedOpt){\n",
       "    let outputDiv = document.currentScript.previousElementSibling;\n",
       "    if (outputDiv.id !== \"altair-viz-f1aea3c839724fc78eae6cf80092a8c8\") {\n",
       "      outputDiv = document.getElementById(\"altair-viz-f1aea3c839724fc78eae6cf80092a8c8\");\n",
       "    }\n",
       "    const paths = {\n",
       "      \"vega\": \"https://cdn.jsdelivr.net/npm/vega@5?noext\",\n",
       "      \"vega-lib\": \"https://cdn.jsdelivr.net/npm/vega-lib?noext\",\n",
       "      \"vega-lite\": \"https://cdn.jsdelivr.net/npm/vega-lite@5.16.3?noext\",\n",
       "      \"vega-embed\": \"https://cdn.jsdelivr.net/npm/vega-embed@6?noext\",\n",
       "    };\n",
       "\n",
       "    function maybeLoadScript(lib, version) {\n",
       "      var key = `${lib.replace(\"-\", \"\")}_version`;\n",
       "      return (VEGA_DEBUG[key] == version) ?\n",
       "        Promise.resolve(paths[lib]) :\n",
       "        new Promise(function(resolve, reject) {\n",
       "          var s = document.createElement('script');\n",
       "          document.getElementsByTagName(\"head\")[0].appendChild(s);\n",
       "          s.async = true;\n",
       "          s.onload = () => {\n",
       "            VEGA_DEBUG[key] = version;\n",
       "            return resolve(paths[lib]);\n",
       "          };\n",
       "          s.onerror = () => reject(`Error loading script: ${paths[lib]}`);\n",
       "          s.src = paths[lib];\n",
       "        });\n",
       "    }\n",
       "\n",
       "    function showError(err) {\n",
       "      outputDiv.innerHTML = `<div class=\"error\" style=\"color:red;\">${err}</div>`;\n",
       "      throw err;\n",
       "    }\n",
       "\n",
       "    function displayChart(vegaEmbed) {\n",
       "      vegaEmbed(outputDiv, spec, embedOpt)\n",
       "        .catch(err => showError(`Javascript Error: ${err.message}<br>This usually means there's a typo in your chart specification. See the javascript console for the full traceback.`));\n",
       "    }\n",
       "\n",
       "    if(typeof define === \"function\" && define.amd) {\n",
       "      requirejs.config({paths});\n",
       "      require([\"vega-embed\"], displayChart, err => showError(`Error loading script: ${err.message}`));\n",
       "    } else {\n",
       "      maybeLoadScript(\"vega\", \"5\")\n",
       "        .then(() => maybeLoadScript(\"vega-lite\", \"5.16.3\"))\n",
       "        .then(() => maybeLoadScript(\"vega-embed\", \"6\"))\n",
       "        .catch(showError)\n",
       "        .then(() => displayChart(vegaEmbed));\n",
       "    }\n",
       "  })({\"config\": {\"view\": {\"continuousWidth\": 300, \"continuousHeight\": 300}}, \"data\": {\"name\": \"data-dedc7414efb11403065c8147a7254f6a\"}, \"mark\": {\"type\": \"bar\"}, \"encoding\": {\"x\": {\"field\": \"date\", \"type\": \"temporal\"}, \"y\": {\"field\": \"issuecount\", \"type\": \"quantitative\"}}, \"title\": \"The bulletin.\", \"width\": 600, \"$schema\": \"https://vega.github.io/schema/vega-lite/v5.16.3.json\", \"datasets\": {\"data-dedc7414efb11403065c8147a7254f6a\": [{\"date\": \"1880\", \"issuecount\": 48}, {\"date\": \"1881\", \"issuecount\": 53}, {\"date\": \"1882\", \"issuecount\": 52}, {\"date\": \"1883\", \"issuecount\": 52}, {\"date\": \"1884\", \"issuecount\": 52}, {\"date\": \"1885\", \"issuecount\": 52}, {\"date\": \"1886\", \"issuecount\": 53}, {\"date\": \"1887\", \"issuecount\": 57}, {\"date\": \"1888\", \"issuecount\": 52}, {\"date\": \"1889\", \"issuecount\": 52}, {\"date\": \"1890\", \"issuecount\": 52}, {\"date\": \"1891\", \"issuecount\": 52}, {\"date\": \"1892\", \"issuecount\": 53}, {\"date\": \"1893\", \"issuecount\": 52}, {\"date\": \"1894\", \"issuecount\": 52}, {\"date\": \"1895\", \"issuecount\": 53}, {\"date\": \"1896\", \"issuecount\": 50}, {\"date\": \"1897\", \"issuecount\": 52}, {\"date\": \"1898\", \"issuecount\": 54}, {\"date\": \"1899\", \"issuecount\": 52}, {\"date\": \"1900\", \"issuecount\": 52}, {\"date\": \"1901\", \"issuecount\": 52}, {\"date\": \"1902\", \"issuecount\": 52}, {\"date\": \"1903\", \"issuecount\": 54}, {\"date\": \"1904\", \"issuecount\": 52}, {\"date\": \"1905\", \"issuecount\": 52}, {\"date\": \"1906\", \"issuecount\": 52}, {\"date\": \"1907\", \"issuecount\": 52}, {\"date\": \"1908\", \"issuecount\": 53}, {\"date\": \"1909\", \"issuecount\": 52}, {\"date\": \"1910\", \"issuecount\": 52}, {\"date\": \"1911\", \"issuecount\": 52}, {\"date\": \"1912\", \"issuecount\": 52}, {\"date\": \"1913\", \"issuecount\": 54}, {\"date\": \"1914\", \"issuecount\": 54}, {\"date\": \"1915\", \"issuecount\": 53}, {\"date\": \"1916\", \"issuecount\": 52}, {\"date\": \"1917\", \"issuecount\": 52}, {\"date\": \"1918\", \"issuecount\": 52}, {\"date\": \"1919\", \"issuecount\": 53}, {\"date\": \"1920\", \"issuecount\": 54}, {\"date\": \"1921\", \"issuecount\": 52}, {\"date\": \"1922\", \"issuecount\": 52}, {\"date\": \"1923\", \"issuecount\": 52}, {\"date\": \"1924\", \"issuecount\": 53}, {\"date\": \"1925\", \"issuecount\": 54}, {\"date\": \"1926\", \"issuecount\": 53}, {\"date\": \"1927\", \"issuecount\": 53}, {\"date\": \"1928\", \"issuecount\": 53}, {\"date\": \"1929\", \"issuecount\": 53}, {\"date\": \"1930\", \"issuecount\": 53}, {\"date\": \"1931\", \"issuecount\": 52}, {\"date\": \"1932\", \"issuecount\": 52}, {\"date\": \"1933\", \"issuecount\": 52}, {\"date\": \"1934\", \"issuecount\": 52}, {\"date\": \"1935\", \"issuecount\": 52}, {\"date\": \"1936\", \"issuecount\": 53}, {\"date\": \"1937\", \"issuecount\": 52}, {\"date\": \"1938\", \"issuecount\": 52}, {\"date\": \"1939\", \"issuecount\": 52}, {\"date\": \"1940\", \"issuecount\": 52}, {\"date\": \"1941\", \"issuecount\": 53}, {\"date\": \"1942\", \"issuecount\": 52}, {\"date\": \"1943\", \"issuecount\": 52}, {\"date\": \"1944\", \"issuecount\": 52}, {\"date\": \"1945\", \"issuecount\": 52}, {\"date\": \"1946\", \"issuecount\": 52}, {\"date\": \"1947\", \"issuecount\": 53}, {\"date\": \"1948\", \"issuecount\": 52}, {\"date\": \"1949\", \"issuecount\": 52}, {\"date\": \"1950\", \"issuecount\": 52}, {\"date\": \"1951\", \"issuecount\": 52}, {\"date\": \"1952\", \"issuecount\": 53}, {\"date\": \"1953\", \"issuecount\": 52}, {\"date\": \"1954\", \"issuecount\": 52}, {\"date\": \"1955\", \"issuecount\": 52}, {\"date\": \"1956\", \"issuecount\": 52}, {\"date\": \"1957\", \"issuecount\": 52}, {\"date\": \"1958\", \"issuecount\": 53}, {\"date\": \"1959\", \"issuecount\": 52}, {\"date\": \"1960\", \"issuecount\": 52}, {\"date\": \"1961\", \"issuecount\": 52}, {\"date\": \"1962\", \"issuecount\": 52}, {\"date\": \"1963\", \"issuecount\": 52}, {\"date\": \"1964\", \"issuecount\": 51}, {\"date\": \"1965\", \"issuecount\": 51}, {\"date\": \"1966\", \"issuecount\": 52}, {\"date\": \"1967\", \"issuecount\": 51}, {\"date\": \"1968\", \"issuecount\": 51}, {\"date\": \"1969\", \"issuecount\": 51}, {\"date\": \"1970\", \"issuecount\": 51}, {\"date\": \"1971\", \"issuecount\": 51}, {\"date\": \"1972\", \"issuecount\": 51}, {\"date\": \"1973\", \"issuecount\": 51}, {\"date\": \"1974\", \"issuecount\": 51}, {\"date\": \"1975\", \"issuecount\": 52}, {\"date\": \"1976\", \"issuecount\": 50}, {\"date\": \"1977\", \"issuecount\": 51}, {\"date\": \"1978\", \"issuecount\": 50}, {\"date\": \"1979\", \"issuecount\": 51}, {\"date\": \"1980\", \"issuecount\": 39}, {\"date\": \"1981\", \"issuecount\": 37}, {\"date\": \"1982\", \"issuecount\": 51}, {\"date\": \"1983\", \"issuecount\": 52}, {\"date\": \"1984\", \"issuecount\": 26}]}}, {\"mode\": \"vega-lite\"});\n",
       "</script>"
      ],
      "text/plain": [
       "alt.Chart(...)"
      ]
     },
     "execution_count": 27,
     "metadata": {},
     "output_type": "execute_result"
    }
   ],
   "source": [
    "import requests\n",
    "import altair as alt\n",
    "import pandas as pd\n",
    "\n",
    "work_id = \"11500235\"\n",
    "\n",
    "params = {\n",
    "    \"include\": \"years\",\n",
    "    \"encoding\": \"json\"\n",
    "}\n",
    "\n",
    "headers = {\"X-API-KEY\": API_KEY}\n",
    "\n",
    "response = requests.get(f\"https://api.trove.nla.gov.au/v3/magazine/title/{work_id}\", params=params, headers=headers)\n",
    "data = response.json()\n",
    "\n",
    "df_counts = pd.DataFrame(data[\"year\"])\n",
    "\n",
    "alt.Chart(df_counts).mark_bar().encode(\n",
    "    x=\"date:T\",\n",
    "    y=\"issuecount:Q\"\n",
    ").properties(width=600, title=data[\"title\"])"
   ]
  },
  {
   "cell_type": "markdown",
   "id": "282c06ec-123f-472e-9700-30f35fa509a5",
   "metadata": {
    "editable": true,
    "slideshow": {
     "slide_type": ""
    },
    "tags": []
   },
   "source": [
    "### Get a list of individual issues\n",
    "\n",
    "You can get details of individual issues from the `magazines/title` API endpoint by setting the `include` parameter to `years` and adding the `range` parameter to specify a date range. The `range` parameter needs to be in the format `YYYYMMDD-YYYYMMDD`. For example, to retrieve details of issues from 1920 to 1950, you'd use a `range` value of `19200101-19501231`.\n",
    "\n",
    "If the number of issues is fairly small, you can just use dummy dates to set the range well beyond the limits of the periodical, something like `18000101-21001231` for example. That means you'll get everything at once. \n",
    "\n",
    "So to get details of all issues in the *Australasian pocket almanack* (`nla.obj-2967431735`) you might request:\n",
    "\n",
    "`https://api.trove.nla.gov.au/v3/magazine/title/nla.obj-2967431735?encoding=json&include=years&range=18000101-21001231`\n",
    "\n",
    "[![Try it!](https://troveconsole.herokuapp.com/static/img/try-trove-api-console.svg)](https://troveconsole.herokuapp.com/v3/?url=https%3A%2F%2Fapi.trove.nla.gov.au%2Fv3%2Fmagazine%2Ftitle%2Fnla.obj-2967431735%3Fencoding%3Djson%26include%3Dyears%26range%3D18000101-21001231&comment=)\n",
    "\n",
    "The data will include a list of issues for each year:\n",
    "\n",
    "```json\n",
    "{\n",
    "    \"id\": \"nla.obj-2967431735\",\n",
    "    \"title\": \"Australasian pocket almanack : for the year of Our Lord ...\",\n",
    "    \"publisher\": \"Compiled and printed by Robert Howe\",\n",
    "    \"place\": [\n",
    "        \"Australasia\"\n",
    "    ],\n",
    "    \"troveUrl\": \"https://nla.gov.au/nla.obj-2967431735\",\n",
    "    \"startDate\": \"1822-01-01\",\n",
    "    \"endDate\": \"1826-01-01\",\n",
    "    \"year\": [\n",
    "        {\n",
    "            \"date\": \"1822\",\n",
    "            \"issuecount\": 1,\n",
    "            \"issue\": [\n",
    "                {\n",
    "                    \"id\": \"nla.obj-2967947168\",\n",
    "                    \"date\": \"1822-01-01\",\n",
    "                    \"url\": \"https://nla.gov.au/nla.obj-2967947168\"\n",
    "                }\n",
    "            ]\n",
    "        },\n",
    "        {\n",
    "            \"date\": \"1823\",\n",
    "            \"issuecount\": 1,\n",
    "            \"issue\": [\n",
    "                {\n",
    "                    \"id\": \"nla.obj-2977982467\",\n",
    "                    \"date\": \"1823-01-01\",\n",
    "                    \"url\": \"https://nla.gov.au/nla.obj-2977982467\"\n",
    "                }\n",
    "            ]\n",
    "        },\n",
    "        {\n",
    "            \"date\": \"1824\",\n",
    "            \"issuecount\": 1,\n",
    "            \"issue\": [\n",
    "                {\n",
    "                    \"id\": \"nla.obj-2969887983\",\n",
    "                    \"date\": \"1824-01-01\",\n",
    "                    \"url\": \"https://nla.gov.au/nla.obj-2969887983\"\n",
    "                }\n",
    "            ]\n",
    "        },\n",
    "        {\n",
    "            \"date\": \"1825\",\n",
    "            \"issuecount\": 1,\n",
    "            \"issue\": [\n",
    "                {\n",
    "                    \"id\": \"nla.obj-2967965114\",\n",
    "                    \"date\": \"1825-01-01\",\n",
    "                    \"url\": \"https://nla.gov.au/nla.obj-2967965114\"\n",
    "                }\n",
    "            ]\n",
    "        },\n",
    "        {\n",
    "            \"date\": \"1826\",\n",
    "            \"issuecount\": 1,\n",
    "            \"issue\": [\n",
    "                {\n",
    "                    \"id\": \"nla.obj-2967986225\",\n",
    "                    \"date\": \"1826-01-01\",\n",
    "                    \"url\": \"https://nla.gov.au/nla.obj-2967986225\"\n",
    "                }\n",
    "            ]\n",
    "        }\n",
    "    ]\n",
    "}\n",
    "```\n",
    "\n",
    "You can see the data for each issue is pretty minimal, really just an identifier/url and a date. \n",
    "\n",
    "Unknown are missing\n",
    "\n",
    "However, some periodicals have thousands of issues and requesting them all in one hit might cause problems\n",
    "\n",
    "Problems with API:\n",
    "- unknown dates\n",
    "- some issues missing\n",
    "- some issues are actually sub-collections\n",
    "\n",
    "### Finding missing issues"
   ]
  },
  {
   "cell_type": "markdown",
   "id": "2816d2ad-e841-457c-a10d-fd3493cdce9b",
   "metadata": {
    "editable": true,
    "slideshow": {
     "slide_type": ""
    },
    "tags": []
   },
   "source": [
    "## Pages\n",
    "\n",
    "### Images and PDFs\n",
    "\n",
    "Page images\n",
    "\n",
    "### Illustrations"
   ]
  },
  {
   "cell_type": "markdown",
   "id": "94c8bfb9-b107-4d33-b614-47e9045781b2",
   "metadata": {
    "editable": true,
    "slideshow": {
     "slide_type": ""
    },
    "tags": []
   },
   "source": [
    "## Articles\n",
    "\n",
    "\n",
    "```{admonition} Some articles are grouped as works!\n",
    ":class: warning\n",
    "\n",
    "Search results for periodical articles in the **Magazines & Newsletters** category are returned as work-level records. Usually the work records will only contain a single 'version' – the article. However, advertisements are treated differently. You will sometimes come across work records, [like this](https://trove.nla.gov.au/work/232859878), that munge together *all* the advertisements in a specific issue as 'versions'. While this might make your search results more manageable, it will have an impact on the discoverability and analysis of periodical content.\n",
    "```\n",
    "\n",
    "### Metadata\n",
    "\n",
    "`/search` in `magazine` category and `/work` endpoints \n",
    "\n",
    "\n",
    "`bibliographicCitation` in article records has structured publication metadata\n",
    "\n",
    "Advertisements on multiple pages in an issue grouped as a single work record for discovery: https://trove.nla.gov.au/work/232859472?keyword=fullTextInd%3Ay\n",
    "\n",
    "Can access as separate versions via the API: https://troveconsole.herokuapp.com/v3/?url=https%3A%2F%2Fapi.trove.nla.gov.au%2Fv3%2Fwork%2F232859472%3Fencoding%3Djson%26include%3Dall&comment=\n",
    "\n",
    "Use bibliographicCitation metadata\n",
    "\n",
    "### Text\n",
    "\n",
    "Via API\n",
    "\n"
   ]
  },
  {
   "cell_type": "markdown",
   "id": "4ec53928-bf9f-4483-ba0c-115dfda61ec4",
   "metadata": {
    "editable": true,
    "slideshow": {
     "slide_type": ""
    },
    "tags": []
   },
   "source": [
    "## Issues\n",
    "\n",
    "### Metadata\n",
    "\n",
    "API provides `/magazine/titles` and `/magazine/title/[ID]` endpoints \n",
    "\n",
    "Been prodding the new `/magazine/title` endpoint that was added to #Trove API v3. It provides details on periodical titles and issues (other than newspapers). So it's very useful, but also very not...\n",
    "\n",
    "Of the 2,504 titles, 1,538 point to sets of parliamentary papers. I suppose annual reports count as periodicals, but it would be good to be able to separate them out. In any case I've already got a full harvest of PPs.\n",
    "\n",
    "Of the 966 left, 114 have no issues. That seems to be either because they're actually issues rather than titles, or they're just brokened. \n",
    "\n",
    "Another 124 titles have incomplete lists of issues, either because some of the issues have no date, or they're just brokened.\n",
    "\n",
    "So as with just about everything involving Trove data, I'll have to develop a series of workarounds to deal with the problems and inconsistences. This is my life now. #TroveDataGuide #GLAM #digitalHumanities\n",
    "\n",
    "#### Format `periodical` and \"nla.obj\"\n",
    "\n",
    "There are 2,500 titles in the title endpoint, but only about 1,000 when you search for `\"nla.obj\"` & `l-format=periodical`. Is there any way to reconcile? Is it because of PP?\n",
    "\n",
    "Check by getting ids from title endpoint, then extracting embedded metadata? Will that help?\n",
    "\n",
    "Get lists of nla.obj ids from both methods and compare -- see what the difference is.\n",
    "\n",
    "#### `/magazine/titles`\n",
    "\n",
    "- paginated using `limit` and `offset`\n",
    "\n",
    "Example record:\n",
    "\n",
    "``` json\n",
    "{\n",
    "    \"id\": \"nla.obj-8423556\",\n",
    "    \"title\": \"\\\"Coo-ee!\\\" : the journal of the Bishops Knoll Hospital, Bristol.\",\n",
    "    \"publisher\": \"Partridge & Love Ltd.\",\n",
    "    \"troveUrl\": \"https://nla.gov.au/nla.obj-8423556\",\n",
    "    \"startDate\": \"1916-01-01\",\n",
    "    \"endDate\": \"1917-10-20\"\n",
    "}\n",
    "```\n",
    "\n",
    "#### `/magazine/title/[ID]`\n",
    "\n",
    "- [ID] can either be a nla.obj id or a numeric work id (however the work ids aren't in the returned records)\n",
    "- Get a list of issues by using `include=years` and `range=YYYYMMDD-YYYYMMDD`\n",
    "- issues returned grouped by year\n",
    "\n",
    "Example issue:\n",
    "\n",
    "``` json\n",
    "{\n",
    "    \"id\": \"nla.obj-8447243\",\n",
    "    \"date\": \"1916-11-10\",\n",
    "    \"url\": \"https://nla.gov.au/nla.obj-8447243\"\n",
    "},\n",
    "\n",
    "Issue id\n",
    "\n",
    "```{code-cell} ipython3\n",
    "\n",
    "```"
   ]
  },
  {
   "cell_type": "markdown",
   "id": "77ec4d38-e7d9-410b-91e8-8e100af6ea52",
   "metadata": {
    "editable": true,
    "slideshow": {
     "slide_type": ""
    },
    "tags": []
   },
   "source": [
    "## Metadata\n",
    "\n",
    "### Understanding identifiers\n",
    "\n",
    "### Titles\n",
    "\n",
    "### Issues\n",
    "\n",
    "### Pages\n",
    "\n",
    "### Articles"
   ]
  },
  {
   "cell_type": "markdown",
   "id": "67b9614c-6903-40ae-be0c-273369d8f5ad",
   "metadata": {
    "editable": true,
    "slideshow": {
     "slide_type": ""
    },
    "tags": []
   },
   "source": [
    "## Text\n",
    "\n",
    "````{margin}\n",
    "```{seealso}\n",
    "The GLAM Workbench includes a [pre-harvested collection of OCRd text](https://glam-workbench.net/trove-journals/ocrd-text-all-journals/) from all the digitised periodicals in Trove. You can also download pre-harvested OCRd text for individual periodical titles using the `download_text` link in the [periodical-titles.csv](https://glam-workbench.net/trove-journals/periodicals-data-api/#periodical-titlescsv) dataset or in [Datasette-Lite](https://glam-workbench.net/datasette-lite/?url=https://github.com/GLAM-Workbench/trove-periodicals-data/blob/main/periodicals.db&install=datasette-json-html&install=datasette-template-sql&metadata=https://github.com/GLAM-Workbench/trove-periodicals-data/blob/main/metadata.json).\n",
    "```\n",
    "````\n",
    "\n",
    "There are three ways of getting OCRd text from periodicals:\n",
    "\n",
    "- in article records from the Trove API\n",
    "- downloaded from pages and issues\n",
    "- from an internal API that provides OCRd text and layout information\n",
    "\n",
    "### Get article text from the Trove API\n",
    "\n",
    "You can get the OCRd text of articles in the *Magazines & Newsletters* category using the Trove API, but there's a couple of tricks. \n",
    "\n",
    "The OCRd text is only included in *version* records rather than the parent *work* records. But, by default, the API only returns the *work* level records. To include the OCRd text you need to ask the API to add the versions by setting the `include` parameter to `workVersions` when constructing your request.\n",
    "\n",
    "This works when using the `/result` endpoint to search for articles,\n",
    "\n",
    "[![Try it!](https://troveconsole.herokuapp.com/static/img/try-trove-api-console.svg)](https://troveconsole.herokuapp.com/v3/?url=https%3A%2F%2Fapi.trove.nla.gov.au%2Fv3%2Fresult%3Fq%3Dweather%26category%3Dmagazine%26encoding%3Djson%26include%3Dworkversions&comment=)\n",
    "\n",
    "or when requesting a single article using the `/work` endpoint.\n",
    "\n",
    "[![Try it!](https://troveconsole.herokuapp.com/static/img/try-trove-api-console.svg)](https://troveconsole.herokuapp.com/v3/?url=https%3A%2F%2Fapi.trove.nla.gov.au%2Fv3%2Fwork%2F234127605%3Finclude%3DworkVersions%26encoding%3Djson&comment=)\n",
    "\n",
    "The OCRd text is included in the version's `description` field, but not every `description` contains OCRd text. You need to look for a `description` that has a `type` equal to `open_fulltext`, and then retrieve the text from the `value` subfield.\n",
    "\n",
    "Here's an example of a version's `description` field containing OCRd text. Note the `type` and `value` subfields.\n",
    "\n",
    "``` json\n",
    "    \"description\": [\n",
    "        {\n",
    "            \"value\": \"In the year 1896 there will be four Eclipses — two of the Sun, and two of the Moon.\",\n",
    "            \"type\": \"open_fulltext\"\n",
    "         }\n",
    "    ],\n",
    "```\n",
    "\n",
    "The description field can contain multiple entries, and you can't assume that all of them will include these subfields, so you need to do some checking until you find the OCRd text. Something like this should work:\n",
    "\n",
    "```python\n",
    "# Loop through all the values in the description field\n",
    "for description in version.get(\"description\", []):\n",
    "    # Check that the description has a `type` subfield set to \"open_fulltext\"\n",
    "    if description.get(\"type\") == \"open_fulltext\":\n",
    "        # Get the OCRd text from the `value` subfield\n",
    "        text = description.get(\"value\", \"\")\n",
    "        break\n",
    "```\n",
    "\n",
    "To complicate things further, some article records contain multiple versions. These are usually groups of advertisements from a single issue, but each advertisement will have its own OCRd text. To get all of the OCRd text from the record, you'd need to loop through all the grouped versions, extracting the OCRd text from each in turn."
   ]
  },
  {
   "cell_type": "markdown",
   "id": "eba6f2d9-7cae-4a72-8a2c-4a363b8bbdf4",
   "metadata": {
    "editable": true,
    "slideshow": {
     "slide_type": ""
    },
    "tags": []
   },
   "source": [
    "### Download OCRd text from pages and issues\n",
    "\n",
    "You can download OCRd text from periodical issues and pages using the web interface. To automate this process you can mimic the behaviour of the download button. Full details are available in [](../how-to/download-items-text-images.md), but here's a quick summary.\n",
    "\n",
    "````{margin}\n",
    "```{seealso}\n",
    "The [periodical-issues.csv](https://glam-workbench.net/trove-journals/periodicals-data-api/#periodical-issuescsv) dataset in the GLAM Workbench includes a `text_download_url` column which contains the url you need to download all the OCRd text from a single issue. It uses the same pattern as described here.\n",
    "```\n",
    "````\n",
    "\n",
    "To download the complete OCRd text of a single periodical issue you need to know the number of pages in the issue. This can be found by [extracting the metadata](../how-to/extract-embedded-metadata.md) embedded in the issue viewer and getting the length of the `page` list.\n",
    "\n",
    "You can then construct a url to download the OCRd text using the issue identifier and the total number of pages:\n",
    "\n",
    "`https://nla.gov.au/[ISSUE ID]/download?downloadOption=ocr&firstPage=0&lastPage=[TOTAL PAGES - 1]`\n",
    "\n",
    "Note that the `lastPage` parameter is set to the total number of pages, minus one. This is because page numbering starts at zero. For example, [this issue](https://nla.gov.au/nla.obj-326379450) of *Pacific Islands Monthly* contains 164 pages, so the url to download the complete OCRd text would be:\n",
    "\n",
    "<a href=\"https://nla.gov.au/nla.obj-326379450/download?downloadOption=ocr&firstPage=0&lastPage=163\">https://nla.gov.au/nla.obj-326379450/download?downloadOption=ocr&firstPage=0&lastPage=163</a>\n",
    "\n",
    "````{margin}\n",
    "```{seealso}\n",
    "The GLAM Workbench includes notebooks that demonstrate how you can combine this method with other processing steps to [Get OCRd text from a digitised journal in Trove](https://glam-workbench.net/trove-journals/get-ocrd-text-from-digitised-journal/) and [Download the OCRd text for ALL the digitised journals in Trove!](https://glam-workbench.net/trove-journals/get-ocrd-text-from-all-journals/)\n",
    "```\n",
    "````\n",
    "\n",
    "You can use the same url pattern to download OCRd text from any range of pages. For example, to download text from the first five pages of an issue, you'd set `firstPage` to `0` and `lastPage` to `4`. To download text from page two, you'd set both `firstPage` and `lastPage` to `1`. \n",
    "\n",
    "```{warning}\n",
    "Keep in mind that the page numbers printed in the periodical don't necessarily correspond to the page numbers in Trove's [digital journal viewer](interfaces:digitised-journal-viewer). \n",
    "```"
   ]
  },
  {
   "cell_type": "markdown",
   "id": "3ac8713c-1950-4da2-a732-d2fd2aa16bbd",
   "metadata": {
    "editable": true,
    "slideshow": {
     "slide_type": ""
    },
    "tags": []
   },
   "source": [
    "### Get text from an internal API that provides OCRd text and layout information\n",
    "\n",
    "When Trove's [digital book & journal viewer](interfaces:digitised-journal-viewer) displays a page, it loads OCR data from an internal API. This data includes both the OCRd text and the position of every block, line, and word of the text. If all you want is the raw text, you're better off using the method above, but if you're interested in the position of the text on the page then you might find this a useful approach.\n",
    "\n",
    "To request the OCR data all you need is the page identifier"
   ]
  },
  {
   "cell_type": "markdown",
   "id": "a3d99e09-ae71-4da3-bf04-22fb2f2c51ac",
   "metadata": {
    "editable": true,
    "slideshow": {
     "slide_type": ""
    },
    "tags": []
   },
   "source": [
    "## Images\n",
    "\n",
    "- download pages as images\n",
    "- extract illustrations from pages using OCR layout data"
   ]
  }
 ],
 "metadata": {
  "kernelspec": {
   "display_name": "Python 3 (ipykernel)",
   "language": "python",
   "name": "python3"
  },
  "language_info": {
   "codemirror_mode": {
    "name": "ipython",
    "version": 3
   },
   "file_extension": ".py",
   "mimetype": "text/x-python",
   "name": "python",
   "nbconvert_exporter": "python",
   "pygments_lexer": "ipython3",
   "version": "3.10.12"
  }
 },
 "nbformat": 4,
 "nbformat_minor": 5
}
