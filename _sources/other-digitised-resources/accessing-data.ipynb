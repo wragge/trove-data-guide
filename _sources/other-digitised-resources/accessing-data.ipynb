{
 "cells": [
  {
   "cell_type": "markdown",
   "id": "764efcee-514e-42b6-b05a-1f3c19855e75",
   "metadata": {
    "editable": true,
    "slideshow": {
     "slide_type": ""
    },
    "tags": []
   },
   "source": [
    "# Accessing data from digitised resources\n",
    "\n",
    "````{card}\n",
    "On this page\n",
    "\n",
    "```{contents}\n",
    ":local:\n",
    ":backlinks: None\n",
    "```\n",
    "````\n",
    "\n",
    "Trove's digitised resources are delivered in a number of different ways depending on their format and arrangement. See [](whatis:interfaces:digitised) and [](/accessing-data/using-web-interface) for hints on using digitised resources through Trove's web interface. \n",
    "\n",
    "Access to machine-readable data is even more complicated. The Trove API provides limited information about digitised resources, necessitating a variety of hacks and workarounds. Nonetheless, there are some methods of accessing data from digitised resources that work reliably across multiple formats. These are described below.\n",
    "\n",
    "For more specific information relating to particular formats see:\n",
    "\n",
    "- [Accessing data from oral histories](oral-histories/accessing-data.md)\n",
    "- [Accessing data from periodicals](periodicals/accessing-data.md)"
   ]
  },
  {
   "cell_type": "markdown",
   "id": "6d4b8a50-9332-440c-9a84-6dbe9f38b4ad",
   "metadata": {
    "editable": true,
    "slideshow": {
     "slide_type": ""
    },
    "tags": []
   },
   "source": [
    "## Metadata\n",
    "\n",
    "There are two main sources of machine-readable metadata that describe digitised resources:\n",
    "\n",
    "- work/version records delivered by the Trove API\n",
    "- JSON embedded in the digitised resource viewer\n",
    "\n",
    "### Work/version records delivered by the Trove API\n",
    "\n",
    "\n",
    "\n",
    "### JSON embedded in the digitised resource viewer"
   ]
  },
  {
   "cell_type": "markdown",
   "id": "7320b370-c1d7-46d2-afd7-e7761c64dcca",
   "metadata": {
    "editable": true,
    "slideshow": {
     "slide_type": ""
    },
    "tags": []
   },
   "source": [
    "## Collections\n",
    "\n",
    "````{margin}\n",
    "```{seealso}\n",
    "The GLAM Workbench notebook [Download a collection of digitised images](https://glam-workbench.net/trove-images/download-image-collection/) uses this method to find and download all the images in a collection or finding-aid.\n",
    "```\n",
    "````\n",
    "\n",
    "The NLA’s digitised resources are often presented as 'collections'. A collection could be the volumes in a multi-volume work, the issues of a periodical, a map series, an album of photographs, or a manuscript collection. While you can use the `magazine/title` API endpoint to get a list of issues from a periodical, there’s no way to get the contents of other types of collections from the Trove API.\n",
    "\n",
    "To get machine-readable information about the members of a digitised collection you need to extract information from the browse window of Trove's digitised collection viewer. This method is fully documented in [](how-to/get-collection-items)"
   ]
  },
  {
   "cell_type": "markdown",
   "id": "321d3c3f-a36b-4c49-a6ba-43023fdf3563",
   "metadata": {
    "editable": true,
    "slideshow": {
     "slide_type": ""
    },
    "tags": []
   },
   "source": [
    "(digitised:accessing-data:text)=\n",
    "## Text\n",
    "\n",
    "Digitised publications like books, pamphlets, and periodicals usually make their contents available as plain text, extracted from the digitised pages using Optical Character Recognition (OCR). There are two main ways of accessing OCRd text computationally:\n",
    "\n",
    "- construct download links for a complete publication or range of pages\n",
    "- download OCR data for a single page\n",
    "\n",
    "(digitised:accessing-data:download-text-link)=\n",
    "### Construct download links for a complete publication or range of pages\n",
    "\n",
    "**This method is fully documented in [](how-to/get-downloads), but here's a quick summary.**\n",
    "\n",
    "To download the complete OCRd text of a single publication you need to know the number of pages in the publication. This can be found by [extracting the metadata](/other-digitised-resources/how-to/extract-embedded-metadata) embedded in the digitised book and journal viewer and [getting the length of the `page` list](digitised:howto:embedded:pages).\n",
    "\n",
    "You can then construct a url to download the OCRd text using the publications `nla.obj` identifier and the total number of pages:\n",
    "\n",
    "`https://nla.gov.au/[NLA.OBJ ID]/download?downloadOption=ocr&firstPage=0&lastPage=[TOTAL PAGES - 1]`\n",
    "\n",
    "Note that the `lastPage` parameter is set to the total number of pages, minus one. This is because page numbering starts at zero. For example, [this issue](https://nla.gov.au/nla.obj-326379450) of *Pacific Islands Monthly* contains 164 pages, so the url to download the complete OCRd text would be:\n",
    "\n",
    "<a href=\"https://nla.gov.au/nla.obj-326379450/download?downloadOption=ocr&firstPage=0&lastPage=163\">https://nla.gov.au/nla.obj-326379450/download?downloadOption=ocr&firstPage=0&lastPage=163</a>\n",
    "\n",
    "You can use the same url pattern to download OCRd text from any range of pages. For example, to download text from the first five pages of a publication, you'd set `firstPage` to `0` and `lastPage` to `4`. To download text from page two, you'd set both `firstPage` and `lastPage` to `1`.\n",
    "\n",
    "(digitised:accessing-data:ocr)=\n",
    "### Download OCR data for a single page\n",
    "\n",
    "**This method is fully documented in [](how-to/get-ocr-layout-data), but here's a quick summary.**\n",
    "\n",
    "If you know the `nla.obj` identifier of a specific page in a digitised publication, you can access machine-readable information about the OCR process by simply adding `/ocr` to the identifier url. For example, this [page](http://nla.gov.au/nla.obj-326405522) in *Pacific Islands Monthly* has the identifier `nla.obj-326405522`. To retrieve the OCR data you just add `/ocr` to the identifier: \n",
    "\n",
    "<a href=\"http://nla.gov.au/nla.obj-326405522/ocr\">http://nla.gov.au/nla.obj-326405522/ocr</a>\n",
    "\n",
    "To find the `nla.obj` identifiers for all the pages in a publication, you can [access the metadata](/other-digitised-resources/how-to/extract-embedded-metadata) embedded in the digitised book and journal viewer and then [extract the page identifiers from the `page` list](digitised:howto:embedded:pages).\n",
    "\n",
    "The OCR data is quite complex. It contains information about the position of *every word* on the page. To extract just the text you have to find all the text blocks, then loop through each line and word, stitching them back together as a plain text document. If all you want is the text, the method described above is probably more efficient, but if you're interested in the layout as well as the content of a page, this methods opens up some new possibilities."
   ]
  },
  {
   "cell_type": "markdown",
   "id": "8f43b308-f6ff-4dd4-bf01-893d4c3b06ae",
   "metadata": {
    "editable": true,
    "slideshow": {
     "slide_type": ""
    },
    "tags": []
   },
   "source": [
    "(digitised:accessing-data:images)=\n",
    "## Images and PDFs\n",
    "\n",
    "Most digitised resources include images you can download. Images can be digitised versions of visual material such as photographs, maps, or artworks, but they can also be scanned copies of pages in a publication or manuscript collection. There are two main methods for accessing digitised images computationally:\n",
    "\n",
    "- Construct download links for a range of images\n",
    "- Constructing image urls using `nla.obj` identifiers\n",
    "\n",
    "In addition, it's possible to extract illustrations from pages of digitised books and periodicals by using data generated through the OCR process.\n",
    "\n",
    "(digitised:accessing-data:download-images-link)=\n",
    "### Construct download links for a range of images\n",
    "\n",
    "**This method is fully documented in [](how-to/get-downloads), but here's a quick summary.**\n",
    "\n",
    "This method is basically the same as [the method described above](digitised:accessing-data:download-text-link) to download OCRd text, you just need to set the `downloadOption` parameter in the url to either `zip` for images or `pdf` for a PDF. For example, the [E.J. Brady collection of photographs](https://nla.gov.au/nla.obj-141826952) (nla.obj-141826952) contains 14 images, so the url to download the complete collection in a single zip file would be: \n",
    "\n",
    "<a href=\"https://nla.gov.au/nla.obj-141826952/download?downloadOption=zip&firstPage=0&lastPage=13\">https://nla.gov.au/nla.obj-141826952/download?downloadOption=zip&firstPage=0&lastPage=13</a>\n",
    "\n",
    "Similarly, the [The gold finder of Australia : how he went, how he fared, how he made his fortune](https://nla.gov.au/nla.obj-248742150) is a pamphlet with 80 pages, so the url to download it as a PDF would be:\n",
    "\n",
    "<a href=\"https://nla.gov.au/nla.obj-248742150/download?downloadOption=pdf&firstPage=0&lastPage=79\">https://nla.gov.au/nla.obj-248742150/download?downloadOption=pdf&firstPage=0&lastPage=79</a>\n",
    "\n",
    "You can also adjust the `firstPage` and `lastPage` to download selected images.\n",
    "\n",
    "It's important to note that zip files containing multiple images can get very large. If you want to download all the images from publications or collections, you should probably use the method described below to download one image at a time.\n",
    "\n",
    "(digitised:data:image-urls)=\n",
    "### Constructing image urls using `nla.obj` identifiers\n",
    "\n",
    "**This method is fully documented in [](/other-digitised-resources/how-to/download-images). but here's a quick summary.**\n",
    "\n",
    "If you know the `nla.obj` identifier for a page or image, you can download it simply by adding an `/image` suffix to the identifier url. For example, this [photograph of a group of school children with gardening tools](https://nla.gov.au/nla.obj-141828112) has the identifier `nla.obj-141828112`. To create a direct link to the image, you just add `/image` to the identifier url:\n",
    "\n",
    "<https://nla.gov.au/nla.obj-141828112/image>\n",
    "\n",
    "\n",
    "### Extract illustrations from pages of digitised books and periodicals\n",
    "\n",
    "**This method is fully documented in [](other-digitised:ocr-data:crop-images), but here's a quick summary.**\n",
    "\n",
    "As described above, if you know the `nla.obj` identifier of a specific page in a digitised publication, you can [access machine-readable information](/other-digitised-resources/how-to/get-ocr-layout-data) about the OCR process by simply adding `/ocr` to the identifier url.\n",
    "\n",
    "Within the OCR data there are `zs` blocks describing the position of each illustration. You can loop through each of these blocks and use the coordinates to crop the illustrations from the full page image. However, the coordinates in the OCR data are sometimes derived from higher resolution versions of the page images than you can download. To workaround this, you can you can [access the metadata](/other-digitised-resources/how-to/extract-embedded-metadata) embedded in the digitised book and journal viewer, [extract the dimensions](digitised:howto:embedded:pages) of the high-resolution version of the page, and then convert the coordinates to work with the downloadable version.\n",
    "\n",
    "```{figure} /images/cat-collection.png\n",
    ":name: cat-collection\n",
    "\n",
    "Sample from a <a href=\"https://www.dropbox.com/scl/fo/60imdoyf4ss2b6vh01q1w/h?rlkey=zuwbjaqnmr7qvkuinovdu5ot0&dl=0\">collection of cat photos</a> harvested from a search for articles with `cat` or `kitten` in their title [using the GLAM Workbench](https://glam-workbench.net/trove-journals/harvest-illustrations-from-periodicals/)\n",
    "```\n"
   ]
  }
 ],
 "metadata": {
  "kernelspec": {
   "display_name": "Python 3 (ipykernel)",
   "language": "python",
   "name": "python3"
  },
  "language_info": {
   "codemirror_mode": {
    "name": "ipython",
    "version": 3
   },
   "file_extension": ".py",
   "mimetype": "text/x-python",
   "name": "python",
   "nbconvert_exporter": "python",
   "pygments_lexer": "ipython3",
   "version": "3.10.12"
  }
 },
 "nbformat": 4,
 "nbformat_minor": 5
}
