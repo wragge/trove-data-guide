{
 "cells": [
  {
   "cell_type": "markdown",
   "id": "bd67ae70-8956-49b9-a24b-4d47a3bcb51c",
   "metadata": {
    "editable": true,
    "slideshow": {
     "slide_type": ""
    },
    "tags": []
   },
   "source": [
    "# Digital object identifiers\n",
    "\n",
    "The complexities of Trove's digital object identifer scheme are introduced in [](/what-is-trove/links-and-identifiers). The main issue confronting users is that identifiers for different types of digital objects – such as books, pages, issues, articles, photographs, and collections – all look the same. This is important because the digital identifier provides a key to unlock an object's metadata and digital representations. **To access data about digitised resources in Trove you need to understand how the identifiers work.**\n",
    "\n",
    "## Recognising digital object identifiers\n",
    "\n",
    "Digital object identifiers are a url with the form: `https://nla.gov.au/nla.obj-[NUMBER]`\n",
    "\n",
    "For example: <http://nla.gov.au/nla.obj-141171021> identifies a photograph of two angry rockhopper penguins. \n",
    "\n",
    "The actual identifier part is the `nla.obj-141171021`. The `nla.obj` tells you identifier scheme being using, and `141171021` points to an object uniquely identified within this scheme. Sometimes when I talk about identifiers I mean the `nla.obj-141171021` part rather than the whole url.\n",
    "\n",
    "## Where do the urls go?\n",
    "\n",
    "When you plug a digital object identifier into your browser you're taken to one of Trove's digital object viewers.\n",
    "\n",
    "## Parts and wholes\n",
    "\n",
    "## Collections and items\n",
    "\n",
    "## Page identifiers \n",
    "\n",
    "## Data access methods"
   ]
  },
  {
   "cell_type": "markdown",
   "id": "089343c8-e17d-48a9-a640-a43fa0ee3544",
   "metadata": {},
   "source": [
    "Digitsed versus born digital"
   ]
  },
  {
   "cell_type": "markdown",
   "id": "d59802f2-d48a-429b-bf26-2e8abdb76c6c",
   "metadata": {},
   "source": [
    "Print publications (book or periodical issue) -- get page identifiers, get section/article identifiers, get text, get pdf, get images (all or page range)"
   ]
  },
  {
   "cell_type": "markdown",
   "id": "f3a50aea-acc8-439c-abe8-0f1bf49c4c13",
   "metadata": {},
   "source": [
    "| object type | identifier can be used to access | but you also need |\n",
    "|-------------|----------------------------------|-------------|\n",
    "| **print publications (book or periodical issue)** | get OCRd text from a range of pages | |\n",
    "| | get OCRd text from the complete publication | the total number of pages |\n",
    "| |"
   ]
  },
  {
   "cell_type": "markdown",
   "id": "9e5316b9-2c37-4838-b0da-ce7d474c28f2",
   "metadata": {},
   "source": [
    "book, periodical issue, or other thing with pages:\n",
    "\n",
    "- get OCRd text from complete publication\n",
    "- get OCRd text from a range of pages\n",
    "- get OCRd text from a page with positional information\n",
    "\n",
    "- get PDF\n",
    "\n",
    "- get all pages in a zip file\n",
    "- get all pages individually\n",
    "\n",
    "- get additional metadata\n",
    "- get MARC data\n",
    "- get page identifiers\n",
    "- get article identifiers\n",
    "\n",
    "images, maps, manuscripts\n",
    "\n",
    "- get PDF\n",
    "\n",
    "- get all pages in a zip file\n",
    "- get all pages individually"
   ]
  },
  {
   "cell_type": "markdown",
   "id": "0ae4c976-78da-45b8-a4c4-fd741a2d7f1c",
   "metadata": {
    "editable": true,
    "slideshow": {
     "slide_type": ""
    },
    "tags": []
   },
   "source": [
    "#### Examples\n",
    "\n",
    "This photograph of some angry penguins on Heard Island has the identifier `nla.obj-147135602`.\n",
    "\n",
    "```{figure} /images/nla.obj-141171021.jpg\n",
    ":width: 600px\n",
    "\n",
    "Two Rockhopper Penguins and a predatory Skua, Heard Island, Antarctica, ca. 1930 (by Frank Hurley) [http://nla.gov.au/nla.obj-141171021](http://nla.gov.au/nla.obj-141171021)\n",
    "```\n",
    "\n",
    "|  |  |\n",
    "|-------------|-----|\n",
    "|The persistent url is created by adding `http://nla.gov.au/` to the identifier|<http://nla.gov.au/nla.obj-141171021>|\n",
    "|To view the photograph in Trove's digitised image viewer, you just add `view` to the persistent url (this is where the persistent url redirects to anyway)|<http://nla.gov.au/nla.obj-141171021/view>|\n",
    "|To access a thumbnail version of the image, you add `-t` to the persistent url|<http://nla.gov.au/nla.obj-141171021-t>|\n",
    "|To access a high-resolution version of the image, you add `/image` to the persistent url|<http://nla.gov.au/nla.obj-141171021/image>|\n",
    "|To access a version of the image that is 1000 pixels wide, you add `/image?wid=1000` to the persistent url|<http://nla.gov.au/nla.obj-141171021/image?wid=1000>|\n",
    "\n",
    "This works the same way with pages in books and periodicals, however, the urls are a bit more complicated. For example, this page in *The Home* also features a photo of penguins by Frank Hurley. The page's identifier is `nla.obj-387326197`.\n",
    "\n",
    "```{figure} /images/nla.obj-387326197.jpg\n",
    ":width: 600px\n",
    "\n",
    "'Penguin pageant' by Frank Hurley, *The Home*, vol. 20, no. 1, January 1940, p. 44 [http://nla.gov.au/nla.obj-387326197](http://nla.gov.au/nla.obj-387326197)\n",
    "```\n",
    "|  |  |\n",
    "|-------------|-----|\n",
    "|The persistent url is created by adding `http://nla.gov.au/` to the identifier|<http://nla.gov.au/nla.obj-387326197>|\n",
    "|If you access the page's persistent url you are redirected to the issue, with the page identifier included as a `partId` parameter|<https://nla.gov.au/nla.obj-387284380/view?partId=nla.obj-387326197>|\n",
    "|To access a thumbnail version of the page image, you add `-t` to the persistent url|<http://nla.gov.au/nla.obj-387326197-t>|\n",
    "|To access a high-resolution version of the page image, you add `/image` to the persistent url|<http://nla.gov.au/nla.obj-387326197/image>|\n",
    "|To access a version of the image that is 500 pixels high, you add `/image?hei=500` to the persistent url|<http://nla.gov.au/nla.obj-387326197/image?hei=500>|\n",
    "\n",
    "#### How do you get `nla.obj` identifiers for pages or images?\n",
    "\n",
    "- from the **Cite** tab\n",
    "- from the digitised viewer's url\n",
    "- from the browse screens of a digitised collection\n",
    "- from embedded metadata"
   ]
  }
 ],
 "metadata": {
  "kernelspec": {
   "display_name": "Python 3 (ipykernel)",
   "language": "python",
   "name": "python3"
  },
  "language_info": {
   "codemirror_mode": {
    "name": "ipython",
    "version": 3
   },
   "file_extension": ".py",
   "mimetype": "text/x-python",
   "name": "python",
   "nbconvert_exporter": "python",
   "pygments_lexer": "ipython3",
   "version": "3.10.12"
  }
 },
 "nbformat": 4,
 "nbformat_minor": 5
}
