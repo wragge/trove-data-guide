{
 "cells": [
  {
   "cell_type": "markdown",
   "id": "4726e4d7-4de4-442c-9bcf-7abe9c677335",
   "metadata": {
    "editable": true,
    "slideshow": {
     "slide_type": ""
    },
    "tags": []
   },
   "source": [
    "# Posters and ephemera"
   ]
  },
  {
   "cell_type": "markdown",
   "id": "373d68ea-9d00-4156-9d2f-491724fd0086",
   "metadata": {
    "editable": true,
    "slideshow": {
     "slide_type": ""
    },
    "tags": []
   },
   "source": [
    "`series:\"Australian ephemera collection (General)\"` \n",
    "\n",
    "<https://trove.nla.gov.au/search?keyword=series%3A%22Australian%20ephemera%20collection%20%28General%29%22>\n",
    "\n",
    "even better just `series:ephemera` across all categories\n",
    "\n",
    "<https://trove.nla.gov.au/search/category/correspondence?keyword=series%3Aephemera>\n",
    "\n",
    "Sometimes items are identified as ephemera in `callNumber` field -- eg: https://troveconsole.herokuapp.com/v3/?url=https%3A%2F%2Fapi.trove.nla.gov.au%2Fv3%2Fwork%2F10271929%3Fencoding%3Djson%26include%3Dworkversions%2Clinks%2Choldings&comment=\n",
    "\n",
    "\n",
    "This link goes to two finding aids with lots of digitised resources: <https://trove.nla.gov.au/work/20934136>\n",
    "\n",
    "Will need method to go from work record to finding aid and harvest all items?\n",
    "\n",
    "For finding aids:\n",
    "\n",
    "- use current code to scrape FA\n",
    "- to get images use node id to request, eg: https://nla.gov.au/nla.obj-2956520256/findingaid/nla.obj-2956524425/thumbnailList (first id is FA, second is node) -- rturns html list of thumnails, can extract image ids"
   ]
  },
  {
   "cell_type": "code",
   "execution_count": null,
   "id": "aacdb834-a519-4c8f-a2ae-12f5a6fee7f3",
   "metadata": {},
   "outputs": [],
   "source": []
  }
 ],
 "metadata": {
  "kernelspec": {
   "display_name": "Python 3 (ipykernel)",
   "language": "python",
   "name": "python3"
  },
  "language_info": {
   "codemirror_mode": {
    "name": "ipython",
    "version": 3
   },
   "file_extension": ".py",
   "mimetype": "text/x-python",
   "name": "python",
   "nbconvert_exporter": "python",
   "pygments_lexer": "ipython3",
   "version": "3.8.12"
  }
 },
 "nbformat": 4,
 "nbformat_minor": 5
}
