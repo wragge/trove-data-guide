{
 "cells": [
  {
   "cell_type": "markdown",
   "id": "e735ecc4-3ae9-48dd-80f0-8d28757ffbd5",
   "metadata": {
    "editable": true,
    "slideshow": {
     "slide_type": ""
    },
    "tags": []
   },
   "source": [
    "# Digitised books, pamphlets, and print music"
   ]
  },
  {
   "cell_type": "markdown",
   "id": "c21509df-728a-4da5-9fde-bed42811057d",
   "metadata": {},
   "source": [
    "```{attention}\n",
    "This guide is currently under development. For more information and discussion see [the list of issues](https://github.com/wragge/trove-data-guide/issues) on GitHub. Comments are welcome.\n",
    "```"
   ]
  },
  {
   "cell_type": "markdown",
   "id": "770bde6e-33d6-4052-be99-8f698465bfb5",
   "metadata": {},
   "source": [
    "```{tableofcontents}\n",
    "```"
   ]
  },
  {
   "cell_type": "markdown",
   "id": "24bba747-c9ff-4243-80bf-df4379a50f24",
   "metadata": {},
   "source": [
    "- What books have been digitised?\n",
    "- Languages?\n",
    "- Copyright?\n",
    "- OCR?\n",
    "\n",
    "See [Trove Books](https://glam-workbench.net/trove-books/) section of GLAM Workbench.\n",
    "\n",
    "Print publications with multiple pages.\n",
    "\n",
    "Can be individual items or collections of items (eg multi-volume books)."
   ]
  }
 ],
 "metadata": {
  "kernelspec": {
   "display_name": "Python 3 (ipykernel)",
   "language": "python",
   "name": "python3"
  },
  "language_info": {
   "codemirror_mode": {
    "name": "ipython",
    "version": 3
   },
   "file_extension": ".py",
   "mimetype": "text/x-python",
   "name": "python",
   "nbconvert_exporter": "python",
   "pygments_lexer": "ipython3",
   "version": "3.8.12"
  }
 },
 "nbformat": 4,
 "nbformat_minor": 5
}
