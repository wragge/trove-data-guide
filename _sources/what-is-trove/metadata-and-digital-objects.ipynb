{
 "cells": [
  {
   "cell_type": "markdown",
   "id": "5bc6f2e3-af1e-4a23-a134-75802ef16908",
   "metadata": {
    "user_expressions": []
   },
   "source": [
    "# Metadata and digital objects\n",
    "\n",
    "```{attention}\n",
    "This guide is currently under development. For more information and discussion see [the list of issues](https://github.com/wragge/trove-data-guide/issues) on GitHub. Comments are welcome.\n",
    "```"
   ]
  },
  {
   "cell_type": "markdown",
   "id": "08c5dd59-debd-4516-afed-81f7dd1764b0",
   "metadata": {},
   "source": [
    "### Working notes\n",
    "\n",
    "Trove is a mix\n",
    "\n",
    "Often we want the digital objects – text and images, allow more options\n",
    "\n",
    "But possibilities with metadata – looking at patterns over time, understanding collections, studying authorship. (Some viz examples?)\n",
    "\n",
    "Aggregating data from other systems, can allow us to explore it in ways the original systems didn’t allow. (ABC RN?)\n",
    "\n",
    "Sometimes aggregated metadata points to digital objects in other systems – fulltext (but problems)\n",
    "\n",
    "Images are delivered in many different ways.\n",
    "\n",
    "Just because a digital object exists, it doesn’t mean it’s accessible (repositories that require log-ins, NED publications that can only be accessed in-house)\n",
    "\n",
    "From API Console – The `fullTextInd` index seems quite misleading as it includes articles from commercial databases where only a truncated sample of the full text is actually available, and electronic legal deposit works  where access to the text is restricted (also Open Library). It would seem better to combine  this indicator with a search for \"nla.obj\" or `nuc:ANL:DL` to try and limit to resources digitised by the NLA and partners.\n",
    "\n",
    "`availability` : Whether the item is online or not. \t\t\t\n",
    "\n",
    "`y`  – online\n",
    "\n",
    "`y/f` – freely accessible online\n",
    "\n",
    "But what does ‘freely accessible’ mean?\n",
    "\n",
    "`identifier - fulltext` indicates something is online\n",
    "\n",
    "`free_to_read` – no access restriction"
   ]
  },
  {
   "cell_type": "code",
   "execution_count": null,
   "id": "abc23821-9b75-400b-84ef-47b97efb05c8",
   "metadata": {},
   "outputs": [],
   "source": []
  }
 ],
 "metadata": {
  "jupytext": {
   "formats": "ipynb,md:myst"
  },
  "kernelspec": {
   "display_name": "Python 3 (ipykernel)",
   "language": "python",
   "name": "python3"
  },
  "language_info": {
   "codemirror_mode": {
    "name": "ipython",
    "version": 3
   },
   "file_extension": ".py",
   "mimetype": "text/x-python",
   "name": "python",
   "nbconvert_exporter": "python",
   "pygments_lexer": "ipython3",
   "version": "3.8.12"
  }
 },
 "nbformat": 4,
 "nbformat_minor": 5
}
