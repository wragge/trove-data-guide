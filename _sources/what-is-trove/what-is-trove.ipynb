{
 "cells": [
  {
   "cell_type": "markdown",
   "id": "04899595-349f-4a58-a459-c68846a54c55",
   "metadata": {
    "editable": true,
    "slideshow": {
     "slide_type": ""
    },
    "tags": [],
    "user_expressions": []
   },
   "source": [
    "# What is Trove?\n",
    "\n",
    "```{attention}\n",
    "This guide is currently under development. For more information and discussion see [the list of issues](https://github.com/wragge/trove-data-guide/issues) on GitHub. Comments are welcome.\n",
    "```"
   ]
  },
  {
   "cell_type": "markdown",
   "id": "e17664e6-462b-4460-b13b-336dfc131ef0",
   "metadata": {},
   "source": [
    "```{admonition} Points to remember\n",
    ":class: key-points\n",
    "\n",
    "These are the important things...\n",
    "```"
   ]
  },
  {
   "cell_type": "code",
   "execution_count": 1,
   "id": "a2c546a6-5331-4e79-9779-63e9c307b660",
   "metadata": {
    "editable": true,
    "slideshow": {
     "slide_type": ""
    },
    "tags": [
     "remove-cell"
    ]
   },
   "outputs": [],
   "source": [
    "import datetime\n",
    "import os\n",
    "\n",
    "import altair as alt\n",
    "import pandas as pd\n",
    "from dotenv import load_dotenv\n",
    "from myst_nb import glue\n",
    "from requests_cache import CachedSession\n",
    "\n",
    "s = CachedSession(expire_after=60 * 60 * 24)\n",
    "\n",
    "load_dotenv()\n",
    "TROVE_API_KEY = os.getenv(\"TROVE_API_KEY\")"
   ]
  },
  {
   "cell_type": "code",
   "execution_count": 2,
   "id": "aa93c016-0e00-4250-8fc4-375e58ec7fba",
   "metadata": {
    "editable": true,
    "slideshow": {
     "slide_type": ""
    },
    "tags": [
     "remove-cell"
    ]
   },
   "outputs": [
    {
     "data": {
      "text/plain": [
       "242192261"
      ]
     },
     "metadata": {
      "scrapbook": {
       "mime_prefix": "",
       "name": "total_newspapers"
      }
     },
     "output_type": "display_data"
    },
    {
     "data": {
      "text/plain": [
       "'30 May 2023'"
      ]
     },
     "metadata": {
      "scrapbook": {
       "mime_prefix": "",
       "name": "today"
      }
     },
     "output_type": "display_data"
    }
   ],
   "source": [
    "params = {\"category\": \"newspaper\", \"n\": 0}\n",
    "\n",
    "headers = {\"X-API-KEY\": TROVE_API_KEY, \"Accept\": \"application/json\"}\n",
    "\n",
    "response = s.get(\n",
    "    \"https://api.trove.nla.gov.au/v3/result\", params=params, headers=headers\n",
    ")\n",
    "data = response.json()\n",
    "total_newspapers = data[\"category\"][0][\"records\"][\"total\"]\n",
    "glue(\"total_newspapers\", total_newspapers)\n",
    "glue(\"today\", datetime.datetime.now().strftime(\"%-d %b %Y\"))"
   ]
  },
  {
   "cell_type": "code",
   "execution_count": 3,
   "id": "1685c9d4-d656-4acf-871c-504198c4f2df",
   "metadata": {
    "tags": [
     "remove-cell"
    ]
   },
   "outputs": [],
   "source": [
    "params = {\"category\": \"all\", \"n\": 0}\n",
    "\n",
    "response = s.get(\n",
    "    \"https://api.trove.nla.gov.au/v3/result\", params=params, headers=headers\n",
    ")\n",
    "data = response.json()\n",
    "categories = []\n",
    "for category in data[\"category\"]:\n",
    "    categories.append({\"name\": category[\"name\"], \"total\": category[\"records\"][\"total\"]})"
   ]
  },
  {
   "cell_type": "code",
   "execution_count": 4,
   "id": "f0bbbad0-7909-4064-9edd-6887a217600d",
   "metadata": {
    "editable": true,
    "slideshow": {
     "slide_type": ""
    },
    "tags": [
     "remove-cell"
    ]
   },
   "outputs": [
    {
     "data": {
      "text/html": [
       "\n",
       "<style>\n",
       "  #altair-viz-7b93a1312bdd4a9381b3de0e04939ea9.vega-embed {\n",
       "    width: 100%;\n",
       "    display: flex;\n",
       "  }\n",
       "\n",
       "  #altair-viz-7b93a1312bdd4a9381b3de0e04939ea9.vega-embed details,\n",
       "  #altair-viz-7b93a1312bdd4a9381b3de0e04939ea9.vega-embed details summary {\n",
       "    position: relative;\n",
       "  }\n",
       "</style>\n",
       "<div id=\"altair-viz-7b93a1312bdd4a9381b3de0e04939ea9\"></div>\n",
       "<script type=\"text/javascript\">\n",
       "  var VEGA_DEBUG = (typeof VEGA_DEBUG == \"undefined\") ? {} : VEGA_DEBUG;\n",
       "  (function(spec, embedOpt){\n",
       "    let outputDiv = document.currentScript.previousElementSibling;\n",
       "    if (outputDiv.id !== \"altair-viz-7b93a1312bdd4a9381b3de0e04939ea9\") {\n",
       "      outputDiv = document.getElementById(\"altair-viz-7b93a1312bdd4a9381b3de0e04939ea9\");\n",
       "    }\n",
       "    const paths = {\n",
       "      \"vega\": \"https://cdn.jsdelivr.net/npm/vega@5?noext\",\n",
       "      \"vega-lib\": \"https://cdn.jsdelivr.net/npm/vega-lib?noext\",\n",
       "      \"vega-lite\": \"https://cdn.jsdelivr.net/npm/vega-lite@5.8.0?noext\",\n",
       "      \"vega-embed\": \"https://cdn.jsdelivr.net/npm/vega-embed@6?noext\",\n",
       "    };\n",
       "\n",
       "    function maybeLoadScript(lib, version) {\n",
       "      var key = `${lib.replace(\"-\", \"\")}_version`;\n",
       "      return (VEGA_DEBUG[key] == version) ?\n",
       "        Promise.resolve(paths[lib]) :\n",
       "        new Promise(function(resolve, reject) {\n",
       "          var s = document.createElement('script');\n",
       "          document.getElementsByTagName(\"head\")[0].appendChild(s);\n",
       "          s.async = true;\n",
       "          s.onload = () => {\n",
       "            VEGA_DEBUG[key] = version;\n",
       "            return resolve(paths[lib]);\n",
       "          };\n",
       "          s.onerror = () => reject(`Error loading script: ${paths[lib]}`);\n",
       "          s.src = paths[lib];\n",
       "        });\n",
       "    }\n",
       "\n",
       "    function showError(err) {\n",
       "      outputDiv.innerHTML = `<div class=\"error\" style=\"color:red;\">${err}</div>`;\n",
       "      throw err;\n",
       "    }\n",
       "\n",
       "    function displayChart(vegaEmbed) {\n",
       "      vegaEmbed(outputDiv, spec, embedOpt)\n",
       "        .catch(err => showError(`Javascript Error: ${err.message}<br>This usually means there's a typo in your chart specification. See the javascript console for the full traceback.`));\n",
       "    }\n",
       "\n",
       "    if(typeof define === \"function\" && define.amd) {\n",
       "      requirejs.config({paths});\n",
       "      require([\"vega-embed\"], displayChart, err => showError(`Error loading script: ${err.message}`));\n",
       "    } else {\n",
       "      maybeLoadScript(\"vega\", \"5\")\n",
       "        .then(() => maybeLoadScript(\"vega-lite\", \"5.8.0\"))\n",
       "        .then(() => maybeLoadScript(\"vega-embed\", \"6\"))\n",
       "        .catch(showError)\n",
       "        .then(() => displayChart(vegaEmbed));\n",
       "    }\n",
       "  })({\"config\": {\"view\": {\"continuousWidth\": 300, \"continuousHeight\": 300}}, \"data\": {\"name\": \"data-d2227dd5334a3fc8d444af080ff853fc\"}, \"mark\": {\"type\": \"bar\"}, \"encoding\": {\"color\": {\"field\": \"name\", \"legend\": null, \"type\": \"nominal\"}, \"x\": {\"axis\": {\"title\": null}, \"field\": \"name\", \"type\": \"nominal\"}, \"y\": {\"axis\": {\"format\": \"~s\", \"title\": null}, \"field\": \"total\", \"type\": \"quantitative\"}}, \"height\": 250, \"width\": 150, \"$schema\": \"https://vega.github.io/schema/vega-lite/v5.8.0.json\", \"datasets\": {\"data-d2227dd5334a3fc8d444af080ff853fc\": [{\"name\": \"Books & Libraries\", \"total\": 26302335}, {\"name\": \"Diaries, Letters & Archives\", \"total\": 4860263}, {\"name\": \"Images, Maps & Artefacts\", \"total\": 5846432}, {\"name\": \"Lists\", \"total\": 107994}, {\"name\": \"Magazines & Newsletters\", \"total\": 1807131}, {\"name\": \"Music, Audio & Video\", \"total\": 3190466}, {\"name\": \"Newspapers & Gazettes\", \"total\": 242192261}, {\"name\": \"People & Organisations\", \"total\": 1321177}, {\"name\": \"Research & Reports\", \"total\": 5416711}]}}, {\"mode\": \"vega-lite\"});\n",
       "</script>"
      ],
      "text/plain": [
       "alt.Chart(...)"
      ]
     },
     "metadata": {
      "scrapbook": {
       "mime_prefix": "",
       "name": "categories-chart-narrow"
      }
     },
     "output_type": "display_data"
    },
    {
     "data": {
      "text/html": [
       "\n",
       "<style>\n",
       "  #altair-viz-463e24af2f4d4c71beef4dd7ad263075.vega-embed {\n",
       "    width: 100%;\n",
       "    display: flex;\n",
       "  }\n",
       "\n",
       "  #altair-viz-463e24af2f4d4c71beef4dd7ad263075.vega-embed details,\n",
       "  #altair-viz-463e24af2f4d4c71beef4dd7ad263075.vega-embed details summary {\n",
       "    position: relative;\n",
       "  }\n",
       "</style>\n",
       "<div id=\"altair-viz-463e24af2f4d4c71beef4dd7ad263075\"></div>\n",
       "<script type=\"text/javascript\">\n",
       "  var VEGA_DEBUG = (typeof VEGA_DEBUG == \"undefined\") ? {} : VEGA_DEBUG;\n",
       "  (function(spec, embedOpt){\n",
       "    let outputDiv = document.currentScript.previousElementSibling;\n",
       "    if (outputDiv.id !== \"altair-viz-463e24af2f4d4c71beef4dd7ad263075\") {\n",
       "      outputDiv = document.getElementById(\"altair-viz-463e24af2f4d4c71beef4dd7ad263075\");\n",
       "    }\n",
       "    const paths = {\n",
       "      \"vega\": \"https://cdn.jsdelivr.net/npm/vega@5?noext\",\n",
       "      \"vega-lib\": \"https://cdn.jsdelivr.net/npm/vega-lib?noext\",\n",
       "      \"vega-lite\": \"https://cdn.jsdelivr.net/npm/vega-lite@5.8.0?noext\",\n",
       "      \"vega-embed\": \"https://cdn.jsdelivr.net/npm/vega-embed@6?noext\",\n",
       "    };\n",
       "\n",
       "    function maybeLoadScript(lib, version) {\n",
       "      var key = `${lib.replace(\"-\", \"\")}_version`;\n",
       "      return (VEGA_DEBUG[key] == version) ?\n",
       "        Promise.resolve(paths[lib]) :\n",
       "        new Promise(function(resolve, reject) {\n",
       "          var s = document.createElement('script');\n",
       "          document.getElementsByTagName(\"head\")[0].appendChild(s);\n",
       "          s.async = true;\n",
       "          s.onload = () => {\n",
       "            VEGA_DEBUG[key] = version;\n",
       "            return resolve(paths[lib]);\n",
       "          };\n",
       "          s.onerror = () => reject(`Error loading script: ${paths[lib]}`);\n",
       "          s.src = paths[lib];\n",
       "        });\n",
       "    }\n",
       "\n",
       "    function showError(err) {\n",
       "      outputDiv.innerHTML = `<div class=\"error\" style=\"color:red;\">${err}</div>`;\n",
       "      throw err;\n",
       "    }\n",
       "\n",
       "    function displayChart(vegaEmbed) {\n",
       "      vegaEmbed(outputDiv, spec, embedOpt)\n",
       "        .catch(err => showError(`Javascript Error: ${err.message}<br>This usually means there's a typo in your chart specification. See the javascript console for the full traceback.`));\n",
       "    }\n",
       "\n",
       "    if(typeof define === \"function\" && define.amd) {\n",
       "      requirejs.config({paths});\n",
       "      require([\"vega-embed\"], displayChart, err => showError(`Error loading script: ${err.message}`));\n",
       "    } else {\n",
       "      maybeLoadScript(\"vega\", \"5\")\n",
       "        .then(() => maybeLoadScript(\"vega-lite\", \"5.8.0\"))\n",
       "        .then(() => maybeLoadScript(\"vega-embed\", \"6\"))\n",
       "        .catch(showError)\n",
       "        .then(() => displayChart(vegaEmbed));\n",
       "    }\n",
       "  })({\"config\": {\"view\": {\"continuousWidth\": 300, \"continuousHeight\": 300}}, \"data\": {\"name\": \"data-d2227dd5334a3fc8d444af080ff853fc\"}, \"mark\": {\"type\": \"bar\"}, \"encoding\": {\"color\": {\"field\": \"name\", \"legend\": null, \"type\": \"nominal\"}, \"x\": {\"axis\": {\"title\": null}, \"field\": \"name\", \"type\": \"nominal\"}, \"y\": {\"axis\": {\"format\": \"~s\", \"title\": null}, \"field\": \"total\", \"type\": \"quantitative\"}}, \"height\": 250, \"width\": 600, \"$schema\": \"https://vega.github.io/schema/vega-lite/v5.8.0.json\", \"datasets\": {\"data-d2227dd5334a3fc8d444af080ff853fc\": [{\"name\": \"Books & Libraries\", \"total\": 26302335}, {\"name\": \"Diaries, Letters & Archives\", \"total\": 4860263}, {\"name\": \"Images, Maps & Artefacts\", \"total\": 5846432}, {\"name\": \"Lists\", \"total\": 107994}, {\"name\": \"Magazines & Newsletters\", \"total\": 1807131}, {\"name\": \"Music, Audio & Video\", \"total\": 3190466}, {\"name\": \"Newspapers & Gazettes\", \"total\": 242192261}, {\"name\": \"People & Organisations\", \"total\": 1321177}, {\"name\": \"Research & Reports\", \"total\": 5416711}]}}, {\"mode\": \"vega-lite\"});\n",
       "</script>"
      ],
      "text/plain": [
       "alt.Chart(...)"
      ]
     },
     "metadata": {
      "scrapbook": {
       "mime_prefix": "",
       "name": "categories-chart"
      }
     },
     "output_type": "display_data"
    }
   ],
   "source": [
    "df = pd.DataFrame(categories)\n",
    "chart = (\n",
    "    alt.Chart(df)\n",
    "    .mark_bar()\n",
    "    .encode(\n",
    "        x=alt.X(\"name:N\", axis=alt.Axis(title=None)),\n",
    "        y=alt.Y(\"total:Q\", axis=alt.Axis(title=None, format=\"~s\")),\n",
    "        color=alt.Color(\"name:N\", legend=None),\n",
    "    )\n",
    ")\n",
    "glue(\"categories-chart-narrow\", chart.properties(width=150, height=250))\n",
    "glue(\"categories-chart\", chart.properties(width=600, height=250))"
   ]
  },
  {
   "cell_type": "markdown",
   "id": "59df09ee-a265-4fbd-a3f7-e385fbe21c8c",
   "metadata": {
    "editable": true,
    "slideshow": {
     "slide_type": ""
    },
    "tags": []
   },
   "source": [
    "```{tableofcontents}\n",
    "```"
   ]
  }
 ],
 "metadata": {
  "jupytext": {
   "formats": "ipynb,md:myst"
  },
  "kernelspec": {
   "display_name": "Python 3 (ipykernel)",
   "language": "python",
   "name": "python3"
  },
  "language_info": {
   "codemirror_mode": {
    "name": "ipython",
    "version": 3
   },
   "file_extension": ".py",
   "mimetype": "text/x-python",
   "name": "python",
   "nbconvert_exporter": "python",
   "pygments_lexer": "ipython3",
   "version": "3.8.12"
  }
 },
 "nbformat": 4,
 "nbformat_minor": 5
}
