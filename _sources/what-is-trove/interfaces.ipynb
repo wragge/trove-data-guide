{
 "cells": [
  {
   "cell_type": "markdown",
   "id": "70c4e201-2026-4ea2-abb5-eace047439e6",
   "metadata": {},
   "source": [
    "# Interfaces"
   ]
  },
  {
   "cell_type": "markdown",
   "id": "39e1e825-43a1-42a5-a057-b8d6cb2de064",
   "metadata": {
    "editable": true,
    "slideshow": {
     "slide_type": ""
    },
    "tags": []
   },
   "source": [
    "```{attention}\n",
    "This guide is currently under development. For more information and discussion see [the list of issues](https://github.com/wragge/trove-data-guide/issues) on GitHub. Comments are welcome.\n",
    "```"
   ]
  },
  {
   "cell_type": "markdown",
   "id": "60c4e9a8-cfa8-44e8-87d3-07c5ea433995",
   "metadata": {},
   "source": [
    "For most users, Trove is defined by its web interface – by the screens, buttons, boxes, links, and lists you interact with as you navigate around the site. This guide focuses on getting and using the data that sits behind the web interface, but, in some cases, access to data is constrained by the design and functioning of the site. It's therefore useful to think about the different components of the web interface and how they fit together.\n",
    "\n",
    "- front matter / help\n",
    "- search interface\n",
    "- web archives -- search and view\n",
    "- newspapers -- browse and view\n",
    "- digitised content viewers\n",
    "- user profiles\n",
    "- list view / edit"
   ]
  },
  {
   "cell_type": "code",
   "execution_count": null,
   "id": "efda4faf-f0c8-4072-ab7d-5c7ca289c975",
   "metadata": {},
   "outputs": [],
   "source": []
  }
 ],
 "metadata": {
  "kernelspec": {
   "display_name": "Python 3 (ipykernel)",
   "language": "python",
   "name": "python3"
  },
  "language_info": {
   "codemirror_mode": {
    "name": "ipython",
    "version": 3
   },
   "file_extension": ".py",
   "mimetype": "text/x-python",
   "name": "python",
   "nbconvert_exporter": "python",
   "pygments_lexer": "ipython3",
   "version": "3.8.12"
  }
 },
 "nbformat": 4,
 "nbformat_minor": 5
}
