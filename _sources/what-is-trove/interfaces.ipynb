{
 "cells": [
  {
   "cell_type": "markdown",
   "id": "70c4e201-2026-4ea2-abb5-eace047439e6",
   "metadata": {},
   "source": [
    "# Interfaces"
   ]
  },
  {
   "cell_type": "markdown",
   "id": "60c4e9a8-cfa8-44e8-87d3-07c5ea433995",
   "metadata": {},
   "source": [
    "For most users, Trove is defined by its web interface – by the screens, buttons, boxes, links, and lists you interact with as you navigate around the site. This Guide focuses on getting and using the data that sits behind the web interface, but, in some cases, access to data is constrained by the design and functioning of the website. It's therefore useful to think about the different components of the web interface and how they fit together."
   ]
  },
  {
   "cell_type": "markdown",
   "id": "b31e70d5-6ed1-4bc5-ad77-e1cc8b080ad3",
   "metadata": {},
   "source": [
    "(interfaces-home)=\n",
    "## Trove welcome, news, and help pages\n",
    "\n",
    "The [Trove home page](https://trove.nla.gov.au/), and the various news and documentation pages connected to it, are delivered through a content management system. New articles are added regularly. You can catch up on what's been posted recently on the [News](https://trove.nla.gov.au/news) page. Unfortunately there's no functional RSS feed.\n",
    "\n",
    "```{figure} /images/collection-feature.png\n",
    ":name: collection-feature\n",
    "A collection feature on Natural History Books  \n",
    "<https://trove.nla.gov.au/collection/BHL/biodiversity/explore>\n",
    "```\n",
    "\n",
    "Of particular interest are the [Collection Features](https://trove.nla.gov.au/news?type=trove_collection_feature) which present curated subsets of Trove resources. These include some basic visualisations, and an option to search within the collection subset. However, there doesn't seem to be any way of downloading information about the complete set of items in a subset. The usual Bulk Download option isn't available, and the main Trove API doesn't know anything about these 'collections'.\n",
    "\n",
    "Some useful links are hidden in unexpected places:\n",
    "\n",
    "* the [Newspapers & Gazettes browse interface](https://trove.nla.gov.au/newspaper) is linked from the [Explore](https://trove.nla.gov.au/landing/explore) tab\n",
    "* the [thematic collection of web sites](https://webarchive.nla.gov.au/collection) selected for preservation is linked from the [Categories](https://trove.nla.gov.au/landing/categories) tab\n",
    "* API documentation can be found under the [**About > Create something**](https://trove.nla.gov.au/about/create-something) menu item"
   ]
  },
  {
   "cell_type": "markdown",
   "id": "3d61d518-9884-479d-a625-3fe0608bfff4",
   "metadata": {},
   "source": [
    "## Search interface\n",
    "\n",
    "The search application is at the heart of Trove, giving users a single entry point to a range of different systems and formats. See the [Trove help system](https://trove.nla.gov.au/help/searching/search) for an introduction, and the \n",
    "\n",
    "Trove's search interface includes a number of different components.\n",
    "\n",
    "### 'Simple' search box\n",
    "\n",
    "```{figure} /images/search-box.png\n",
    ":name: search-box\n",
    "Trove's simple search box \n",
    "```\n",
    "\n",
    "Simple in design, but powerful in function – see [](/understanding-search/simple-search-options) for information on constructing complex queries.\n",
    "\n",
    "### 'Advanced' search form\n",
    "\n",
    "```{figure} /images/advanced-search.png\n",
    ":name: advanced-search\n",
    "The advanced search form for digitised newspapers\n",
    "```\n",
    "\n",
    "Advanced search doesn't really add any search options (except in the web archives category), but it does layer a structured interface over the standard query options. Each category has it's own version of the advanced search form.\n",
    "\n",
    "### Search results summary\n",
    "\n",
    "A single page overview of results across all categories (except websites)\n",
    "\n",
    "### Search results\n",
    "\n",
    "Links out to different viewers (differences bw newspapers and others)\n"
   ]
  },
  {
   "cell_type": "markdown",
   "id": "59dd2f78-2925-4f7c-9aa1-784c701e98d9",
   "metadata": {},
   "source": [
    "## Work records"
   ]
  },
  {
   "cell_type": "markdown",
   "id": "b9f26743-309d-45ce-8d07-300690f1f921",
   "metadata": {},
   "source": [
    "## Newspapers – titles, browse and viewer"
   ]
  },
  {
   "cell_type": "markdown",
   "id": "fc939ca2-ff0a-4de3-8fc7-09ea76532dba",
   "metadata": {},
   "source": [
    "## Digitised content viewers\n",
    "\n",
    "* digital collections\n",
    "* digital books and periodicals\n",
    "* digital images\n",
    "* digital maps\n",
    "* finding aids\n",
    "\n"
   ]
  },
  {
   "cell_type": "markdown",
   "id": "87404f73-042b-45a8-a943-539f542e7bcb",
   "metadata": {},
   "source": [
    "## Web archives – search, view, collections"
   ]
  },
  {
   "cell_type": "markdown",
   "id": "c8c48862-af66-46ce-99f4-a69eb84a7076",
   "metadata": {},
   "source": [
    "## List – view and edit"
   ]
  },
  {
   "cell_type": "markdown",
   "id": "103be8bf-60e5-41c9-ba94-948803ccbc01",
   "metadata": {},
   "source": [
    "## User profile"
   ]
  }
 ],
 "metadata": {
  "kernelspec": {
   "display_name": "Python 3 (ipykernel)",
   "language": "python",
   "name": "python3"
  },
  "language_info": {
   "codemirror_mode": {
    "name": "ipython",
    "version": 3
   },
   "file_extension": ".py",
   "mimetype": "text/x-python",
   "name": "python",
   "nbconvert_exporter": "python",
   "pygments_lexer": "ipython3",
   "version": "3.10.12"
  }
 },
 "nbformat": 4,
 "nbformat_minor": 5
}
