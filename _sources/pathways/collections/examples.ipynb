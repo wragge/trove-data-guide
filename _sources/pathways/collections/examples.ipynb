{
 "cells": [
  {
   "cell_type": "markdown",
   "id": "47e0d7fa-5e88-480a-9878-e68423846c35",
   "metadata": {
    "editable": true,
    "slideshow": {
     "slide_type": ""
    },
    "tags": []
   },
   "source": [
    "# Tutorials and examples\n",
    "\n",
    "````{card}\n",
    "This page includes information on tutorials and examples to help you create and share your own collections or resources from Trove.\n",
    "\n",
    "```{contents}\n",
    ":local:\n",
    ":backlinks: None\n",
    "```\n",
    "````\n",
    "\n",
    "## Tutorials\n",
    "\n",
    "`````{grid}\n",
    ":gutter: 3\n",
    "\n",
    "````{grid-item-card} Sharing a Trove List as a CollectionBuilder exhibition\n",
    ":columns: 6\n",
    "\n",
    "![GLAM Workbench logo](../../images/cb-wragge-demo.png)\n",
    "\n",
    "You've been collecting and annotating items relating to your research project in a Trove List. You'd like to display the contents of your list as an online exhibition for others to explore. [CollectionBuilder](https://collectionbuilder.github.io/) creates online exhibitions using static web technologies. But how do you get your List data from Trove into CollectionBuilder?\n",
    "\n",
    "+++\n",
    "```{button-link} collectionbuilder.html\n",
    ":color: primary\n",
    "Get started\n",
    "```\n",
    "````\n",
    "`````"
   ]
  },
  {
   "cell_type": "markdown",
   "id": "f7f3b9cc-553f-4c61-a355-172e2f350d2e",
   "metadata": {
    "editable": true,
    "slideshow": {
     "slide_type": ""
    },
    "tags": []
   },
   "source": [
    "## Examples from the GLAM Workbench\n",
    "\n",
    "[Convert a Trove list into a CSV file](https://glam-workbench.net/trove-lists/convert-a-trove-list-into-a-csv-file/)\n",
    ": This notebook converts Trove lists into CSV files (spreadsheets). Separate CSV files are created for newspaper articles and works from Trove's other zones. You can also save the OCRd text, a PDF, and an image of each newspaper article.\n",
    "\n",
    "[Convert a Trove list into a CollectionBuilder exhibition](https://glam-workbench.net/trove-lists/convert-list-to-cb-exhibition/)\n",
    ": This notebook converts Trove lists into CSV files (spreadsheets). Separate CSV files are created for newspaper articles and works from Trove's other zones. You can also save the OCRd text, a PDF, and an image of each newspaper article.\n",
    "\n",
    "[Upload Trove newspaper articles to Omeka-S](https://glam-workbench.net/trove-newspapers/Upload-Trove-newspapers-to-Omeka/)\n",
    ": This notebook steps through the process of uploading Trove newspaper articles to your own Omeka-S instance via the API. As well as uploading the article metadata, it attaches image(s) and PDFs of the articles, and creates a linked record for the publishing newspaper. The source of the articles can be a Trove search, a Trove list, a Zotero collection, or just a list of article ids.\n",
    "\n",
    "[Display the results of a Trove newspaper harvest as a searchable database using Datasette](https://glam-workbench.net/trove-harvester/display-harvest-results-in-datasette/)\n",
    ": This notebook shows you how to load the newspaper data you've harvested into Datasette, and start it up. If you've also harvested full-text and images from the newspaper articles, you can add these to your database as well!"
   ]
  },
  {
   "cell_type": "code",
   "execution_count": null,
   "id": "1eea0101-59bd-445a-817a-4b7203b67f42",
   "metadata": {},
   "outputs": [],
   "source": []
  }
 ],
 "metadata": {
  "kernelspec": {
   "display_name": "Python 3 (ipykernel)",
   "language": "python",
   "name": "python3"
  },
  "language_info": {
   "codemirror_mode": {
    "name": "ipython",
    "version": 3
   },
   "file_extension": ".py",
   "mimetype": "text/x-python",
   "name": "python",
   "nbconvert_exporter": "python",
   "pygments_lexer": "ipython3",
   "version": "3.10.12"
  }
 },
 "nbformat": 4,
 "nbformat_minor": 5
}
