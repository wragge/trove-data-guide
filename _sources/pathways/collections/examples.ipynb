{
 "cells": [
  {
   "cell_type": "markdown",
   "id": "47e0d7fa-5e88-480a-9878-e68423846c35",
   "metadata": {},
   "source": [
    "# Tutorials and examples\n",
    "\n",
    "\n",
    "````{card}\n",
    "On this page\n",
    "\n",
    "```{contents}\n",
    ":local:\n",
    ":backlinks: None\n",
    "```\n",
    "````\n",
    "\n",
    "- [](collectionbuilder.md)"
   ]
  }
 ],
 "metadata": {
  "kernelspec": {
   "display_name": "Python 3 (ipykernel)",
   "language": "python",
   "name": "python3"
  },
  "language_info": {
   "codemirror_mode": {
    "name": "ipython",
    "version": 3
   },
   "file_extension": ".py",
   "mimetype": "text/x-python",
   "name": "python",
   "nbconvert_exporter": "python",
   "pygments_lexer": "ipython3",
   "version": "3.10.12"
  }
 },
 "nbformat": 4,
 "nbformat_minor": 5
}
