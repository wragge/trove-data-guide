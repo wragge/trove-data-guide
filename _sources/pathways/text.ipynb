{
 "cells": [
  {
   "cell_type": "markdown",
   "id": "c8a13f48-fdb1-4ea8-a272-480ad5751cfd",
   "metadata": {
    "editable": true,
    "slideshow": {
     "slide_type": ""
    },
    "tags": []
   },
   "source": [
    "# Text"
   ]
  },
  {
   "cell_type": "markdown",
   "id": "6e292d33-a5d7-4bf9-91a3-5a639356359b",
   "metadata": {
    "editable": true,
    "slideshow": {
     "slide_type": ""
    },
    "tags": []
   },
   "source": [
    "## Text in Trove\n",
    "\n",
    "### Documentation\n",
    "\n",
    "- OCRd text from digitised newspapers\n",
    "  - [Articles](newspapers:data:articles:text)\n",
    "  - [Pages](newspapers:data:pages:text)\n",
    "  - [Issues](issue-text)\n",
    "  - [Titles](newspapers:data:titles:text)\n",
    "- [OCRd text from digitised periodicals](digitised:periodicals:data:text)\n",
    "- [Transcripts and summaries from oral histories](oral-histories-transcripts)\n",
    "\n",
    "### Pre-harvested datasets\n",
    "\n",
    "- [OCRd text from Trove books and ephemera](https://glam-workbench.net/trove-books/ocrd-text-from-trove-books/) {{gw}}\n",
    "- [OCRd text from Trove digitised journals](https://glam-workbench.net/trove-journals/ocrd-text-all-journals/) {{gw}}\n",
    "\n",
    "### Creating datasets\n",
    "\n",
    "- [Trove Newspaper Harvester](https://glam-workbench.net/trove-harvester/) {{gw}}\n",
    "- [Get OCRd text from a digitised journal in Trove](https://glam-workbench.net/trove-journals/get-ocrd-text-from-digitised-journal/) {{gw}}"
   ]
  },
  {
   "cell_type": "markdown",
   "id": "986c172a-8594-499c-98bd-58a53f114c9e",
   "metadata": {
    "editable": true,
    "slideshow": {
     "slide_type": ""
    },
    "tags": []
   },
   "source": [
    "## Tools and resources"
   ]
  },
  {
   "cell_type": "markdown",
   "id": "d6e17917-5690-43eb-8f54-73a45b792fc9",
   "metadata": {
    "editable": true,
    "slideshow": {
     "slide_type": ""
    },
    "tags": []
   },
   "source": [
    "### ARDC Community Data Lab\n",
    "\n",
    "`````{grid}\n",
    ":gutter: 3\n",
    "\n",
    "````{grid-item-card} Australian Text Analytics Platform (ATAP)\n",
    "\n",
    "![ATAP logo](/images/atap-logo.png)\n",
    "\n",
    "The Australian Text Analytics Platform is an open source environment that provides researchers with tools and training for analysing, processing, and exploring text.\n",
    "\n",
    "+++\n",
    "```{button-link} https://www.atap.edu.au/\n",
    ":color: primary\n",
    "More info\n",
    "```\n",
    "````\n",
    "\n",
    "````{grid-item-card} Stylometric Intelligent Archive (SIA)\n",
    "\n",
    "![SIA Screenshot](/images/sia-screenshot.png)\n",
    "\n",
    "The Stylometry Intelligent Archive (SIA) provides researchers with a toolkit for stylometry. Stylometry applies statistical measures to literary style. \n",
    "+++\n",
    "\n",
    "```{button-link} https://systemik-solutions.github.io/sia_site/intro.html\n",
    ":color: primary\n",
    "More info\n",
    "```\n",
    "````\n",
    "`````"
   ]
  },
  {
   "cell_type": "markdown",
   "id": "a371befe-1d28-4483-aad9-c4d06d1b89a6",
   "metadata": {
    "editable": true,
    "slideshow": {
     "slide_type": ""
    },
    "tags": []
   },
   "source": [
    "## Tutorials and examples"
   ]
  },
  {
   "cell_type": "code",
   "execution_count": null,
   "id": "56e562cf-8a99-4803-a98a-9a91d4548549",
   "metadata": {
    "editable": true,
    "slideshow": {
     "slide_type": ""
    },
    "tags": []
   },
   "outputs": [],
   "source": []
  }
 ],
 "metadata": {
  "kernelspec": {
   "display_name": "Python 3 (ipykernel)",
   "language": "python",
   "name": "python3"
  },
  "language_info": {
   "codemirror_mode": {
    "name": "ipython",
    "version": 3
   },
   "file_extension": ".py",
   "mimetype": "text/x-python",
   "name": "python",
   "nbconvert_exporter": "python",
   "pygments_lexer": "ipython3",
   "version": "3.10.12"
  }
 },
 "nbformat": 4,
 "nbformat_minor": 5
}
