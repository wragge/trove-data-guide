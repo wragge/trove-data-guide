{
 "cells": [
  {
   "cell_type": "markdown",
   "id": "04976c3c-0922-42dc-b2a9-9b9fd1cc7a97",
   "metadata": {},
   "source": [
    "# Tools and resources\n",
    "\n",
    "\n",
    "````{card}\n",
    "On this page\n",
    "\n",
    "```{contents}\n",
    ":local:\n",
    ":backlinks: None\n",
    "```\n",
    "````\n",
    "\n",
    "### ARDC Community Data Lab\n",
    "\n",
    "These tools are developed, maintained or supported by the Community Data Lab or other projects within the HASS&I Research Data Commons.\n",
    "\n",
    "`````{grid}\n",
    ":gutter: 3\n",
    "\n",
    "````{grid-item-card} Glycerine Image Annotation Workbench (IAW)\n",
    ":width: 50%\n",
    "\n",
    "![IAW logo](/images/iaw-logo.png)\n",
    "\n",
    "Glycerine Image Annotation Workbench provides a workflow for annotation & publishing of International Image Interoperability Framework (IIIF) images across institutional repositories.\n",
    "\n",
    "+++\n",
    "```{button-link} https://systemik-solutions.github.io/Glycerine_Guide/intro.html\n",
    ":color: primary\n",
    "More info\n",
    "```\n",
    "````\n",
    "`````\n",
    "\n",
    "### Other tools and resources\n",
    "\n",
    "- [TAPoR 3: Discover research tools for studying texts](https://tapor.ca/home)\n",
    "- [SSH Open Marketplace](https://marketplace.sshopencloud.eu/)"
   ]
  }
 ],
 "metadata": {
  "kernelspec": {
   "display_name": "Python 3 (ipykernel)",
   "language": "python",
   "name": "python3"
  },
  "language_info": {
   "codemirror_mode": {
    "name": "ipython",
    "version": 3
   },
   "file_extension": ".py",
   "mimetype": "text/x-python",
   "name": "python",
   "nbconvert_exporter": "python",
   "pygments_lexer": "ipython3",
   "version": "3.10.12"
  }
 },
 "nbformat": 4,
 "nbformat_minor": 5
}
