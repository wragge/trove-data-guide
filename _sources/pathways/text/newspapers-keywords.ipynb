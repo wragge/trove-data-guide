{
 "cells": [
  {
   "cell_type": "markdown",
   "id": "5504f879-a3a8-4989-8db5-d48743cf1284",
   "metadata": {},
   "source": [
    "# Analysing keywords in Trove's digitised newspapers\n",
    "\n",
    "You want to explore differences in language use across a collection of digitised newspaper articles. The [Australian Text Analytics Platform](https://www.atap.edu.au/) provides a [Keywords Analysis tool](https://github.com/Australian-Text-Analytics-Platform/keywords-analysis) that helps you examine whether particular words are over or under-represented across collections of text. But how do get data from Trove's newspapers to the keyword analysis tool?"
   ]
  },
  {
   "cell_type": "markdown",
   "id": "0a1bad18-cf46-41ef-ab0a-1b69afeb6c1c",
   "metadata": {},
   "source": [
    "- constructing a search\n",
    "- Using Binder\n",
    "- Trove Newspaper Harvester\n",
    "- understanding results\n",
    "- reshaping results\n",
    "- Using ATAP\n",
    "- keyword analysis\n",
    "- uploading text"
   ]
  },
  {
   "cell_type": "markdown",
   "id": "4157d5f4-1d87-4c4f-90c3-0f6886ec123c",
   "metadata": {},
   "source": [
    "## Tools \n",
    "`````{grid}\n",
    ":gutter: 3\n",
    "\n",
    "````{grid-item-card} Trove Newspaper & Gazette Harvester\n",
    ":columns: 6\n",
    "\n",
    "![GLAM Workbench logo](/images/gw-icon.png)\n",
    "\n",
    "The Trove Newspaper & Gazette Harvester makes it easy to download large quantities of digitised articles from Trove's newspapers and gazettes.\n",
    "\n",
    "+++\n",
    "```{button-link} https://glam-workbench.net/trove-harvester/\n",
    ":color: primary\n",
    "More info\n",
    "```\n",
    "````\n",
    "\n",
    "````{grid-item-card} KeywordsAnalysis Tool\n",
    ":columns: 6\n",
    "\n",
    "![ATAP logo](/images/atap-logo.png)\n",
    "\n",
    "Use the KeywordsAnalysis tool to analyse words in a collection of corpus and identify whether certain words are over or under-represented in a particular corpus (the study corpus) compared to their representation in other corpus (the reference corpus).\n",
    "\n",
    "+++\n",
    "```{button-link} https://github.com/Australian-Text-Analytics-Platform/keywords-analysis/\n",
    ":color: primary\n",
    "More info\n",
    "```\n",
    "````\n",
    "`````"
   ]
  },
  {
   "cell_type": "markdown",
   "id": "94d8f161-9445-442c-9078-0d39fd2dad95",
   "metadata": {},
   "source": [
    "## Constructing your search\n",
    "\n",
    "The first step is constructing a search that will return relevant newspaper articles. This is harder than it seems. Yes, you can just plug keywords into Trove's search interface and get back interesting looking results. But it's important to keep in mind the differing needs of *discovery* versus *analysis*. Your aim here is not to find a few useful articles, but to construct a dataset containing *all* the articles returned by your search query. **Everything.** When you're searching for individual articles you can usually just ignore the fact that there are millions of articles in your search results, as Trove's relevance ranking pushes the most likely candidates to the top. But if you're creating a dataset, you want to be as precise as possible to avoid including unwanted noise.\n",
    "\n",
    "```{note} Relevance in bulk harvests\n",
    "Unlike the web interface, when you harvest newspaper articles from the Trove API they're ordered by their identifier, not their relevance. So you can't just get the first few hundred articles and assume you've got the most important stuff. However, the API results do include a relevance score that you can use to filter the dataset *after* you've finished harvesting. This is discussed further below.\n",
    "```\n",
    "\n",
    "There are a few ways of making your search more precise:\n",
    "\n",
    "- [de-fuzzify your results](search:simple:defuzzify) by controlling the precision of text searches\n",
    "- use [proximity searches](search:simple:proximity) to specify the distance between search terms\n",
    "- [apply facets](search:simple:facets) to limit your results – in particular you might want to use:\n",
    "  - `l-category` to specify the type of articles (do you really want to include advertisements?)\n",
    "  - `l-state` to specify the state in which articles were published\n",
    "  - `l-wordCount` to limit to articles of a particular length\n",
    "  - `l-decade` or `l-year` to specify the date span (do you really want everything from 1803 to 2020?)"
   ]
  },
  {
   "cell_type": "code",
   "execution_count": null,
   "id": "a7d66a93-0c94-4e8a-a8f0-fa5b8b5ff038",
   "metadata": {},
   "outputs": [],
   "source": []
  }
 ],
 "metadata": {
  "kernelspec": {
   "display_name": "Python 3 (ipykernel)",
   "language": "python",
   "name": "python3"
  },
  "language_info": {
   "codemirror_mode": {
    "name": "ipython",
    "version": 3
   },
   "file_extension": ".py",
   "mimetype": "text/x-python",
   "name": "python",
   "nbconvert_exporter": "python",
   "pygments_lexer": "ipython3",
   "version": "3.10.12"
  }
 },
 "nbformat": 4,
 "nbformat_minor": 5
}
