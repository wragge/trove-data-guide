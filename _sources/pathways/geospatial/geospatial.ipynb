{
 "cells": [
  {
   "cell_type": "markdown",
   "id": "4553adee-4402-42ed-ac14-f4e6507c1f66",
   "metadata": {
    "editable": true,
    "slideshow": {
     "slide_type": ""
    },
    "tags": []
   },
   "source": [
    "# Maps and places\n",
    "\n",
    "Trove includes a large collection of digitised maps. There's also some spatial information included in metadata records."
   ]
  },
  {
   "cell_type": "markdown",
   "id": "a44e1567-39aa-4225-b506-2c495b3a166c",
   "metadata": {},
   "source": [
    "```{tableofcontents}\n",
    "\n",
    "```"
   ]
  }
 ],
 "metadata": {
  "kernelspec": {
   "display_name": "Python 3 (ipykernel)",
   "language": "python",
   "name": "python3"
  },
  "language_info": {
   "codemirror_mode": {
    "name": "ipython",
    "version": 3
   },
   "file_extension": ".py",
   "mimetype": "text/x-python",
   "name": "python",
   "nbconvert_exporter": "python",
   "pygments_lexer": "ipython3",
   "version": "3.10.12"
  }
 },
 "nbformat": 4,
 "nbformat_minor": 5
}
