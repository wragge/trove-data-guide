{
 "cells": [
  {
   "cell_type": "markdown",
   "id": "c133f696-6671-47a5-832d-35f3d9e8e7c9",
   "metadata": {},
   "source": [
    "# Tools and resources\n",
    "\n",
    "````{card}\n",
    "This page includes information on tools and resources that you can use to analyse maps and place data from Trove.\n",
    "\n",
    "```{contents}\n",
    ":local:\n",
    ":backlinks: None\n",
    "```\n",
    "````"
   ]
  },
  {
   "cell_type": "markdown",
   "id": "f2888600-100f-4fd5-85be-94ddb967f2c2",
   "metadata": {
    "editable": true,
    "slideshow": {
     "slide_type": ""
    },
    "tags": []
   },
   "source": [
    "## ARDC Community Data Lab\n",
    "\n",
    "These tools are developed, maintained or supported by the Community Data Lab or other projects within the HASS&I Research Data Commons.\n",
    "\n",
    "`````{grid}\n",
    ":gutter: 3\n",
    "\n",
    "````{grid-item-card} Gazetteer of Historical Australian Places (GHAP)\n",
    ":columns: 4\n",
    "\n",
    "![GHAP logo](/images/ghap-logo.png)\n",
    "\n",
    "Search and contribute to placenames in Australia with the Gazetteer of Historical Australian Placenames (GHAP). GHAP, for the first time, makes easily available aggregated data on 'all' placenames in Australia, based on ANPS data, including historical names.\n",
    "\n",
    "+++\n",
    "```{button-link} https://ghap.tlcmap.org/\n",
    ":color: primary\n",
    "More info\n",
    "```\n",
    "````\n",
    "\n",
    "````{grid-item-card} GeoJikuu\n",
    ":columns: 4\n",
    "\n",
    "GeoJikuu is a Python library for analysing geographical data that contains both spatial and spatiotemporal variables. \n",
    "\n",
    "+++\n",
    "```{button-link} https://github.com/kainedusher/GeoJikuu\n",
    ":color: primary\n",
    "More info\n",
    "```\n",
    "````\n",
    "````{grid-item-card} Trove Places\n",
    ":columns: 4\n",
    "\n",
    "![Screenshot](/images/trove-newspaper-places.png)\n",
    "\n",
    "Find digitised newspapers by their places of publication and circulation. \n",
    "\n",
    "+++\n",
    "```{button-link} https://troveplaces.herokuapp.com/map/\n",
    ":color: primary\n",
    "More info\n",
    "```\n",
    "````\n",
    "`````\n",
    "\n",
    "### Other tools and resources\n",
    "\n",
    "- [TAPoR 3: Discover research tools for studying texts](https://tapor.ca/home)\n",
    "- [SSH Open Marketplace](https://marketplace.sshopencloud.eu/)"
   ]
  }
 ],
 "metadata": {
  "kernelspec": {
   "display_name": "Python 3 (ipykernel)",
   "language": "python",
   "name": "python3"
  },
  "language_info": {
   "codemirror_mode": {
    "name": "ipython",
    "version": 3
   },
   "file_extension": ".py",
   "mimetype": "text/x-python",
   "name": "python",
   "nbconvert_exporter": "python",
   "pygments_lexer": "ipython3",
   "version": "3.10.12"
  }
 },
 "nbformat": 4,
 "nbformat_minor": 5
}
