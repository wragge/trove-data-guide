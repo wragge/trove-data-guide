{
 "cells": [
  {
   "cell_type": "markdown",
   "id": "b8a7c544-54d5-4f31-8686-53a588cecf9c",
   "metadata": {},
   "source": [
    "# Data sources"
   ]
  },
  {
   "cell_type": "markdown",
   "id": "5e4933c4-5641-49db-a746-d524ce37bd92",
   "metadata": {
    "editable": true,
    "slideshow": {
     "slide_type": ""
    },
    "tags": []
   },
   "source": [
    "## Documentation\n",
    "\n",
    "These sections of the Trove Data Guide explain how to access maps and place data from different parts of Trove:\n",
    "\n",
    "- [Which countries do oral histories relate to?](digitised:oralhistories:locations)\n",
    "\n",
    "### Pre-harvested datasets\n",
    "\n",
    "The GLAM Workbench provides a number of datasets containing OCRd text harvested from Trove.\n",
    "\n",
    "`````{grid}\n",
    ":gutter: 3\n",
    "\n",
    "````{grid-item-card} Trove digitised maps metadata\n",
    ":columns: 6\n",
    "\n",
    "This dataset contains metadata describing digitised maps in Trove, harvested from the Trove API and other sources.\n",
    "\n",
    "+++\n",
    "```{button-link} https://glam-workbench.net/trove-maps/single-maps-data/\n",
    ":color: primary\n",
    "More info\n",
    "```\n",
    "````\n",
    "````{grid-item-card} Trove digitised maps – coordinates\n",
    ":columns: 6\n",
    "\n",
    "This dataset was generated from the harvest of digitised maps metadata. Coordinate strings in the metadata (points and bounding boxes) were parsed and converted to decimal values.\n",
    "\n",
    "+++\n",
    "```{button-link} https://glam-workbench.net/trove-maps/single-maps-coordinates-data/\n",
    ":color: primary\n",
    "More info\n",
    "```\n",
    "````\n",
    "````{grid-item-card} MARC Geographic Areas – Wikidata mappings\n",
    ":columns: 6\n",
    "\n",
    "Trove uses codes from the MARC Geographic Areas list to identify locations in metadata records. I couldn't find any mappings of these codes to other sources of geospatial information, so I fired up OpenRefine and reconciled the geographic area names against Wikidata. Once I'd linked as many as possible, I copied additional information from Wikidata, such as ISO country codes, GeoNames identifiers, and geographic coordinates.\n",
    "\n",
    "+++\n",
    "```{button-link} https://github.com/GLAM-Workbench/marc-geographicareas\n",
    ":color: primary\n",
    "More info\n",
    "```\n",
    "````\n",
    "````{grid-item-card} Geolocated newspaper titles \n",
    ":columns: 6\n",
    "\n",
    "This dataset relates newspaper titles in Trove with their places of publication and circulation.\n",
    "\n",
    "+++\n",
    "```{button-link} https://docs.google.com/spreadsheets/d/1rURriHBSf3MocI8wsdl1114t0YeyU0BVSXWeg232MZs/edit?usp=sharing\n",
    ":color: primary\n",
    "More info\n",
    "```\n",
    "````\n",
    "`````\n",
    "\n",
    "### Creating datasets\n",
    "\n",
    "[Exploring digitised maps in Trove](https://glam-workbench.net/trove-maps/exploring-digitised-maps/)\n",
    ": I knew there were lots of great maps you could download from Trove, but how many? And how big were the files? I thought I'd try to quantify this a bit by harvesting and analysing the metadata.\n",
    "\n",
    "[Parse map coordinates from metadata](https://glam-workbench.net/trove-maps/parse-coordinates/)\n",
    ": The harvest of digitised maps metadata includes a coordinates column that provides a string representation of either a point or a bounding box. This notebook attempts to parse the coordinate string and convert the values to decimals. It then uses the decimal values to explore the geographical context of Trove's digitised map collection.\n",
    "\n",
    "[Create a subset of digitised maps by searching for coordinates](https://glam-workbench.net/trove-maps/create-map-subsets/)\n",
    ": This notebook helps you create subsets of digitised maps by searching for maps whose centre points fall within a specified bounding box. You can download the results as CSV and GeoJSON files."
   ]
  }
 ],
 "metadata": {
  "kernelspec": {
   "display_name": "Python 3 (ipykernel)",
   "language": "python",
   "name": "python3"
  },
  "language_info": {
   "codemirror_mode": {
    "name": "ipython",
    "version": 3
   },
   "file_extension": ".py",
   "mimetype": "text/x-python",
   "name": "python",
   "nbconvert_exporter": "python",
   "pygments_lexer": "ipython3",
   "version": "3.10.12"
  }
 },
 "nbformat": 4,
 "nbformat_minor": 5
}
