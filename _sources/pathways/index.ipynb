{
 "cells": [
  {
   "cell_type": "markdown",
   "id": "2195a9c5-36c6-42f7-84f6-11f0f2fee249",
   "metadata": {
    "editable": true,
    "slideshow": {
     "slide_type": ""
    },
    "tags": []
   },
   "source": [
    "# Research pathways\n",
    "\n",
    "This section will include detailed tutorials that demonstrate how you can make use of Trove data using tools from the [ARDC Community Data Lab](https://ardc.edu.au/project/ardc-community-data-lab/) and beyond."
   ]
  },
  {
   "cell_type": "markdown",
   "id": "8d1ea2e3-3289-4b06-97c0-8f6ac99ec972",
   "metadata": {
    "editable": true,
    "slideshow": {
     "slide_type": ""
    },
    "tags": []
   },
   "source": [
    "```{tableofcontents}\n",
    "\n",
    "```"
   ]
  },
  {
   "cell_type": "code",
   "execution_count": null,
   "id": "552a232b-eff5-44f6-bbbf-824701f0bcc2",
   "metadata": {
    "editable": true,
    "slideshow": {
     "slide_type": ""
    },
    "tags": []
   },
   "outputs": [],
   "source": []
  }
 ],
 "metadata": {
  "jupytext": {
   "formats": "ipynb,md:myst"
  },
  "kernelspec": {
   "display_name": "Python 3 (ipykernel)",
   "language": "python",
   "name": "python3"
  },
  "language_info": {
   "codemirror_mode": {
    "name": "ipython",
    "version": 3
   },
   "file_extension": ".py",
   "mimetype": "text/x-python",
   "name": "python",
   "nbconvert_exporter": "python",
   "pygments_lexer": "ipython3",
   "version": "3.10.12"
  }
 },
 "nbformat": 4,
 "nbformat_minor": 5
}
