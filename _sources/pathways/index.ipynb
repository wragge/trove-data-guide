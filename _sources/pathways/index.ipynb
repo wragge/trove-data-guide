{
 "cells": [
  {
   "cell_type": "markdown",
   "id": "2195a9c5-36c6-42f7-84f6-11f0f2fee249",
   "metadata": {
    "editable": true,
    "slideshow": {
     "slide_type": ""
    },
    "tags": []
   },
   "source": [
    "# Research pathways\n",
    "\n",
    "This section will include detailed tutorials that demonstrate how you can make use of Trove data using tools from the [ARDC Community Data Lab](https://ardc.edu.au/project/ardc-community-data-lab/) and beyond.\n"
   ]
  },
  {
   "cell_type": "code",
   "execution_count": null,
   "id": "587430ee-6c12-424f-bd15-22ca86e1ed01",
   "metadata": {},
   "outputs": [],
   "source": []
  }
 ],
 "metadata": {
  "jupytext": {
   "formats": "ipynb,md:myst"
  },
  "kernelspec": {
   "display_name": "Python 3 (ipykernel)",
   "language": "python",
   "name": "python3"
  },
  "language_info": {
   "codemirror_mode": {
    "name": "ipython",
    "version": 3
   },
   "file_extension": ".py",
   "mimetype": "text/x-python",
   "name": "python",
   "nbconvert_exporter": "python",
   "pygments_lexer": "ipython3",
   "version": "3.8.12"
  }
 },
 "nbformat": 4,
 "nbformat_minor": 5
}
