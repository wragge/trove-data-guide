{
 "cells": [
  {
   "cell_type": "markdown",
   "id": "4553adee-4402-42ed-ac14-f4e6507c1f66",
   "metadata": {},
   "source": [
    "# Images"
   ]
  },
  {
   "cell_type": "markdown",
   "id": "f692d6e0-f715-4bec-ad8e-cc81b9afbcba",
   "metadata": {
    "editable": true,
    "slideshow": {
     "slide_type": ""
    },
    "tags": []
   },
   "source": [
    "## Images in Trove\n",
    "\n",
    "### Documentation\n",
    "\n",
    "- [Page images and PDFs from digitised newspapers](page-images-and-pdfs)\n",
    "- [Page images and illustrations from digitised periodicals](digitised:periodicals:data:images)\n",
    "\n",
    "### Pre-harvested data sets\n",
    "\n",
    "- [Editorial cartoons from The Bulletin, 1886 to 1952](https://glam-workbench.net/trove-journals/bulletin-cartoons-collection/) {{gw}}\n",
    "\n",
    "### Creating datasets\n",
    "\n",
    "#### Notebooks\n",
    "\n",
    "- [Get covers (or any other pages) from a digitised journal in Trove](https://glam-workbench.net/trove-journals/get-covers-from-digitised-journal/) {{gw}}\n",
    "- [Harvest illustrations from periodicals](https://glam-workbench.net/trove-journals/harvest-illustrations-from-periodicals/) {{gw}}\n",
    "- [Save a Trove newspaper article as an image](https://glam-workbench.net/trove-newspapers/Save-Trove-newspaper-article-as-image/) {{gw}}\n",
    "- [Harvest Australian Women's Weekly covers (or the front pages of any newspaper)](https://glam-workbench.net/trove-newspapers/harvest-aww-covers-and-newspaper-front-pages/) {{gw}}\n",
    "\n",
    "#### Software packages\n",
    "- [trove-newspaper-images](https://wragge.github.io/trove_newspaper_images/)\n",
    "- [trove-newspaper-harvester](https://wragge.github.io/trove-newspaper-harvester/)\n"
   ]
  },
  {
   "cell_type": "markdown",
   "id": "9443536f-eaa9-4056-87b6-9d0c380190c1",
   "metadata": {
    "editable": true,
    "slideshow": {
     "slide_type": ""
    },
    "tags": []
   },
   "source": [
    "## Tools and resources\n",
    "\n",
    "### ARDC Community Data Lab\n",
    "\n",
    "These tools are developed, maintained or supported by the Community Data Lab or other projects within the HASS&I Research Data Commons.\n",
    "\n",
    "`````{grid}\n",
    ":gutter: 3\n",
    "\n",
    "````{grid-item-card} Glycerine Image Annotation Workbench (IAW)\n",
    ":width: 50%\n",
    "\n",
    "![IAW logo](/images/iaw-logo.png)\n",
    "\n",
    "Glycerine Image Annotation Workbench provides a workflow for annotation & publishing of International Image Interoperability Framework (IIIF) images across institutional repositories.\n",
    "\n",
    "+++\n",
    "```{button-link} https://systemik-solutions.github.io/Glycerine_Guide/intro.html\n",
    ":color: primary\n",
    "More info\n",
    "```\n",
    "````\n",
    "`````\n",
    "\n",
    "### Other tools and resources\n",
    "\n",
    "- [TAPoR 3: Discover research tools for studying texts](https://tapor.ca/home)\n",
    "- [SSH Open Marketplace](https://marketplace.sshopencloud.eu/)"
   ]
  },
  {
   "cell_type": "markdown",
   "id": "849932d9-fec3-4661-9f6a-750e1b29ee58",
   "metadata": {},
   "source": [
    "## Tutorials and examples"
   ]
  }
 ],
 "metadata": {
  "kernelspec": {
   "display_name": "Python 3 (ipykernel)",
   "language": "python",
   "name": "python3"
  },
  "language_info": {
   "codemirror_mode": {
    "name": "ipython",
    "version": 3
   },
   "file_extension": ".py",
   "mimetype": "text/x-python",
   "name": "python",
   "nbconvert_exporter": "python",
   "pygments_lexer": "ipython3",
   "version": "3.10.12"
  }
 },
 "nbformat": 4,
 "nbformat_minor": 5
}
