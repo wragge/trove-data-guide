{
 "cells": [
  {
   "cell_type": "markdown",
   "id": "f8477376-ab4b-4535-aa47-24524f474e6c",
   "metadata": {
    "editable": true,
    "slideshow": {
     "slide_type": ""
    },
    "tags": []
   },
   "source": [
    "# Accessing data from newspapers and gazettes\n",
    "\n",
    "Before you start requesting data from Trove's digitised newspapers, it's worth thinking a bit about the way newspapers are represented in Trove and the relationships between **articles**, **pages**, **issues**, and **titles**. You might think that newspapers are organised in a simple hierarchical structure with titles at the top, and articles at the bottom, but it's not quite that straighforward. Articles are linked to both pages and titles. Titles have their own API endpoint that can lead you to issues, though following an issue url will actually take you to a page. Pages have identifiers, and you can browse their contents in the Trove web interface, but they don't exist as separate entities in the API. These sorts of oddities mean that sometimes there's no direct route to the information that you want, but by thinking about what is connected to what, you can find alternative paths. For example, while there's no direct link between issues and articles, if you get the publication date and title from an issue, you can then search for articles published in that issue by using the `date` index and `title` facet.\n",
    "\n",
    "This section is organised by **articles**, **pages**, **issues**, and **titles**. For each entity, I've described a variety of methods to access metadata, text and images – some are straightforward, others are a bit hacky, but they work!\n",
    "\n",
    "<!---\n",
    "<mark>==Somewhere -- perhaps in the search section -- need to talk about things like editorial pages with long lists of short news items, often grouped as a single article. What are the implications of this for relevance, and reuse.==</mark>\n",
    "\n",
    "--->"
   ]
  },
  {
   "cell_type": "markdown",
   "id": "55837bf9-1b00-487d-8373-8f2f52a8be17",
   "metadata": {},
   "source": [
    "```{tableofcontents}\n",
    "```"
   ]
  }
 ],
 "metadata": {
  "jupytext": {
   "formats": "ipynb,md:myst"
  },
  "kernelspec": {
   "display_name": "Python 3 (ipykernel)",
   "language": "python",
   "name": "python3"
  },
  "language_info": {
   "codemirror_mode": {
    "name": "ipython",
    "version": 3
   },
   "file_extension": ".py",
   "mimetype": "text/x-python",
   "name": "python",
   "nbconvert_exporter": "python",
   "pygments_lexer": "ipython3",
   "version": "3.10.12"
  }
 },
 "nbformat": 4,
 "nbformat_minor": 5
}
