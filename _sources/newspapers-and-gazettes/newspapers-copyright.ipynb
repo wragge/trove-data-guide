{
 "cells": [
  {
   "cell_type": "markdown",
   "id": "0cc2a455-85e2-4335-8770-481cebb94564",
   "metadata": {},
   "source": [
    "# Newspapers and copyright"
   ]
  },
  {
   "cell_type": "markdown",
   "id": "16f8053b-4686-4b7e-a288-6c12b94fa6db",
   "metadata": {},
   "source": [
    "```{attention}\n",
    "This guide is currently under development. For more information and discussion see [the list of issues](https://github.com/wragge/trove-data-guide/issues) on GitHub. Comments are welcome.\n",
    "```"
   ]
  },
  {
   "cell_type": "markdown",
   "id": "971924a8-0841-4158-b7c6-f7d45b431a61",
   "metadata": {},
   "source": [
    "This section will examine both the impact of copyright restrictions on the construction of the Trove newspaper corpus, and the implications of copyright for researchers making use of digitised newspapers.\n",
    "\n",
    "See [Beyond the copyright cliff of death](https://glam-workbench.net/trove-newspapers/Beyond_the_copyright_cliff_of_death/) and [Trove newspapers with articles published after 1954](https://glam-workbench.net/trove-newspapers/csv-newspapers-post-54/)"
   ]
  },
  {
   "cell_type": "code",
   "execution_count": null,
   "id": "052476c3-0d39-4733-8935-560bd53a852d",
   "metadata": {},
   "outputs": [],
   "source": []
  }
 ],
 "metadata": {
  "kernelspec": {
   "display_name": "Python 3 (ipykernel)",
   "language": "python",
   "name": "python3"
  },
  "language_info": {
   "codemirror_mode": {
    "name": "ipython",
    "version": 3
   },
   "file_extension": ".py",
   "mimetype": "text/x-python",
   "name": "python",
   "nbconvert_exporter": "python",
   "pygments_lexer": "ipython3",
   "version": "3.8.12"
  }
 },
 "nbformat": 4,
 "nbformat_minor": 5
}
