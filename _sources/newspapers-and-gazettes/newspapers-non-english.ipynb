{
 "cells": [
  {
   "cell_type": "markdown",
   "id": "0c837bad-7018-49f9-a3c3-441a16e2af15",
   "metadata": {},
   "source": [
    "# Non-English language newspapers"
   ]
  },
  {
   "cell_type": "markdown",
   "id": "0e7771f6-a4ac-411a-af0f-9f62617768e4",
   "metadata": {},
   "source": [
    "```{attention}\n",
    "This guide is currently under development. For more information and discussion see [the list of issues](https://github.com/wragge/trove-data-guide/issues) on GitHub. Comments are welcome.\n",
    "```"
   ]
  },
  {
   "cell_type": "markdown",
   "id": "eef76137-44ba-497e-b421-094d24af8128",
   "metadata": {},
   "source": [
    "See [Finding non-English newspapers in Trove](https://glam-workbench.net/trove-newspapers/find-non-english-newspapers/) in the GLAM Workbench and the [list of non-English language newspapers](https://glam-workbench.net/trove-newspapers/list-non-english-newspapers/).\n",
    "\n",
    "Discuss implications for search and OCR correction."
   ]
  }
 ],
 "metadata": {
  "kernelspec": {
   "display_name": "Python 3 (ipykernel)",
   "language": "python",
   "name": "python3"
  },
  "language_info": {
   "codemirror_mode": {
    "name": "ipython",
    "version": 3
   },
   "file_extension": ".py",
   "mimetype": "text/x-python",
   "name": "python",
   "nbconvert_exporter": "python",
   "pygments_lexer": "ipython3",
   "version": "3.8.12"
  }
 },
 "nbformat": 4,
 "nbformat_minor": 5
}
