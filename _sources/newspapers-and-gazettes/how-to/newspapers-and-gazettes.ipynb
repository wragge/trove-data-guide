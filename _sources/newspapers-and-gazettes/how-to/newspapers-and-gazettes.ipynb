{
 "cells": [
  {
   "cell_type": "markdown",
   "id": "bd9866d4-aa32-4480-a90a-08389754ce2d",
   "metadata": {},
   "source": [
    "# Newspaper and gazettes how to..."
   ]
  },
  {
   "cell_type": "markdown",
   "id": "efd81624-5fa9-432a-ab54-7b15e8dde666",
   "metadata": {},
   "source": [
    "```{attention}\n",
    "This guide is currently under development. For more information and discussion see [the list of issues](https://github.com/wragge/trove-data-guide/issues) on GitHub. Comments are welcome.\n",
    "```\n",
    "\n",
    "```{tableofcontents}\n",
    "```"
   ]
  }
 ],
 "metadata": {
  "kernelspec": {
   "display_name": "Python 3 (ipykernel)",
   "language": "python",
   "name": "python3"
  },
  "language_info": {
   "codemirror_mode": {
    "name": "ipython",
    "version": 3
   },
   "file_extension": ".py",
   "mimetype": "text/x-python",
   "name": "python",
   "nbconvert_exporter": "python",
   "pygments_lexer": "ipython3",
   "version": "3.8.12"
  }
 },
 "nbformat": 4,
 "nbformat_minor": 5
}
