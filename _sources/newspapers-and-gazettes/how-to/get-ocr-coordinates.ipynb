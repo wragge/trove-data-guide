{
 "cells": [
  {
   "cell_type": "markdown",
   "id": "1fcb8374-dea7-4cc8-a34d-647510c35a2e",
   "metadata": {},
   "source": [
    "# HOW TO: Get information about the position of OCRd newspaper text"
   ]
  },
  {
   "cell_type": "markdown",
   "id": "22adac15-6d42-4fda-8a0f-7196f1e0e3c0",
   "metadata": {},
   "source": [
    "```{attention}\n",
    "This guide is currently under development. For more information and discussion see [the list of issues](https://github.com/wragge/trove-data-guide/issues) on GitHub. Comments are welcome.\n",
    "```"
   ]
  },
  {
   "cell_type": "markdown",
   "id": "754e7f97-7463-4c33-8f89-658b0d2cc861",
   "metadata": {
    "editable": true,
    "slideshow": {
     "slide_type": ""
    },
    "tags": []
   },
   "source": [
    "The OCR process not only extracts text from an image, it generates coordinates that document the position of each piece of text within the parent image. You could use this information to crop an image of the OCRd text out of the parent image. In the case of digitised newspapers, this sort of positional information could help you explore the layout and contents of newspaper pages and how this changes over time.\n",
    "\n",
    "No positional information is available from the Trove API, however, there is some embedded within the web site. If you view the source of a newspaper article's web page, you'll find a number of `<input>` tags like this:\n",
    "\n",
    "```html\n",
    "<input id=\"l1.0.0\" class=\"edit\" type=\"text\" aria-label=\"Line 1.0.0\" data-x=\"2905\" data-y=\"573\" data-w=\"844\" data-h=\"43\" value=\"Mr. Wragge is going to issue a &quot;Wragge.&quot;\" />\n",
    "```\n",
    "\n",
    "The `value` attribute of the tag includes the text of a single line. The `data` attributes provide the positional coordinates of that line:\n",
    "\n",
    "- `data-x`: horizontal offset of the top left corner of a box surrounding the line (in pixels)\n",
    "- `data-y`: vertical offset of the top left corner of a box surrounding the line (in pixels)\n",
    "- `data-w`: the width of a box surrounding the line (in pixels)\n",
    "- `data-h`: the height of a box surrounding the line (in pixels)\n",
    "\n",
    "Individual lines are aggregated into blocks of content labelled as `zones` within the HTML. The position of each zone is also recorded:\n",
    "\n",
    "```html\n",
    "<div class=\"zone onPage readMode\" data-page-id=\"5417618\" data-x=\"2889\" data-y=\"487\" data-w=\"862\" data-h=\"89\" data-rotation=\"-1\" style=\"display: none;\">\n",
    "```\n",
    "\n",
    "Zones can also contain illustrations:\n",
    "\n",
    "```html\n",
    "<div class=\"illustration help-region onPage\" data-x=\"4455\" data-y=\"677\" data-w=\"706\" data-h=\"1031\" data-caption=\"none\" data-type=\"Cartoon\" data-id=\"8281319\" data-part=\"134576145\" >\n",
    "```\n",
    "\n",
    "```{note}\n",
    "The pixel values are absolute, so they relate to a page image at a specific resolution. This resolution is the highest available from the Trove web interface, with a zoom level of `7`. See below for [information on saving page images](download-a-page-image).\n",
    "```\n",
    "\n",
    "````{margin}\n",
    "```{seealso}\n",
    "For a full working example of this, see the GLAM Workbench notebook [Get the page coordinates of a digitised newspaper article from Trove](https://glam-workbench.net/trove-newspapers/#get-the-page-coordinates-of-a-digitised-newspaper-article-from-trove)\n",
    "```\n",
    "````\n",
    "\n",
    "To get the coordinates of a box containing an entire article, you can add up the boxes for each zone. For example, assuming you have the zones in a list you could try:\n",
    "\n",
    "```python\n",
    "left = 10000\n",
    "right = 0\n",
    "top = 10000\n",
    "bottom = 0\n",
    "for zone in zones:\n",
    "    if int(zone[\"data-y\"]) < top:\n",
    "        top = int(zone[\"data-y\"])\n",
    "    if int(zone[\"data-x\"]) < left:\n",
    "        left = int(zone[\"data-x\"])\n",
    "    if (int(zone[\"data-x\"]) + int(zone[\"data-w\"])) > right:\n",
    "        right = int(zone[\"data-x\"]) + int(zone[\"data-w\"])\n",
    "    if (int(zone[\"data-y\"]) + int(zone[\"data-h\"])) > bottom:\n",
    "        bottom = int(zone[\"data-y\"]) + int(zone[\"data-h\"])\n",
    "```\n",
    "\n",
    "We can use this information to extract the image of an individual article or illustration from a page image. See below for details.\n",
    "\n",
    "With an extra little trick you can even get the coordinates of an individual word. This information is not ordinarily contained within the HTML, *but* if you search for a particular word, that word is wrapped in a `<span>` tag that applies highlighting and includes the page coordinates. Here's a line of text with a highlighted word:\n",
    "\n",
    "```html\n",
    "<div class=\"read\"><span class=\"highlightedTerm\" data-x=\"4458\" data-y=\"1949\" data-w=\"129\" data-h=\"32\">Wragge,</span> the Government Meteorologist of</div>\n",
    "```\n",
    "\n",
    "You can see that the `<span>` element includes the same set of `data` attributes as before, defining a box around the highlighted word.\n",
    "\n",
    "In theory, you could write some code that gets the positions of every word in an article by looping through the words, adding each one to the page url's `searchTerm` parameter so that it's highlighted, then grabbing the coordinates from the `<span>`. It would be rather inefficient though.\n",
    "\n",
    "You can use this information to save images of individual words."
   ]
  },
  {
   "cell_type": "code",
   "execution_count": null,
   "id": "ddbafcc1-1041-43fd-a9ca-1e1fb5f5fc41",
   "metadata": {},
   "outputs": [],
   "source": []
  }
 ],
 "metadata": {
  "kernelspec": {
   "display_name": "Python 3 (ipykernel)",
   "language": "python",
   "name": "python3"
  },
  "language_info": {
   "codemirror_mode": {
    "name": "ipython",
    "version": 3
   },
   "file_extension": ".py",
   "mimetype": "text/x-python",
   "name": "python",
   "nbconvert_exporter": "python",
   "pygments_lexer": "ipython3",
   "version": "3.8.12"
  }
 },
 "nbformat": 4,
 "nbformat_minor": 5
}
