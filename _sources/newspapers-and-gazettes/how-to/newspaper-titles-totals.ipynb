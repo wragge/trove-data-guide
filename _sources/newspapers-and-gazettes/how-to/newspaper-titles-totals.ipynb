{
 "cells": [
  {
   "cell_type": "markdown",
   "id": "cc8d3998-9070-452e-8b56-310bd6766dbd",
   "metadata": {
    "editable": true,
    "slideshow": {
     "slide_type": ""
    },
    "tags": []
   },
   "source": [
    "# Find the number of newspapers"
   ]
  },
  {
   "cell_type": "code",
   "execution_count": 7,
   "id": "9962c4ac-93fa-40c0-8343-06ece0df5aad",
   "metadata": {
    "editable": true,
    "slideshow": {
     "slide_type": ""
    },
    "tags": []
   },
   "outputs": [],
   "source": [
    "import requests\n",
    "from dotenv import load_dotenv\n",
    "import os\n",
    "import pandas as pd\n",
    "load_dotenv()\n",
    "YOUR_API_KEY = os.getenv(\"TROVE_API_KEY\")"
   ]
  },
  {
   "cell_type": "code",
   "execution_count": 11,
   "id": "194c647f-218f-4705-9eb1-42bc957a8800",
   "metadata": {},
   "outputs": [
    {
     "data": {
      "text/plain": [
       "{'id': '166',\n",
       " 'title': 'Canberra Community News (ACT : 1925 - 1927)',\n",
       " 'state': 'ACT',\n",
       " 'issn': '18388671',\n",
       " 'troveUrl': 'https://nla.gov.au/nla.news-title166',\n",
       " 'startDate': '1925-10-14',\n",
       " 'endDate': '1927-12-16'}"
      ]
     },
     "execution_count": 11,
     "metadata": {},
     "output_type": "execute_result"
    }
   ],
   "source": [
    "import requests\n",
    "\n",
    "params = {\"encoding\": \"json\"}\n",
    "headers = {\"X-API-KEY\": YOUR_API_KEY}\n",
    "\n",
    "response = requests.get(\"https://api.trove.nla.gov.au/v3/newspaper/titles\", params=params, headers=headers)\n",
    "newspapers = response.json()\n",
    "\n",
    "# Display the first title in the list\n",
    "newspapers[\"newspaper\"][0]"
   ]
  },
  {
   "cell_type": "code",
   "execution_count": 12,
   "id": "b2c6358d-1c1f-4fee-bad3-4f5c5be51ef2",
   "metadata": {},
   "outputs": [
    {
     "data": {
      "text/plain": [
       "{'id': '1571',\n",
       " 'title': 'Administration Order (Nauru : 1921 - 1926)',\n",
       " 'state': 'International',\n",
       " 'issn': 'NDP00071',\n",
       " 'troveUrl': 'https://nla.gov.au/nla.news-title1571',\n",
       " 'startDate': '1924-05-03',\n",
       " 'endDate': '1924-05-31'}"
      ]
     },
     "execution_count": 12,
     "metadata": {},
     "output_type": "execute_result"
    }
   ],
   "source": [
    "response = requests.get(\"https://api.trove.nla.gov.au/v3/gazette/titles\", params=params, headers=headers)\n",
    "gazettes = response.json()\n",
    "\n",
    "# Display the first title in the list\n",
    "gazettes[\"newspaper\"][0]"
   ]
  },
  {
   "cell_type": "code",
   "execution_count": 20,
   "id": "5c2ae0d7-2e8b-4fe7-a264-025bca8a2cf5",
   "metadata": {},
   "outputs": [
    {
     "name": "stdout",
     "output_type": "stream",
     "text": [
      "There seem to be 1,805 newspapers and 38 gazettes.\n",
      "But there are actually 1,767 newspapers and 38 gazettes.\n"
     ]
    }
   ],
   "source": [
    "newspapers_df = pd.DataFrame(newspapers[\"newspaper\"])\n",
    "gazettes_df = pd.DataFrame(gazettes[\"newspaper\"])\n",
    "\n",
    "print(f\"There seem to be {newspapers_df.shape[0]:,} newspapers and {gazettes_df.shape[0]} gazettes.\")\n",
    "\n",
    "# Filter the newspapers by excluding titles with an id in the gazettes list\n",
    "newspapers_not_gazettes_df = newspapers_df[~newspapers_df[\"id\"].isin(gazettes_df[\"id\"])]\n",
    "\n",
    "print(f\"But there are actually {newspapers_not_gazettes_df.shape[0]:,} newspapers and {gazettes_df.shape[0]} gazettes.\")"
   ]
  }
 ],
 "metadata": {
  "kernelspec": {
   "display_name": "Python 3 (ipykernel)",
   "language": "python",
   "name": "python3"
  },
  "language_info": {
   "codemirror_mode": {
    "name": "ipython",
    "version": 3
   },
   "file_extension": ".py",
   "mimetype": "text/x-python",
   "name": "python",
   "nbconvert_exporter": "python",
   "pygments_lexer": "ipython3",
   "version": "3.8.12"
  }
 },
 "nbformat": 4,
 "nbformat_minor": 5
}
