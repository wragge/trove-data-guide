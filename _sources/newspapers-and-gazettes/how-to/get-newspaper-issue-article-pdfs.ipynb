{
 "cells": [
  {
   "cell_type": "markdown",
   "id": "7e589ec6-42c2-4c7a-9707-dd2010c51a98",
   "metadata": {
    "editable": true,
    "slideshow": {
     "slide_type": ""
    },
    "tags": []
   },
   "source": [
    "# HOW TO: Get a newspaper issue or article as a PDF\n",
    "\n",
    "You can download PDFs of newspaper and gazette articles, pages, and issues from Trove's web interface – it's just a matter of clicking a button. But downloading PDFs using computational methods is not so straightforward. When you click on the buttons in the web interface, you don't download the PDF from a fixed url. There's a bit of Javascript code behind the button that asks for for the PDF to be compiled, then alerts the user when it's ready. To automate the download process, you need to reproduce these steps in your code. This how-to provides an example of how this can be done using Python."
   ]
  },
  {
   "cell_type": "markdown",
   "id": "0ba446b9-cd02-41d7-9e6f-958b21f8e186",
   "metadata": {
    "editable": true,
    "slideshow": {
     "slide_type": ""
    },
    "tags": []
   },
   "source": [
    "```{admonition} But what about pages?\n",
    ":class: note\n",
    "Newspaper and gazette *pages* are treated slightly differently to articles and issues. If you know the page identifier, you can construct a url that will download that page as a PDF without any waiting!\n",
    "```"
   ]
  },
  {
   "cell_type": "code",
   "execution_count": null,
   "id": "c11c3333-da08-4e96-9731-fc4e63d947e4",
   "metadata": {},
   "outputs": [],
   "source": [
    "import time\n",
    "from pathlib import Path\n",
    "\n",
    "import requests\n",
    "from requests.exceptions import HTTPError"
   ]
  },
  {
   "cell_type": "code",
   "execution_count": 14,
   "id": "7f210213-874b-41bc-8c9a-14672dd522f5",
   "metadata": {},
   "outputs": [],
   "source": [
    "def ping_pdf(ping_url):\n",
    "    \"\"\"\n",
    "    Check to see if a PDF is ready for download.\n",
    "    If a 200 status code is received, return True.\n",
    "    \"\"\"\n",
    "    ready = False\n",
    "    try:\n",
    "        response = requests.get(ping_url, timeout=30)\n",
    "        response.raise_for_status()\n",
    "    except HTTPError:\n",
    "        if response.status_code == 423:\n",
    "            ready = False\n",
    "        else:\n",
    "            raise\n",
    "    else:\n",
    "        ready = True\n",
    "    return ready\n",
    "\n",
    "\n",
    "def get_pdf_url(id, pdf_type, zoom=4):\n",
    "    \"\"\"\n",
    "    Download the PDF version of an issue.\n",
    "    These can take a while to generate, so we need to ping the server to see if it's ready before we download.\n",
    "    \"\"\"\n",
    "    pdf_url = None\n",
    "\n",
    "    base_url = f\"https://trove.nla.gov.au/newspaper/rendition/nla.news-{pdf_type}{id}\"\n",
    "\n",
    "    if pdf_type == \"article\":\n",
    "        prep_url = f\"{base_url}/level/{zoom}/prep\"\n",
    "        base_url += f\".{zoom}\"\n",
    "    else:\n",
    "        prep_url = f\"{base_url}/prep\"\n",
    "\n",
    "    # Ask for the PDF to be created, this returns a plain text hash that we use in later requests\n",
    "    response = requests.get(prep_url)\n",
    "\n",
    "    # Get the hash\n",
    "    prep_id = response.text\n",
    "\n",
    "    # Url to check if the PDF is ready\n",
    "    ping_url = f\"{base_url}.ping?followup={prep_id}\"\n",
    "    tries = 0\n",
    "    ready = False\n",
    "\n",
    "    # Give some time to generate pdf\n",
    "    time.sleep(2)\n",
    "\n",
    "    # Are you ready yet?\n",
    "    while ready is False and tries < 5:\n",
    "        ready = ping_pdf(ping_url)\n",
    "        if not ready:\n",
    "            tries += 1\n",
    "            time.sleep(2)\n",
    "\n",
    "            # Download if ready\n",
    "    if ready:\n",
    "        pdf_url = f\"{base_url}.pdf?followup={prep_id}\"\n",
    "    return pdf_url"
   ]
  },
  {
   "cell_type": "markdown",
   "id": "e32d8f04-38e3-4da7-8685-793c78d78e9b",
   "metadata": {},
   "source": [
    "## Get a PDF of an issue"
   ]
  },
  {
   "cell_type": "code",
   "execution_count": 6,
   "id": "5e981017-90d8-475a-a769-749cc0eddb3c",
   "metadata": {},
   "outputs": [
    {
     "data": {
      "text/plain": [
       "9258851"
      ]
     },
     "execution_count": 6,
     "metadata": {},
     "output_type": "execute_result"
    }
   ],
   "source": [
    "# Set issue id -- in practice, this would probably be in a loop, accessing a list of issues\n",
    "issue_id = \"424530\"\n",
    "\n",
    "# Get the PDF url\n",
    "pdf_url = get_pdf_url(issue_id, \"issue\")\n",
    "\n",
    "# Download and save the PDF\n",
    "response = requests.get(pdf_url)\n",
    "Path(f\"issue-{issue_id}.pdf\").write_bytes(response.content)"
   ]
  },
  {
   "cell_type": "markdown",
   "id": "43061af7-6a52-4f06-8fba-f3731b0b3717",
   "metadata": {},
   "source": [
    "## Get a PDF of an article"
   ]
  },
  {
   "cell_type": "code",
   "execution_count": 15,
   "id": "84420ea2-25d9-4110-b91e-670a41c5ab6f",
   "metadata": {},
   "outputs": [
    {
     "name": "stdout",
     "output_type": "stream",
     "text": [
      "7f4e2fd0902e83aa398e3dc2ac3bb055\n"
     ]
    },
    {
     "data": {
      "text/plain": [
       "230961"
      ]
     },
     "execution_count": 15,
     "metadata": {},
     "output_type": "execute_result"
    }
   ],
   "source": [
    "# Set article id -- in practice, this would probably be in a loop, accessing a list of articles\n",
    "article_id = \"61389505\"\n",
    "\n",
    "# Get the PDF url\n",
    "pdf_url = get_pdf_url(article_id, \"article\")\n",
    "\n",
    "# Download and save the PDF\n",
    "response = requests.get(pdf_url)\n",
    "Path(f\"article-{article_id}.pdf\").write_bytes(response.content)"
   ]
  }
 ],
 "metadata": {
  "kernelspec": {
   "display_name": "Python 3 (ipykernel)",
   "language": "python",
   "name": "python3"
  },
  "language_info": {
   "codemirror_mode": {
    "name": "ipython",
    "version": 3
   },
   "file_extension": ".py",
   "mimetype": "text/x-python",
   "name": "python",
   "nbconvert_exporter": "python",
   "pygments_lexer": "ipython3",
   "version": "3.8.12"
  }
 },
 "nbformat": 4,
 "nbformat_minor": 5
}
