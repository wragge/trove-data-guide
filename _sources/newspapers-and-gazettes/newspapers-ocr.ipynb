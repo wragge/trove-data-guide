{
 "cells": [
  {
   "cell_type": "markdown",
   "id": "daace7f5-abad-4c2f-a8db-4e3c67ce8322",
   "metadata": {},
   "source": [
    "# OCR quality and correction"
   ]
  },
  {
   "cell_type": "markdown",
   "id": "895a128c-53c7-4858-a19d-0df2291b2edf",
   "metadata": {},
   "source": [
    "```{attention}\n",
    "This guide is currently under development. For more information and discussion see [the list of issues](https://github.com/wragge/trove-data-guide/issues) on GitHub. Comments are welcome.\n",
    "```"
   ]
  },
  {
   "cell_type": "markdown",
   "id": "df6b8faf-9931-453a-ab83-89e15c0ceeea",
   "metadata": {},
   "source": [
    "This section will examine how the quality of OCR varies across the corpus and the significance of this for research uses. It will also look at patterns in OCR correction – what gets corrected and why.\n",
    "\n",
    "See: [Analyse rates of OCR correction](https://glam-workbench.net/trove-newspapers/Analysing_OCR_corrections/)"
   ]
  },
  {
   "cell_type": "markdown",
   "id": "cdc1fd86-c4b3-43e4-8be5-879917fda982",
   "metadata": {},
   "source": [
    "Bad image example: https://trove.nla.gov.au/newspaper/article/98069317"
   ]
  }
 ],
 "metadata": {
  "kernelspec": {
   "display_name": "Python 3 (ipykernel)",
   "language": "python",
   "name": "python3"
  },
  "language_info": {
   "codemirror_mode": {
    "name": "ipython",
    "version": 3
   },
   "file_extension": ".py",
   "mimetype": "text/x-python",
   "name": "python",
   "nbconvert_exporter": "python",
   "pygments_lexer": "ipython3",
   "version": "3.8.12"
  }
 },
 "nbformat": 4,
 "nbformat_minor": 5
}
