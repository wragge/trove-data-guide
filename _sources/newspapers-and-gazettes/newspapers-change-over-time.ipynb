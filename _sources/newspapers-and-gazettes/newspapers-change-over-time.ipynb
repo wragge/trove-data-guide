{
 "cells": [
  {
   "cell_type": "markdown",
   "id": "5c15ddc2-662b-4b01-a903-64efac1ff30e",
   "metadata": {},
   "source": [
    "# How does the contents of the newspaper corpus change over time?"
   ]
  },
  {
   "cell_type": "markdown",
   "id": "66cb2b3b-8a8b-4b0c-b68b-fbd52d0285d6",
   "metadata": {},
   "source": [
    "```{attention}\n",
    "This guide is currently under development. For more information and discussion see [the list of issues](https://github.com/wragge/trove-data-guide/issues) on GitHub. Comments are welcome.\n",
    "```"
   ]
  },
  {
   "cell_type": "markdown",
   "id": "b3c23a01-9d78-48a2-8c76-b04b568db0c5",
   "metadata": {
    "editable": true,
    "slideshow": {
     "slide_type": ""
    },
    "tags": []
   },
   "source": [
    "This section will examine how the contents of the newspaper corpus changes over time and the implications of this for researchers. This includes topics like:\n",
    "\n",
    "- digitisation policies and priorities\n",
    "- the WWI effect\n",
    "- the copyright cliff of death\n",
    "\n",
    "Sources of data include:\n",
    "\n",
    "- [Trove Newspaper Data Dashboard](https://wragge.github.io/trove-newspaper-totals/) and the [weekly harvests](https://github.com/wragge/trove-newspaper-totals) on which it is based\n",
    "- [trove-newspaper-totals-historical](https://github.com/wragge/trove-newspaper-totals-historical) (assorted harvests from 2011 to 2022)\n",
    "- [Gathering historical data about the addition of newspaper titles to Trove](https://glam-workbench.net/trove-newspapers/historical-data-newspaper-titles/) – info on when titles were added to Trove scraped from web archives, see related datasets\n",
    "\n",
    "See also [Visualise the total number of newspaper articles in Trove by year and state](https://glam-workbench.net/trove-newspapers/visualise-total-newspaper-articles-by-state-year/)."
   ]
  },
  {
   "cell_type": "code",
   "execution_count": null,
   "id": "15613eef-e77d-4c34-be42-a9d123d8ea61",
   "metadata": {},
   "outputs": [],
   "source": []
  }
 ],
 "metadata": {
  "kernelspec": {
   "display_name": "Python 3 (ipykernel)",
   "language": "python",
   "name": "python3"
  },
  "language_info": {
   "codemirror_mode": {
    "name": "ipython",
    "version": 3
   },
   "file_extension": ".py",
   "mimetype": "text/x-python",
   "name": "python",
   "nbconvert_exporter": "python",
   "pygments_lexer": "ipython3",
   "version": "3.8.12"
  }
 },
 "nbformat": 4,
 "nbformat_minor": 5
}
