{
 "cells": [
  {
   "cell_type": "markdown",
   "id": "cf82d50c-496a-4973-bd93-2266c328f149",
   "metadata": {
    "editable": true,
    "slideshow": {
     "slide_type": ""
    },
    "tags": []
   },
   "source": [
    "# Missing newspaper pages and issues"
   ]
  },
  {
   "cell_type": "markdown",
   "id": "05610035-4c78-4610-ac1c-233186b04c02",
   "metadata": {
    "editable": true,
    "slideshow": {
     "slide_type": ""
    },
    "tags": []
   },
   "source": [
    "```{attention}\n",
    "This guide is currently under development. For more information and discussion see [the list of issues](https://github.com/wragge/trove-data-guide/issues) on GitHub. Comments are welcome.\n",
    "```"
   ]
  },
  {
   "cell_type": "markdown",
   "id": "f6e78cd7-57a7-47dc-88de-992af0054c93",
   "metadata": {},
   "source": [
    "This section will attempt some analysis of missing pages and issues in Trove's newspapers. As of 11 August 2023, I'm running a very long harvest of essentially every article in Trove to try and get an idea of what's missing. This will never be precise, but it should at least provide a baseline and point to specific titles and periods that seem to be more affected.\n",
    "\n",
    "Here's a [quick example using the Canberra Times](https://hcommons.social/@wragge/110845292959103039)."
   ]
  },
  {
   "cell_type": "markdown",
   "id": "0a7701d7-0881-4d91-9efc-96b21efb323d",
   "metadata": {},
   "source": [
    "Here's an issue that seems to have a lot of missing pages, but is actually out of order: <https://nla.gov.au/nla.news-issue2584973>"
   ]
  },
  {
   "cell_type": "markdown",
   "id": "9a4bfcef-f48f-4d4e-85ce-faa49ba5de38",
   "metadata": {},
   "source": [
    "WA Record, has pages 2 & 3 missing from most issues from 1897 to 1915 (plus others). 5.5% of pages missing. eg <https://trove.nla.gov.au/newspaper/page/22979867>\n",
    "\n",
    "Similarly The Clipper (Tas), 2 & 3 missing from most issues between 1906 and 1909. <https://trove.nla.gov.au/newspaper/page/8820909>\n",
    "\n",
    "King Island News, p5 missing from 1920s-40s <https://trove.nla.gov.au/newspaper/page/29646613>\n",
    "\n",
    "North Queensland Register, blocks of pages missing from multiple issues, 27% of issues have pages missing\n",
    "\n",
    "Queensland Times has significant damage to original -- missing pages and bad ocr etc will result. eg: https://trove.nla.gov.au/newspaper/page/13410451\n",
    "\n",
    "The Critic, Blocks of pages missing regularly, particularly in the 1920s eg: https://trove.nla.gov.au/newspaper/page/23607088\n",
    "\n",
    "\"809\", # Age, some recurring patterns of missing pages\n",
    "\n",
    "\"12\", # Courier Mail -- 2 pages missing on Fridays from 1951-55, not many missing elsewhere -- good example of unevenness, 100 pages missing each from 1952-3\n",
    "\n",
    "Huon Times 667, 3.7% pages missing, pages 3-4 missing in stretches 1914-1917, 1923/4."
   ]
  }
 ],
 "metadata": {
  "kernelspec": {
   "display_name": "Python 3 (ipykernel)",
   "language": "python",
   "name": "python3"
  },
  "language_info": {
   "codemirror_mode": {
    "name": "ipython",
    "version": 3
   },
   "file_extension": ".py",
   "mimetype": "text/x-python",
   "name": "python",
   "nbconvert_exporter": "python",
   "pygments_lexer": "ipython3",
   "version": "3.8.12"
  }
 },
 "nbformat": 4,
 "nbformat_minor": 5
}
