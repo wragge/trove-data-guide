{
 "cells": [
  {
   "cell_type": "markdown",
   "id": "f5179ded-0dd7-4548-9344-85b6da68d5b0",
   "metadata": {
    "editable": true,
    "slideshow": {
     "slide_type": ""
    },
    "tags": []
   },
   "source": [
    "# Date searches"
   ]
  },
  {
   "cell_type": "markdown",
   "id": "5e82ea25-fd0e-46e5-beae-d113d140697f",
   "metadata": {
    "editable": true,
    "slideshow": {
     "slide_type": ""
    },
    "tags": []
   },
   "source": [
    "````{card} On this page\n",
    "Learn how to search for resources within a particular date range.\n",
    "\n",
    "```{contents}\n",
    ":local:\n",
    "```\n",
    "````"
   ]
  },
  {
   "cell_type": "code",
   "execution_count": 2,
   "id": "6319fb1a-4751-4306-a8b1-466982e54460",
   "metadata": {
    "editable": true,
    "slideshow": {
     "slide_type": ""
    },
    "tags": [
     "remove-cell"
    ]
   },
   "outputs": [],
   "source": [
    "import datetime\n",
    "import os\n",
    "\n",
    "import altair as alt\n",
    "import pandas as pd\n",
    "import requests\n",
    "from dotenv import load_dotenv\n",
    "from IPython.display import HTML, JSON\n",
    "from myst_nb import glue\n",
    "\n",
    "load_dotenv()\n",
    "YOUR_API_KEY = os.getenv(\"TROVE_API_KEY\")"
   ]
  },
  {
   "cell_type": "markdown",
   "id": "5214ce19-f007-4c57-b19d-1ead1823d907",
   "metadata": {},
   "source": [
    "You can limit your Trove searches by date in a number of ways. These options vary across categories and can cause confusion. This section will attempt to document the possibilities and problems."
   ]
  },
  {
   "cell_type": "markdown",
   "id": "b5faaf91-d30d-4af3-ab3b-d42e94061b6b",
   "metadata": {
    "editable": true,
    "slideshow": {
     "slide_type": ""
    },
    "tags": []
   },
   "source": [
    "## Accuracy and consistency of metadata\n",
    "\n",
    "<!---\n",
    "<mark>==I suspect this section might get moved to the contexts section later on. Also need to note that the facets in the book zone don't display dates past today, even though they are there. I think this is an attempt to clean up the interface, but just hides the problem rather than fixing it.==</mark>\n",
    "--->\n",
    "\n",
    "Trove's aggregated metadata can include errors, either because of data entry problems or formatting inconsistencies. Problems with dates can seem more obvious than other types of metadata because we expect them to fall within a specific range – it's unlikely Australian libraries will hold books from the year 9000! You can use the `decade` facet to reveal some of these problems.\n",
    "\n",
    "Here, for example, is the distribution by decade of works in the 'Research & reports' category. Most publications are dated between 1800 and 2100, as you would expect, but there are more than a hundred in the first century, and even an outlier in the 9000s.\n",
    "\n",
    "<!---\n",
    "<mark>==Explain dates in people category==</mark>\n",
    "--->"
   ]
  },
  {
   "cell_type": "code",
   "execution_count": 73,
   "id": "31212f61-32ef-4f8d-84a2-6e4e818ac578",
   "metadata": {
    "editable": true,
    "slideshow": {
     "slide_type": ""
    },
    "tags": [
     "remove-cell"
    ]
   },
   "outputs": [],
   "source": [
    "params = {\n",
    "    \"category\": \"research\",\n",
    "    \"facet\": \"decade\",\n",
    "    \"encoding\": \"json\",\n",
    "}\n",
    "\n",
    "# Supply API key using headers\n",
    "headers = {\"X-API-KEY\": YOUR_API_KEY}\n",
    "\n",
    "response = requests.get(\n",
    "    \"https://api.trove.nla.gov.au/v3/result\", params=params, headers=headers\n",
    ")\n",
    "\n",
    "data = response.json()\n",
    "\n",
    "# Perhaps the trickiest thing is actually getting to where the facet terms are\n",
    "facets = data[\"category\"][0][\"facets\"][\"facet\"][0][\"term\"]\n",
    "\n",
    "# Get the facet label and count from each facet\n",
    "research_facet_counts = [{\"decade\": int(f[\"search\"]) * 10, \"total_works\": f[\"count\"]} for f in facets]"
   ]
  },
  {
   "cell_type": "code",
   "execution_count": 74,
   "id": "5fb16e69-8b5f-47ff-8b90-db6c7b5506a9",
   "metadata": {
    "editable": true,
    "slideshow": {
     "slide_type": ""
    },
    "tags": [
     "remove-cell"
    ]
   },
   "outputs": [
    {
     "data": {
      "application/papermill.record/text/html": "\n<style>\n  #altair-viz-658bd2ac79f54e14836cc7460e2131f2.vega-embed {\n    width: 100%;\n    display: flex;\n  }\n\n  #altair-viz-658bd2ac79f54e14836cc7460e2131f2.vega-embed details,\n  #altair-viz-658bd2ac79f54e14836cc7460e2131f2.vega-embed details summary {\n    position: relative;\n  }\n</style>\n<div id=\"altair-viz-658bd2ac79f54e14836cc7460e2131f2\"></div>\n<script type=\"text/javascript\">\n  var VEGA_DEBUG = (typeof VEGA_DEBUG == \"undefined\") ? {} : VEGA_DEBUG;\n  (function(spec, embedOpt){\n    let outputDiv = document.currentScript.previousElementSibling;\n    if (outputDiv.id !== \"altair-viz-658bd2ac79f54e14836cc7460e2131f2\") {\n      outputDiv = document.getElementById(\"altair-viz-658bd2ac79f54e14836cc7460e2131f2\");\n    }\n    const paths = {\n      \"vega\": \"https://cdn.jsdelivr.net/npm/vega@5?noext\",\n      \"vega-lib\": \"https://cdn.jsdelivr.net/npm/vega-lib?noext\",\n      \"vega-lite\": \"https://cdn.jsdelivr.net/npm/vega-lite@5.8.0?noext\",\n      \"vega-embed\": \"https://cdn.jsdelivr.net/npm/vega-embed@6?noext\",\n    };\n\n    function maybeLoadScript(lib, version) {\n      var key = `${lib.replace(\"-\", \"\")}_version`;\n      return (VEGA_DEBUG[key] == version) ?\n        Promise.resolve(paths[lib]) :\n        new Promise(function(resolve, reject) {\n          var s = document.createElement('script');\n          document.getElementsByTagName(\"head\")[0].appendChild(s);\n          s.async = true;\n          s.onload = () => {\n            VEGA_DEBUG[key] = version;\n            return resolve(paths[lib]);\n          };\n          s.onerror = () => reject(`Error loading script: ${paths[lib]}`);\n          s.src = paths[lib];\n        });\n    }\n\n    function showError(err) {\n      outputDiv.innerHTML = `<div class=\"error\" style=\"color:red;\">${err}</div>`;\n      throw err;\n    }\n\n    function displayChart(vegaEmbed) {\n      vegaEmbed(outputDiv, spec, embedOpt)\n        .catch(err => showError(`Javascript Error: ${err.message}<br>This usually means there's a typo in your chart specification. See the javascript console for the full traceback.`));\n    }\n\n    if(typeof define === \"function\" && define.amd) {\n      requirejs.config({paths});\n      require([\"vega-embed\"], displayChart, err => showError(`Error loading script: ${err.message}`));\n    } else {\n      maybeLoadScript(\"vega\", \"5\")\n        .then(() => maybeLoadScript(\"vega-lite\", \"5.8.0\"))\n        .then(() => maybeLoadScript(\"vega-embed\", \"6\"))\n        .catch(showError)\n        .then(() => displayChart(vegaEmbed));\n    }\n  })({\"config\": {\"view\": {\"continuousWidth\": 300, \"continuousHeight\": 300}}, \"data\": {\"name\": \"data-dbc4a90edb995aadb6ea1a4e6279c6ec\"}, \"mark\": {\"type\": \"bar\"}, \"encoding\": {\"x\": {\"bin\": {\"step\": 100}, \"field\": \"decade\", \"title\": \"decade (binned by century)\", \"type\": \"quantitative\"}, \"y\": {\"field\": \"total_works\", \"scale\": {\"type\": \"log\"}, \"title\": \"number of works (log scale)\", \"type\": \"quantitative\"}}, \"height\": 250, \"width\": 500, \"$schema\": \"https://vega.github.io/schema/vega-lite/v5.8.0.json\", \"datasets\": {\"data-dbc4a90edb995aadb6ea1a4e6279c6ec\": [{\"decade\": 9970, \"total_works\": 2}, {\"decade\": 6660, \"total_works\": 3}, {\"decade\": 5550, \"total_works\": 1}, {\"decade\": 5380, \"total_works\": 4}, {\"decade\": 5130, \"total_works\": 2}, {\"decade\": 5000, \"total_works\": 2}, {\"decade\": 4990, \"total_works\": 1}, {\"decade\": 4390, \"total_works\": 2}, {\"decade\": 3330, \"total_works\": 3}, {\"decade\": 3070, \"total_works\": 1}, {\"decade\": 3010, \"total_works\": 1}, {\"decade\": 3000, \"total_works\": 1}, {\"decade\": 2990, \"total_works\": 2}, {\"decade\": 2840, \"total_works\": 1}, {\"decade\": 2310, \"total_works\": 1}, {\"decade\": 2300, \"total_works\": 2}, {\"decade\": 2290, \"total_works\": 4}, {\"decade\": 2200, \"total_works\": 2}, {\"decade\": 2180, \"total_works\": 5}, {\"decade\": 2110, \"total_works\": 1}, {\"decade\": 2100, \"total_works\": 61}, {\"decade\": 2090, \"total_works\": 34}, {\"decade\": 2080, \"total_works\": 761}, {\"decade\": 2070, \"total_works\": 3}, {\"decade\": 2060, \"total_works\": 1}, {\"decade\": 2050, \"total_works\": 4}, {\"decade\": 2040, \"total_works\": 7}, {\"decade\": 2030, \"total_works\": 14}, {\"decade\": 2020, \"total_works\": 694125}, {\"decade\": 2010, \"total_works\": 1785737}, {\"decade\": 2000, \"total_works\": 1404138}, {\"decade\": 1990, \"total_works\": 770334}, {\"decade\": 1980, \"total_works\": 610987}, {\"decade\": 1970, \"total_works\": 431450}, {\"decade\": 1960, \"total_works\": 258027}, {\"decade\": 1950, \"total_works\": 182167}, {\"decade\": 1940, \"total_works\": 154351}, {\"decade\": 1930, \"total_works\": 115090}, {\"decade\": 1920, \"total_works\": 106195}, {\"decade\": 1910, \"total_works\": 97057}, {\"decade\": 1900, \"total_works\": 110380}, {\"decade\": 1890, \"total_works\": 30619}, {\"decade\": 1880, \"total_works\": 29340}, {\"decade\": 1870, \"total_works\": 23074}, {\"decade\": 1860, \"total_works\": 23171}, {\"decade\": 1850, \"total_works\": 22286}, {\"decade\": 1840, \"total_works\": 15610}, {\"decade\": 1830, \"total_works\": 14665}, {\"decade\": 1820, \"total_works\": 10496}, {\"decade\": 1810, \"total_works\": 14157}, {\"decade\": 1800, \"total_works\": 9442}, {\"decade\": 1790, \"total_works\": 9129}, {\"decade\": 1780, \"total_works\": 3862}, {\"decade\": 1770, \"total_works\": 3201}, {\"decade\": 1760, \"total_works\": 2224}, {\"decade\": 1750, \"total_works\": 2128}, {\"decade\": 1740, \"total_works\": 1683}, {\"decade\": 1730, \"total_works\": 1415}, {\"decade\": 1720, \"total_works\": 1693}, {\"decade\": 1710, \"total_works\": 1628}, {\"decade\": 1700, \"total_works\": 1788}, {\"decade\": 1690, \"total_works\": 1061}, {\"decade\": 1680, \"total_works\": 1161}, {\"decade\": 1670, \"total_works\": 741}, {\"decade\": 1660, \"total_works\": 874}, {\"decade\": 1650, \"total_works\": 1052}, {\"decade\": 1640, \"total_works\": 2462}, {\"decade\": 1630, \"total_works\": 403}, {\"decade\": 1620, \"total_works\": 465}, {\"decade\": 1610, \"total_works\": 396}, {\"decade\": 1600, \"total_works\": 390}, {\"decade\": 1590, \"total_works\": 218}, {\"decade\": 1580, \"total_works\": 422}, {\"decade\": 1570, \"total_works\": 257}, {\"decade\": 1560, \"total_works\": 261}, {\"decade\": 1550, \"total_works\": 186}, {\"decade\": 1540, \"total_works\": 173}, {\"decade\": 1530, \"total_works\": 133}, {\"decade\": 1520, \"total_works\": 77}, {\"decade\": 1510, \"total_works\": 68}, {\"decade\": 1500, \"total_works\": 179}, {\"decade\": 1490, \"total_works\": 52}, {\"decade\": 1480, \"total_works\": 48}, {\"decade\": 1470, \"total_works\": 21}, {\"decade\": 1460, \"total_works\": 16}, {\"decade\": 1450, \"total_works\": 21}, {\"decade\": 1440, \"total_works\": 14}, {\"decade\": 1430, \"total_works\": 15}, {\"decade\": 1420, \"total_works\": 12}, {\"decade\": 1410, \"total_works\": 15}, {\"decade\": 1400, \"total_works\": 166}, {\"decade\": 1390, \"total_works\": 12}, {\"decade\": 1380, \"total_works\": 12}, {\"decade\": 1370, \"total_works\": 14}, {\"decade\": 1360, \"total_works\": 13}, {\"decade\": 1350, \"total_works\": 13}, {\"decade\": 1340, \"total_works\": 13}, {\"decade\": 1330, \"total_works\": 14}, {\"decade\": 1320, \"total_works\": 10}, {\"decade\": 1310, \"total_works\": 9}, {\"decade\": 1300, \"total_works\": 112}, {\"decade\": 1290, \"total_works\": 6}, {\"decade\": 1280, \"total_works\": 7}, {\"decade\": 1270, \"total_works\": 5}, {\"decade\": 1260, \"total_works\": 6}, {\"decade\": 1250, \"total_works\": 3}, {\"decade\": 1240, \"total_works\": 5}, {\"decade\": 1230, \"total_works\": 4}, {\"decade\": 1220, \"total_works\": 5}, {\"decade\": 1210, \"total_works\": 4}, {\"decade\": 1200, \"total_works\": 99}, {\"decade\": 1190, \"total_works\": 32}, {\"decade\": 1180, \"total_works\": 2}, {\"decade\": 1170, \"total_works\": 1}, {\"decade\": 1160, \"total_works\": 1}, {\"decade\": 1150, \"total_works\": 1}, {\"decade\": 1140, \"total_works\": 1}, {\"decade\": 1130, \"total_works\": 1}, {\"decade\": 1120, \"total_works\": 1}, {\"decade\": 1110, \"total_works\": 1}, {\"decade\": 1100, \"total_works\": 31}, {\"decade\": 1090, \"total_works\": 5}, {\"decade\": 1080, \"total_works\": 3}, {\"decade\": 1070, \"total_works\": 2}, {\"decade\": 1060, \"total_works\": 1}, {\"decade\": 1050, \"total_works\": 1}, {\"decade\": 1040, \"total_works\": 2}, {\"decade\": 1030, \"total_works\": 1}, {\"decade\": 1020, \"total_works\": 6}, {\"decade\": 1010, \"total_works\": 28}, {\"decade\": 1000, \"total_works\": 21}, {\"decade\": 910, \"total_works\": 2}, {\"decade\": 690, \"total_works\": 2}, {\"decade\": 670, \"total_works\": 1}, {\"decade\": 660, \"total_works\": 1}, {\"decade\": 650, \"total_works\": 1}, {\"decade\": 640, \"total_works\": 1}, {\"decade\": 630, \"total_works\": 1}, {\"decade\": 620, \"total_works\": 1}, {\"decade\": 610, \"total_works\": 1}, {\"decade\": 600, \"total_works\": 1}, {\"decade\": 590, \"total_works\": 1}, {\"decade\": 580, \"total_works\": 1}, {\"decade\": 570, \"total_works\": 1}, {\"decade\": 560, \"total_works\": 1}, {\"decade\": 550, \"total_works\": 1}, {\"decade\": 540, \"total_works\": 1}, {\"decade\": 530, \"total_works\": 1}, {\"decade\": 520, \"total_works\": 1}, {\"decade\": 510, \"total_works\": 1}, {\"decade\": 500, \"total_works\": 1}, {\"decade\": 490, \"total_works\": 2}, {\"decade\": 480, \"total_works\": 1}, {\"decade\": 470, \"total_works\": 1}, {\"decade\": 460, \"total_works\": 1}, {\"decade\": 450, \"total_works\": 1}, {\"decade\": 440, \"total_works\": 1}, {\"decade\": 430, \"total_works\": 1}, {\"decade\": 420, \"total_works\": 1}, {\"decade\": 410, \"total_works\": 1}, {\"decade\": 400, \"total_works\": 1}, {\"decade\": 390, \"total_works\": 1}, {\"decade\": 380, \"total_works\": 1}, {\"decade\": 370, \"total_works\": 1}, {\"decade\": 360, \"total_works\": 1}, {\"decade\": 350, \"total_works\": 1}, {\"decade\": 340, \"total_works\": 1}, {\"decade\": 330, \"total_works\": 1}, {\"decade\": 320, \"total_works\": 1}, {\"decade\": 310, \"total_works\": 1}, {\"decade\": 300, \"total_works\": 1}, {\"decade\": 290, \"total_works\": 1}, {\"decade\": 280, \"total_works\": 1}, {\"decade\": 270, \"total_works\": 1}, {\"decade\": 260, \"total_works\": 3}, {\"decade\": 250, \"total_works\": 1}, {\"decade\": 240, \"total_works\": 1}, {\"decade\": 230, \"total_works\": 1}, {\"decade\": 220, \"total_works\": 2}, {\"decade\": 210, \"total_works\": 2}, {\"decade\": 200, \"total_works\": 17}, {\"decade\": 190, \"total_works\": 18}, {\"decade\": 180, \"total_works\": 2}, {\"decade\": 170, \"total_works\": 1}, {\"decade\": 160, \"total_works\": 1}, {\"decade\": 150, \"total_works\": 1}, {\"decade\": 140, \"total_works\": 1}, {\"decade\": 130, \"total_works\": 1}, {\"decade\": 120, \"total_works\": 1}, {\"decade\": 110, \"total_works\": 5}, {\"decade\": 100, \"total_works\": 2}, {\"decade\": 90, \"total_works\": 2}, {\"decade\": 70, \"total_works\": 3}, {\"decade\": 60, \"total_works\": 1}, {\"decade\": 50, \"total_works\": 1}, {\"decade\": 40, \"total_works\": 1}, {\"decade\": 30, \"total_works\": 7}, {\"decade\": 20, \"total_works\": 31}, {\"decade\": 10, \"total_works\": 66}, {\"decade\": 0, \"total_works\": 289}]}}, {\"mode\": \"vega-lite\"});\n</script>",
      "application/papermill.record/text/plain": "alt.Chart(...)"
     },
     "metadata": {
      "scrapbook": {
       "mime_prefix": "application/papermill.record/",
       "name": "research_decade_chart"
      }
     },
     "output_type": "display_data"
    }
   ],
   "source": [
    "research_chart = alt.Chart(pd.DataFrame(research_facet_counts)).mark_bar().encode(\n",
    "    x=alt.X(\"decade:Q\", title=\"decade (binned by century)\").bin(step=100).axis(format=\"c\"),\n",
    "    y=alt.Y(\"total_works:Q\", title=\"number of works (log scale)\").scale(type=\"log\")\n",
    ").properties(width=500, height=250)\n",
    "\n",
    "glue(\"research_decade_chart\", research_chart, display=False)"
   ]
  },
  {
   "cell_type": "markdown",
   "id": "c93e5bc0-1256-4633-a308-6c6646c23b7f",
   "metadata": {
    "editable": true,
    "slideshow": {
     "slide_type": ""
    },
    "tags": []
   },
   "source": [
    "```{glue:figure} research_decade_chart\n",
    ":name: research-decades-chart\n",
    ":figwidth: 600px\n",
    "Distribution of publication dates of works in the 'Research & reports' category\n",
    "```\n",
    "\n",
    "But not all unexpected dates are errors. The 'Research & reports' category currently contains [759 works dated 2085](https://trove.nla.gov.au/search/category/research?keyword=&l-decade=208&l-year=2085). It looks wrong, but if you examine the records you'll see that these are datasets that include *future projections* for species distributions. The date is accurate, it's just that the contents date has become confused with the publication date.\n",
    "\n",
    "You'd expect the dates assigned to digitised content to be reliable, and generally this is the case. There seem to be few, if any, date problems in the digitised newspapers. The digitised content in the 'Magazines & newsletters' category, however, does seem to have a few data entry errors."
   ]
  },
  {
   "cell_type": "code",
   "execution_count": 70,
   "id": "67b968f6-1871-4b9f-bd1a-3df4d754517f",
   "metadata": {
    "editable": true,
    "slideshow": {
     "slide_type": ""
    },
    "tags": [
     "remove-cell"
    ]
   },
   "outputs": [],
   "source": [
    "params = {\n",
    "    \"category\": \"magazine\",\n",
    "    \"facet\": \"decade\",\n",
    "    \"encoding\": \"json\",\n",
    "}\n",
    "\n",
    "# Supply API key using headers\n",
    "headers = {\"X-API-KEY\": YOUR_API_KEY}\n",
    "\n",
    "response = requests.get(\n",
    "    \"https://api.trove.nla.gov.au/v3/result\", params=params, headers=headers\n",
    ")\n",
    "\n",
    "data = response.json()\n",
    "\n",
    "# Perhaps the trickiest thing is actually getting to where the facet terms are\n",
    "facets = data[\"category\"][0][\"facets\"][\"facet\"][0][\"term\"]\n",
    "\n",
    "# Get the facet label and count from each facet\n",
    "magazine_facet_counts = [{\"decade\": int(f[\"search\"]) * 10, \"total_works\": f[\"count\"]} for f in facets]"
   ]
  },
  {
   "cell_type": "code",
   "execution_count": 72,
   "id": "d5927854-bc6a-4289-b970-f72a604ccabd",
   "metadata": {
    "editable": true,
    "slideshow": {
     "slide_type": ""
    },
    "tags": [
     "remove-cell"
    ]
   },
   "outputs": [
    {
     "data": {
      "text/html": [
       "\n",
       "<style>\n",
       "  #altair-viz-952960498ead48af814d2044b027a26e.vega-embed {\n",
       "    width: 100%;\n",
       "    display: flex;\n",
       "  }\n",
       "\n",
       "  #altair-viz-952960498ead48af814d2044b027a26e.vega-embed details,\n",
       "  #altair-viz-952960498ead48af814d2044b027a26e.vega-embed details summary {\n",
       "    position: relative;\n",
       "  }\n",
       "</style>\n",
       "<div id=\"altair-viz-952960498ead48af814d2044b027a26e\"></div>\n",
       "<script type=\"text/javascript\">\n",
       "  var VEGA_DEBUG = (typeof VEGA_DEBUG == \"undefined\") ? {} : VEGA_DEBUG;\n",
       "  (function(spec, embedOpt){\n",
       "    let outputDiv = document.currentScript.previousElementSibling;\n",
       "    if (outputDiv.id !== \"altair-viz-952960498ead48af814d2044b027a26e\") {\n",
       "      outputDiv = document.getElementById(\"altair-viz-952960498ead48af814d2044b027a26e\");\n",
       "    }\n",
       "    const paths = {\n",
       "      \"vega\": \"https://cdn.jsdelivr.net/npm/vega@5?noext\",\n",
       "      \"vega-lib\": \"https://cdn.jsdelivr.net/npm/vega-lib?noext\",\n",
       "      \"vega-lite\": \"https://cdn.jsdelivr.net/npm/vega-lite@5.8.0?noext\",\n",
       "      \"vega-embed\": \"https://cdn.jsdelivr.net/npm/vega-embed@6?noext\",\n",
       "    };\n",
       "\n",
       "    function maybeLoadScript(lib, version) {\n",
       "      var key = `${lib.replace(\"-\", \"\")}_version`;\n",
       "      return (VEGA_DEBUG[key] == version) ?\n",
       "        Promise.resolve(paths[lib]) :\n",
       "        new Promise(function(resolve, reject) {\n",
       "          var s = document.createElement('script');\n",
       "          document.getElementsByTagName(\"head\")[0].appendChild(s);\n",
       "          s.async = true;\n",
       "          s.onload = () => {\n",
       "            VEGA_DEBUG[key] = version;\n",
       "            return resolve(paths[lib]);\n",
       "          };\n",
       "          s.onerror = () => reject(`Error loading script: ${paths[lib]}`);\n",
       "          s.src = paths[lib];\n",
       "        });\n",
       "    }\n",
       "\n",
       "    function showError(err) {\n",
       "      outputDiv.innerHTML = `<div class=\"error\" style=\"color:red;\">${err}</div>`;\n",
       "      throw err;\n",
       "    }\n",
       "\n",
       "    function displayChart(vegaEmbed) {\n",
       "      vegaEmbed(outputDiv, spec, embedOpt)\n",
       "        .catch(err => showError(`Javascript Error: ${err.message}<br>This usually means there's a typo in your chart specification. See the javascript console for the full traceback.`));\n",
       "    }\n",
       "\n",
       "    if(typeof define === \"function\" && define.amd) {\n",
       "      requirejs.config({paths});\n",
       "      require([\"vega-embed\"], displayChart, err => showError(`Error loading script: ${err.message}`));\n",
       "    } else {\n",
       "      maybeLoadScript(\"vega\", \"5\")\n",
       "        .then(() => maybeLoadScript(\"vega-lite\", \"5.8.0\"))\n",
       "        .then(() => maybeLoadScript(\"vega-embed\", \"6\"))\n",
       "        .catch(showError)\n",
       "        .then(() => displayChart(vegaEmbed));\n",
       "    }\n",
       "  })({\"config\": {\"view\": {\"continuousWidth\": 300, \"continuousHeight\": 300}}, \"data\": {\"name\": \"data-4354200e9bc3c668e8ee0c5bda26b4c3\"}, \"mark\": {\"type\": \"bar\"}, \"encoding\": {\"x\": {\"axis\": {\"format\": \"c\"}, \"bin\": {\"step\": 100}, \"field\": \"decade\", \"title\": \"decade (binned by century)\", \"type\": \"quantitative\"}, \"y\": {\"field\": \"total_works\", \"scale\": {\"type\": \"log\"}, \"title\": \"number of works (log scale)\", \"type\": \"quantitative\"}}, \"height\": 250, \"width\": 500, \"$schema\": \"https://vega.github.io/schema/vega-lite/v5.8.0.json\", \"datasets\": {\"data-4354200e9bc3c668e8ee0c5bda26b4c3\": [{\"decade\": 2030, \"total_works\": 2}, {\"decade\": 2020, \"total_works\": 323}, {\"decade\": 2010, \"total_works\": 30087}, {\"decade\": 2000, \"total_works\": 71860}, {\"decade\": 1990, \"total_works\": 103937}, {\"decade\": 1980, \"total_works\": 127063}, {\"decade\": 1970, \"total_works\": 131178}, {\"decade\": 1960, \"total_works\": 124873}, {\"decade\": 1950, \"total_works\": 185746}, {\"decade\": 1940, \"total_works\": 219483}, {\"decade\": 1930, \"total_works\": 248685}, {\"decade\": 1920, \"total_works\": 206612}, {\"decade\": 1910, \"total_works\": 132198}, {\"decade\": 1900, \"total_works\": 73865}, {\"decade\": 1890, \"total_works\": 53211}, {\"decade\": 1880, \"total_works\": 48664}, {\"decade\": 1870, \"total_works\": 16992}, {\"decade\": 1860, \"total_works\": 10343}, {\"decade\": 1850, \"total_works\": 5051}, {\"decade\": 1840, \"total_works\": 10716}, {\"decade\": 1830, \"total_works\": 3483}, {\"decade\": 1820, \"total_works\": 2167}, {\"decade\": 1810, \"total_works\": 537}, {\"decade\": 1800, \"total_works\": 61}, {\"decade\": 1780, \"total_works\": 8}, {\"decade\": 1760, \"total_works\": 25}, {\"decade\": 850, \"total_works\": 68}, {\"decade\": 200, \"total_works\": 2}, {\"decade\": 190, \"total_works\": 20}, {\"decade\": 10, \"total_works\": 7}]}}, {\"mode\": \"vega-lite\"});\n",
       "</script>"
      ],
      "text/plain": [
       "alt.Chart(...)"
      ]
     },
     "metadata": {
      "scrapbook": {
       "mime_prefix": "",
       "name": "magazine_decade_chart"
      }
     },
     "output_type": "display_data"
    }
   ],
   "source": [
    "magazine_chart = alt.Chart(pd.DataFrame(magazine_facet_counts)).mark_bar().encode(\n",
    "    x=alt.X(\"decade:Q\", title=\"decade (binned by century)\").bin(step=100).axis(format=\"c\"),\n",
    "    y=alt.Y(\"total_works:Q\", title=\"number of works (log scale)\").scale(type=\"log\")\n",
    ").properties(width=500, height=250)\n",
    "\n",
    "glue(\"magazine_decade_chart\", magazine_chart, display=False)"
   ]
  },
  {
   "cell_type": "markdown",
   "id": "aa1c8db1-c624-4ca8-872e-45046260b224",
   "metadata": {},
   "source": [
    "```{glue:figure} magazine_decade_chart\n",
    ":name: magazine-decades-chart\n",
    ":figwidth: 600px\n",
    "Distribution of publication dates of works in the 'Magazines & newsletters' category\n",
    "```"
   ]
  },
  {
   "cell_type": "markdown",
   "id": "a975ab98-01ab-4edb-9e6e-08797e864c81",
   "metadata": {
    "editable": true,
    "slideshow": {
     "slide_type": ""
    },
    "tags": []
   },
   "source": [
    "## Using date facets"
   ]
  },
  {
   "cell_type": "markdown",
   "id": "40978e4e-eb19-4663-8724-308270b7ea02",
   "metadata": {},
   "source": [
    "There are three facets you can use to limit search results by date: `decade`, `year`, and `month`. The `month` facet is only available in the *Newspapers & Gazettes* category.\n",
    "\n",
    "```{list-table} Date facets\n",
    ":header-rows: 1\n",
    ":name: table-available-search indexes\n",
    "* - Facet\n",
    "  - Description\n",
    "  - Example\n",
    "  - Categories\n",
    "* - `l-decade`\n",
    "  - Limit results to a specific decade\n",
    "  - `l-decade=190`\n",
    "  - Applicable to all categories except Websites and Lists\n",
    "* - `l-year`\n",
    "  - Limit results to a specific year\n",
    "  - `l-decade=1901`\n",
    "  - Applicable to all categories except Websites and Lists\n",
    "* - `l-month`\n",
    "  - Limit results to a specific month\n",
    "  - `l-month=11`\n",
    "  - Applicable only to Newspapers & Gazettes category\n",
    "```\n",
    "\n",
    "In some cases these facets need to be used in combination. You can only apply the `l-year` facet in the *Newspapers & Gazettes* category if you've already set `l-decade`. Similarly, you can only apply the `l-month` facet if you've already set `l-year` and `l-decade`.\n",
    "\n",
    "For example, to search for newspaper articles published in 1914 you'd set `l-decade` to `191` and `l-year` to `1914`.\n",
    "\n",
    "[![Try it!](https://troveconsole.herokuapp.com/static/img/try-trove-api-console.svg)](https://troveconsole.herokuapp.com/v3/?url=https%3A%2F%2Fapi.trove.nla.gov.au%2Fv3%2Fresult%3Fcategory%3Dnewspaper%26l-decade%3D191%26l-year%3D1914%26encoding%3Djson&comment=)\n",
    "\n",
    "To search for books published in 1914 using the API you can just set `l-year` to `1914`.\n",
    "\n",
    "[![Try it!](https://troveconsole.herokuapp.com/static/img/try-trove-api-console.svg)](https://troveconsole.herokuapp.com/v3/?url=https%3A%2F%2Fapi.trove.nla.gov.au%2Fv3%2Fresult%3Fcategory%3Dbook%26l-year%3D1914%26encoding%3Djson&comment=)\n",
    "\n",
    "```{warning}\n",
    "Keep in mind that the web interface works a bit differently than the API. It seems you need to use `l-decade` and `l-year` together in *all categories* when using the web interface, not just the newspapers. This is only really an issue if you're manually constructing search urls.\n",
    "\n",
    "Also, in those cases where you do need `l-decade` and `l-year` together, leaving out `l-decade` returns results without any date limits, rather than no results at all. This means it can look like the facet is working when it's actually not.\n",
    "```"
   ]
  },
  {
   "cell_type": "markdown",
   "id": "e3d6d640-0438-415c-8d01-9bdb7e1153bf",
   "metadata": {},
   "source": [
    "(using-the-date-index)=\n",
    "### Using the date index\n",
    "\n",
    "If you want to search for a range of dates you can use the `date` index. Queries using the `date` index look something like this: `date:[STARTDATE TO ENDDATE]`. For example, to include records from 1914 to 1918 (inclusive) in your search, you'd use `date:[1914 TO 1918]`. You can add date index queries to the search box in the web interface, or include them in the `q` parameter of an API request.\n",
    "\n",
    "[![Try it!](https://troveconsole.herokuapp.com/static/img/try-trove-api-console.svg)](https://troveconsole.herokuapp.com/v3/?url=https%3A%2F%2Fapi.trove.nla.gov.au%2Fv3%2Fresult%3Fq%3Ddate%3A%5B1914+TO+1918%5D%26category%3Dnewspaper%26encoding%3Djson&comment=)\n",
    "\n",
    "To set `STARTDATE` or `ENDDATE` to the limit of the available date range, use a value of `*` (an asterisk). For example, to search for records published in 1900 or earlier, you'd use `date:[* TO 1900]`.\n",
    "\n",
    "[![Try it!](https://troveconsole.herokuapp.com/static/img/try-trove-api-console.svg)](https://troveconsole.herokuapp.com/v3/?url=https%3A%2F%2Fapi.trove.nla.gov.au%2Fv3%2Fresult%3Fq%3Ddate%3A%5B*+TO+1900%5D%26category%3Dnewspaper%26encoding%3Djson&comment=)\n",
    "\n",
    "To search for results from a single year, you can set `STARTDATE` and `ENDDATE` to the same value, for example, `date:[1914 TO 1914]`. This is the same as setting the `l-year` facet to `1914`.\n",
    "\n",
    "[![Try it!](https://troveconsole.herokuapp.com/static/img/try-trove-api-console.svg)](https://troveconsole.herokuapp.com/v3/?url=https%3A%2F%2Fapi.trove.nla.gov.au%2Fv3%2Fresult%3Fq%3Ddate%3A%5B1914+TO+1914%5D%26category%3Dnewspaper%26encoding%3Djson&comment=)\n",
    "\n",
    "In the *Newspapers & Gazettes* category, the values of `STARTDATE` and `ENDDATE` can be days, rather than years. But there are a few tricks. To specify a day, you need to provide a full ISO-formatted date, complete with time and timezone, even though the time component is ignored. For example: `1901-01-01T00:00:00Z`.\n",
    "\n",
    "Also, when you use days rather than years, the date range is **not** inclusive. **You have to set `STARTDATE` to the day before the one you you want.** For example:\n",
    "\n",
    "- `date[1914 TO 1914]` – returns results from 1914 (range is inclusive)\n",
    "- `date[1914-01-01T00:00:00Z TO 1914-01-01T00:00:00Z]` – returns zero results (range is not inclusive)\n",
    "- `date[1913-12-31T00:00:00Z TO 1914-01-01T00:00:00Z]` – returns results from 1 January 1914\n",
    "- `date[1913-12-30T00:00:00Z TO 1914-01-01T00:00:00Z]` – returns results from 31 December 1913 to 1 January 1914\n",
    "\n",
    "This means that if you want to search for newspaper or gazette articles from a *specific day*, you need to set the the `STARTDATE` value to the day before the one you want. For example, to find articles published on 2 November 1944, the `STARTDATE` would be `1944-11-01T00:00:00Z` and the full query would be `date:[1944-11-01T00:00:00Z TO 1944-11-02T00:00:00Z]`.\n",
    "\n",
    "[![Try it!](https://troveconsole.herokuapp.com/static/img/try-trove-api-console.svg)](https://troveconsole.herokuapp.com/v3/?url=https%3A%2F%2Fapi.trove.nla.gov.au%2Fv3%2Fresult%3Fq%3Ddate%3A%5B1944-11-01T00%3A00%3A00Z+TO+1944-11-02T00%3A00%3A00Z%5D%26category%3Dnewspaper%26encoding%3Djson&comment=)\n",
    "\n",
    "We can do a little test of this behaviour by trying different `date` queries and using the `year` facet to check the range of our results."
   ]
  },
  {
   "cell_type": "code",
   "execution_count": 85,
   "id": "c2d5d1fe-632b-4293-a203-d2df590a5e1c",
   "metadata": {
    "editable": true,
    "slideshow": {
     "slide_type": ""
    },
    "tags": []
   },
   "outputs": [],
   "source": [
    "import requests\n",
    "\n",
    "def get_year_facets(start_date, end_date):\n",
    "    params = {\n",
    "        \"q\": f\"date:[{start_date} TO {end_date}]\", \n",
    "        \"category\": \"newspaper\",\n",
    "        \"facet\": \"year\",\n",
    "        \"encoding\": \"json\",\n",
    "        \"n\": 0\n",
    "    }\n",
    "    \n",
    "    # Supply API key using headers\n",
    "    headers = {\"X-API-KEY\": YOUR_API_KEY}\n",
    "    \n",
    "    response = requests.get(\n",
    "        \"https://api.trove.nla.gov.au/v3/result\", params=params, headers=headers\n",
    "    )\n",
    "    \n",
    "    data = response.json()\n",
    "    try:\n",
    "        facets = data[\"category\"][0][\"facets\"][\"facet\"][0][\"term\"]\n",
    "    except KeyError:\n",
    "        facets = []\n",
    "\n",
    "    years = [f[\"search\"] for f in facets]\n",
    "    return years"
   ]
  },
  {
   "cell_type": "markdown",
   "id": "66d0412a-6f81-41d7-8dd4-427df7c964b5",
   "metadata": {},
   "source": [
    "If the start and end dates are the same there are no results."
   ]
  },
  {
   "cell_type": "code",
   "execution_count": 86,
   "id": "49026d70-7f25-4aba-ac38-0a84ff04ca64",
   "metadata": {},
   "outputs": [
    {
     "data": {
      "text/plain": [
       "[]"
      ]
     },
     "execution_count": 86,
     "metadata": {},
     "output_type": "execute_result"
    }
   ],
   "source": [
    "get_year_facets(\"1914-01-01T00:00:00Z\", \"1914-01-01T00:00:00Z\")"
   ]
  },
  {
   "cell_type": "markdown",
   "id": "8ac36c2f-83f5-460e-a564-59818035669f",
   "metadata": {},
   "source": [
    "To get results from 1 January 1914 we set the start date to the 31 December 1913. Note that despite the start date being in 1913, there are only results from 1914."
   ]
  },
  {
   "cell_type": "code",
   "execution_count": 83,
   "id": "dfe0b3ba-caaf-45cd-8773-64a8e915f532",
   "metadata": {},
   "outputs": [
    {
     "data": {
      "text/plain": [
       "['1914']"
      ]
     },
     "execution_count": 83,
     "metadata": {},
     "output_type": "execute_result"
    }
   ],
   "source": [
    "get_year_facets(\"1913-12-31T00:00:00Z\", \"1914-01-01T00:00:00Z\")"
   ]
  },
  {
   "cell_type": "markdown",
   "id": "8b233018-3613-4dfe-a4d3-b43eb6ff047a",
   "metadata": {},
   "source": [
    "Setting the start date back another day means we get results from both 1913 and 1914."
   ]
  },
  {
   "cell_type": "code",
   "execution_count": 84,
   "id": "d4f968fa-0011-4ca1-9c50-96801d39dd03",
   "metadata": {},
   "outputs": [
    {
     "data": {
      "text/plain": [
       "['1914', '1913']"
      ]
     },
     "execution_count": 84,
     "metadata": {},
     "output_type": "execute_result"
    }
   ],
   "source": [
    "get_year_facets(\"1913-12-30T00:00:00Z\", \"1914-01-01T00:00:00Z\")"
   ]
  },
  {
   "cell_type": "markdown",
   "id": "53c9aed7-740f-4c05-8c58-2fa9461c49bf",
   "metadata": {},
   "source": [
    "If you're developing an automated process that searches for newspaper articles from a list of dates, you'll need to find some way of reliably subtracting a day from the date you want (dates are always more complicated than you expect). Here's one approach:"
   ]
  },
  {
   "cell_type": "code",
   "execution_count": 91,
   "id": "c71b5275-668d-4f4c-ad8a-fb3004e9e0e7",
   "metadata": {},
   "outputs": [
    {
     "name": "stdout",
     "output_type": "stream",
     "text": [
      "1944-11-30T00:00:00Z\n"
     ]
    }
   ],
   "source": [
    "from datetime import datetime, timedelta\n",
    "\n",
    "desired_date = \"1944-12-01\"\n",
    "\n",
    "# Convert the date string to a datetime object\n",
    "desired_datetime = datetime.fromisoformat(desired_date)\n",
    "\n",
    "# Subtract a day from the datetime\n",
    "start_datetime = desired_datetime - timedelta(days=1)\n",
    "\n",
    "# Format the start date\n",
    "start_date = f\"{start_datetime.isoformat()}Z\"\n",
    "print(start_date)"
   ]
  },
  {
   "cell_type": "markdown",
   "id": "9f3d0396-a3a3-4ec1-afdf-75d872cc4f3b",
   "metadata": {
    "editable": true,
    "slideshow": {
     "slide_type": ""
    },
    "tags": []
   },
   "source": [
    "## Works, versions, and dates\n",
    "\n",
    "Date searches can produce odd results when you're working with aggregated content (as in the *Books & Libraries* category). What do you think happens if you set the `l-decade` facet to `200` (ie 2000 to 2009) and the `l-year` facet to `1900`? In the *Newspapers & Gazettes* category you get no results, as you would expect. But in *Books & Libraries* you get more than a million results!\n",
    "\n",
    "[![Try it!](https://troveconsole.herokuapp.com/static/img/try-trove-api-console.svg)](https://troveconsole.herokuapp.com/v3/?url=https%3A%2F%2Fapi.trove.nla.gov.au%2Fv3%2Fresult%3Fcategory%3Dbook%26l-decade%3D200%26l-year%3D1900%26encoding%3Djson&comment=)\n",
    "\n",
    "How is this possible? How can both facet values be true? The answer lies in the way [versions of publications are grouped together as works](/what-is-trove/works-and-versions). If there are multiple versions of a work with different publication dates, the date of the work in Trove will be a range encompassing all the version dates. For example, a work that has versions published in `1900` and `2022` will have an `issued` value of `1900-2022`. Because Trove searches for works rather than versions, a search for any date within the `issued` date range will return the work. So the same work can be published between 2000 and 2009, and also in 1900.\n",
    "\n",
    "But what if you want to find a version published on a specific date? The Trove web interface has an option to filter a work's 'editions' (aka versions) by date. If you're using the API, you'll first have to requests details of all versions by setting the `include` parameter to `workversions`. Then you'll need to loop through all the versions, checking their individual `issued` dates.\n",
    "\n",
    "<!---\n",
    "<mark>==Include some example code?==</mark>\n",
    "--->"
   ]
  }
 ],
 "metadata": {
  "kernelspec": {
   "display_name": "Python 3 (ipykernel)",
   "language": "python",
   "name": "python3"
  },
  "language_info": {
   "codemirror_mode": {
    "name": "ipython",
    "version": 3
   },
   "file_extension": ".py",
   "mimetype": "text/x-python",
   "name": "python",
   "nbconvert_exporter": "python",
   "pygments_lexer": "ipython3",
   "version": "3.8.12"
  }
 },
 "nbformat": 4,
 "nbformat_minor": 5
}
