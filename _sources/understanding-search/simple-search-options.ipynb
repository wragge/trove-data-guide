{
 "cells": [
  {
   "cell_type": "markdown",
   "id": "8811922a-d04d-41a5-89fa-dcef3835dbc8",
   "metadata": {},
   "source": [
    "# 'Simple' search options\n",
    "\n",
    "````{card} On this page\n",
    "Learn about constructing searches in Trove, including the use of indexes and facets. Includes a variety of tips and tricks, focusing on undocumented or potentially confusing aspects of the Trove search system.\n",
    "\n",
    "```{contents}\n",
    ":local:\n",
    "```\n",
    "````"
   ]
  },
  {
   "cell_type": "code",
   "execution_count": 2,
   "id": "df54af5b-8172-41d6-a613-62b3f8015bd6",
   "metadata": {
    "editable": true,
    "slideshow": {
     "slide_type": ""
    },
    "tags": [
     "remove-cell"
    ]
   },
   "outputs": [
    {
     "data": {
      "text/plain": [
       "True"
      ]
     },
     "execution_count": 2,
     "metadata": {},
     "output_type": "execute_result"
    }
   ],
   "source": [
    "import requests\n",
    "import pandas as pd\n",
    "import os\n",
    "from myst_nb import glue\n",
    "from dotenv import load_dotenv\n",
    "\n",
    "load_dotenv()"
   ]
  },
  {
   "cell_type": "code",
   "execution_count": 3,
   "id": "a767ad82-a57f-4fe8-9651-9ed26b022aad",
   "metadata": {
    "editable": true,
    "slideshow": {
     "slide_type": ""
    },
    "tags": [
     "remove-cell"
    ]
   },
   "outputs": [],
   "source": [
    "YOUR_API_KEY = os.getenv(\"TROVE_API_KEY\")"
   ]
  },
  {
   "cell_type": "markdown",
   "id": "5d18586b-0741-4568-87dc-2b184160fb4b",
   "metadata": {
    "editable": true,
    "slideshow": {
     "slide_type": ""
    },
    "tags": []
   },
   "source": [
    "## Simple search isn't!\n",
    "\n",
    "The Trove web interface distinguishes between 'Advanced' and 'Simple' search. This is a bit misleading as you can construct complex queries using either. 'Advanced' search really just adds a structured interface over the 'Simple' search options. This Guide focuses on using 'Simple' search because it gives you more control, exposes more of the workings of the search index, and its queries can be easily translated to work with the Trove API.\n",
    "\n",
    "See [Constructing a complex search query](https://trove.nla.gov.au/help/searching/constructing-complex-search-query) in the Trove help system for an introduction to:\n",
    "\n",
    "- boolean searches (use `AND`, `OR`, and `NOT` to combine search terms)\n",
    "- phrase searches\n",
    "- proximity searches (specify the number of words that can appear between search terms)\n",
    "- some of the available indexes\n",
    "\n",
    "It can also be useful to poke around the [Solr query parser documentation](https://solr.apache.org/guide/8_11/the-standard-query-parser.html). Solr is the indexing software used by Trove, so many of the query formats described will work in Trove. \n",
    "\n",
    "Below you'll find information on some of the undocumented and potentially confusing aspects of Trove search."
   ]
  },
  {
   "cell_type": "markdown",
   "id": "bd4e3dc0-43be-49fb-9f2e-d70a9e73ee15",
   "metadata": {
    "editable": true,
    "slideshow": {
     "slide_type": ""
    },
    "tags": []
   },
   "source": [
    "(search:simple:defuzzify)=\n",
    "## De-fuzzify your searches\n",
    "\n",
    "By default, Trove adds a bit of fuzziness to your searches to try and ensure you get back some useful results. This includes:\n",
    "\n",
    "- stemming of your search terms (this reduces words to their base form, for example `computer` becomes `comput` matching 'compute', 'computer', 'computing' etc)\n",
    "- allowing extra words in phrases (this is to match across line breaks where words are hyphenated)\n",
    "- searching both full text (where available) and user-generated tags and comments\n",
    "\n",
    "It's possible to modify some of these settings by changing the format of your query. Here are some examples using a single search term:"
   ]
  },
  {
   "cell_type": "code",
   "execution_count": 4,
   "id": "c116c25d-ed43-4b53-bfd2-3d13da86959e",
   "metadata": {
    "editable": true,
    "slideshow": {
     "slide_type": ""
    },
    "tags": [
     "remove-cell"
    ]
   },
   "outputs": [
    {
     "data": {
      "text/plain": [
       "5888952"
      ]
     },
     "metadata": {
      "scrapbook": {
       "mime_prefix": "",
       "name": "wq"
      }
     },
     "output_type": "display_data"
    },
    {
     "data": {
      "text/plain": [
       "5960425"
      ]
     },
     "metadata": {
      "scrapbook": {
       "mime_prefix": "",
       "name": "wq_wild"
      }
     },
     "output_type": "display_data"
    },
    {
     "data": {
      "text/plain": [
       "5602146"
      ]
     },
     "metadata": {
      "scrapbook": {
       "mime_prefix": "",
       "name": "wq_text"
      }
     },
     "output_type": "display_data"
    },
    {
     "data": {
      "text/plain": [
       "720136"
      ]
     },
     "metadata": {
      "scrapbook": {
       "mime_prefix": "",
       "name": "wq_title"
      }
     },
     "output_type": "display_data"
    },
    {
     "data": {
      "text/plain": [
       "33043744"
      ]
     },
     "metadata": {
      "scrapbook": {
       "mime_prefix": "",
       "name": "q_or"
      }
     },
     "output_type": "display_data"
    },
    {
     "data": {
      "text/plain": [
       "436885"
      ]
     },
     "metadata": {
      "scrapbook": {
       "mime_prefix": "",
       "name": "q_and"
      }
     },
     "output_type": "display_data"
    },
    {
     "data": {
      "text/plain": [
       "3896"
      ]
     },
     "metadata": {
      "scrapbook": {
       "mime_prefix": "",
       "name": "q_phrase"
      }
     },
     "output_type": "display_data"
    },
    {
     "data": {
      "text/plain": [
       "3819"
      ]
     },
     "metadata": {
      "scrapbook": {
       "mime_prefix": "",
       "name": "q_text"
      }
     },
     "output_type": "display_data"
    },
    {
     "data": {
      "text/plain": [
       "3896"
      ]
     },
     "metadata": {
      "scrapbook": {
       "mime_prefix": "",
       "name": "q_zero"
      }
     },
     "output_type": "display_data"
    },
    {
     "data": {
      "text/plain": [
       "2802"
      ]
     },
     "metadata": {
      "scrapbook": {
       "mime_prefix": "",
       "name": "q_text_zero"
      }
     },
     "output_type": "display_data"
    }
   ],
   "source": [
    "import requests\n",
    "\n",
    "\n",
    "\n",
    "def get_total(query):\n",
    "    params = {\n",
    "        \"q\": query,\n",
    "        \"category\": \"newspaper\",\n",
    "        \"encoding\": \"json\",\n",
    "        \"n\": 0\n",
    "    }\n",
    "    headers = {\"X-API-KEY\": YOUR_API_KEY}\n",
    "    response = response = requests.get(\n",
    "            \"https://api.trove.nla.gov.au/v3/result\", params=params, headers=headers\n",
    "        )\n",
    "    data = response.json()\n",
    "    return data[\"category\"][0][\"records\"][\"total\"]\n",
    "\n",
    "glue(\"wq\", get_total(\"hobart\"))\n",
    "glue(\"wq_wild\", get_total(\"hobart*\"))\n",
    "glue(\"wq_text\", get_total(\"text:hobart\"))\n",
    "glue(\"wq_title\", get_total(\"title:hobart\"))\n",
    "\n",
    "glue(\"q_or\", get_total('australia OR unlimited'))\n",
    "glue(\"q_and\", get_total('australia unlimited'))\n",
    "glue(\"q_phrase\", get_total('\"australia unlimited\"'))\n",
    "glue(\"q_text\", get_total('text:\"australia unlimited\"'))\n",
    "glue(\"q_zero\", get_total('\"australia unlimited\"'))\n",
    "glue(\"q_text_zero\", get_total('text:\"australia unlimited\"~0'))"
   ]
  },
  {
   "cell_type": "markdown",
   "id": "10b2d73e-dc59-49e3-91e0-8f0b7dea3469",
   "metadata": {
    "editable": true,
    "slideshow": {
     "slide_type": ""
    },
    "tags": []
   },
   "source": [
    "```{list-table} De-fuzzify keyword searches\n",
    ":header-rows: 1\n",
    ":name: table-defuzzify-keyword\n",
    "* - Query\n",
    "  - Results\n",
    "  - Explanation\n",
    "* - `hobart`\n",
    "  - {glue:text}`wq:,`\n",
    "  - Searches article text, tags & comments (some fuzziness, terms are stemmed)\n",
    "* - `hobart*`\n",
    "  - {glue:text}`wq_wild:,`\n",
    "  - Searches article text, tags & comments (more fuzziness, wildcard matches zero or more characters)\n",
    "* - `text:hobart`\n",
    "  - {glue:text}`wq_text:,`\n",
    "  - Searches article text only (exact match, ignores tags & comments)\n",
    "* - `title:hobart`\n",
    "  - {glue:text}`wq_title:,`\n",
    "  - Searches headlines only\n",
    "\n",
    "```"
   ]
  },
  {
   "cell_type": "markdown",
   "id": "22219f25-ff47-4a7f-9832-02d6791346a6",
   "metadata": {
    "editable": true,
    "slideshow": {
     "slide_type": ""
    },
    "tags": []
   },
   "source": [
    "Similarly you can adjust the fuzziness of phrase searches.\n",
    "\n",
    "```{list-table} De-fuzzify phrase searches\n",
    ":header-rows: 1\n",
    ":name: table-defuzzify-phrases\n",
    "* - Query\n",
    "  - Results\n",
    "  - Explanation\n",
    "* - `australia OR unlimited`\n",
    "  - {glue:text}`q_or:,`\n",
    "  - \n",
    "* - `australia unlimited`\n",
    "  - {glue:text}`q_and:,`\n",
    "  - Same as australia AND unlimited\n",
    "* - `\"australia unlimited\"`\n",
    "  - {glue:text}`q_phrase:,`\n",
    "  - Search for phrase (with stemming)\n",
    "* - `text:\"australia unlimited\"`\n",
    "  - {glue:text}`q_text:,`\n",
    "  - Search for phrase (no stemming & ignores tags/comments)\n",
    "* - `\"australia unlimited\"~0`\n",
    "  - {glue:text}`q_zero:,`\n",
    "  - Search for phrase (with stemming, no extra words)\n",
    "* - `text:\"australia unlimited\"~0`\n",
    "  - {glue:text}`q_text_zero:,`\n",
    "  - Search for exact phrase (no extra words, no stemming, ignore tags/comments)\n",
    "\n",
    "```"
   ]
  },
  {
   "cell_type": "markdown",
   "id": "84e6a32f-bcb5-4ecc-a1a5-a93af3b69174",
   "metadata": {
    "editable": true,
    "slideshow": {
     "slide_type": ""
    },
    "tags": []
   },
   "source": [
    "## Stemming oddities\n",
    "\n",
    "As noted above, Trove stems your search terms, trimming them back to their base form. It seems that Trove uses the Porter stemming algorithm. If you'd to see how stemming affects your query, you can use this [online tool](http://text-processing.com/demo/stem/) to test the results of the Porter algorithm.\n",
    "\n",
    "I've noticed some oddities in handling `-ise` and `-ize` suffixes. For example:"
   ]
  },
  {
   "cell_type": "code",
   "execution_count": 10,
   "id": "1639f21f-177c-4d70-b612-938696c41420",
   "metadata": {
    "editable": true,
    "slideshow": {
     "slide_type": ""
    },
    "tags": [
     "remove-cell"
    ]
   },
   "outputs": [
    {
     "data": {
      "text/plain": [
       "15259751"
      ]
     },
     "metadata": {
      "scrapbook": {
       "mime_prefix": "",
       "name": "stem_ize"
      }
     },
     "output_type": "display_data"
    },
    {
     "data": {
      "text/plain": [
       "245098"
      ]
     },
     "metadata": {
      "scrapbook": {
       "mime_prefix": "",
       "name": "stem_ise"
      }
     },
     "output_type": "display_data"
    },
    {
     "data": {
      "text/plain": [
       "24302"
      ]
     },
     "metadata": {
      "scrapbook": {
       "mime_prefix": "",
       "name": "text_ize"
      }
     },
     "output_type": "display_data"
    },
    {
     "data": {
      "text/plain": [
       "129532"
      ]
     },
     "metadata": {
      "scrapbook": {
       "mime_prefix": "",
       "name": "text_ise"
      }
     },
     "output_type": "display_data"
    }
   ],
   "source": [
    "glue(\"stem_ize\", get_total(\"naturalization\"))\n",
    "glue(\"stem_ise\", get_total(\"naturalisation\"))\n",
    "glue(\"text_ize\", get_total(\"text:naturalization\"))\n",
    "glue(\"text_ise\", get_total(\"text:naturalisation\"))"
   ]
  },
  {
   "cell_type": "markdown",
   "id": "516b97fa-1725-4c4e-b0eb-33cea818766d",
   "metadata": {
    "editable": true,
    "slideshow": {
     "slide_type": ""
    },
    "tags": []
   },
   "source": [
    "```{list-table} Stemming variations\n",
    ":header-rows: 1\n",
    ":name: table-stemming-oddities\n",
    "* - Query\n",
    "  - Results\n",
    "  - Explanation\n",
    "* - `naturalisation`\n",
    "  - {glue:text}`stem_ise:,`\n",
    "  - Stemmed to 'naturalis'\n",
    "* - `naturalization`\n",
    "  - {glue:text}`stem_ize:,`\n",
    "  - Stemmed to 'natur'\n",
    "* - `text:naturalisation`\n",
    "  - {glue:text}`text_ise:,`\n",
    "  - No stemming\n",
    "* - `text:naturalization`\n",
    "  - {glue:text}`text_ize:,`\n",
    "  - No stemming\n",
    "\n",
    "```"
   ]
  },
  {
   "cell_type": "markdown",
   "id": "c966ff40-c617-4209-9bc5-6f721581c6cf",
   "metadata": {
    "editable": true,
    "slideshow": {
     "slide_type": ""
    },
    "tags": []
   },
   "source": [
    "(search:simple:proxity)=\n",
    "## Proximity searches\n",
    "\n",
    "The defuzzify examples above use the proximity modifier (`~`) to remove extra words from a query, but you can also use it to set a maximum distance between search terms. One thing to note is that the order of the search terms makes a difference to your results, as reversing the order of your terms counts as a 'word'. For example:"
   ]
  },
  {
   "cell_type": "code",
   "execution_count": 11,
   "id": "370d1865-81c2-4bfd-aef4-b54607f4b580",
   "metadata": {
    "editable": true,
    "slideshow": {
     "slide_type": ""
    },
    "tags": [
     "remove-cell"
    ]
   },
   "outputs": [
    {
     "data": {
      "text/plain": [
       "278466"
      ]
     },
     "metadata": {
      "scrapbook": {
       "mime_prefix": "",
       "name": "prox_none"
      }
     },
     "output_type": "display_data"
    },
    {
     "data": {
      "text/plain": [
       "4144"
      ]
     },
     "metadata": {
      "scrapbook": {
       "mime_prefix": "",
       "name": "prox_10"
      }
     },
     "output_type": "display_data"
    },
    {
     "data": {
      "text/plain": [
       "4160"
      ]
     },
     "metadata": {
      "scrapbook": {
       "mime_prefix": "",
       "name": "prox_10_reverse"
      }
     },
     "output_type": "display_data"
    },
    {
     "data": {
      "text/plain": [
       "4657"
      ]
     },
     "metadata": {
      "scrapbook": {
       "mime_prefix": "",
       "name": "prox_both"
      }
     },
     "output_type": "display_data"
    }
   ],
   "source": [
    "glue(\"prox_none\", get_total(\"chinese tasmania\"))\n",
    "glue(\"prox_10\", get_total('\"chinese tasmania\"~10'))\n",
    "glue(\"prox_10_reverse\", get_total('\"tasmania chinese\"~10'))\n",
    "glue(\"prox_both\", get_total('\"tasmania chinese\"~10 OR \"chinese tasmania\"~10'))"
   ]
  },
  {
   "cell_type": "markdown",
   "id": "cece8ded-f64b-4085-9b43-99af3f03511f",
   "metadata": {
    "editable": true,
    "slideshow": {
     "slide_type": ""
    },
    "tags": []
   },
   "source": [
    "```{list-table} Using proximity modifiers\n",
    ":header-rows: 1\n",
    ":name: table-proximity-modifiers\n",
    "* - Query\n",
    "  - Results\n",
    "  - Explanation\n",
    "* - `chinese tasmania`\n",
    "  - {glue:text}`prox_none:,`\n",
    "  - articles contain both terms\n",
    "* - `\"chinese tasmania\"~10`\n",
    "  - {glue:text}`prox_10:,`\n",
    "  - articles where 'tasmania' is within 10 words of 'chinese'\n",
    "* - `\"tasmania chinese\"~10`\n",
    "  - {glue:text}`prox_10_reverse:,`\n",
    "  - terms in reverse order are matched, but reversing counts towards the word distance so results can differ\n",
    "* - `\"tasmania chinese\"~10 OR \"chinese tasmania\"~10`\n",
    "  - {glue:text}`prox_both:,`\n",
    "  - 10 word distance in either direction\n",
    "\n",
    "```"
   ]
  },
  {
   "cell_type": "markdown",
   "id": "b19aee47-b0f7-4ce9-81f5-68914cd8fa5c",
   "metadata": {
    "editable": true,
    "slideshow": {
     "slide_type": ""
    },
    "tags": []
   },
   "source": [
    "(search:simple:indexes)=\n",
    "## Using indexes\n",
    "\n",
    "When you enter queries in the simple search box, or by using the `q` parameter in an API request, you're searching across most metadata fields and any available full text. To control where and what you're searching, you can specify the index you want Trove to use. For example, the query `title:wragge` will search only the `title` field for the term `wragge`.\n",
    "\n",
    "Other indexes mentioned in [Trove's help documentation](https://trove.nla.gov.au/help/searching/constructing-complex-search-query) are:\n",
    "\n",
    "- `subject`\n",
    "- `creator`\n",
    "- `issn`\n",
    "- `isbn`\n",
    "- `nuc`\n",
    "- `publictag`\n",
    "\n",
    "A [more complete list of available indexes](https://trove.nla.gov.au/about/create-something/using-api/v3/api-technical-guide#list-of-supported-indexes) is provided in the API technical documentation.\n",
    "\n",
    "````{margin}\n",
    "```{seealso}\n",
    "Using the `series` index you can explore the way Trove resources are [grouped into collections](collections-ispartof).\n",
    "```\n",
    "````\n",
    "\n",
    "Undocumented indexes include:\n",
    "\n",
    "```{list-table} Undocumented search indexes\n",
    ":header-rows: 1\n",
    ":name: table-undocumented-search-indexes\n",
    "* - Index\n",
    "  - Description\n",
    "  - Example\n",
    "* - `series`\n",
    "  - [Search for resources that are part of a collection](collections-ispartof-series)\n",
    "  - `series:\"Parliamentary paper (Australia. Parliament)` – find Parliamentary Papers\n",
    "* - `firstpageseq`\n",
    "  - Search for newspaper articles published on a specific page\n",
    "  - `firstpageseq:2` – find articles published on page two\n",
    "```\n",
    "\n",
    "You can use many of the standard search operators with index queries. For example:\n",
    "\n",
    "```{list-table} Using search operators with indexes\n",
    ":header-rows: 1\n",
    ":name: table-index-operators\n",
    "* - Query\n",
    "  - Explanation\n",
    "* - `subject:history`\n",
    "  - Search for a keyword in the `subject` index\n",
    "* - `subject:(history weather)`\n",
    "  - Search for multiple keywords in the `subject` index\n",
    "* - `subject:(history NOT australia)`\n",
    "  - Search using boolean operators in `subject` index\n",
    "* - `subject:\"Australian history\"`\n",
    "  - Search for a phrase in the `subject` index\n",
    "```\n",
    "\n",
    "Unlike regular searches. stemming is not applied by default to index searches. If you want to use stemming, there are separate stemmed indexes for creator, subject, and title: `s_creator`, `s_subject`, and `s_title`.\n",
    "\n",
    "There's some overlap between indexes and facets. For example, there's a `format` index and a `format` facet that both let you limit your search by format. However, indexes and facets behave differently – facets expect exact matches, while indexes are much more flexible. Also, you can use the `NOT` operator with indexes to exclude particular values. For example, to exclude books from your search you could add `NOT format:Book` to your query. There's no way of doing this with facets.\n",
    "\n",
    "````{margin}\n",
    "```{seealso}\n",
    "The [Today's News Yesterday](https://glam-workbench.net/trove-newspapers/#todays-news-yesterday) notebook in the GLAM Workbench provides an example of using `date` and `firstpageseq` to get the front pages of newspapers.\n",
    "```\n",
    "````\n",
    "\n",
    "Some indexes such as `date` and `lastupdated` expect a range of dates. Depending on the index and the category, the date values are either years or complete ISO formatted datetimes. For example:\n",
    "\n",
    "```{list-table} Using the date index\n",
    ":header-rows: 1\n",
    ":name: table-date-index\n",
    "* - Query\n",
    "  - Explanation\n",
    "* - `date:[1901 TO 1904]`\n",
    "  - 1 January 1901 to 31 December 1904\n",
    "* - `date:[* TO 1904]` \t\n",
    "  - before 31 December 1904\n",
    "* - `date:[1904 TO 1904]`\n",
    "  - 1 January 1904 to 31 December 1904\n",
    "* - `date:[1942-10-31T00:00:00Z TO 1942-11-30T00:00:00Z]`\n",
    "  - 1 November 1942 to 31 November 1942 (newspapers only – dates need timezones, first date in range ignored)\n",
    "* - `date:[1942-11-09T00:00:00Z TO 1942-11-10T00:00:00Z]`\n",
    "  - 10 November 1942 (newspapers only – dates need timezones, first date in range ignored)\n",
    "```\n",
    "\n",
    "For more information see [](date-searches)"
   ]
  },
  {
   "cell_type": "markdown",
   "id": "b3da48a5-7a9d-44d3-9f82-e761f9099a8c",
   "metadata": {
    "editable": true,
    "slideshow": {
     "slide_type": ""
    },
    "tags": []
   },
   "source": [
    "(search:simple:facets)=\n",
    "## Using facets\n",
    "\n",
    "````{margin}\n",
    "```{seealso}\n",
    "The display of facets in the web interface isn't always accurate. In particular, it seems that [some `format` values are being hidden](distribution-categories-formats) to simplify the user experience.\n",
    "```\n",
    "````\n",
    "\n",
    "Facets are a set of pre-determined values you can use to set limits on your search resuls. They allow you to take slices of your results.\n",
    "\n",
    "In the web interface, facets appear as a set of check boxes next to the list of results. You just click the box next to a facet value to apply it to your search. You can only select one facet value at a time.\n",
    "\n",
    "```{figure} /images/web-facets.png\n",
    ":width: 200px\n",
    "\n",
    "Display of facets in the web interface\n",
    "```\n",
    "\n",
    "Facets vary by category, but [a complete list](https://trove.nla.gov.au/about/create-something/using-api/v3/api-technical-guide#facetValues) is available in the API technical documentation.\n",
    "\n",
    "````{margin}\n",
    "```{seealso}\n",
    "See the Newspapers and Gazettes section of the guide for [more information on using the `title` facet](newspaper-titles-aggregate-facet).\n",
    "```\n",
    "````\n",
    "\n",
    "To use facets to limit the results of your API query, you add a `l-[FACET NAME]` parameter and set to your desired value. For example, to limit a search of newspaper articles to those published in the *Sydney Morning Herald*, you add the `l-title` parameter and set it to `35` (the title identifier for the SMH).\n",
    "\n",
    "[![Try it!](https://troveconsole.herokuapp.com/static/img/try-trove-api-console.svg)](https://troveconsole.herokuapp.com/v3/?url=https%3A%2F%2Fapi.trove.nla.gov.au%2Fv3%2Fresult%3F%26category%3Dnewspaper%26encoding%3Djson%26l-title%3D35&comment=)\n",
    "\n",
    "When you use the API you can apply multiple facet values. However, facet fields don't all behave the same way when you select multiple values. In some cases, you'll get back the *sum* of the requested slices, but in most you'll only get the *intersection* of the slices.\n",
    "\n",
    "For example, if you use the `state` facet to request newspaper articles from both Victoria and NSW, you get back articles from either Victoria or NSW."
   ]
  },
  {
   "cell_type": "code",
   "execution_count": 22,
   "id": "4687db2f-bcf5-432a-a49b-7809ee028178",
   "metadata": {
    "editable": true,
    "slideshow": {
     "slide_type": ""
    },
    "tags": [
     "remove-cell"
    ]
   },
   "outputs": [],
   "source": [
    "def get_total_facets(facet=\"state\", values=[]):\n",
    "    params = {\n",
    "        \"category\": \"newspaper\",\n",
    "        \"encoding\": \"json\",\n",
    "        \"n\": 0\n",
    "    }\n",
    "    params[f\"l-{facet}\"] = values\n",
    "    headers = {\"X-API-KEY\": YOUR_API_KEY}\n",
    "    response = response = requests.get(\n",
    "            \"https://api.trove.nla.gov.au/v3/result\", params=params, headers=headers\n",
    "        )\n",
    "    data = response.json()\n",
    "    return data[\"category\"][0][\"records\"][\"total\"]"
   ]
  },
  {
   "cell_type": "code",
   "execution_count": 23,
   "id": "28d41ad8-131b-478c-a729-337396268783",
   "metadata": {
    "editable": true,
    "slideshow": {
     "slide_type": ""
    },
    "tags": [
     "remove-cell"
    ]
   },
   "outputs": [
    {
     "data": {
      "text/plain": [
       "45003638"
      ]
     },
     "metadata": {
      "scrapbook": {
       "mime_prefix": "",
       "name": "facet_state_vic"
      }
     },
     "output_type": "display_data"
    },
    {
     "data": {
      "text/plain": [
       "87719391"
      ]
     },
     "metadata": {
      "scrapbook": {
       "mime_prefix": "",
       "name": "facet_state_nsw"
      }
     },
     "output_type": "display_data"
    },
    {
     "data": {
      "text/plain": [
       "132723029"
      ]
     },
     "metadata": {
      "scrapbook": {
       "mime_prefix": "",
       "name": "facet_state_both"
      }
     },
     "output_type": "display_data"
    }
   ],
   "source": [
    "glue(\"facet_state_vic\", get_total_facets(\"state\", [\"Victoria\"]))\n",
    "glue(\"facet_state_nsw\", get_total_facets(\"state\", [\"New South Wales\"]))\n",
    "glue(\"facet_state_both\", get_total_facets(\"state\", [\"Victoria\", \"New South Wales\"]))"
   ]
  },
  {
   "cell_type": "markdown",
   "id": "8f621cb3-be9a-46f6-b86c-b01f7fa03521",
   "metadata": {
    "editable": true,
    "slideshow": {
     "slide_type": ""
    },
    "tags": []
   },
   "source": [
    "```{list-table} Results for state facet combinations\n",
    ":header-rows: 1\n",
    ":name: table-state-facet\n",
    "* - Facet\n",
    "  - Results\n",
    "* - `l-state=Victoria`\n",
    "  - {glue:text}`facet_state_vic:,`\n",
    "* - `l-state=New South Wales`\n",
    "  - {glue:text}`facet_state_nsw:,`\n",
    "* - `l-state=Victoria&l-state=New South Wales`\n",
    "  - {glue:text}`facet_state_both:,`\n",
    "\n",
    "```"
   ]
  },
  {
   "cell_type": "markdown",
   "id": "133dfe77-a514-4a4f-9217-6cecbd51f552",
   "metadata": {
    "editable": true,
    "slideshow": {
     "slide_type": ""
    },
    "tags": []
   },
   "source": [
    "On the other hand, if you use the `category` facet to request articles in the `Article` and `Advertising` category, you'll only get articles that are in both categories."
   ]
  },
  {
   "cell_type": "code",
   "execution_count": 25,
   "id": "a94d615a-3009-4ed0-8b1a-d6c401a08546",
   "metadata": {
    "editable": true,
    "slideshow": {
     "slide_type": ""
    },
    "tags": [
     "remove-cell"
    ]
   },
   "outputs": [
    {
     "data": {
      "text/plain": [
       "168423816"
      ]
     },
     "metadata": {
      "scrapbook": {
       "mime_prefix": "",
       "name": "facet_cat_article"
      }
     },
     "output_type": "display_data"
    },
    {
     "data": {
      "text/plain": [
       "45471415"
      ]
     },
     "metadata": {
      "scrapbook": {
       "mime_prefix": "",
       "name": "facet_cat_advertising"
      }
     },
     "output_type": "display_data"
    },
    {
     "data": {
      "text/plain": [
       "5756"
      ]
     },
     "metadata": {
      "scrapbook": {
       "mime_prefix": "",
       "name": "facet_cat_both"
      }
     },
     "output_type": "display_data"
    }
   ],
   "source": [
    "glue(\"facet_cat_article\", get_total_facets(\"category\", [\"Article\"]))\n",
    "glue(\"facet_cat_advertising\", get_total_facets(\"category\", [\"Advertising\"]))\n",
    "glue(\"facet_cat_both\", get_total_facets(\"category\", [\"Article\", \"Advertising\"]))"
   ]
  },
  {
   "cell_type": "markdown",
   "id": "c9adda33-24bc-4b74-b29f-f88570641861",
   "metadata": {
    "editable": true,
    "slideshow": {
     "slide_type": ""
    },
    "tags": []
   },
   "source": [
    ":::{list-table} Results for `category` facet combinations\n",
    ":header-rows: 1\n",
    ":name: table-cat-facet\n",
    "* - Facet\n",
    "  - Results\n",
    "* - `l-category=Article`\n",
    "  - {glue:text}`facet_cat_article:,`\n",
    "* - `l-category=Advertising`\n",
    "  - {glue:text}`facet_cat_advertising:,`\n",
    "* - `l-category=Article&l-category=Advertising`\n",
    "  - {glue:text}`facet_cat_both:,`\n",
    "\n",
    ":::\n",
    "\n",
    "```{admonition} User added categories\n",
    ":class: warning\n",
    "\n",
    "You might be thinking that the final result above should be zero, as newspaper articles are assigned to a single category – how can an article be in both the `Article` and `Advertising` categories? The answer is that Trove users can add extra categories to articles, and these user-added values are included in the facet counts. There doesn't seem to be any way to exclude these values, so it's something else to keep in mind if you're working with the data!\n",
    "```"
   ]
  },
  {
   "cell_type": "code",
   "execution_count": null,
   "id": "5bf31c16-a736-491c-8937-33273203285f",
   "metadata": {},
   "outputs": [],
   "source": []
  }
 ],
 "metadata": {
  "kernelspec": {
   "display_name": "Python 3 (ipykernel)",
   "language": "python",
   "name": "python3"
  },
  "language_info": {
   "codemirror_mode": {
    "name": "ipython",
    "version": 3
   },
   "file_extension": ".py",
   "mimetype": "text/x-python",
   "name": "python",
   "nbconvert_exporter": "python",
   "pygments_lexer": "ipython3",
   "version": "3.10.12"
  }
 },
 "nbformat": 4,
 "nbformat_minor": 5
}
