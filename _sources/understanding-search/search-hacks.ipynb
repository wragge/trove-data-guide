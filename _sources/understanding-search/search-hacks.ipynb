{
 "cells": [
  {
   "cell_type": "markdown",
   "id": "d75cd4f7-dc8c-4531-879f-135a08b6c9b9",
   "metadata": {},
   "source": [
    "# Search interface hacks\n",
    "\n",
    "While Trove's search application works much the same way in the web interface and the API, a couple of annoying design choices limit your options in the web interface. This page documents some workarounds.\n",
    "\n",
    "## Empty searches\n",
    "\n",
    "If you wanted to find out how many digitised newspaper articles are currently in Trove, you might try an *empty* search – a search with no keyword value. An empty search should return everything in the collection. But if you attempt this in the Trove web interface you’ll find that the search button remains disabled until you type something in the box. It just won’t let you. This limitation is imposed by the interface, not the underlying search technologies. In contrast, the API doesn't require a search query.\n",
    "\n",
    "[![Try it!](https://troveconsole.herokuapp.com/static/img/try-trove-api-console.svg)](https://troveconsole.herokuapp.com/v3/?url=https%3A%2F%2Fapi.trove.nla.gov.au%2Fv3%2Fresult%3Fcategory%3Dnewspaper%26encoding%3Djson&comment=)\n",
    "\n",
    "To run an empty search in the web interface you have to do a bit of harmless *url hacking*. Try this:\n",
    "\n",
    "* head to Trove newspapers, type anything in the search box, and hit the search button.\n",
    "* now look at the url in your browser’s location bar. You should see something like:\n",
    "    `https://trove.nla.gov.au/search/category/newspapers?keyword=anything`\n",
    "* delete everything after the equals sign, so you end up with:\n",
    "    `https://trove.nla.gov.au/search/category/newspapers?keyword=`\n",
    "* hit enter to submit the edited url\n",
    "\n",
    "You should now have more than 250 million search results. I just tried this myself and Trove told me there were 250,709,221 newspaper articles – I think [that’s everything](https://trove.nla.gov.au/search/category/newspapers?keyword=)! This simple hack will work in Trove's other categories as well – even the web archives.\n",
    "\n",
    "```{figure} /images/empty-search-web-archives.png\n",
    ":name: empty-search-web-archives\n",
    "An empty search in web archives returns more than *8.5 billion* results!  \n",
    "<https://trove.nla.gov.au/search/category/websites?keyword=>\n",
    "```\n",
    "\n",
    "## Results per page\n",
    "\n",
    "The Trove API's `n` parameter lets you specify the number of search results you want to get back from a single request. In the web interface you have no choice – you get twenty results per page. This can be frustrating if you want to quickly scan a set of search results.\n",
    "\n",
    "But once again you can work around this limit with a bit of url hacking. If you look under the hood to see what Trove does when you submit a search query, you'll see that it adds an extra `pageSize` parameter to the query before passing it to an internal API. The value of `pageSize` defaults to `20`, but if you add `&pageSize=100` to your search url, the value is passed through to the internal API and you get 100 results.\n",
    "\n",
    "Try it: <a href=\"https://trove.nla.gov.au/search/category/newspapers?keyword=wragge&pageSize=100\">https://trove.nla.gov.au/search/category/newspapers?keyword=wragge&pageSize=100</a>\n",
    "\n",
    "This works with any search. Simply add `&pageSize=[some number]` to the url to control the number of results returned."
   ]
  }
 ],
 "metadata": {
  "kernelspec": {
   "display_name": "Python 3 (ipykernel)",
   "language": "python",
   "name": "python3"
  },
  "language_info": {
   "codemirror_mode": {
    "name": "ipython",
    "version": 3
   },
   "file_extension": ".py",
   "mimetype": "text/x-python",
   "name": "python",
   "nbconvert_exporter": "python",
   "pygments_lexer": "ipython3",
   "version": "3.10.12"
  }
 },
 "nbformat": 4,
 "nbformat_minor": 5
}
