{
 "cells": [
  {
   "cell_type": "markdown",
   "id": "af1f1f9b-9f7a-4ef1-91be-cf6aa6b2fd33",
   "metadata": {
    "editable": true,
    "slideshow": {
     "slide_type": ""
    },
    "tags": []
   },
   "source": [
    "# Data access options"
   ]
  },
  {
   "cell_type": "markdown",
   "id": "693e7afa-0ef9-4d83-8372-e9ca1ed81a37",
   "metadata": {
    "editable": true,
    "slideshow": {
     "slide_type": ""
    },
    "tags": []
   },
   "source": [
    "````{margin}\n",
    "```{seealso}\n",
    "The GLAM Workbench includes a [list of GLAM data sources](https://glam-workbench.net/glam-data-list/) including many datasets harvested from Trove.\n",
    "```\n",
    "````\n",
    "\n",
    "There are many different [types of data](/what-is-trove/types-of-data) available from Trove and many different ways of accessing it. You can manually download some data, such as images, from Trove's web interface. If you're creating small, selective datasets, these manual methods might be all you need.\n",
    "\n",
    "But what if you want to save *all* the results from a search, automate downloading of images and text, or create a pipeline to feed Trove data into a specific tool for analysis? In these sorts of cases, you need access methods that are reusable and extensible – methods that can be invoked using code and that deliver data in a {term}`machine readable` format that computers can manipulate.\n",
    "\n",
    "The Trove {term}`Application Programming Interface (API)` is the main way of accessing machine-readable data using automated methods. Computer programs can request data from the API and have it delivered in a predictable, structured format. Using the API you can construct reusable data-processing workflows, and create datasets containing millions of items.\n",
    "\n",
    "However, the Trove API does have a few gaps and inconsistencies. Sometimes there's just no convenient way of getting the data you want. In these cases you might need to resort to {term}`screen scraping` – a process of extracting structured data from regular web pages. Compared to API access, screen scraping tends to be inefficient and error prone. But it's a handy technique when other methods fail. See, for example: [](/newspapers-and-gazettes/how-to/get-ocr-coordinates).\n",
    "\n",
    "It's also possible that someone might have done all the work for you! There are a number of ready-made datasets available for you to download and explore."
   ]
  },
  {
   "cell_type": "code",
   "execution_count": null,
   "id": "04b9d390-9582-425e-b1f4-a5d0c92e6100",
   "metadata": {},
   "outputs": [],
   "source": []
  }
 ],
 "metadata": {
  "kernelspec": {
   "display_name": "Python 3 (ipykernel)",
   "language": "python",
   "name": "python3"
  },
  "language_info": {
   "codemirror_mode": {
    "name": "ipython",
    "version": 3
   },
   "file_extension": ".py",
   "mimetype": "text/x-python",
   "name": "python",
   "nbconvert_exporter": "python",
   "pygments_lexer": "ipython3",
   "version": "3.10.12"
  }
 },
 "nbformat": 4,
 "nbformat_minor": 5
}
