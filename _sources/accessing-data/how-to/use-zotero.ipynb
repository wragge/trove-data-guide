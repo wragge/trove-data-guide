{
 "cells": [
  {
   "cell_type": "markdown",
   "id": "06eb3b62-5a78-46c9-b39d-63580541396c",
   "metadata": {},
   "source": [
    "# HOW TO: Use Zotero to save items"
   ]
  },
  {
   "cell_type": "markdown",
   "id": "78a48599-c684-4215-bfd9-7a596d00656b",
   "metadata": {},
   "source": [
    "```{attention}\n",
    "This guide is currently under development. For more information and discussion see [the list of issues](https://github.com/wragge/trove-data-guide/issues) on GitHub. Comments are welcome.\n",
    "```"
   ]
  },
  {
   "cell_type": "markdown",
   "id": "f9fe0279-0ce1-47d6-8d33-4f5b8d63f6dd",
   "metadata": {},
   "source": [
    "<mark>==If I rewrite the translator to use the API I can expand this section to include other content types==</mark>"
   ]
  },
  {
   "cell_type": "markdown",
   "id": "49ce73ff-e471-4eab-9186-34b54af3205a",
   "metadata": {
    "editable": true,
    "slideshow": {
     "slide_type": ""
    },
    "tags": []
   },
   "source": [
    "## Newspapers\n",
    "\n",
    "````{margin}\n",
    "```{seealso}\n",
    "The GLAM Workbench notebook [Upload Trove newspaper articles to Omeka-S](https://glam-workbench.net/trove-newspapers/#upload-trove-newspaper-articles-to-omeka-s) provides an example of how you can access newspaper article metadata saved with Zotero, or in a Trove list, add additional information, and upload the results to an Omeka exhibition.\n",
    "```\n",
    "````\n",
    "\n",
    "[Zotero](https://www.zotero.org/) includes a 'translator' for Trove that saves article metadata into your own research database. It also downloads a PDF copy of the article, and saves the OCRd text into an attached note. You can [add items](https://www.zotero.org/support/adding_items_to_zotero) by clicking on the Zotero icon in your web browser. The translator extracts metadata from the article web page and citation, rather than the Trove API.\n",
    "\n",
    "```{warning}\n",
    "It's not currently possible to save details of multiple newspaper articles from Trove's search results. This is due to changes introduced by Trove's 2020 interface update. Unfortunately, you'll need to add individual articles one by one.\n",
    "```\n",
    "\n",
    "Zotero saves the following fields for each newspaper article:\n",
    "\n",
    "```{list-table} Newspaper and gazette metadata fields extracted by Zotero\n",
    ":header-rows: 1\n",
    ":name: zotero-fields\n",
    "* - Zotero UI\n",
    "  - Zotero field\n",
    "  - Value\n",
    "* - Item Type\n",
    "  - `type`\n",
    "  - `newspaperArticle`\n",
    "* - Title\n",
    "  - `title`\n",
    "  - article heading\n",
    "* - Publication\n",
    "  - `publicationTitle`\n",
    "  - newspaper title (location and date range in brackets is removed)\n",
    "* - Date\n",
    "  - `date`\n",
    "  - publication date\n",
    "* - Place\n",
    "  - `place`\n",
    "  - publication state (extracted from newspaper title)\n",
    "* - Abstract\n",
    "  - `abstract`\n",
    "  - first four lines of text, if available (taken from `description` META tag)\n",
    "* - URL\n",
    "  - `url`\n",
    "  - `http://nla.gov.au/nla.news-article[article ID]`\n",
    "```\n",
    "\n",
    "Zotero provides many ways to [export data](https://www.zotero.org/support/kb/exporting). Once you've assembled a collection of articles you can export them in a suitable format for additional processing or analysis. Alternatively, you can use the [Zotero API](https://www.zotero.org/support/dev/web_api/v3/start) to access and manipulate the saved data. \n",
    "\n",
    "Zotero is a convenient option for creating curated datasets of digitised newspaper articles. Zotero's built-in annotation features enable you to tags and notes to further organise your collection. You can also collaborate on the selection and annotation of articles using shared groups.\n",
    "\n",
    "For example, Zotero's built-in PDF viewer enables you to select sections of newspaper articles for annotation. You could use this to manually highlight sections of interest in long newspaper articles. The annotations and cropped images could then be retrieved from the Zotero API to create your own custom dataset. See [](/newspapers-and-gazettes/how-to/create-newspaper-articles-dataset) for further ideas."
   ]
  },
  {
   "cell_type": "code",
   "execution_count": null,
   "id": "6ce6d23d-502c-4418-aa60-da85cb406fe5",
   "metadata": {},
   "outputs": [],
   "source": []
  }
 ],
 "metadata": {
  "kernelspec": {
   "display_name": "Python 3 (ipykernel)",
   "language": "python",
   "name": "python3"
  },
  "language_info": {
   "codemirror_mode": {
    "name": "ipython",
    "version": 3
   },
   "file_extension": ".py",
   "mimetype": "text/x-python",
   "name": "python",
   "nbconvert_exporter": "python",
   "pygments_lexer": "ipython3",
   "version": "3.8.12"
  }
 },
 "nbformat": 4,
 "nbformat_minor": 5
}
