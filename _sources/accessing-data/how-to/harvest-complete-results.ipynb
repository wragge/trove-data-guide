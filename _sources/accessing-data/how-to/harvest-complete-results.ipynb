{
 "cells": [
  {
   "cell_type": "markdown",
   "id": "997fc7c5-5ff7-4a34-bedb-3e63e6af4feb",
   "metadata": {
    "editable": true,
    "slideshow": {
     "slide_type": ""
    },
    "tags": []
   },
   "source": [
    "# HOW TO: Harvest a complete set of search results using the Trove API"
   ]
  },
  {
   "cell_type": "markdown",
   "id": "5fab9acf-b9cd-4d1c-984f-86f37774db34",
   "metadata": {
    "editable": true,
    "slideshow": {
     "slide_type": ""
    },
    "tags": []
   },
   "source": [
    "```{attention}\n",
    "This guide is currently under development. For more information and discussion see [the list of issues](https://github.com/wragge/trove-data-guide/issues) on GitHub. Comments are welcome.\n",
    "```"
   ]
  },
  {
   "cell_type": "markdown",
   "id": "464792a1-7dbe-4400-b4f3-48a385d9efd0",
   "metadata": {},
   "source": [
    "See {doc}`/accessing-data/trove-api-intro` for general information about using the Trove API."
   ]
  },
  {
   "cell_type": "code",
   "execution_count": null,
   "id": "b0208f47-b5ed-4049-85fb-1eb65cca0012",
   "metadata": {
    "editable": true,
    "slideshow": {
     "slide_type": ""
    },
    "tags": [
     "remove-cell"
    ]
   },
   "outputs": [],
   "source": [
    "import os\n",
    "\n",
    "import requests\n",
    "from dotenv import load_dotenv\n",
    "\n",
    "load_dotenv()\n",
    "API_KEY = os.getenv(\"TROVE_API_KEY\")"
   ]
  },
  {
   "cell_type": "markdown",
   "id": "f293cf93-8efa-496b-9425-3e3b471c193d",
   "metadata": {},
   "source": [
    "````{margin}\n",
    "```{admonition} Do you need to DIY?\n",
    ":class: seealso\n",
    "\n",
    "You might not need to write your own harvesting code. If you want to harvest metadata, text, and images from the digitised newspapers, you can use the [Trove Newspaper & Gazette Harvester](https://wragge.github.io/trove-newspaper-harvester/) instead.\n",
    "\n",
    "If your search has less than one million results and you only want the basic metadata, you can use Trove's built-in [bulk export](bulk-export) option.\n",
    "```\n",
    "````\n",
    "\n",
    "A common task you might want to undertake using the Trove API is to harvest a complete set of search results. This page explains what you need to know to undertake such a harvest, and provides some sample code."
   ]
  },
  {
   "cell_type": "markdown",
   "id": "a8adccfe-9aaa-48cb-a3ea-ee7fff83bf70",
   "metadata": {},
   "source": [
    "## Using the `bulkHarvest` parameter\n",
    "\n",
    "If you're harvesting a large result set you need to set the `bulkHarvest` parameter to `true`. Why? By default, Trove returns search results in relevance order. However, assigning consistent relevance scores is tricky in massive collections like Trove, and the scores of individual records can vary between API requests. This means that if you harvest results in relevance order you can sometimes get duplicate records, or miss records completely. Setting `bulkHarvest=true` sorts records by their identifiers, rather than their relevance. This ensures that you get everything."
   ]
  },
  {
   "cell_type": "markdown",
   "id": "f7cffece-6b39-412d-a661-b3bc68f9f576",
   "metadata": {},
   "source": [
    "## Understanding pagination\n",
    "\n",
    "To harvest a large set of results you need to break it up into manageable chunks – requesting and downloading each chunk in turn. This is known as pagination. There are a couple of query parameters and results fields you need to understand to control the pagination process.\n",
    "\n",
    "You can set the number of results in each chunk using the `n` parameter. The default is only `20`, so you probably want to increase that to `100` (the maximum allowed).\n",
    "\n",
    "After you've harvested a chunk of results, your next API request needs to tell Trove *where you are* in the results set. Trove has no memory of your harvest. If you don't tell it where to start from, you'll get the same chunk over and over again. You can set the starting point using the `s` parameter, but what value do you give it?\n",
    "\n",
    "Search results from the Trove API include a field labelled `nextStart`. These values look like a random collection of letters, numbers, and punctuation, but they are actually tokens that pinpoint your current position within a set of results. To retrieve the next chunk of results from the API, you assign the `nextStart` value from the current chunk to the `s` parameter of your next request. Of course, you'll have no `nextStart` value when you make your first request, so just set `s` to `*` (an asterisk).\n",
    "\n",
    "For example, your first request sets `s` to `*`:\n",
    "\n",
    "```\n",
    "https://api.trove.nla.gov.au/v3/result?q=wragge&category=newspaper&encoding=json&bulkHarvest=true&n=100&s=*\n",
    "```\n",
    "\n",
    "The API response includes a `nextStart` value:\n",
    "\n",
    "```json\n",
    "\"nextStart\": \"AoEpMTAwMjY2NzIx\"\n",
    "```\n",
    "\n",
    "Next request sets `s` to the value of `nextStart`:\n",
    "\n",
    "```\n",
    "https://api.trove.nla.gov.au/v3/result?q=wragge&category=newspaper&encoding=json&bulkHarvest=true&n=100&s=AoEpMTAwMjY2NzIx\n",
    "```\n",
    "\n",
    "And so on until you reach the end of the dataset. You'll know you've reached the end when there's no `nextStart` value in the API response."
   ]
  },
  {
   "cell_type": "markdown",
   "id": "7b187759-d15c-42ba-b0c2-63a095291c93",
   "metadata": {},
   "source": [
    "## Managing categories\n",
    "\n",
    "Because of the complexities of sorting and pagination, you're limited in your ability to harvest records from multiple categories – either you select a *single* category, or you get *every* category by setting the `category` parameter to `all`. If you use the `all` option, your results can include a mix of different record types, as different categories use different formats. The record types, grouped by category, are:\n",
    "\n",
    "- `article` – Newspapers & gazettes\n",
    "- `work` – Books & libraries; Magazines & newsletters; Images, maps & artefacts; Research & reports; Diaries, letters & archives; Music, audio & video\n",
    "- `people` – People & organisations\n",
    "- `list` – Lists\n",
    "\n",
    "You'll need to take these differences into account as you process the results."
   ]
  },
  {
   "cell_type": "markdown",
   "id": "92654f04-2fd7-46c0-bc52-bd0cc3aa478d",
   "metadata": {},
   "source": [
    "## Handling results\n",
    "\n",
    "If your aim is to download a complete set of search results, then obviously you need to have some way of saving the responses you get back from the Trove API! How you do this depends on the data you actually want and the form you want it in. For example, if you only wanted to save the titles and dates of newspaper articles, you might just extract them from the JSON responses and save them in a CSV file. There are many possibilities!\n",
    "\n",
    "The examples below will save the complete JSON item records in a [newline delimited JSON file (NDJSON)](http://ndjson.org/). As the name suggests, NDJSON files have one JSON object per line. It's a convenient and scalable method, as you can simply add each new record to the end of an existing file. You can decide later on what fields you want to extract from the JSON, or simply load the whole dataset into a tool like Pandas."
   ]
  },
  {
   "cell_type": "markdown",
   "id": "1f24a102-3774-4de4-a821-9a4644ec15b6",
   "metadata": {},
   "source": [
    "## Harvesting from a single category\n",
    "\n",
    "This example harvests all records containing the term 'wragge' from the `magazine` category and saves the results in a file called `results.ndjson`.\n",
    "\n",
    "````{margin}\n",
    "```{seealso}\n",
    "You can find variations on this approach throughout the Trove sections of the [GLAM Workbench](https://glam-workbench.net/). For example [Harvest summary data from Trove lists](https://glam-workbench.net/trove-lists/harvest-summary-data-from-lists/) and [Exploring digitised maps in Trove](https://glam-workbench.net/trove-maps/exploring-digitised-maps/).\n",
    "```\n",
    "````"
   ]
  },
  {
   "cell_type": "markdown",
   "id": "78e0399c-dfb1-44ee-afdb-7b03493cea99",
   "metadata": {},
   "source": [
    "```python\n",
    "import json\n",
    "from pathlib import Path\n",
    "\n",
    "import requests\n",
    "\n",
    "# Set the query parameters\n",
    "params = {\n",
    "    \"q\": \"wragge\",\n",
    "    \"category\": \"magazine\",\n",
    "    \"encoding\": \"json\",\n",
    "    \"bulkHarvest\": \"true\",\n",
    "    \"n\": 100,\n",
    "}\n",
    "\n",
    "# Add your api key to the request headers\n",
    "headers = {\"X-API-KEY\": API_KEY}\n",
    "\n",
    "# Default `s` value\n",
    "start = \"*\"\n",
    "\n",
    "# Open a ndjson file to write the results to\n",
    "with Path(\"results.ndjson\").open(\"a\") as ndjson_file:\n",
    "    # Continue until there is no `nextStart` value\n",
    "    while start:\n",
    "        # Set `s` value\n",
    "        params[\"s\"] = start\n",
    "\n",
    "        # Make the API request\n",
    "        response = requests.get(\n",
    "            \"https://api.trove.nla.gov.au/v3/result\", params=params, headers=headers\n",
    "        )\n",
    "\n",
    "        # Extract JSON from API response\n",
    "        data = response.json()\n",
    "\n",
    "        # Get the list of records\n",
    "        # Using `get` with [] default here because there is currently an API bug,\n",
    "        # which can return empty results sets\n",
    "        records = data[\"category\"][0][\"records\"].get(\"work\", [])\n",
    "\n",
    "        # Loop through the records, writing them to the NDJSON file\n",
    "        for record in records:\n",
    "            ndjson_file.write(f\"{json.dumps(record)}\\n\")\n",
    "\n",
    "        # Try to get the `nextStart` value\n",
    "        try:\n",
    "            start = data[\"category\"][0][\"records\"][\"nextStart\"]\n",
    "\n",
    "            # If there's no `nextStart` value the harvest is finished\n",
    "        except KeyError:\n",
    "            start = None\n",
    "```"
   ]
  },
  {
   "cell_type": "markdown",
   "id": "3f89de06-f2b5-4aa3-b9cb-120f6288ed4f",
   "metadata": {},
   "source": [
    "## Harvesting from all categories\n",
    "\n",
    "This example sets the `category` parameter to `all` to harvest search results from *every* category (except web archives). Different categories deliver their results in different formats, so either you try to normalise these into some standard structure, or you save them into separate files. This example creates a separate NDJSON results file for each of these record types in the search results."
   ]
  },
  {
   "cell_type": "markdown",
   "id": "21d440eb-f74a-4b45-812e-8a135aa9c38c",
   "metadata": {},
   "source": [
    "```python\n",
    "import json\n",
    "from pathlib import Path\n",
    "\n",
    "import requests\n",
    "\n",
    "# Set the query parameters\n",
    "params = {\n",
    "    \"q\": '\"clement wragge\"',\n",
    "    \"category\": \"all\",\n",
    "    \"encoding\": \"json\",\n",
    "    \"bulkHarvest\": \"true\",\n",
    "    \"n\": 100,\n",
    "}\n",
    "\n",
    "# Add your api key to the request headers\n",
    "headers = {\"X-API-KEY\": API_KEY}\n",
    "\n",
    "# Default `s` value\n",
    "start = \"*\"\n",
    "\n",
    "# Continue until there is no `nextStart` value\n",
    "while start:\n",
    "    # Set `s` value\n",
    "    params[\"s\"] = start\n",
    "\n",
    "    # Make the API request\n",
    "    response = requests.get(\n",
    "        \"https://api.trove.nla.gov.au/v3/result\", params=params, headers=headers\n",
    "    )\n",
    "\n",
    "    # Extract JSON from API response\n",
    "    data = response.json()\n",
    "\n",
    "    # All of the different record types are grouped together under 'item'\n",
    "    # Using `get` with [] default here because there is currently an API bug,\n",
    "    # which can return empty results sets\n",
    "    results = data[\"category\"][0][\"records\"].get(\"item\", [])\n",
    "\n",
    "    # Loop through the item results\n",
    "    for result in results:\n",
    "        \n",
    "        # Each result is an object (dict) with the record_type as the key\n",
    "        # and the record data as the value.\n",
    "        for record_type, record in result.items():\n",
    "            \n",
    "            # Append each record to a file according to the record type\n",
    "            with Path(f\"results-{record_type}.ndjson\").open(\"a\") as ndjson_file:\n",
    "                ndjson_file.write(f\"{json.dumps(record)}\\n\")\n",
    "\n",
    "    # Try to get the `nextStart` value\n",
    "    try:\n",
    "        start = data[\"category\"][0][\"records\"][\"nextStart\"]\n",
    "\n",
    "        # If there's no `nextStart` value the harvest is finished\n",
    "    except KeyError:\n",
    "        start = None\n",
    "```"
   ]
  },
  {
   "cell_type": "code",
   "execution_count": null,
   "id": "33925150-0e5e-40ac-96d7-8e32cfaae35f",
   "metadata": {},
   "outputs": [],
   "source": []
  }
 ],
 "metadata": {
  "kernelspec": {
   "display_name": "Python 3 (ipykernel)",
   "language": "python",
   "name": "python3"
  },
  "language_info": {
   "codemirror_mode": {
    "name": "ipython",
    "version": 3
   },
   "file_extension": ".py",
   "mimetype": "text/x-python",
   "name": "python",
   "nbconvert_exporter": "python",
   "pygments_lexer": "ipython3",
   "version": "3.8.12"
  }
 },
 "nbformat": 4,
 "nbformat_minor": 5
}
