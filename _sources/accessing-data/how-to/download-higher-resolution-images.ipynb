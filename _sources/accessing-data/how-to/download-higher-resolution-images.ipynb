{
 "cells": [
  {
   "cell_type": "markdown",
   "id": "c6fbcf70-dc3c-4c54-ad7f-8a432ab5b416",
   "metadata": {
    "editable": true,
    "slideshow": {
     "slide_type": ""
    },
    "tags": []
   },
   "source": [
    "# HOW TO: Download higher resolution versions of images from the web interface\n",
    "\n",
    "````{card}\n",
    "On this page\n",
    "\n",
    "```{contents}\n",
    ":local:\n",
    ":backlinks: None\n",
    "```\n",
    "````"
   ]
  },
  {
   "cell_type": "markdown",
   "id": "b986ffc5-7937-49b5-97a2-92a2c21bada9",
   "metadata": {},
   "source": [
    "One confusing, and often frustrating, aspect of [image downloads via the Trove web interface](downloading-images-web-interface) is their resolution. You can use the Trove image viewer to zoom right in to many photographs and manuscripts, enabling you to pick up fine details. But if you download the same image you could find the resolution is much lower. This means you're limited in how you can use the downloaded image. The available resolutions vary across categories and formats, and you really don't know what you'll get until you download it. Many manuscripts, in particular, seem to have low-resolution downloads, which doesn't help you much when you're trying to decipher someone's handwriting!\n",
    "\n",
    "Here's a couple of ways to get higher resolution versions."
   ]
  },
  {
   "cell_type": "markdown",
   "id": "6f2f200e-e2f6-42ca-a7a1-85872cb14adf",
   "metadata": {
    "editable": true,
    "slideshow": {
     "slide_type": ""
    },
    "tags": []
   },
   "source": [
    "## Use Dezoomify\n",
    "\n",
    "[Dezoomify](https://dezoomify.ophir.dev/) is a really handy tool for downloading high resolution images from sites that provide 'deep zoom' image viewers. Deezoomify finds and downloads the highest available resolution from the image viewer, bypassing the download option (if there is one). Just cut and paste the url of the Trove image viewer into Dezoomify and click the button.\n",
    "\n",
    "```{figure} ../../images/dezoomify.png\n",
    ":name: dezoomify\n",
    ":width: 500\n",
    "Just paste a Trove url into the box and click the button to download the image.\n",
    "```\n",
    "\n",
    "Dezoomify works with many GLAM collections, not just Trove, so it's a useful addition to your digital research toolbox."
   ]
  },
  {
   "cell_type": "markdown",
   "id": "d672f952-aa0f-4c88-8ad1-621f898080c9",
   "metadata": {
    "editable": true,
    "slideshow": {
     "slide_type": ""
    },
    "tags": []
   },
   "source": [
    "(accessing-data:howto:highres:urls)=\n",
    "## URL hacking\n",
    "\n",
    "There's an even easier way of getting high-resolution images from the web interface. All that's needed is a little {term}`url hacking`. Here's a link to a page in one of Alfred Deakin's diaries: \n",
    "\n",
    "<https://nla.gov.au/nla.obj-226267069/view>\n",
    "\n",
    "Notice, in particular, the `view` at the end of the url. What happens when we change `view` to `image`? Try it!\n",
    "\n",
    "<https://nla.gov.au/nla.obj-226267069/image>\n",
    "\n",
    "The modified url loads the image in your browser. To save it, just right click on the image and select 'Save image as...' from the menu.\n",
    "\n",
    "But what resolution is the saved image? Let's compare. I downloaded the same page using the 'Download' tab in the Trove image viewer. The resolution was 1000 × 1598 pixels. The version saved using the hacked url is 1896 × 3029 pixels – almost double the size.\n",
    "\n",
    "This hack works in digitised books and journals, as well as images and manuscripts. You probably won't gain a higher resolution, as book and journal downloads already seem to provide images as their maximum size, but it's still a handy little hack.\n",
    "\n",
    "The urls created by Trove's books and journals viewer are a bit more complicated. If you're browsing through a book the url might look something like this: \n",
    "\n",
    "`https://nla.gov.au/nla.obj-2921071294/view?partId=nla.obj-2921076647#page/n8/mode/1up` \n",
    "\n",
    "Note that this url contains two NLA identifiers:\n",
    "\n",
    "- `nla.obj-2921071294` is the identifier of the work (in this case an almanac)\n",
    "- `nla.obj-2921076647` is the identifier of the page you're currently viewing\n",
    "\n",
    "It's the page identifier you need to get the image. Using it, construct a url that looks like this:\n",
    "\n",
    "<https://nla.gov.au/nla.obj-2921076647/image>\n",
    "\n",
    "Alternatively, you can click on the 'Cite' tab of the book viewer. Select 'Image' and you'll see the image identifier for the current page. Just add `/image` to the end of the image identifier to create the download link.\n",
    "\n",
    "```{figure} ../../images/cite-tab-image-identifier.png\n",
    ":name: cite-tab-image-id\n",
    ":width: 300\n",
    "Get the image identifier from the 'Cite' tab\n",
    "```"
   ]
  },
  {
   "cell_type": "markdown",
   "id": "aff42923-4b37-4b04-9383-efab1cc66e25",
   "metadata": {
    "editable": true,
    "slideshow": {
     "slide_type": ""
    },
    "tags": []
   },
   "source": [
    "## Other possibilities\n",
    "\n",
    "Here I've focused on methods you can use within your web browser to download a single image at high resolution. But what if you want all the covers of a journal, or all the documents in a manuscript collection? There's more information on automating the download of images from newspaper [articles](articles-as-images) and [pages](page-images-and-pdfs), as well as [images from other digitised resources](digitised:accessing-data:images)."
   ]
  },
  {
   "cell_type": "code",
   "execution_count": null,
   "id": "17108364-9ba0-4337-ba3c-2d5848722f2b",
   "metadata": {},
   "outputs": [],
   "source": []
  }
 ],
 "metadata": {
  "kernelspec": {
   "display_name": "Python 3 (ipykernel)",
   "language": "python",
   "name": "python3"
  },
  "language_info": {
   "codemirror_mode": {
    "name": "ipython",
    "version": 3
   },
   "file_extension": ".py",
   "mimetype": "text/x-python",
   "name": "python",
   "nbconvert_exporter": "python",
   "pygments_lexer": "ipython3",
   "version": "3.10.12"
  }
 },
 "nbformat": 4,
 "nbformat_minor": 5
}
