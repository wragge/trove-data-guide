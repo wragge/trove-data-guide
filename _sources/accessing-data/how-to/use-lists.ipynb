{
 "cells": [
  {
   "cell_type": "markdown",
   "id": "65a802a9-873e-40ac-aed4-bfae0b741781",
   "metadata": {},
   "source": [
    "# HOW TO: Use Trove lists to create a dataset"
   ]
  },
  {
   "cell_type": "markdown",
   "id": "cd6608f5-077f-4b0b-a47f-e2bfbd05df7c",
   "metadata": {},
   "source": [
    "```{attention}\n",
    "This guide is currently under development. For more information and discussion see [the list of issues](https://github.com/wragge/trove-data-guide/issues) on GitHub. Comments are welcome.\n",
    "```"
   ]
  },
  {
   "cell_type": "markdown",
   "id": "1de9b6c6-2bb5-4145-8495-bd553ffa8b94",
   "metadata": {},
   "source": [
    "````{margin}\n",
    "```{seealso}\n",
    "The GLAM Workbench notebook [Convert a Trove list into a CSV file](https://glam-workbench.net/trove-lists/convert-a-trove-list-into-a-csv-file/) shows you how to save the full details of newspaper articles in a Trove list as a CSV file. You can also save the articles as PDFs and images, and download the OCRd text.\n",
    "```\n",
    "````\n",
    "Another option for creating collections of manually selected newspaper article metadata is Trove's built-in Lists function. \n",
    "\n",
    "<mark>==Note about adding mutliple items to Lists. Hacking the url to get more==</mark>\n",
    "\n",
    "See the [Trove Lists](/user-generated-data/trove-lists) section for information on saving lists metadata."
   ]
  },
  {
   "cell_type": "code",
   "execution_count": null,
   "id": "001db684-bf13-4d2c-9fd4-2a6843ee7366",
   "metadata": {},
   "outputs": [],
   "source": []
  }
 ],
 "metadata": {
  "kernelspec": {
   "display_name": "Python 3 (ipykernel)",
   "language": "python",
   "name": "python3"
  },
  "language_info": {
   "codemirror_mode": {
    "name": "ipython",
    "version": 3
   },
   "file_extension": ".py",
   "mimetype": "text/x-python",
   "name": "python",
   "nbconvert_exporter": "python",
   "pygments_lexer": "ipython3",
   "version": "3.8.12"
  }
 },
 "nbformat": 4,
 "nbformat_minor": 5
}
