{
 "cells": [
  {
   "cell_type": "markdown",
   "id": "2a4c6170-d0d6-4ab9-b81c-3e216618d82f",
   "metadata": {},
   "source": [
    "# Downloadable datasets"
   ]
  },
  {
   "cell_type": "markdown",
   "id": "4ab143da-c9aa-4b2f-a214-8a97045436d2",
   "metadata": {
    "editable": true,
    "slideshow": {
     "slide_type": ""
    },
    "tags": []
   },
   "source": [
    "```{attention}\n",
    "This guide is currently under development. For more information and discussion see [the list of issues](https://github.com/wragge/trove-data-guide/issues) on GitHub. Comments are welcome.\n",
    "```"
   ]
  },
  {
   "cell_type": "markdown",
   "id": "2e5ea16e-d014-475c-a28f-3c909a6b3ed6",
   "metadata": {},
   "source": [
    "- [Government Gazette downloads](https://trove.nla.gov.au/about/create-something/bulk-download-gazettes/australian-government-gazettes-1832-1968)\n",
    "- [Sources of Australian GLAM data](https://glam-workbench.net/glam-data-list/)"
   ]
  },
  {
   "cell_type": "code",
   "execution_count": null,
   "id": "38cea377-f7fc-4d82-b2f7-2b9d6ca13dac",
   "metadata": {},
   "outputs": [],
   "source": []
  }
 ],
 "metadata": {
  "kernelspec": {
   "display_name": "Python 3 (ipykernel)",
   "language": "python",
   "name": "python3"
  },
  "language_info": {
   "codemirror_mode": {
    "name": "ipython",
    "version": 3
   },
   "file_extension": ".py",
   "mimetype": "text/x-python",
   "name": "python",
   "nbconvert_exporter": "python",
   "pygments_lexer": "ipython3",
   "version": "3.8.12"
  }
 },
 "nbformat": 4,
 "nbformat_minor": 5
}
