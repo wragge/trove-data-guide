{
 "cells": [
  {
   "cell_type": "markdown",
   "id": "f2e3e056-bb2d-4a56-b49f-9ad8d9c7d06a",
   "metadata": {
    "editable": true,
    "slideshow": {
     "slide_type": ""
    },
    "tags": []
   },
   "source": [
    "# Trove API introduction\n",
    "\n",
    "Use the Trove Application Programming Interface (API) to get direct access to Trove data. Just make a request  and get back data in a predictable, structured format that computers can understand."
   ]
  },
  {
   "cell_type": "code",
   "execution_count": 4,
   "id": "428b3662-b31b-4469-8637-de52778bf0c6",
   "metadata": {
    "editable": true,
    "slideshow": {
     "slide_type": ""
    },
    "tags": [
     "remove-cell"
    ]
   },
   "outputs": [],
   "source": [
    "import os\n",
    "\n",
    "import requests\n",
    "from dotenv import load_dotenv\n",
    "\n",
    "load_dotenv()\n",
    "API_KEY = os.getenv(\"TROVE_API_KEY\")"
   ]
  },
  {
   "cell_type": "markdown",
   "id": "bb3bbb3e-ed6d-4964-8d03-3961040a52c9",
   "metadata": {
    "editable": true,
    "slideshow": {
     "slide_type": ""
    },
    "tags": []
   },
   "source": [
    "## Why use the API?\n",
    "\n",
    "````{margin}\n",
    "```{admonition} 19 million records later\n",
    ":class: seealso\n",
    "\n",
    "Trove's API makes it possible for you to compile *big* datasets. [This project](https://updates.timsherratt.org/2023/08/08/exploring-the-front.html) downloaded metadata from 19 million articles to explore the way newspaper front pages changed over time.\n",
    "```\n",
    "````\n",
    "\n",
    "The API is not the only way of getting data from Trove, but it's the most flexible, reliable and scalable. You can give it a search query and work your way through the complete set of results, downloading *every* record. By comparison, the Trove web interface displays a maximum of 2,000 results, and even the Bulk Export feature is limited to one million.\n",
    "\n",
    "The data you get back from the API is in a structured form that can be read and manipulated by computers. This means you can take advantage of a wide range of existing tools and libraries to build reusable pipelines for data analysis and visualisation.\n",
    "\n",
    "You can use the Trove API to:\n",
    "\n",
    "- create datasets containing metadata and text\n",
    "- build new applications to visualise, analyse, or annotate Trove data\n",
    "- integrate Trove data into existing tools or interfaces\n",
    "\n",
    "The Trove API allows you to:\n",
    "\n",
    "- download a complete set of search results (no matter the size)\n",
    "- control the amount and type of metadata retrieved, including user annotations\n",
    "- download the full text content of many digitised resources\n",
    "\n",
    "Limitations:\n",
    "\n",
    "- no direct, or consistent, method for requesting images"
   ]
  },
  {
   "cell_type": "markdown",
   "id": "d7fcdd23-c4b2-4ccf-9dda-6d9500bb165e",
   "metadata": {
    "editable": true,
    "slideshow": {
     "slide_type": ""
    },
    "tags": []
   },
   "source": [
    "## API requests, endpoints, and responses\n",
    "\n",
    "````{margin}\n",
    "```{seealso}\n",
    "The [Trove API console](https://troveconsole.herokuapp.com/v3/) provides examples of many different API requests. You can click on the links to view responses, and modify the queries to see what happens! It's a great way to learn what's possible.\n",
    "\n",
    "For a more structured approach to building an API request you can try [Trove's API v3 interface](https://api.trove.nla.gov.au/v3/index.html), though it can be a bit intimidating for new users.\n",
    "```\n",
    "````\n",
    "\n",
    "API documentation typically includes references to things like *requests*, *endpoints*, and *responses*. Put simply, **requests** are the questions you ask; **endpoints** are the addresses you send your questions to; and **responses** are the answers you get back.\n",
    "\n",
    "API **requests** are just normal urls. They encode your questions using query parameters. For example, the Trove API uses the `q` parameter for search terms, so including `q=wragge` in your API request will ask Trove to search for resources that include the word 'wragge'.\n",
    "\n",
    "There are three main types of data you can request from the Trove API:\n",
    "\n",
    "- search results – a list of results matching a supplied search query\n",
    "- individual records – a single record retrieved using a unique identifier\n",
    "- lists of records – a list of system-controlled values, such as newspaper titles or Trove contributors\n",
    "\n",
    "Each type of data has its own address, or **endpoint**, that you need to include in the request url so that your parameters get sent to the right place. The addresses all share the same base url (the `v3` at the end is the current version of the Trove API):\n",
    "\n",
    "```\n",
    "https://api.trove.nla.gov.au/v3\n",
    "```\n",
    "\n",
    "You can ask for a search using the `/result` endpoint, so you just add `/result` to the base url:\n",
    "\n",
    "```\n",
    "https://api.trove.nla.gov.au/v3/result\n",
    "```\n",
    "\n",
    "You separate the endpoint from your query using a `?`, so to search for articles including the word 'wragge' in the `newspaper` category you'd use a url like this (click the link to view the results):\n",
    "\n",
    "<https://api.trove.nla.gov.au/v3/result?q=wragge&category=newspaper>\n",
    "\n",
    "```{note}\n",
    "Most of the time you'll be using a software library like [Python Requests](https://requests.readthedocs.io/en/latest/) to construct your API requests, so you don't need to worry about manually formatting the url.\n",
    "```\n",
    "\n",
    "API **responses** are highly structured pieces of text with clearly identified labels and values. Don't be intimidated – they're intended to be read by computers rather than humans! The Trove API provides a choice of two response formats: XML and JSON. Both formats include the same data, but while XML uses lots of angle brackets to identify data fields, JSON uses a combination of curly and square brackets, colons and commas. Here's a newspaper article in XML:\n",
    "\n",
    "```xml\n",
    "<article id=\"61389505\" url=\"https://api.trove.nla.gov.au/v3/newspaper/61389505\">\n",
    "    <heading>MR. WRAGGE'S \"WRAGGE.\"</heading>\n",
    "    <category>Article</category>\n",
    "    <title id=\"64\">\n",
    "        <title>\n",
    "        Clarence and Richmond Examiner (Grafton, NSW : 1889 - 1915)\n",
    "        </title>\n",
    "    </title>\n",
    "    <date>1902-07-15</date>\n",
    "    <page>4</page>\n",
    "    <pageSequence>4</pageSequence>\n",
    "    <relevance score=\"280.02325439453125\">\n",
    "        <value>very relevant</value>\n",
    "    </relevance>\n",
    "    <snippet>\n",
    "        Mr. Wragge is going to issue a \"Wragge.\" This is the title of his paper to be, as Mr. Wragge, having weathered Sproule, Drake and other extraordinarily named storms on\n",
    "    </snippet>\n",
    "    <troveUrl>\n",
    "        https://.nla.gov.au/nla.news-article61389505?searchTerm=wragge\n",
    "    </troveUrl>\n",
    "</article>\n",
    "```\n",
    "\n",
    "And in JSON:\n",
    "\n",
    "```json\n",
    "{\n",
    "    \"id\" : \"61389505\",\n",
    "    \"url\" : \"https://api.trove.nla.gov.au/v3/newspaper/61389505\",\n",
    "    \"heading\" : \"MR. WRAGGE'S \\\"WRAGGE.\\\"\",\n",
    "    \"category\" : \"Article\",\n",
    "    \"title\" : {\n",
    "      \"id\" : \"64\",\n",
    "      \"title\" : \"Clarence and Richmond Examiner (Grafton, NSW : 1889 - 1915)\"\n",
    "    },\n",
    "    \"date\" : \"1902-07-15\",\n",
    "    \"page\" : \"4\",\n",
    "    \"pageSequence\" : \"4\",\n",
    "    \"relevance\" : {\n",
    "      \"score\" : 280.02325439453125,\n",
    "      \"value\" : \"very relevant\"\n",
    "    },\n",
    "    \"snippet\" : \"Mr. Wragge is going to issue a \\\"Wragge.\\\" This is the title of his paper to be, as Mr. Wragge, having weathered Sproule, Drake and other extraordinarily named storms on\",\n",
    "    \"troveUrl\" : \"https://.nla.gov.au/nla.news-article61389505?searchTerm=wragge\"\n",
    "}\n",
    "```\n",
    "\n",
    "Nowadays, JSON is more widely used for moving data around, so the examples in this guide all use JSON. You can tell the Trove API which format you'd like by adding the `encoding` parameter to your request:\n",
    "\n",
    "<https://api.trove.nla.gov.au/v3/result?q=wragge&category=newspaper&encoding=json>\n",
    "\n",
    "```{note}\n",
    "The default encoding format is XML, so if you don't specify `json` you'll get XML!\n",
    "```\n",
    "\n",
    "The actual data fields contained within an API response vary according to your query and the endpoint used. Specific types of responses are discussed further below."
   ]
  },
  {
   "cell_type": "markdown",
   "id": "30a6ebf4-f5d1-4a6a-b332-dbbe3a10af13",
   "metadata": {},
   "source": [
    "## Authorising your requests with an API key\n",
    "\n",
    "The Trove API lets you make a limited number of requests without any authorisation. This is handy for quick testing or experimentation, but for most uses you'll need to authorise your requests with an API key. Trove API keys are free and, for non-commercial uses, can be [obtained instantly](https://trove.nla.gov.au/about/create-something/using-api).\n",
    "\n",
    "There are two ways of adding your key to an API request:\n",
    "\n",
    "- using the `key` parameter\n",
    "- adding it to your request's header values\n",
    "\n",
    "Using the `key` parameter is easy, but can be insecure. If your key was `mySeCReTkEy`, your request url would look like this:\n",
    "\n",
    "```\n",
    "https://api.trove.nla.gov.au/v3/result?q=wragge&category=newspaper&encoding=json&key=mySeCReTkEy\n",
    "```\n",
    "\n",
    "A more secure and future-proof method is adding the key to the `X-API-KEY` field in your request's headers. If you're using a library like Python Requests to access the API, it's easy to set header values. See below for a full example."
   ]
  },
  {
   "cell_type": "markdown",
   "id": "3b3524de-b951-4145-b943-a6869086003e",
   "metadata": {},
   "source": [
    "## A simple API request\n",
    "\n",
    "````{margin}\n",
    "```{seealso}\n",
    "See the [Trove API Introduction](https://glam-workbench.net/trove/) section of the GLAM Workbench for more examples you can run live and experiment with.\n",
    "```\n",
    "````\n",
    "\n",
    "Here's an example of making a simple API request using the Python Requests library. You see many examples like this throughout this guide:\n",
    "\n",
    "- import the Requests library\n",
    "- define your query parameters\n",
    "- add your API key to the request headers\n",
    "- make the request"
   ]
  },
  {
   "cell_type": "code",
   "execution_count": 6,
   "id": "213f19e9-53a3-45ed-9e7b-5c2ec674b0cb",
   "metadata": {},
   "outputs": [],
   "source": [
    "# Import the Requests library\n",
    "import requests\n",
    "\n",
    "# Define the query parameters\n",
    "params = {\"q\": \"wragge\", \"category\": \"newspaper\", \"encoding\": \"json\"}\n",
    "\n",
    "# Add your key to the request headers like this\n",
    "# headers = {\"X-API-KEY\": \"mySeCReTkEy\"}\n",
    "# Here I'm using a real key that I've already imported as `API_KEY`\n",
    "headers = {\"X-API-KEY\": API_KEY}\n",
    "\n",
    "# Make the request using the endpoint, parameters, and headers,\n",
    "# saving the response as `response`\n",
    "response = requests.get(\n",
    "    \"https://api.trove.nla.gov.au/v3/result\", params=params, headers=headers\n",
    ")"
   ]
  },
  {
   "cell_type": "markdown",
   "id": "eadcade6-96be-4ba1-b257-9143600fe772",
   "metadata": {},
   "source": [
    "The `response` object contains the JSON-formatted search results. The example below loads the JSON data into a variable called `data`. It then retrieves the total number of results returned by the query, by drilling down through the JSON hierarchy to get to the `data[\"category\"][0][\"records\"][\"total\"]` value. Finally it displays the first article record."
   ]
  },
  {
   "cell_type": "code",
   "execution_count": 13,
   "id": "871861b6-8ff3-4b06-b39b-ade1e767e438",
   "metadata": {},
   "outputs": [
    {
     "name": "stdout",
     "output_type": "stream",
     "text": [
      "There are 140,659 results!\n",
      "\n"
     ]
    },
    {
     "data": {
      "text/plain": [
       "{'id': '61389505',\n",
       " 'url': 'https://api.trove.nla.gov.au/v3/newspaper/61389505',\n",
       " 'heading': 'MR. WRAGGE\\'S \"WRAGGE.\"',\n",
       " 'category': 'Article',\n",
       " 'title': {'id': '64',\n",
       "  'title': 'Clarence and Richmond Examiner (Grafton, NSW : 1889 - 1915)'},\n",
       " 'date': '1902-07-15',\n",
       " 'page': '4',\n",
       " 'pageSequence': '4',\n",
       " 'relevance': {'score': 280.01959228515625, 'value': 'very relevant'},\n",
       " 'snippet': 'Mr. Wragge is going to issue a \"Wragge.\" This is the title of his paper to be, as Mr. Wragge, having weathered Sproule, Drake and other extraordinarily named storms on',\n",
       " 'troveUrl': 'https://.nla.gov.au/nla.news-article61389505?searchTerm=wragge'}"
      ]
     },
     "execution_count": 13,
     "metadata": {},
     "output_type": "execute_result"
    }
   ],
   "source": [
    "# Load the JSON data\n",
    "data = response.json()\n",
    "\n",
    "# Get the total number of results\n",
    "total = data[\"category\"][0][\"records\"][\"total\"]\n",
    "print(f\"There are {total:,} results!\\n\")\n",
    "\n",
    "# Display the first article\n",
    "data[\"category\"][0][\"records\"][\"article\"][0]"
   ]
  },
  {
   "cell_type": "markdown",
   "id": "cfecd062-239e-49bd-a349-586b4c39e755",
   "metadata": {
    "editable": true,
    "slideshow": {
     "slide_type": ""
    },
    "tags": []
   },
   "source": [
    "## Endpoints\n",
    "\n",
    "<!---<mark>==Link where appropriate to sections on specific categories/formats==</mark>--->\n",
    "\n",
    "### Search results\n",
    "\n",
    "- `/result` – search across all categories (except archived websites)\n",
    "\n",
    "### Individual records\n",
    "\n",
    "To request an individual record you need to know its numeric identifier. Then you add the identifier to the endpoint url. So to request the record of the newspaper\n",
    "\n",
    "- `/newspaper/[id]` \n",
    "- `/work/[id]`\n",
    "- `/people/[id]`\n",
    "- `/list/[id]`\n",
    "- `/contributor/[id]`\n",
    "- `/newspaper/title/[id]`\n",
    "- `/gazette/title/[id]`\n",
    "- `/magazine/title/[id]`\n",
    "\n",
    "### Lists of records\n",
    "\n",
    "- `/newspaper/titles`\n",
    "- `/gazette/titles`\n",
    "- `/magazine/titles`\n",
    "- `/contributor`"
   ]
  },
  {
   "cell_type": "markdown",
   "id": "02bed68c-73e4-4b51-8074-abd1ea46b39e",
   "metadata": {
    "editable": true,
    "slideshow": {
     "slide_type": ""
    },
    "tags": []
   },
   "source": [
    "<!---\n",
    "## Parameters\n",
    "\n",
    "<mark>==How much detail do I go into? Do I just point to Trove docs?==</mark>\n",
    "\n",
    "### `/result` endpoint\n",
    "\n",
    "```{list-table} Search parameters – all categories\n",
    ":header-rows: 1\n",
    ":name: table-search-parameters\n",
    "* - Parameter\n",
    "  - Description\n",
    "  - Possible values\n",
    "  - Default value\n",
    "  - Example\n",
    "* - `q`\n",
    "  - Search query (basically what you'd put in the search box of the web interface)\n",
    "  - As well as keywords and boolean operators you can filter results using indexes.\n",
    "  -\n",
    "  - \n",
    "* - `category`\n",
    "  - \n",
    "  - \n",
    "  -\n",
    "  - \n",
    "* - `encoding`\n",
    "  - \n",
    "  - `xml` or `json`\n",
    "  - `xml`\n",
    "  - \n",
    "* - `n`\n",
    "  - \n",
    "  - \n",
    "  - \n",
    "  - \n",
    "* - `s`\n",
    "  - \n",
    "  - \n",
    "  - \n",
    "  - \n",
    "* - `bulkHarvest`\n",
    "  - \n",
    "  - \n",
    "  - \n",
    "  - \n",
    "\n",
    "```\n",
    "--->"
   ]
  },
  {
   "cell_type": "markdown",
   "id": "015eb1b4-695f-43da-af34-571dc0861356",
   "metadata": {
    "editable": true,
    "slideshow": {
     "slide_type": ""
    },
    "tags": []
   },
   "source": [
    "<!---\n",
    "## Translating a web query into an API query\n",
    "\n",
    "- trove-query-parser for newspapers\n",
    "- easier with 'simple' search\n",
    "--->"
   ]
  },
  {
   "cell_type": "markdown",
   "id": "4092f6cb-b703-46ef-aee9-8fa4614b85c8",
   "metadata": {
    "editable": true,
    "slideshow": {
     "slide_type": ""
    },
    "tags": []
   },
   "source": [
    "<!---\n",
    "## API responses\n",
    "\n",
    "<mark>==Again how much details is required? Specific info can be provided in the sections about particular categories/formats==</mark>\n",
    "\n",
    "--->"
   ]
  },
  {
   "cell_type": "markdown",
   "id": "2493eff9-00cd-47b2-bb9b-4762c88bd31f",
   "metadata": {
    "editable": true,
    "slideshow": {
     "slide_type": ""
    },
    "tags": []
   },
   "source": [
    "<!---\n",
    "## Harvesting a complete result set\n",
    "\n",
    "- Use of `bulkHarvest` parameter\n",
    "- using `nextStart`\n",
    "- effect of `category=all`\n",
    "\n",
    "Provide a basic code pattern for paginating through a result set.\n",
    "\n",
    "Saving results (ndjson, csv (with flattening) etc)\n",
    "--->"
   ]
  }
 ],
 "metadata": {
  "kernelspec": {
   "display_name": "Python 3 (ipykernel)",
   "language": "python",
   "name": "python3"
  },
  "language_info": {
   "codemirror_mode": {
    "name": "ipython",
    "version": 3
   },
   "file_extension": ".py",
   "mimetype": "text/x-python",
   "name": "python",
   "nbconvert_exporter": "python",
   "pygments_lexer": "ipython3",
   "version": "3.8.12"
  }
 },
 "nbformat": 4,
 "nbformat_minor": 5
}
