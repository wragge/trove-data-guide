{
 "cells": [
  {
   "cell_type": "markdown",
   "id": "a2921447-d0d5-4472-b54c-f159ee176da7",
   "metadata": {},
   "source": [
    "# Timegates, Timemaps, and Mementos\n",
    "\n",
    "The NLA has frequently said that the Australian Web Archive has no API. This is not strictly true. You can't retrieve search results from the AWA in a machine-readable form as you can with other Trove categories. But the software used by the AWA supports the [Memento protocol](https://datatracker.ietf.org/doc/html/rfc7089) and allows requests for certain types of machine-readable information. It's just baked in to the system.\n",
    "\n",
    "In particular, the AWA supports two Memento-compliant API requests:\n",
    "\n",
    "- Timegates – request the capture of a url closest to a specific date\n",
    "- Timemaps – get a list of all the captures of a url"
   ]
  },
  {
   "cell_type": "markdown",
   "id": "32aa9218-3693-43e8-855c-61fe17b61cb8",
   "metadata": {},
   "source": [
    "## Timegates\n",
    "\n"
   ]
  },
  {
   "cell_type": "code",
   "execution_count": 8,
   "id": "554ab70e-9b9e-4e14-b38b-690f60e7171c",
   "metadata": {},
   "outputs": [
    {
     "data": {
      "text/plain": [
       "{'original': {'url': 'http://ardc.edu.au/', 'rel': 'original'},\n",
       " 'timegate': {'url': 'https://web.archive.org.au/awa/http://ardc.edu.au/',\n",
       "  'rel': 'timegate'},\n",
       " 'timemap': {'url': 'https://web.archive.org.au/awa/timemap/link/http://ardc.edu.au/',\n",
       "  'rel': 'timemap',\n",
       "  'type': 'application/link-format'},\n",
       " 'memento': {'url': 'https://web.archive.org.au/awa/20240403014336mp_/http://ardc.edu.au/',\n",
       "  'rel': 'memento',\n",
       "  'datetime': 'Wed, 03 Apr 2024 01:43:36 GMT'}}"
      ]
     },
     "execution_count": 8,
     "metadata": {},
     "output_type": "execute_result"
    }
   ],
   "source": [
    "import requests\n",
    "\n",
    "awa_url = \"https://web.archive.org.au/awa\"\n",
    "target_url = \"http://ardc.edu.au\"\n",
    "\n",
    "response = requests.head(f\"{awa_url}/{target_url}/\")\n",
    "#  Requests automatically parses the Link values\n",
    "response.links"
   ]
  },
  {
   "cell_type": "markdown",
   "id": "41e5df82-fda0-46a3-8bb9-758502102f0f",
   "metadata": {},
   "source": [
    "The `Link` parameter contains the Memento information. You can see that it's actually providing information on four types of link:\n",
    "\n",
    "* the `original` url (ie the url that was archived) – `<http://nla.gov.au/>`\n",
    "* the `timegate` for the harvested url (which us what we just used) – `<https://web.archive.org.au/awa/http://nla.gov.au/>`\n",
    "* the `timemap` for the harvested url (we'll look at this below) – `<https://web.archive.org.au/awa/timemap/link/http://nla.gov.au/>`\n",
    "* the `memento` – `<https://web.archive.org.au/awa/20100205144227mp_/http://nla.gov.au/>`\n",
    "\n",
    "The `memento` link is the capture closest in time to the date we requested. In this case there's only about a month's difference, but of course this will depend on how frequently a url is captured. "
   ]
  },
  {
   "cell_type": "code",
   "execution_count": 10,
   "id": "47652dc5-678b-4166-bd48-c635b384c6fe",
   "metadata": {},
   "outputs": [
    {
     "data": {
      "text/plain": [
       "{'original': {'url': 'http://nla.gov.au/', 'rel': 'original'},\n",
       " 'timegate': {'url': 'https://web.archive.org.au/awa/http://nla.gov.au/',\n",
       "  'rel': 'timegate'},\n",
       " 'timemap': {'url': 'https://web.archive.org.au/awa/timemap/link/http://nla.gov.au/',\n",
       "  'rel': 'timemap',\n",
       "  'type': 'application/link-format'},\n",
       " 'memento': {'url': 'https://web.archive.org.au/awa/20100205144751mp_/http://nla.gov.au/',\n",
       "  'rel': 'memento',\n",
       "  'datetime': 'Fri, 05 Feb 2010 14:47:51 GMT'}}"
      ]
     },
     "execution_count": 10,
     "metadata": {},
     "output_type": "execute_result"
    }
   ],
   "source": [
    "response = requests.head(\n",
    "    \"https://web.archive.org.au/awa/http://nla.gov.au/\",\n",
    "    headers={\"Accept-Datetime\": \"Fri, 01 Jan 2010 01:00:00 GMT\"},\n",
    ")\n",
    "response.links"
   ]
  },
  {
   "cell_type": "markdown",
   "id": "cc8c3813-a9bc-46b3-a8a9-32139732def6",
   "metadata": {},
   "source": [
    "## Timemap"
   ]
  }
 ],
 "metadata": {
  "kernelspec": {
   "display_name": "Python 3 (ipykernel)",
   "language": "python",
   "name": "python3"
  },
  "language_info": {
   "codemirror_mode": {
    "name": "ipython",
    "version": 3
   },
   "file_extension": ".py",
   "mimetype": "text/x-python",
   "name": "python",
   "nbconvert_exporter": "python",
   "pygments_lexer": "ipython3",
   "version": "3.10.12"
  }
 },
 "nbformat": 4,
 "nbformat_minor": 5
}
