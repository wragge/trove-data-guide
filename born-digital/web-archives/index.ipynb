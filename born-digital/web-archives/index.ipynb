{
 "cells": [
  {
   "cell_type": "markdown",
   "id": "661f1c93-cf93-4a94-846b-071ae9670a38",
   "metadata": {},
   "source": [
    "# Web archives"
   ]
  },
  {
   "cell_type": "code",
   "execution_count": null,
   "id": "ac9f88d3-cdf8-4b6a-8c6a-ea1e426ce1d0",
   "metadata": {},
   "outputs": [],
   "source": []
  }
 ],
 "metadata": {
  "kernelspec": {
   "display_name": "Python 3 (ipykernel)",
   "language": "python",
   "name": "python3"
  },
  "language_info": {
   "codemirror_mode": {
    "name": "ipython",
    "version": 3
   },
   "file_extension": ".py",
   "mimetype": "text/x-python",
   "name": "python",
   "nbconvert_exporter": "python",
   "pygments_lexer": "ipython3",
   "version": "3.10.12"
  }
 },
 "nbformat": 4,
 "nbformat_minor": 5
}
