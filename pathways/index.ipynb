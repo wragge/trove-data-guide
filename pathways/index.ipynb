{
 "cells": [
  {
   "cell_type": "markdown",
   "id": "2195a9c5-36c6-42f7-84f6-11f0f2fee249",
   "metadata": {
    "editable": true,
    "slideshow": {
     "slide_type": ""
    },
    "tags": []
   },
   "source": [
    "# Research pathways\n",
    "\n",
    "The Trove Data Guide provides lots of information to help researchers access and understand the data that's available through Trove. But once you've found some interesting data, how do you package it for further analysis? How do you connect your Trove discoveries with available digital tools to pursue specific research questions? \n",
    "\n",
    "This section highlights pathways that connect Trove data to a range of digital tools. They're examples of what's possible – intended to spark new ideas and approaches, not to privilege particular methodologies. Use them as a starting point in planning your own projects."
   ]
  },
  {
   "cell_type": "markdown",
   "id": "8d1ea2e3-3289-4b06-97c0-8f6ac99ec972",
   "metadata": {
    "editable": true,
    "slideshow": {
     "slide_type": ""
    },
    "tags": []
   },
   "source": [
    "```{tableofcontents}\n",
    "\n",
    "```"
   ]
  },
  {
   "cell_type": "code",
   "execution_count": null,
   "id": "552a232b-eff5-44f6-bbbf-824701f0bcc2",
   "metadata": {
    "editable": true,
    "slideshow": {
     "slide_type": ""
    },
    "tags": []
   },
   "outputs": [],
   "source": []
  }
 ],
 "metadata": {
  "jupytext": {
   "formats": "ipynb,md:myst"
  },
  "kernelspec": {
   "display_name": "Python 3 (ipykernel)",
   "language": "python",
   "name": "python3"
  },
  "language_info": {
   "codemirror_mode": {
    "name": "ipython",
    "version": 3
   },
   "file_extension": ".py",
   "mimetype": "text/x-python",
   "name": "python",
   "nbconvert_exporter": "python",
   "pygments_lexer": "ipython3",
   "version": "3.10.12"
  }
 },
 "nbformat": 4,
 "nbformat_minor": 5
}
