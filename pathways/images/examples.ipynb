{
 "cells": [
  {
   "cell_type": "markdown",
   "id": "cc2044fe-bd92-4c73-9a48-90aa7fa3e495",
   "metadata": {},
   "source": [
    "# Tutorials and examples\n",
    "\n",
    "\n",
    "````{card}\n",
    "On this page\n",
    "\n",
    "```{contents}\n",
    ":local:\n",
    ":backlinks: None\n",
    "```\n",
    "````"
   ]
  },
  {
   "cell_type": "markdown",
   "id": "8c5419d1-4e66-45c9-9842-119c48ff8b1b",
   "metadata": {},
   "source": [
    "- [](tropy.md)"
   ]
  }
 ],
 "metadata": {
  "kernelspec": {
   "display_name": "Python 3 (ipykernel)",
   "language": "python",
   "name": "python3"
  },
  "language_info": {
   "codemirror_mode": {
    "name": "ipython",
    "version": 3
   },
   "file_extension": ".py",
   "mimetype": "text/x-python",
   "name": "python",
   "nbconvert_exporter": "python",
   "pygments_lexer": "ipython3",
   "version": "3.10.12"
  }
 },
 "nbformat": 4,
 "nbformat_minor": 5
}
