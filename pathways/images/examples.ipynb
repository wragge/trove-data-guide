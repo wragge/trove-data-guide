{
 "cells": [
  {
   "cell_type": "markdown",
   "id": "cc2044fe-bd92-4c73-9a48-90aa7fa3e495",
   "metadata": {},
   "source": [
    "# Tutorials and examples\n",
    "\n",
    "````{card}\n",
    "This page includes information on tutorials and examples to help you work with images from Trove.\n",
    "\n",
    "```{contents}\n",
    ":local:\n",
    ":backlinks: None\n",
    "```\n",
    "````"
   ]
  },
  {
   "cell_type": "markdown",
   "id": "676eafa7-2b15-4b6d-b3b5-9c3dade0f5bf",
   "metadata": {},
   "source": [
    "## Tutorials\n",
    "\n",
    "`````{grid}\n",
    ":gutter: 3\n",
    "\n",
    "````{grid-item-card} Working with a Trove collection in Tropy\n",
    ":columns: 6\n",
    "\n",
    "![Tropy screenshot](../../images/tropy-interface.png)\n",
    "\n",
    "You want to be able to work on a collection of digitised images from Trove on your desktop – adding notes, transcriptions, and annotations. [Tropy](https://tropy.org/) is a useful tool for managing collections of research images, but how do you import a collection of images from Trove into Tropy? This tutorial walks through one possible method.\n",
    "\n",
    "+++\n",
    "```{button-link} tropy.md\n",
    ":color: primary\n",
    "Get started\n",
    "```\n",
    "````\n",
    "\n",
    "````{grid-item-card} Comparing manuscript collections in Mirador\n",
    ":columns: 6\n",
    "\n",
    "![Mirador screenshot](../../images/mirador-demo.png)\n",
    "\n",
    "You want to compare the contents of two digitised manuscript collections and examine individual documents side-by-side. The [Mirador viewer](https://projectmirador.org/) can be configured as a flexible, research workspace that displays multiple images from different sources, but how do you get manuscript collections from Trove to Mirador?\n",
    "\n",
    "+++\n",
    "```{button-link} mirador.md\n",
    ":color: primary\n",
    "Get started\n",
    "```\n",
    "````\n",
    "`````"
   ]
  },
  {
   "cell_type": "markdown",
   "id": "f0e692fa-4107-4133-8a90-ff163a530eb6",
   "metadata": {},
   "source": [
    "## Examples from the GLAM Workbench\n",
    "\n",
    "[Save a collection of digitised images as an IIIF manifest](https://glam-workbench.net/trove-images/save-image-collection-iiif/)\n",
    ": This notebook harvests metadata describing the contents of a digitised collection in Trove and saves it as an IIIF manifest.\n",
    "\n",
    "[Make composite images from lots of Trove newspaper thumbnails](https://glam-workbench.net/trove-newspapers/Composite-thumbnails/)\n",
    ": This notebook starts with a search in Trove's newspapers. It uses the Trove API to work its way through the search results. For each article it creates a thumbnail image using the code from this notebook. Once this first stage is finished, you have a directory full of lots of thumbnails. The next stage takes all those thumbnails and pastes them one by one into a BIG image to create a composite, or mosaic.\n",
    "\n",
    "[Create 'scissors and paste' messages from Trove newspaper articles](https://glam-workbench.net/trove-newspapers/trove-newspapers-scissors-and-paste/)\n",
    ": When you search for a term in Trove's digitised newspapers and click on individual article, you'll see your search terms are highlighted. If you look at the code you'll see the highlighted box around the word includes its page coordinates. That means that if we search for a word, we can find where it appears on a page, and by cropping the page to those coordinates we can create an image of an individual word. By combining these images we can create scissors and paste style messages!\n",
    "\n",
    "[Create large composite images from snipped words](https://glam-workbench.net/trove-newspapers/trove-newspapers-create-composite-from-words/)\n",
    ": This is a variation of the 'scissors & paste' notebook that extracts words from Trove newspaper images and compiles them into messages. In this notebook, you can harvest multiple versions of a list of words and compile them all into one big image."
   ]
  }
 ],
 "metadata": {
  "kernelspec": {
   "display_name": "Python 3 (ipykernel)",
   "language": "python",
   "name": "python3"
  },
  "language_info": {
   "codemirror_mode": {
    "name": "ipython",
    "version": 3
   },
   "file_extension": ".py",
   "mimetype": "text/x-python",
   "name": "python",
   "nbconvert_exporter": "python",
   "pygments_lexer": "ipython3",
   "version": "3.10.12"
  }
 },
 "nbformat": 4,
 "nbformat_minor": 5
}
