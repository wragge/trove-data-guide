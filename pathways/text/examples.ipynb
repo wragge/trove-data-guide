{
 "cells": [
  {
   "cell_type": "markdown",
   "id": "ec547b08-0e00-4d5d-a255-6375e993c301",
   "metadata": {},
   "source": [
    "# Tutorials and examples\n",
    "\n",
    "````{card}\n",
    "On this page\n",
    "\n",
    "```{contents}\n",
    ":local:\n",
    ":backlinks: None\n",
    "```\n",
    "````"
   ]
  },
  {
   "cell_type": "markdown",
   "id": "f4861fd9-1f66-43c5-b43b-bb905169446e",
   "metadata": {},
   "source": [
    "\n",
    "Connecting Trove data to tools."
   ]
  }
 ],
 "metadata": {
  "kernelspec": {
   "display_name": "Python 3 (ipykernel)",
   "language": "python",
   "name": "python3"
  },
  "language_info": {
   "codemirror_mode": {
    "name": "ipython",
    "version": 3
   },
   "file_extension": ".py",
   "mimetype": "text/x-python",
   "name": "python",
   "nbconvert_exporter": "python",
   "pygments_lexer": "ipython3",
   "version": "3.10.12"
  }
 },
 "nbformat": 4,
 "nbformat_minor": 5
}
