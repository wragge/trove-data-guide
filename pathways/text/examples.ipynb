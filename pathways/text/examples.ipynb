{
 "cells": [
  {
   "cell_type": "markdown",
   "id": "ec547b08-0e00-4d5d-a255-6375e993c301",
   "metadata": {},
   "source": [
    "# Tutorials and examples\n",
    "\n",
    "````{card}\n",
    "This page includes information on tutorials and examples to help you work with text from Trove.\n",
    "\n",
    "```{contents}\n",
    ":local:\n",
    ":backlinks: None\n",
    "```\n",
    "````"
   ]
  },
  {
   "cell_type": "markdown",
   "id": "25e380b9-9738-47e7-8d32-c2e8cdd2cbda",
   "metadata": {},
   "source": [
    "## Tutorials\n",
    "\n",
    "`````{grid}\n",
    ":gutter: 3\n",
    "\n",
    "````{grid-item-card} Analysing keywords in Trove's digitised newspapers\n",
    ":columns: 6\n",
    "\n",
    "![Example image](../../images/atap-keywords-chart-example.png)\n",
    "\n",
    "You want to explore differences in language use across a collection of digitised newspaper articles. The [Australian Text Analytics Platform](https://www.atap.edu.au/) provides a [Keywords Analysis tool](https://github.com/Australian-Text-Analytics-Platform/keywords-analysis) that helps you examine whether particular words are over or under-represented across collections of text. But how do get data from Trove's newspapers to the keyword analysis tool?\n",
    "\n",
    "+++\n",
    "```{button-link} newspapers-keywords.md\n",
    ":color: primary\n",
    "Get started\n",
    "```\n",
    "````\n",
    "`````\n",
    "\n",
    "## Examples from the GLAM Workbench\n",
    "\n",
    "[Exploring text files harvested with the Trove Harvester](https://glam-workbench.net/trove-harvester/exploring-troveharvester-text/)\n",
    ": This notebook suggests some ways in which you can aggregate and analyse the individual OCRd text files for each article — look at word frequencies; calculate TF-IDF values.\n",
    "\n",
    "[Finding non-English newspapers in Trove](https://glam-workbench.net/trove-newspapers/find-non-english-newspapers/)\n",
    ": There are a growing number of non-English newspapers digitised in Trove. However, if you're only searching using English keywords, you might never know that they're there. This notebook analyses the language of a sample of articles from each newspaper to create a list of non-English newspapers.\n",
    "\n",
    "[Counting words and phrases in digitised books](https://glam-workbench.net/trove-books/counting-words-and-phrases/)\n",
    ": This notebook provides a simple example of extracting word and ngram frequencies from the OCRd text of a digitised book using TextBlob and Wordcloud.\n",
    "\n",
    "[Recipe generator](https://glam-workbench.net/trove-books/recipe-generator/)\n",
    ": In this notebook we use TextBlob to extract nouns, verbs, and sentences from the OCRd text of a 19th century cookery book. We try to clean things up a bit, using regular expressions to discard likely OCR errors. Then we recombine the various parts in random combinations to create delicious recipes for all occasions. Enjoy!\n",
    "\n",
    "## Other examples\n",
    "\n",
    "- [Topic modelling of Trove Books](https://github.com/adelr/trove-books) (Adel Rahmani)\n",
    "- [Topic modelling of Australian parliamentary press releases](https://github.com/adelr/trove-refugee) (Adel Rahmani)"
   ]
  },
  {
   "cell_type": "code",
   "execution_count": null,
   "id": "3258f00d-42de-486a-9a10-67a8b3ce8071",
   "metadata": {},
   "outputs": [],
   "source": []
  }
 ],
 "metadata": {
  "kernelspec": {
   "display_name": "Python 3 (ipykernel)",
   "language": "python",
   "name": "python3"
  },
  "language_info": {
   "codemirror_mode": {
    "name": "ipython",
    "version": 3
   },
   "file_extension": ".py",
   "mimetype": "text/x-python",
   "name": "python",
   "nbconvert_exporter": "python",
   "pygments_lexer": "ipython3",
   "version": "3.10.12"
  }
 },
 "nbformat": 4,
 "nbformat_minor": 5
}
