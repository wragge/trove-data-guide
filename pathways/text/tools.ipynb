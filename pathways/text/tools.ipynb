{
 "cells": [
  {
   "cell_type": "markdown",
   "id": "e0b9f835-e52a-4a27-8bd6-51e2dbf5dee7",
   "metadata": {},
   "source": [
    "# Tools and resources\n",
    "\n",
    "````{card}\n",
    "On this page\n",
    "\n",
    "```{contents}\n",
    ":local:\n",
    ":backlinks: None\n",
    "```\n",
    "````"
   ]
  },
  {
   "cell_type": "markdown",
   "id": "0676bc41-475e-475d-b5b8-4429b29c1faf",
   "metadata": {},
   "source": [
    "## ARDC Community Data Lab\n",
    "\n",
    "These tools are developed, maintained or supported by the Community Data Lab or other projects within the HASS&I Research Data Commons.\n",
    "\n",
    "`````{grid}\n",
    ":gutter: 3\n",
    "\n",
    "````{grid-item-card} Australian Text Analytics Platform (ATAP)\n",
    "\n",
    "![ATAP logo](/images/atap-logo.png)\n",
    "\n",
    "The Australian Text Analytics Platform is an open source environment that provides researchers with tools and training for analysing, processing, and exploring text.\n",
    "\n",
    "+++\n",
    "```{button-link} https://www.atap.edu.au/\n",
    ":color: primary\n",
    "More info\n",
    "```\n",
    "````\n",
    "\n",
    "````{grid-item-card} Stylometric Intelligent Archive (SIA)\n",
    "\n",
    "![SIA Screenshot](/images/sia-screenshot.png)\n",
    "\n",
    "The Stylometry Intelligent Archive (SIA) provides researchers with a toolkit for stylometry. Stylometry applies statistical measures to literary style. \n",
    "+++\n",
    "\n",
    "```{button-link} https://systemik-solutions.github.io/sia_site/intro.html\n",
    ":color: primary\n",
    "More info\n",
    "```\n",
    "````\n",
    "`````\n",
    "\n",
    "## Other tools and resources\n",
    "\n",
    "- [TAPoR 3: Discover research tools for studying texts](https://tapor.ca/home)\n",
    "- [SSH Open Marketplace](https://marketplace.sshopencloud.eu/)\n",
    "\n"
   ]
  }
 ],
 "metadata": {
  "kernelspec": {
   "display_name": "Python 3 (ipykernel)",
   "language": "python",
   "name": "python3"
  },
  "language_info": {
   "codemirror_mode": {
    "name": "ipython",
    "version": 3
   },
   "file_extension": ".py",
   "mimetype": "text/x-python",
   "name": "python",
   "nbconvert_exporter": "python",
   "pygments_lexer": "ipython3",
   "version": "3.10.12"
  }
 },
 "nbformat": 4,
 "nbformat_minor": 5
}
