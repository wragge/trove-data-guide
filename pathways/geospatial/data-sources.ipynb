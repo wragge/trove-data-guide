{
 "cells": [
  {
   "cell_type": "markdown",
   "id": "b8a7c544-54d5-4f31-8686-53a588cecf9c",
   "metadata": {},
   "source": [
    "# Data sources"
   ]
  },
  {
   "cell_type": "markdown",
   "id": "5e4933c4-5641-49db-a746-d524ce37bd92",
   "metadata": {
    "editable": true,
    "slideshow": {
     "slide_type": ""
    },
    "tags": []
   },
   "source": [
    "## Maps and place data in Trove\n",
    "\n",
    "### Documentation\n",
    "\n",
    "### Pre-harvested datasets\n",
    "\n",
    "- [Trove digitised maps metadata](https://glam-workbench.net/trove-maps/single-maps-data/) {{gw}}\n",
    "- [Trove digitised maps – coordinates](https://glam-workbench.net/trove-maps/single-maps-coordinates-data/) {{gw}}\n",
    "- Trove newspaper publication places CSV\n",
    "\n",
    "### Creating datasets\n",
    "\n",
    "- [MARC Geographic Areas – Wikidata mappings](https://github.com/GLAM-Workbench/marc-geographicareas)"
   ]
  }
 ],
 "metadata": {
  "kernelspec": {
   "display_name": "Python 3 (ipykernel)",
   "language": "python",
   "name": "python3"
  },
  "language_info": {
   "codemirror_mode": {
    "name": "ipython",
    "version": 3
   },
   "file_extension": ".py",
   "mimetype": "text/x-python",
   "name": "python",
   "nbconvert_exporter": "python",
   "pygments_lexer": "ipython3",
   "version": "3.10.12"
  }
 },
 "nbformat": 4,
 "nbformat_minor": 5
}
