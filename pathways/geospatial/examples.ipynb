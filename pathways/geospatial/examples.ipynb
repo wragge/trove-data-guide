{
 "cells": [
  {
   "cell_type": "markdown",
   "id": "f3f9b6d7-391a-4fa5-aa1d-2bbb89dfec93",
   "metadata": {},
   "source": [
    "# Tutorials and examples\n",
    "\n",
    "````{card}\n",
    "This page includes information on tutorials and examples to help you work with maps and place data from Trove.\n",
    "\n",
    "```{contents}\n",
    ":local:\n",
    ":backlinks: None\n",
    "```\n",
    "````"
   ]
  },
  {
   "cell_type": "markdown",
   "id": "2e2f9592-3887-4bfd-a381-1618cc017ec0",
   "metadata": {},
   "source": [
    "## Tutorials\n",
    "\n",
    "`````{grid}\n",
    ":gutter: 3\n",
    "\n",
    "````{grid-item-card} Create a layer in the Gazetteer of Historical Australian Placenames using metadata from Trove’s digitised maps\n",
    ":columns: 6\n",
    "\n",
    "![GLAM Workbench logo](../../images/ghap-layer-map.png)\n",
    "\n",
    "Trove includes thousands of digitised maps, created and published across the last few centuries. You want to create a collection of maps relating to your area of interest and explore it using the Gazetteer of Historical Australian Placenames (GHAP). You know it's possible to add layers to GHAP, but how do you get the data from Trove in a format that can be uploaded as a layer?\n",
    "\n",
    "+++\n",
    "```{button-link} maps-to-ghap.html\n",
    ":color: primary\n",
    "Get started\n",
    "```\n",
    "````\n",
    "`````"
   ]
  },
  {
   "cell_type": "markdown",
   "id": "477549a0-411c-45ca-8f98-55c939b33c9f",
   "metadata": {},
   "source": [
    "## Examples from the GLAM Workbench\n",
    "\n",
    "[Map Trove newspaper results by state](https://glam-workbench.net/trove-newspapers/Map-newspaper-results-by-state/)\n",
    ": This notebook uses the Trove state facet to create a choropleth map that visualises the number of search results per state.\n",
    "\n",
    "[Map Trove newspaper results by place of publication](https://glam-workbench.net/trove-newspapers/Map-newspaper-results-by-place-of-publication/)\n",
    ": This notebook uses the Trove title facet to find the number of results per newspaper, then merges the results with a dataset of geolocated newspapers to map where articles were published.\n",
    "\n",
    "[Map Trove newspaper results by place of publication over time](https://glam-workbench.net/trove-newspapers/Map-newspaper-results-by-place-of-publication-over-time/)\n",
    ": This notebook uses the Trove title facet to find the number of results per newspaper, then merges the results with a dataset of geolocated newspapers to map where articles were published, and adds a time dimension to create an animated heatmap.\n",
    "\n",
    "[Parse map coordinates from metadata](https://glam-workbench.net/trove-maps/parse-coordinates/)\n",
    ": The harvest of digitised maps metadata includes a coordinates column that provides a string representation of either a point or a bounding box. This notebook attempts to parse the coordinate string and convert the values to decimals. It then uses the decimal values to explore the geographical context of Trove's digitised map collection."
   ]
  }
 ],
 "metadata": {
  "kernelspec": {
   "display_name": "Python 3 (ipykernel)",
   "language": "python",
   "name": "python3"
  },
  "language_info": {
   "codemirror_mode": {
    "name": "ipython",
    "version": 3
   },
   "file_extension": ".py",
   "mimetype": "text/x-python",
   "name": "python",
   "nbconvert_exporter": "python",
   "pygments_lexer": "ipython3",
   "version": "3.10.12"
  }
 },
 "nbformat": 4,
 "nbformat_minor": 5
}
