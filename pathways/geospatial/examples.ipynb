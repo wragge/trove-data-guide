{
 "cells": [
  {
   "cell_type": "markdown",
   "id": "f3f9b6d7-391a-4fa5-aa1d-2bbb89dfec93",
   "metadata": {},
   "source": [
    "# Tutorials and examples"
   ]
  },
  {
   "cell_type": "markdown",
   "id": "2e2f9592-3887-4bfd-a381-1618cc017ec0",
   "metadata": {},
   "source": [
    "```{tableofcontents}\n",
    "\n",
    "```"
   ]
  }
 ],
 "metadata": {
  "kernelspec": {
   "display_name": "Python 3 (ipykernel)",
   "language": "python",
   "name": "python3"
  },
  "language_info": {
   "codemirror_mode": {
    "name": "ipython",
    "version": 3
   },
   "file_extension": ".py",
   "mimetype": "text/x-python",
   "name": "python",
   "nbconvert_exporter": "python",
   "pygments_lexer": "ipython3",
   "version": "3.10.12"
  }
 },
 "nbformat": 4,
 "nbformat_minor": 5
}
