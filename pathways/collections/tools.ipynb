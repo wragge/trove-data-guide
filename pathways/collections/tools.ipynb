{
 "cells": [
  {
   "cell_type": "markdown",
   "id": "c23e718f-dc67-4106-92f7-b6935365eefc",
   "metadata": {},
   "source": [
    "# Tools and resources\n",
    "\n",
    "## ARDC Community Data Lab\n",
    "\n",
    "These tools are developed, maintained or supported by the Community Data Lab or other projects within the HASS&I Research Data Commons.\n",
    "\n",
    "`````{grid}\n",
    ":gutter: 3\n",
    "\n",
    "````{grid-item-card} RO-Crate\n",
    ":width: 50%\n",
    "\n",
    "![RO-Crate logo](/images/ro-crate-logo.svg)\n",
    "\n",
    "RO-Crate is a community effort to establish a lightweight approach to packaging research data with their metadata. \n",
    "\n",
    "+++\n",
    "```{button-link} hhttps://www.researchobject.org/ro-crate/\n",
    ":color: primary\n",
    "More info\n",
    "```\n",
    "````\n",
    "`````\n",
    "\n",
    "## Other tools and resources\n",
    "\n",
    "- [TAPoR 3: Discover research tools for studying texts](https://tapor.ca/home)\n",
    "- [SSH Open Marketplace](https://marketplace.sshopencloud.eu/)"
   ]
  }
 ],
 "metadata": {
  "kernelspec": {
   "display_name": "Python 3 (ipykernel)",
   "language": "python",
   "name": "python3"
  },
  "language_info": {
   "codemirror_mode": {
    "name": "ipython",
    "version": 3
   },
   "file_extension": ".py",
   "mimetype": "text/x-python",
   "name": "python",
   "nbconvert_exporter": "python",
   "pygments_lexer": "ipython3",
   "version": "3.10.12"
  }
 },
 "nbformat": 4,
 "nbformat_minor": 5
}
