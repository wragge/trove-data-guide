{
 "cells": [
  {
   "cell_type": "markdown",
   "id": "4553adee-4402-42ed-ac14-f4e6507c1f66",
   "metadata": {
    "editable": true,
    "slideshow": {
     "slide_type": ""
    },
    "tags": []
   },
   "source": [
    "# Creating collections\n",
    "\n",
    "Tools and methods for assembling, managing, and sharing collections of resources harvested from Trove."
   ]
  },
  {
   "cell_type": "markdown",
   "id": "9443536f-eaa9-4056-87b6-9d0c380190c1",
   "metadata": {
    "editable": true,
    "slideshow": {
     "slide_type": ""
    },
    "tags": []
   },
   "source": [
    "## Tools and resources\n",
    "\n",
    "### ARDC Community Data Lab\n",
    "\n",
    "These tools are developed, maintained or supported by the Community Data Lab or other projects within the HASS&I Research Data Commons.\n",
    "\n",
    "`````{grid}\n",
    ":gutter: 3\n",
    "\n",
    "````{grid-item-card} RO-Crate\n",
    ":width: 50%\n",
    "\n",
    "![RO-Crate logo](/images/ro-crate-logo.svg)\n",
    "\n",
    "RO-Crate is a community effort to establish a lightweight approach to packaging research data with their metadata. \n",
    "\n",
    "+++\n",
    "```{button-link} hhttps://www.researchobject.org/ro-crate/\n",
    ":color: primary\n",
    "More info\n",
    "```\n",
    "````\n",
    "`````\n",
    "\n",
    "### Other tools and resources\n",
    "\n",
    "- [TAPoR 3: Discover research tools for studying texts](https://tapor.ca/home)\n",
    "- [SSH Open Marketplace](https://marketplace.sshopencloud.eu/)"
   ]
  },
  {
   "cell_type": "markdown",
   "id": "849932d9-fec3-4661-9f6a-750e1b29ee58",
   "metadata": {
    "editable": true,
    "slideshow": {
     "slide_type": ""
    },
    "tags": []
   },
   "source": [
    "## Tutorials and examples"
   ]
  },
  {
   "cell_type": "markdown",
   "id": "b3f03866-0b7c-45df-8346-5c22961899c6",
   "metadata": {
    "editable": true,
    "slideshow": {
     "slide_type": ""
    },
    "tags": []
   },
   "source": [
    "- [Convert a Trove list into a CSV file](https://glam-workbench.net/trove-lists/convert-a-trove-list-into-a-csv-file/)\n",
    "- [Convert a Trove list into a CollectionBuilder exhibition](https://glam-workbench.net/trove-lists/convert-list-to-cb-exhibition/)\n",
    "- [Upload Trove newspaper articles to Omeka-S](https://glam-workbench.net/trove-newspapers/Upload-Trove-newspapers-to-Omeka/)"
   ]
  }
 ],
 "metadata": {
  "kernelspec": {
   "display_name": "Python 3 (ipykernel)",
   "language": "python",
   "name": "python3"
  },
  "language_info": {
   "codemirror_mode": {
    "name": "ipython",
    "version": 3
   },
   "file_extension": ".py",
   "mimetype": "text/x-python",
   "name": "python",
   "nbconvert_exporter": "python",
   "pygments_lexer": "ipython3",
   "version": "3.10.12"
  }
 },
 "nbformat": 4,
 "nbformat_minor": 5
}
