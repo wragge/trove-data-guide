{
 "cells": [
  {
   "cell_type": "markdown",
   "id": "4553adee-4402-42ed-ac14-f4e6507c1f66",
   "metadata": {
    "editable": true,
    "slideshow": {
     "slide_type": ""
    },
    "tags": []
   },
   "source": [
    "# Creating collections"
   ]
  },
  {
   "cell_type": "markdown",
   "id": "f692d6e0-f715-4bec-ad8e-cc81b9afbcba",
   "metadata": {},
   "source": [
    "## Data sources"
   ]
  },
  {
   "cell_type": "markdown",
   "id": "9443536f-eaa9-4056-87b6-9d0c380190c1",
   "metadata": {},
   "source": [
    "## Tools and resources"
   ]
  },
  {
   "cell_type": "markdown",
   "id": "849932d9-fec3-4661-9f6a-750e1b29ee58",
   "metadata": {},
   "source": [
    "## Tutorials and examples"
   ]
  }
 ],
 "metadata": {
  "kernelspec": {
   "display_name": "Python 3 (ipykernel)",
   "language": "python",
   "name": "python3"
  },
  "language_info": {
   "codemirror_mode": {
    "name": "ipython",
    "version": 3
   },
   "file_extension": ".py",
   "mimetype": "text/x-python",
   "name": "python",
   "nbconvert_exporter": "python",
   "pygments_lexer": "ipython3",
   "version": "3.10.12"
  }
 },
 "nbformat": 4,
 "nbformat_minor": 5
}
