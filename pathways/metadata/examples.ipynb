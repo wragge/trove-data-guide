{
 "cells": [
  {
   "cell_type": "markdown",
   "id": "8e5d4397-4cd4-410c-9c27-c642ea6006d7",
   "metadata": {},
   "source": [
    "# Tutorials and examples\n",
    "\n",
    "````{card}\n",
    "This page includes information on tutorials and examples to help you work with collection and system data from Trove.\n",
    "\n",
    "```{contents}\n",
    ":local:\n",
    ":backlinks: None\n",
    "```\n",
    "````"
   ]
  },
  {
   "cell_type": "markdown",
   "id": "f469d0a8-03cd-4dd8-89d1-3142179df737",
   "metadata": {},
   "source": [
    "## Examples from the GLAM Workbench\n",
    "\n",
    "[Exploring your TroveHarvester data](https://glam-workbench.net/trove-harvester/exploring-troveharvester-data/)\n",
    ": This notebook shows some ways in which you can analyse and visualise the article metadata you've harvested — show the distribution of articles over time and space; find which newspapers published the most articles.\n",
    "\n",
    "[Visualise the total number of newspaper articles in Trove by year & state](https://glam-workbench.net/trove-newspapers/visualise-total-newspaper-articles-by-state-year/)\n",
    ": Trove currently includes more 200 million digitised newspaper articles published between 1803 and 2015. In this notebook we explore how those newspaper articles are distributed over time, and by state.\n",
    "\n",
    "[Analyse rates of OCR correction](https://glam-workbench.net/trove-newspapers/Analysing_OCR_corrections/)\n",
    ": The full text of newspaper articles in Trove is extracted from page images using Optical Character Recognition (OCR). The accuracy of the OCR process is influenced by a range of factors including the font and the quality of the images. Many errors slip through. Volunteers have done a remarkable job in correcting these errors, but it's a huge task. This notebook explores the scale of OCR correction in Trove.\n",
    "\n",
    "[Beyond the copyright cliff of death](https://glam-workbench.net/trove-newspapers/Beyond_the_copyright_cliff_of_death/)\n",
    ": Most of the newspaper articles on Trove were published before 1955, but there are some from the later period. Let's find out how many, and which newspapers they were published in.\n",
    "\n",
    "[Visualise Trove newspaper searches over time](https://glam-workbench.net/trove-newspapers/visualise-searches-over-time/)\n",
    ": This notebook helps you zoom out and explore how the number of Trove newspaper articles in your search results varies over time by using the decade and year facets. We then combine this approach with other search facets to see how we can slice a set of results up in different ways to investigate historical changes.\n",
    "\n",
    "[Analyse public tags added to Trove](https://glam-workbench.net/trove-lists/analyse_tags/)\n",
    ": This notebook loads the complete dataset of Trove tags and explores some ways of analysing and visualising the tag data.\n",
    "\n",
    "[Exploring ABC Radio National metadata](https://glam-workbench.net/trove-music/explore-abcrn-data/)\n",
    ": This notebook shows a few ways you can start to explore the ABC Radio National metadata harvested from Trove.\n",
    "\n",
    "[The use of standard licences and rights statements in Trove image records](https://glam-workbench.net/trove-images/use-of-rights-statements/)\n",
    ": This notebook uses Trove's rights index to build a picture of which licences and rights statements are currently being applied to images, and by who."
   ]
  }
 ],
 "metadata": {
  "kernelspec": {
   "display_name": "Python 3 (ipykernel)",
   "language": "python",
   "name": "python3"
  },
  "language_info": {
   "codemirror_mode": {
    "name": "ipython",
    "version": 3
   },
   "file_extension": ".py",
   "mimetype": "text/x-python",
   "name": "python",
   "nbconvert_exporter": "python",
   "pygments_lexer": "ipython3",
   "version": "3.10.12"
  }
 },
 "nbformat": 4,
 "nbformat_minor": 5
}
