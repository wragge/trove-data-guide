{
 "cells": [
  {
   "cell_type": "markdown",
   "id": "9394ea99-3dc4-49b6-b020-5b4c7efac8f7",
   "metadata": {},
   "source": [
    "# Tools and resources\n",
    "\n",
    "````{card}\n",
    "This page includes information on tools and resources that you can use to analyse collection and system data from Trove.\n",
    "\n",
    "```{contents}\n",
    ":local:\n",
    ":backlinks: None\n",
    "```\n",
    "````\n",
    "\n",
    "## ARDC Community Data Lab\n",
    "\n",
    "These tools are developed, maintained or supported by the Community Data Lab or other projects within the HASS&I Research Data Commons.\n",
    "\n",
    "`````{grid}\n",
    ":gutter: 3\n",
    "\n",
    "````{grid-item-card} QueryPic\n",
    ":columns: 6\n",
    "\n",
    "![GW logo](/images/qp-wwi.png)\n",
    "\n",
    "QueryPic visualises searches in Trove's newspapers and gazettes, aggregating the number of results by day, month, or year. Simply copy and paste a url from a Trove web search to get started. QueryPic's charts help you explore patterns and trends, and if you find something interesting you can click on a point to view the results in Trove for that time period.\n",
    "\n",
    "+++\n",
    "```{button-link} https://glam-workbench.net/trove-newspapers/querypic/\n",
    ":color: primary\n",
    "More info\n",
    "```\n",
    "````\n",
    "````{grid-item-card} Trove Newspaper Data Dashboard\n",
    ":columns: 6\n",
    "\n",
    "![GW logo](/images/data-dashboard.png)\n",
    "\n",
    "Trove's collection of digitised newspapers is always changing – new articles and newspapers are being added by the NLA, while Trove users are busy correcting OCRd text and adding tags and comments. The search you run today might produce different results than the same query did a month ago, a year ago, or ten years ago. Researchers need to understand how these changes affect the queries they make, the results they find, and the arguments they construct. This dashboard helps researchers understand the context of their queries by presenting a snapshot of Trove's digitised newspapers, based on weekly data harvests.\n",
    "\n",
    "+++\n",
    "```{button-link} https://glam-workbench.net/trove-newspapers/querypic/\n",
    ":color: primary\n",
    "More info\n",
    "```\n",
    "````\n",
    "`````"
   ]
  },
  {
   "cell_type": "markdown",
   "id": "3f5529de-1444-4bbd-a985-142f5f02305f",
   "metadata": {},
   "source": [
    "## Other tools and resources\n",
    "\n",
    "- [Datasette](https://datasette.io/)\n",
    "- [TAPoR 3: Discover research tools for studying texts](https://tapor.ca/home)\n",
    "- [SSH Open Marketplace](https://marketplace.sshopencloud.eu/)"
   ]
  }
 ],
 "metadata": {
  "kernelspec": {
   "display_name": "Python 3 (ipykernel)",
   "language": "python",
   "name": "python3"
  },
  "language_info": {
   "codemirror_mode": {
    "name": "ipython",
    "version": 3
   },
   "file_extension": ".py",
   "mimetype": "text/x-python",
   "name": "python",
   "nbconvert_exporter": "python",
   "pygments_lexer": "ipython3",
   "version": "3.10.12"
  }
 },
 "nbformat": 4,
 "nbformat_minor": 5
}
