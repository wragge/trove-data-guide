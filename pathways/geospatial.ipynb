{
 "cells": [
  {
   "cell_type": "markdown",
   "id": "4553adee-4402-42ed-ac14-f4e6507c1f66",
   "metadata": {
    "editable": true,
    "slideshow": {
     "slide_type": ""
    },
    "tags": []
   },
   "source": [
    "# Maps and places"
   ]
  },
  {
   "cell_type": "markdown",
   "id": "f692d6e0-f715-4bec-ad8e-cc81b9afbcba",
   "metadata": {
    "editable": true,
    "slideshow": {
     "slide_type": ""
    },
    "tags": []
   },
   "source": [
    "## Maps and place data in Trove\n",
    "\n",
    "### Documentation\n",
    "\n",
    "### Pre-harvested datasets\n",
    "\n",
    "- [Trove digitised maps metadata](https://glam-workbench.net/trove-maps/single-maps-data/) {{gw}}\n",
    "- [Trove digitised maps – coordinates](https://glam-workbench.net/trove-maps/single-maps-coordinates-data/) {{gw}}\n",
    "- Trove newspaper publication places CSV\n",
    "\n",
    "### Creating datasets\n",
    "\n",
    "- [MARC Geographic Areas – Wikidata mappings](https://github.com/GLAM-Workbench/marc-geographicareas)"
   ]
  },
  {
   "cell_type": "markdown",
   "id": "9443536f-eaa9-4056-87b6-9d0c380190c1",
   "metadata": {
    "editable": true,
    "slideshow": {
     "slide_type": ""
    },
    "tags": []
   },
   "source": [
    "## Tools and resources\n",
    "\n",
    "### ARDC Community Data Lab\n",
    "\n",
    "These tools are developed, maintained or supported by the Community Data Lab or other projects within the HASS&I Research Data Commons.\n",
    "\n",
    "`````{grid}\n",
    ":gutter: 3\n",
    "\n",
    "````{grid-item-card} Gazetteer of Historical Australian Places (GHAP)\n",
    "\n",
    "![IAW logo](/images/ghap-logo.png)\n",
    "\n",
    "Search and contribute to placenames in Australia with the Gazetteer of Historical Australian Placenames (GHAP). GHAP, for the first time, makes easily available aggregated data on 'all' placenames in Australia, based on ANPS data, including historical names.\n",
    "\n",
    "+++\n",
    "```{button-link} https://ghap.tlcmap.org/\n",
    ":color: primary\n",
    "More info\n",
    "```\n",
    "````\n",
    "\n",
    "````{grid-item-card} GeoJikuu\n",
    "\n",
    "GeoJikuu is a Python library for analysing geographical data that contains both spatial and spatiotemporal variables. \n",
    "\n",
    "+++\n",
    "```{button-link} https://github.com/kainedusher/GeoJikuu\n",
    ":color: primary\n",
    "More info\n",
    "```\n",
    "````\n",
    "`````\n",
    "\n",
    "### Other tools and resources\n",
    "\n",
    "- [TAPoR 3: Discover research tools for studying texts](https://tapor.ca/home)\n",
    "- [SSH Open Marketplace](https://marketplace.sshopencloud.eu/)"
   ]
  },
  {
   "cell_type": "markdown",
   "id": "849932d9-fec3-4661-9f6a-750e1b29ee58",
   "metadata": {},
   "source": [
    "## Tutorials and examples"
   ]
  }
 ],
 "metadata": {
  "kernelspec": {
   "display_name": "Python 3 (ipykernel)",
   "language": "python",
   "name": "python3"
  },
  "language_info": {
   "codemirror_mode": {
    "name": "ipython",
    "version": 3
   },
   "file_extension": ".py",
   "mimetype": "text/x-python",
   "name": "python",
   "nbconvert_exporter": "python",
   "pygments_lexer": "ipython3",
   "version": "3.10.12"
  }
 },
 "nbformat": 4,
 "nbformat_minor": 5
}
