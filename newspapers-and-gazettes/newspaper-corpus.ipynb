{
 "cells": [
  {
   "cell_type": "markdown",
   "id": "6fbbb66d-c73e-4475-8a81-952fa3247f6e",
   "metadata": {
    "editable": true,
    "slideshow": {
     "slide_type": ""
    },
    "tags": []
   },
   "source": [
    "# Understanding the digitised newspapers\n",
    "\n",
    "````{card} On this page\n",
    "Learn more about the history and characteristics of Trove's collection of digitised newspapers and the effects this might have on your research.\n",
    "\n",
    "```{contents}\n",
    ":local:\n",
    "```\n",
    "````"
   ]
  },
  {
   "cell_type": "code",
   "execution_count": 51,
   "id": "ece8817d-8f08-4695-b4e8-2fdba9c124a8",
   "metadata": {
    "editable": true,
    "slideshow": {
     "slide_type": ""
    },
    "tags": [
     "remove-cell"
    ]
   },
   "outputs": [
    {
     "data": {
      "text/plain": [
       "True"
      ]
     },
     "execution_count": 51,
     "metadata": {},
     "output_type": "execute_result"
    }
   ],
   "source": [
    "import os\n",
    "from operator import itemgetter\n",
    "\n",
    "import pandas as pd\n",
    "import requests\n",
    "from dotenv import load_dotenv\n",
    "from myst_nb import glue\n",
    "\n",
    "load_dotenv()"
   ]
  },
  {
   "cell_type": "code",
   "execution_count": 45,
   "id": "08b72f68-a13f-4401-8c1e-650be9597437",
   "metadata": {
    "editable": true,
    "slideshow": {
     "slide_type": ""
    },
    "tags": [
     "remove-cell"
    ]
   },
   "outputs": [],
   "source": [
    "YOUR_API_KEY = os.getenv(\"TROVE_API_KEY\")"
   ]
  },
  {
   "cell_type": "markdown",
   "id": "25903f4d-c475-491c-8093-63e8ba391383",
   "metadata": {
    "editable": true,
    "slideshow": {
     "slide_type": ""
    },
    "tags": []
   },
   "source": [
    "## The newspaper corpus is constructed\n",
    "\n",
    "Trove's collection of digitised newspapers has had a major impact on research in a number of HASS disciplines, particularly history. It's important then for researchers to think critically about the newspaper corpus, as they would with any historical source. What's available? What's missing? How does it change over time?\n",
    "\n",
    "Here's a chart that shows the number of digitised newspaper articles in Trove by year of publication.\n"
   ]
  },
  {
   "cell_type": "code",
   "execution_count": null,
   "id": "ee220e0f-47f2-4e8c-bfad-4f6479653954",
   "metadata": {
    "editable": true,
    "slideshow": {
     "slide_type": ""
    },
    "tags": [
     "hide-cell"
    ]
   },
   "outputs": [],
   "source": [
    "params = {\"category\": \"newspaper\", \"facet\": \"year\", \"encoding\": \"json\", \"n\": 0}\n",
    "\n",
    "headers = {\"X-API-KEY\": YOUR_API_KEY}\n",
    "\n",
    "facets = []\n",
    "for decade in range(180, 203):\n",
    "    params[\"l-decade\"] = decade\n",
    "    response = requests.get(\n",
    "        \"https://api.trove.nla.gov.au/v3/result\", params=params, headers=headers\n",
    "    )\n",
    "    data = response.json()\n",
    "    facets += [\n",
    "        {\"year\": t[\"search\"], \"total\": t[\"count\"]}\n",
    "        for t in data[\"category\"][0][\"facets\"][\"facet\"][0][\"term\"]\n",
    "    ]\n",
    "    facets.sort(key=itemgetter(\"year\"))\n",
    "\n",
    "df = pd.DataFrame(facets)"
   ]
  },
  {
   "cell_type": "markdown",
   "id": "ff4efe9b-a893-4326-8973-93b1354ea0a1",
   "metadata": {
    "editable": true,
    "slideshow": {
     "slide_type": ""
    },
    "tags": []
   },
   "source": [
    "You might be wondering about the peak in 1915 – is it because of World War I? Well, yes and no. In the lead up to the centenary of WWI, it was decided to focus digitision dollars on newspapers from the WWI period. The peak reflects decisions about funding, not the impact of historical events. And what about the dramatic collapse in the number of articles after 1954 – did the arrival of television send newspapers into a cataclysmic decline? No, it's because of copyright. The NLA has chosen to manage some of the risks around copyright by limiting digitisation to newspaper issues published before 1955, unless there's a special arrangement with the publisher.\n",
    "\n",
    "The obvious impact of these policy decisions is an important reminder that **the Trove corpus is not unchanging or inevitable, it's constructed** – it's the product of preservation decisions, funding priorities, library policies, digitisation technologies, professional practices, legal frameworks, and a fair bit of luck.\n",
    "\n",
    "## The newspaper corpus has a history\n",
    "\n",
    "````{margin}\n",
    "```{seealso}\n",
    "For more examples and discussion of the current composition of the Trove newspaper corpus, see the GLAM Workbench notebook, [Visualise the total number of newspaper articles in Trove by year and state](https://glam-workbench.net/trove-newspapers/visualise-total-newspaper-articles-by-state-year/)\n",
    "```\n",
    "````\n",
    "\n",
    "Oddly enough, Trove is not very good at presenting its own history. While there are regular updates on newly-added titles, there's no way of seeing when particular titles were added or the change in the number of articles over time. Earlier versions of Trove included a page of useful statistics, but this was removed in the 2020 update. To explore how Trove has changed over time, you need to piece together different data sources.\n",
    "\n",
    "I started analysing Trove searches back in 2011, and continued at irregular intervals to create charts showing the number of articles per year in Trove. I've extracted the data from these charts and compiled it into a dataset available from [Zenodo](https://doi.org/10.5281/zenodo.6471544) and [GitHub](https://github.com/wragge/trove-newspaper-totals-historical). Using this data, you can visualise how Trove has changed between 2011 and 2022. For example, here's the growth in the total number of articles"
   ]
  },
  {
   "cell_type": "code",
   "execution_count": 38,
   "id": "7ab54088-89dd-41a0-a810-1dbd42566c4e",
   "metadata": {
    "editable": true,
    "slideshow": {
     "slide_type": ""
    },
    "tags": [
     "remove-output",
     "hide-cell"
    ]
   },
   "outputs": [
    {
     "data": {
      "text/html": [
       "\n",
       "<style>\n",
       "  #altair-viz-ac253e2348434b6291e0bc23f15b0c67.vega-embed {\n",
       "    width: 100%;\n",
       "    display: flex;\n",
       "  }\n",
       "\n",
       "  #altair-viz-ac253e2348434b6291e0bc23f15b0c67.vega-embed details,\n",
       "  #altair-viz-ac253e2348434b6291e0bc23f15b0c67.vega-embed details summary {\n",
       "    position: relative;\n",
       "  }\n",
       "</style>\n",
       "<div id=\"altair-viz-ac253e2348434b6291e0bc23f15b0c67\"></div>\n",
       "<script type=\"text/javascript\">\n",
       "  var VEGA_DEBUG = (typeof VEGA_DEBUG == \"undefined\") ? {} : VEGA_DEBUG;\n",
       "  (function(spec, embedOpt){\n",
       "    let outputDiv = document.currentScript.previousElementSibling;\n",
       "    if (outputDiv.id !== \"altair-viz-ac253e2348434b6291e0bc23f15b0c67\") {\n",
       "      outputDiv = document.getElementById(\"altair-viz-ac253e2348434b6291e0bc23f15b0c67\");\n",
       "    }\n",
       "    const paths = {\n",
       "      \"vega\": \"https://cdn.jsdelivr.net/npm/vega@5?noext\",\n",
       "      \"vega-lib\": \"https://cdn.jsdelivr.net/npm/vega-lib?noext\",\n",
       "      \"vega-lite\": \"https://cdn.jsdelivr.net/npm/vega-lite@5.8.0?noext\",\n",
       "      \"vega-embed\": \"https://cdn.jsdelivr.net/npm/vega-embed@6?noext\",\n",
       "    };\n",
       "\n",
       "    function maybeLoadScript(lib, version) {\n",
       "      var key = `${lib.replace(\"-\", \"\")}_version`;\n",
       "      return (VEGA_DEBUG[key] == version) ?\n",
       "        Promise.resolve(paths[lib]) :\n",
       "        new Promise(function(resolve, reject) {\n",
       "          var s = document.createElement('script');\n",
       "          document.getElementsByTagName(\"head\")[0].appendChild(s);\n",
       "          s.async = true;\n",
       "          s.onload = () => {\n",
       "            VEGA_DEBUG[key] = version;\n",
       "            return resolve(paths[lib]);\n",
       "          };\n",
       "          s.onerror = () => reject(`Error loading script: ${paths[lib]}`);\n",
       "          s.src = paths[lib];\n",
       "        });\n",
       "    }\n",
       "\n",
       "    function showError(err) {\n",
       "      outputDiv.innerHTML = `<div class=\"error\" style=\"color:red;\">${err}</div>`;\n",
       "      throw err;\n",
       "    }\n",
       "\n",
       "    function displayChart(vegaEmbed) {\n",
       "      vegaEmbed(outputDiv, spec, embedOpt)\n",
       "        .catch(err => showError(`Javascript Error: ${err.message}<br>This usually means there's a typo in your chart specification. See the javascript console for the full traceback.`));\n",
       "    }\n",
       "\n",
       "    if(typeof define === \"function\" && define.amd) {\n",
       "      requirejs.config({paths});\n",
       "      require([\"vega-embed\"], displayChart, err => showError(`Error loading script: ${err.message}`));\n",
       "    } else {\n",
       "      maybeLoadScript(\"vega\", \"5\")\n",
       "        .then(() => maybeLoadScript(\"vega-lite\", \"5.8.0\"))\n",
       "        .then(() => maybeLoadScript(\"vega-embed\", \"6\"))\n",
       "        .catch(showError)\n",
       "        .then(() => displayChart(vegaEmbed));\n",
       "    }\n",
       "  })({\"config\": {\"view\": {\"continuousWidth\": 300, \"continuousHeight\": 300}}, \"data\": {\"name\": \"data-5bb4a3706227fc5ee19305e265ae0292\"}, \"mark\": {\"type\": \"area\", \"point\": true}, \"encoding\": {\"tooltip\": [{\"field\": \"total\", \"format\": \",\", \"type\": \"quantitative\"}, {\"field\": \"harvested\", \"type\": \"temporal\"}], \"x\": {\"field\": \"harvested\", \"title\": \"harvest date\", \"type\": \"temporal\"}, \"y\": {\"field\": \"total\", \"title\": \"number of articles\", \"type\": \"quantitative\"}}, \"padding\": 20, \"width\": \"container\", \"$schema\": \"https://vega.github.io/schema/vega-lite/v5.8.0.json\", \"datasets\": {\"data-5bb4a3706227fc5ee19305e265ae0292\": [{\"harvested\": \"2011-04-12T00:00:00\", \"total\": 48481646}, {\"harvested\": \"2011-08-04T00:00:00\", \"total\": 52270588}, {\"harvested\": \"2014-09-12T00:00:00\", \"total\": 135040041}, {\"harvested\": \"2015-11-29T00:00:00\", \"total\": 188146445}, {\"harvested\": \"2016-12-14T00:00:00\", \"total\": 206655551}, {\"harvested\": \"2019-07-28T00:00:00\", \"total\": 224797939}, {\"harvested\": \"2020-07-10T00:00:00\", \"total\": 228011887}, {\"harvested\": \"2021-04-27T00:00:00\", \"total\": 232201965}, {\"harvested\": \"2022-01-21T00:00:00\", \"total\": 233666386}]}}, {\"mode\": \"vega-lite\"});\n",
       "</script>"
      ],
      "text/plain": [
       "alt.Chart(...)"
      ]
     },
     "metadata": {},
     "output_type": "display_data"
    }
   ],
   "source": [
    "import altair as alt\n",
    "import arrow\n",
    "import pandas as pd\n",
    "\n",
    "dfs = []\n",
    "harvests = [\n",
    "    \"20110412\",\n",
    "    \"20110804\",\n",
    "    \"20140912\",\n",
    "    \"20151129\",\n",
    "    \"20161214\",\n",
    "    \"20190728\",\n",
    "    \"20200710\",\n",
    "    \"20210427\",\n",
    "    \"20220121\",\n",
    "]\n",
    "for harvest in harvests:\n",
    "    csv = f\"https://raw.githubusercontent.com/wragge/trove-newspaper-totals-historical/master/data/total_articles_by_year_{harvest}.csv\"\n",
    "    df = pd.read_csv(csv)\n",
    "    date = arrow.get(harvest, \"YYYYMMDD\")\n",
    "    df[\"harvested\"] = date.format(\"YYYY-MM-DD\")\n",
    "    dfs.append(df)\n",
    "\n",
    "\n",
    "df_all = pd.concat(dfs)\n",
    "df_all[\"year\"] = df_all[\"year\"].astype(str)\n",
    "\n",
    "harvest_totals = df_all.groupby(\"harvested\")[\"total\"].sum().to_frame().reset_index()\n",
    "harvest_totals[\"harvested\"] = pd.to_datetime(harvest_totals[\"harvested\"])\n",
    "\n",
    "chart_all = (\n",
    "    alt.Chart(harvest_totals)\n",
    "    .mark_area(point=True)\n",
    "    .encode(\n",
    "        x=alt.X(\"harvested:T\", title=\"harvest date\"),\n",
    "        y=alt.Y(\"total:Q\", title=\"number of articles\"),\n",
    "        tooltip=[alt.Tooltip(\"total:Q\", format=\",\"), \"harvested:T\"],\n",
    "    )\n",
    "    .properties(width=\"container\", padding=20)\n",
    ")\n",
    "\n",
    "display(chart_all)"
   ]
  },
  {
   "cell_type": "code",
   "execution_count": null,
   "id": "2c6ad403-3bda-4417-8120-2eb16773fb73",
   "metadata": {
    "editable": true,
    "slideshow": {
     "slide_type": ""
    },
    "tags": [
     "remove-cell"
    ]
   },
   "outputs": [],
   "source": [
    "glue(\"chart_all\", chart_all)"
   ]
  },
  {
   "cell_type": "markdown",
   "id": "ccd88cd0-e102-480c-b0a4-d62fc330b74c",
   "metadata": {
    "editable": true,
    "slideshow": {
     "slide_type": ""
    },
    "tags": []
   },
   "source": [
    "```{glue:figure} chart_all\n",
    ":name: chart-all\n",
    ":width: 600px\n",
    "\n",
    "Number of newspapers articles in Trove from 2011 to 2022\n",
    "```"
   ]
  },
  {
   "cell_type": "code",
   "execution_count": 42,
   "id": "fc5f9296-72e3-4b39-8b81-d8a0bd21f7ed",
   "metadata": {
    "editable": true,
    "slideshow": {
     "slide_type": ""
    },
    "tags": [
     "remove-cell"
    ]
   },
   "outputs": [
    {
     "data": {
      "text/plain": [
       "185184740"
      ]
     },
     "execution_count": 42,
     "metadata": {},
     "output_type": "execute_result"
    }
   ],
   "source": [
    "total_change = harvest_totals.iloc[-1][\"total\"] - harvest_totals.iloc[0][\"total\"]\n",
    "glue(\"total_change\", total_change)"
   ]
  },
  {
   "cell_type": "markdown",
   "id": "33a71df1-c019-4368-a5a4-116aab9ec64a",
   "metadata": {
    "editable": true,
    "slideshow": {
     "slide_type": ""
    },
    "tags": []
   },
   "source": [
    "Over the decade, {glue:text}`total_change:,` newspaper articles were added to Trove.\n",
    "\n",
    "You can also examine how the distribution of articles by publication year changed across the same period."
   ]
  },
  {
   "cell_type": "code",
   "execution_count": null,
   "id": "d17778aa-b0ae-4bf1-b253-3afc64970063",
   "metadata": {
    "editable": true,
    "slideshow": {
     "slide_type": ""
    },
    "tags": [
     "hide-cell"
    ]
   },
   "outputs": [],
   "source": [
    "chart_2011_2022 = (\n",
    "    alt.Chart(\n",
    "        df_all.loc[\n",
    "            (df_all[\"harvested\"] == \"2011-04-12\")\n",
    "            | (df_all[\"harvested\"] == \"2022-01-21\")\n",
    "        ]\n",
    "    )\n",
    "    .mark_line()\n",
    "    .encode(\n",
    "        x=alt.X(\"year:T\", axis=alt.Axis(labelOverlap=True)),\n",
    "        y=alt.Y(\"total:Q\", title=\"number of articles\"),\n",
    "        color=\"harvested:N\",\n",
    "        order=alt.Order(\"harvested:N\", sort=\"ascending\"),\n",
    "        tooltip=[\n",
    "            alt.Tooltip(\"year:T\", format=\"%Y\"),\n",
    "            alt.Tooltip(\"total:Q\", format=\",\"),\n",
    "            \"harvested:N\",\n",
    "        ],\n",
    "    )\n",
    "    .properties(width=\"container\", padding=20)\n",
    ")\n",
    "\n",
    "display(chart_2011_2022)"
   ]
  },
  {
   "cell_type": "code",
   "execution_count": null,
   "id": "ca5c8fac-fa7c-48f7-8c4b-0f9432e98a53",
   "metadata": {
    "editable": true,
    "slideshow": {
     "slide_type": ""
    },
    "tags": [
     "remove-cell"
    ]
   },
   "outputs": [],
   "source": [
    "glue(\"chart_2011_2022\", chart_2011_2022)"
   ]
  },
  {
   "cell_type": "markdown",
   "id": "a317ffe4-e84a-4db4-83cb-4cd9f05fc0f2",
   "metadata": {
    "editable": true,
    "slideshow": {
     "slide_type": ""
    },
    "tags": []
   },
   "source": [
    "```{glue:figure} chart_2011_2022\n",
    ":name: chart-all\n",
    ":width: 600px\n",
    "\n",
    "Number of newspapers articles in Trove by publication year, showing the change from 2011 to 2022\n",
    "```\n",
    "\n",
    "The focus on WWI-era newspapers didn't start until after 2011, but the impact was clearly evident by 2022.\n",
    "\n",
    "It's interesting to think about research using the newspapers that might have taken place between 2011 and 2022. How would a project started in 2011 differ to one initiated a decade later? But it's not just a matter of the size of the corpus, it's also important to consider the composition. Which newspapers were added and when? While this information isn't directly available from Trove, by [harvesting data from web archive captures](https://glam-workbench.net/trove-newspapers/historical-data-newspaper-titles/), I've managed to assemble a [list of titles and the approximate date they were added](https://gist.github.com/wragge/7d80507c3e7957e271c572b8f664031a).\n",
    "\n",
    "To try and capture a more complete record of changes in the Trove newspaper corpus, I've set up an automated process to [harvest data every week](https://github.com/wragge/trove-newspaper-totals) and display the results through the [Trove Newspapers Data Dashboard](https://wragge.github.io/trove-newspaper-totals/). It includes information on the number of articles, distribution by state and category, and additions to available titles.\n",
    "\n",
    "```{figure} /images/trove-data-dashboard.png\n",
    ":name: trove-data-dashboard\n",
    ":width: 600px\n",
    "\n",
    "Example of the data available from the Trove Newspaper Data Dashboard\n",
    "```\n",
    "\n",
    "## Where do the newspapers come from?\n",
    "\n",
    "Trove contains a number of different types of newspapers – as well as the familiar metropolitan dailies, there's rural and regional newspapers from around Australia, political and religious newspapers, as well as community newspapers in a variety of languages.\n",
    "\n",
    "[Trove Places](https://troveplaces.herokuapp.com/all/) is a simple web app that lets you explore the geographic distribution of Trove's newspapers by mapping places of publication and distribution.\n",
    "\n",
    "```{figure} /images/trove-places.png\n",
    ":name: trove-places\n",
    ":width: 600px\n",
    "\n",
    "Map from [Trove Places](https://troveplaces.herokuapp.com/all/) showing the geographic distribution of Trove newspapers\n",
    "```\n",
    "\n",
    "You can also use Trove's `state` facet to examine the number of titles published in each 'state' (the list of states also includes entries for 'National' and 'International')."
   ]
  },
  {
   "cell_type": "code",
   "execution_count": 84,
   "id": "8cc7031b-1f38-4f28-a418-9ddce8898c8a",
   "metadata": {
    "editable": true,
    "slideshow": {
     "slide_type": ""
    },
    "tags": [
     "hide-cell",
     "remove-output"
    ]
   },
   "outputs": [
    {
     "data": {
      "text/html": [
       "\n",
       "<style>\n",
       "  #altair-viz-efb11eec8d8347baa1b82c4ad46730b6.vega-embed {\n",
       "    width: 100%;\n",
       "    display: flex;\n",
       "  }\n",
       "\n",
       "  #altair-viz-efb11eec8d8347baa1b82c4ad46730b6.vega-embed details,\n",
       "  #altair-viz-efb11eec8d8347baa1b82c4ad46730b6.vega-embed details summary {\n",
       "    position: relative;\n",
       "  }\n",
       "</style>\n",
       "<div id=\"altair-viz-efb11eec8d8347baa1b82c4ad46730b6\"></div>\n",
       "<script type=\"text/javascript\">\n",
       "  var VEGA_DEBUG = (typeof VEGA_DEBUG == \"undefined\") ? {} : VEGA_DEBUG;\n",
       "  (function(spec, embedOpt){\n",
       "    let outputDiv = document.currentScript.previousElementSibling;\n",
       "    if (outputDiv.id !== \"altair-viz-efb11eec8d8347baa1b82c4ad46730b6\") {\n",
       "      outputDiv = document.getElementById(\"altair-viz-efb11eec8d8347baa1b82c4ad46730b6\");\n",
       "    }\n",
       "    const paths = {\n",
       "      \"vega\": \"https://cdn.jsdelivr.net/npm/vega@5?noext\",\n",
       "      \"vega-lib\": \"https://cdn.jsdelivr.net/npm/vega-lib?noext\",\n",
       "      \"vega-lite\": \"https://cdn.jsdelivr.net/npm/vega-lite@5.8.0?noext\",\n",
       "      \"vega-embed\": \"https://cdn.jsdelivr.net/npm/vega-embed@6?noext\",\n",
       "    };\n",
       "\n",
       "    function maybeLoadScript(lib, version) {\n",
       "      var key = `${lib.replace(\"-\", \"\")}_version`;\n",
       "      return (VEGA_DEBUG[key] == version) ?\n",
       "        Promise.resolve(paths[lib]) :\n",
       "        new Promise(function(resolve, reject) {\n",
       "          var s = document.createElement('script');\n",
       "          document.getElementsByTagName(\"head\")[0].appendChild(s);\n",
       "          s.async = true;\n",
       "          s.onload = () => {\n",
       "            VEGA_DEBUG[key] = version;\n",
       "            return resolve(paths[lib]);\n",
       "          };\n",
       "          s.onerror = () => reject(`Error loading script: ${paths[lib]}`);\n",
       "          s.src = paths[lib];\n",
       "        });\n",
       "    }\n",
       "\n",
       "    function showError(err) {\n",
       "      outputDiv.innerHTML = `<div class=\"error\" style=\"color:red;\">${err}</div>`;\n",
       "      throw err;\n",
       "    }\n",
       "\n",
       "    function displayChart(vegaEmbed) {\n",
       "      vegaEmbed(outputDiv, spec, embedOpt)\n",
       "        .catch(err => showError(`Javascript Error: ${err.message}<br>This usually means there's a typo in your chart specification. See the javascript console for the full traceback.`));\n",
       "    }\n",
       "\n",
       "    if(typeof define === \"function\" && define.amd) {\n",
       "      requirejs.config({paths});\n",
       "      require([\"vega-embed\"], displayChart, err => showError(`Error loading script: ${err.message}`));\n",
       "    } else {\n",
       "      maybeLoadScript(\"vega\", \"5\")\n",
       "        .then(() => maybeLoadScript(\"vega-lite\", \"5.8.0\"))\n",
       "        .then(() => maybeLoadScript(\"vega-embed\", \"6\"))\n",
       "        .catch(showError)\n",
       "        .then(() => displayChart(vegaEmbed));\n",
       "    }\n",
       "  })({\"config\": {\"view\": {\"continuousWidth\": 300, \"continuousHeight\": 300}}, \"data\": {\"name\": \"data-95cc76c312c9d52a0f9c6fb1fb8c7bb4\"}, \"mark\": {\"type\": \"bar\"}, \"encoding\": {\"color\": {\"field\": \"state\", \"type\": \"nominal\"}, \"tooltip\": [{\"field\": \"state\", \"type\": \"nominal\"}, {\"field\": \"total\", \"format\": \",\", \"type\": \"quantitative\"}], \"x\": {\"field\": \"total\", \"title\": \"number of titles\", \"type\": \"quantitative\"}, \"y\": {\"field\": \"state\", \"type\": \"nominal\"}}, \"width\": \"container\", \"$schema\": \"https://vega.github.io/schema/vega-lite/v5.8.0.json\", \"datasets\": {\"data-95cc76c312c9d52a0f9c6fb1fb8c7bb4\": [{\"state\": \"ACT\", \"total\": 8}, {\"state\": \"International\", \"total\": 13}, {\"state\": \"National\", \"total\": 9}, {\"state\": \"New South Wales\", \"total\": 551}, {\"state\": \"Northern Territory\", \"total\": 8}, {\"state\": \"Queensland\", \"total\": 107}, {\"state\": \"South Australia\", \"total\": 157}, {\"state\": \"Tasmania\", \"total\": 115}, {\"state\": \"Victoria\", \"total\": 440}, {\"state\": \"Western Australia\", \"total\": 382}]}}, {\"mode\": \"vega-lite\"});\n",
       "</script>"
      ],
      "text/plain": [
       "alt.Chart(...)"
      ]
     },
     "execution_count": 84,
     "metadata": {},
     "output_type": "execute_result"
    }
   ],
   "source": [
    "from collections import Counter\n",
    "\n",
    "import altair as alt\n",
    "import pandas as pd\n",
    "import requests\n",
    "\n",
    "params = {\"encoding\": \"json\"}\n",
    "\n",
    "headers = {\"X-API-KEY\": YOUR_API_KEY}\n",
    "\n",
    "response = requests.get(\n",
    "    \"https://api.trove.nla.gov.au/v3/newspaper/titles\", params=params, headers=headers\n",
    ")\n",
    "data = response.json()\n",
    "\n",
    "states = []\n",
    "\n",
    "for title in data[\"newspaper\"]:\n",
    "    states.append(title.get(\"state\", \"\"))\n",
    "\n",
    "df = pd.DataFrame(list(dict(Counter(states)).items()), columns=[\"state\", \"total\"])\n",
    "\n",
    "state_titles_chart = (\n",
    "    alt.Chart(df)\n",
    "    .mark_bar()\n",
    "    .encode(\n",
    "        x=alt.X(\"total:Q\", title=\"number of titles\"),\n",
    "        y=\"state:N\",\n",
    "        color=\"state:N\",\n",
    "        tooltip=[\"state:N\", alt.Tooltip(\"total:Q\", format=\",\")],\n",
    "    )\n",
    "    .properties(width=\"container\")\n",
    ")\n",
    "\n",
    "display(state_titles_chart)"
   ]
  },
  {
   "cell_type": "code",
   "execution_count": null,
   "id": "42f6d89d-ce14-460a-b027-3d00eed89f18",
   "metadata": {
    "editable": true,
    "slideshow": {
     "slide_type": ""
    },
    "tags": [
     "remove-cell"
    ]
   },
   "outputs": [],
   "source": [
    "glue(\"state_titles_chart\", state_titles_chart)"
   ]
  },
  {
   "cell_type": "markdown",
   "id": "a6d9d7b6-e16c-4db2-9f65-2247c2c04060",
   "metadata": {
    "editable": true,
    "slideshow": {
     "slide_type": ""
    },
    "tags": []
   },
   "source": [
    "```{glue:figure} state_titles_chart\n",
    ":name: state-titles-chart\n",
    ":width: 600px\n",
    "\n",
    "Number of newspaper titles published in each `state`\n",
    "```\n",
    "\n",
    "You might not be surprised to see that Trove contains more newspapers from NSW than any other state. But again, you should be careful about assuming that these differences are the product of Australia's publishing history, rather than more recent decisions. For example, NSW invested large amounts of money in digitisation through the State Library's 'Digital Excellence' program."
   ]
  },
  {
   "cell_type": "code",
   "execution_count": 88,
   "id": "a2970f9d-ae55-45b1-af8a-5dea3b9ed014",
   "metadata": {
    "editable": true,
    "slideshow": {
     "slide_type": ""
    },
    "tags": [
     "hide-cell",
     "remove-output"
    ]
   },
   "outputs": [
    {
     "data": {
      "text/html": [
       "\n",
       "<style>\n",
       "  #altair-viz-f62f72a38729408b92d98b23c5088f25.vega-embed {\n",
       "    width: 100%;\n",
       "    display: flex;\n",
       "  }\n",
       "\n",
       "  #altair-viz-f62f72a38729408b92d98b23c5088f25.vega-embed details,\n",
       "  #altair-viz-f62f72a38729408b92d98b23c5088f25.vega-embed details summary {\n",
       "    position: relative;\n",
       "  }\n",
       "</style>\n",
       "<div id=\"altair-viz-f62f72a38729408b92d98b23c5088f25\"></div>\n",
       "<script type=\"text/javascript\">\n",
       "  var VEGA_DEBUG = (typeof VEGA_DEBUG == \"undefined\") ? {} : VEGA_DEBUG;\n",
       "  (function(spec, embedOpt){\n",
       "    let outputDiv = document.currentScript.previousElementSibling;\n",
       "    if (outputDiv.id !== \"altair-viz-f62f72a38729408b92d98b23c5088f25\") {\n",
       "      outputDiv = document.getElementById(\"altair-viz-f62f72a38729408b92d98b23c5088f25\");\n",
       "    }\n",
       "    const paths = {\n",
       "      \"vega\": \"https://cdn.jsdelivr.net/npm/vega@5?noext\",\n",
       "      \"vega-lib\": \"https://cdn.jsdelivr.net/npm/vega-lib?noext\",\n",
       "      \"vega-lite\": \"https://cdn.jsdelivr.net/npm/vega-lite@5.8.0?noext\",\n",
       "      \"vega-embed\": \"https://cdn.jsdelivr.net/npm/vega-embed@6?noext\",\n",
       "    };\n",
       "\n",
       "    function maybeLoadScript(lib, version) {\n",
       "      var key = `${lib.replace(\"-\", \"\")}_version`;\n",
       "      return (VEGA_DEBUG[key] == version) ?\n",
       "        Promise.resolve(paths[lib]) :\n",
       "        new Promise(function(resolve, reject) {\n",
       "          var s = document.createElement('script');\n",
       "          document.getElementsByTagName(\"head\")[0].appendChild(s);\n",
       "          s.async = true;\n",
       "          s.onload = () => {\n",
       "            VEGA_DEBUG[key] = version;\n",
       "            return resolve(paths[lib]);\n",
       "          };\n",
       "          s.onerror = () => reject(`Error loading script: ${paths[lib]}`);\n",
       "          s.src = paths[lib];\n",
       "        });\n",
       "    }\n",
       "\n",
       "    function showError(err) {\n",
       "      outputDiv.innerHTML = `<div class=\"error\" style=\"color:red;\">${err}</div>`;\n",
       "      throw err;\n",
       "    }\n",
       "\n",
       "    function displayChart(vegaEmbed) {\n",
       "      vegaEmbed(outputDiv, spec, embedOpt)\n",
       "        .catch(err => showError(`Javascript Error: ${err.message}<br>This usually means there's a typo in your chart specification. See the javascript console for the full traceback.`));\n",
       "    }\n",
       "\n",
       "    if(typeof define === \"function\" && define.amd) {\n",
       "      requirejs.config({paths});\n",
       "      require([\"vega-embed\"], displayChart, err => showError(`Error loading script: ${err.message}`));\n",
       "    } else {\n",
       "      maybeLoadScript(\"vega\", \"5\")\n",
       "        .then(() => maybeLoadScript(\"vega-lite\", \"5.8.0\"))\n",
       "        .then(() => maybeLoadScript(\"vega-embed\", \"6\"))\n",
       "        .catch(showError)\n",
       "        .then(() => displayChart(vegaEmbed));\n",
       "    }\n",
       "  })({\"config\": {\"view\": {\"continuousWidth\": 300, \"continuousHeight\": 300}}, \"data\": {\"name\": \"data-e8b6cabc8f129497468500683b14e2db\"}, \"mark\": {\"type\": \"bar\"}, \"encoding\": {\"color\": {\"field\": \"state\", \"type\": \"nominal\"}, \"tooltip\": [{\"field\": \"state\", \"type\": \"nominal\"}, {\"field\": \"total\", \"format\": \",\", \"type\": \"quantitative\"}], \"x\": {\"field\": \"total\", \"title\": \"number of articles\", \"type\": \"quantitative\"}, \"y\": {\"field\": \"state\", \"type\": \"nominal\"}}, \"width\": \"container\", \"$schema\": \"https://vega.github.io/schema/vega-lite/v5.8.0.json\", \"datasets\": {\"data-e8b6cabc8f129497468500683b14e2db\": [{\"state\": \"New South Wales\", \"total\": 85322937}, {\"state\": \"Victoria\", \"total\": 45003638}, {\"state\": \"Queensland\", \"total\": 41131526}, {\"state\": \"Western Australia\", \"total\": 25369631}, {\"state\": \"South Australia\", \"total\": 25011982}, {\"state\": \"Tasmania\", \"total\": 15850246}, {\"state\": \"ACT\", \"total\": 3296997}, {\"state\": \"International\", \"total\": 854022}, {\"state\": \"National\", \"total\": 663996}, {\"state\": \"Northern Territory\", \"total\": 409433}]}}, {\"mode\": \"vega-lite\"});\n",
       "</script>"
      ],
      "text/plain": [
       "alt.Chart(...)"
      ]
     },
     "metadata": {},
     "output_type": "display_data"
    }
   ],
   "source": [
    "import altair as alt\n",
    "import pandas as pd\n",
    "import requests\n",
    "\n",
    "params = {\n",
    "    \"category\": \"newspaper\",\n",
    "    \"facet\": \"state\",\n",
    "    \"l-artType\": \"newspaper\",\n",
    "    \"encoding\": \"json\",\n",
    "    \"n\": 0,\n",
    "}\n",
    "\n",
    "headers = {\"X-API-KEY\": YOUR_API_KEY}\n",
    "\n",
    "response = requests.get(\n",
    "    \"https://api.trove.nla.gov.au/v3/result\", params=params, headers=headers\n",
    ")\n",
    "data = response.json()\n",
    "facets = [\n",
    "    {\"state\": t[\"search\"], \"total\": t[\"count\"]}\n",
    "    for t in data[\"category\"][0][\"facets\"][\"facet\"][0][\"term\"]\n",
    "]\n",
    "\n",
    "df = pd.DataFrame(facets)\n",
    "\n",
    "state_articles_chart = (\n",
    "    alt.Chart(df)\n",
    "    .mark_bar()\n",
    "    .encode(\n",
    "        x=alt.X(\"total:Q\", title=\"number of articles\"),\n",
    "        y=\"state:N\",\n",
    "        color=\"state:N\",\n",
    "        tooltip=[\"state:N\", alt.Tooltip(\"total:Q\", format=\",\")],\n",
    "    )\n",
    "    .properties(width=\"container\")\n",
    ")\n",
    "\n",
    "display(state_articles_chart)"
   ]
  },
  {
   "cell_type": "code",
   "execution_count": null,
   "id": "d650f760-01d9-401d-8dbf-bdad3db496d2",
   "metadata": {
    "editable": true,
    "slideshow": {
     "slide_type": ""
    },
    "tags": [
     "remove-cell"
    ]
   },
   "outputs": [],
   "source": [
    "glue(\"state_articles_chart\", state_articles_chart)"
   ]
  },
  {
   "cell_type": "markdown",
   "id": "9e85be42-0db9-4b54-95e0-4ce9626675ac",
   "metadata": {
    "editable": true,
    "slideshow": {
     "slide_type": ""
    },
    "tags": []
   },
   "source": [
    "Another approach is to look at the number of newspaper *articles* published in each state.\n",
    "\n",
    "```{glue:figure} state_articles_chart\n",
    ":name: state-articles-chart\n",
    ":width: 600px\n",
    "\n",
    "Number of newspaper articles published in each `state`\n",
    "```\n",
    "\n",
    "It's interesting that the difference in the number of articles between NSW and Victoria is much greater than the difference in number of titles. It suggests that there might be underlying differences in the type of newspapers or their publication dates. This chart also indicates that about **a third of all newspaper articles in Trove were published in NSW**. How might that affect your research?"
   ]
  },
  {
   "cell_type": "markdown",
   "id": "0a163fc3-3f15-4bf4-8629-b1fb168e2004",
   "metadata": {
    "editable": true,
    "slideshow": {
     "slide_type": ""
    },
    "tags": [
     "hide-cell",
     "remove-output"
    ]
   },
   "source": [
    "## What's missing?\n",
    "\n",
    "It's been estimated that around 7,700 print newspapers have been published in Australia. {cite:p}`berthonFacingFutureAustralian2013a` The number of titles in Trove currently stands at 1,790 – that's a significant difference! This might again be due to digitisation funding priorities, or the fact that some short-lived newspapers just haven't survived in any form.\n",
    "\n",
    "The Australian Newspaper Plan (ANPlan), a collaboration between National and State Libraries, worked to identity and preserve Australian newspapers, providing the foundation for Trove. ANPlan also compiled [useful lists of missing titles](https://webarchive.nla.gov.au/awa/20180306065216/http://pandora.nla.gov.au/pan/161756/20180306-0810/www.nla.gov.au/australian-newspaper-plan/about/collect.html). (Ironically, the ANPlan website has itself disappeared, but can be found in the Australian Web Archive.)\n",
    "\n",
    "Even when titles have been added to Trove, it's not easy to tell if they are complete. Some newspapers published multiple editions throughout the day. Trove only includes a single edition, so it's possible some content might be missing. A fascinating example of this is provided by Robert Phiddian, Stephanie Brookes, Lindsay Foyle and Richard Scully's article '\"For Gorsake, Stop Laughing: This is Serious!\" — Australia's Fragile Cartooning Archive'.{cite:p}`phiddianGorsakeStopLaughing2023` The article examines how Stan Cross's famous 'Stop Laughing' cartoon, published in *Smith's Weekly*, came to be missing from Trove, and explores some of the implications for researchers.\n",
    "\n",
    "```{figure} /images/missing-page.png\n",
    ":name: missing-page\n",
    ":width: 300\n",
    "Example of a missing page placeholder, from [The Sydney Mail and New South Wales Advertiser, 6 January 1894, page 1](http://nla.gov.au/nla.news-page20232534)\n",
    "```\n",
    "\n",
    "Sometimes whole issues or [individual pages](newspaper-data-pages-missing) can be missing from Trove. I've attempted to compile  data about missing pages, but inconsistencies in pagination make it difficult to be certain whether a page is actually missing or not. Here, for example, is [an issue of the *The Albury Banner and Wodonga Express*](https://trove.nla.gov.au/newspaper/page/28233310) which seems to have multiple pages missing, but is in fact just out of order.\n",
    "\n",
    "My rough data indicates about one in a thousand pages might be missing. What is perhaps more interesting is that these gaps are not evenly distributed. For example, the *WA Record* is missing about 5.5% of its pages, but most of these are pages two and three from issues published between 1897 and 1915. Intriguingly, the *King Island Times* is missing page five in most issues from the 1920s to the 1940s. What was on page 5? There's also significant damage to the original print copies of the *Queensland Times*, resulting in both missing and partial pages.\n",
    "\n",
    "```{figure} /images/9747704-level1.jpg\n",
    ":name: missing-page\n",
    ":width: 400\n",
    "Example of a damaged page from the [*Queensland Times*, 2 January 1911, p. 3](http://nla.gov.au/nla.news-page9747704)\n",
    "```\n",
    "\n",
    "While Trove does include markers to indicate where issues and pages are missing, you can only find these by browsing. There are no measures of completeness displayed in the web interface or title metadata, and of course you can't find missing pages by searching. While the proportion of pages missing seems small, the uneven distribution could have an impact on some research projects.\n",
    "\n",
    "## Correcting OCR errors\n",
    "\n",
    "````{margin}\n",
    "```{seealso}\n",
    "For more analysis of OCR corrections in Trove newspapers see the GLAM Workbench notebook [Analyse rates of OCR correction](https://glam-workbench.net/trove-newspapers/Analysing_OCR_corrections/).\n",
    "```\n",
    "````\n",
    "\n",
    "Text is extracted from images of newspaper pages in Trove using Optical Character Recognition (OCR). This text is indexed to enable users to search the full content of articles. It's so easy and familiar that you can overlook how transformative this has been. Instead of working top-down though titles and indexes, browsing through endless rolls of microfilm, researchers can use a few keywords to find thousands of fragments of everyday life.\n",
    "\n",
    "The OCR-generated text can also be analysed at scale, using Natural Language Processing (NLP) to explore changing patterns in usage and meaning, opening up new possibilities for research.\n",
    "\n",
    "The problem is that the OCR-generated text is rarely 100% accurate. The NLA's early tests on Australian newspapers indicated that the OCR software's accuracy in recognising individual characters varied between 71% and 98.02%. {cite:p}`holleyHowGoodCan2009b` High OCR error rates have an impact on both the discovery and analysis of digitised newspaper articles.\n",
    "\n",
    "Concerns about OCR accuracy led the NLA to develop a system that allowed Trove users to correct the OCR-generated text. This has been very successful, with millions of lines of text corrected by a large community of volunteers. But it's important to put these efforts into context.\n",
    "\n",
    "Using the `has:corrections` index you can find the number of articles in Trove with corrections."
   ]
  },
  {
   "cell_type": "code",
   "execution_count": 93,
   "id": "5c4fc31b-284e-4421-a082-3f283b508e94",
   "metadata": {
    "editable": true,
    "slideshow": {
     "slide_type": ""
    },
    "tags": [
     "hide-input"
    ]
   },
   "outputs": [
    {
     "name": "stdout",
     "output_type": "stream",
     "text": [
      "15,275,089 articles have user corrections\n"
     ]
    }
   ],
   "source": [
    "import altair as alt\n",
    "import pandas as pd\n",
    "import requests\n",
    "\n",
    "\n",
    "def get_total(params):\n",
    "    headers = {\"X-API-KEY\": YOUR_API_KEY}\n",
    "    response = requests.get(\n",
    "        \"https://api.trove.nla.gov.au/v3/result\", params=params, headers=headers\n",
    "    )\n",
    "    data = response.json()\n",
    "    return data[\"category\"][0][\"records\"][\"total\"]\n",
    "\n",
    "\n",
    "total_with_corrections = get_total(\n",
    "    {\n",
    "        \"q\": \"has:corrections\",\n",
    "        \"l-artType\": \"newspaper\",\n",
    "        \"category\": \"newspaper\",\n",
    "        \"encoding\": \"json\",\n",
    "    }\n",
    ")\n",
    "\n",
    "print(f\"{total_with_corrections:,} articles have user corrections\")"
   ]
  },
  {
   "cell_type": "markdown",
   "id": "1d83ce69-6505-4581-b9cd-ba917ea0ea5e",
   "metadata": {},
   "source": [
    "More than 15 million articles have user corrections! That's an impressive amount, but what proportion of the total number of articles does this represent?"
   ]
  },
  {
   "cell_type": "code",
   "execution_count": 98,
   "id": "54a4b076-b2ec-4518-8c03-26ce86fa8082",
   "metadata": {
    "editable": true,
    "slideshow": {
     "slide_type": ""
    },
    "tags": [
     "hide-input"
    ]
   },
   "outputs": [
    {
     "name": "stdout",
     "output_type": "stream",
     "text": [
      "6.29% of articles have corrections\n"
     ]
    }
   ],
   "source": [
    "total_articles = get_total(\n",
    "    {\"l-artType\": \"newspaper\", \"category\": \"newspaper\", \"encoding\": \"json\"}\n",
    ")\n",
    "\n",
    "print(f\"{total_with_corrections / total_articles:.2%} of articles have corrections\")"
   ]
  },
  {
   "cell_type": "markdown",
   "id": "5b7ac511-e529-4661-9d06-523f3b30689b",
   "metadata": {},
   "source": [
    "While users have made an important contribution to the quality of the text available from the newspapers, the task is huge. More than 93% of articles have no user corrections, and more are being added every week. This is not a job that will be completed by humans alone.\n",
    "\n",
    "The NLA has already undertaken some trials using machine learning to correct OCR generated text. In June 2021, the Overproof system was used to [improve the accuracy of 10 million uncorrected articles](http://nla-overproof.projectcomputing.com/). This led to significant gains in search retrieval. The machine corrected texts have been added back into Trove, but don't seem to be included in the `has:corrections` results. It's also worth noting that the focus of Overproof is on improving search results, rather than correcting every word. This might have implications for projects using computational methods to analyse texts."
   ]
  }
 ],
 "metadata": {
  "kernelspec": {
   "display_name": "Python 3 (ipykernel)",
   "language": "python",
   "name": "python3"
  },
  "language_info": {
   "codemirror_mode": {
    "name": "ipython",
    "version": 3
   },
   "file_extension": ".py",
   "mimetype": "text/x-python",
   "name": "python",
   "nbconvert_exporter": "python",
   "pygments_lexer": "ipython3",
   "version": "3.8.12"
  }
 },
 "nbformat": 4,
 "nbformat_minor": 5
}
