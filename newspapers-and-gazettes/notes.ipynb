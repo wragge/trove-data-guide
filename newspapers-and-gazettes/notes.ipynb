{
 "cells": [
  {
   "cell_type": "markdown",
   "id": "c37526ef-03d4-40bc-9e79-c3fc01be8099",
   "metadata": {
    "editable": true,
    "slideshow": {
     "slide_type": ""
    },
    "tags": []
   },
   "source": [
    "Example of a single advertising 'article' that spans multiple pages and includes many individual ads: https://trove.nla.gov.au/newspaper/article/101752752/10453662"
   ]
  },
  {
   "cell_type": "code",
   "execution_count": null,
   "id": "204968aa-127f-4904-b001-3ab1003ccca0",
   "metadata": {
    "editable": true,
    "slideshow": {
     "slide_type": ""
    },
    "tags": []
   },
   "outputs": [],
   "source": []
  }
 ],
 "metadata": {
  "kernelspec": {
   "display_name": "Python 3 (ipykernel)",
   "language": "python",
   "name": "python3"
  },
  "language_info": {
   "codemirror_mode": {
    "name": "ipython",
    "version": 3
   },
   "file_extension": ".py",
   "mimetype": "text/x-python",
   "name": "python",
   "nbconvert_exporter": "python",
   "pygments_lexer": "ipython3",
   "version": "3.8.12"
  }
 },
 "nbformat": 4,
 "nbformat_minor": 5
}
