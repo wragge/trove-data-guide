{
 "cells": [
  {
   "cell_type": "markdown",
   "id": "b728ca20-6120-4bb3-b53b-2a8faaffd1f2",
   "metadata": {
    "editable": true,
    "slideshow": {
     "slide_type": ""
    },
    "tags": []
   },
   "source": [
    "# Accessing data about newspaper and gazette articles"
   ]
  },
  {
   "cell_type": "markdown",
   "id": "e5dcd97c-c5d2-41b6-aaeb-afaac70a64f5",
   "metadata": {},
   "source": [
    "![Screenshot of Trove web interface displaying basic article metadata](/images/trove-article-metadata.png)"
   ]
  },
  {
   "cell_type": "markdown",
   "id": "6956ffdb-3a72-46bc-b93c-d299affb9024",
   "metadata": {
    "editable": true,
    "slideshow": {
     "slide_type": ""
    },
    "tags": []
   },
   "source": [
    "```{contents}\n",
    ":local:\n",
    ":backlinks: None\n",
    "```"
   ]
  },
  {
   "cell_type": "code",
   "execution_count": 3,
   "id": "9962c4ac-93fa-40c0-8343-06ece0df5aad",
   "metadata": {
    "editable": true,
    "slideshow": {
     "slide_type": ""
    },
    "tags": [
     "remove-cell"
    ]
   },
   "outputs": [],
   "source": [
    "import datetime\n",
    "import os\n",
    "\n",
    "import altair as alt\n",
    "import pandas as pd\n",
    "import requests\n",
    "from dotenv import load_dotenv\n",
    "from IPython.display import HTML, JSON\n",
    "from myst_nb import glue\n",
    "\n",
    "load_dotenv()\n",
    "YOUR_API_KEY = os.getenv(\"TROVE_API_KEY\")"
   ]
  },
  {
   "cell_type": "markdown",
   "id": "91d05c5d-71e1-48dd-a8c1-b9e45496f8f8",
   "metadata": {},
   "source": [
    "## What are articles?\n",
    "\n",
    "When you search in Trove's digitised newspapers, you're searching for *articles*. The boundaries of articles are defined as part of the {term}`OCR` process. In most cases they represent a single piece of content with a heading and some text (or an illustration). But sometimes blocks of content are grouped together. Advertisements, for example, are often grouped as a single 'article' headed 'Advertising'. A single article can also be split across multiple pages."
   ]
  },
  {
   "cell_type": "markdown",
   "id": "0daeae62-1f5d-4580-a6bc-c43fbec5b748",
   "metadata": {},
   "source": [
    "## Article links and connections\n",
    "\n",
    "Articles exist at the bottom of a hierarchy of newspapers, issues, and pages. Article metadata includes information linking articles to other levels in this hierarchy, but the type and form of these links varies.\n",
    "\n",
    "(newspaper-article-identifiers)=\n",
    "### Article identifiers\n",
    "\n",
    "Every newspaper article in Trove has its own unique identifier. This identifier is used in persistent links to articles on the Trove web site. In the web interface, you can find the identifier under the article's 'Cite' tab, it'll look something like this `http://nla.gov.au/nla.news-article163325648`\n",
    "\n",
    "```{figure} /images/article-cite.png\n",
    ":name: article-cite\n",
    ":width: 300\n",
    "Example of an article identifier found in the 'Cite' tab.\n",
    "```\n",
    "\n",
    "If you follow an article identifier you'll get redirected to a different url that looks like this `https://trove.nla.gov.au/newspaper/article/163325648`. Notice that the number at the end of the identifier and the redirected url are the same, `163325648`. You can use this numeric identifier with the `/newspaper` endpoint of the Trove API to retrieve metadata and full text.\n",
    "\n",
    "### Articles and newspaper titles\n",
    "\n",
    "Links to newspaper **titles** are perhaps the most straightforward. Each article is linked to a single newspaper title by the title's unique identifier. An article's metadata record includes a field for `title` that includes both the numeric identifier and the newspaper's masthead. for example:\n",
    "\n",
    "```json\n",
    "\"title\": {\n",
    "    \"id\": \"101\",\n",
    "    \"title\": \"Western Mail (Perth, WA : 1885 - 1954)\"\n",
    "}\n",
    "```\n",
    "\n",
    "You can use the newspaper's `id` to request more information from the `newspaper/titles` API endpoint.\n",
    "\n",
    "### Articles and issues\n",
    "\n",
    "There are no direct links from articles to newspaper **issues**. However, articles share a date with their parent issue, so it's possible to use the date to connect them. For example you can use a `date` search to find all the articles in an issue."
   ]
  },
  {
   "cell_type": "markdown",
   "id": "ef18e623-6c0f-4f33-ad38-4f336a36608c",
   "metadata": {
    "editable": true,
    "slideshow": {
     "slide_type": ""
    },
    "tags": []
   },
   "source": [
    "```{admonition} But what about 'editions'?\n",
    ":class: note\n",
    "One problem in trying to link articles with issues is that newspapers often published multiple editions per day. So to identify a specific issue you might need both a date *and* an edition. This is not really possible in Trove, because editions are rarely documented. This is something to keep in mind if, for example, you're trying to match a Trove article with an original paper copy, or trying to track down a pre-Trove reference – a date might not be enough!\n",
    "```"
   ]
  },
  {
   "cell_type": "markdown",
   "id": "9631217f-8522-4994-9b62-1bcc85b3ef9a",
   "metadata": {},
   "source": [
    "### Articles and pages\n",
    "\n",
    "There are two ways in which articles are linked to **pages**. The first is simply by the `page` value, which is a number indicating the sequence of a page within an issue. This *usually* corresponds to the page number printed on the page, however, sometimes issues include separately numbered supplements. You can tell if a page is part of a supplement by looking at the confusingly-named `pageSequence` value – it will typically include an 'S' after the page number. There might also be a `pageLabel` value that provides the number printed on the page within the supplement.\n",
    "\n",
    "Here's [an advertisement for abstestos cement](https://trove.nla.gov.au/newspaper/article/48076559/) in a 1957 building supplement published as part of the *Australian Women's Weekly*. The article's metadata record includes the following page values:\n",
    "\n",
    "```json\n",
    "\"page\": \"82\",\n",
    "\"pageSequence\": \"82 S\",\n",
    "\"pageLabel\": \"2\",\n",
    "```\n",
    "\n",
    "This means the article is on the 82nd page of the issue, but this page is within a supplement and is numbered '2' on the printed page.\n",
    "\n",
    "The second way articles are linked to pages is by the page's unique identifier. If you set `reclevel` to `full` when requesting article records from the API, the metadata will include a `trovePageUrl` value, for example:\n",
    "\n",
    "```json\n",
    "\"trovePageUrl\": \"https://nla.gov.au/nla.news-page5417618\"\n",
    "```\n",
    "\n",
    "If you follow the url it will display the page in the Trove web interface, but the numeric part of the url uniquely identifies the page and can be used to do things like downloading an image of a page."
   ]
  },
  {
   "cell_type": "markdown",
   "id": "1a85364e-ff64-413f-a3fd-0bce0758bdb3",
   "metadata": {},
   "source": [
    "```{admonition} What happens when articles are split over multiple pages?\n",
    ":class: note\n",
    "The `page` value in an article's metadata is only ever a single number. If an article is split over multiple pages, then the `page` value will indicate the page on which the article *begins*. The metadata doesn't include the numbers of any subsequent pages. You can, however, find out whether an article is split across pages by looking at the `pdf` field. This field contains a list of links to page PDFs. The number of links will tell you the number of pages the article appears on. (But note that the `pdf` field seems to be missing from *Australian Women's Weekly* articles.) The PDF links also include the numeric identifiers for each page.\n",
    "```"
   ]
  },
  {
   "cell_type": "markdown",
   "id": "573faf18-f368-41d5-8d43-205c9ff32fcc",
   "metadata": {
    "editable": true,
    "slideshow": {
     "slide_type": ""
    },
    "tags": []
   },
   "source": [
    "(newspapers:articles:metadata)=\n",
    "## Article metadata\n",
    "\n",
    "The {term}`metadata` associated with newspaper and gazette articles in Trove includes the basic information you'd expect to put in a citation, like the article's headline, publication date, newspaper, and page number. Additional fields are added by the OCR and data ingestion processes, such as internal links, the number of words, and the article category. User activity also adds data relating to tags, comments, lists, and corrections."
   ]
  },
  {
   "cell_type": "markdown",
   "id": "66680f7d-cb25-45d3-bc62-09bf7e905170",
   "metadata": {},
   "source": [
    "### Individual articles\n",
    "\n",
    "To access metadata relating to an individual article you need the [article's numeric identifier](newspaper-article-identifiers). You can then construct an API request url by adding the identifier to the `/newspaper/` endpoint. For example, if the article identifier was `61389505`, the API request url would be: \n",
    "\n",
    "`https://api.trove.nla.gov.au/v3/newspaper/61389505` \n",
    "\n",
    "You can add additional parameters to the url if, for example, you want the metadata in JSON format.\n",
    "\n",
    "`https://api.trove.nla.gov.au/v3/newspaper/61389505?encoding=json` \n",
    "\n",
    "Here's the metadata returned by this request:\n",
    "\n",
    "```json\n",
    "{\n",
    "    \"id\": \"61389505\",\n",
    "    \"url\": \"https://api.trove.nla.gov.au/v3/newspaper/61389505\",\n",
    "    \"heading\": \"MR. WRAGGE'S \\\"WRAGGE.\\\"\",\n",
    "    \"category\": \"Article\",\n",
    "    \"title\": {\n",
    "        \"id\": \"64\",\n",
    "        \"title\": \"Clarence and Richmond Examiner (Grafton, NSW : 1889 - 1915)\"\n",
    "    },\n",
    "    \"date\": \"1902-07-15\",\n",
    "    \"page\": \"4\",\n",
    "    \"pageSequence\": \"4\",\n",
    "    \"troveUrl\": \"https://.nla.gov.au/nla.news-article61389505\"\n",
    "}\n",
    "```"
   ]
  },
  {
   "cell_type": "markdown",
   "id": "67b536ed-dda3-4738-81ed-46187830b1af",
   "metadata": {},
   "source": [
    "### Search results\n",
    "\n",
    "You can search for newspaper and gazette articles using the Trove API's `/result` endpoint, just set the `category` parameter to `newspaper`."
   ]
  },
  {
   "cell_type": "markdown",
   "id": "2fafc469-ba09-4472-b24c-d8b756d06c2f",
   "metadata": {},
   "source": [
    "```{admonition} Don't get your categories mixed up!\n",
    ":class: note\n",
    "The term `category` is used in two completely different contexts in Trove. It's used to describe the top-level groupings of resources, such as 'Newspapers & Gazettes', 'Books & Libraries', and 'Magazines & Newsletters'. But it's also used to describe different types of newspaper and gazette articles, such as 'Article', 'Advertising', and 'Family Notices'.\n",
    "```"
   ]
  },
  {
   "cell_type": "markdown",
   "id": "36a50121-a7cd-4e79-9260-fcfdb76fd673",
   "metadata": {},
   "source": [
    "To limit search results to either newspapers or gazettes use the `artType` facet :\n",
    "\n",
    "- `l-artType=newspapers` – [![Try it!](/images/try-trove-api-console.svg)](https://troveconsole.herokuapp.com/v3/?url=https%3A%2F%2Fapi.trove.nla.gov.au%2Fv3%2Fresult%3Fcategory%3Dnewspaper%26l-artType%3Dnewspapers%26encoding%3Djson)\n",
    "- or `l-artType=gazette` – [![Try it!](/images/try-trove-api-console.svg)](https://troveconsole.herokuapp.com/v3/?url=https%3A%2F%2Fapi.trove.nla.gov.au%2Fv3%2Fresult%3Fcategory%3Dnewspaper%26l-artType%3Dgazette%26encoding%3Djson)\n",
    "\n",
    "Notice that `newspapers` is pluralised, but `gazette` is not."
   ]
  },
  {
   "cell_type": "markdown",
   "id": "ecb8cd14-47bb-45ba-8cef-b7b4fc5da9e0",
   "metadata": {},
   "source": [
    "````{margin}\n",
    "```{seealso}\n",
    "The [trove-query-parser](https://wragge.github.io/trove_query_parser/) Python library makes it easy to translate searches for newspaper articles in Trove's web interface into a form that the API can understand. Just give it the url of a newspaper search and it will generate the set of parameters you'll need to replicate the search using the API.\n",
    "```\n",
    "````"
   ]
  },
  {
   "cell_type": "markdown",
   "id": "97b02e93-d6b3-4eeb-86a2-ff9c1119a51e",
   "metadata": {
    "editable": true,
    "slideshow": {
     "slide_type": ""
    },
    "tags": []
   },
   "source": [
    "You can use the `q` parameter to supply search keywords. The query string can be anything you might include in Trove's ['simple' search](/understanding-search/simple-search-options) box. Results can also be filtered using a number of facets, such as `category`, `state`, `illustrated`, and `decade`.\n",
    "\n",
    "For example, to get the first 100 results of a search for `\"clement wragge\" AND cyclone`, limited to news articles published in Queensland, you would do something like:"
   ]
  },
  {
   "cell_type": "code",
   "execution_count": 3,
   "id": "1bc6a44a-71b8-43ee-82f9-1505566c457d",
   "metadata": {},
   "outputs": [],
   "source": [
    "import requests\n",
    "\n",
    "params = {\n",
    "    # Search string -- note the use of double quotes to search for a phrase\n",
    "    \"q\": '\"clement wragge\" AND cyclone',\n",
    "    \"category\": \"newspaper\",\n",
    "    \"l-artType\": \"newspapers\",\n",
    "    # Limit to articles published in Queensland\n",
    "    \"l-state\": \"Queensland\",\n",
    "    # Limit to news-ish articles\n",
    "    \"l-category\": \"Article\",\n",
    "    # Return 100 results\n",
    "    \"n\": 100,\n",
    "    \"encoding\": \"json\",\n",
    "}\n",
    "\n",
    "# Supply API key using headers\n",
    "headers = {\"X-API-KEY\": YOUR_API_KEY}\n",
    "\n",
    "response = requests.get(\n",
    "    \"https://api.trove.nla.gov.au/v3/result\", params=params, headers=headers\n",
    ")\n",
    "\n",
    "data = response.json()"
   ]
  },
  {
   "cell_type": "markdown",
   "id": "0586e519-c1d5-4d31-8c5f-439479a2e502",
   "metadata": {},
   "source": [
    "[![Try it!](/images/try-trove-api-console.svg)](https://troveconsole.herokuapp.com/v3/?url=https%3A%2F%2Fapi.trove.nla.gov.au%2Fv3%2Fresult%3Fq%3D%22clement+wragge%22+AND+cyclone%26category%3Dnewspaper%26artType%3Dnewspapers%26l-category%3DArticle%26l-state%3DQueensland%26n%3D100%26encoding%3Djson)"
   ]
  },
  {
   "cell_type": "markdown",
   "id": "a584b781-cf2b-4a62-b404-ad69a7f7acbe",
   "metadata": {},
   "source": [
    "The list of article records can be found at `data[\"category\"][0][\"records\"][\"article\"]`. Here's the first record:"
   ]
  },
  {
   "cell_type": "code",
   "execution_count": 4,
   "id": "9f8cb0ae-5320-44e2-926c-2ae886e011dd",
   "metadata": {
    "scrolled": true
   },
   "outputs": [
    {
     "data": {
      "text/plain": [
       "{'id': '169851997',\n",
       " 'url': 'https://api.trove.nla.gov.au/v3/newspaper/169851997',\n",
       " 'heading': 'CYCLONE FORECASTER. MR. CLEMENT WRAGGE.',\n",
       " 'category': 'Article',\n",
       " 'title': {'id': '837', 'title': 'Daily Mercury (Mackay, Qld. : 1906 - 1954)'},\n",
       " 'date': '1927-03-08',\n",
       " 'page': '3',\n",
       " 'pageSequence': '3',\n",
       " 'relevance': {'score': 540.1323852539062, 'value': 'very relevant'},\n",
       " 'snippet': '\"Coyyan\" writes in the Cairns \\'Post\\':-- Mr. Clement Wragge was generally referred to as the Inclement Wragge,\" purely on account of',\n",
       " 'troveUrl': 'https://.nla.gov.au/nla.news-article169851997?searchTerm=%22clement+wragge%22+AND+cyclone'}"
      ]
     },
     "execution_count": 4,
     "metadata": {},
     "output_type": "execute_result"
    }
   ],
   "source": [
    "data[\"category\"][0][\"records\"][\"article\"][0]"
   ]
  },
  {
   "cell_type": "markdown",
   "id": "f458c9ab-8ba1-4e7b-8fc1-18e7232d56aa",
   "metadata": {},
   "source": [
    "You can request a maximum of 100 records with a single API request. To download metadata from *all* the articles in a set of search results you need to make multiple requests. See [](/accessing-data/how-to/harvest-complete-results) for examples of how to do this."
   ]
  },
  {
   "cell_type": "markdown",
   "id": "85cc4471-f2f6-409b-a636-548aa7bd8275",
   "metadata": {},
   "source": [
    "### Add extra metadata fields"
   ]
  },
  {
   "cell_type": "markdown",
   "id": "088ff79f-accb-4f87-bebf-dc2d1993c950",
   "metadata": {},
   "source": [
    "You can use the `reclevel` and `include` parameters with either the `/newspaper` or `/result` endpoints to control the amount of metadata provided about each article. For example:\n",
    "\n",
    "Setting `reclevel=full` adds the following fields:\n",
    "\n",
    "- `trovePageUrl` – website url pointing to the page on which the article was published\n",
    "- `illustrated` – is this article illustrated (\"Y\" or \"N\")\n",
    "- `wordCount` – number of words\n",
    "- `correctionCount` – number of OCR corrections\n",
    "- `tagCount` – number of tags attached to this article\n",
    "- `commentCount` – number of tags attached to this article\n",
    "- `listCount` – number of lists this article has been added to\n",
    "- `lastCorrection` – details of last OCR correction, includes date and user name\n",
    "- `pdf` – link(s) to download a PDF version of the page (or pages) this article was published on\n",
    "\n",
    "[![Try it!](/images/try-trove-api-console.svg)](https://troveconsole.herokuapp.com/v3/?url=https%3A%2F%2Fapi.trove.nla.gov.au%2Fv3%2Fresult%3Fq%3D%22clement+wragge%22+AND+cyclone%26category%3Dnewspaper%26reclevel%3Dfull%26encoding%3Djson)"
   ]
  },
  {
   "cell_type": "markdown",
   "id": "b8787b54-e040-4b6b-8508-aaa2d9526bfa",
   "metadata": {},
   "source": [
    "````{warning}\n",
    "Note that while `wordCount`, `correctionCount`, `tagCount`, `commentCount`, and `listCount` are numbers, the API returns them as *strings*. If you want to run any mathematical operations on them, you'll first need to convert them into integers.\n",
    "\n",
    "```python\n",
    "word_count = int(article[\"wordCount\"])\n",
    "```\n",
    "````"
   ]
  },
  {
   "cell_type": "markdown",
   "id": "7c189176-08b8-4410-b094-828c3343a75f",
   "metadata": {},
   "source": [
    "Use the `include` parameter to add details about tags, comments, and lists. For example, setting `include=tags` will add a list of any attached tags to the article metadata:\n",
    "\n",
    "```json\n",
    "\"tag\": [\n",
    "    {\n",
    "        \"lastupdated\": \"2017-01-02T02:46:49Z\",\n",
    "        \"value\": \"Meteorologist - Clement Wragge\"\n",
    "    },\n",
    "    {\n",
    "        \"lastupdated\": \"2017-01-02T02:46:49Z\",\n",
    "        \"value\": \"Novelist - Marie Corelli\"\n",
    "    }\n",
    "]\n",
    "```\n",
    "\n",
    "[![Try it!](/images/try-trove-api-console.svg)](https://troveconsole.herokuapp.com/v3/?url=https%3A%2F%2Fapi.trove.nla.gov.au%2Fv3%2Fresult%3Fq%3D%22clement+wragge%22+AND+cyclone%26category%3Dnewspaper%26reclevel%3Dfull%26include%3Dtags%26include%3Dcomments%26include%3Dlists%26encoding%3Djson#limit-to-articles-with-illustrations)"
   ]
  },
  {
   "cell_type": "markdown",
   "id": "2277093d-ddc3-4316-b916-05dd9a413755",
   "metadata": {},
   "source": [
    "### Find the total number of articles in a search\n",
    "\n",
    "You can also access metadata *about* a search. API search results include a `total` value that tells you the number of articles matching your query. If we don't include any search parameters, we can use this to find out the number of newspaper and gazette articles in the whole of Trove!"
   ]
  },
  {
   "cell_type": "code",
   "execution_count": 4,
   "id": "a5c249e9-143e-4713-b2ce-be9607de6b2a",
   "metadata": {},
   "outputs": [
    {
     "data": {
      "text/plain": [
       "{'category': [{'code': 'newspaper',\n",
       "   'name': 'Newspapers & Gazettes',\n",
       "   'records': {'s': '*',\n",
       "    'n': 0,\n",
       "    'total': 244581125,\n",
       "    'next': 'https://api.trove.nla.gov.au/v3/result?category=newspaper&n=0&encoding=json&s=*',\n",
       "    'nextStart': '*'}}]}"
      ]
     },
     "execution_count": 4,
     "metadata": {},
     "output_type": "execute_result"
    }
   ],
   "source": [
    "import requests\n",
    "\n",
    "# Set n to 0 because we don't want any records\n",
    "params = {\"category\": \"newspaper\", \"n\": 0, \"encoding\": \"json\"}\n",
    "\n",
    "# Supply API key using headers\n",
    "headers = {\"X-API-KEY\": YOUR_API_KEY}\n",
    "\n",
    "response = requests.get(\n",
    "    \"https://api.trove.nla.gov.au/v3/result\", params=params, headers=headers\n",
    ")\n",
    "\n",
    "data = response.json()\n",
    "\n",
    "data"
   ]
  },
  {
   "cell_type": "markdown",
   "id": "ec93420d-1531-43ac-8508-b7b799cded08",
   "metadata": {},
   "source": [
    "Note that the example above doesn't return any articles because it sets the `n` parameter to `0`. \n",
    "\n",
    "The current number of newspaper and gazette articles is in the `total` field."
   ]
  },
  {
   "cell_type": "code",
   "execution_count": 5,
   "id": "0e62b103-c56c-4819-b058-9c0fc09a5646",
   "metadata": {},
   "outputs": [
    {
     "name": "stdout",
     "output_type": "stream",
     "text": [
      "As of 07 September 2023, there are 244,581,125 newspaper & gazette articles in Trove\n"
     ]
    }
   ],
   "source": [
    "import datetime\n",
    "\n",
    "# Get the total number of articles\n",
    "total = data[\"category\"][0][\"records\"][\"total\"]\n",
    "# And today's date\n",
    "today = datetime.datetime.now().strftime(\"%d %B %Y\")\n",
    "\n",
    "# Display the result\n",
    "print(f\"As of {today}, there are {total:,} newspaper & gazette articles in Trove\")"
   ]
  },
  {
   "cell_type": "markdown",
   "id": "8c0a6ec7-e8c0-4fca-8ac7-0f7668517d96",
   "metadata": {},
   "source": [
    "### Using facets to get aggregate data about articles\n",
    "\n",
    "````{margin}\n",
    "```{admonition} Create big pictures with QueryPic\n",
    ":class: seealso\n",
    "\n",
    "[QueryPic](https://glam-workbench.net/trove-newspapers/querypic/) visualises Trove newspaper search results, showing the number of matching articles per year. It does this by retrieving data from the `decade` and `year` facets.\n",
    "\n",
    "<iframe width=\"80%\" src=\"https://www.youtube.com/embed/vdyKNowv9gw?si=DoWEYE5oV1K662Jc\" title=\"YouTube video player\" frameborder=\"0\" allow=\"accelerometer; autoplay; clipboard-write; encrypted-media; gyroscope; picture-in-picture; web-share\" allowfullscreen></iframe>\n",
    "```\n",
    "````\n",
    "\n",
    "[Search facets](/understanding-search/facets) are another source of useful metadata. Using them, you can slice a results set in different ways to reveal large-scale patterns. Facets available in the `newspaper` category include:\n",
    "\n",
    "- `decade`, `year`, & `month`\n",
    "- `title`\n",
    "- `category`\n",
    "- `state`\n",
    "- `illustrationType`\n",
    "\n",
    "```{admonition} Date facet tricks\n",
    ":class: note\n",
    "\n",
    "The date facets, `decade`, `year`, & `month`, are interdependent. To get data from the `year` facet, you first need to limit the query to a specific decade using the `l-decade` parameter. In other words, you can only get one decade's worth of `year` values at a time. Similarly, to get `month` values, you have to use the `l-year` parameter to limit results to a particular year.\n",
    "\n",
    "To retrieve data for *every* year, you need to loop through all the decades, gathering the `year` values for each decade in turn, then combining the results. There are examples of this in the GLAM Workbench notebook [Visualise Trove newspaper searches over time](https://glam-workbench.net/trove-newspapers/visualise-searches-over-time/).\n",
    "```\n",
    "\n",
    "To retrieve facet data from a search, just add the `facet` parameter. For example, adding `facet=state` to your request will break down the number of results by the place of publication. If you don't provide any search terms, you can find the number of articles from each state across the whole of Trove's newspapers.\n",
    "\n",
    "[![Try it!](https://troveconsole.herokuapp.com/static/img/try-trove-api-console.svg)](https://troveconsole.herokuapp.com/v3/?url=https%3A%2F%2Fapi.trove.nla.gov.au%2Fv3%2Fresult%3Fcategory%3Dall%26facet%3Dformat%26n%3D0%26encoding%3Djson&comment=)"
   ]
  },
  {
   "cell_type": "code",
   "execution_count": 16,
   "id": "62d58318-24c5-429a-acba-ea67effb59fe",
   "metadata": {},
   "outputs": [
    {
     "data": {
      "text/html": [
       "<style type=\"text/css\">\n",
       "</style>\n",
       "<table id=\"T_2b03f\">\n",
       "  <thead>\n",
       "    <tr>\n",
       "      <th id=\"T_2b03f_level0_col0\" class=\"col_heading level0 col0\" >state</th>\n",
       "      <th id=\"T_2b03f_level0_col1\" class=\"col_heading level0 col1\" >total_articles</th>\n",
       "    </tr>\n",
       "  </thead>\n",
       "  <tbody>\n",
       "    <tr>\n",
       "      <td id=\"T_2b03f_row0_col0\" class=\"data row0 col0\" >ACT</td>\n",
       "      <td id=\"T_2b03f_row0_col1\" class=\"data row0 col1\" >3,296,997</td>\n",
       "    </tr>\n",
       "    <tr>\n",
       "      <td id=\"T_2b03f_row1_col0\" class=\"data row1 col0\" >International</td>\n",
       "      <td id=\"T_2b03f_row1_col1\" class=\"data row1 col1\" >916,795</td>\n",
       "    </tr>\n",
       "    <tr>\n",
       "      <td id=\"T_2b03f_row2_col0\" class=\"data row2 col0\" >National</td>\n",
       "      <td id=\"T_2b03f_row2_col1\" class=\"data row2 col1\" >1,739,802</td>\n",
       "    </tr>\n",
       "    <tr>\n",
       "      <td id=\"T_2b03f_row3_col0\" class=\"data row3 col0\" >New South Wales</td>\n",
       "      <td id=\"T_2b03f_row3_col1\" class=\"data row3 col1\" >86,101,879</td>\n",
       "    </tr>\n",
       "    <tr>\n",
       "      <td id=\"T_2b03f_row4_col0\" class=\"data row4 col0\" >Northern Territory</td>\n",
       "      <td id=\"T_2b03f_row4_col1\" class=\"data row4 col1\" >409,433</td>\n",
       "    </tr>\n",
       "    <tr>\n",
       "      <td id=\"T_2b03f_row5_col0\" class=\"data row5 col0\" >Queensland</td>\n",
       "      <td id=\"T_2b03f_row5_col1\" class=\"data row5 col1\" >41,131,526</td>\n",
       "    </tr>\n",
       "    <tr>\n",
       "      <td id=\"T_2b03f_row6_col0\" class=\"data row6 col0\" >South Australia</td>\n",
       "      <td id=\"T_2b03f_row6_col1\" class=\"data row6 col1\" >25,007,977</td>\n",
       "    </tr>\n",
       "    <tr>\n",
       "      <td id=\"T_2b03f_row7_col0\" class=\"data row7 col0\" >Tasmania</td>\n",
       "      <td id=\"T_2b03f_row7_col1\" class=\"data row7 col1\" >15,850,246</td>\n",
       "    </tr>\n",
       "    <tr>\n",
       "      <td id=\"T_2b03f_row8_col0\" class=\"data row8 col0\" >Victoria</td>\n",
       "      <td id=\"T_2b03f_row8_col1\" class=\"data row8 col1\" >44,756,839</td>\n",
       "    </tr>\n",
       "    <tr>\n",
       "      <td id=\"T_2b03f_row9_col0\" class=\"data row9 col0\" >Western Australia</td>\n",
       "      <td id=\"T_2b03f_row9_col1\" class=\"data row9 col1\" >25,369,631</td>\n",
       "    </tr>\n",
       "  </tbody>\n",
       "</table>\n"
      ],
      "text/plain": [
       "<pandas.io.formats.style.Styler at 0x7f8364350760>"
      ]
     },
     "execution_count": 16,
     "metadata": {},
     "output_type": "execute_result"
    }
   ],
   "source": [
    "import pandas as pd\n",
    "import requests\n",
    "\n",
    "# Set n to 0 because we don't want any records\n",
    "params = {\"category\": \"newspaper\", \"n\": 0, \"encoding\": \"json\", \"facet\": \"state\"}\n",
    "\n",
    "# Supply API key using headers\n",
    "headers = {\"X-API-KEY\": YOUR_API_KEY}\n",
    "\n",
    "response = requests.get(\n",
    "    \"https://api.trove.nla.gov.au/v3/result\", params=params, headers=headers\n",
    ")\n",
    "\n",
    "data = response.json()\n",
    "\n",
    "# Perhaps the trickiest thing is actually getting to where the facet terms are\n",
    "facets = data[\"category\"][0][\"facets\"][\"facet\"][0][\"term\"]\n",
    "\n",
    "# Get the facet label and count from each facet\n",
    "facet_counts = [{\"state\": f[\"search\"], \"total_articles\": f[\"count\"]} for f in facets]\n",
    "\n",
    "# Use Pandas to display the results in a table\n",
    "pd.DataFrame(facet_counts).sort_values(\"state\").style.format(thousands=\",\").hide()"
   ]
  },
  {
   "cell_type": "markdown",
   "id": "e18e3955-9035-409d-804f-2a1ba5f4c290",
   "metadata": {},
   "source": [
    "You can also combine facets to analyse results from multiple perspectives. For example, perhaps you'd like to find out how the numbers of different illustration types varies over time. One way of doing this would be loop through a series of nested queries.\n",
    "\n",
    "- first loop through the different illustration types (\"Cartoon\", \"Graph\", \"Illustration\", \"Map\", \"Photo\"), setting them as the value of the `l-illustrationType` parameter\n",
    "- then loop through the desired decades (eg \"180\" to \"202\") setting them as the value of the `l-decade` parameter\n",
    "- for each combination of the above, set the `facet` parameter to `year`\n",
    "- collect the facet results by `illustrationType` and `year`\n",
    "\n",
    "A further enhancement would be to harvest the *total* number of articles for each year, so that you could calculate the proportion of articles each year containing each illustration type.\n",
    "\n",
    "There's a full example of this in the GLAM Workbench notebook [Visualise Trove newspaper searches over time](https://glam-workbench.net/trove-newspapers/visualise-searches-over-time/). \n",
    "\n",
    "Here's a visualisation of the results. The first chart shows the raw number of each illustration type, while the second displays them as a proportion of the total number of articles per year. You can see that the proportion of articles containing photographs increases steadily from the 1920s!\n",
    "\n",
    "```{figure} /images/newspaper-illustration-types.svg\n",
    ":name: newspaper-illustration-types-over-time\n",
    "Visualisation of the numbers of different illustration types in Trove newspaper articles over time.\n",
    "```"
   ]
  },
  {
   "cell_type": "markdown",
   "id": "658dcfd5-50f6-421d-8a12-ffe225a1cd7b",
   "metadata": {},
   "source": [
    "### Get positional information from OCR\n",
    "\n",
    "The OCR process generates some article metadata that is not available through the Trove API. As well as extracting text from the page images, the OCR process captures positional information that relates blocks of text to their location within the original image.\n",
    "\n",
    "Some of this positional information can be scraped from the Trove web site, enabling you to locate individual lines of text, and, by combining their coordinates, draw a bounding box around a complete article. This method is explained in [](/newspapers-and-gazettes/how-to/get-ocr-coordinates).\n",
    "\n",
    "```{figure} /images/article-coords-example.jpg\n",
    ":name: newspaper-article-coords\n",
    ":width: 400\n",
    "Example of a bounding box around an article, created by scraping positional information from the Trove web site.\n",
    "```\n",
    "\n",
    "You can use this positional information to [extract images of articles](articles-as-images), or even [individual words](words-as-images), as explained below."
   ]
  },
  {
   "cell_type": "markdown",
   "id": "730f5f6d-6c1d-4adb-9ee0-13c45493f844",
   "metadata": {
    "editable": true,
    "slideshow": {
     "slide_type": ""
    },
    "tags": []
   },
   "source": [
    "(newspapers:data:articles:text)=\n",
    "## Article text"
   ]
  },
  {
   "cell_type": "markdown",
   "id": "c49b3025-89dc-4c37-949a-15700be4d460",
   "metadata": {},
   "source": [
    "Trove provides the full text of articles for download. This makes it possible to use natural language processing and other computational methods to analyse the contents of newspapers.\n",
    "\n",
    "There are actually three sources of newspaper article text:\n",
    "\n",
    "- the title and first four lines of articles (except for advertisements) are transcribed by human operators as part of the ingest process\n",
    "- the full text of articles is extracted from the page image using optical character recognition (OCR)\n",
    "- the OCRd text is corrected by Trove users\n",
    "\n",
    "The article title displayed in the web interface and available from the `heading` field in API results is the manually transcribed version, while the full text download is the OCRd text with any user corrections. That's why there can be differences between the two.\n",
    "\n",
    "### Including article text in API results\n",
    "\n",
    "````{margin}\n",
    "```{admonition} The Trove Newspaper & Gazette Harvester makes it easy!\n",
    ":class: seealso\n",
    "\n",
    "If you want to harvest newspaper article metadata, full text, and even images and PDFS, the [Trove Newspaper & Gazette Harvester](https://wragge.github.io/trove-newspaper-harvester/) can help. It incorporates many of the workarounds mentioned in this section, stripping tags from the OCRd text, scraping text from the Australian Women's Weekly, cropping article images from pages, and downloading PDFs. You can use it as a Python library, a command-line tool, or run it as a [simple web app](https://glam-workbench.net/trove-harvester/harvester-web-app/) through the GLAM Workbench.\n",
    "\n",
    "```\n",
    "````\n",
    "\n",
    "The transcribed article title is available in the `heading` field of the API results. There's no direct way to access the transcribed text from first four lines of articles. However, if you access articles via the `/result` endpoint without supplying any search terms, the `snippet` field should display the transcribed text. \n",
    "\n",
    "To include the full OCRd/corrected text in API results you just need to set the `include` parameter to `articleText`.\n",
    "\n",
    "[![Try it!](https://troveconsole.herokuapp.com/static/img/try-trove-api-console.svg)](https://troveconsole.herokuapp.com/v3/?url=https%3A%2F%2Fapi.trove.nla.gov.au%2Fv3%2Fnewspaper%2F217926119%3Fencoding%3Djson%26include%3DarticleText&comment=)\n",
    "\n",
    "The full text will be available in the `articleText` field of the API response. This works with both single articles from the `/newspaper` endpoint and search results from the `/result` endpoint.\n",
    "\n",
    "However, the full text that's provided by the API is actually an HTML fragment, containing `<p>` and `<span>` tags. The `<span>` tags identify line breaks within the text. Depending on what you want to do with the text, you might need to strip out all the tags, and/or replace the `</span>` tags with a simple line break character (`\\n`). If you don't want to fiddle around with regular expressions, you could use something like the [html2text](https://pypi.org/project/html2text/) Python package to do the job.\n",
    "\n",
    "```{admonition} But what about the Australian Women's Weekly?\n",
    ":class: note\n",
    "Unfortunately, adding `include=articleText` doesn't work with the Australian Women's Weekly as a decision was made early on to exclude AWW text from the API results. If you want the full text of AWW articles you need to scrape it from the web page. The good news is that the [Trove Newspaper and Gazette Harvester](https://wragge.github.io/trove-newspaper-harvester/) will do this for you automatically!\n",
    "```"
   ]
  },
  {
   "cell_type": "markdown",
   "id": "d646527a-a3a7-4bde-90cd-2e61664d3d7c",
   "metadata": {
    "editable": true,
    "slideshow": {
     "slide_type": ""
    },
    "tags": []
   },
   "source": [
    "(newspapers:articles:images)=\n",
    "## Images and PDFs of articles\n",
    "\n",
    "While you can download article images (embedded in an HTML page) and PDFs from the Trove web interface, there's no direct mechanism for accessing them via the API. This makes it difficult to automate downloads, assemble image datasets, and build image processing pipelines. Fortunately, there are a few handy workarounds you can use."
   ]
  },
  {
   "cell_type": "markdown",
   "id": "741e9a13-95ff-40ad-a1bb-0699b7ecf783",
   "metadata": {
    "editable": true,
    "slideshow": {
     "slide_type": ""
    },
    "tags": []
   },
   "source": [
    "### Downloading article PDFs\n",
    "\n",
    "Getting PDFs of full newspaper pages is easy. If you set the `reclevel` parameter to `full` in your API request, the response will include a `pdf` field with direct links to download the PDFs of all pages on which the article appeared.\n",
    "\n",
    "[![Try it!](https://troveconsole.herokuapp.com/static/img/try-trove-api-console.svg)](https://troveconsole.herokuapp.com/v3/?url=https%3A%2F%2Fapi.trove.nla.gov.au%2Fv3%2Fnewspaper%2F217926119%3Fencoding%3Djson%26reclevel%3Dfull&comment=)\n",
    "\n",
    "But what if you don't want the complete page? Unfortunately, it's not just a matter of finding the right url. If you peek behind the web interface to see what happens when you click the download button, you'll see that it's a multi-step process. First the interface sends off a request to generate the article PDF and gets back a token. It then uses that token to check with the Trove backend to see when the PDF generation is finished. When the backend signals the PDF is ready, the interface uses the token to download it. Complicated huh?\n",
    "\n",
    "If you want to automate the download of article PDFs, you'll need to reproduce these steps. There's an example of how to do this with Python in [](/newspapers-and-gazettes/how-to/get-newspaper-issue-article-pdfs).\n",
    "\n",
    "(articles-as-images)=\n",
    "### Save articles as images\n",
    "\n",
    "````{margin}\n",
    "```{seealso} \n",
    "If you need an automated method for downloading images of newspaper articles, have a look at the [trove-newspaper-images](https://wragge.github.io/trove_newspaper_images/) Python package. You can use it as a library or a command-line tool. Just give it a newspaper article identifier, and it downloads a high-res image. It's also built-in to the [Trove Newspaper & Gazette Harvester](https://wragge.github.io/trove-newspaper-harvester/).\n",
    "```\n",
    "````\n",
    "\n",
    "The 'images' of articles you download from the web interface are actually HTML pages with embedded images. The embedded images themselves are often sliced up to fit on a page, and there's no straightforward way of putting them back together. This means there's no point trying to download images by duplicating what the web interface does. Fortunately, there's an alternative.\n",
    "\n",
    "As described above, it's possible the extract the positional coordinates of an article from the web interface. It's also possible to download a high-resolution image of a page. By putting the two together you can crop an article image from the full page. This [method is fully documented](https://glam-workbench.net/trove-newspapers/Save-Trove-newspaper-article-as-image/) in the GLAM Workbench.\n",
    "\n",
    "(illustrations-as-images)=\n",
    "### Save article illustrations as images\n",
    "\n",
    "<mark>==I should probably add a GW notebook for this -- some of the necessary code is in the save a thumbnail nb==</mark>\n",
    "\n",
    "(words-as-images)=\n",
    "### Save words as images\n",
    "\n",
    "By using a variation on the method described above, you can even save images of individual words! As explained in [](/newspapers-and-gazettes/how-to/get-ocr-coordinates), the secret is to modify an article's url and set the `searchTerm` parameter to the word you want to save. This will highlight the word wherever it appears in the article. You can then scrape the coordinates of the highlighted words, and crop them from the full page image. This method is used in the GLAM Workbench notebook [Create 'scissors and paste' messages from Trove newspaper articles](https://glam-workbench.net/trove-newspapers/trove-newspapers-scissors-and-paste/) to generate images like this!\n",
    "\n",
    "![Scissors and paste style message created from snipped words: \"Help trapped inside Trove cannot escape.\"](/images/trapped-trove.jpg)"
   ]
  },
  {
   "cell_type": "code",
   "execution_count": null,
   "id": "702a2071-c743-479a-9494-75cb23930c41",
   "metadata": {},
   "outputs": [],
   "source": []
  }
 ],
 "metadata": {
  "kernelspec": {
   "display_name": "Python 3 (ipykernel)",
   "language": "python",
   "name": "python3"
  },
  "language_info": {
   "codemirror_mode": {
    "name": "ipython",
    "version": 3
   },
   "file_extension": ".py",
   "mimetype": "text/x-python",
   "name": "python",
   "nbconvert_exporter": "python",
   "pygments_lexer": "ipython3",
   "version": "3.10.12"
  }
 },
 "nbformat": 4,
 "nbformat_minor": 5
}
