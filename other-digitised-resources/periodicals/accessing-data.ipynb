{
 "cells": [
  {
   "cell_type": "markdown",
   "id": "d91ee1c2-bef4-4614-a542-751e64b4a51d",
   "metadata": {
    "editable": true,
    "slideshow": {
     "slide_type": ""
    },
    "tags": []
   },
   "source": [
    "# Accessing data from periodicals\n",
    "\n",
    "````{card}\n",
    "On this page\n",
    "\n",
    "\n",
    "```{contents}\n",
    ":local:\n",
    ":backlinks: None\n",
    "```\n",
    "````"
   ]
  },
  {
   "cell_type": "code",
   "execution_count": 1,
   "id": "b5763230-ffbf-4801-930d-2a04d401916f",
   "metadata": {
    "editable": true,
    "slideshow": {
     "slide_type": ""
    },
    "tags": [
     "remove-cell"
    ]
   },
   "outputs": [
    {
     "data": {
      "text/plain": [
       "True"
      ]
     },
     "execution_count": 1,
     "metadata": {},
     "output_type": "execute_result"
    }
   ],
   "source": [
    "# Let's import the libraries we need.\n",
    "import os\n",
    "import requests\n",
    "import pandas as pd\n",
    "import altair as alt\n",
    "from myst_nb import glue\n",
    "from dotenv import load_dotenv\n",
    "load_dotenv()"
   ]
  },
  {
   "cell_type": "code",
   "execution_count": 2,
   "id": "bd47cb87-aa02-4572-8cde-4a7c12b85f5e",
   "metadata": {
    "editable": true,
    "slideshow": {
     "slide_type": ""
    },
    "tags": [
     "remove-cell"
    ]
   },
   "outputs": [],
   "source": [
    "# Insert your Trove API key\n",
    "API_KEY = \"YOUR API KEY\"\n",
    "\n",
    "# Use api key value from environment variables if it is available\n",
    "if os.getenv(\"TROVE_API_KEY\"):\n",
    "    API_KEY = os.getenv(\"TROVE_API_KEY\")"
   ]
  },
  {
   "cell_type": "markdown",
   "id": "8609ac8a-3c6a-4538-a45f-1c6ef354a856",
   "metadata": {
    "editable": true,
    "jp-MarkdownHeadingCollapsed": true,
    "slideshow": {
     "slide_type": ""
    },
    "tags": []
   },
   "source": [
    "## Understanding identifiers\n",
    "\n",
    "There are four different types of identifiers used by Trove for periodical titles, issues, pages, and articles – and they all look exactly the same! To confuse matters further, sometimes the different identifiers take you to the same place. For example, these three identifiers, for an issue, page, and article, all deliver you to the front page of *Walkabout*, volume 1, number 2 (2 December 1934).\n",
    "\n",
    "| type | identifier | final url |\n",
    "|------|------|------|\n",
    "| issue | http://nla.gov.au/nla.obj-714041173| https://nla.gov.au/nla.obj-714041173/view?partId=nla.obj-714048365 |\n",
    "| page | http://nla.gov.au/nla.obj-714048365 | https://nla.gov.au/nla.obj-714041173/view?partId=nla.obj-714048365 |\n",
    "| article | http://nla.gov.au/nla.obj-753374124 | https://nla.gov.au/nla.obj-714041173/view?sectionId=nla.obj-753374124&partId=nla.obj-714048365 |\n",
    "\n",
    "You'll notice that the final urls are almost the same with just the parameters changing. What's happening is that the page and article identifiers are redirected to the issue identifier, and then the page and article values are appended as parameters. The `partId` parameter is the page identifier. While the `sectionId` parameter is the article identifier.\n",
    "\n",
    "The different identifiers can be used to access additional metadata."
   ]
  },
  {
   "cell_type": "markdown",
   "id": "cf15c4b0-50ed-448a-9c1c-87f36fcf6624",
   "metadata": {
    "editable": true,
    "slideshow": {
     "slide_type": ""
    },
    "tags": []
   },
   "source": [
    "(digitised:periodicals:metadata)=\n",
    "## Metadata"
   ]
  },
  {
   "cell_type": "markdown",
   "id": "432fa9e7-5b7e-432d-bc94-745b6cca73d9",
   "metadata": {
    "editable": true,
    "slideshow": {
     "slide_type": ""
    },
    "tags": []
   },
   "source": [
    "### Get a list of digitised periodical titles\n",
    "\n",
    "Finding out which periodicals in Trove have been digitised is not straightforward. There are two basic approaches:\n",
    "\n",
    "- use the `magazine/titles` API endpoint to retrieve a list of digitised periodical titles\n",
    "- search for `\"nla.obj\"` to find digitised items, setting the `format` facet to `Periodical` and the `availability` facet to `y`\n",
    "\n",
    "These two approaches return [similar, but not identical](periodicals:finding:search-v-api), sets of results. Both have problems and inconsistencies. The best method will probably depend on what you want to do with the data.\n",
    "\n",
    "(digitised:periodicals:data:titles-api)=\n",
    "#### Using the `magazine/titles` API endpoint\n",
    "\n",
    "The `magazine/titles` endpoint was introduced in version 3 of the Trove API. If you send a request to `https://api.trove.nla.gov.au/v3/magazine/titles` you'll get back the first group of 20 periodical titles. You can change the number of records per request to a maximum of 100 by using the `limit` parameter. \n",
    "\n",
    "[![Try it!](https://troveconsole.herokuapp.com/static/img/try-trove-api-console.svg)](https://troveconsole.herokuapp.com/v3/?url=https%3A%2F%2Fapi.trove.nla.gov.au%2Fv3%2Fmagazine%2Ftitles%3Fencoding%3Djson%26limit%3D100&comment=)\n",
    "\n",
    "The `total` field of the API response tells you the total number of records. Here's an example."
   ]
  },
  {
   "cell_type": "code",
   "execution_count": 5,
   "id": "5a4a88e6-196a-47d4-a625-262b455f060c",
   "metadata": {
    "editable": true,
    "slideshow": {
     "slide_type": ""
    },
    "tags": []
   },
   "outputs": [
    {
     "name": "stdout",
     "output_type": "stream",
     "text": [
      "There are currently 2,504 periodical records\n"
     ]
    }
   ],
   "source": [
    "import requests\n",
    "\n",
    "params = {\n",
    "    \"encoding\": \"json\"\n",
    "}\n",
    "\n",
    "headers = {\"X-API-KEY\": API_KEY}\n",
    "\n",
    "response = requests.get(\"https://api.trove.nla.gov.au/v3/magazine/titles\", headers=headers, params=params)\n",
    "data = response.json()\n",
    "\n",
    "print(f\"There are currently {data['total']:,} periodical records\")"
   ]
  },
  {
   "cell_type": "markdown",
   "id": "25cee24d-9ba6-4de3-886d-a20f030febaf",
   "metadata": {
    "editable": true,
    "slideshow": {
     "slide_type": ""
    },
    "tags": []
   },
   "source": [
    "```{warning}\n",
    "The number of records doesn't neccessarily reflect the number of digitised periodicals. The data currently includes many duplicates as well as Commonwealth Parliamentary Papers. See below for details and workarounds.\n",
    "```\n",
    "\n",
    "Here's an example of a periodical record. The `troveUrl` links go directly to the [digital collection viewer](interfaces:digitised-collection-viewer).\n",
    "\n",
    "```json\n",
    "{\n",
    "    \"id\": \"nla.obj-3000083880\",\n",
    "    \"title\": \"Adelaide punch.\",\n",
    "    \"publisher\": \"W.G. Roberts\",\n",
    "    \"place\": [\n",
    "        \"South Australia\"\n",
    "    ],\n",
    "    \"troveUrl\": \"https://nla.gov.au/nla.obj-3000083880\",\n",
    "    \"startDate\": \"1868-01-01\",\n",
    "    \"endDate\": \"1884-01-01\"\n",
    "}\n",
    "```\n",
    "\n",
    "To harvest details of *all* titles, you need to work your way through the complete dataset by using the `offset` parameter to move each request forward to the next group of titles. So if `limit` is set to `100`, your first request would have an `offset` value of `0`, and your second request would have an `offset` value of `100`. You'd then keep incrementing the `offset` value by 100 until you reach the end of the dataset. Here's a full example."
   ]
  },
  {
   "cell_type": "code",
   "execution_count": 7,
   "id": "dd5c3823-42c0-4aa8-97a9-004db72b4866",
   "metadata": {
    "editable": true,
    "slideshow": {
     "slide_type": ""
    },
    "tags": []
   },
   "outputs": [
    {
     "data": {
      "text/plain": [
       "[{'id': 'nla.obj-2526944948',\n",
       "  'title': '... Annual report of the Canned Fruits Control Board for the year ...',\n",
       "  'publisher': 'Printed and published for the Government of the Commonwealth of Australia by L. F. Johnston, Government Printer',\n",
       "  'place': ['Australia'],\n",
       "  'troveUrl': 'https://nla.gov.au/nla.obj-2526944948',\n",
       "  'startDate': '1927-01-01',\n",
       "  'endDate': '1937-06-30'},\n",
       " {'id': 'nla.obj-244631375',\n",
       "  'title': '... musical cabinet, no. 1-37 by W.H. Glen & Co. [1875-1903]',\n",
       "  'publisher': 'W.H. Glen & Co.',\n",
       "  'troveUrl': 'https://nla.gov.au/nla.obj-244631375'}]"
      ]
     },
     "metadata": {},
     "output_type": "display_data"
    }
   ],
   "source": [
    "import requests\n",
    "\n",
    "# The maximum number of records at a time is 100\n",
    "# To page through the complete list use the offset value\n",
    "params = {\n",
    "    \"encoding\": \"json\",\n",
    "    \"limit\": 100,\n",
    "    \"offset\": 0\n",
    "}\n",
    "\n",
    "headers = {\"X-API-KEY\": API_KEY}\n",
    "\n",
    "# Create a list to store the harvested titles in\n",
    "titles = []\n",
    "# When we reach the end, this will be set to False\n",
    "more = True\n",
    "\n",
    "# Continue until there's no more records\n",
    "while more:\n",
    "    # Request the data\n",
    "    response = requests.get(\"https://api.trove.nla.gov.au/v3/magazine/titles\", params=params, headers=headers)\n",
    "    data = response.json()\n",
    "    \n",
    "    # If there are results there'll be a `magazine` key.\n",
    "    # We can check this to see if we're at the end of the data.\n",
    "    if \"magazine\" in data:\n",
    "        # Add the titles\n",
    "        titles += data[\"magazine\"]\n",
    "        # Update the offset value\n",
    "        params[\"offset\"] += 100\n",
    "    # If there's no records we must be at the end of the data\n",
    "    else:\n",
    "        more = False\n",
    "\n",
    "# Display the first two titles\n",
    "display(titles[0:2])"
   ]
  },
  {
   "cell_type": "markdown",
   "id": "0e9b47bd-d238-4f2e-9b03-4d8be0878982",
   "metadata": {
    "editable": true,
    "slideshow": {
     "slide_type": ""
    },
    "tags": []
   },
   "source": [
    "#### Data problems and workarounds"
   ]
  },
  {
   "cell_type": "markdown",
   "id": "0d9b591b-e276-40af-ad55-edc5fd7144db",
   "metadata": {
    "editable": true,
    "slideshow": {
     "slide_type": ""
    },
    "tags": []
   },
   "source": [
    "The `magazine/titles` endpoint data currently includes a significant number of duplicate records. This is easy to demonstrate and repair by converting the harvested titles data into a Pandas dataframe."
   ]
  },
  {
   "cell_type": "markdown",
   "id": "412a2469-0d3f-4a69-9333-999f488dfe55",
   "metadata": {
    "editable": true,
    "slideshow": {
     "slide_type": ""
    },
    "tags": []
   },
   "source": [
    "How many records are there?"
   ]
  },
  {
   "cell_type": "code",
   "execution_count": 25,
   "id": "7103c277-1e44-4cd8-bdd2-079939d21454",
   "metadata": {
    "editable": true,
    "slideshow": {
     "slide_type": ""
    },
    "tags": []
   },
   "outputs": [
    {
     "data": {
      "text/plain": [
       "2504"
      ]
     },
     "execution_count": 25,
     "metadata": {},
     "output_type": "execute_result"
    }
   ],
   "source": [
    "# Convert the harvested data to a dataframe\n",
    "df_titles = pd.DataFrame(titles)\n",
    "# Get the number of records\n",
    "df_titles.shape[0]"
   ]
  },
  {
   "cell_type": "markdown",
   "id": "f71e9acd-5a9f-4178-baf9-5d5c918ee32f",
   "metadata": {
    "editable": true,
    "slideshow": {
     "slide_type": ""
    },
    "tags": []
   },
   "source": [
    "How many of these are duplicates?"
   ]
  },
  {
   "cell_type": "code",
   "execution_count": 27,
   "id": "f838e434-987f-4eab-8652-c62e72afab3f",
   "metadata": {
    "editable": true,
    "slideshow": {
     "slide_type": ""
    },
    "tags": []
   },
   "outputs": [
    {
     "data": {
      "text/plain": [
       "311"
      ]
     },
     "execution_count": 27,
     "metadata": {},
     "output_type": "execute_result"
    }
   ],
   "source": [
    "# Flatten the place array so we can check for duplicates\n",
    "df_titles[\"place\"] = df_titles[\"place\"].str.join(\"\")\n",
    "\n",
    "# Find duplicates\n",
    "df_titles.loc[df_titles.duplicated()].shape[0]"
   ]
  },
  {
   "cell_type": "markdown",
   "id": "1ac37f98-1c20-46c8-bdea-228c398831c1",
   "metadata": {
    "editable": true,
    "slideshow": {
     "slide_type": ""
    },
    "tags": []
   },
   "source": [
    "Fortunately, if you know that they're there, the duplicates are easy to remove."
   ]
  },
  {
   "cell_type": "code",
   "execution_count": 28,
   "id": "6b9803c6-d74c-4438-9a04-62c9626ad5f7",
   "metadata": {
    "editable": true,
    "slideshow": {
     "slide_type": ""
    },
    "tags": []
   },
   "outputs": [],
   "source": [
    "# Remove duplicate records\n",
    "df_titles.drop_duplicates(inplace=True)"
   ]
  },
  {
   "cell_type": "markdown",
   "id": "6ca35ed8-3bea-400a-bd3a-4bdb8c3d90ff",
   "metadata": {
    "editable": true,
    "slideshow": {
     "slide_type": ""
    },
    "tags": []
   },
   "source": [
    "How many titles are there now?"
   ]
  },
  {
   "cell_type": "code",
   "execution_count": 29,
   "id": "23d42481-8f5e-4198-83d7-4e44ac406750",
   "metadata": {
    "editable": true,
    "slideshow": {
     "slide_type": ""
    },
    "tags": []
   },
   "outputs": [
    {
     "data": {
      "text/plain": [
       "2193"
      ]
     },
     "execution_count": 29,
     "metadata": {},
     "output_type": "execute_result"
    }
   ],
   "source": [
    "df_titles.shape[0]"
   ]
  },
  {
   "cell_type": "markdown",
   "id": "f14bd9d7-79cf-44d8-bb6e-2e28a022a0a8",
   "metadata": {
    "editable": true,
    "slideshow": {
     "slide_type": ""
    },
    "tags": []
   },
   "source": [
    "There's also some inconsistencies in the fields returned by the `magazine/titles` endpoint. Every record has an `id`, `title`, and `troveUrl` field, but other fields are not always included. Here's the percentage of missing values for each field."
   ]
  },
  {
   "cell_type": "code",
   "execution_count": 8,
   "id": "22fd8745-2960-49ff-8db2-f90eb6e9bc09",
   "metadata": {
    "editable": true,
    "slideshow": {
     "slide_type": ""
    },
    "tags": []
   },
   "outputs": [
    {
     "data": {
      "text/html": [
       "<style type=\"text/css\">\n",
       "</style>\n",
       "<table id=\"T_d6b8b\">\n",
       "  <thead>\n",
       "  </thead>\n",
       "  <tbody>\n",
       "    <tr>\n",
       "      <th id=\"T_d6b8b_level0_row0\" class=\"row_heading level0 row0\" >id</th>\n",
       "      <td id=\"T_d6b8b_row0_col0\" class=\"data row0 col0\" >0.00%</td>\n",
       "    </tr>\n",
       "    <tr>\n",
       "      <th id=\"T_d6b8b_level0_row1\" class=\"row_heading level0 row1\" >title</th>\n",
       "      <td id=\"T_d6b8b_row1_col0\" class=\"data row1 col0\" >0.00%</td>\n",
       "    </tr>\n",
       "    <tr>\n",
       "      <th id=\"T_d6b8b_level0_row2\" class=\"row_heading level0 row2\" >publisher</th>\n",
       "      <td id=\"T_d6b8b_row2_col0\" class=\"data row2 col0\" >0.52%</td>\n",
       "    </tr>\n",
       "    <tr>\n",
       "      <th id=\"T_d6b8b_level0_row3\" class=\"row_heading level0 row3\" >place</th>\n",
       "      <td id=\"T_d6b8b_row3_col0\" class=\"data row3 col0\" >19.17%</td>\n",
       "    </tr>\n",
       "    <tr>\n",
       "      <th id=\"T_d6b8b_level0_row4\" class=\"row_heading level0 row4\" >troveUrl</th>\n",
       "      <td id=\"T_d6b8b_row4_col0\" class=\"data row4 col0\" >0.00%</td>\n",
       "    </tr>\n",
       "    <tr>\n",
       "      <th id=\"T_d6b8b_level0_row5\" class=\"row_heading level0 row5\" >startDate</th>\n",
       "      <td id=\"T_d6b8b_row5_col0\" class=\"data row5 col0\" >0.44%</td>\n",
       "    </tr>\n",
       "    <tr>\n",
       "      <th id=\"T_d6b8b_level0_row6\" class=\"row_heading level0 row6\" >endDate</th>\n",
       "      <td id=\"T_d6b8b_row6_col0\" class=\"data row6 col0\" >9.98%</td>\n",
       "    </tr>\n",
       "    <tr>\n",
       "      <th id=\"T_d6b8b_level0_row7\" class=\"row_heading level0 row7\" >issn</th>\n",
       "      <td id=\"T_d6b8b_row7_col0\" class=\"data row7 col0\" >57.75%</td>\n",
       "    </tr>\n",
       "  </tbody>\n",
       "</table>\n"
      ],
      "text/plain": [
       "<pandas.io.formats.style.Styler at 0x7fb449aac4f0>"
      ]
     },
     "execution_count": 8,
     "metadata": {},
     "output_type": "execute_result"
    }
   ],
   "source": [
    "(df_titles.isnull().sum() / df_titles.shape[0]).to_frame().style.format({0: \"{:.2%}\"}).hide(axis=1)"
   ]
  },
  {
   "cell_type": "markdown",
   "id": "cc9d3bec-39c0-415c-bc83-c3f014554794",
   "metadata": {
    "editable": true,
    "slideshow": {
     "slide_type": ""
    },
    "tags": []
   },
   "source": [
    "The `place` field has a number of problems. Where there is a value it is returned as an array containing a single string, even when there are multiple places. In other words, the arrays themselves are pointless, and you need to do some extra work to try and recover multiple values from the enclosed strings. There's no reliable delimiter you can use to split the strings, so you'd probably have to do some sort of pattern matching."
   ]
  },
  {
   "cell_type": "markdown",
   "id": "e627cc52-a22f-4e6b-a9f0-7d93b4c885c8",
   "metadata": {
    "editable": true,
    "slideshow": {
     "slide_type": ""
    },
    "tags": []
   },
   "source": [
    "Other problems I've noticed with the data from the `magazine/titles` endpoint include:\n",
    "\n",
    "- more than half of the records are for Commonwealth Parliamentary Papers so, depending on your needs, you might want to separate these out from the more conventional periodicals\n",
    "- some of the titles have no issues, so no digitised content is actually available\n",
    "- some of the title records actually point to a single issue, rather than a collection of issues"
   ]
  },
  {
   "cell_type": "markdown",
   "id": "59462b46-2982-4c11-af85-27dadee58925",
   "metadata": {
    "editable": true,
    "slideshow": {
     "slide_type": ""
    },
    "tags": []
   },
   "source": [
    "(periodicals:data:title)=\n",
    "### Get details of an individual periodical title\n",
    "\n",
    "The `magazine/title` (note the singular `title`) endpoint provides information about individual periodical titles. You can specify the title using either an `nla.obj` identifier or a numeric work identifier. For example, to get details about the [*Journal of Soil Conservation*](https://trove.nla.gov.au/work/10411388) you can either use it's work identifier `10411388`:\n",
    "\n",
    "`https://api.trove.nla.gov.au/v3/magazine/title/10411388?encoding=json`\n",
    "\n",
    "[![Try it!](https://troveconsole.herokuapp.com/static/img/try-trove-api-console.svg)](https://troveconsole.herokuapp.com/v3/?url=https%3A%2F%2Fapi.trove.nla.gov.au%2Fv3%2Fmagazine%2Ftitle%2F10411388%3Fencoding%3Djson&comment=)\n",
    "\n",
    "Or you can use it's digital object identifier `nla.obj-740911077`:\n",
    "\n",
    "`https://api.trove.nla.gov.au/v3/magazine/title/nla.obj-740911077?encoding=json`\n",
    "\n",
    "[![Try it!](https://troveconsole.herokuapp.com/static/img/try-trove-api-console.svg)](https://troveconsole.herokuapp.com/v3/?url=https%3A%2F%2Fapi.trove.nla.gov.au%2Fv3%2Fmagazine%2Ftitle%2Fnla.obj-740911077%3Fencoding%3Djson&comment=)\n",
    "\n",
    "Both of these requests return exactly the same data:\n",
    "\n",
    "```json\n",
    "{\n",
    "    \"id\": \"nla.obj-740911077\",\n",
    "    \"title\": \"Journal of the Soil Conservation Service of New South Wales.\",\n",
    "    \"issn\": \"0028-6818\",\n",
    "    \"publisher\": \"Govt. Printer\",\n",
    "    \"place\": [\n",
    "        \"New South Wales\"\n",
    "    ],\n",
    "    \"troveUrl\": \"https://nla.gov.au/nla.obj-740911077\",\n",
    "    \"startDate\": \"1945-01-01\",\n",
    "    \"endDate\": \"1982-01-01\"\n",
    "}\n",
    "```\n",
    "\n",
    "```{admonition} One way traffic!\n",
    ":class: info\n",
    "You might notice that while you can use a periodical's work id to retrieve its API record, the data doesn't actually include a link *back* to the work. This means that there's no simple way to look up additional metadata describing a periodical using this API endpoint. To find a corresponding work record, you have to search for the digital object identifier using the `/result` endpoint. This is not an exact search, and will match the identifier wherever it appears in a record. As a result, it's likely to return multiple results and require some manual checking. Setting the `l-format` parameter to `Periodical` and `l-availability` to `y` should help narrow things down.\n",
    "\n",
    "[![Try it!](https://troveconsole.herokuapp.com/static/img/try-trove-api-console.svg)](https://troveconsole.herokuapp.com/v3/?url=https%3A%2F%2Fapi.trove.nla.gov.au%2Fv3%2Fresult%3Fq%3D%22nla.obj-740911077%22%26category%3Dbook%26l-format%3DPeriodical%26l-availability%3Dy%26encoding%3Djson&comment=)\n",
    "```\n",
    "\n",
    "The data returned about individual periodicals using the `magazine/title` endpoint is the same as the data you get back about multiple titles using `magazine/titles`. However, there are a couple of additional parameters you can add to get information about issues from a periodical.\n",
    "\n",
    "- set `include` to `years` to get the number of issues per year\n",
    "- set `include` to `years` and `range` to a date range to get a list of digitised issues within the date range\n",
    "\n",
    "See below for examples showing these parameters in use."
   ]
  },
  {
   "cell_type": "markdown",
   "id": "6d7ec4e4-a9fc-476b-8616-935e2233a0b6",
   "metadata": {
    "editable": true,
    "slideshow": {
     "slide_type": ""
    },
    "tags": []
   },
   "source": [
    "### Find the number of issues per year\n",
    "\n",
    "You can use the `magazine/title` API endpoint to retrieve information about issues of a periodical that have been digitised and are available through Trove. As [described above](periodicals:data:title), you can get details about an individual periodical using either it's work identifier or `nla.obj` identifier.\n",
    "\n",
    "You can find the number of digitised issues per year by setting the `include` parameter to `years`. The data returned will include a list of years for which digitised issues are available, and the number of issues available each year. For example, to get issue counts from the *Australasian pocket almanack* (`nla.obj-2967431735`), you'd request:\n",
    "\n",
    "`https://api.trove.nla.gov.au/v3/magazine/title/nla.obj-2967431735?encoding=json&include=years`\n",
    "\n",
    "[![Try it!](https://troveconsole.herokuapp.com/static/img/try-trove-api-console.svg)](https://troveconsole.herokuapp.com/v3/?url=https%3A%2F%2Fapi.trove.nla.gov.au%2Fv3%2Fmagazine%2Ftitle%2Fnla.obj-2967431735%3Fencoding%3Djson%26include%3Dyears&comment=)\n",
    "\n",
    "Here's the data returned:\n",
    "\n",
    "```json\n",
    "{\n",
    "    \"id\": \"nla.obj-2967431735\",\n",
    "    \"title\": \"Australasian pocket almanack : for the year of Our Lord ...\",\n",
    "    \"publisher\": \"Compiled and printed by Robert Howe\",\n",
    "    \"place\": [\n",
    "        \"Australasia\"\n",
    "    ],\n",
    "    \"troveUrl\": \"https://nla.gov.au/nla.obj-2967431735\",\n",
    "    \"startDate\": \"1822-01-01\",\n",
    "    \"endDate\": \"1826-01-01\",\n",
    "    \"year\": [\n",
    "        {\n",
    "            \"date\": \"1822\",\n",
    "            \"issuecount\": 1\n",
    "        },\n",
    "        {\n",
    "            \"date\": \"1823\",\n",
    "            \"issuecount\": 1\n",
    "        },\n",
    "        {\n",
    "            \"date\": \"1824\",\n",
    "            \"issuecount\": 1\n",
    "        },\n",
    "        {\n",
    "            \"date\": \"1825\",\n",
    "            \"issuecount\": 1\n",
    "        },\n",
    "        {\n",
    "            \"date\": \"1826\",\n",
    "            \"issuecount\": 1\n",
    "        }\n",
    "    ]\n",
    "}\n",
    "```\n",
    "\n",
    "It's important to note that the `startDate` and `endDate` values don't necessarily match the range of years returned. I'm assuming that `startDate` and `endDate` are based on the available bibliographic data, while the list of years is generated from the issues that have actually been digitised. If any issues are undated, the list of years will include a value with the `date` set to `unknown`.\n",
    "\n",
    "Using this data you can calculate the range of available years and the total number of issues available."
   ]
  },
  {
   "cell_type": "code",
   "execution_count": 26,
   "id": "983c95be-d411-48a9-a23d-bc2c9189feca",
   "metadata": {
    "editable": true,
    "slideshow": {
     "slide_type": ""
    },
    "tags": []
   },
   "outputs": [
    {
     "name": "stdout",
     "output_type": "stream",
     "text": [
      "Journal of the Soil Conservation Service of New South Wales.\n",
      "First year: 1945\n",
      "Last year: 1982\n",
      "Total issues: 183\n"
     ]
    }
   ],
   "source": [
    "import requests\n",
    "\n",
    "obj_id = \"nla.obj-740911077\"\n",
    "\n",
    "params = {\n",
    "    \"include\": \"years\",\n",
    "    \"encoding\": \"json\"\n",
    "}\n",
    "\n",
    "headers = {\"X-API-KEY\": API_KEY}\n",
    "\n",
    "response = requests.get(f\"https://api.trove.nla.gov.au/v3/magazine/title/{obj_id}\", params=params, headers=headers)\n",
    "data = response.json()\n",
    "print(data[\"title\"])\n",
    "\n",
    "years = [y[\"date\"] for y in data[\"year\"]]\n",
    "years = sorted(years)\n",
    "print(f\"First year: {years[0]}\")\n",
    "print(f\"Last year: {years[-1]}\")\n",
    "\n",
    "issue_count = 0\n",
    "for year in data[\"year\"]:\n",
    "    issue_count += year[\"issuecount\"]\n",
    "print(f\"Total issues: {issue_count}\")"
   ]
  },
  {
   "cell_type": "markdown",
   "id": "282c06ec-123f-472e-9700-30f35fa509a5",
   "metadata": {
    "editable": true,
    "slideshow": {
     "slide_type": ""
    },
    "tags": []
   },
   "source": [
    "### Get a list of individual issues\n",
    "\n",
    "You can get details of individual issues from the `magazines/title` API endpoint by setting the `include` parameter to `years` and adding the `range` parameter to specify a date range. The `range` parameter needs to be in the format `YYYYMMDD-YYYYMMDD`. For example, to retrieve details of issues from 1920 to 1950, you'd use a `range` value of `19200101-19501231`.\n",
    "\n",
    "If the number of issues is fairly small, you can just use dummy dates to set the range well beyond the limits of the periodical, something like `18000101-21001231` for example. That means you'll get everything at once. \n",
    "\n",
    "So to get details of all issues in the *Australasian pocket almanack* (`nla.obj-2967431735`) you might request:\n",
    "\n",
    "`https://api.trove.nla.gov.au/v3/magazine/title/nla.obj-2967431735?encoding=json&include=years&range=18000101-21001231`\n",
    "\n",
    "[![Try it!](https://troveconsole.herokuapp.com/static/img/try-trove-api-console.svg)](https://troveconsole.herokuapp.com/v3/?url=https%3A%2F%2Fapi.trove.nla.gov.au%2Fv3%2Fmagazine%2Ftitle%2Fnla.obj-2967431735%3Fencoding%3Djson%26include%3Dyears%26range%3D18000101-21001231&comment=)\n",
    "\n",
    "There are, however, some titles with thousands of issues, so you'll probably want to use `range` to divide the data into manageable chunks. For example, the `get_periodical_issues()` function in the GLAM Workbench notebook [Get details of periodicals from the `/magazine/titles` API endpoint](https://glam-workbench.net/trove-journals/periodicals-from-api/) automatically harvests the data in 10 year chunks if there are more than 500 issues in total.\n",
    "\n",
    "The data includes a list of issues for each year:\n",
    "\n",
    "```json\n",
    "{\n",
    "    \"id\": \"nla.obj-2967431735\",\n",
    "    \"title\": \"Australasian pocket almanack : for the year of Our Lord ...\",\n",
    "    \"publisher\": \"Compiled and printed by Robert Howe\",\n",
    "    \"place\": [\n",
    "        \"Australasia\"\n",
    "    ],\n",
    "    \"troveUrl\": \"https://nla.gov.au/nla.obj-2967431735\",\n",
    "    \"startDate\": \"1822-01-01\",\n",
    "    \"endDate\": \"1826-01-01\",\n",
    "    \"year\": [\n",
    "        {\n",
    "            \"date\": \"1822\",\n",
    "            \"issuecount\": 1,\n",
    "            \"issue\": [\n",
    "                {\n",
    "                    \"id\": \"nla.obj-2967947168\",\n",
    "                    \"date\": \"1822-01-01\",\n",
    "                    \"url\": \"https://nla.gov.au/nla.obj-2967947168\"\n",
    "                }\n",
    "            ]\n",
    "        },\n",
    "        {\n",
    "            \"date\": \"1823\",\n",
    "            \"issuecount\": 1,\n",
    "            \"issue\": [\n",
    "                {\n",
    "                    \"id\": \"nla.obj-2977982467\",\n",
    "                    \"date\": \"1823-01-01\",\n",
    "                    \"url\": \"https://nla.gov.au/nla.obj-2977982467\"\n",
    "                }\n",
    "            ]\n",
    "        },\n",
    "        {\n",
    "            \"date\": \"1824\",\n",
    "            \"issuecount\": 1,\n",
    "            \"issue\": [\n",
    "                {\n",
    "                    \"id\": \"nla.obj-2969887983\",\n",
    "                    \"date\": \"1824-01-01\",\n",
    "                    \"url\": \"https://nla.gov.au/nla.obj-2969887983\"\n",
    "                }\n",
    "            ]\n",
    "        },\n",
    "        {\n",
    "            \"date\": \"1825\",\n",
    "            \"issuecount\": 1,\n",
    "            \"issue\": [\n",
    "                {\n",
    "                    \"id\": \"nla.obj-2967965114\",\n",
    "                    \"date\": \"1825-01-01\",\n",
    "                    \"url\": \"https://nla.gov.au/nla.obj-2967965114\"\n",
    "                }\n",
    "            ]\n",
    "        },\n",
    "        {\n",
    "            \"date\": \"1826\",\n",
    "            \"issuecount\": 1,\n",
    "            \"issue\": [\n",
    "                {\n",
    "                    \"id\": \"nla.obj-2967986225\",\n",
    "                    \"date\": \"1826-01-01\",\n",
    "                    \"url\": \"https://nla.gov.au/nla.obj-2967986225\"\n",
    "                }\n",
    "            ]\n",
    "        }\n",
    "    ]\n",
    "}\n",
    "```\n",
    "\n",
    "The metadata available for each issue is fairly minimal, just an identifier/url and a date. The url will open the issue in the [book and journal viewer](interfaces:digitised-journal-viewer). You can [extract additional metadata](/other-digitised-resources/how-to/extract-embedded-metadata) from the viewer, including lists of pages and articles.\n",
    "\n",
    "#### Data problems and workarounds\n",
    "\n",
    "There's currently a bug in the API that means that details of periodical issues without a date will be missing from the results. It tells you the undated issues exist, but doesn't include identifiers or links.\n",
    "\n",
    "```json\n",
    "\"year\": [\n",
    "    {\n",
    "        \"date\": \"unknown\",\n",
    "        \"issuecount\": 2\n",
    "    }\n",
    "]\n",
    "```\n",
    "\n",
    "The only real workaround is to [harvest issue details from the collection viewer](/other-digitised-resources/how-to/get-collection-items).\n",
    "\n",
    "Other problems I've noticed with the data from the `magazine/titles` endpoint include:\n",
    "\n",
    "- some issues are missing\n",
    "- some issue urls actually go to sub-collections containing issues"
   ]
  },
  {
   "cell_type": "markdown",
   "id": "d2f04bdf-09ab-40ea-97c2-f3688e5e6cf5",
   "metadata": {
    "editable": true,
    "slideshow": {
     "slide_type": ""
    },
    "tags": []
   },
   "source": [
    "### Getting a list of pages in an issue\n",
    "\n",
    "If you have an issue's `nla.obj` identifier you can [get a list of page identifiers](digitised:howto:embedded:pages) from the metadata embedded in the [book and journal viewer](interfaces:digitised-journal-viewer). The page identifiers can then be used to [download images of digitised pages](download-high-res-images) and [access OCR layout data](/other-digitised-resources/how-to/get-ocr-layout-data)."
   ]
  },
  {
   "cell_type": "markdown",
   "id": "46a7c1ad-5a7d-49b1-81af-25d93cd05d27",
   "metadata": {
    "editable": true,
    "slideshow": {
     "slide_type": ""
    },
    "tags": []
   },
   "source": [
    "### Getting a list of articles in an issue\n",
    "\n",
    "If you have an issue's `nla.obj` identifier you can [get a list of articles](digitised:howto:embedded:articles) in that issue (digitised:howto:embedded:articles) from the metadata embedded in the [book and journal viewer](interfaces:digitised-journal-viewer)."
   ]
  },
  {
   "cell_type": "markdown",
   "id": "9a4856d7-61ef-48d9-bcb1-d1e816c90ca5",
   "metadata": {
    "editable": true,
    "slideshow": {
     "slide_type": ""
    },
    "tags": []
   },
   "source": [
    "### Searching for articles\n",
    "\n",
    "To find periodical articles related to a particular topic, you can search using keywords and facets in the *Magazines & Newsletters* category.\n",
    "\n",
    "However, it's important to note that periodical articles (unlike newspaper articles) are returned as work-level records. *Usually* the work records will only contain a single 'version' – the article itself – but not always. Advertisements, in particular, seem to be treated differently. You will sometimes come across work records, [like this](https://trove.nla.gov.au/work/232859878), that munge together *all* the advertisements in a specific issue as 'versions'.\n",
    "\n",
    "And it's not just advertisements. Here's [a work record](https://trove.nla.gov.au/work/10431978) that combines reports on Korea from 13 *different* issues of *Current Notes*.\n",
    "\n",
    "These sorts of article groupings might make your search results more readable, but they make the articles themselves less discoverable. If your search on a topic related to Korea returns the group from *Current Notes*, how do you know which of the 13 reports actually matched your query? You would need to manually search each issue, or download the article texts and run your own search process.\n",
    "\n",
    "Another odd feature of periodical article search results is that key metadata, such as the issue date and page number, is only included in the version record, not in the top-level work record. Similarly, OCRd text of articles is [buried down in the description field of the version records](digitised:periodicals:data:text-articles-api). Here's an example of the metadata only available at version level:\n",
    "\n",
    "```json\n",
    "\"isPartOf\": [\n",
    "    {\n",
    "        \"value\": \"Current notes on international affairs.\",\n",
    "        \"type\": \"publication\"\n",
    "    },\n",
    "    {\n",
    "        \"value\": \"Vol. 30 No. 4 (April 1959)\"\n",
    "    }\n",
    "],\n",
    "\"bibliographicCitation\": [\n",
    "    {\n",
    "        \"value\": \"36\",\n",
    "        \"type\": \"pagination\"\n",
    "    },\n",
    "    {\n",
    "        \"value\": \"1959-04-30\",\n",
    "        \"type\": \"dateIssued\"\n",
    "    },\n",
    "    {\n",
    "        \"value\": \"4\",\n",
    "        \"type\": \"issue\"\n",
    "    },\n",
    "    {\n",
    "        \"value\": \"30\",\n",
    "        \"type\": \"volume\"\n",
    "    },\n",
    "    {\n",
    "        \"value\": \"aca\",\n",
    "        \"type\": \"placeOfPub\"\n",
    "    },\n",
    "    {\n",
    "        \"value\": \"0011-3751\",\n",
    "        \"type\": \"issn\"\n",
    "    }\n",
    "],\n",
    "```\n",
    "\n",
    "All of this means that if you're assembling a dataset of periodical articles from a search using the `/result` endpoint of the Trove API, you need to *always* set the `include` parameter to `workVersions`. If you don't, you'll miss important metadata, won't have access to the OCRd text, and could overlook grouped articles."
   ]
  },
  {
   "cell_type": "markdown",
   "id": "67b9614c-6903-40ae-be0c-273369d8f5ad",
   "metadata": {
    "editable": true,
    "slideshow": {
     "slide_type": ""
    },
    "tags": []
   },
   "source": [
    "(digitised:periodicals:data:text)=\n",
    "## Text\n",
    "\n",
    "````{margin}\n",
    "```{seealso}\n",
    "The GLAM Workbench includes a [pre-harvested collection of OCRd text](https://glam-workbench.net/trove-journals/ocrd-text-all-journals/) from all the digitised periodicals in Trove. You can also download pre-harvested OCRd text for individual periodical titles using the `download_text` link in the [periodical-titles.csv](https://glam-workbench.net/trove-journals/periodicals-data-api/#periodical-titlescsv) dataset or in [Datasette-Lite](https://glam-workbench.net/datasette-lite/?url=https://github.com/GLAM-Workbench/trove-periodicals-data/blob/main/periodicals.db&install=datasette-json-html&install=datasette-template-sql&metadata=https://github.com/GLAM-Workbench/trove-periodicals-data/blob/main/metadata.json).\n",
    "```\n",
    "````\n",
    "\n",
    "There are three ways of getting OCRd text from periodicals:\n",
    "\n",
    "- in article records from the Trove API\n",
    "- downloaded from pages and issues\n",
    "- from an internal API that provides OCRd text and layout information\n",
    "\n",
    "(digitised:periodicals:data:text-articles-api)=\n",
    "### Get article text from the Trove API\n",
    "\n",
    "You can get the OCRd text of articles in the *Magazines & Newsletters* category using the Trove API, but there's a couple of tricks. \n",
    "\n",
    "The OCRd text is only included in *version* records rather than the parent *work* records. But, by default, the API only returns the *work* level records. To include the OCRd text you need to ask the API to add the versions by setting the `include` parameter to `workVersions` when constructing your request.\n",
    "\n",
    "This works when using the `/result` endpoint to search for articles,\n",
    "\n",
    "[![Try it!](https://troveconsole.herokuapp.com/static/img/try-trove-api-console.svg)](https://troveconsole.herokuapp.com/v3/?url=https%3A%2F%2Fapi.trove.nla.gov.au%2Fv3%2Fresult%3Fq%3Dweather%26category%3Dmagazine%26encoding%3Djson%26include%3Dworkversions&comment=)\n",
    "\n",
    "or when requesting a single article using the `/work` endpoint.\n",
    "\n",
    "[![Try it!](https://troveconsole.herokuapp.com/static/img/try-trove-api-console.svg)](https://troveconsole.herokuapp.com/v3/?url=https%3A%2F%2Fapi.trove.nla.gov.au%2Fv3%2Fwork%2F234127605%3Finclude%3DworkVersions%26encoding%3Djson&comment=)\n",
    "\n",
    "The OCRd text is included in the version's `description` field, but not every `description` contains OCRd text. You need to look for a `description` that has a `type` equal to `open_fulltext`, and then retrieve the text from the `value` subfield.\n",
    "\n",
    "Here's an example of a version's `description` field containing OCRd text. Note the `type` and `value` subfields.\n",
    "\n",
    "``` json\n",
    "    \"description\": [\n",
    "        {\n",
    "            \"value\": \"In the year 1896 there will be four Eclipses — two of the Sun, and two of the Moon.\",\n",
    "            \"type\": \"open_fulltext\"\n",
    "         }\n",
    "    ],\n",
    "```\n",
    "\n",
    "The description field can contain multiple entries, and you can't assume that all of them will include these subfields, so you need to do some checking until you find the OCRd text. Something like this should work:\n",
    "\n",
    "```python\n",
    "# Loop through all the values in the description field\n",
    "for description in version.get(\"description\", []):\n",
    "    # Check that the description has a `type` subfield set to \"open_fulltext\"\n",
    "    if description.get(\"type\") == \"open_fulltext\":\n",
    "        # Get the OCRd text from the `value` subfield\n",
    "        text = description.get(\"value\", \"\")\n",
    "        break\n",
    "```\n",
    "\n",
    "To complicate things further, some article records contain multiple versions. These are usually groups of advertisements from a single issue, but each advertisement will have its own OCRd text. To get all of the OCRd text from the record, you'd need to loop through all the grouped versions, extracting the OCRd text from each in turn."
   ]
  },
  {
   "cell_type": "markdown",
   "id": "eba6f2d9-7cae-4a72-8a2c-4a363b8bbdf4",
   "metadata": {
    "editable": true,
    "slideshow": {
     "slide_type": ""
    },
    "tags": []
   },
   "source": [
    "### Download OCRd text from pages and issues\n",
    "\n",
    "You can download OCRd text from periodical issues and pages using the web interface. To automate this process you can mimic the behaviour of the download button. Full details are available in [](/other-digitised-resources/how-to/download-items-text-images), but here's a quick summary.\n",
    "\n",
    "````{margin}\n",
    "```{seealso}\n",
    "The [periodical-issues.csv](https://glam-workbench.net/trove-journals/periodicals-data-api/#periodical-issuescsv) dataset in the GLAM Workbench includes a `text_download_url` column which contains the url you need to download all the OCRd text from a single issue. It uses the same pattern as described here.\n",
    "```\n",
    "````\n",
    "\n",
    "To download the complete OCRd text of a single periodical issue you need to know the number of pages in the issue. This can be found by [extracting the metadata](/other-digitised-resources/how-to/extract-embedded-metadata) embedded in the issue viewer and getting the length of the `page` list.\n",
    "\n",
    "You can then construct a url to download the OCRd text using the issue identifier and the total number of pages:\n",
    "\n",
    "`https://nla.gov.au/[ISSUE ID]/download?downloadOption=ocr&firstPage=0&lastPage=[TOTAL PAGES - 1]`\n",
    "\n",
    "Note that the `lastPage` parameter is set to the total number of pages, minus one. This is because page numbering starts at zero. For example, [this issue](https://nla.gov.au/nla.obj-326379450) of *Pacific Islands Monthly* contains 164 pages, so the url to download the complete OCRd text would be:\n",
    "\n",
    "<a href=\"https://nla.gov.au/nla.obj-326379450/download?downloadOption=ocr&firstPage=0&lastPage=163\">https://nla.gov.au/nla.obj-326379450/download?downloadOption=ocr&firstPage=0&lastPage=163</a>\n",
    "\n",
    "````{margin}\n",
    "```{seealso}\n",
    "The GLAM Workbench includes notebooks that demonstrate how you can combine this method with other processing steps to [Get OCRd text from a digitised journal in Trove](https://glam-workbench.net/trove-journals/get-ocrd-text-from-digitised-journal/) and [Download the OCRd text for ALL the digitised journals in Trove!](https://glam-workbench.net/trove-journals/get-ocrd-text-from-all-journals/)\n",
    "```\n",
    "````\n",
    "\n",
    "You can use the same url pattern to download OCRd text from any range of pages. For example, to download text from the first five pages of an issue, you'd set `firstPage` to `0` and `lastPage` to `4`. To download text from page two, you'd set both `firstPage` and `lastPage` to `1`. \n",
    "\n",
    "```{warning}\n",
    "Keep in mind that the page numbers printed in the periodical don't necessarily correspond to the page numbers in Trove's [digital journal viewer](interfaces:digitised-journal-viewer). \n",
    "```"
   ]
  },
  {
   "cell_type": "markdown",
   "id": "3ac8713c-1950-4da2-a732-d2fd2aa16bbd",
   "metadata": {
    "editable": true,
    "slideshow": {
     "slide_type": ""
    },
    "tags": []
   },
   "source": [
    "### Get text and positional information from OCR data\n",
    "\n",
    "When Trove's [digital book & journal viewer](interfaces:digitised-journal-viewer) displays a page, it loads OCR data from an internal API. This data includes both the OCRd text and the position of every block, line, and word of the text. If all you want is the raw text, you're better off using the method above, but if you're interested in the position of the text on the page then you you can download and parse the OCR data. See [](/other-digitised-resources/how-to/get-ocr-layout-data) for full details."
   ]
  },
  {
   "cell_type": "markdown",
   "id": "a3d99e09-ae71-4da3-bf04-22fb2f2c51ac",
   "metadata": {
    "editable": true,
    "slideshow": {
     "slide_type": ""
    },
    "tags": []
   },
   "source": [
    "(digitised:periodicals:data:images)=\n",
    "## Images\n",
    "\n",
    "There are two types of images you can obtain from periodicals:\n",
    "\n",
    "- complete page images\n",
    "- images of illustrations cropped from pages using OCR data\n",
    "\n",
    "### Download a range of pages from an issue\n",
    "\n",
    "````{margin}\n",
    "```{seealso}\n",
    "The GLAM Workbench notebook [Get covers (or any other pages) from a digitised journal in Trove](https://glam-workbench.net/trove-journals/get-covers-from-digitised-journal/) uses this method to download all the cover images from a periodical.\n",
    "```\n",
    "````\n",
    "\n",
    "You can download page images from periodical issues using the web interface. To automate this process you can mimic the behaviour of the download button. Full details are available in [](/other-digitised-resources/how-to/download-items-text-images), but here's a quick summary.\n",
    "\n",
    "To download all the page images from a single periodical issue you need to know the number of pages in the issue. This can be found by [extracting the metadata](/other-digitised-resources/how-to/extract-embedded-metadata) embedded in the issue viewer and getting the length of the `page` list.\n",
    "\n",
    "You can then construct a url to download the page images using the issue identifier and the total number of pages:\n",
    "\n",
    "`https://nla.gov.au/[ISSUE ID]/download?downloadOption=zip&firstPage=0&lastPage=[TOTAL PAGES - 1]`\n",
    "\n",
    "Note that the `lastPage` parameter is set to the total number of pages, minus one. This is because page numbering starts at zero. Note also that `downloadOption` is set to `zip` because the page images are zipped up into a single file for download. Once you've downloaded the file, you'll need to unzip it to access the images.\n",
    "\n",
    "You can use the same method to download the covers (or any other range of pages) from a collection of issues. To get the covers set `firstPage` to `0` and `lastPage` to `1`."
   ]
  },
  {
   "cell_type": "markdown",
   "id": "e981d03b-0671-4b85-be6a-0d02803392e8",
   "metadata": {
    "editable": true,
    "slideshow": {
     "slide_type": ""
    },
    "tags": []
   },
   "source": [
    "### Download issue thumbnails\n",
    "\n",
    "To download a thumbnail image of the first page of an issue, just add `-t` to the the issue identifier, eg:\n",
    "\n",
    "[https://nla.gov.au/nla.obj-714041173-t](https://nla.gov.au/nla.obj-714041173-t)\n",
    "\n",
    "The example below loads a list of periodical issues from [this dataset](https://glam-workbench.net/trove-journals/periodicals-data-api/), selects a random sample of 100 issues from [*Everyones*](https://nla.gov.au/nla.obj-522690001), and displays the issue thumbnails."
   ]
  },
  {
   "cell_type": "code",
   "execution_count": 8,
   "id": "41c04534-0709-4675-bab2-68119473e88b",
   "metadata": {
    "editable": true,
    "slideshow": {
     "slide_type": ""
    },
    "tags": []
   },
   "outputs": [
    {
     "data": {
      "text/html": [
       "\n",
       "    <style>\n",
       "        #ipyplot-html-viewer-toggle-kbn58Y7G5GojbGg6M4iRxd {\n",
       "            position: absolute;\n",
       "            top: -9999px;\n",
       "            left: -9999px;\n",
       "            visibility: hidden;\n",
       "        }\n",
       "\n",
       "        #ipyplot-html-viewer-label-kbn58Y7G5GojbGg6M4iRxd { \n",
       "            position: relative;\n",
       "            display: inline-block;\n",
       "            cursor: pointer;\n",
       "            color: blue;\n",
       "            text-decoration: underline;\n",
       "        }\n",
       "\n",
       "        #ipyplot-html-viewer-textarea-kbn58Y7G5GojbGg6M4iRxd {\n",
       "            background: lightgrey;\n",
       "            width: 100%;\n",
       "            height: 0px;\n",
       "            display: none;\n",
       "        }\n",
       "\n",
       "        #ipyplot-html-viewer-toggle-kbn58Y7G5GojbGg6M4iRxd:checked ~ #ipyplot-html-viewer-textarea-kbn58Y7G5GojbGg6M4iRxd {\n",
       "            height: 200px;\n",
       "            display: block;\n",
       "        }\n",
       "\n",
       "        #ipyplot-html-viewer-toggle-kbn58Y7G5GojbGg6M4iRxd:checked + #ipyplot-html-viewer-label-kbn58Y7G5GojbGg6M4iRxd:after {\n",
       "            content: \"hide html\";\n",
       "            position: absolute;\n",
       "            top: 0;\n",
       "            left: 0;\n",
       "            right: 0;\n",
       "            bottom: 0;\n",
       "            background: white;\n",
       "            cursor: pointer;\n",
       "            color: blue;\n",
       "            text-decoration: underline;\n",
       "        }\n",
       "    </style>\n",
       "    <div>\n",
       "        <input type=\"checkbox\" id=\"ipyplot-html-viewer-toggle-kbn58Y7G5GojbGg6M4iRxd\">\n",
       "        <textarea id=\"ipyplot-html-viewer-textarea-kbn58Y7G5GojbGg6M4iRxd\" readonly>\n",
       "            \n",
       "        <style>\n",
       "        #ipyplot-imgs-container-div-8vjjEUaBAKwq4ArzKziJRE {\n",
       "            width: 100%;\n",
       "            height: 100%;\n",
       "            margin: 0%;\n",
       "            overflow: auto;\n",
       "            position: relative;\n",
       "            overflow-y: scroll;\n",
       "        }\n",
       "\n",
       "        div.ipyplot-placeholder-div-8vjjEUaBAKwq4ArzKziJRE {\n",
       "            width: 50px;\n",
       "            display: inline-block;\n",
       "            margin: 3px;\n",
       "            position: relative;\n",
       "        }\n",
       "\n",
       "        div.ipyplot-content-div-8vjjEUaBAKwq4ArzKziJRE {\n",
       "            width: 50px;\n",
       "            background: white;\n",
       "            display: inline-block;\n",
       "            vertical-align: top;\n",
       "            text-align: center;\n",
       "            position: relative;\n",
       "            border: 2px solid #ddd;\n",
       "            top: 0;\n",
       "            left: 0;\n",
       "        }\n",
       "\n",
       "        div.ipyplot-content-div-8vjjEUaBAKwq4ArzKziJRE span.ipyplot-img-close {\n",
       "            display: none;\n",
       "        }\n",
       "\n",
       "        div.ipyplot-content-div-8vjjEUaBAKwq4ArzKziJRE span {\n",
       "            width: 100%;\n",
       "            height: 100%;\n",
       "            position: absolute;\n",
       "            top: 0;\n",
       "            left: 0;\n",
       "        }\n",
       "\n",
       "        div.ipyplot-content-div-8vjjEUaBAKwq4ArzKziJRE img {\n",
       "            width: 50px;\n",
       "        }\n",
       "\n",
       "        div.ipyplot-content-div-8vjjEUaBAKwq4ArzKziJRE span.ipyplot-img-close:hover {\n",
       "            cursor: zoom-out;\n",
       "        }\n",
       "        div.ipyplot-content-div-8vjjEUaBAKwq4ArzKziJRE span.ipyplot-img-expand:hover {\n",
       "            cursor: zoom-in;\n",
       "        }\n",
       "\n",
       "        div[id^=ipyplot-content-div-8vjjEUaBAKwq4ArzKziJRE]:target {\n",
       "            transform: scale(2.5);\n",
       "            transform-origin: left top;\n",
       "            z-index: 5000;\n",
       "            top: 0;\n",
       "            left: 0;\n",
       "            position: absolute;\n",
       "        }\n",
       "\n",
       "        div[id^=ipyplot-content-div-8vjjEUaBAKwq4ArzKziJRE]:target span.ipyplot-img-close {\n",
       "            display: block;\n",
       "        }\n",
       "\n",
       "        div[id^=ipyplot-content-div-8vjjEUaBAKwq4ArzKziJRE]:target span.ipyplot-img-expand {\n",
       "            display: none;\n",
       "        }\n",
       "        </style>\n",
       "    <div id=\"ipyplot-imgs-container-div-8vjjEUaBAKwq4ArzKziJRE\">\n",
       "    <div class=\"ipyplot-placeholder-div-8vjjEUaBAKwq4ArzKziJRE\">\n",
       "        <div id=\"ipyplot-content-div-8vjjEUaBAKwq4ArzKziJRE-Xpo3fa3fAjPa8Td6Ldoq3E\" class=\"ipyplot-content-div-8vjjEUaBAKwq4ArzKziJRE\">\n",
       "            <img src=\"https://nla.gov.au/nla.obj-541860343-t\"/>\n",
       "            <a href=\"#!\">\n",
       "                <span class=\"ipyplot-img-close\"/>\n",
       "            </a>\n",
       "            <a href=\"#ipyplot-content-div-8vjjEUaBAKwq4ArzKziJRE-Xpo3fa3fAjPa8Td6Ldoq3E\">\n",
       "                <span class=\"ipyplot-img-expand\"/>\n",
       "            </a>\n",
       "        </div>\n",
       "    </div>\n",
       "    \n",
       "    <div class=\"ipyplot-placeholder-div-8vjjEUaBAKwq4ArzKziJRE\">\n",
       "        <div id=\"ipyplot-content-div-8vjjEUaBAKwq4ArzKziJRE-UtNeJW4HAq2RiDYowaYZ7v\" class=\"ipyplot-content-div-8vjjEUaBAKwq4ArzKziJRE\">\n",
       "            <img src=\"https://nla.gov.au/nla.obj-549717804-t\"/>\n",
       "            <a href=\"#!\">\n",
       "                <span class=\"ipyplot-img-close\"/>\n",
       "            </a>\n",
       "            <a href=\"#ipyplot-content-div-8vjjEUaBAKwq4ArzKziJRE-UtNeJW4HAq2RiDYowaYZ7v\">\n",
       "                <span class=\"ipyplot-img-expand\"/>\n",
       "            </a>\n",
       "        </div>\n",
       "    </div>\n",
       "    \n",
       "    <div class=\"ipyplot-placeholder-div-8vjjEUaBAKwq4ArzKziJRE\">\n",
       "        <div id=\"ipyplot-content-div-8vjjEUaBAKwq4ArzKziJRE-RbMZ4RCguhFyktEMBdT96p\" class=\"ipyplot-content-div-8vjjEUaBAKwq4ArzKziJRE\">\n",
       "            <img src=\"https://nla.gov.au/nla.obj-570986072-t\"/>\n",
       "            <a href=\"#!\">\n",
       "                <span class=\"ipyplot-img-close\"/>\n",
       "            </a>\n",
       "            <a href=\"#ipyplot-content-div-8vjjEUaBAKwq4ArzKziJRE-RbMZ4RCguhFyktEMBdT96p\">\n",
       "                <span class=\"ipyplot-img-expand\"/>\n",
       "            </a>\n",
       "        </div>\n",
       "    </div>\n",
       "    \n",
       "    <div class=\"ipyplot-placeholder-div-8vjjEUaBAKwq4ArzKziJRE\">\n",
       "        <div id=\"ipyplot-content-div-8vjjEUaBAKwq4ArzKziJRE-DvmbqJ8xsVZYB6vNhEJKWy\" class=\"ipyplot-content-div-8vjjEUaBAKwq4ArzKziJRE\">\n",
       "            <img src=\"https://nla.gov.au/nla.obj-565254616-t\"/>\n",
       "            <a href=\"#!\">\n",
       "                <span class=\"ipyplot-img-close\"/>\n",
       "            </a>\n",
       "            <a href=\"#ipyplot-content-div-8vjjEUaBAKwq4ArzKziJRE-DvmbqJ8xsVZYB6vNhEJKWy\">\n",
       "                <span class=\"ipyplot-img-expand\"/>\n",
       "            </a>\n",
       "        </div>\n",
       "    </div>\n",
       "    \n",
       "    <div class=\"ipyplot-placeholder-div-8vjjEUaBAKwq4ArzKziJRE\">\n",
       "        <div id=\"ipyplot-content-div-8vjjEUaBAKwq4ArzKziJRE-btKz67VvTUmZGUo93MJ8Vm\" class=\"ipyplot-content-div-8vjjEUaBAKwq4ArzKziJRE\">\n",
       "            <img src=\"https://nla.gov.au/nla.obj-573732185-t\"/>\n",
       "            <a href=\"#!\">\n",
       "                <span class=\"ipyplot-img-close\"/>\n",
       "            </a>\n",
       "            <a href=\"#ipyplot-content-div-8vjjEUaBAKwq4ArzKziJRE-btKz67VvTUmZGUo93MJ8Vm\">\n",
       "                <span class=\"ipyplot-img-expand\"/>\n",
       "            </a>\n",
       "        </div>\n",
       "    </div>\n",
       "    \n",
       "    <div class=\"ipyplot-placeholder-div-8vjjEUaBAKwq4ArzKziJRE\">\n",
       "        <div id=\"ipyplot-content-div-8vjjEUaBAKwq4ArzKziJRE-MpA7VV9bkgAEp7WPaGyjsJ\" class=\"ipyplot-content-div-8vjjEUaBAKwq4ArzKziJRE\">\n",
       "            <img src=\"https://nla.gov.au/nla.obj-570400905-t\"/>\n",
       "            <a href=\"#!\">\n",
       "                <span class=\"ipyplot-img-close\"/>\n",
       "            </a>\n",
       "            <a href=\"#ipyplot-content-div-8vjjEUaBAKwq4ArzKziJRE-MpA7VV9bkgAEp7WPaGyjsJ\">\n",
       "                <span class=\"ipyplot-img-expand\"/>\n",
       "            </a>\n",
       "        </div>\n",
       "    </div>\n",
       "    \n",
       "    <div class=\"ipyplot-placeholder-div-8vjjEUaBAKwq4ArzKziJRE\">\n",
       "        <div id=\"ipyplot-content-div-8vjjEUaBAKwq4ArzKziJRE-RQEbxisv7VUxAtYM4VCLbR\" class=\"ipyplot-content-div-8vjjEUaBAKwq4ArzKziJRE\">\n",
       "            <img src=\"https://nla.gov.au/nla.obj-564412459-t\"/>\n",
       "            <a href=\"#!\">\n",
       "                <span class=\"ipyplot-img-close\"/>\n",
       "            </a>\n",
       "            <a href=\"#ipyplot-content-div-8vjjEUaBAKwq4ArzKziJRE-RQEbxisv7VUxAtYM4VCLbR\">\n",
       "                <span class=\"ipyplot-img-expand\"/>\n",
       "            </a>\n",
       "        </div>\n",
       "    </div>\n",
       "    \n",
       "    <div class=\"ipyplot-placeholder-div-8vjjEUaBAKwq4ArzKziJRE\">\n",
       "        <div id=\"ipyplot-content-div-8vjjEUaBAKwq4ArzKziJRE-WFAxpyWq36szjx8LC3Jqtb\" class=\"ipyplot-content-div-8vjjEUaBAKwq4ArzKziJRE\">\n",
       "            <img src=\"https://nla.gov.au/nla.obj-552100275-t\"/>\n",
       "            <a href=\"#!\">\n",
       "                <span class=\"ipyplot-img-close\"/>\n",
       "            </a>\n",
       "            <a href=\"#ipyplot-content-div-8vjjEUaBAKwq4ArzKziJRE-WFAxpyWq36szjx8LC3Jqtb\">\n",
       "                <span class=\"ipyplot-img-expand\"/>\n",
       "            </a>\n",
       "        </div>\n",
       "    </div>\n",
       "    \n",
       "    <div class=\"ipyplot-placeholder-div-8vjjEUaBAKwq4ArzKziJRE\">\n",
       "        <div id=\"ipyplot-content-div-8vjjEUaBAKwq4ArzKziJRE-atDcJyjfPaLD3xfooe4V9Z\" class=\"ipyplot-content-div-8vjjEUaBAKwq4ArzKziJRE\">\n",
       "            <img src=\"https://nla.gov.au/nla.obj-558059225-t\"/>\n",
       "            <a href=\"#!\">\n",
       "                <span class=\"ipyplot-img-close\"/>\n",
       "            </a>\n",
       "            <a href=\"#ipyplot-content-div-8vjjEUaBAKwq4ArzKziJRE-atDcJyjfPaLD3xfooe4V9Z\">\n",
       "                <span class=\"ipyplot-img-expand\"/>\n",
       "            </a>\n",
       "        </div>\n",
       "    </div>\n",
       "    \n",
       "    <div class=\"ipyplot-placeholder-div-8vjjEUaBAKwq4ArzKziJRE\">\n",
       "        <div id=\"ipyplot-content-div-8vjjEUaBAKwq4ArzKziJRE-7L34EM6t48pFsjnqKZkFMa\" class=\"ipyplot-content-div-8vjjEUaBAKwq4ArzKziJRE\">\n",
       "            <img src=\"https://nla.gov.au/nla.obj-552222339-t\"/>\n",
       "            <a href=\"#!\">\n",
       "                <span class=\"ipyplot-img-close\"/>\n",
       "            </a>\n",
       "            <a href=\"#ipyplot-content-div-8vjjEUaBAKwq4ArzKziJRE-7L34EM6t48pFsjnqKZkFMa\">\n",
       "                <span class=\"ipyplot-img-expand\"/>\n",
       "            </a>\n",
       "        </div>\n",
       "    </div>\n",
       "    </div>\n",
       "        </textarea>\n",
       "    </div>\n",
       "    "
      ],
      "text/plain": [
       "<IPython.core.display.HTML object>"
      ]
     },
     "metadata": {},
     "output_type": "display_data"
    },
    {
     "data": {
      "text/html": [
       "\n",
       "        <style>\n",
       "        #ipyplot-imgs-container-div-8vjjEUaBAKwq4ArzKziJRE {\n",
       "            width: 100%;\n",
       "            height: 100%;\n",
       "            margin: 0%;\n",
       "            overflow: auto;\n",
       "            position: relative;\n",
       "            overflow-y: scroll;\n",
       "        }\n",
       "\n",
       "        div.ipyplot-placeholder-div-8vjjEUaBAKwq4ArzKziJRE {\n",
       "            width: 50px;\n",
       "            display: inline-block;\n",
       "            margin: 3px;\n",
       "            position: relative;\n",
       "        }\n",
       "\n",
       "        div.ipyplot-content-div-8vjjEUaBAKwq4ArzKziJRE {\n",
       "            width: 50px;\n",
       "            background: white;\n",
       "            display: inline-block;\n",
       "            vertical-align: top;\n",
       "            text-align: center;\n",
       "            position: relative;\n",
       "            border: 2px solid #ddd;\n",
       "            top: 0;\n",
       "            left: 0;\n",
       "        }\n",
       "\n",
       "        div.ipyplot-content-div-8vjjEUaBAKwq4ArzKziJRE span.ipyplot-img-close {\n",
       "            display: none;\n",
       "        }\n",
       "\n",
       "        div.ipyplot-content-div-8vjjEUaBAKwq4ArzKziJRE span {\n",
       "            width: 100%;\n",
       "            height: 100%;\n",
       "            position: absolute;\n",
       "            top: 0;\n",
       "            left: 0;\n",
       "        }\n",
       "\n",
       "        div.ipyplot-content-div-8vjjEUaBAKwq4ArzKziJRE img {\n",
       "            width: 50px;\n",
       "        }\n",
       "\n",
       "        div.ipyplot-content-div-8vjjEUaBAKwq4ArzKziJRE span.ipyplot-img-close:hover {\n",
       "            cursor: zoom-out;\n",
       "        }\n",
       "        div.ipyplot-content-div-8vjjEUaBAKwq4ArzKziJRE span.ipyplot-img-expand:hover {\n",
       "            cursor: zoom-in;\n",
       "        }\n",
       "\n",
       "        div[id^=ipyplot-content-div-8vjjEUaBAKwq4ArzKziJRE]:target {\n",
       "            transform: scale(2.5);\n",
       "            transform-origin: left top;\n",
       "            z-index: 5000;\n",
       "            top: 0;\n",
       "            left: 0;\n",
       "            position: absolute;\n",
       "        }\n",
       "\n",
       "        div[id^=ipyplot-content-div-8vjjEUaBAKwq4ArzKziJRE]:target span.ipyplot-img-close {\n",
       "            display: block;\n",
       "        }\n",
       "\n",
       "        div[id^=ipyplot-content-div-8vjjEUaBAKwq4ArzKziJRE]:target span.ipyplot-img-expand {\n",
       "            display: none;\n",
       "        }\n",
       "        </style>\n",
       "    <div id=\"ipyplot-imgs-container-div-8vjjEUaBAKwq4ArzKziJRE\">\n",
       "    <div class=\"ipyplot-placeholder-div-8vjjEUaBAKwq4ArzKziJRE\">\n",
       "        <div id=\"ipyplot-content-div-8vjjEUaBAKwq4ArzKziJRE-Xpo3fa3fAjPa8Td6Ldoq3E\" class=\"ipyplot-content-div-8vjjEUaBAKwq4ArzKziJRE\">\n",
       "            <img src=\"https://nla.gov.au/nla.obj-541860343-t\"/>\n",
       "            <a href=\"#!\">\n",
       "                <span class=\"ipyplot-img-close\"/>\n",
       "            </a>\n",
       "            <a href=\"#ipyplot-content-div-8vjjEUaBAKwq4ArzKziJRE-Xpo3fa3fAjPa8Td6Ldoq3E\">\n",
       "                <span class=\"ipyplot-img-expand\"/>\n",
       "            </a>\n",
       "        </div>\n",
       "    </div>\n",
       "    \n",
       "    <div class=\"ipyplot-placeholder-div-8vjjEUaBAKwq4ArzKziJRE\">\n",
       "        <div id=\"ipyplot-content-div-8vjjEUaBAKwq4ArzKziJRE-UtNeJW4HAq2RiDYowaYZ7v\" class=\"ipyplot-content-div-8vjjEUaBAKwq4ArzKziJRE\">\n",
       "            <img src=\"https://nla.gov.au/nla.obj-549717804-t\"/>\n",
       "            <a href=\"#!\">\n",
       "                <span class=\"ipyplot-img-close\"/>\n",
       "            </a>\n",
       "            <a href=\"#ipyplot-content-div-8vjjEUaBAKwq4ArzKziJRE-UtNeJW4HAq2RiDYowaYZ7v\">\n",
       "                <span class=\"ipyplot-img-expand\"/>\n",
       "            </a>\n",
       "        </div>\n",
       "    </div>\n",
       "    \n",
       "    <div class=\"ipyplot-placeholder-div-8vjjEUaBAKwq4ArzKziJRE\">\n",
       "        <div id=\"ipyplot-content-div-8vjjEUaBAKwq4ArzKziJRE-RbMZ4RCguhFyktEMBdT96p\" class=\"ipyplot-content-div-8vjjEUaBAKwq4ArzKziJRE\">\n",
       "            <img src=\"https://nla.gov.au/nla.obj-570986072-t\"/>\n",
       "            <a href=\"#!\">\n",
       "                <span class=\"ipyplot-img-close\"/>\n",
       "            </a>\n",
       "            <a href=\"#ipyplot-content-div-8vjjEUaBAKwq4ArzKziJRE-RbMZ4RCguhFyktEMBdT96p\">\n",
       "                <span class=\"ipyplot-img-expand\"/>\n",
       "            </a>\n",
       "        </div>\n",
       "    </div>\n",
       "    \n",
       "    <div class=\"ipyplot-placeholder-div-8vjjEUaBAKwq4ArzKziJRE\">\n",
       "        <div id=\"ipyplot-content-div-8vjjEUaBAKwq4ArzKziJRE-DvmbqJ8xsVZYB6vNhEJKWy\" class=\"ipyplot-content-div-8vjjEUaBAKwq4ArzKziJRE\">\n",
       "            <img src=\"https://nla.gov.au/nla.obj-565254616-t\"/>\n",
       "            <a href=\"#!\">\n",
       "                <span class=\"ipyplot-img-close\"/>\n",
       "            </a>\n",
       "            <a href=\"#ipyplot-content-div-8vjjEUaBAKwq4ArzKziJRE-DvmbqJ8xsVZYB6vNhEJKWy\">\n",
       "                <span class=\"ipyplot-img-expand\"/>\n",
       "            </a>\n",
       "        </div>\n",
       "    </div>\n",
       "    \n",
       "    <div class=\"ipyplot-placeholder-div-8vjjEUaBAKwq4ArzKziJRE\">\n",
       "        <div id=\"ipyplot-content-div-8vjjEUaBAKwq4ArzKziJRE-btKz67VvTUmZGUo93MJ8Vm\" class=\"ipyplot-content-div-8vjjEUaBAKwq4ArzKziJRE\">\n",
       "            <img src=\"https://nla.gov.au/nla.obj-573732185-t\"/>\n",
       "            <a href=\"#!\">\n",
       "                <span class=\"ipyplot-img-close\"/>\n",
       "            </a>\n",
       "            <a href=\"#ipyplot-content-div-8vjjEUaBAKwq4ArzKziJRE-btKz67VvTUmZGUo93MJ8Vm\">\n",
       "                <span class=\"ipyplot-img-expand\"/>\n",
       "            </a>\n",
       "        </div>\n",
       "    </div>\n",
       "    \n",
       "    <div class=\"ipyplot-placeholder-div-8vjjEUaBAKwq4ArzKziJRE\">\n",
       "        <div id=\"ipyplot-content-div-8vjjEUaBAKwq4ArzKziJRE-MpA7VV9bkgAEp7WPaGyjsJ\" class=\"ipyplot-content-div-8vjjEUaBAKwq4ArzKziJRE\">\n",
       "            <img src=\"https://nla.gov.au/nla.obj-570400905-t\"/>\n",
       "            <a href=\"#!\">\n",
       "                <span class=\"ipyplot-img-close\"/>\n",
       "            </a>\n",
       "            <a href=\"#ipyplot-content-div-8vjjEUaBAKwq4ArzKziJRE-MpA7VV9bkgAEp7WPaGyjsJ\">\n",
       "                <span class=\"ipyplot-img-expand\"/>\n",
       "            </a>\n",
       "        </div>\n",
       "    </div>\n",
       "    \n",
       "    <div class=\"ipyplot-placeholder-div-8vjjEUaBAKwq4ArzKziJRE\">\n",
       "        <div id=\"ipyplot-content-div-8vjjEUaBAKwq4ArzKziJRE-RQEbxisv7VUxAtYM4VCLbR\" class=\"ipyplot-content-div-8vjjEUaBAKwq4ArzKziJRE\">\n",
       "            <img src=\"https://nla.gov.au/nla.obj-564412459-t\"/>\n",
       "            <a href=\"#!\">\n",
       "                <span class=\"ipyplot-img-close\"/>\n",
       "            </a>\n",
       "            <a href=\"#ipyplot-content-div-8vjjEUaBAKwq4ArzKziJRE-RQEbxisv7VUxAtYM4VCLbR\">\n",
       "                <span class=\"ipyplot-img-expand\"/>\n",
       "            </a>\n",
       "        </div>\n",
       "    </div>\n",
       "    \n",
       "    <div class=\"ipyplot-placeholder-div-8vjjEUaBAKwq4ArzKziJRE\">\n",
       "        <div id=\"ipyplot-content-div-8vjjEUaBAKwq4ArzKziJRE-WFAxpyWq36szjx8LC3Jqtb\" class=\"ipyplot-content-div-8vjjEUaBAKwq4ArzKziJRE\">\n",
       "            <img src=\"https://nla.gov.au/nla.obj-552100275-t\"/>\n",
       "            <a href=\"#!\">\n",
       "                <span class=\"ipyplot-img-close\"/>\n",
       "            </a>\n",
       "            <a href=\"#ipyplot-content-div-8vjjEUaBAKwq4ArzKziJRE-WFAxpyWq36szjx8LC3Jqtb\">\n",
       "                <span class=\"ipyplot-img-expand\"/>\n",
       "            </a>\n",
       "        </div>\n",
       "    </div>\n",
       "    \n",
       "    <div class=\"ipyplot-placeholder-div-8vjjEUaBAKwq4ArzKziJRE\">\n",
       "        <div id=\"ipyplot-content-div-8vjjEUaBAKwq4ArzKziJRE-atDcJyjfPaLD3xfooe4V9Z\" class=\"ipyplot-content-div-8vjjEUaBAKwq4ArzKziJRE\">\n",
       "            <img src=\"https://nla.gov.au/nla.obj-558059225-t\"/>\n",
       "            <a href=\"#!\">\n",
       "                <span class=\"ipyplot-img-close\"/>\n",
       "            </a>\n",
       "            <a href=\"#ipyplot-content-div-8vjjEUaBAKwq4ArzKziJRE-atDcJyjfPaLD3xfooe4V9Z\">\n",
       "                <span class=\"ipyplot-img-expand\"/>\n",
       "            </a>\n",
       "        </div>\n",
       "    </div>\n",
       "    \n",
       "    <div class=\"ipyplot-placeholder-div-8vjjEUaBAKwq4ArzKziJRE\">\n",
       "        <div id=\"ipyplot-content-div-8vjjEUaBAKwq4ArzKziJRE-7L34EM6t48pFsjnqKZkFMa\" class=\"ipyplot-content-div-8vjjEUaBAKwq4ArzKziJRE\">\n",
       "            <img src=\"https://nla.gov.au/nla.obj-552222339-t\"/>\n",
       "            <a href=\"#!\">\n",
       "                <span class=\"ipyplot-img-close\"/>\n",
       "            </a>\n",
       "            <a href=\"#ipyplot-content-div-8vjjEUaBAKwq4ArzKziJRE-7L34EM6t48pFsjnqKZkFMa\">\n",
       "                <span class=\"ipyplot-img-expand\"/>\n",
       "            </a>\n",
       "        </div>\n",
       "    </div>\n",
       "    </div>"
      ],
      "text/plain": [
       "<IPython.core.display.HTML object>"
      ]
     },
     "metadata": {},
     "output_type": "display_data"
    }
   ],
   "source": [
    "import requests\n",
    "from pathlib import Path\n",
    "import ipyplot\n",
    "\n",
    "# Load issues dataset\n",
    "df_issues = pd.read_csv(\n",
    "    \"https://github.com/GLAM-Workbench/trove-periodicals-data/raw/main/periodical-issues.csv\",\n",
    "    keep_default_na=False,\n",
    ")\n",
    "\n",
    "# Filter issues to Everyones, select a random sample of 100, and sort by date\n",
    "sample_issues = df_issues.loc[df_issues[\"title_id\"] == \"nla.obj-522690001\"].sample(100).sort_values(\"date\")\n",
    "\n",
    "# Uncomment these lines to save images locally\n",
    "# for image in sample_issues.itertuples():\n",
    "#    url = f\"https://nla.gov.au/{image.id}-t\"\n",
    "#    response = requests.get(url)\n",
    "#    Path(f\"{image.id}-thumbnail.jpg\").write_bytes(response.content)\n",
    "\n",
    "# Generate a list of thumbnail urls\n",
    "images = [f\"https://nla.gov.au/{i.id}-t\" for i in sample_issues.itertuples()]\n",
    "\n",
    "# Display the thumbnails\n",
    "ipyplot.plot_images(images, max_images=100, img_width=50, show_url=False)"
   ]
  },
  {
   "cell_type": "markdown",
   "id": "46f3f154-559d-473a-bec7-cd5d24297366",
   "metadata": {
    "editable": true,
    "slideshow": {
     "slide_type": ""
    },
    "tags": []
   },
   "source": [
    "### Download a page image using its identifier\n",
    "\n",
    "If you have a page identifier you can download a high-resolution image of the page simply by adding `/image` to the identifier url. Full details [are available here](download-high-res-images), but here's a quick example.\n",
    "\n",
    "This identifier [nla.obj-714047007](http://nla.gov.au/nla.obj-714047007) points to a page in *Walkabout*. To download the page, you construct a url that looks like this:\n",
    "\n",
    "`http://nla.gov.au/nla.obj-714047007/image`"
   ]
  },
  {
   "cell_type": "code",
   "execution_count": 34,
   "id": "e612134e-838d-4645-9ff8-0f2a70c88b55",
   "metadata": {
    "editable": true,
    "slideshow": {
     "slide_type": ""
    },
    "tags": [
     "remove-output"
    ]
   },
   "outputs": [
    {
     "data": {
      "text/plain": [
       "1208892"
      ]
     },
     "execution_count": 34,
     "metadata": {},
     "output_type": "execute_result"
    }
   ],
   "source": [
    "from IPython.display import Image\n",
    "from pathlib import Path\n",
    "\n",
    "page_id = \"nla.obj-714047007\"\n",
    "\n",
    "# Construct the image url\n",
    "image_url = f\"https://nla.gov.au/{page_id}/image\"\n",
    "\n",
    "# Request the image\n",
    "response = requests.get(image_url)\n",
    "\n",
    "# Save the image to your local system\n",
    "Path(f\"{page_id}.jpg\").write_bytes(response.content)"
   ]
  },
  {
   "cell_type": "markdown",
   "id": "5f5984a5-afdd-4df3-a7d9-6752c85c9b35",
   "metadata": {
    "editable": true,
    "slideshow": {
     "slide_type": ""
    },
    "tags": []
   },
   "source": [
    "```{figure} nla.obj-714047007.jpg\n",
    ":width: 500px\n",
    "```"
   ]
  },
  {
   "cell_type": "markdown",
   "id": "15a12030-18b5-4cc6-83c6-4e55d453e26d",
   "metadata": {
    "editable": true,
    "slideshow": {
     "slide_type": ""
    },
    "tags": []
   },
   "source": [
    "### Save illustrations from pages using OCR layout data\n",
    "\n",
    "````{margin}\n",
    "```{seealso}\n",
    "The GLAM Workbench notebook [Harvest illustrations from periodicals](https://glam-workbench.net/trove-journals/harvest-illustrations-from-periodicals/) demonstrates in detail how to use the OCR positional data to crop illustrations from the pages of periodicals. You can use it to harvest illustrations from articles, pages, issues, or a search in the *Magazines & Newsletters* category.\n",
    "```\n",
    "````\n",
    "\n",
    "When Trove's [digital book & journal viewer](interfaces:digitised-journal-viewer) displays a periodical page, it loads OCR data from an internal API. As well as providing information about the position and content of text objects, this data includes the coordinates of any illustrations on the page. Using these coordinates you can crop and save illustrations from a page image. The full method is described in [](other-digitised:ocr-data:crop-images).\n",
    "\n",
    "Here's a [collection of cat photos](https://www.dropbox.com/scl/fo/60imdoyf4ss2b6vh01q1w/h?rlkey=zuwbjaqnmr7qvkuinovdu5ot0&dl=0) harvested from a search for `cat` or `kitten` in the titles of periodical articles.\n",
    "\n",
    "```{figure} /images/cat-collection.png\n",
    "```"
   ]
  }
 ],
 "metadata": {
  "kernelspec": {
   "display_name": "Python 3 (ipykernel)",
   "language": "python",
   "name": "python3"
  },
  "language_info": {
   "codemirror_mode": {
    "name": "ipython",
    "version": 3
   },
   "file_extension": ".py",
   "mimetype": "text/x-python",
   "name": "python",
   "nbconvert_exporter": "python",
   "pygments_lexer": "ipython3",
   "version": "3.10.12"
  }
 },
 "nbformat": 4,
 "nbformat_minor": 5
}
