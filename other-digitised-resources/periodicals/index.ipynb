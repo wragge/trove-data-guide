{
 "cells": [
  {
   "cell_type": "markdown",
   "id": "cc33b47e-b6bd-4a6e-a333-632b9033d7e4",
   "metadata": {},
   "source": [
    "# Periodicals"
   ]
  },
  {
   "cell_type": "markdown",
   "id": "804a8c9b-8541-4255-a0f7-b6d241064f9d",
   "metadata": {},
   "source": [
    "```{tableofcontents}\n",
    "```"
   ]
  },
  {
   "cell_type": "markdown",
   "id": "c59678ed-583a-4928-a305-628881ddb8bc",
   "metadata": {},
   "source": [
    "## Identifiers and links\n",
    "\n",
    "https://nla.gov.au/nla.obj-2904453468/view?sectionId=nla.obj-2910847932&partId=nla.obj-2907109728\n",
    "\n",
    "first id is issue, second is article, third is page\n",
    "\n",
    "article link redirects to issue"
   ]
  },
  {
   "cell_type": "code",
   "execution_count": null,
   "id": "6d0d6c2d-3964-4c78-a9bc-c4f9f5c96056",
   "metadata": {},
   "outputs": [],
   "source": []
  }
 ],
 "metadata": {
  "kernelspec": {
   "display_name": "Python 3 (ipykernel)",
   "language": "python",
   "name": "python3"
  },
  "language_info": {
   "codemirror_mode": {
    "name": "ipython",
    "version": 3
   },
   "file_extension": ".py",
   "mimetype": "text/x-python",
   "name": "python",
   "nbconvert_exporter": "python",
   "pygments_lexer": "ipython3",
   "version": "3.10.12"
  }
 },
 "nbformat": 4,
 "nbformat_minor": 5
}
