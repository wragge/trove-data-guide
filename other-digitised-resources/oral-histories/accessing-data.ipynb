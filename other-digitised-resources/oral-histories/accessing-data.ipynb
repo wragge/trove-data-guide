{
 "cells": [
  {
   "cell_type": "markdown",
   "id": "db08f061-13d5-47d7-942b-90a3d928a16a",
   "metadata": {
    "editable": true,
    "slideshow": {
     "slide_type": ""
    },
    "tags": []
   },
   "source": [
    "# Accessing data from digitised oral histories\n",
    "\n",
    "```{contents}\n",
    ":local:\n",
    ":backlinks: None\n",
    "```"
   ]
  },
  {
   "cell_type": "markdown",
   "id": "47586529-de41-46dc-a052-3d4c88f735db",
   "metadata": {
    "editable": true,
    "slideshow": {
     "slide_type": ""
    },
    "tags": []
   },
   "source": [
    "## Identifiers\n",
    "\n",
    "Digitised oral histories are uniquely identified by a `nla.obj` identifier, for example: `nla.obj-220905784`.\n",
    "\n",
    "You can find these identifiers in the web interface and in API results. In the web interface, for example, the 'Listen' link from [this oral history record](https://trove.nla.gov.au/work/245550803) goes to the url <https://nla.gov.au/nla.obj-220905784> which opens the audio player.\n",
    "\n",
    "If you're using the API, the digital object url will be in the `identifier` field of the work or version, with a `linktype` value equal to `fulltext`.\n",
    "\n",
    "```json\n",
    "    \"type\": \"url\",\n",
    "    \"linktype\": \"fulltext\",\n",
    "    \"value\": \"https://nla.gov.au/nla.obj-220905784\"\n",
    "```\n",
    "\n",
    "[![Try it!](https://troveconsole.herokuapp.com/static/img/try-trove-api-console.svg)](https://troveconsole.herokuapp.com/v3/?url=https%3A%2F%2Fapi.trove.nla.gov.au%2Fv3%2Fwork%2F245550803%3Fencoding%3Djson%26include%3Dworkversions%2Clinks%2Choldings&comment=)\n",
    "\n",
    "You can use this identifier to access additional metadata and download transcripts."
   ]
  },
  {
   "cell_type": "markdown",
   "id": "50672cee-8f72-4b9e-81a0-e16a3e993da1",
   "metadata": {
    "editable": true,
    "slideshow": {
     "slide_type": ""
    },
    "tags": []
   },
   "source": [
    "## Types of data\n",
    "\n",
    "There are three types of data from the NLA's digitised oral histories that you can download:\n",
    "\n",
    "- metadata (available from the Trove API and embedded within the audio player)\n",
    "- text files (timed summaries, full transcripts, or a combination of both)\n",
    "- audio files (available in three bitrates – 48, 128, 256kbps)\n",
    "\n",
    "A single oral history can be recorded across multiple sessions. There are separate audio files for each session, but summaries and transcripts are combined into a single text file."
   ]
  },
  {
   "cell_type": "markdown",
   "id": "d98b3ec1-8834-48a8-a709-4064416c0d29",
   "metadata": {
    "editable": true,
    "slideshow": {
     "slide_type": ""
    },
    "tags": []
   },
   "source": [
    "## Metadata\n",
    "\n",
    "````{margin}\n",
    "```{seealso}\n",
    "The method used to create this dataset is documented in the GLAM Workbench notebook [Harvest oral histories metadata](https://glam-workbench.net/trove-music/harvest-oral-histories/). As well as downloading data from the Trove API, it uses the methods described below to [scrape additional metadata from the audio player](additional-metadata-audio-player) and [obtain details of downloadable files](details-of-available-downloads).\n",
    "```\n",
    "````\n",
    "\n",
    "(oral-histories-downloadable-data)=\n",
    "### Downloadable dataset\n",
    "\n",
    "A [CSV file containing details of oral histories](https://glam-workbench.net/trove-music/trove-oral-histories/) from the NLA collection (both online and not online) harvested from Trove is available from the GLAM Workbench. You can also [explore the data](https://glam-workbench.net/datasette-lite/?csv=https://github.com/GLAM-Workbench/trove-oral-histories-data/blob/main/trove-oral-histories.csv#/data/trove-oral-histories) using Datasette.\n",
    "\n",
    "### Search results from the API\n",
    "\n",
    "As [described elsewhere](finding-oral-histories), you can find details of oral histories from the NLA collection that are available online by searching for `\"nla.obj\"` in the `music` category, with the `availability` facet set to `y`, and the `format` facet set to `Sound/Interview, lecture, talk`.\n",
    "\n",
    "[![Try it!](https://troveconsole.herokuapp.com/static/img/try-trove-api-console.svg)](https://troveconsole.herokuapp.com/v3/?url=https%3A%2F%2Fapi.trove.nla.gov.au%2Fv3%2Fresult%3Fq%3D%22nla.obj%22%26category%3Dmusic%26l-format%3DSound%2FInterview%2C+lecture%2C+talk%26l-availability%3Dy%26encoding%3Djson&comment=)\n",
    "\n",
    "Start with this search then add additional keywords or filters to limit the results according to your research needs. For example, you could use the `series` index to find results from the Hazel de Berg collection.\n",
    "\n",
    "[![Try it!](https://troveconsole.herokuapp.com/static/img/try-trove-api-console.svg)](https://troveconsole.herokuapp.com/v3/?url=https%3A%2F%2Fapi.trove.nla.gov.au%2Fv3%2Fresult%3Fq%3Dseries%3A%22Hazel+de+Berg+collection%22%26category%3Dmusic%26l-format%3DSound%2FInterview%2C+lecture%2C+talk%26l-availability%3Dy%26encoding%3Djson&comment=)\n",
    "\n",
    "A complete list of series values is available in [this text file](https://github.com/GLAM-Workbench/trove-oral-histories-data/blob/main/trove-oral-history-series.txt).\n",
    "\n",
    "As with other digitised resources there are some inconsistencies in the description and arrangement of oral histories in Trove. A few things I've noticed are:\n",
    "\n",
    "- Different recordings with the same person can be grouped as a single work, for example [this work](https://trove.nla.gov.au/work/38468518) combines recordings from 2010 and 2013.\n",
    "- Some records include links to collection pages, but all of these links seem to return 404 errors. For example, try clicking on the 'Browse other digitised items' links in [this work record](https://trove.nla.gov.au/work/19002018). I'm assuming that all the items within these collections have their own individual work records, so the missing pages can be ignored.\n",
    "- There are some duplicate records (same fulltext urls, slightly different metadata).\n",
    "\n",
    "To make sure you get all relevant results, I'd recommend harvesting all the version data from the work records and dealing with duplicates at the end. This strategy is described and documented in [](/other-digitised-resources/how-to/harvest-digitised-resources).\n",
    "\n",
    "(additional-metadata-audio-player)=\n",
    "### Additional metadata from audio player\n",
    "\n",
    "Trove's audio player displays some metadata that isn't included in the API records. This can include:\n",
    "\n",
    "- a descriptive note with the date and place of the recording\n",
    "- a note about the availability of transcripts\n",
    "- roles of the people involved – ie 'interviewer' and 'interviewee'\n",
    "\n",
    "```{figure} /images/audio-player-metadata.png\n",
    ":width: 200\n",
    ":name: audio-player-metadata\n",
    "\n",
    "Example of the metadata displayed in Trove's audio player\n",
    "```\n",
    "\n",
    "This information could be useful, and you might want to use it to enrich the records harvested from the API. Some example code that you can use to scrape this metadata using the digital object url of an oral history record is included in [](/other-digitised-resources/how-to/scrape-metadata-audio-player).\n",
    "\n",
    "(details-of-available-downloads)=\n",
    "### Details of available downloads\n",
    "\n",
    "When you click on the 'Download' button in the audio player, a window pops up with links to download the summary/transcript and any audio files. The contents of this pop-up are generated from a Javascript file. It's possible to access this Javascript file directly and extract details about available downloads.\n",
    "\n",
    "The Javascript file includes the following fields:\n",
    "\n",
    "- `anySummary` – indicates if a summary is available, set to either `true` or `false`\n",
    "- `anyTranscript` – indicates if a transcript is available, set to either `true` or `false`\n",
    "- `sessions` ­– a list of session details include timed summaries\n",
    "- `sessionFiles`– a list of audio files available from each session\n",
    "\n",
    "Here's an example of the file data, showing that the audio from each session is available for download at three different bitrates (indicated by the `data_rate` field):\n",
    "\n",
    "```json\n",
    "  \"sessionFiles\" : [ {\n",
    "    \"label\" : \"Session 1\",\n",
    "    \"files\" : [ {\n",
    "      \"use\" : \"derivative\",\n",
    "      \"size\" : 26825472,\n",
    "      \"mimetype\" : \"audio/mpeg\",\n",
    "      \"access\" : \"Unrestricted\",\n",
    "      \"href\" : \"https://nla.gov.au/tarkine/listen/download/nla.obj-219744824?copyRole=l1\",\n",
    "      \"downloadmpeg\" : \"https://nla.gov.au/tarkine/listen/download/nla.obj-219744824?copyRole=l1\",\n",
    "      \"streaming\" : \"rtmpt://mp3-streaming.nla.gov.au:80/audiodelivery/mp3:efde93481c560578b4a5ed2f1e0deeaa4a715cd2\",\n",
    "      \"analogdigitalflag\" : \"FileDigital\",\n",
    "      \"audio_data_encoding\" : null,\n",
    "      \"data_rate\" : \"48\",\n",
    "      \"sampling_frequency\" : \"0\",\n",
    "      \"duration\" : 4470\n",
    "    }, {\n",
    "      \"use\" : \"derivative\",\n",
    "      \"size\" : 71534976,\n",
    "      \"mimetype\" : \"audio/mpeg\",\n",
    "      \"access\" : \"Unrestricted\",\n",
    "      \"href\" : \"https://nla.gov.au/tarkine/listen/download/nla.obj-219744824?copyRole=l2\",\n",
    "      \"downloadmpeg\" : \"https://nla.gov.au/tarkine/listen/download/nla.obj-219744824?copyRole=l2\",\n",
    "      \"streaming\" : \"rtmpt://mp3-streaming.nla.gov.au:80/audiodelivery/mp3:e26aa37f785a1143853cb902a43bea79ef10f3cc\",\n",
    "      \"analogdigitalflag\" : \"FileDigital\",\n",
    "      \"audio_data_encoding\" : null,\n",
    "      \"data_rate\" : \"128\",\n",
    "      \"sampling_frequency\" : \"0\",\n",
    "      \"duration\" : 4470\n",
    "    }, {\n",
    "      \"use\" : \"derivative\",\n",
    "      \"size\" : 143069952,\n",
    "      \"mimetype\" : \"audio/mpeg\",\n",
    "      \"access\" : \"Unrestricted\",\n",
    "      \"href\" : \"https://nla.gov.au/tarkine/listen/download/nla.obj-219744824?copyRole=l3\",\n",
    "      \"downloadmpeg\" : \"https://nla.gov.au/tarkine/listen/download/nla.obj-219744824?copyRole=l3\",\n",
    "      \"streaming\" : \"rtmpt://mp3-streaming.nla.gov.au:80/audiodelivery/mp3:de322b949c6ca359d48e2f285deeda2b4fb708d8\",\n",
    "      \"analogdigitalflag\" : \"FileDigital\",\n",
    "      \"audio_data_encoding\" : null,\n",
    "      \"data_rate\" : \"256\",\n",
    "      \"sampling_frequency\" : \"0\",\n",
    "      \"duration\" : 4470\n",
    "    } ]\n",
    "  }\n",
    "```\n",
    "\n",
    "[View the complete Javascript file](https://nla.gov.au/tarkine/listen/transcript/nla.obj-219744819.js)\n",
    "\n",
    "Each session's audio file has it's own unique `nla.obj` identifier. You can find it in the urls of the `href` and `downloadmpeg` fields. In the example above, it's `nla.obj-219744824`. As described below, you can use these identifiers to automate the download of audio files from a list of oral history records.\n",
    "\n",
    "The urls of these Javascript files have the following pattern:\n",
    "\n",
    "`https://nla.gov.au/tarkine/listen/transcript/[NLA.OBJ ID].js`\n",
    "\n",
    "In this case, you use the `nla.obj` identifier of the oral history record, for example:\n",
    "\n",
    "<https://nla.gov.au/tarkine/listen/transcript/nla.obj-219744824.js>\n",
    "\n",
    "The actual data is wrapped in a Javascript function. You can extract it using a regular expression. For example, to download and extract the data for the oral history record with the identifier `nla.obj-222301677`, you can use:"
   ]
  },
  {
   "cell_type": "code",
   "execution_count": null,
   "id": "0731462b-3c68-494c-b683-c449c725376c",
   "metadata": {
    "editable": true,
    "slideshow": {
     "slide_type": ""
    },
    "tags": []
   },
   "outputs": [],
   "source": [
    "import json\n",
    "import re\n",
    "\n",
    "import requests\n",
    "\n",
    "# nla.obj of an oral history record\n",
    "id = \"nla.obj-222301677\"\n",
    "\n",
    "# Request the JS file\n",
    "response = requests.get(f\"https://nla.gov.au/tarkine/listen/transcript/{id}.js\")\n",
    "\n",
    "# Extract the JSON data from the JS function using regex\n",
    "data = re.search(r\"define\\((\\{.*)\\)\", response.text, re.DOTALL).group(1)\n",
    "\n",
    "# Load the JSON data\n",
    "json_data = json.loads(data)"
   ]
  },
  {
   "cell_type": "markdown",
   "id": "d0e7c192-afdc-4b82-bea5-ef380c020713",
   "metadata": {},
   "source": [
    "You can then extract some useful information from the data:"
   ]
  },
  {
   "cell_type": "code",
   "execution_count": 13,
   "id": "f7044b7e-d379-4367-be76-22dd4622de9e",
   "metadata": {},
   "outputs": [
    {
     "name": "stdout",
     "output_type": "stream",
     "text": [
      "Has summary: False\n",
      "Has transcript: True\n",
      "Sessions: 5\n",
      "\n",
      "https://nla.gov.au/tarkine/listen/download/nla.obj-222301689?copyRole=l1\n",
      "https://nla.gov.au/tarkine/listen/download/nla.obj-222301689?copyRole=l2\n",
      "https://nla.gov.au/tarkine/listen/download/nla.obj-222301689?copyRole=l3\n",
      "https://nla.gov.au/tarkine/listen/download/nla.obj-222302002?copyRole=l1\n",
      "https://nla.gov.au/tarkine/listen/download/nla.obj-222302002?copyRole=l2\n",
      "https://nla.gov.au/tarkine/listen/download/nla.obj-222302002?copyRole=l3\n",
      "https://nla.gov.au/tarkine/listen/download/nla.obj-222302323?copyRole=l1\n",
      "https://nla.gov.au/tarkine/listen/download/nla.obj-222302323?copyRole=l2\n",
      "https://nla.gov.au/tarkine/listen/download/nla.obj-222302323?copyRole=l3\n",
      "https://nla.gov.au/tarkine/listen/download/nla.obj-222302643?copyRole=l1\n",
      "https://nla.gov.au/tarkine/listen/download/nla.obj-222302643?copyRole=l2\n",
      "https://nla.gov.au/tarkine/listen/download/nla.obj-222302643?copyRole=l3\n",
      "https://nla.gov.au/tarkine/listen/download/nla.obj-222302969?copyRole=l1\n",
      "https://nla.gov.au/tarkine/listen/download/nla.obj-222302969?copyRole=l2\n",
      "https://nla.gov.au/tarkine/listen/download/nla.obj-222302969?copyRole=l3\n",
      "\n",
      "Total duration: 78024 seconds\n"
     ]
    }
   ],
   "source": [
    "# Does it have a summary?\n",
    "print(f\"Has summary: {json_data['anySummary']}\")\n",
    "\n",
    "# Does it have a transcript?\n",
    "print(f\"Has transcript: {json_data['anyTranscript']}\")\n",
    "\n",
    "# How many sessions are there?\n",
    "print(f\"Sessions: {len(json_data['sessions'])}\\n\")\n",
    "\n",
    "duration = 0\n",
    "\n",
    "# Loop all the files/bitrates\n",
    "for session in json_data[\"sessionFiles\"]:\n",
    "    for file in session[\"files\"]:\n",
    "        \n",
    "        # Get the download link\n",
    "        print(file[\"href\"])\n",
    "        \n",
    "        duration += file[\"duration\"]\n",
    "print(f\"\\nTotal duration: {duration} seconds\")"
   ]
  },
  {
   "cell_type": "markdown",
   "id": "c5b51a89-438b-4997-b063-84495bf4157a",
   "metadata": {
    "editable": true,
    "slideshow": {
     "slide_type": ""
    },
    "tags": []
   },
   "source": [
    "(oral-histories-transcripts)=\n",
    "## Transcripts and summaries\n",
    "\n",
    "````{margin}\n",
    "```{seealso}\n",
    "The GLAM Workbench notebook [Download summaries and transcripts from oral histories](https://glam-workbench.net/trove-music/download-transcripts/) demonstrates how you can automate the download of text transcripts.\n",
    "```\n",
    "````\n",
    "\n",
    "Each oral history record has a single text file combining summaries and transcripts for every session of the interview. The urls used to download this file have the pattern:\n",
    "\n",
    "`https://nla.gov.au/tarkine/listen/download/transcript/[NLA.OBJ ID]`\n",
    "\n",
    "In this case, you use the `nla.obj` identifier of the oral history record, for example:\n",
    "\n",
    "<https://nla.gov.au/tarkine/listen/download/transcript/nla.obj-219744824>\n",
    "\n",
    "The text files come in different formats depending on whether a summary, a transcript, or both, are available. Here are some examples:\n",
    "\n",
    "- [summary only (no transcript)](https://nla.gov.au/tarkine/listen/download/transcript/nla.obj-214947934)\n",
    "- [transcript only (no summary)](https://nla.gov.au/tarkine/listen/download/transcript/nla.obj-200337136)\n",
    "- [combined summary and transcript](https://nla.gov.au/tarkine/listen/download/transcript/nla.obj-217517250)"
   ]
  },
  {
   "cell_type": "markdown",
   "id": "e7fc5746-3d3c-45be-a076-022807ecd83d",
   "metadata": {
    "editable": true,
    "slideshow": {
     "slide_type": ""
    },
    "tags": []
   },
   "source": [
    "## Audio files\n",
    "\n",
    "Each audio file has it's own `nla.obj` identifier. Using this identifier, you can download the file at a variety of bitrates.\n",
    "\n",
    "The url pattern to use when downloading audio files is:\n",
    "\n",
    "`https://nla.gov.au/tarkine/listen/download/[NLA.OBJ ID]?copyRole=l[BITRATE LEVEL]`\n",
    "\n",
    "The bitrate level is a value between 1 and 3:\n",
    "\n",
    "- Level 1: 48kbps\n",
    "- Level 2: 128kbps\n",
    "- Level 3: 256kbps\n",
    "\n",
    "So to download the audio file with an identifier equal to `nla.obj-219744824` at a bitrate of 48kbps, you'd use this url:\n",
    "\n",
    "<https://nla.gov.au/tarkine/listen/download/nla.obj-219744824?copyRole=l1>\n",
    "\n",
    "To get the same file at a bitrate of 256kbps you just change the final `1` to `3`.\n",
    "\n",
    "If you don't have the audio file identifiers, you can [extract them from the Javascript file](details-of-available-downloads) that contains details of available downloads."
   ]
  },
  {
   "cell_type": "code",
   "execution_count": null,
   "id": "63083980-b7e2-4e1a-b883-058f45e81211",
   "metadata": {
    "editable": true,
    "slideshow": {
     "slide_type": ""
    },
    "tags": []
   },
   "outputs": [],
   "source": []
  }
 ],
 "metadata": {
  "kernelspec": {
   "display_name": "Python 3 (ipykernel)",
   "language": "python",
   "name": "python3"
  },
  "language_info": {
   "codemirror_mode": {
    "name": "ipython",
    "version": 3
   },
   "file_extension": ".py",
   "mimetype": "text/x-python",
   "name": "python",
   "nbconvert_exporter": "python",
   "pygments_lexer": "ipython3",
   "version": "3.10.12"
  }
 },
 "nbformat": 4,
 "nbformat_minor": 5
}
