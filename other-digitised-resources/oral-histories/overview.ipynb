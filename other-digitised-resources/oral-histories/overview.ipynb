{
 "cells": [
  {
   "cell_type": "markdown",
   "id": "1b0c3b63-c5be-4063-8f26-11eead974b98",
   "metadata": {
    "editable": true,
    "slideshow": {
     "slide_type": ""
    },
    "tags": []
   },
   "source": [
    "# Overview of oral histories\n",
    "\n",
    "````{card}\n",
    "On this page\n",
    "\n",
    "The National Library of Australia holds over [55,000 hours of oral history and folklore recordings](https://www.nla.gov.au/collections/what-we-collect/oral-history-and-folklore) dating back to the 1950s. This collection is being made available online, and many recordings can now be listened to using [Trove's audio player](https://trove.nla.gov.au/help/navigating/audio-player).\n",
    "\n",
    "```{contents}\n",
    ":local:\n",
    "```\n",
    "````\n",
    "\n",
    "(finding-oral-histories)=\n",
    "## Finding oral histories\n",
    "\n",
    "Items from the NLA's oral history collection can be found in Trove's **Music, Audio, & Video** category. If you're only interested in what's available online, the standard approach to finding digitised resources seems to work effectively – [search in **Music, Audio, & Video** category for `\"nla.obj\"`, with the `availability` facet set to `y`, and the `format` facet set to `Sound/Interview, lecture, talk`](https://trove.nla.gov.au/search/category/music?keyword=%22nla.obj%22&l-format=Sound%2FInterview,%20lecture,%20talk&l-availability=y).\n",
    "\n",
    "[![Try it!](https://troveconsole.herokuapp.com/static/img/try-trove-api-console.svg)](https://troveconsole.herokuapp.com/v3/?url=https%3A%2F%2Fapi.trove.nla.gov.au%2Fv3%2Fresult%3Fq%3D%22nla.obj%22%26category%3Dmusic%26l-format%3DSound%2FInterview%2C+lecture%2C+talk%26l-availability%3Dy%26encoding%3Djson&comment=)\n",
    "\n",
    "If you're also interested in oral histories that aren't yet online, you can use the `nuc` index instead of `\"nla.obj\"` to find all oral histories in the NLA collection – [search in the **Music, Audio, & Video** category for `nuc:ANL OR nuc:\"ANL:DL\"` with the `format` facet set to `Sound/Interview, lecture, talk`](https://trove.nla.gov.au/search/category/music?keyword=nuc%3AANL%20OR%20nuc%3A%22ANL%3ADL%22&l-format=Sound%2FInterview,%20lecture,%20talk).\n",
    "\n",
    "[![Try it!](https://troveconsole.herokuapp.com/static/img/try-trove-api-console.svg)](https://troveconsole.herokuapp.com/v3/?url=https%3A%2F%2Fapi.trove.nla.gov.au%2Fv3%2Fresult%3Fq%3Dnuc%3AANL+OR+nuc%3A%22ANL%3ADL%22%26category%3Dmusic%26l-format%3DSound%2FInterview%2C+lecture%2C+talk%26encoding%3Djson&comment=)\n",
    "\n",
    "This search will probably return some items that aren't from the NLA's own oral history collection. But the alternatives I've tried miss some oral histories, so I think it's better to be inclusive and weed the results as necessary.\n",
    "\n",
    "## Licensing of oral histories\n",
    "\n",
    "If you click through to a digitised copy of an oral history in Trove, you'll be presented with a licence agreement that you'll need to accept before using the recording. The agreement notes:\n",
    "\n",
    "> You are seeking access to an oral history recording. Oral history is by its nature spoken memory. It is a personal opinion and is not intended to present the final verified or complete narrative of events.\n",
    ">\n",
    "> The following end user licence agreement is intended to preserve both the rights of the interviewee as well as protecting the reputation of individuals and the Library. It describes the obligations of anyone who accesses the material in the collection. It is a requirement of use that you comply with these conditions.\n",
    "\n",
    "You can [download and view](https://nla.gov.au/tarkine/listen/NLA_OralHistory_EULA_June2012.pdf) the full licence agreement as a PDF.\n",
    "\n",
    "This section of the Trove Data Guide documents methods for accessing data relating to the oral histories which, by their nature, bypass the licence agreement screen. If you're intending to work with the oral histories, I'd strongly suggest you take time to read and consider the licence agreement before proceeding."
   ]
  },
  {
   "cell_type": "code",
   "execution_count": 27,
   "id": "d2213cf7-899f-417a-9fb7-3dbd0e6b9756",
   "metadata": {
    "editable": true,
    "slideshow": {
     "slide_type": ""
    },
    "tags": [
     "remove-cell"
    ]
   },
   "outputs": [],
   "source": [
    "from myst_nb import glue"
   ]
  },
  {
   "cell_type": "markdown",
   "id": "33bfebb0-f101-4952-9494-8a044f675ad5",
   "metadata": {
    "editable": true,
    "slideshow": {
     "slide_type": ""
    },
    "tags": []
   },
   "source": [
    "## How many oral histories are there?\n",
    "\n",
    "I've attempted to harvest details of all the NLA's oral histories described in Trove, both online and not online. I've saved the results as a CSV file in [this GitHub repository](https://github.com/GLAM-Workbench/trove-oral-histories-data). Using this data you can explore the shape of the collection."
   ]
  },
  {
   "cell_type": "code",
   "execution_count": 28,
   "id": "a311dd2b-d8bb-47db-8835-af3abfe429fb",
   "metadata": {
    "editable": true,
    "slideshow": {
     "slide_type": ""
    },
    "tags": [
     "hide-input"
    ]
   },
   "outputs": [
    {
     "data": {
      "text/html": [
       "<style type=\"text/css\">\n",
       "</style>\n",
       "<table id=\"T_6ab50\">\n",
       "  <thead>\n",
       "  </thead>\n",
       "  <tbody>\n",
       "    <tr>\n",
       "      <td id=\"T_6ab50_row0_col0\" class=\"data row0 col0\" >not online</td>\n",
       "      <td id=\"T_6ab50_row0_col1\" class=\"data row0 col1\" >13,805</td>\n",
       "    </tr>\n",
       "    <tr>\n",
       "      <td id=\"T_6ab50_row1_col0\" class=\"data row1 col0\" >online</td>\n",
       "      <td id=\"T_6ab50_row1_col1\" class=\"data row1 col1\" >6,160</td>\n",
       "    </tr>\n",
       "  </tbody>\n",
       "</table>\n"
      ],
      "text/plain": [
       "<pandas.io.formats.style.Styler at 0x7f2f76b39b50>"
      ]
     },
     "execution_count": 28,
     "metadata": {},
     "output_type": "execute_result"
    }
   ],
   "source": [
    "import pandas as pd\n",
    "import altair as alt\n",
    "import re\n",
    "\n",
    "df = pd.read_csv(\"https://raw.githubusercontent.com/GLAM-Workbench/trove-oral-histories-data/main/trove-oral-histories.csv\", keep_default_na=False)\n",
    "\n",
    "df[\"online_status\"] = df.apply(lambda x: \"online\" if x[\"fulltext_url\"] != \"\" else \"not online\", axis=1)\n",
    "df[\"online_status\"].value_counts().to_frame().reset_index().style.format(thousands=\",\").hide().hide(axis=1)"
   ]
  },
  {
   "cell_type": "markdown",
   "id": "57e8c3c8-454a-47df-9235-624cfaef8f31",
   "metadata": {
    "editable": true,
    "slideshow": {
     "slide_type": ""
    },
    "tags": []
   },
   "source": [
    "## How are the interviews distributed over time?\n",
    "\n",
    "The `date` field tells you when each interview was recorded."
   ]
  },
  {
   "cell_type": "code",
   "execution_count": 29,
   "id": "cd0f94ca-d713-4026-9c14-66309a98a93a",
   "metadata": {
    "editable": true,
    "slideshow": {
     "slide_type": ""
    },
    "tags": [
     "hide-input",
     "remove-output"
    ]
   },
   "outputs": [
    {
     "data": {
      "text/html": [
       "\n",
       "<style>\n",
       "  #altair-viz-3cf071e4e8f2485ea97b57f8f08daa78.vega-embed {\n",
       "    width: 100%;\n",
       "    display: flex;\n",
       "  }\n",
       "\n",
       "  #altair-viz-3cf071e4e8f2485ea97b57f8f08daa78.vega-embed details,\n",
       "  #altair-viz-3cf071e4e8f2485ea97b57f8f08daa78.vega-embed details summary {\n",
       "    position: relative;\n",
       "  }\n",
       "</style>\n",
       "<div id=\"altair-viz-3cf071e4e8f2485ea97b57f8f08daa78\"></div>\n",
       "<script type=\"text/javascript\">\n",
       "  var VEGA_DEBUG = (typeof VEGA_DEBUG == \"undefined\") ? {} : VEGA_DEBUG;\n",
       "  (function(spec, embedOpt){\n",
       "    let outputDiv = document.currentScript.previousElementSibling;\n",
       "    if (outputDiv.id !== \"altair-viz-3cf071e4e8f2485ea97b57f8f08daa78\") {\n",
       "      outputDiv = document.getElementById(\"altair-viz-3cf071e4e8f2485ea97b57f8f08daa78\");\n",
       "    }\n",
       "    const paths = {\n",
       "      \"vega\": \"https://cdn.jsdelivr.net/npm/vega@5?noext\",\n",
       "      \"vega-lib\": \"https://cdn.jsdelivr.net/npm/vega-lib?noext\",\n",
       "      \"vega-lite\": \"https://cdn.jsdelivr.net/npm/vega-lite@5.8.0?noext\",\n",
       "      \"vega-embed\": \"https://cdn.jsdelivr.net/npm/vega-embed@6?noext\",\n",
       "    };\n",
       "\n",
       "    function maybeLoadScript(lib, version) {\n",
       "      var key = `${lib.replace(\"-\", \"\")}_version`;\n",
       "      return (VEGA_DEBUG[key] == version) ?\n",
       "        Promise.resolve(paths[lib]) :\n",
       "        new Promise(function(resolve, reject) {\n",
       "          var s = document.createElement('script');\n",
       "          document.getElementsByTagName(\"head\")[0].appendChild(s);\n",
       "          s.async = true;\n",
       "          s.onload = () => {\n",
       "            VEGA_DEBUG[key] = version;\n",
       "            return resolve(paths[lib]);\n",
       "          };\n",
       "          s.onerror = () => reject(`Error loading script: ${paths[lib]}`);\n",
       "          s.src = paths[lib];\n",
       "        });\n",
       "    }\n",
       "\n",
       "    function showError(err) {\n",
       "      outputDiv.innerHTML = `<div class=\"error\" style=\"color:red;\">${err}</div>`;\n",
       "      throw err;\n",
       "    }\n",
       "\n",
       "    function displayChart(vegaEmbed) {\n",
       "      vegaEmbed(outputDiv, spec, embedOpt)\n",
       "        .catch(err => showError(`Javascript Error: ${err.message}<br>This usually means there's a typo in your chart specification. See the javascript console for the full traceback.`));\n",
       "    }\n",
       "\n",
       "    if(typeof define === \"function\" && define.amd) {\n",
       "      requirejs.config({paths});\n",
       "      require([\"vega-embed\"], displayChart, err => showError(`Error loading script: ${err.message}`));\n",
       "    } else {\n",
       "      maybeLoadScript(\"vega\", \"5\")\n",
       "        .then(() => maybeLoadScript(\"vega-lite\", \"5.8.0\"))\n",
       "        .then(() => maybeLoadScript(\"vega-embed\", \"6\"))\n",
       "        .catch(showError)\n",
       "        .then(() => displayChart(vegaEmbed));\n",
       "    }\n",
       "  })({\"config\": {\"view\": {\"continuousWidth\": 300, \"continuousHeight\": 300}}, \"data\": {\"name\": \"data-b0a7f3d528dc86ad8a9f45e6edc6d883\"}, \"mark\": {\"type\": \"bar\", \"size\": 4}, \"encoding\": {\"color\": {\"field\": \"online_status\", \"type\": \"nominal\"}, \"tooltip\": [{\"field\": \"online_status\", \"type\": \"nominal\"}, {\"field\": \"year\", \"format\": \"%Y\", \"type\": \"temporal\"}, {\"field\": \"count\", \"type\": \"quantitative\"}], \"x\": {\"field\": \"year\", \"type\": \"temporal\"}, \"y\": {\"field\": \"count\", \"type\": \"quantitative\"}}, \"width\": 600, \"$schema\": \"https://vega.github.io/schema/vega-lite/v5.8.0.json\", \"datasets\": {\"data-b0a7f3d528dc86ad8a9f45e6edc6d883\": [{\"year\": \"1982\", \"online_status\": \"not online\", \"count\": 599}, {\"year\": \"1986\", \"online_status\": \"not online\", \"count\": 542}, {\"year\": \"1985\", \"online_status\": \"not online\", \"count\": 479}, {\"year\": \"2008\", \"online_status\": \"not online\", \"count\": 413}, {\"year\": \"1980\", \"online_status\": \"not online\", \"count\": 397}, {\"year\": \"1983\", \"online_status\": \"not online\", \"count\": 349}, {\"year\": \"1995\", \"online_status\": \"not online\", \"count\": 344}, {\"year\": \"2000\", \"online_status\": \"not online\", \"count\": 332}, {\"year\": \"1975\", \"online_status\": \"not online\", \"count\": 315}, {\"year\": \"1993\", \"online_status\": \"not online\", \"count\": 284}, {\"year\": \"2013\", \"online_status\": \"not online\", \"count\": 284}, {\"year\": \"1987\", \"online_status\": \"not online\", \"count\": 282}, {\"year\": \"1994\", \"online_status\": \"not online\", \"count\": 274}, {\"year\": \"1987\", \"online_status\": \"online\", \"count\": 267}, {\"year\": \"1981\", \"online_status\": \"not online\", \"count\": 263}, {\"year\": \"1998\", \"online_status\": \"not online\", \"count\": 263}, {\"year\": \"2001\", \"online_status\": \"not online\", \"count\": 257}, {\"year\": \"2012\", \"online_status\": \"not online\", \"count\": 256}, {\"year\": \"1992\", \"online_status\": \"not online\", \"count\": 252}, {\"year\": \"1977\", \"online_status\": \"not online\", \"count\": 252}, {\"year\": \"2007\", \"online_status\": \"not online\", \"count\": 246}, {\"year\": \"2004\", \"online_status\": \"not online\", \"count\": 243}, {\"year\": \"2019\", \"online_status\": \"not online\", \"count\": 243}, {\"year\": \"2005\", \"online_status\": \"not online\", \"count\": 241}, {\"year\": \"2006\", \"online_status\": \"not online\", \"count\": 238}, {\"year\": \"1990\", \"online_status\": \"not online\", \"count\": 237}, {\"year\": \"1976\", \"online_status\": \"not online\", \"count\": 232}, {\"year\": \"1989\", \"online_status\": \"not online\", \"count\": 230}, {\"year\": \"2009\", \"online_status\": \"not online\", \"count\": 225}, {\"year\": \"1991\", \"online_status\": \"not online\", \"count\": 225}, {\"year\": \"2011\", \"online_status\": \"online\", \"count\": 225}, {\"year\": \"1984\", \"online_status\": \"not online\", \"count\": 224}, {\"year\": \"1999\", \"online_status\": \"not online\", \"count\": 217}, {\"year\": \"2014\", \"online_status\": \"not online\", \"count\": 210}, {\"year\": \"2011\", \"online_status\": \"not online\", \"count\": 206}, {\"year\": \"2015\", \"online_status\": \"not online\", \"count\": 205}, {\"year\": \"1974\", \"online_status\": \"not online\", \"count\": 202}, {\"year\": \"1978\", \"online_status\": \"not online\", \"count\": 197}, {\"year\": \"2003\", \"online_status\": \"not online\", \"count\": 192}, {\"year\": \"1979\", \"online_status\": \"not online\", \"count\": 191}, {\"year\": \"2012\", \"online_status\": \"online\", \"count\": 191}, {\"year\": \"1988\", \"online_status\": \"not online\", \"count\": 189}, {\"year\": \"1995\", \"online_status\": \"online\", \"count\": 185}, {\"year\": \"1997\", \"online_status\": \"not online\", \"count\": 185}, {\"year\": \"1996\", \"online_status\": \"not online\", \"count\": 183}, {\"year\": \"1970\", \"online_status\": \"not online\", \"count\": 179}, {\"year\": \"2022\", \"online_status\": \"not online\", \"count\": 172}, {\"year\": \"1973\", \"online_status\": \"not online\", \"count\": 168}, {\"year\": \"2010\", \"online_status\": \"not online\", \"count\": 165}, {\"year\": \"2018\", \"online_status\": \"not online\", \"count\": 163}, {\"year\": \"1989\", \"online_status\": \"online\", \"count\": 152}, {\"year\": \"2010\", \"online_status\": \"online\", \"count\": 150}, {\"year\": \"1994\", \"online_status\": \"online\", \"count\": 149}, {\"year\": \"2014\", \"online_status\": \"online\", \"count\": 147}, {\"year\": \"1993\", \"online_status\": \"online\", \"count\": 142}, {\"year\": \"1982\", \"online_status\": \"online\", \"count\": 139}, {\"year\": \"2013\", \"online_status\": \"online\", \"count\": 139}, {\"year\": \"1980\", \"online_status\": \"online\", \"count\": 138}, {\"year\": \"2021\", \"online_status\": \"not online\", \"count\": 135}, {\"year\": \"1984\", \"online_status\": \"online\", \"count\": 134}, {\"year\": \"2000\", \"online_status\": \"online\", \"count\": 128}, {\"year\": \"1992\", \"online_status\": \"online\", \"count\": 128}, {\"year\": \"1983\", \"online_status\": \"online\", \"count\": 128}, {\"year\": \"1981\", \"online_status\": \"online\", \"count\": 126}, {\"year\": \"2002\", \"online_status\": \"not online\", \"count\": 126}, {\"year\": \"1971\", \"online_status\": \"not online\", \"count\": 124}, {\"year\": \"1986\", \"online_status\": \"online\", \"count\": 123}, {\"year\": \"2001\", \"online_status\": \"online\", \"count\": 122}, {\"year\": \"1965\", \"online_status\": \"online\", \"count\": 122}, {\"year\": \"1973\", \"online_status\": \"online\", \"count\": 122}, {\"year\": \"1972\", \"online_status\": \"not online\", \"count\": 120}, {\"year\": \"1985\", \"online_status\": \"online\", \"count\": 118}, {\"year\": \"1976\", \"online_status\": \"online\", \"count\": 114}, {\"year\": \"2017\", \"online_status\": \"online\", \"count\": 110}, {\"year\": \"2015\", \"online_status\": \"online\", \"count\": 108}, {\"year\": \"1969\", \"online_status\": \"not online\", \"count\": 107}, {\"year\": \"1975\", \"online_status\": \"online\", \"count\": 105}, {\"year\": \"1988\", \"online_status\": \"online\", \"count\": 104}, {\"year\": \"2017\", \"online_status\": \"not online\", \"count\": 101}, {\"year\": \"1990\", \"online_status\": \"online\", \"count\": 100}, {\"year\": \"1960\", \"online_status\": \"not online\", \"count\": 100}, {\"year\": \"1972\", \"online_status\": \"online\", \"count\": 100}, {\"year\": \"1991\", \"online_status\": \"online\", \"count\": 98}, {\"year\": \"1965\", \"online_status\": \"not online\", \"count\": 93}, {\"year\": \"2016\", \"online_status\": \"online\", \"count\": 90}, {\"year\": \"1967\", \"online_status\": \"not online\", \"count\": 90}, {\"year\": \"2020\", \"online_status\": \"not online\", \"count\": 87}, {\"year\": \"2006\", \"online_status\": \"online\", \"count\": 87}, {\"year\": \"1974\", \"online_status\": \"online\", \"count\": 86}, {\"year\": \"1966\", \"online_status\": \"not online\", \"count\": 82}, {\"year\": \"1979\", \"online_status\": \"online\", \"count\": 78}, {\"year\": \"1962\", \"online_status\": \"online\", \"count\": 77}, {\"year\": \"2008\", \"online_status\": \"online\", \"count\": 76}, {\"year\": \"1971\", \"online_status\": \"online\", \"count\": 76}, {\"year\": \"1959\", \"online_status\": \"not online\", \"count\": 74}, {\"year\": \"2018\", \"online_status\": \"online\", \"count\": 73}, {\"year\": \"2022\", \"online_status\": \"online\", \"count\": 73}, {\"year\": \"1961\", \"online_status\": \"online\", \"count\": 72}, {\"year\": \"1996\", \"online_status\": \"online\", \"count\": 72}, {\"year\": \"1977\", \"online_status\": \"online\", \"count\": 71}, {\"year\": \"2005\", \"online_status\": \"online\", \"count\": 69}, {\"year\": \"2009\", \"online_status\": \"online\", \"count\": 67}, {\"year\": \"2016\", \"online_status\": \"not online\", \"count\": 66}, {\"year\": \"1968\", \"online_status\": \"not online\", \"count\": 65}, {\"year\": \"1978\", \"online_status\": \"online\", \"count\": 65}, {\"year\": \"1962\", \"online_status\": \"not online\", \"count\": 64}, {\"year\": \"1964\", \"online_status\": \"online\", \"count\": 64}, {\"year\": \"1999\", \"online_status\": \"online\", \"count\": 61}, {\"year\": \"1969\", \"online_status\": \"online\", \"count\": 58}, {\"year\": \"1960\", \"online_status\": \"online\", \"count\": 57}, {\"year\": \"1963\", \"online_status\": \"online\", \"count\": 56}, {\"year\": \"2019\", \"online_status\": \"online\", \"count\": 56}, {\"year\": \"1970\", \"online_status\": \"online\", \"count\": 53}, {\"year\": \"2007\", \"online_status\": \"online\", \"count\": 49}, {\"year\": \"1967\", \"online_status\": \"online\", \"count\": 47}, {\"year\": \"1998\", \"online_status\": \"online\", \"count\": 43}, {\"year\": \"2003\", \"online_status\": \"online\", \"count\": 40}, {\"year\": \"2002\", \"online_status\": \"online\", \"count\": 40}, {\"year\": \"1963\", \"online_status\": \"not online\", \"count\": 39}, {\"year\": \"2004\", \"online_status\": \"online\", \"count\": 39}, {\"year\": \"1964\", \"online_status\": \"not online\", \"count\": 36}, {\"year\": \"1961\", \"online_status\": \"not online\", \"count\": 35}, {\"year\": \"2023\", \"online_status\": \"not online\", \"count\": 31}, {\"year\": \"1958\", \"online_status\": \"not online\", \"count\": 31}, {\"year\": \"1968\", \"online_status\": \"online\", \"count\": 28}, {\"year\": \"1959\", \"online_status\": \"online\", \"count\": 28}, {\"year\": \"1997\", \"online_status\": \"online\", \"count\": 25}, {\"year\": \"2021\", \"online_status\": \"online\", \"count\": 25}, {\"year\": \"1966\", \"online_status\": \"online\", \"count\": 25}, {\"year\": \"1958\", \"online_status\": \"online\", \"count\": 24}, {\"year\": \"1950\", \"online_status\": \"not online\", \"count\": 21}, {\"year\": \"1956\", \"online_status\": \"online\", \"count\": 15}, {\"year\": \"1957\", \"online_status\": \"not online\", \"count\": 14}, {\"year\": \"1949\", \"online_status\": \"online\", \"count\": 13}, {\"year\": \"2020\", \"online_status\": \"online\", \"count\": 12}, {\"year\": \"1957\", \"online_status\": \"online\", \"count\": 12}, {\"year\": \"1954\", \"online_status\": \"online\", \"count\": 10}, {\"year\": \"1955\", \"online_status\": \"not online\", \"count\": 10}, {\"year\": \"2023\", \"online_status\": \"online\", \"count\": 7}, {\"year\": \"1955\", \"online_status\": \"online\", \"count\": 6}, {\"year\": \"1939\", \"online_status\": \"not online\", \"count\": 6}, {\"year\": \"1953\", \"online_status\": \"online\", \"count\": 6}, {\"year\": \"1956\", \"online_status\": \"not online\", \"count\": 6}, {\"year\": \"1952\", \"online_status\": \"online\", \"count\": 5}, {\"year\": \"1941\", \"online_status\": \"not online\", \"count\": 5}, {\"year\": \"1953\", \"online_status\": \"not online\", \"count\": 3}, {\"year\": \"1952\", \"online_status\": \"not online\", \"count\": 3}, {\"year\": \"1951\", \"online_status\": \"not online\", \"count\": 3}, {\"year\": \"1943\", \"online_status\": \"not online\", \"count\": 2}, {\"year\": \"1946\", \"online_status\": \"not online\", \"count\": 2}, {\"year\": \"1940\", \"online_status\": \"not online\", \"count\": 2}, {\"year\": \"1913\", \"online_status\": \"not online\", \"count\": 2}, {\"year\": \"1949\", \"online_status\": \"not online\", \"count\": 2}, {\"year\": \"1950\", \"online_status\": \"online\", \"count\": 2}, {\"year\": \"1951\", \"online_status\": \"online\", \"count\": 2}, {\"year\": \"1954\", \"online_status\": \"not online\", \"count\": 2}, {\"year\": \"1936\", \"online_status\": \"not online\", \"count\": 2}, {\"year\": \"1926\", \"online_status\": \"not online\", \"count\": 1}, {\"year\": \"1934\", \"online_status\": \"not online\", \"count\": 1}, {\"year\": \"1928\", \"online_status\": \"not online\", \"count\": 1}, {\"year\": \"1929\", \"online_status\": \"not online\", \"count\": 1}, {\"year\": \"1930\", \"online_status\": \"not online\", \"count\": 1}, {\"year\": \"1933\", \"online_status\": \"online\", \"count\": 1}, {\"year\": \"1903\", \"online_status\": \"not online\", \"count\": 1}, {\"year\": \"1937\", \"online_status\": \"not online\", \"count\": 1}, {\"year\": \"1938\", \"online_status\": \"not online\", \"count\": 1}, {\"year\": \"1942\", \"online_status\": \"not online\", \"count\": 1}, {\"year\": \"1945\", \"online_status\": \"not online\", \"count\": 1}, {\"year\": \"1947\", \"online_status\": \"not online\", \"count\": 1}, {\"year\": \"1948\", \"online_status\": \"not online\", \"count\": 1}, {\"year\": \"1900\", \"online_status\": \"online\", \"count\": 1}]}}, {\"mode\": \"vega-lite\"});\n",
       "</script>"
      ],
      "text/plain": [
       "alt.Chart(...)"
      ]
     },
     "execution_count": 29,
     "metadata": {},
     "output_type": "execute_result"
    }
   ],
   "source": [
    "df[\"year\"] = df[\"date\"].str.extract(r\"\\b((?:19|20)\\d{2})\\b\")\n",
    "years = df.value_counts([\"year\", \"online_status\"]).to_frame().reset_index()\n",
    "\n",
    "chart_online_years = alt.Chart(years).mark_bar(size=4).encode(\n",
    "    x=\"year:T\",\n",
    "    y=alt.Y(\"count:Q\"),\n",
    "    color=\"online_status\",\n",
    "    tooltip=[\"online_status\", alt.Tooltip(\"year:T\", format=\"%Y\"), \"count\"]\n",
    ").properties(width=600)\n",
    "\n",
    "chart_online_years"
   ]
  },
  {
   "cell_type": "code",
   "execution_count": 30,
   "id": "85f070d7-d902-4172-a77c-81df71d7c017",
   "metadata": {
    "editable": true,
    "slideshow": {
     "slide_type": ""
    },
    "tags": [
     "remove-cell"
    ]
   },
   "outputs": [
    {
     "data": {
      "application/papermill.record/text/html": "\n<style>\n  #altair-viz-0fe27e3f87664b7f9283cf972b3a086a.vega-embed {\n    width: 100%;\n    display: flex;\n  }\n\n  #altair-viz-0fe27e3f87664b7f9283cf972b3a086a.vega-embed details,\n  #altair-viz-0fe27e3f87664b7f9283cf972b3a086a.vega-embed details summary {\n    position: relative;\n  }\n</style>\n<div id=\"altair-viz-0fe27e3f87664b7f9283cf972b3a086a\"></div>\n<script type=\"text/javascript\">\n  var VEGA_DEBUG = (typeof VEGA_DEBUG == \"undefined\") ? {} : VEGA_DEBUG;\n  (function(spec, embedOpt){\n    let outputDiv = document.currentScript.previousElementSibling;\n    if (outputDiv.id !== \"altair-viz-0fe27e3f87664b7f9283cf972b3a086a\") {\n      outputDiv = document.getElementById(\"altair-viz-0fe27e3f87664b7f9283cf972b3a086a\");\n    }\n    const paths = {\n      \"vega\": \"https://cdn.jsdelivr.net/npm/vega@5?noext\",\n      \"vega-lib\": \"https://cdn.jsdelivr.net/npm/vega-lib?noext\",\n      \"vega-lite\": \"https://cdn.jsdelivr.net/npm/vega-lite@5.8.0?noext\",\n      \"vega-embed\": \"https://cdn.jsdelivr.net/npm/vega-embed@6?noext\",\n    };\n\n    function maybeLoadScript(lib, version) {\n      var key = `${lib.replace(\"-\", \"\")}_version`;\n      return (VEGA_DEBUG[key] == version) ?\n        Promise.resolve(paths[lib]) :\n        new Promise(function(resolve, reject) {\n          var s = document.createElement('script');\n          document.getElementsByTagName(\"head\")[0].appendChild(s);\n          s.async = true;\n          s.onload = () => {\n            VEGA_DEBUG[key] = version;\n            return resolve(paths[lib]);\n          };\n          s.onerror = () => reject(`Error loading script: ${paths[lib]}`);\n          s.src = paths[lib];\n        });\n    }\n\n    function showError(err) {\n      outputDiv.innerHTML = `<div class=\"error\" style=\"color:red;\">${err}</div>`;\n      throw err;\n    }\n\n    function displayChart(vegaEmbed) {\n      vegaEmbed(outputDiv, spec, embedOpt)\n        .catch(err => showError(`Javascript Error: ${err.message}<br>This usually means there's a typo in your chart specification. See the javascript console for the full traceback.`));\n    }\n\n    if(typeof define === \"function\" && define.amd) {\n      requirejs.config({paths});\n      require([\"vega-embed\"], displayChart, err => showError(`Error loading script: ${err.message}`));\n    } else {\n      maybeLoadScript(\"vega\", \"5\")\n        .then(() => maybeLoadScript(\"vega-lite\", \"5.8.0\"))\n        .then(() => maybeLoadScript(\"vega-embed\", \"6\"))\n        .catch(showError)\n        .then(() => displayChart(vegaEmbed));\n    }\n  })({\"config\": {\"view\": {\"continuousWidth\": 300, \"continuousHeight\": 300}}, \"data\": {\"name\": \"data-b0a7f3d528dc86ad8a9f45e6edc6d883\"}, \"mark\": {\"type\": \"bar\", \"size\": 4}, \"encoding\": {\"color\": {\"field\": \"online_status\", \"type\": \"nominal\"}, \"tooltip\": [{\"field\": \"online_status\", \"type\": \"nominal\"}, {\"field\": \"year\", \"format\": \"%Y\", \"type\": \"temporal\"}, {\"field\": \"count\", \"type\": \"quantitative\"}], \"x\": {\"field\": \"year\", \"type\": \"temporal\"}, \"y\": {\"field\": \"count\", \"type\": \"quantitative\"}}, \"width\": 600, \"$schema\": \"https://vega.github.io/schema/vega-lite/v5.8.0.json\", \"datasets\": {\"data-b0a7f3d528dc86ad8a9f45e6edc6d883\": [{\"year\": \"1982\", \"online_status\": \"not online\", \"count\": 599}, {\"year\": \"1986\", \"online_status\": \"not online\", \"count\": 542}, {\"year\": \"1985\", \"online_status\": \"not online\", \"count\": 479}, {\"year\": \"2008\", \"online_status\": \"not online\", \"count\": 413}, {\"year\": \"1980\", \"online_status\": \"not online\", \"count\": 397}, {\"year\": \"1983\", \"online_status\": \"not online\", \"count\": 349}, {\"year\": \"1995\", \"online_status\": \"not online\", \"count\": 344}, {\"year\": \"2000\", \"online_status\": \"not online\", \"count\": 332}, {\"year\": \"1975\", \"online_status\": \"not online\", \"count\": 315}, {\"year\": \"1993\", \"online_status\": \"not online\", \"count\": 284}, {\"year\": \"2013\", \"online_status\": \"not online\", \"count\": 284}, {\"year\": \"1987\", \"online_status\": \"not online\", \"count\": 282}, {\"year\": \"1994\", \"online_status\": \"not online\", \"count\": 274}, {\"year\": \"1987\", \"online_status\": \"online\", \"count\": 267}, {\"year\": \"1981\", \"online_status\": \"not online\", \"count\": 263}, {\"year\": \"1998\", \"online_status\": \"not online\", \"count\": 263}, {\"year\": \"2001\", \"online_status\": \"not online\", \"count\": 257}, {\"year\": \"2012\", \"online_status\": \"not online\", \"count\": 256}, {\"year\": \"1992\", \"online_status\": \"not online\", \"count\": 252}, {\"year\": \"1977\", \"online_status\": \"not online\", \"count\": 252}, {\"year\": \"2007\", \"online_status\": \"not online\", \"count\": 246}, {\"year\": \"2004\", \"online_status\": \"not online\", \"count\": 243}, {\"year\": \"2019\", \"online_status\": \"not online\", \"count\": 243}, {\"year\": \"2005\", \"online_status\": \"not online\", \"count\": 241}, {\"year\": \"2006\", \"online_status\": \"not online\", \"count\": 238}, {\"year\": \"1990\", \"online_status\": \"not online\", \"count\": 237}, {\"year\": \"1976\", \"online_status\": \"not online\", \"count\": 232}, {\"year\": \"1989\", \"online_status\": \"not online\", \"count\": 230}, {\"year\": \"2009\", \"online_status\": \"not online\", \"count\": 225}, {\"year\": \"1991\", \"online_status\": \"not online\", \"count\": 225}, {\"year\": \"2011\", \"online_status\": \"online\", \"count\": 225}, {\"year\": \"1984\", \"online_status\": \"not online\", \"count\": 224}, {\"year\": \"1999\", \"online_status\": \"not online\", \"count\": 217}, {\"year\": \"2014\", \"online_status\": \"not online\", \"count\": 210}, {\"year\": \"2011\", \"online_status\": \"not online\", \"count\": 206}, {\"year\": \"2015\", \"online_status\": \"not online\", \"count\": 205}, {\"year\": \"1974\", \"online_status\": \"not online\", \"count\": 202}, {\"year\": \"1978\", \"online_status\": \"not online\", \"count\": 197}, {\"year\": \"2003\", \"online_status\": \"not online\", \"count\": 192}, {\"year\": \"1979\", \"online_status\": \"not online\", \"count\": 191}, {\"year\": \"2012\", \"online_status\": \"online\", \"count\": 191}, {\"year\": \"1988\", \"online_status\": \"not online\", \"count\": 189}, {\"year\": \"1995\", \"online_status\": \"online\", \"count\": 185}, {\"year\": \"1997\", \"online_status\": \"not online\", \"count\": 185}, {\"year\": \"1996\", \"online_status\": \"not online\", \"count\": 183}, {\"year\": \"1970\", \"online_status\": \"not online\", \"count\": 179}, {\"year\": \"2022\", \"online_status\": \"not online\", \"count\": 172}, {\"year\": \"1973\", \"online_status\": \"not online\", \"count\": 168}, {\"year\": \"2010\", \"online_status\": \"not online\", \"count\": 165}, {\"year\": \"2018\", \"online_status\": \"not online\", \"count\": 163}, {\"year\": \"1989\", \"online_status\": \"online\", \"count\": 152}, {\"year\": \"2010\", \"online_status\": \"online\", \"count\": 150}, {\"year\": \"1994\", \"online_status\": \"online\", \"count\": 149}, {\"year\": \"2014\", \"online_status\": \"online\", \"count\": 147}, {\"year\": \"1993\", \"online_status\": \"online\", \"count\": 142}, {\"year\": \"1982\", \"online_status\": \"online\", \"count\": 139}, {\"year\": \"2013\", \"online_status\": \"online\", \"count\": 139}, {\"year\": \"1980\", \"online_status\": \"online\", \"count\": 138}, {\"year\": \"2021\", \"online_status\": \"not online\", \"count\": 135}, {\"year\": \"1984\", \"online_status\": \"online\", \"count\": 134}, {\"year\": \"2000\", \"online_status\": \"online\", \"count\": 128}, {\"year\": \"1992\", \"online_status\": \"online\", \"count\": 128}, {\"year\": \"1983\", \"online_status\": \"online\", \"count\": 128}, {\"year\": \"1981\", \"online_status\": \"online\", \"count\": 126}, {\"year\": \"2002\", \"online_status\": \"not online\", \"count\": 126}, {\"year\": \"1971\", \"online_status\": \"not online\", \"count\": 124}, {\"year\": \"1986\", \"online_status\": \"online\", \"count\": 123}, {\"year\": \"2001\", \"online_status\": \"online\", \"count\": 122}, {\"year\": \"1965\", \"online_status\": \"online\", \"count\": 122}, {\"year\": \"1973\", \"online_status\": \"online\", \"count\": 122}, {\"year\": \"1972\", \"online_status\": \"not online\", \"count\": 120}, {\"year\": \"1985\", \"online_status\": \"online\", \"count\": 118}, {\"year\": \"1976\", \"online_status\": \"online\", \"count\": 114}, {\"year\": \"2017\", \"online_status\": \"online\", \"count\": 110}, {\"year\": \"2015\", \"online_status\": \"online\", \"count\": 108}, {\"year\": \"1969\", \"online_status\": \"not online\", \"count\": 107}, {\"year\": \"1975\", \"online_status\": \"online\", \"count\": 105}, {\"year\": \"1988\", \"online_status\": \"online\", \"count\": 104}, {\"year\": \"2017\", \"online_status\": \"not online\", \"count\": 101}, {\"year\": \"1990\", \"online_status\": \"online\", \"count\": 100}, {\"year\": \"1960\", \"online_status\": \"not online\", \"count\": 100}, {\"year\": \"1972\", \"online_status\": \"online\", \"count\": 100}, {\"year\": \"1991\", \"online_status\": \"online\", \"count\": 98}, {\"year\": \"1965\", \"online_status\": \"not online\", \"count\": 93}, {\"year\": \"2016\", \"online_status\": \"online\", \"count\": 90}, {\"year\": \"1967\", \"online_status\": \"not online\", \"count\": 90}, {\"year\": \"2020\", \"online_status\": \"not online\", \"count\": 87}, {\"year\": \"2006\", \"online_status\": \"online\", \"count\": 87}, {\"year\": \"1974\", \"online_status\": \"online\", \"count\": 86}, {\"year\": \"1966\", \"online_status\": \"not online\", \"count\": 82}, {\"year\": \"1979\", \"online_status\": \"online\", \"count\": 78}, {\"year\": \"1962\", \"online_status\": \"online\", \"count\": 77}, {\"year\": \"2008\", \"online_status\": \"online\", \"count\": 76}, {\"year\": \"1971\", \"online_status\": \"online\", \"count\": 76}, {\"year\": \"1959\", \"online_status\": \"not online\", \"count\": 74}, {\"year\": \"2018\", \"online_status\": \"online\", \"count\": 73}, {\"year\": \"2022\", \"online_status\": \"online\", \"count\": 73}, {\"year\": \"1961\", \"online_status\": \"online\", \"count\": 72}, {\"year\": \"1996\", \"online_status\": \"online\", \"count\": 72}, {\"year\": \"1977\", \"online_status\": \"online\", \"count\": 71}, {\"year\": \"2005\", \"online_status\": \"online\", \"count\": 69}, {\"year\": \"2009\", \"online_status\": \"online\", \"count\": 67}, {\"year\": \"2016\", \"online_status\": \"not online\", \"count\": 66}, {\"year\": \"1968\", \"online_status\": \"not online\", \"count\": 65}, {\"year\": \"1978\", \"online_status\": \"online\", \"count\": 65}, {\"year\": \"1962\", \"online_status\": \"not online\", \"count\": 64}, {\"year\": \"1964\", \"online_status\": \"online\", \"count\": 64}, {\"year\": \"1999\", \"online_status\": \"online\", \"count\": 61}, {\"year\": \"1969\", \"online_status\": \"online\", \"count\": 58}, {\"year\": \"1960\", \"online_status\": \"online\", \"count\": 57}, {\"year\": \"1963\", \"online_status\": \"online\", \"count\": 56}, {\"year\": \"2019\", \"online_status\": \"online\", \"count\": 56}, {\"year\": \"1970\", \"online_status\": \"online\", \"count\": 53}, {\"year\": \"2007\", \"online_status\": \"online\", \"count\": 49}, {\"year\": \"1967\", \"online_status\": \"online\", \"count\": 47}, {\"year\": \"1998\", \"online_status\": \"online\", \"count\": 43}, {\"year\": \"2003\", \"online_status\": \"online\", \"count\": 40}, {\"year\": \"2002\", \"online_status\": \"online\", \"count\": 40}, {\"year\": \"1963\", \"online_status\": \"not online\", \"count\": 39}, {\"year\": \"2004\", \"online_status\": \"online\", \"count\": 39}, {\"year\": \"1964\", \"online_status\": \"not online\", \"count\": 36}, {\"year\": \"1961\", \"online_status\": \"not online\", \"count\": 35}, {\"year\": \"2023\", \"online_status\": \"not online\", \"count\": 31}, {\"year\": \"1958\", \"online_status\": \"not online\", \"count\": 31}, {\"year\": \"1968\", \"online_status\": \"online\", \"count\": 28}, {\"year\": \"1959\", \"online_status\": \"online\", \"count\": 28}, {\"year\": \"1997\", \"online_status\": \"online\", \"count\": 25}, {\"year\": \"2021\", \"online_status\": \"online\", \"count\": 25}, {\"year\": \"1966\", \"online_status\": \"online\", \"count\": 25}, {\"year\": \"1958\", \"online_status\": \"online\", \"count\": 24}, {\"year\": \"1950\", \"online_status\": \"not online\", \"count\": 21}, {\"year\": \"1956\", \"online_status\": \"online\", \"count\": 15}, {\"year\": \"1957\", \"online_status\": \"not online\", \"count\": 14}, {\"year\": \"1949\", \"online_status\": \"online\", \"count\": 13}, {\"year\": \"2020\", \"online_status\": \"online\", \"count\": 12}, {\"year\": \"1957\", \"online_status\": \"online\", \"count\": 12}, {\"year\": \"1954\", \"online_status\": \"online\", \"count\": 10}, {\"year\": \"1955\", \"online_status\": \"not online\", \"count\": 10}, {\"year\": \"2023\", \"online_status\": \"online\", \"count\": 7}, {\"year\": \"1955\", \"online_status\": \"online\", \"count\": 6}, {\"year\": \"1939\", \"online_status\": \"not online\", \"count\": 6}, {\"year\": \"1953\", \"online_status\": \"online\", \"count\": 6}, {\"year\": \"1956\", \"online_status\": \"not online\", \"count\": 6}, {\"year\": \"1952\", \"online_status\": \"online\", \"count\": 5}, {\"year\": \"1941\", \"online_status\": \"not online\", \"count\": 5}, {\"year\": \"1953\", \"online_status\": \"not online\", \"count\": 3}, {\"year\": \"1952\", \"online_status\": \"not online\", \"count\": 3}, {\"year\": \"1951\", \"online_status\": \"not online\", \"count\": 3}, {\"year\": \"1943\", \"online_status\": \"not online\", \"count\": 2}, {\"year\": \"1946\", \"online_status\": \"not online\", \"count\": 2}, {\"year\": \"1940\", \"online_status\": \"not online\", \"count\": 2}, {\"year\": \"1913\", \"online_status\": \"not online\", \"count\": 2}, {\"year\": \"1949\", \"online_status\": \"not online\", \"count\": 2}, {\"year\": \"1950\", \"online_status\": \"online\", \"count\": 2}, {\"year\": \"1951\", \"online_status\": \"online\", \"count\": 2}, {\"year\": \"1954\", \"online_status\": \"not online\", \"count\": 2}, {\"year\": \"1936\", \"online_status\": \"not online\", \"count\": 2}, {\"year\": \"1926\", \"online_status\": \"not online\", \"count\": 1}, {\"year\": \"1934\", \"online_status\": \"not online\", \"count\": 1}, {\"year\": \"1928\", \"online_status\": \"not online\", \"count\": 1}, {\"year\": \"1929\", \"online_status\": \"not online\", \"count\": 1}, {\"year\": \"1930\", \"online_status\": \"not online\", \"count\": 1}, {\"year\": \"1933\", \"online_status\": \"online\", \"count\": 1}, {\"year\": \"1903\", \"online_status\": \"not online\", \"count\": 1}, {\"year\": \"1937\", \"online_status\": \"not online\", \"count\": 1}, {\"year\": \"1938\", \"online_status\": \"not online\", \"count\": 1}, {\"year\": \"1942\", \"online_status\": \"not online\", \"count\": 1}, {\"year\": \"1945\", \"online_status\": \"not online\", \"count\": 1}, {\"year\": \"1947\", \"online_status\": \"not online\", \"count\": 1}, {\"year\": \"1948\", \"online_status\": \"not online\", \"count\": 1}, {\"year\": \"1900\", \"online_status\": \"online\", \"count\": 1}]}}, {\"mode\": \"vega-lite\"});\n</script>",
      "application/papermill.record/text/plain": "alt.Chart(...)"
     },
     "metadata": {
      "scrapbook": {
       "mime_prefix": "application/papermill.record/",
       "name": "chart-online-years"
      }
     },
     "output_type": "display_data"
    }
   ],
   "source": [
    "glue(\"chart-online-years\", chart_online_years, display=False)"
   ]
  },
  {
   "cell_type": "markdown",
   "id": "79ee42d4-6905-43f3-9cec-5dc242f9d64d",
   "metadata": {
    "editable": true,
    "slideshow": {
     "slide_type": ""
    },
    "tags": []
   },
   "source": [
    "```{glue:figure} chart-online-years\n",
    ":name: chart-online-years\n",
    "Number of oral history records by year and online status\n",
    "```"
   ]
  },
  {
   "cell_type": "markdown",
   "id": "6492bfea-b140-47d9-9fd9-6d0f57fe5a41",
   "metadata": {
    "editable": true,
    "slideshow": {
     "slide_type": ""
    },
    "tags": []
   },
   "source": [
    "## How many hours of recordings are available online?\n",
    "\n",
    "Information about the `duration` of each audio file can be [extracted from the audio player](details-of-available-downloads). Adding the values together gives us a total for all the oral histories online."
   ]
  },
  {
   "cell_type": "code",
   "execution_count": 31,
   "id": "a6175e18-b389-4444-9158-3a34e4a53eae",
   "metadata": {
    "editable": true,
    "slideshow": {
     "slide_type": ""
    },
    "tags": [
     "hide-input"
    ]
   },
   "outputs": [
    {
     "name": "stdout",
     "output_type": "stream",
     "text": [
      "Hours: 14,531.525\n"
     ]
    }
   ],
   "source": [
    "print(f\"Hours: {df['duration'].sum() / 60 / 60:,}\")"
   ]
  },
  {
   "cell_type": "markdown",
   "id": "90f466c7-0e2a-4391-830f-75505f0b4599",
   "metadata": {
    "editable": true,
    "slideshow": {
     "slide_type": ""
    },
    "tags": []
   },
   "source": [
    "## How many oral histories have transcripts or summaries you can download?\n",
    "\n",
    "Many of the oral histories online have [summaries or transcripts that you can download](oral-histories-transcripts)."
   ]
  },
  {
   "cell_type": "code",
   "execution_count": 32,
   "id": "b3108a0f-31e7-4d9c-9c07-7fdfac6f69c5",
   "metadata": {
    "editable": true,
    "slideshow": {
     "slide_type": ""
    },
    "tags": [
     "hide-input"
    ]
   },
   "outputs": [
    {
     "name": "stdout",
     "output_type": "stream",
     "text": [
      "Summaries: 3,775\n",
      "Transcripts: 1,757\n"
     ]
    }
   ],
   "source": [
    "print(f\"Summaries: {df['summary'].sum():,}\")\n",
    "print(f\"Transcripts: {df['transcript'].sum():,}\")"
   ]
  },
  {
   "cell_type": "markdown",
   "id": "efe146b8-288b-4cce-820d-4ac3cf6d26c9",
   "metadata": {
    "editable": true,
    "slideshow": {
     "slide_type": ""
    },
    "tags": []
   },
   "source": [
    "## What are the oral histories about?\n",
    "\n",
    "The `subject` field contains standard(ish) subject headings that provide an insight into the topics of oral history interviews."
   ]
  },
  {
   "cell_type": "markdown",
   "id": "8373ea86-c73f-4030-9383-16f40e8b961f",
   "metadata": {
    "editable": true,
    "slideshow": {
     "slide_type": ""
    },
    "tags": []
   },
   "source": [
    "Here's the top ten subjects of oral histories that are not online. The formatting of the `--` separators has been normalised, and final fullstops removed."
   ]
  },
  {
   "cell_type": "code",
   "execution_count": 33,
   "id": "8e45a48e-77fa-4cc8-95b7-744488e6688e",
   "metadata": {
    "editable": true,
    "scrolled": true,
    "slideshow": {
     "slide_type": ""
    },
    "tags": [
     "hide-input"
    ]
   },
   "outputs": [
    {
     "data": {
      "text/html": [
       "<style type=\"text/css\">\n",
       "</style>\n",
       "<table id=\"T_037d0\">\n",
       "  <thead>\n",
       "    <tr>\n",
       "      <th id=\"T_037d0_level0_col0\" class=\"col_heading level0 col0\" >subject</th>\n",
       "      <th id=\"T_037d0_level0_col1\" class=\"col_heading level0 col1\" >count</th>\n",
       "    </tr>\n",
       "  </thead>\n",
       "  <tbody>\n",
       "    <tr>\n",
       "      <td id=\"T_037d0_row0_col0\" class=\"data row0 col0\" >Folk musicians</td>\n",
       "      <td id=\"T_037d0_row0_col1\" class=\"data row0 col1\" >379</td>\n",
       "    </tr>\n",
       "    <tr>\n",
       "      <td id=\"T_037d0_row1_col0\" class=\"data row1 col0\" >Academics</td>\n",
       "      <td id=\"T_037d0_row1_col1\" class=\"data row1 col1\" >315</td>\n",
       "    </tr>\n",
       "    <tr>\n",
       "      <td id=\"T_037d0_row2_col0\" class=\"data row2 col0\" >Politicians -- Australia -- Interviews</td>\n",
       "      <td id=\"T_037d0_row2_col1\" class=\"data row2 col1\" >261</td>\n",
       "    </tr>\n",
       "    <tr>\n",
       "      <td id=\"T_037d0_row3_col0\" class=\"data row3 col0\" >Authors, Australian -- Interviews</td>\n",
       "      <td id=\"T_037d0_row3_col1\" class=\"data row3 col1\" >260</td>\n",
       "    </tr>\n",
       "    <tr>\n",
       "      <td id=\"T_037d0_row4_col0\" class=\"data row4 col0\" >Painters -- Australia -- Interviews</td>\n",
       "      <td id=\"T_037d0_row4_col1\" class=\"data row4 col1\" >222</td>\n",
       "    </tr>\n",
       "    <tr>\n",
       "      <td id=\"T_037d0_row5_col0\" class=\"data row5 col0\" >Australian poetry</td>\n",
       "      <td id=\"T_037d0_row5_col1\" class=\"data row5 col1\" >202</td>\n",
       "    </tr>\n",
       "    <tr>\n",
       "      <td id=\"T_037d0_row6_col0\" class=\"data row6 col0\" >Folk music -- Australia</td>\n",
       "      <td id=\"T_037d0_row6_col1\" class=\"data row6 col1\" >201</td>\n",
       "    </tr>\n",
       "    <tr>\n",
       "      <td id=\"T_037d0_row7_col0\" class=\"data row7 col0\" >Aboriginal Australians -- Interviews</td>\n",
       "      <td id=\"T_037d0_row7_col1\" class=\"data row7 col1\" >191</td>\n",
       "    </tr>\n",
       "    <tr>\n",
       "      <td id=\"T_037d0_row8_col0\" class=\"data row8 col0\" >Artists -- Australia -- Interviews</td>\n",
       "      <td id=\"T_037d0_row8_col1\" class=\"data row8 col1\" >183</td>\n",
       "    </tr>\n",
       "    <tr>\n",
       "      <td id=\"T_037d0_row9_col0\" class=\"data row9 col0\" >Authors</td>\n",
       "      <td id=\"T_037d0_row9_col1\" class=\"data row9 col1\" >174</td>\n",
       "    </tr>\n",
       "  </tbody>\n",
       "</table>\n"
      ],
      "text/plain": [
       "<pandas.io.formats.style.Styler at 0x7f2f7800cb80>"
      ]
     },
     "execution_count": 33,
     "metadata": {},
     "output_type": "execute_result"
    }
   ],
   "source": [
    "def split_and_clean(value):\n",
    "    values = value.split(\" | \")\n",
    "    return list(set([re.sub(r\"(\\w)--(\\w)\", r\"\\1 -- \\2\", v).strip(\".\") for v in values if v]))\n",
    "\n",
    "df[\"subject\"] = df[\"subject\"].apply(split_and_clean)\n",
    "\n",
    "subjects = df[[\"online_status\", \"subject\"]].explode(\"subject\")\n",
    "\n",
    "subjects.loc[(subjects[\"online_status\"] == \"not online\")][\"subject\"].value_counts().to_frame().reset_index()[:10].style.hide()"
   ]
  },
  {
   "cell_type": "markdown",
   "id": "8d9426fd-bcac-4a07-b34f-0358380e8e98",
   "metadata": {
    "editable": true,
    "slideshow": {
     "slide_type": ""
    },
    "tags": []
   },
   "source": [
    "Here's the top ten subjects of oral histories that are *are* online. The formatting of the `--` separators has been normalised, and final fullstops removed."
   ]
  },
  {
   "cell_type": "code",
   "execution_count": 34,
   "id": "358497a9-ad12-4055-9cad-cdf4b170bb80",
   "metadata": {
    "editable": true,
    "slideshow": {
     "slide_type": ""
    },
    "tags": [
     "hide-input"
    ]
   },
   "outputs": [
    {
     "data": {
      "text/html": [
       "<style type=\"text/css\">\n",
       "</style>\n",
       "<table id=\"T_019b5\">\n",
       "  <thead>\n",
       "    <tr>\n",
       "      <th id=\"T_019b5_level0_col0\" class=\"col_heading level0 col0\" >subject</th>\n",
       "      <th id=\"T_019b5_level0_col1\" class=\"col_heading level0 col1\" >count</th>\n",
       "    </tr>\n",
       "  </thead>\n",
       "  <tbody>\n",
       "    <tr>\n",
       "      <td id=\"T_019b5_row0_col0\" class=\"data row0 col0\" >Politicians -- Australia</td>\n",
       "      <td id=\"T_019b5_row0_col1\" class=\"data row0 col1\" >191</td>\n",
       "    </tr>\n",
       "    <tr>\n",
       "      <td id=\"T_019b5_row1_col0\" class=\"data row1 col0\" >Painters -- Australia -- Interviews</td>\n",
       "      <td id=\"T_019b5_row1_col1\" class=\"data row1 col1\" >189</td>\n",
       "    </tr>\n",
       "    <tr>\n",
       "      <td id=\"T_019b5_row2_col0\" class=\"data row2 col0\" >Prime ministers -- Australia -- Quotations</td>\n",
       "      <td id=\"T_019b5_row2_col1\" class=\"data row2 col1\" >188</td>\n",
       "    </tr>\n",
       "    <tr>\n",
       "      <td id=\"T_019b5_row3_col0\" class=\"data row3 col0\" >Older people -- New South Wales -- Biography</td>\n",
       "      <td id=\"T_019b5_row3_col1\" class=\"data row3 col1\" >186</td>\n",
       "    </tr>\n",
       "    <tr>\n",
       "      <td id=\"T_019b5_row4_col0\" class=\"data row4 col0\" >Menzies, Robert, Sir, 1894-1978. Speeches</td>\n",
       "      <td id=\"T_019b5_row4_col1\" class=\"data row4 col1\" >185</td>\n",
       "    </tr>\n",
       "    <tr>\n",
       "      <td id=\"T_019b5_row5_col0\" class=\"data row5 col0\" >Federal politicians</td>\n",
       "      <td id=\"T_019b5_row5_col1\" class=\"data row5 col1\" >183</td>\n",
       "    </tr>\n",
       "    <tr>\n",
       "      <td id=\"T_019b5_row6_col0\" class=\"data row6 col0\" >Politicians -- Australia -- Quotations</td>\n",
       "      <td id=\"T_019b5_row6_col1\" class=\"data row6 col1\" >183</td>\n",
       "    </tr>\n",
       "    <tr>\n",
       "      <td id=\"T_019b5_row7_col0\" class=\"data row7 col0\" >Australia -- Politics and government -- 1945-1965</td>\n",
       "      <td id=\"T_019b5_row7_col1\" class=\"data row7 col1\" >172</td>\n",
       "    </tr>\n",
       "    <tr>\n",
       "      <td id=\"T_019b5_row8_col0\" class=\"data row8 col0\" >Politicians -- Australia -- Interviews</td>\n",
       "      <td id=\"T_019b5_row8_col1\" class=\"data row8 col1\" >171</td>\n",
       "    </tr>\n",
       "    <tr>\n",
       "      <td id=\"T_019b5_row9_col0\" class=\"data row9 col0\" >Academics</td>\n",
       "      <td id=\"T_019b5_row9_col1\" class=\"data row9 col1\" >123</td>\n",
       "    </tr>\n",
       "  </tbody>\n",
       "</table>\n"
      ],
      "text/plain": [
       "<pandas.io.formats.style.Styler at 0x7f2f79773190>"
      ]
     },
     "execution_count": 34,
     "metadata": {},
     "output_type": "execute_result"
    }
   ],
   "source": [
    "subjects.loc[subjects[\"online_status\"] == \"online\"][\"subject\"].value_counts().to_frame().reset_index()[:10].style.hide()"
   ]
  },
  {
   "cell_type": "markdown",
   "id": "0b965eda-9480-427f-9d74-d74b119a185a",
   "metadata": {
    "editable": true,
    "slideshow": {
     "slide_type": ""
    },
    "tags": []
   },
   "source": [
    "## What collections do the oral histories belong to?\n",
    "\n",
    "You can use the `isPartOf` field in the record metadata to examine thematic collections within the larger oral history collection. Here's the top twenty `series` values from the `isPartOf` field. The values have been normalised by removing the final full stops."
   ]
  },
  {
   "cell_type": "code",
   "execution_count": 35,
   "id": "7765adc8-4b89-4bd8-93fc-45f82fda3c73",
   "metadata": {
    "editable": true,
    "slideshow": {
     "slide_type": ""
    },
    "tags": [
     "hide-input"
    ]
   },
   "outputs": [
    {
     "data": {
      "text/html": [
       "<style type=\"text/css\">\n",
       "</style>\n",
       "<table id=\"T_f1ab3\">\n",
       "  <thead>\n",
       "    <tr>\n",
       "      <th id=\"T_f1ab3_level0_col0\" class=\"col_heading level0 col0\" >is_part_of</th>\n",
       "      <th id=\"T_f1ab3_level0_col1\" class=\"col_heading level0 col1\" >count</th>\n",
       "    </tr>\n",
       "  </thead>\n",
       "  <tbody>\n",
       "    <tr>\n",
       "      <td id=\"T_f1ab3_row0_col0\" class=\"data row0 col0\" >series: National Press Club luncheon address</td>\n",
       "      <td id=\"T_f1ab3_row0_col1\" class=\"data row0 col1\" >907</td>\n",
       "    </tr>\n",
       "    <tr>\n",
       "      <td id=\"T_f1ab3_row1_col0\" class=\"data row1 col0\" >series: Rob and Olya Willis folklore collection</td>\n",
       "      <td id=\"T_f1ab3_row1_col1\" class=\"data row1 col1\" >763</td>\n",
       "    </tr>\n",
       "    <tr>\n",
       "      <td id=\"T_f1ab3_row2_col0\" class=\"data row2 col0\" >series: Cultural context of unemployment oral history project</td>\n",
       "      <td id=\"T_f1ab3_row2_col1\" class=\"data row2 col1\" >489</td>\n",
       "    </tr>\n",
       "    <tr>\n",
       "      <td id=\"T_f1ab3_row3_col0\" class=\"data row3 col0\" >series: Hazel de Berg collection</td>\n",
       "      <td id=\"T_f1ab3_row3_col1\" class=\"data row3 col1\" >404</td>\n",
       "    </tr>\n",
       "    <tr>\n",
       "      <td id=\"T_f1ab3_row4_col0\" class=\"data row4 col0\" >series: Menzies MS 4936 collection</td>\n",
       "      <td id=\"T_f1ab3_row4_col1\" class=\"data row4 col1\" >346</td>\n",
       "    </tr>\n",
       "    <tr>\n",
       "      <td id=\"T_f1ab3_row5_col0\" class=\"data row5 col0\" >series: Bringing them home oral history project</td>\n",
       "      <td id=\"T_f1ab3_row5_col1\" class=\"data row5 col1\" >335</td>\n",
       "    </tr>\n",
       "    <tr>\n",
       "      <td id=\"T_f1ab3_row6_col0\" class=\"data row6 col0\" >series: Australian generations oral history project</td>\n",
       "      <td id=\"T_f1ab3_row6_col1\" class=\"data row6 col1\" >296</td>\n",
       "    </tr>\n",
       "    <tr>\n",
       "      <td id=\"T_f1ab3_row7_col0\" class=\"data row7 col0\" >series: Chris Sullivan folklore collection</td>\n",
       "      <td id=\"T_f1ab3_row7_col1\" class=\"data row7 col1\" >262</td>\n",
       "    </tr>\n",
       "    <tr>\n",
       "      <td id=\"T_f1ab3_row8_col0\" class=\"data row8 col0\" >series: Seven years on : continuing life histories of Aboriginal leaders oral history project</td>\n",
       "      <td id=\"T_f1ab3_row8_col1\" class=\"data row8 col1\" >210</td>\n",
       "    </tr>\n",
       "    <tr>\n",
       "      <td id=\"T_f1ab3_row9_col0\" class=\"data row9 col0\" >series: John Meredith folklore collection</td>\n",
       "      <td id=\"T_f1ab3_row9_col1\" class=\"data row9 col1\" >207</td>\n",
       "    </tr>\n",
       "    <tr>\n",
       "      <td id=\"T_f1ab3_row10_col0\" class=\"data row10 col0\" >series: Forgotten Australians and Former Child Migrants oral history project</td>\n",
       "      <td id=\"T_f1ab3_row10_col1\" class=\"data row10 col1\" >207</td>\n",
       "    </tr>\n",
       "    <tr>\n",
       "      <td id=\"T_f1ab3_row11_col0\" class=\"data row11 col0\" >series: NSW Bicentennial oral history collection</td>\n",
       "      <td id=\"T_f1ab3_row11_col1\" class=\"data row11 col1\" >204</td>\n",
       "    </tr>\n",
       "    <tr>\n",
       "      <td id=\"T_f1ab3_row12_col0\" class=\"data row12 col0\" >series: Alex Hood folklore collection</td>\n",
       "      <td id=\"T_f1ab3_row12_col1\" class=\"data row12 col1\" >186</td>\n",
       "    </tr>\n",
       "    <tr>\n",
       "      <td id=\"T_f1ab3_row13_col0\" class=\"data row13 col0\" >series: Australia 1938 oral history project</td>\n",
       "      <td id=\"T_f1ab3_row13_col1\" class=\"data row13 col1\" >185</td>\n",
       "    </tr>\n",
       "    <tr>\n",
       "      <td id=\"T_f1ab3_row14_col0\" class=\"data row14 col0\" >series: Australian Antarctic Division oral history collection</td>\n",
       "      <td id=\"T_f1ab3_row14_col1\" class=\"data row14 col1\" >168</td>\n",
       "    </tr>\n",
       "    <tr>\n",
       "      <td id=\"T_f1ab3_row15_col0\" class=\"data row15 col0\" >series: Drovers oral history project</td>\n",
       "      <td id=\"T_f1ab3_row15_col1\" class=\"data row15 col1\" >147</td>\n",
       "    </tr>\n",
       "    <tr>\n",
       "      <td id=\"T_f1ab3_row16_col0\" class=\"data row16 col0\" >series: Voices of the bush oral history project</td>\n",
       "      <td id=\"T_f1ab3_row16_col1\" class=\"data row16 col1\" >146</td>\n",
       "    </tr>\n",
       "    <tr>\n",
       "      <td id=\"T_f1ab3_row17_col0\" class=\"data row17 col0\" >series: John Gorton collection</td>\n",
       "      <td id=\"T_f1ab3_row17_col1\" class=\"data row17 col1\" >137</td>\n",
       "    </tr>\n",
       "    <tr>\n",
       "      <td id=\"T_f1ab3_row18_col0\" class=\"data row18 col0\" >series: Ten Pound Poms collection</td>\n",
       "      <td id=\"T_f1ab3_row18_col1\" class=\"data row18 col1\" >135</td>\n",
       "    </tr>\n",
       "    <tr>\n",
       "      <td id=\"T_f1ab3_row19_col0\" class=\"data row19 col0\" >series: Australian response to AIDS oral history project</td>\n",
       "      <td id=\"T_f1ab3_row19_col1\" class=\"data row19 col1\" >108</td>\n",
       "    </tr>\n",
       "  </tbody>\n",
       "</table>\n"
      ],
      "text/plain": [
       "<pandas.io.formats.style.Styler at 0x7f2f747b86d0>"
      ]
     },
     "execution_count": 35,
     "metadata": {},
     "output_type": "execute_result"
    }
   ],
   "source": [
    "df[\"is_part_of\"] = df[\"is_part_of\"].apply(split_and_clean)\n",
    "\n",
    "series = df[\"is_part_of\"].explode().value_counts().to_frame().reset_index()\n",
    "\n",
    "# Show series only (not publication)\n",
    "series.dropna().loc[series[\"is_part_of\"].str.startswith(\"series\")][:20].style.hide()"
   ]
  },
  {
   "cell_type": "markdown",
   "id": "d446c9a4-7485-4bd6-bf4b-9c0011b1c816",
   "metadata": {
    "editable": true,
    "slideshow": {
     "slide_type": ""
    },
    "tags": []
   },
   "source": [
    "A complete list of series values is available in [this text file](https://github.com/GLAM-Workbench/trove-oral-histories-data/blob/main/trove-oral-history-series.txt). You can use these values with the `series` index to find all the oral histories within a collection. For example, [searching for `series:\"Hazel de Berg collection\"`](https://trove.nla.gov.au/search/category/music?keyword=series%3A%22Hazel%20de%20Berg%20collection%22&l-format=Sound%2FInterview,%20lecture,%20talk) will find all the interviews in the Hazel de Berg collection."
   ]
  },
  {
   "cell_type": "code",
   "execution_count": null,
   "id": "80ce22b9-33ec-4a8a-9b6e-0720509f2489",
   "metadata": {},
   "outputs": [],
   "source": []
  }
 ],
 "metadata": {
  "kernelspec": {
   "display_name": "Python 3 (ipykernel)",
   "language": "python",
   "name": "python3"
  },
  "language_info": {
   "codemirror_mode": {
    "name": "ipython",
    "version": 3
   },
   "file_extension": ".py",
   "mimetype": "text/x-python",
   "name": "python",
   "nbconvert_exporter": "python",
   "pygments_lexer": "ipython3",
   "version": "3.8.12"
  }
 },
 "nbformat": 4,
 "nbformat_minor": 5
}
