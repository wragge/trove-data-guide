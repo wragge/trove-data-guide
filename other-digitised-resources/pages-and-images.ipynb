{
 "cells": [
  {
   "cell_type": "markdown",
   "id": "e78f3a48-f24a-49e6-bcc4-f60ec279ae8b",
   "metadata": {
    "editable": true,
    "slideshow": {
     "slide_type": ""
    },
    "tags": []
   },
   "source": [
    "# Pages and images\n",
    "\n",
    "- thumbnail\n",
    "- web interface download (can be lower res)\n",
    "- direct download (adjust width) -- limits on resolution (5000px)\n",
    "- TIFF\n",
    "\n",
    "Which identifier?\n",
    "\n",
    "- page for books, journals\n",
    "- item for images, maps"
   ]
  }
 ],
 "metadata": {
  "kernelspec": {
   "display_name": "Python 3 (ipykernel)",
   "language": "python",
   "name": "python3"
  },
  "language_info": {
   "codemirror_mode": {
    "name": "ipython",
    "version": 3
   },
   "file_extension": ".py",
   "mimetype": "text/x-python",
   "name": "python",
   "nbconvert_exporter": "python",
   "pygments_lexer": "ipython3",
   "version": "3.10.12"
  }
 },
 "nbformat": 4,
 "nbformat_minor": 5
}
