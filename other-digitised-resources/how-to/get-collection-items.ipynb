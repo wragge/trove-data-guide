{
 "cells": [
  {
   "cell_type": "markdown",
   "id": "2943b581-1644-4181-b965-1c1c22188802",
   "metadata": {
    "editable": true,
    "slideshow": {
     "slide_type": ""
    },
    "tags": []
   },
   "source": [
    "# HOW TO: Get a list of items in a digitised collection"
   ]
  },
  {
   "cell_type": "markdown",
   "id": "74900236-952b-49cf-89d0-2fbb2e184d14",
   "metadata": {},
   "source": [
    "The NLA's digitised resources are often presented as 'collections'. A collection could be the volumes in a multi-volume work, the issues of a periodical, a map series, an album of photographs, or a manuscript collection. In the web interface, collections will have a 'Browse this collection' link or button that displays a list of the contents, but getting machine-readable data is not so straightforward. You can use the `magazine/title` API endpoint to get a list of issues from a periodical, but there's no way to get the contents of other types of collections from the Trove API. \n",
    "\n",
    "<mark>==Insert screencap==</mark>\n",
    "\n",
    "One work around is to scrape a list of items from the collection browse window. When you click on the 'Browse this collection' button, your browser fires off a request for a list of items. Details of the first 20 items are returned in an HTML fragment which is displayed in a pop up window. By manually constructing the url for this request you can retrieve the HTML fragment and extract the item identifiers. The url to retrieve the browse list looks like this: \n",
    "\n",
    "```\n",
    "https://nla.gov.au/[PARENT ID]/browse?startIdx=[START]&rows=20&op=c\n",
    "```\n",
    "\n",
    "The `[PARENT ID]` is the collection's NLA identifier, for example `nla.obj-150592172`. The url returns 20 results at a time. If there are more than 20 items in the collection you need to make multiple requests, changing the `startIdx` value to work your way through the complete list. For example:\n",
    "\n",
    "- Retrieve the first 20 items (`startIdx` set to `0`): <https://nla.gov.au/nla.obj-150592172/browse?startIdx=0&rows=20&op=c>\n",
    "- Retrieve the next 20 items (`startIdx` set to `20`): <https://nla.gov.au/nla.obj-150592172/browse?startIdx=20&rows=20&op=c>\n",
    "\n",
    "The code below loops through the complete set of items by updating the `startIdx` value after each request."
   ]
  },
  {
   "cell_type": "code",
   "execution_count": 10,
   "id": "9dbe9140-8b95-4e31-99ef-f4c14aae0ab6",
   "metadata": {},
   "outputs": [],
   "source": [
    "import time\n",
    "\n",
    "import requests\n",
    "from bs4 import BeautifulSoup"
   ]
  },
  {
   "cell_type": "code",
   "execution_count": null,
   "id": "46b3aac8-e098-41d7-8277-ff24015a6af2",
   "metadata": {},
   "outputs": [],
   "source": [
    "parent_id = \"nla.obj-150592172\"\n",
    "\n",
    "start_url = \"https://nla.gov.au/{}/browse?startIdx={}&rows=20&op=c\"\n",
    "# The initial startIdx value\n",
    "start = 0\n",
    "# Number of results per page, used to increment the startIdx value\n",
    "n = 20\n",
    "parts = []\n",
    "# If there aren't 20 results on the page then we've reached the end, so continue harvesting until that happens.\n",
    "while n == 20:\n",
    "    # Get the browse page\n",
    "    response = requests.get(start_url.format(parent_id, start))\n",
    "    # Beautifulsoup turns the HTML into an easily navigable structure\n",
    "    soup = BeautifulSoup(response.text, \"html.parser\")\n",
    "    # Find all the divs containing issue details and loop through them\n",
    "    details = soup.find_all(class_=\"l-item-info\")\n",
    "    for detail in details:\n",
    "        # The format of the items can vary, first we'll look for a link on a title\n",
    "        # but if there's no title we'll just get the first link\n",
    "        title = detail.find(\"h3\")\n",
    "        if title:\n",
    "            issue_id = title.parent[\"href\"].strip(\"/\")\n",
    "        else:\n",
    "            issue_id = detail.find(\"a\")[\"href\"].strip(\"/\")\n",
    "        # Save the issue id\n",
    "        parts.append(issue_id)\n",
    "    time.sleep(0.2)\n",
    "    # Increment the startIdx\n",
    "    start += n\n",
    "    # Set n to the number of results on the current page\n",
    "    n = len(details)"
   ]
  },
  {
   "cell_type": "code",
   "execution_count": 12,
   "id": "770d9942-9ef6-4c98-866f-a6f95a93e0a5",
   "metadata": {},
   "outputs": [
    {
     "data": {
      "text/plain": [
       "478"
      ]
     },
     "execution_count": 12,
     "metadata": {},
     "output_type": "execute_result"
    }
   ],
   "source": [
    "len(parts)"
   ]
  },
  {
   "cell_type": "code",
   "execution_count": 13,
   "id": "019cd6a2-c27f-46dd-8eb3-8f4f5cbb8714",
   "metadata": {},
   "outputs": [
    {
     "name": "stdout",
     "output_type": "stream",
     "text": [
      "https://nla.gov.au/nla.obj-150592180\n",
      "https://nla.gov.au/nla.obj-150592283\n",
      "https://nla.gov.au/nla.obj-150592389\n",
      "https://nla.gov.au/nla.obj-150592481\n",
      "https://nla.gov.au/nla.obj-150592585\n"
     ]
    }
   ],
   "source": [
    "for item in parts[:5]:\n",
    "    print(f\"https://nla.gov.au/{item}\")"
   ]
  },
  {
   "cell_type": "markdown",
   "id": "cad91515-199d-492d-945c-fdb624eb802a",
   "metadata": {},
   "source": [
    "<mark>==Extract extra info where available, eg titles, dates?==</mark>"
   ]
  },
  {
   "cell_type": "code",
   "execution_count": null,
   "id": "0e689de0-36a2-4eb8-baa3-7335d77d5dbd",
   "metadata": {},
   "outputs": [],
   "source": []
  }
 ],
 "metadata": {
  "kernelspec": {
   "display_name": "Python 3 (ipykernel)",
   "language": "python",
   "name": "python3"
  },
  "language_info": {
   "codemirror_mode": {
    "name": "ipython",
    "version": 3
   },
   "file_extension": ".py",
   "mimetype": "text/x-python",
   "name": "python",
   "nbconvert_exporter": "python",
   "pygments_lexer": "ipython3",
   "version": "3.10.12"
  }
 },
 "nbformat": 4,
 "nbformat_minor": 5
}
