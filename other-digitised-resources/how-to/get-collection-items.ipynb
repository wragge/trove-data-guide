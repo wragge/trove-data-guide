{
 "cells": [
  {
   "cell_type": "markdown",
   "id": "2943b581-1644-4181-b965-1c1c22188802",
   "metadata": {
    "editable": true,
    "slideshow": {
     "slide_type": ""
    },
    "tags": []
   },
   "source": [
    "# HOW TO: Get a list of items from a digitised collection\n",
    "\n",
    "````{card}\n",
    "On this page\n",
    "\n",
    "\n",
    "```{contents}\n",
    ":local:\n",
    ":backlinks: None\n",
    "```\n",
    "````"
   ]
  },
  {
   "cell_type": "markdown",
   "id": "74900236-952b-49cf-89d0-2fbb2e184d14",
   "metadata": {
    "editable": true,
    "slideshow": {
     "slide_type": ""
    },
    "tags": []
   },
   "source": [
    "## Background\n",
    "\n",
    "The NLA's digitised resources are often presented as 'collections'. A collection could be the volumes in a multi-volume work, the issues of a periodical, a map series, an album of photographs, or a manuscript collection. In the web interface, collections will have a 'Browse this collection' link or button that displays a list of the contents, but getting machine-readable data is not so straightforward. You can use the `magazine/title` API endpoint to get a list of issues from a periodical, but there's no way to get the contents of other types of collections from the Trove API. \n",
    "\n",
    "```{figure} /images/trove-image-collection.png\n",
    ":name: trove-image-collection\n",
    "\n",
    "Example of a collection of photographs in Trove, <https://nla.gov.au/nla.obj-147116770>\n",
    "```\n",
    "\n",
    "One work around is to scrape a list of items from the collection browse window. When you click on the 'Browse this collection' button, your browser fires off a request for a list of items. Details of the first 20 items are returned in an HTML fragment which is displayed in a pop up window. By manually constructing the url for this request you can retrieve the HTML fragment and extract the item identifiers. The url to retrieve the browse list looks like this: \n",
    "\n",
    "```\n",
    "https://nla.gov.au/[PARENT ID]/browse?startIdx=[START]&rows=20&op=c\n",
    "```\n",
    "\n",
    "The `[PARENT ID]` is the collection's NLA identifier, for example `nla.obj-150592172`. The url returns 20 results at a time. If there are more than 20 items in the collection you need to make multiple requests, changing the `startIdx` value to work your way through the complete list. For example:\n",
    "\n",
    "- Retrieve the first 20 items (`startIdx` set to `0`): <https://nla.gov.au/nla.obj-150592172/browse?startIdx=0&rows=20&op=c>\n",
    "- Retrieve the next 20 items (`startIdx` set to `20`): <https://nla.gov.au/nla.obj-150592172/browse?startIdx=20&rows=20&op=c>\n",
    "\n",
    "The `op` parameter seems to change the context of the request. With `op` set to `c` you get the members of the collection at your current level in the hierarchy. So if you're looking at a sub-collection, you'll get members of that sub-collection; if you're looking at a book, you'll get the pages in that book. Setting `op` to `s` seems to retrieve the top-level members of the collection.\n",
    "\n",
    "## A basic example\n",
    "\n",
    "````{margin}\n",
    "```{seealso}\n",
    "A number of GLAM Workbench notebooks, like [Get OCRd text from a digitised journal in Trove](https://glam-workbench.net/trove-journals/get-ocrd-text-from-digitised-journal/) use a version of this code to get lists of issues from periodicals.\n",
    "```\n",
    "````\n",
    "\n",
    "The code below loops through the complete set of items in a collection by updating the `startIdx` value after each request."
   ]
  },
  {
   "cell_type": "code",
   "execution_count": 3,
   "id": "46b3aac8-e098-41d7-8277-ff24015a6af2",
   "metadata": {
    "editable": true,
    "slideshow": {
     "slide_type": ""
    },
    "tags": []
   },
   "outputs": [],
   "source": [
    "import time\n",
    "\n",
    "import requests\n",
    "from bs4 import BeautifulSoup\n",
    "\n",
    "collection_id = \"nla.obj-150592172\"\n",
    "\n",
    "# The initial startIdx value\n",
    "start = 0\n",
    "# Number of results per page, used to increment the startIdx value\n",
    "n = 20\n",
    "\n",
    "items = []\n",
    "\n",
    "# If there aren't 20 results on the page then we've reached the end, so continue harvesting until that happens.\n",
    "while n == 20:\n",
    "    url = f\"https://nla.gov.au/{collection_id}/browse?startIdx={start}&rows=20&op=c\"\n",
    "\n",
    "    # Get the browse page\n",
    "    response = requests.get(url)\n",
    "\n",
    "    # Beautifulsoup turns the HTML into an easily navigable structure\n",
    "    soup = BeautifulSoup(response.text, \"html.parser\")\n",
    "\n",
    "    # Find all the divs containing issue details and loop through them\n",
    "    details = soup.find_all(class_=\"l-item-info\")\n",
    "    for detail in details:\n",
    "\n",
    "        # Look for the a tag with class \"obj-reference content\"\n",
    "        item_id = detail.find(\n",
    "            lambda tag: tag.name == \"a\"\n",
    "            and tag.get(\"class\") == [\"obj-reference\", \"content\"]\n",
    "        )[\"href\"].strip(\"/\")\n",
    "\n",
    "        # Save the issue id\n",
    "        items.append(item_id)\n",
    "\n",
    "    time.sleep(0.2)\n",
    "    # Increment the startIdx\n",
    "    start += n\n",
    "    # Set n to the number of results on the current page\n",
    "    n = len(details)"
   ]
  },
  {
   "cell_type": "code",
   "execution_count": 4,
   "id": "770d9942-9ef6-4c98-866f-a6f95a93e0a5",
   "metadata": {
    "editable": true,
    "slideshow": {
     "slide_type": ""
    },
    "tags": []
   },
   "outputs": [
    {
     "data": {
      "text/plain": [
       "478"
      ]
     },
     "execution_count": 4,
     "metadata": {},
     "output_type": "execute_result"
    }
   ],
   "source": [
    "len(items)"
   ]
  },
  {
   "cell_type": "code",
   "execution_count": 13,
   "id": "019cd6a2-c27f-46dd-8eb3-8f4f5cbb8714",
   "metadata": {
    "editable": true,
    "slideshow": {
     "slide_type": ""
    },
    "tags": []
   },
   "outputs": [
    {
     "name": "stdout",
     "output_type": "stream",
     "text": [
      "https://nla.gov.au/nla.obj-150592180\n",
      "https://nla.gov.au/nla.obj-150592283\n",
      "https://nla.gov.au/nla.obj-150592389\n",
      "https://nla.gov.au/nla.obj-150592481\n",
      "https://nla.gov.au/nla.obj-150592585\n"
     ]
    }
   ],
   "source": [
    "for item in items[:5]:\n",
    "    print(f\"https://nla.gov.au/{item}\")"
   ]
  },
  {
   "cell_type": "markdown",
   "id": "001029de-57c6-4ad2-a6a6-0d0b68eead5f",
   "metadata": {
    "editable": true,
    "slideshow": {
     "slide_type": ""
    },
    "tags": []
   },
   "source": [
    "## Handling collections within collections\n",
    "\n",
    "The code above works fine if the collection is a simple, flat hierarchy with no sub-collections. However, sometimes collections in Trove are more complex. For example, [this collection of photographs](https://nla.gov.au/nla.obj-147116770) includes albums, sketchbooks, and other groups, which are treated as sub-collections with their own child items. To harvest the details of all the items in collections like this you have to recurse your way through all levels of the hierarchy.\n",
    "\n",
    "```{admonition} Pages can be children too!\n",
    ":class: warning\n",
    "Print publications, like books and issues of periodicals, are treated as collections of pages. This means you can use the method described here to harvest a list of page identifiers from a publication. However, it can also lead to unexpected results. If you harvest a list of all the issues in a periodical, and include all the sub-collections, you'll end up with details of **every page in every issue**. If you don't want the page data, this'll just just slow things down. Even if you *do* want the page identifiers, [grabbing them from the issue's embedded metadata](extract-embedded-metadata.ipynb) will probably be more efficient.\n",
    "```\n",
    "\n",
    "The code below harvests items from a collection, including any sub-collections. If you don't want the sub-collections, just set `include_subcollections` to `False`.\n",
    "\n",
    "Instead of just a list of identifiers, the function returns a list of dictionaries. Each dictionary includes three fields: `item_id`, `item_type` (either `item` or `collection`), and `parent_id`. This enables you to reconstruct the original hierarchy if necessary.\n",
    "\n",
    "````{margin}\n",
    "```{seealso}\n",
    "The GLAM Workbench notebook [Download a collection of digitised images](https://glam-workbench.net/trove-images/download-image-collection/) uses this code to find and download all the images in a collection or finding-aid.\n",
    "```\n",
    "````"
   ]
  },
  {
   "cell_type": "code",
   "execution_count": 56,
   "id": "0e689de0-36a2-4eb8-baa3-7335d77d5dbd",
   "metadata": {
    "editable": true,
    "slideshow": {
     "slide_type": ""
    },
    "tags": []
   },
   "outputs": [],
   "source": [
    "import time\n",
    "\n",
    "import requests\n",
    "from bs4 import BeautifulSoup\n",
    "\n",
    "\n",
    "def harvest_collection_items(collection_id, include_subcollections=False):\n",
    "    \"\"\"\n",
    "    Harvest all the items in a Trove collection (including any sub-collections)\n",
    "    by scraping the item identifiers from the 'Browse collection' pop-up.\n",
    "    See the Trove Data Guide:\n",
    "    \"\"\"\n",
    "    # The initial startIdx value\n",
    "    start = 0\n",
    "    # Number of results per page, used to increment the startIdx value\n",
    "    n = 20\n",
    "    items = []\n",
    "    # If there aren't 20 results on the page then we've reached the end, so continue harvesting until that happens.\n",
    "    while n == 20:\n",
    "        url = f\"https://nla.gov.au/{collection_id}/browse?startIdx={start}&rows=20&op=c\"\n",
    "        # Get the browse page\n",
    "        response = s.get(url)\n",
    "\n",
    "        # Beautifulsoup turns the HTML into an easily navigable structure\n",
    "        soup = BeautifulSoup(response.text, \"html.parser\")\n",
    "\n",
    "        # Find all the divs containing issue details and loop through them\n",
    "        details = soup.find_all(class_=\"l-item-info\")\n",
    "        for detail in details:\n",
    "            # Set a default type\n",
    "            item_type = \"item\"\n",
    "\n",
    "            # Look for the a tag with class \"obj-reference content\"\n",
    "            item_id = detail.find(\n",
    "                lambda tag: tag.name == \"a\"\n",
    "                and tag.get(\"class\") == [\"obj-reference\", \"content\"]\n",
    "            )[\"href\"].strip(\"/\")\n",
    "\n",
    "            # Look for a link to 'children', indicating it's a subcollection (or a book or issue with pages)\n",
    "            has_children = detail.find(\n",
    "                lambda tag: tag.name == \"a\" and tag.get(\"class\") == [\"obj-reference\"]\n",
    "            )\n",
    "\n",
    "            # If it has children, harvest items from the subcollection\n",
    "            if has_children and include_subcollections is True:\n",
    "                item_type = \"collection\"\n",
    "                items += harvest_collection_items(item_id, include_subcollections=True)\n",
    "\n",
    "            # Save the item\n",
    "            # The parent_id will enable us to identify items that are in subcollections\n",
    "            items.append(\n",
    "                {\"item_id\": item_id, \"item_type\": item_type, \"parent_id\": collection_id}\n",
    "            )\n",
    "\n",
    "        time.sleep(0.2)\n",
    "        # Increment the startIdx\n",
    "        start += n\n",
    "        # Set n to the number of results on the current page\n",
    "        n = len(details)\n",
    "    return items"
   ]
  },
  {
   "cell_type": "code",
   "execution_count": 61,
   "id": "30f4f26a-c6bb-4c20-b6b5-10386a7f6ea4",
   "metadata": {
    "editable": true,
    "slideshow": {
     "slide_type": ""
    },
    "tags": []
   },
   "outputs": [],
   "source": [
    "items = harvest_collection_items(\"nla.obj-147116770\", include_subcollections=True)"
   ]
  },
  {
   "cell_type": "code",
   "execution_count": 62,
   "id": "03988407-6392-4251-8318-592f34dd05e0",
   "metadata": {
    "editable": true,
    "slideshow": {
     "slide_type": ""
    },
    "tags": []
   },
   "outputs": [
    {
     "data": {
      "text/plain": [
       "[{'item_id': 'nla.obj-147156444',\n",
       "  'item_type': 'item',\n",
       "  'parent_id': 'nla.obj-147116781'},\n",
       " {'item_id': 'nla.obj-147156453',\n",
       "  'item_type': 'item',\n",
       "  'parent_id': 'nla.obj-147116781'},\n",
       " {'item_id': 'nla.obj-147156804',\n",
       "  'item_type': 'item',\n",
       "  'parent_id': 'nla.obj-147116781'},\n",
       " {'item_id': 'nla.obj-147157261',\n",
       "  'item_type': 'item',\n",
       "  'parent_id': 'nla.obj-147116781'},\n",
       " {'item_id': 'nla.obj-147116781',\n",
       "  'item_type': 'collection',\n",
       "  'parent_id': 'nla.obj-147116770'},\n",
       " {'item_id': 'nla.obj-147116797',\n",
       "  'item_type': 'item',\n",
       "  'parent_id': 'nla.obj-147116770'},\n",
       " {'item_id': 'nla.obj-147148547',\n",
       "  'item_type': 'item',\n",
       "  'parent_id': 'nla.obj-147116890'},\n",
       " {'item_id': 'nla.obj-147148745',\n",
       "  'item_type': 'item',\n",
       "  'parent_id': 'nla.obj-147116890'},\n",
       " {'item_id': 'nla.obj-147148943',\n",
       "  'item_type': 'item',\n",
       "  'parent_id': 'nla.obj-147116890'},\n",
       " {'item_id': 'nla.obj-147149140',\n",
       "  'item_type': 'item',\n",
       "  'parent_id': 'nla.obj-147116890'}]"
      ]
     },
     "execution_count": 62,
     "metadata": {},
     "output_type": "execute_result"
    }
   ],
   "source": [
    "items[:10]"
   ]
  },
  {
   "cell_type": "code",
   "execution_count": null,
   "id": "1531bae6-b0d8-4809-98fe-3358766f6ab6",
   "metadata": {
    "editable": true,
    "slideshow": {
     "slide_type": ""
    },
    "tags": []
   },
   "outputs": [],
   "source": []
  }
 ],
 "metadata": {
  "kernelspec": {
   "display_name": "Python 3 (ipykernel)",
   "language": "python",
   "name": "python3"
  },
  "language_info": {
   "codemirror_mode": {
    "name": "ipython",
    "version": 3
   },
   "file_extension": ".py",
   "mimetype": "text/x-python",
   "name": "python",
   "nbconvert_exporter": "python",
   "pygments_lexer": "ipython3",
   "version": "3.10.12"
  }
 },
 "nbformat": 4,
 "nbformat_minor": 5
}
