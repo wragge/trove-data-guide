{
 "cells": [
  {
   "cell_type": "markdown",
   "id": "a9e678d4-4b6b-4978-9e44-1578dcdecb75",
   "metadata": {
    "editable": true,
    "slideshow": {
     "slide_type": ""
    },
    "tags": []
   },
   "source": [
    "# HOW TO: Get information about images in a collection"
   ]
  },
  {
   "cell_type": "markdown",
   "id": "bab2a489-1107-4ba5-9d98-08670c6a69d1",
   "metadata": {
    "editable": true,
    "slideshow": {
     "slide_type": ""
    },
    "tags": []
   },
   "source": [
    "## Collection\n",
    "\n",
    "Embedded metadata of collection:\n",
    "\n",
    "- `bibLevel`: `Set`\n",
    "\n",
    "Top level record: `pid` == `topLevelCollection`\n",
    "\n",
    "No `copies`\n",
    "\n",
    "Searching for the collection identifier only returns the collection -- ie you can't search for items in a collection.\n",
    "\n",
    "## Subcollection?\n",
    "\n",
    "Subcollections are just items in the parent collection (ie the first image in the subcollection is an item in the parent).\n",
    "\n",
    "There doesn't seem to be anything in the item metadata to indicate this.\n",
    "\n",
    "When harvesting items from the collection list modal, links on 'children' go to the first item in subcollection, which will have it's own browse modal that can be scraped. (Note that child links in journals are the page ids which get redirected to issue ids, so they're effectively the same link, but in images they go to different levels in hierarchy)\n",
    "\n",
    "So I suppose adjust collection scraping code to only get items without more than 1 chidren, then go down hierarchy to get members of subcollections.\n",
    "\n",
    "    parent collection --  -- `bibLevel` == `Set`\n",
    "    \n",
    "    - item -- `bibLevel` == `Item`\n",
    "    - item\n",
    "    - item which is first member of subcollection (can navigate down to get to subcollection, although link goes to first item in subcollection, which is to the same image, but different id) -- `bibLevel` == `Item`\n",
    "        - first item in subcollection (usually the image is the same as item above (but not always -- see https://nla.gov.au/nla.obj-147116781/view), but with different id and metadata?) -- has it's own browse modal for subcollection -- `bibLevel` == `Part`\n",
    "        - more subcollection items -- `bibLevel` == `Part`\n",
    "\n",
    "Members of a subcollection have `bibLevel` == `Part`\n",
    "\n",
    "Members of a subcollection can have less metadata than item if it's a cover or the back of a photo etc -- eg no MARC record -- but can get data from `parent`. I assume that these sorts of items aren't individually findable in search. Other subcollection memebers with metadata do seem to be individually findable (but who knows if everything is?).\n",
    "\n",
    "## Item"
   ]
  },
  {
   "cell_type": "code",
   "execution_count": null,
   "id": "032bdd3e-5d1a-44f6-bb2e-a11d27e7ad1d",
   "metadata": {
    "editable": true,
    "slideshow": {
     "slide_type": ""
    },
    "tags": []
   },
   "outputs": [],
   "source": []
  }
 ],
 "metadata": {
  "kernelspec": {
   "display_name": "Python 3 (ipykernel)",
   "language": "python",
   "name": "python3"
  },
  "language_info": {
   "codemirror_mode": {
    "name": "ipython",
    "version": 3
   },
   "file_extension": ".py",
   "mimetype": "text/x-python",
   "name": "python",
   "nbconvert_exporter": "python",
   "pygments_lexer": "ipython3",
   "version": "3.10.12"
  }
 },
 "nbformat": 4,
 "nbformat_minor": 5
}
