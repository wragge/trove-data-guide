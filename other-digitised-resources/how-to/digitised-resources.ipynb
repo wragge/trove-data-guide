{
 "cells": [
  {
   "cell_type": "markdown",
   "id": "dacba321-507d-4237-91c1-85f6e829903c",
   "metadata": {
    "editable": true,
    "slideshow": {
     "slide_type": ""
    },
    "tags": []
   },
   "source": [
    "# Digitised resources"
   ]
  },
  {
   "cell_type": "markdown",
   "id": "fe7233ec-8685-4a7c-ad7f-fc77d831421a",
   "metadata": {
    "editable": true,
    "slideshow": {
     "slide_type": ""
    },
    "tags": []
   },
   "source": [
    "```{tableofcontents}\n",
    "```"
   ]
  },
  {
   "cell_type": "code",
   "execution_count": null,
   "id": "ae1743a8-9a3b-48bf-a4fe-366c166a703e",
   "metadata": {},
   "outputs": [],
   "source": []
  }
 ],
 "metadata": {
  "kernelspec": {
   "display_name": "Python 3 (ipykernel)",
   "language": "python",
   "name": "python3"
  },
  "language_info": {
   "codemirror_mode": {
    "name": "ipython",
    "version": 3
   },
   "file_extension": ".py",
   "mimetype": "text/x-python",
   "name": "python",
   "nbconvert_exporter": "python",
   "pygments_lexer": "ipython3",
   "version": "3.10.12"
  }
 },
 "nbformat": 4,
 "nbformat_minor": 5
}
