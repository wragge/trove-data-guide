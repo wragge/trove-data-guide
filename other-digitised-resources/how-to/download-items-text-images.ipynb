{
 "cells": [
  {
   "cell_type": "markdown",
   "id": "4f7d6fc4-44b7-475f-9a96-f30c8cf90fcb",
   "metadata": {
    "editable": true,
    "slideshow": {
     "slide_type": ""
    },
    "tags": []
   },
   "source": [
    "# HOW TO: Automate the download of digitised items as text, images, or PDFs"
   ]
  },
  {
   "cell_type": "markdown",
   "id": "3246b574-f415-449b-83aa-db28e7674b39",
   "metadata": {
    "editable": true,
    "slideshow": {
     "slide_type": ""
    },
    "tags": []
   },
   "source": [
    "You can download text, images, and PDFs from individual digitised items [using the Trove web interface](/accessing-data/using-web-interface.md). But only the text of periodical articles is available for machine access through the Trove API. This makes it difficult to assemble datasets, or build processing pipelines involving digitised resources. This page documents a series of work arounds that enable you to automate the download of digitised items as text, images, or PDFs.\n",
    "\n",
    "## Using Trove's download link\n",
    "\n",
    "When you click on the download button in the web interface, your browser fires off a request to Trove that looks like this:\n",
    "\n",
    "`https://nla.gov.au/nla.obj-[ID]/download?downloadOption=[FORMAT]&firstPage=[FIRST]&lastPage=[LAST]`\n",
    "\n",
    "- `[ID]` is the NLA identifier for the current item or collection, for example `nla.obj-3199043190`\n",
    "- `downloadOption` is the format of the download, it can be one of `ocr`, `pdf`, `zip` (for images), or `tif` (available with some maps)\n",
    "- `firstPage` and `lastPage` are numbers that define the range of items you want to download – ranges start at `0`, so if a book had fifty pages you'd set `firstPage` to `0` and `lastPage` to `49`.\n",
    "\n",
    "For example, the book [The pearling disaster, 1899 : a memorial](https://nla.gov.au/nla.obj-33685055/) is identified as `nla.obj-33685055` and has 102 'pages'. Pages in this context actually refers to the images in the digitised version, rather than the number of printed pages in the original work. This is because the digitised version will typically include images of book covers, and endpapers, as well as printed pages. Using this information we can construct a url to download all the OCRd text in the book, setting `lastPage` to `101` (102 - 1), because the numbering starts at `0`:\n",
    "\n",
    "<https://nla.gov.au/nla.obj-33685055/download?downloadOption=ocr&firstPage=0&lastPage=101>\n",
    "\n",
    "This method also works with collections of items that don't have numbered pages. For example, [B.A.N.Z. Antarctic Research Expedition photographs](https://nla.gov.au/nla.obj-141170265) is an album containing 151 photographs. To download them all in one PDF, you would construct the following url:\n",
    "\n",
    "<https://nla.gov.au/nla.obj-141170265/download?downloadOption=pdf&firstPage=0&lastPage=150>\n",
    "\n",
    "```{note}\n",
    "If you're downloading a collection of images you might notice that you get the first image twice. This is because the first image is used as a 'cover image' for the collection, as well as being a child of the collection. When you download, you get the collection container and it's contents, so the first image appears twice with different identifiers.\n",
    "```\n",
    "\n",
    "This method is consistent across most formats, so you can develop processes that construct urls like these from a list of NLA identifiers and download their contents automatically. But if you want to get the *complete* contents, you need some way of discovering the total number of pages or images to set the `lastPage` value. You can find this value embedded in the code of the web page, though it's location varies:\n",
    "\n",
    "- in books, periodicals, and other works with consecutive pages it's in a [block of embedded JSON metadata](extract-embedded-metadata.md)\n",
    "- in collections of images, maps, and manuscripts you need to look for `maxNumOfChildDownloads` variable in the page's Javascript\n",
    "\n",
    "<mark>==Code example==</mark>"
   ]
  },
  {
   "cell_type": "markdown",
   "id": "07f9b634-ef03-4632-a943-12083d8f1fbf",
   "metadata": {
    "editable": true,
    "jp-MarkdownHeadingCollapsed": true,
    "slideshow": {
     "slide_type": ""
    },
    "tags": []
   },
   "source": [
    "(download-high-res-images)=\n",
    "## Downloading high-resolution images individually\n",
    "\n",
    "````{margin}\n",
    "```{seealso}\n",
    "This method is used in a number of GLAM Workbench notebooks including [Harvest illustrations from periodicals](https://glam-workbench.net/trove-journals/harvest-illustrations-from-periodicals/) and [Download a collection of digitised images](https://glam-workbench.net/trove-images/download-image-collection/).\n",
    "```\n",
    "````\n",
    "\n",
    "The method described above has a couple of problems when it comes to downloading images. The first is that all the requested images are delivered in a single `zip` file. If you're requested images of all the pages in a book, this file could get very large. The second problem is that the built-in download link doesn't always provide images at the highest possible resolution.\n",
    "\n",
    "An alternative approach that avoids both of these problems is to construct a url for each individual page. All you need to do this is get the page identifier and tack `/image` on the end of the url.\n",
    "\n",
    "For example, this [cute picture of a penguin](http://nla.gov.au/nla.obj-141171324) has the identifier `http://nla.gov.au/nla.obj-141171324`. To download a high-resolution version, just add `/image`:\n",
    "\n",
    "<http://nla.gov.au/nla.obj-141171324/image>\n",
    "\n",
    "But how do you get the individual identifiers for all the pages in a book, or all the images in a collection? Once again, the methods vary by format:\n",
    "\n",
    "- in books, periodicals, and other works with consecutive pages it's in a [block of embedded JSON metadata](extract-embedded-metadata.md)\n",
    "- in collections of images, maps, and manuscripts you need to [extract the list of identifiers from the collection's pop-up browse screen](/other-digitised-resources/how-to/get-collection-items.md)\n",
    "\n",
    "Once you have a list of identifiers, you can loop through them, saving each image."
   ]
  },
  {
   "cell_type": "code",
   "execution_count": null,
   "id": "aed85fec-6830-4fa6-b581-2a42d8caa9ef",
   "metadata": {},
   "outputs": [],
   "source": []
  }
 ],
 "metadata": {
  "kernelspec": {
   "display_name": "Python 3 (ipykernel)",
   "language": "python",
   "name": "python3"
  },
  "language_info": {
   "codemirror_mode": {
    "name": "ipython",
    "version": 3
   },
   "file_extension": ".py",
   "mimetype": "text/x-python",
   "name": "python",
   "nbconvert_exporter": "python",
   "pygments_lexer": "ipython3",
   "version": "3.10.12"
  }
 },
 "nbformat": 4,
 "nbformat_minor": 5
}
