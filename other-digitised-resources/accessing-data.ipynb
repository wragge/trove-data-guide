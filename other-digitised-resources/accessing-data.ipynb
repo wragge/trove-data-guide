{
 "cells": [
  {
   "cell_type": "markdown",
   "id": "764efcee-514e-42b6-b05a-1f3c19855e75",
   "metadata": {
    "editable": true,
    "slideshow": {
     "slide_type": ""
    },
    "tags": []
   },
   "source": [
    "# Accessing data from digitised resources\n",
    "\n",
    "````{card}\n",
    "On this page\n",
    "\n",
    "```{contents}\n",
    ":local:\n",
    ":backlinks: None\n",
    "```\n",
    "````\n",
    "\n",
    "Trove's digitised resources are delivered in a number of different ways depending on their format and arrangement. See [](whatis:interfaces:digitised) and [](/accessing-data/using-web-interface) for hints on using digitised resources through Trove's web interface. \n",
    "\n",
    "Access to machine-readable data is even more complicated. The Trove API provides limited information about digitised resources, necessitating a variety of hacks and workarounds. Nonetheless, there are some methods of accessing data from digitised resources that work reliably across multiple formats. These are described below.\n",
    "\n",
    "For more specific information relating to particular formats see:\n",
    "\n",
    "- [Accessing data from oral histories](oral-histories/accessing-data.md)\n",
    "- [Accessing data from periodicals](periodicals/accessing-data.md)"
   ]
  },
  {
   "cell_type": "markdown",
   "id": "6d4b8a50-9332-440c-9a84-6dbe9f38b4ad",
   "metadata": {
    "editable": true,
    "slideshow": {
     "slide_type": ""
    },
    "tags": []
   },
   "source": [
    "## Metadata\n",
    "\n",
    "There are two main sources of machine-readable metadata that describe digitised resources:\n",
    "\n",
    "- work/version records delivered by the Trove API\n",
    "- JSON embedded in the digitised resource viewer\n",
    "\n",
    "### Work/version records delivered by the Trove API\n",
    "\n",
    "\n",
    "\n",
    "### JSON embedded in the digitised resource viewer"
   ]
  },
  {
   "cell_type": "markdown",
   "id": "7320b370-c1d7-46d2-afd7-e7761c64dcca",
   "metadata": {
    "editable": true,
    "slideshow": {
     "slide_type": ""
    },
    "tags": []
   },
   "source": [
    "## Collections\n",
    "\n",
    "````{margin}\n",
    "```{seealso}\n",
    "The GLAM Workbench notebook [Download a collection of digitised images](https://glam-workbench.net/trove-images/download-image-collection/) uses this method to find and download all the images in a collection or finding-aid.\n",
    "```\n",
    "````\n",
    "\n",
    "The NLA’s digitised resources are often presented as 'collections'. A collection could be the volumes in a multi-volume work, the issues of a periodical, a map series, an album of photographs, or a manuscript collection. While you can use the `magazine/title` API endpoint to get a list of issues from a periodical, there’s no way to get the contents of other types of collections from the Trove API.\n",
    "\n",
    "To get machine-readable information about the members of a digitised collection you need to extract information from the browse window of Trove's digitised collection viewer. This method is fully documented in [](how-to/get-collection-items)\n"
   ]
  },
  {
   "cell_type": "markdown",
   "id": "321d3c3f-a36b-4c49-a6ba-43023fdf3563",
   "metadata": {
    "editable": true,
    "slideshow": {
     "slide_type": ""
    },
    "tags": []
   },
   "source": [
    "## Text\n",
    "\n",
    "Digitised publications like books, pamphlets, and periodicals usually make their contents available as plain text, extracted from the digitised pages using Optical Character Recognition (OCR). The "
   ]
  },
  {
   "cell_type": "markdown",
   "id": "8f43b308-f6ff-4dd4-bf01-893d4c3b06ae",
   "metadata": {
    "editable": true,
    "slideshow": {
     "slide_type": ""
    },
    "tags": []
   },
   "source": [
    "## Images\n",
    "\n",
    "There are two main ways of downloading images from digitised resources:\n",
    "\n",
    "- Using Trove's download links\n",
    "- Constructing image urls using `nla.obj` identifiers\n",
    "\n",
    "### Using Trove's download links\n",
    "\n",
    "This method is described in [](how-to/download-items-text-images.md). It's best suited to downloading small groups of page images from books and periodicals.\n",
    "\n",
    "(digitised:data:image-urls)=\n",
    "\n",
    "### Constructing image urls using `nla.obj` identifiers\n",
    "\n",
    "This is the most flexible method for downloading digitised images, but you need to know the `nla.obj` identifier for the page or image you want to download. Once you have the identifier, it's just a matter of adding the appropriate suffix to construct a url that leads directly to the image file.\n",
    "\n",
    "The suffixes are:\n",
    "\n",
    "- `-t`: leads to a thumbnail version of the image (usually around 123px wide)\n",
    "- `/image`: leads to a higher-resolution JPEG version of the image (longest dimension is a maximum of 5000px)\n",
    "- `/representativeImage`: leads to an image which has been selected to represent a collection\n",
    "- `/m`: leads to a very high-resolution TIFF version of the image (only available for selected resources, mostly maps)\n",
    "\n",
    "There are additional parameters you can use with `/image` and `/representativeImage`, though I'm not sure how reliably they work:\n",
    "\n",
    "- `wid`: desired width in pixels\n",
    "- `hei`: desired height in pixels\n",
    "\n",
    "In most cases you'll probably want to use the `/image` suffix to get a JPEG version of the image at the highest available resolution. \n",
    "\n",
    "```{admonition} Image sizes\n",
    ":class: note\n",
    "The sizes of images downloaded using the `/image` suffix vary unpredictably. Sizes seem to range up to a maximum of 5000 pixels along the longest dimension, but some are much smaller, including many digitised photographs. However, images obtained this way are at the same, or higher, resolution than those available through Trove's built-in download option.\n",
    "```\n",
    "\n",
    "\n",
    "\n",
    "#### How do you know if a TIFF version is available?\n",
    "\n",
    "[embedded metadata](digitised:howto:embedded:images)"
   ]
  },
  {
   "cell_type": "code",
   "execution_count": null,
   "id": "37ed1f2a-5f02-423b-be0a-cf28c061a3f4",
   "metadata": {
    "editable": true,
    "slideshow": {
     "slide_type": ""
    },
    "tags": []
   },
   "outputs": [],
   "source": []
  }
 ],
 "metadata": {
  "kernelspec": {
   "display_name": "Python 3 (ipykernel)",
   "language": "python",
   "name": "python3"
  },
  "language_info": {
   "codemirror_mode": {
    "name": "ipython",
    "version": 3
   },
   "file_extension": ".py",
   "mimetype": "text/x-python",
   "name": "python",
   "nbconvert_exporter": "python",
   "pygments_lexer": "ipython3",
   "version": "3.10.12"
  }
 },
 "nbformat": 4,
 "nbformat_minor": 5
}
