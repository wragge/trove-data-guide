{
 "cells": [
  {
   "cell_type": "markdown",
   "id": "764efcee-514e-42b6-b05a-1f3c19855e75",
   "metadata": {
    "editable": true,
    "slideshow": {
     "slide_type": ""
    },
    "tags": []
   },
   "source": [
    "# Accessing data from digitised resources\n",
    "\n",
    "Trove's digitised resources are delivered in a number of different ways depending on their format and arrangement. However, there are some ways of accessing data that work across different formats. These are described below.\n",
    "\n",
    "For more specific information see:\n",
    "\n",
    "- [Accessing data from oral histories](oral-histories/accessing-data.md)\n",
    "- [Accessing data from periodicals](periodicals/accessing-data.md)"
   ]
  },
  {
   "cell_type": "markdown",
   "id": "6d4b8a50-9332-440c-9a84-6dbe9f38b4ad",
   "metadata": {
    "editable": true,
    "slideshow": {
     "slide_type": ""
    },
    "tags": []
   },
   "source": [
    "## Metadata\n",
    "\n",
    "There are two main sources of machine-readable metadata that describe digitised resources:\n",
    "\n",
    "- work/version records delivered by the Trove API\n",
    "- JSON embedded in the digitised resource viewer\n",
    "\n",
    "### Work/version records delivered by the Trove API\n",
    "\n",
    "### JSON embedded in the digitised resource viewer"
   ]
  },
  {
   "cell_type": "markdown",
   "id": "7320b370-c1d7-46d2-afd7-e7761c64dcca",
   "metadata": {
    "editable": true,
    "slideshow": {
     "slide_type": ""
    },
    "tags": []
   },
   "source": [
    "## Collections"
   ]
  },
  {
   "cell_type": "markdown",
   "id": "321d3c3f-a36b-4c49-a6ba-43023fdf3563",
   "metadata": {
    "editable": true,
    "slideshow": {
     "slide_type": ""
    },
    "tags": []
   },
   "source": [
    "## Text"
   ]
  },
  {
   "cell_type": "markdown",
   "id": "8f43b308-f6ff-4dd4-bf01-893d4c3b06ae",
   "metadata": {
    "editable": true,
    "slideshow": {
     "slide_type": ""
    },
    "tags": []
   },
   "source": [
    "## Images\n",
    "\n",
    "There are two main ways of downloading images from digitised resources:\n",
    "\n",
    "- Using Trove's download links\n",
    "- Constructing image urls using `nla.obj` identifiers\n",
    "\n",
    "### Using Trove's download links\n",
    "\n",
    "This method is described in [](how-to/download-items-text-images.md). It's best suited to downloading small groups of page images from books and periodicals.\n",
    "\n",
    "(digitised:data:image-urls)=\n",
    "### Constructing image urls using `nla.obj` identifiers\n",
    "\n",
    "This is the most flexible method for downloading digitised images, but you need to know the `nla.obj` identifier for the page or image you want to download. Once you have the identifier, it's just a matter of adding the appropriate suffix to construct a url that leads directly to the image file.\n",
    "\n",
    "The suffixes are:\n",
    "\n",
    "- `-t`: leads to a thumbnail version of the image (usually around 123px wide)\n",
    "- `/image`: leads to a higher-resolution JPEG version of the image (longest dimension is a maximum of 5000px)\n",
    "- `/representativeImage`: leads to an image which has been selected to represent a collection\n",
    "- `/m`: leads to a very high-resolution TIFF version of the image (only available for selected resources, mostly maps)\n",
    "\n",
    "There are additional parameters you can use with `/image` and `/representativeImage`, though I'm not sure how reliably they work:\n",
    "\n",
    "- `wid`: desired width in pixels\n",
    "- `hei`: desired height in pixels\n",
    "\n",
    "In most cases you'll probably want to use the `/image` suffix to get a JPEG version of the image at the highest available resolution. \n",
    "\n",
    "```{admonition} Image sizes\n",
    ":class: note\n",
    "The sizes of images downloaded using the `/image` suffix vary unpredictably. Sizes seem to range up to a maximum of 5000 pixels along the longest dimension, but some are much smaller, including many digitised photographs. However, images obtained this way are at the same, or higher, resolution than those available through Trove's built-in download option.\n",
    "```\n",
    "\n",
    "#### Examples\n",
    "\n",
    "This photograph of some angry penguins on Heard Island has the identifier `nla.obj-147135602`.\n",
    "\n",
    "```{figure} /images/nla.obj-141171021.jpg\n",
    ":width: 600px\n",
    "\n",
    "Two Rockhopper Penguins and a predatory Skua, Heard Island, Antarctica, ca. 1930 (by Frank Hurley) [http://nla.gov.au/nla.obj-141171021](http://nla.gov.au/nla.obj-141171021)\n",
    "```\n",
    "\n",
    "|  |  |\n",
    "|-------------|-----|\n",
    "|The persistent url is created by adding `http://nla.gov.au/` to the identifier|<http://nla.gov.au/nla.obj-141171021>|\n",
    "|To view the photograph in Trove's digitised image viewer, you just add `view` to the persistent url (this is where the persistent url redirects to anyway)|<http://nla.gov.au/nla.obj-141171021/view>|\n",
    "|To access a thumbnail version of the image, you add `-t` to the persistent url|<http://nla.gov.au/nla.obj-141171021-t>|\n",
    "|To access a high-resolution version of the image, you add `/image` to the persistent url|<http://nla.gov.au/nla.obj-141171021/image>|\n",
    "|To access a version of the image that is 1000 pixels wide, you add `/image?wid=1000` to the persistent url|<http://nla.gov.au/nla.obj-141171021/image?wid=1000>|\n",
    "\n",
    "This works the same way with pages in books and periodicals, however, the urls are a bit more complicated. For example, this page in *The Home* also features a photo of penguins by Frank Hurley. The page's identifier is `nla.obj-387326197`.\n",
    "\n",
    "```{figure} /images/nla.obj-387326197.jpg\n",
    ":width: 600px\n",
    "\n",
    "'Penguin pageant' by Frank Hurley, *The Home*, vol. 20, no. 1, January 1940, p. 44 [http://nla.gov.au/nla.obj-387326197](http://nla.gov.au/nla.obj-387326197)\n",
    "```\n",
    "|  |  |\n",
    "|-------------|-----|\n",
    "|The persistent url is created by adding `http://nla.gov.au/` to the identifier|<http://nla.gov.au/nla.obj-387326197>|\n",
    "|If you access the page's persistent url you are redirected to the issue, with the page identifier included as a `partId` parameter|<https://nla.gov.au/nla.obj-387284380/view?partId=nla.obj-387326197>|\n",
    "|To access a thumbnail version of the page image, you add `-t` to the persistent url|<http://nla.gov.au/nla.obj-387326197-t>|\n",
    "|To access a high-resolution version of the page image, you add `/image` to the persistent url|<http://nla.gov.au/nla.obj-387326197/image>|\n",
    "|To access a version of the image that is 500 pixels high, you add `/image?hei=500` to the persistent url|<http://nla.gov.au/nla.obj-387326197/image?hei=500>|\n",
    "\n",
    "#### How do you get `nla.obj` identifiers for pages or images?\n",
    "\n",
    "- from the **Cite** tab\n",
    "- from the digitised viewer's url\n",
    "- from the browse screens of a digitised collection\n",
    "- from embedded metadata\n",
    "\n",
    "#### How do you know if a TIFF version is available?\n",
    "\n",
    "[embedded metadata](digitised:howto:embedded:images)"
   ]
  },
  {
   "cell_type": "code",
   "execution_count": null,
   "id": "37ed1f2a-5f02-423b-be0a-cf28c061a3f4",
   "metadata": {
    "editable": true,
    "slideshow": {
     "slide_type": ""
    },
    "tags": []
   },
   "outputs": [],
   "source": []
  }
 ],
 "metadata": {
  "kernelspec": {
   "display_name": "Python 3 (ipykernel)",
   "language": "python",
   "name": "python3"
  },
  "language_info": {
   "codemirror_mode": {
    "name": "ipython",
    "version": 3
   },
   "file_extension": ".py",
   "mimetype": "text/x-python",
   "name": "python",
   "nbconvert_exporter": "python",
   "pygments_lexer": "ipython3",
   "version": "3.10.12"
  }
 },
 "nbformat": 4,
 "nbformat_minor": 5
}
