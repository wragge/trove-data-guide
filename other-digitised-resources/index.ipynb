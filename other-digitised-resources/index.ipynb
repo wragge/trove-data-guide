{
 "cells": [
  {
   "cell_type": "markdown",
   "id": "3cfad875-d7bd-40c8-bb96-1ec2ea44b34c",
   "metadata": {
    "editable": true,
    "slideshow": {
     "slide_type": ""
    },
    "tags": []
   },
   "source": [
    "# Understanding and using digitised resources"
   ]
  },
  {
   "cell_type": "markdown",
   "id": "003a9577-60eb-4a21-9888-74ba19579197",
   "metadata": {},
   "source": [
    "````{card} On this page\n",
    "This section describes how to access data from resources (other than newspapers and gazettes) that have been digitised by the NLA and partners and delivered through Trove. This includes things likes books, periodicals, photographs, maps, oral histories, and manuscript collections.\n",
    "\n",
    "```{contents}\n",
    ":local:\n",
    "```\n",
    "````\n",
    "\n",
    "## Finding digitised resources\n",
    "\n",
    "These resources are spread across multiple categories and mixed with records aggregated from other collections. This makes finding NLA digitised items quite challenging. The one exception to this is periodical articles, which have their own *Magazines & Newsletters* category.\n",
    "\n",
    "Digitised resources can be found in the following categories:\n",
    "\n",
    "- Books & Libraries (eg books and ephemera)\n",
    "- Magazines & Newsletters (periodical articles)\n",
    "- Images, Maps & Artefacts (eg photographs and maps)\n",
    "- Research & Reports (eg government reports)\n",
    "- Diaries, Letters & Archives (eg manuscript collections)\n",
    "- Music, Audio & Video (eg sheet music and oral histories)\n",
    "\n",
    "````{margin}\n",
    "```{figure} /images/nla.obj-2383582349-1.jpg\n",
    ":name: broadside-example\n",
    "\n",
    "Is this a book? Example of a digitised broadside found in the *Books & Libraries* category. (<http://nla.gov.au/nla.obj-2383582349>)\n",
    "```\n",
    "````\n",
    "\n",
    "As described in [](/understanding-search/finding-digitised-content.md) the most reliable method of finding digitised items within a category is to search for \"nla.obj\" and then apply additional facets as required.\n",
    "\n",
    "However, the metadata describing digitised items is not always accurate or consistent. For example, the *Books & Libraries* category contains a large amount of digitised emphemera, such as pamphlets and posters. This material is in the *Books & Libraries* category because the `type` of these works has been set as `Book`, even though other formats might have been more appropriate. For example, there are more than a thousand [\"broadsides\"](https://trove.nla.gov.au/search/category/books?keyword=%22nla.obj%22%20broadsides&l-format=Book) (or posters) found in the *Books & Libraries* category. Similar sorts of digitised works can also be found in the *Images, Maps & Artefacts* category, where their `type` has been set as `Poster, chart, other`. This means that searching for digitised items can require a certain amount of exploration and iteration, as you learn more about the way they've been described and arranged.\n",
    "\n",
    "Sometimes the digitised resources you find are not individual items, but *collections* of digitised items – books can have multiple volumes, maps can be arranged in series, and photographs can be digitised as albums. Search results can include records for a collection as well the individual items within that collection. For example, this record describes an [album of photographs from the B.A.N.Z. Antarctic Research Expedition](https://trove.nla.gov.au/work/30068558). But there are separate records for each individual photograph, such as this [cute penguin and baby](https://trove.nla.gov.au/work/22456751). There's no search option that lets you distinguish between a collection and its contents. \n",
    "\n",
    "The arrangement of items and collections is most complex in the *Diaries, Letters & Archives* category where hierarchical finding aids have been flattened out to aid discovery of their digitised contents. Collections there can contain a confusing mix of items and nested collections.\n",
    "\n",
    "Once you've found a digitised item or collection, Trove provides a link to access the resource in one of a number of different 'viewers'. While these viewers share many characteristics, there can be differences in the way you navigate and download resources. This, in turn, affects your ability to access the underlying data.\n",
    "\n",
    "<!---\n",
    "\n",
    "This complex mix of categories, formats, and viewers makes it difficult to organise information about how to access data from digitised resources. To make it easier to understand all the differences and similarities, this section creates yet another grouping of resources!\n",
    "\n",
    "- Books, pamphlets, and print music \n",
    "- Periodicals\n",
    "- Government publications\n",
    "- Posters and ephemera\n",
    "- Photographs\n",
    "- Maps\n",
    "- Oral histories\n",
    "- Manuscripts\n",
    "\n",
    "<mark>==Need to mention the different uses of `type` and `format` in UI and API==</mark>\n",
    "--->"
   ]
  }
 ],
 "metadata": {
  "kernelspec": {
   "display_name": "Python 3 (ipykernel)",
   "language": "python",
   "name": "python3"
  },
  "language_info": {
   "codemirror_mode": {
    "name": "ipython",
    "version": 3
   },
   "file_extension": ".py",
   "mimetype": "text/x-python",
   "name": "python",
   "nbconvert_exporter": "python",
   "pygments_lexer": "ipython3",
   "version": "3.8.12"
  }
 },
 "nbformat": 4,
 "nbformat_minor": 5
}
