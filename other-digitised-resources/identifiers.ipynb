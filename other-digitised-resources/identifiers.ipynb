{
 "cells": [
  {
   "cell_type": "markdown",
   "id": "bd67ae70-8956-49b9-a24b-4d47a3bcb51c",
   "metadata": {},
   "source": [
    "# Digital object identifiers\n",
    "\n",
    "The complexities of Trove's digital object identifer scheme are introduced in [](/what-is-trove/links-and-identifiers). The main issue confronting users is that identifiers for different types of digital objects – such as books, pages, issues, articles, photographs, and collections – all look the same. This is important because the digital identifier provides a key to unlock an object's metadata and digital representations. **To access data about digitised resources in Trove you need to understand how the identifiers work.**\n",
    "\n",
    "## Recognising digital object identifiers\n",
    "\n",
    "Digital object identifiers are a url with the form: `https://nla.gov.au/nla.obj-[NUMBER]`\n",
    "\n",
    "For example: <http://nla.gov.au/nla.obj-141171021> identifies a photograph of two angry rockhopper penguins. \n",
    "\n",
    "The actual identifier part is the `nla.obj-141171021`. The `nla.obj` tells you identifier scheme being using, and `141171021` points to an object uniquely identified within this scheme. Sometimes when I talk about identifiers I mean the `nla.obj-141171021` part rather than the whole url.\n",
    "\n",
    "## Where do the urls go?\n",
    "\n",
    "When you plug a digital object identifier into your browser you're taken to one of Trove's digital object viewers.\n",
    "\n",
    "## Parts and wholes\n",
    "\n",
    "## Collections and items\n",
    "\n",
    "## Page identifiers \n",
    "\n",
    "## Data access methods"
   ]
  },
  {
   "cell_type": "markdown",
   "id": "089343c8-e17d-48a9-a640-a43fa0ee3544",
   "metadata": {},
   "source": [
    "Digitsed versus born digital"
   ]
  },
  {
   "cell_type": "markdown",
   "id": "d59802f2-d48a-429b-bf26-2e8abdb76c6c",
   "metadata": {},
   "source": [
    "Print publications (book or periodical issue) -- get page identifiers, get section/article identifiers, get text, get pdf, get images (all or page range)"
   ]
  },
  {
   "cell_type": "markdown",
   "id": "f3a50aea-acc8-439c-abe8-0f1bf49c4c13",
   "metadata": {},
   "source": [
    "| object type | identifier can be used to access | but you also need |\n",
    "|-------------|----------------------------------|-------------|\n",
    "| **print publications (book or periodical issue)** | get OCRd text from a range of pages | |\n",
    "| | get OCRd text from the complete publication | the total number of pages |\n",
    "| | "
   ]
  },
  {
   "cell_type": "code",
   "execution_count": null,
   "id": "1ca09ecf-6aef-4333-b7cb-b6ba49c6dfc5",
   "metadata": {},
   "outputs": [],
   "source": []
  }
 ],
 "metadata": {
  "kernelspec": {
   "display_name": "Python 3 (ipykernel)",
   "language": "python",
   "name": "python3"
  },
  "language_info": {
   "codemirror_mode": {
    "name": "ipython",
    "version": 3
   },
   "file_extension": ".py",
   "mimetype": "text/x-python",
   "name": "python",
   "nbconvert_exporter": "python",
   "pygments_lexer": "ipython3",
   "version": "3.10.12"
  }
 },
 "nbformat": 4,
 "nbformat_minor": 5
}
