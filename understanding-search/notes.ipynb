{
 "cells": [
  {
   "cell_type": "markdown",
   "id": "adff45d2-af51-440a-86e0-3f6aea78d47b",
   "metadata": {
    "editable": true,
    "slideshow": {
     "slide_type": ""
    },
    "tags": []
   },
   "source": [
    "## Understanding search\n",
    "\n"
   ]
  },
  {
   "cell_type": "markdown",
   "id": "ceb018df-7aad-45c8-9b75-cf762d3ffbaa",
   "metadata": {},
   "source": [
    "## Asking critical questions"
   ]
  },
  {
   "cell_type": "markdown",
   "id": "a2aa8668-d09f-4531-a6bc-5447ce79a0aa",
   "metadata": {},
   "source": [
    "Focus here is on the 'simple search' option as the parameters are much the same between the web interface and API, and it's possible to replcate all 'Advanced' search options.\n",
    "\n",
    "Topics:\n",
    "\n",
    "- Discovery versus analysis – need to recognise that the aim of the search indexing is to present the user with items that *could be* of relevance, but this fuzziness might limit the usefulness of search results for analysis. Eg: user-added tags and comments are searched by default. Examine relevance ranking.\n",
    "- 'Simple' search and beyond – all the basics, adjusting the fuzziness of text searches, stemming, boolean operators, indexes etc\n",
    "- Using facets\n",
    "- Date searching – might be worth a separate section as there are a few complexities and different ways of achieving the same result\n",
    "- What are you searching? – leads on to next section on contexts and collections"
   ]
  },
  {
   "cell_type": "markdown",
   "id": "84d57da7-beb8-4b87-bd4b-04c08a20dbbd",
   "metadata": {},
   "source": [
    "Search is such a fundamental part of our online lives, we don’t really think about it much. We just type words into the box, click enter, and start wading through the results. But search indexes have biases, they embed politics. They make assumptions about who we are and what we want. This is as true of Trove as any search tool.\n",
    "\n",
    "Doesn’t tell us what’s not there\n",
    "\n",
    "Implications for researchers — reading meaning into results. What does it mean if nothing’s there? Examples. Not digitised. Not preserved. In copyright?\n",
    "\n",
    "Trove is not good at telling you what’s missing.\n",
    "\n",
    "Working with data — index tuned for discovery rather than analysis. Examples.\n",
    "\n",
    "Methodology\n",
    "\n",
    "Technical — knowing the options\n",
    "Creative and strategic — solving the puzzle\n",
    "Critical — asking why, looking underneath — difficult, might need lots of data. TDG and GW to help.\n",
    "Search as a research methodology. Document and share strategies.\n",
    "\n",
    "What’s missing?\n",
    "Missing newspaper pages\n",
    "Which manuscripts are searchable\n",
    "Which collections are searchable\n",
    "Digitisation policies\n",
    "Copyright\n",
    "Digitised objects\n",
    "Issues\n",
    "Relevance ranking\n",
    "Categories\n",
    "Works and versions\n",
    "Duplicates\n",
    "Collections\n",
    "Fulltext\n",
    "Tags and comments"
   ]
  },
  {
   "cell_type": "markdown",
   "id": "11117f75-a0bb-44ec-9849-5feac776f275",
   "metadata": {
    "editable": true,
    "slideshow": {
     "slide_type": ""
    },
    "tags": []
   },
   "source": [
    "(search-indexes-firstpageseq)=\n",
    "## Searching for articles on a specific page"
   ]
  },
  {
   "cell_type": "markdown",
   "id": "48cb518c-0924-401a-b8bd-42ed6454a49e",
   "metadata": {
    "editable": true,
    "slideshow": {
     "slide_type": ""
    },
    "tags": []
   },
   "source": [
    "You can use the `firstpageseq` index to search for articles published on a particular page. For example, include `firstpageseq:1` in your query to find articles on page one. This works in both the web interface's simple search box and the `q` value of the API.\n",
    "\n",
    "[![Try it!](https://troveconsole.herokuapp.com/static/img/try-trove-api-console.svg)](https://troveconsole.herokuapp.com/v3/?url=https%3A//api.trove.nla.gov.au/v3/result%3Fq%3Dfirstpageseq%3A1%26category%3Dnewspaper%26encoding%3Djson&comment=)\n",
    "\n",
    "```{warning}\n",
    "Some newspapers include supplements that have their own independent pagination. This means, for example, that an issue could contain multiple pages numbered `1`. The `firstpageseq` index searches *both* the main body of the newspaper *and* any supplements, so the results could include articles published on more than one page within an issue. There's no way of searching just in the main body or in supplements, but you can filter the results after you've retrieved them from the API. Article results include fields labelled `page` and `pageSequence`. The `page` field contains just numbers, but if the page comes from a supplement, the `pageSequence` field will include an `S` after the number. You can use this to keep or discard articles from supplements. [](get-page-identifier-from-search) provides an example of filtering results using the `pageSequence` value.\n",
    "```"
   ]
  }
 ],
 "metadata": {
  "kernelspec": {
   "display_name": "Python 3 (ipykernel)",
   "language": "python",
   "name": "python3"
  },
  "language_info": {
   "codemirror_mode": {
    "name": "ipython",
    "version": 3
   },
   "file_extension": ".py",
   "mimetype": "text/x-python",
   "name": "python",
   "nbconvert_exporter": "python",
   "pygments_lexer": "ipython3",
   "version": "3.8.12"
  }
 },
 "nbformat": 4,
 "nbformat_minor": 5
}
