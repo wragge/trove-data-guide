{
 "cells": [
  {
   "cell_type": "markdown",
   "id": "25171640-8183-40c9-90f7-aab471749dcd",
   "metadata": {
    "editable": true,
    "slideshow": {
     "slide_type": ""
    },
    "tags": []
   },
   "source": [
    "# Discovery versus analysis"
   ]
  },
  {
   "cell_type": "markdown",
   "id": "bfa5f812-5caa-4e99-ae34-eee467db2b88",
   "metadata": {},
   "source": [
    "Need to recognise that the aim of the search indexing is to present the user with items that *could be* of relevance, but this fuzziness might limit the usefulness of search results for analysis. Eg: user-added tags and comments are searched by default. Examine relevance ranking."
   ]
  },
  {
   "cell_type": "markdown",
   "id": "4293480a-7201-43b3-a111-18b0ead00edb",
   "metadata": {},
   "source": [
    "Some notes on relevance from solr docs: <https://solr.apache.org/guide/solr/latest/deployment-guide/solrcloud-distributed-requests.html#distributedidf>"
   ]
  },
  {
   "cell_type": "code",
   "execution_count": null,
   "id": "b6ed56b5-bd93-4d3b-b88f-bb6fc2418fc5",
   "metadata": {},
   "outputs": [],
   "source": []
  }
 ],
 "metadata": {
  "kernelspec": {
   "display_name": "Python 3 (ipykernel)",
   "language": "python",
   "name": "python3"
  },
  "language_info": {
   "codemirror_mode": {
    "name": "ipython",
    "version": 3
   },
   "file_extension": ".py",
   "mimetype": "text/x-python",
   "name": "python",
   "nbconvert_exporter": "python",
   "pygments_lexer": "ipython3",
   "version": "3.10.12"
  }
 },
 "nbformat": 4,
 "nbformat_minor": 5
}
