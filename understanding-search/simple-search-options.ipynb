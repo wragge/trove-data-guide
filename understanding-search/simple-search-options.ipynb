{
 "cells": [
  {
   "cell_type": "markdown",
   "id": "8811922a-d04d-41a5-89fa-dcef3835dbc8",
   "metadata": {},
   "source": [
    "# 'Simple' search options"
   ]
  },
  {
   "cell_type": "code",
   "execution_count": 7,
   "id": "df54af5b-8172-41d6-a613-62b3f8015bd6",
   "metadata": {
    "editable": true,
    "slideshow": {
     "slide_type": ""
    },
    "tags": [
     "remove-cell"
    ]
   },
   "outputs": [
    {
     "data": {
      "text/plain": [
       "True"
      ]
     },
     "execution_count": 7,
     "metadata": {},
     "output_type": "execute_result"
    }
   ],
   "source": [
    "import requests\n",
    "import pandas as pd\n",
    "import os\n",
    "from myst_nb import glue\n",
    "from dotenv import load_dotenv\n",
    "\n",
    "load_dotenv()"
   ]
  },
  {
   "cell_type": "code",
   "execution_count": 2,
   "id": "a767ad82-a57f-4fe8-9651-9ed26b022aad",
   "metadata": {
    "editable": true,
    "slideshow": {
     "slide_type": ""
    },
    "tags": [
     "remove-cell"
    ]
   },
   "outputs": [],
   "source": [
    "YOUR_API_KEY = os.getenv(\"TROVE_API_KEY\")"
   ]
  },
  {
   "cell_type": "markdown",
   "id": "62f8f7f6-8aa1-44ae-ad35-dcb7678ae451",
   "metadata": {},
   "source": [
    "```{attention}\n",
    "This guide is currently under development. For more information and discussion see [the list of issues](https://github.com/wragge/trove-data-guide/issues) on GitHub. Comments are welcome.\n",
    "```"
   ]
  },
  {
   "cell_type": "markdown",
   "id": "b755db3b-be8c-42ad-9601-b25f6a2b00a7",
   "metadata": {},
   "source": [
    "<mark>==Include a note about `firstpageseq` and the fact that this will match pages from supplements as well. So supplements need to be filtered out after harvesting. Also note that not all issues start with page 1.==</mark>"
   ]
  },
  {
   "cell_type": "markdown",
   "id": "5d18586b-0741-4568-87dc-2b184160fb4b",
   "metadata": {},
   "source": [
    "## Simple search isn't!"
   ]
  },
  {
   "cell_type": "markdown",
   "id": "bd4e3dc0-43be-49fb-9f2e-d70a9e73ee15",
   "metadata": {},
   "source": [
    "## Constructing queries\n",
    "\n",
    "Just point to docs\n",
    "\n",
    "## De-fuzzify\n",
    "\n",
    "\n",
    "\n"
   ]
  },
  {
   "cell_type": "code",
   "execution_count": 8,
   "id": "c116c25d-ed43-4b53-bfd2-3d13da86959e",
   "metadata": {},
   "outputs": [
    {
     "data": {
      "text/plain": [
       "48724546"
      ]
     },
     "metadata": {
      "scrapbook": {
       "mime_prefix": "",
       "name": "q_or"
      }
     },
     "output_type": "display_data"
    }
   ],
   "source": [
    "import requests\n",
    "\n",
    "\n",
    "\n",
    "def get_total(query):\n",
    "    params = {\n",
    "        \"q\": query,\n",
    "        \"category\": \"newspaper\",\n",
    "        \"encoding\": \"json\",\n",
    "        \"n\": 0\n",
    "    }\n",
    "    headers = {\"X-API-KEY\": YOUR_API_KEY}\n",
    "    response = response = requests.get(\n",
    "            \"https://api.trove.nla.gov.au/v3/result\", params=params, headers=headers\n",
    "        )\n",
    "    data = response.json()\n",
    "    return data[\"category\"][0][\"records\"][\"total\"]\n",
    "\n",
    "glue(\"wq\", get_total(\"hobart\"))\n",
    "glue(\"wq_wild\", get_total(\"hobart*\"))\n",
    "glue(\"wq_text\", get_total(\"text:hobart\"))\n",
    "glue(\"wq_title\", get_total(\"title:hobart\"))\n",
    "\n",
    "glue(\"q_or\", get_total('white OR australia'))\n",
    "glue(\"q_and\", get_total('white australia'))\n",
    "glue(\"q_phrase\", get_total('\"white australia\"'))\n",
    "glue(\"q_text\", get_total('text:\"white australia\"'))\n",
    "glue(\"q_zero\", get_total('\"white australia\"'))\n",
    "glue(\"q_text_zero\", get_total('text:\"white australia\"~0'))"
   ]
  },
  {
   "cell_type": "markdown",
   "id": "10b2d73e-dc59-49e3-91e0-8f0b7dea3469",
   "metadata": {},
   "source": [
    "```{list-table} De-fuzzify newspaper keyword searches\n",
    ":header-rows: 1\n",
    ":name: table-defuzzify-keyword\n",
    "* - Query\n",
    "  - Results\n",
    "  - Explanation\n",
    "* - `hobart`\n",
    "  - {glue:text}`wq:,`\n",
    "  - Searches article text, tags & comments (some fuzziness, terms are stemmed)\n",
    "* - `hobart*`\n",
    "  - {glue:text}`wq_wild:,`\n",
    "  - Searches article text, tags & comments (more fuzziness, wildcard matches zero or more characters)\n",
    "* - `\"text:hobart\"`\n",
    "  - {glue:text}`wq_text:,`\n",
    "  - Searches article text only (exact match, ignores tags & comments)\n",
    "* - `\"title:hobart\"`\n",
    "  - {glue:text}`wq_title:,`\n",
    "  - Searches headlines only\n",
    "\n",
    "```\n",
    "\n",
    "```{list-table} De-fuzzify newspaper phrase searches\n",
    ":header-rows: 1\n",
    ":name: table-defuzzify-phrases\n",
    "* - Query\n",
    "  - Results\n",
    "  - Explanation\n",
    "* - `white OR australia`\n",
    "  - {glue:text}`q_or:,`\n",
    "  - \n",
    "* - `white australia`\n",
    "  - {glue:text}`q_and:,`\n",
    "  - Same as white AND australia\n",
    "* - `\"white australia\"`\n",
    "  - {glue:text}`q_phrase:,`\n",
    "  - Search for phrase (with stemming)\n",
    "* - `text:\"white australia\"`\n",
    "  - {glue:text}`q_text:,`\n",
    "  - Search for phrase (no stemming & ignores tags/comments)\n",
    "* - `\"white australia\"~0`\n",
    "  - {glue:text}`q_zero:,`\n",
    "  - Search for phrase (with stemming, no extra words)\n",
    "* - `text:\"white australia\"~0`\n",
    "  - {glue:text}`q_text_zero:,`\n",
    "  - Search for exact phrase (no extra words, no stemming, ignore tags/comments)\n",
    "\n",
    "```"
   ]
  },
  {
   "cell_type": "markdown",
   "id": "b19aee47-b0f7-4ce9-81f5-68914cd8fa5c",
   "metadata": {},
   "source": [
    "## Using indexes\n",
    "\n",
    "Can use NOT (eg with formats)\n",
    "\n",
    "## Using facets"
   ]
  },
  {
   "cell_type": "markdown",
   "id": "382a8554-33ad-4423-b59f-507557563e26",
   "metadata": {},
   "source": [
    "## Available indexes\n",
    "\n",
    "```{list-table} Available search indexes\n",
    ":header-rows: 1\n",
    ":name: table-available-search indexes\n",
    "* - Index\n",
    "  - Description\n",
    "  - Example\n",
    "  - Notes\n",
    "* - `date`\n",
    "  - Search for articles within a given date range\n",
    "  - Example\n",
    "  - Notes\n",
    "* - `firstpageseq`\n",
    "  - Search for a specific page number\n",
    "  - `firstpageseq:2` – find articles published on page two\n",
    "  - Results combine newspaper body and separately-numbered supplements, so searches can return articles from multiple pages\n",
    "```\n",
    "\n",
    "Note that `fullTextInd` can be misleading and inaccurate -- doesn't always link to fulltext version, text not always available. Can be restricted (eg NED publications) or from a contributor where fulltext links are sometimes wrong. Need to combine with something like \"nla.obj\", and exclude NED, to find digitised resources reliably.\n",
    "\n",
    "<mark>==`series:`? Seems to work. Is it different to `contribcollection`?==</mark>\n",
    "\n",
    "Difference between `format:Book` and `l-format=Book`. Index search seems to search within the format value -- so `Book` matches `Book chapter`?\n",
    "\n",
    "Note differences in using \"\" and () in index/field queries"
   ]
  },
  {
   "cell_type": "markdown",
   "id": "11117f75-a0bb-44ec-9849-5feac776f275",
   "metadata": {},
   "source": [
    "(search-indexes-firstpageseq)=\n",
    "## Searching for articles on a specific page"
   ]
  },
  {
   "cell_type": "markdown",
   "id": "48cb518c-0924-401a-b8bd-42ed6454a49e",
   "metadata": {},
   "source": [
    "You can use the `firstpageseq` index to search for articles published on a particular page. For example, include `firstpageseq:1` in your query to find articles on page one. This works in both the web interface's simple search box and the `q` value of the API.\n",
    "\n",
    "[![Try it!](https://troveconsole.herokuapp.com/static/img/try-trove-api-console.svg)](https://troveconsole.herokuapp.com/v3/?url=https%3A//api.trove.nla.gov.au/v3/result%3Fq%3Dfirstpageseq%3A1%26category%3Dnewspaper%26encoding%3Djson&comment=)\n",
    "\n",
    "```{warning}\n",
    "Some newspapers include supplements that have their own independent pagination. This means, for example, that an issue could contain multiple pages numbered `1`. The `firstpageseq` index searches *both* the main body of the newspaper *and* any supplements, so the results could include articles published on more than one page within an issue. There's no way of searching just in the main body or in supplements, but you can filter the results after you've retrieved them from the API. Article results include fields labelled `page` and `pageSequence`. The `page` field contains just numbers, but if the page comes from a supplement, the `pageSequence` field will include an `S` after the number. You can use this to keep or discard articles from supplements. [](get-page-identifier-from-search) provides an example of filtering results using the `pageSequence` value.\n",
    "```"
   ]
  },
  {
   "cell_type": "markdown",
   "id": "8bc08559-0a66-49b2-b7b1-13ac7c6ade80",
   "metadata": {},
   "source": [
    "## Searching for articles within a given date range"
   ]
  },
  {
   "cell_type": "code",
   "execution_count": null,
   "id": "b9e383fd-45c2-49bf-8b5e-8cab555124a1",
   "metadata": {},
   "outputs": [],
   "source": []
  }
 ],
 "metadata": {
  "kernelspec": {
   "display_name": "Python 3 (ipykernel)",
   "language": "python",
   "name": "python3"
  },
  "language_info": {
   "codemirror_mode": {
    "name": "ipython",
    "version": 3
   },
   "file_extension": ".py",
   "mimetype": "text/x-python",
   "name": "python",
   "nbconvert_exporter": "python",
   "pygments_lexer": "ipython3",
   "version": "3.8.12"
  }
 },
 "nbformat": 4,
 "nbformat_minor": 5
}
