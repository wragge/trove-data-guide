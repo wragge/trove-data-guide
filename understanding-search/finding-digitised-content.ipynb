{
 "cells": [
  {
   "cell_type": "markdown",
   "id": "25891f58-f3ac-4c78-9e67-848dddd3a4e7",
   "metadata": {
    "editable": true,
    "slideshow": {
     "slide_type": ""
    },
    "tags": []
   },
   "source": [
    "# Finding NLA digitised content you can download"
   ]
  },
  {
   "cell_type": "markdown",
   "id": "530577be-6930-42e3-9c93-3cfcb0c8a48d",
   "metadata": {
    "editable": true,
    "slideshow": {
     "slide_type": ""
    },
    "tags": []
   },
   "source": [
    "````{card} On this page\n",
    "\n",
    "```{contents}\n",
    ":local:\n",
    "```\n",
    "````"
   ]
  },
  {
   "cell_type": "code",
   "execution_count": 1,
   "id": "d40bc442-3a39-4945-a7df-7099fd0e6ef8",
   "metadata": {
    "editable": true,
    "slideshow": {
     "slide_type": ""
    },
    "tags": [
     "remove-cell"
    ]
   },
   "outputs": [],
   "source": [
    "import os\n",
    "from datetime import datetime\n",
    "\n",
    "import pandas as pd\n",
    "import requests\n",
    "from dotenv import load_dotenv\n",
    "from myst_nb import glue\n",
    "\n",
    "load_dotenv()\n",
    "YOUR_API_KEY = os.getenv(\"TROVE_API_KEY\")"
   ]
  },
  {
   "cell_type": "code",
   "execution_count": 2,
   "id": "70d132d9-0af2-4c87-b8fe-3ce59faac988",
   "metadata": {
    "editable": true,
    "slideshow": {
     "slide_type": ""
    },
    "tags": [
     "remove-cell"
    ]
   },
   "outputs": [
    {
     "data": {
      "application/papermill.record/text/plain": "'20 September 2023'"
     },
     "metadata": {
      "scrapbook": {
       "mime_prefix": "application/papermill.record/",
       "name": "today"
      }
     },
     "output_type": "display_data"
    }
   ],
   "source": [
    "today = datetime.now().strftime(\"%d %B %Y\")\n",
    "\n",
    "glue(\"today\", today, display=False)"
   ]
  },
  {
   "cell_type": "markdown",
   "id": "843853b4-d6c3-481b-9ef2-ef1a1d8f6fdd",
   "metadata": {},
   "source": [
    "Trove provides a platform for the delivery of digitised content from the National Library of Australia and its partners. This digitised content is easy to find in the *Newspapers & gazettes* and *Magazines & newsletters* categories – they're full of it! But it's not so easy to find digitised content in other categories where it's mixed with works aggregated from a range of different sources.\n",
    "\n",
    "There are a few different approaches to finding digitised content, but they all have potential problems. While I highlight what I think is the most reliable option, it's really a matter of working out what will best meet your research needs."
   ]
  },
  {
   "cell_type": "markdown",
   "id": "3b06d5ac-7baf-4d01-8980-a04d92d73ce4",
   "metadata": {},
   "source": [
    "### Search for records including `nla.obj`\n",
    "\n",
    "All of the digitised resources in Trove (except for *Newspapers & Gazettes*) have NLA identifiers of the form `nla.obj-[NUMBER]`. So a search for `\"nla.obj\"` should return all digitised resources. Here's the results of running this search across all categories:"
   ]
  },
  {
   "cell_type": "code",
   "execution_count": 7,
   "id": "a89b6f97-3745-4691-bb07-816d554b3d47",
   "metadata": {
    "editable": true,
    "slideshow": {
     "slide_type": ""
    },
    "tags": [
     "hide-input"
    ]
   },
   "outputs": [
    {
     "data": {
      "text/html": [
       "<style type=\"text/css\">\n",
       "</style>\n",
       "<table id=\"T_715bd\">\n",
       "  <thead>\n",
       "    <tr>\n",
       "      <th id=\"T_715bd_level0_col0\" class=\"col_heading level0 col0\" >category</th>\n",
       "      <th id=\"T_715bd_level0_col1\" class=\"col_heading level0 col1\" >total</th>\n",
       "    </tr>\n",
       "  </thead>\n",
       "  <tbody>\n",
       "    <tr>\n",
       "      <td id=\"T_715bd_row0_col0\" class=\"data row0 col0\" >book</td>\n",
       "      <td id=\"T_715bd_row0_col1\" class=\"data row0 col1\" >637,839</td>\n",
       "    </tr>\n",
       "    <tr>\n",
       "      <td id=\"T_715bd_row1_col0\" class=\"data row1 col0\" >diary</td>\n",
       "      <td id=\"T_715bd_row1_col1\" class=\"data row1 col1\" >164,920</td>\n",
       "    </tr>\n",
       "    <tr>\n",
       "      <td id=\"T_715bd_row2_col0\" class=\"data row2 col0\" >image</td>\n",
       "      <td id=\"T_715bd_row2_col1\" class=\"data row2 col1\" >281,881</td>\n",
       "    </tr>\n",
       "    <tr>\n",
       "      <td id=\"T_715bd_row3_col0\" class=\"data row3 col0\" >list</td>\n",
       "      <td id=\"T_715bd_row3_col1\" class=\"data row3 col1\" >4</td>\n",
       "    </tr>\n",
       "    <tr>\n",
       "      <td id=\"T_715bd_row4_col0\" class=\"data row4 col0\" >magazine</td>\n",
       "      <td id=\"T_715bd_row4_col1\" class=\"data row4 col1\" >1,807,243</td>\n",
       "    </tr>\n",
       "    <tr>\n",
       "      <td id=\"T_715bd_row5_col0\" class=\"data row5 col0\" >music</td>\n",
       "      <td id=\"T_715bd_row5_col1\" class=\"data row5 col1\" >57,408</td>\n",
       "    </tr>\n",
       "    <tr>\n",
       "      <td id=\"T_715bd_row6_col0\" class=\"data row6 col0\" >newspaper</td>\n",
       "      <td id=\"T_715bd_row6_col1\" class=\"data row6 col1\" >1,852</td>\n",
       "    </tr>\n",
       "    <tr>\n",
       "      <td id=\"T_715bd_row7_col0\" class=\"data row7 col0\" >people</td>\n",
       "      <td id=\"T_715bd_row7_col1\" class=\"data row7 col1\" >38</td>\n",
       "    </tr>\n",
       "    <tr>\n",
       "      <td id=\"T_715bd_row8_col0\" class=\"data row8 col0\" >research</td>\n",
       "      <td id=\"T_715bd_row8_col1\" class=\"data row8 col1\" >361,304</td>\n",
       "    </tr>\n",
       "  </tbody>\n",
       "</table>\n"
      ],
      "text/plain": [
       "<pandas.io.formats.style.Styler at 0x7fd9106d80d0>"
      ]
     },
     "execution_count": 7,
     "metadata": {},
     "output_type": "execute_result"
    }
   ],
   "source": [
    "params = {\"q\": '\"nla.obj\"', \"category\": \"all\", \"encoding\": \"json\", \"n\": 0}\n",
    "\n",
    "headers = {\"X-API-KEY\": YOUR_API_KEY}\n",
    "totals_nlaobj = []\n",
    "\n",
    "response = requests.get(\n",
    "    \"https://api.trove.nla.gov.au/v3/result\", params=params, headers=headers\n",
    ")\n",
    "data = response.json()\n",
    "for cat in data[\"category\"]:\n",
    "    total = cat[\"records\"][\"total\"]\n",
    "    if total:\n",
    "        totals_nlaobj.append({\"category\": cat[\"code\"], \"total\": total})\n",
    "df_nlaobj = pd.DataFrame(totals_nlaobj)\n",
    "\n",
    "df_nlaobj.style.format(thousands=\",\").hide()"
   ]
  },
  {
   "cell_type": "markdown",
   "id": "fa3ce3c0-4076-44fc-9aa4-b5d50f08db93",
   "metadata": {
    "editable": true,
    "slideshow": {
     "slide_type": ""
    },
    "tags": []
   },
   "source": [
    "[![Try it!](https://troveconsole.herokuapp.com/static/img/try-trove-api-console.svg)](https://troveconsole.herokuapp.com/v3/?url=https%3A%2F%2Fapi.trove.nla.gov.au%2Fv3%2Fresult%3Fq%3D%22nla.obj%22%26category%3Dall%26encoding%3Djson%26n%3D0&comment=)\n",
    "\n",
    "The problem with this approach is that includes a certain amount of 'noise'. For example, there are no digitised resources in the `people` and `list` categories, and the `newspaper` category uses different identifiers. Any matches in these categories are probably because digitised items are referenced within records or user annotations.\n",
    "\n",
    "You might also wonder about the large number of results in the *Books & Libraries* category – are there really that many digitised books? Probably not. If you look closer at the [results for the *Book & Libraries* category](https://trove.nla.gov.au/search/category/books?keyword=%22nla.obj%22) you'll see that most of the works are 'Not available online'. Digging deeper, it seems that some of these have been digitised by the NLA, but the digitised version has not been published online. These records include a note saying something like 'Digital master available ; National Library of Australia' with a `nla.obj` identifier. However, the majority of the 'not online' records are actually empty – ghostly remnants of some past processing failure.\n",
    "\n",
    "If your aim is to harvest details of all the NLA digitised works that are available online, you'll probably want to exclude all the 'not online' records. One way to do this is to set the `l-availability` facet to `y`. Here's how that affects the number of results:"
   ]
  },
  {
   "cell_type": "code",
   "execution_count": 9,
   "id": "d966d356-edad-4b83-b741-27694c0d412d",
   "metadata": {
    "editable": true,
    "slideshow": {
     "slide_type": ""
    },
    "tags": [
     "hide-input"
    ]
   },
   "outputs": [
    {
     "data": {
      "text/html": [
       "<style type=\"text/css\">\n",
       "</style>\n",
       "<table id=\"T_d5283\">\n",
       "  <thead>\n",
       "    <tr>\n",
       "      <th id=\"T_d5283_level0_col0\" class=\"col_heading level0 col0\" >category</th>\n",
       "      <th id=\"T_d5283_level0_col1\" class=\"col_heading level0 col1\" >total</th>\n",
       "    </tr>\n",
       "  </thead>\n",
       "  <tbody>\n",
       "    <tr>\n",
       "      <td id=\"T_d5283_row0_col0\" class=\"data row0 col0\" >book</td>\n",
       "      <td id=\"T_d5283_row0_col1\" class=\"data row0 col1\" >97,836</td>\n",
       "    </tr>\n",
       "    <tr>\n",
       "      <td id=\"T_d5283_row1_col0\" class=\"data row1 col0\" >diary</td>\n",
       "      <td id=\"T_d5283_row1_col1\" class=\"data row1 col1\" >101,927</td>\n",
       "    </tr>\n",
       "    <tr>\n",
       "      <td id=\"T_d5283_row2_col0\" class=\"data row2 col0\" >image</td>\n",
       "      <td id=\"T_d5283_row2_col1\" class=\"data row2 col1\" >247,347</td>\n",
       "    </tr>\n",
       "    <tr>\n",
       "      <td id=\"T_d5283_row3_col0\" class=\"data row3 col0\" >list</td>\n",
       "      <td id=\"T_d5283_row3_col1\" class=\"data row3 col1\" >4</td>\n",
       "    </tr>\n",
       "    <tr>\n",
       "      <td id=\"T_d5283_row4_col0\" class=\"data row4 col0\" >magazine</td>\n",
       "      <td id=\"T_d5283_row4_col1\" class=\"data row4 col1\" >1,807,243</td>\n",
       "    </tr>\n",
       "    <tr>\n",
       "      <td id=\"T_d5283_row5_col0\" class=\"data row5 col0\" >music</td>\n",
       "      <td id=\"T_d5283_row5_col1\" class=\"data row5 col1\" >39,691</td>\n",
       "    </tr>\n",
       "    <tr>\n",
       "      <td id=\"T_d5283_row6_col0\" class=\"data row6 col0\" >people</td>\n",
       "      <td id=\"T_d5283_row6_col1\" class=\"data row6 col1\" >38</td>\n",
       "    </tr>\n",
       "    <tr>\n",
       "      <td id=\"T_d5283_row7_col0\" class=\"data row7 col0\" >research</td>\n",
       "      <td id=\"T_d5283_row7_col1\" class=\"data row7 col1\" >357,863</td>\n",
       "    </tr>\n",
       "  </tbody>\n",
       "</table>\n"
      ],
      "text/plain": [
       "<pandas.io.formats.style.Styler at 0x7fd8bf679190>"
      ]
     },
     "execution_count": 9,
     "metadata": {},
     "output_type": "execute_result"
    }
   ],
   "source": [
    "params = {\n",
    "    \"q\": '\"nla.obj\"',\n",
    "    \"category\": \"all\",\n",
    "    \"l-availability\": \"y\",\n",
    "    \"encoding\": \"json\",\n",
    "    \"n\": 0,\n",
    "}\n",
    "\n",
    "headers = {\"X-API-KEY\": YOUR_API_KEY}\n",
    "totals = []\n",
    "\n",
    "response = requests.get(\n",
    "    \"https://api.trove.nla.gov.au/v3/result\", params=params, headers=headers\n",
    ")\n",
    "data = response.json()\n",
    "for cat in data[\"category\"]:\n",
    "    total = cat[\"records\"][\"total\"]\n",
    "    if total:\n",
    "        totals.append({\"category\": cat[\"code\"], \"total\": total})\n",
    "\n",
    "pd.DataFrame(totals).style.format(thousands=\",\").hide()"
   ]
  },
  {
   "cell_type": "markdown",
   "id": "b40d433d-7add-49e5-bad3-95af364c8629",
   "metadata": {},
   "source": [
    "[![Try it!](https://troveconsole.herokuapp.com/static/img/try-trove-api-console.svg)](https://troveconsole.herokuapp.com/v3/?url=https%3A%2F%2Fapi.trove.nla.gov.au%2Fv3%2Fresult%3Fq%3D%22nla.obj%22%26category%3Dall%26l-availability%3Dy%26encoding%3Djson%26n%3D0&comment=)\n",
    "\n",
    "Another potential problem is that a search for `\"nla.obj\"` returns digitised resources as well as born digital works submitted through the National E-Deposit scheme (NED). Some of the NED resources can only be viewed onsite at a participating library, so they're not really online. To exclude these from your results you can set `l-availability` to `y/f` (free access):"
   ]
  },
  {
   "cell_type": "code",
   "execution_count": 10,
   "id": "2dd750ff-5381-4642-9e21-c41287a6724f",
   "metadata": {
    "editable": true,
    "slideshow": {
     "slide_type": ""
    },
    "tags": [
     "hide-input"
    ]
   },
   "outputs": [
    {
     "data": {
      "text/html": [
       "<style type=\"text/css\">\n",
       "</style>\n",
       "<table id=\"T_b916a\">\n",
       "  <thead>\n",
       "    <tr>\n",
       "      <th id=\"T_b916a_level0_col0\" class=\"col_heading level0 col0\" >category</th>\n",
       "      <th id=\"T_b916a_level0_col1\" class=\"col_heading level0 col1\" >total</th>\n",
       "    </tr>\n",
       "  </thead>\n",
       "  <tbody>\n",
       "    <tr>\n",
       "      <td id=\"T_b916a_row0_col0\" class=\"data row0 col0\" >book</td>\n",
       "      <td id=\"T_b916a_row0_col1\" class=\"data row0 col1\" >60,112</td>\n",
       "    </tr>\n",
       "    <tr>\n",
       "      <td id=\"T_b916a_row1_col0\" class=\"data row1 col0\" >diary</td>\n",
       "      <td id=\"T_b916a_row1_col1\" class=\"data row1 col1\" >101,778</td>\n",
       "    </tr>\n",
       "    <tr>\n",
       "      <td id=\"T_b916a_row2_col0\" class=\"data row2 col0\" >image</td>\n",
       "      <td id=\"T_b916a_row2_col1\" class=\"data row2 col1\" >245,542</td>\n",
       "    </tr>\n",
       "    <tr>\n",
       "      <td id=\"T_b916a_row3_col0\" class=\"data row3 col0\" >list</td>\n",
       "      <td id=\"T_b916a_row3_col1\" class=\"data row3 col1\" >4</td>\n",
       "    </tr>\n",
       "    <tr>\n",
       "      <td id=\"T_b916a_row4_col0\" class=\"data row4 col0\" >magazine</td>\n",
       "      <td id=\"T_b916a_row4_col1\" class=\"data row4 col1\" >1,807,243</td>\n",
       "    </tr>\n",
       "    <tr>\n",
       "      <td id=\"T_b916a_row5_col0\" class=\"data row5 col0\" >music</td>\n",
       "      <td id=\"T_b916a_row5_col1\" class=\"data row5 col1\" >32,623</td>\n",
       "    </tr>\n",
       "    <tr>\n",
       "      <td id=\"T_b916a_row6_col0\" class=\"data row6 col0\" >people</td>\n",
       "      <td id=\"T_b916a_row6_col1\" class=\"data row6 col1\" >38</td>\n",
       "    </tr>\n",
       "    <tr>\n",
       "      <td id=\"T_b916a_row7_col0\" class=\"data row7 col0\" >research</td>\n",
       "      <td id=\"T_b916a_row7_col1\" class=\"data row7 col1\" >354,712</td>\n",
       "    </tr>\n",
       "  </tbody>\n",
       "</table>\n"
      ],
      "text/plain": [
       "<pandas.io.formats.style.Styler at 0x7fd8bf3480d0>"
      ]
     },
     "execution_count": 10,
     "metadata": {},
     "output_type": "execute_result"
    }
   ],
   "source": [
    "params = {\n",
    "    \"q\": '\"nla.obj\"',\n",
    "    \"category\": \"all\",\n",
    "    \"l-availability\": \"y/f\",\n",
    "    \"encoding\": \"json\",\n",
    "    \"n\": 0,\n",
    "}\n",
    "\n",
    "headers = {\"X-API-KEY\": YOUR_API_KEY}\n",
    "totals = []\n",
    "\n",
    "response = requests.get(\n",
    "    \"https://api.trove.nla.gov.au/v3/result\", params=params, headers=headers\n",
    ")\n",
    "data = response.json()\n",
    "for cat in data[\"category\"]:\n",
    "    total = cat[\"records\"][\"total\"]\n",
    "    if total:\n",
    "        totals.append({\"category\": cat[\"code\"], \"total\": total})\n",
    "\n",
    "pd.DataFrame(totals).style.format(thousands=\",\").hide()"
   ]
  },
  {
   "cell_type": "markdown",
   "id": "6c0ff155-54bf-4921-9a43-84c29e7735bf",
   "metadata": {},
   "source": [
    "While other NED resources are freely accessible, most are only available as PDFs or in an e-book format. If you're collecting data about digitised works from which you plan to harvest images or text, then you might want to exclude *all* NED resources. The NED collection has its own NUC identifier, so you can exclude it from your search by adding `NOT nuc:\"ANL:NED\"` to the simple search box, or to the `q` parameter in an API request.\n",
    "\n",
    "```{warning}\n",
    "Trove's grouping of versions into works can cause unexpected results. It's possible that by excluding all NED resources, you might lose some of the NLA's digitised works. This could happen if there were multiple versions of a single work, including one that has been digitised, and another that has been submitted via the National E-Deposit service. In this case, setting `NOT nuc:\"ANL:NED\"` would exclude the work and *all* its versions from your results. \n",
    "```\n",
    "\n",
    "**So what's the best approach?** I'd suggest starting broad by using the query `\"nla.obj\"` and setting `l-availability` to `y`. This gives your best chance of finding all online digitised resources. If this is generating too much noise, you can add further limits – though be aware of unintended consequences!\n",
    "\n",
    "If you're using the API to create a dataset of digitised resources, you can inspect metadata records after you've downloaded them to decide whether or not to add them to your dataset. This gives you more fine-grained control than you can get by tweaking the search parameters. For example, if an item has been digitised and published online, the `identifiers` field in the metadata should include a url containing 'nla.obj' with the `linktype` of `fulltext`. <mark>==Link to accessing data section for more?==</mark>"
   ]
  },
  {
   "cell_type": "markdown",
   "id": "80d43155-b457-4fbb-9fe1-509b2aafed97",
   "metadata": {},
   "source": [
    "## Other options\n",
    "\n",
    "There are a few other ways of finding digitised content, but they're not as reliable as searching for \"nla.obj\". There's no public documentation about how these indexes are created, so it's difficult to interpret the results they return. But they might be useful in some circumstances.\n",
    "\n",
    "### Limit results to the 'Trove Digital Library'\n",
    "\n",
    "In the Advanced Search form for the *Books & Libraries*, *Research & Reports*, *Images, Maps & Artefacts*, *Diaries, Letters & Archives*, and *Music, Audio & Video* categories, there's an option to limit the source of the records in your results by selecting from a list of 'Organisations'. Hidden away in this list is the 'Trove Digital Library'. Unfortunately, selecting 'Trove Digital Library' in Advanced Search doesn't work at the moment because of a bug in the web interface, but once you know it exists you can manually add it to your searches.\n",
    "\n",
    "```{figure} /images/advanced_search_orgs.png\n",
    ":name: advanced-search-orgs\n",
    ":width: 600\n",
    "Selecting 'Trove Digital Library' in the Advanced Search form – note the NUC identifier in brackets\n",
    "```\n",
    "\n",
    "Like other contributing organisations, the 'Trove Digital Library' has it's own NUC identifier: `ANL:DL`. You can use this to limit your search by adding `nuc:\"ANL:DL\"` to the simple search box in the web interface, or to the `q` parameter in an API request.\n",
    "\n",
    "[![Try it!](https://troveconsole.herokuapp.com/static/img/try-trove-api-console.svg)](https://troveconsole.herokuapp.com/v3/?url=https%3A%2F%2Fapi.trove.nla.gov.au%2Fv3%2Fresult%3Fq%3Dnuc%3A%22ANL%3ADL%22%26category%3Dall%26encoding%3Djson%26n%3D0&comment=)\n",
    "\n",
    "The results look ok, but the problem is that some digitised publications aren't included in the 'Trove Digital Library' – here's [some examples](https://trove.nla.gov.au/search/category/books?keyword=%22nla.obj%22%20NOT%20nuc%3A%22ANL%3ADL%22%20NOT%20nuc%3A%22ANL%3ANED%22&l-availability=y%2Ff) from the *Books & Libraries* category. It's not clear why this is, and what a search for `nuc:\"ANL:DL\"` actually includes (or excludes)."
   ]
  },
  {
   "cell_type": "markdown",
   "id": "16edfbdb-389d-4fa9-8866-17f1cb1d7206",
   "metadata": {
    "editable": true,
    "slideshow": {
     "slide_type": ""
    },
    "tags": []
   },
   "source": [
    "### `fullTextInd:y`\n",
    "\n",
    "The Trove documentation states that by adding `fullTextInd:y` to your query you can:\n",
    "\n",
    "> find digitised or born digital items that include full text, particularly digitised books & journal articles\n",
    "\n",
    "It's not obvious from this description, but this includes much more than just NLA digitised resources and publications submitted through NED. Using `fullTextInd:y` without other filters will return a wide range of content aggregated from multiple sources, including full-text publications that require authentication to access. Many of these will be in PDF format. It's not a reliable way of finding digitised items with downloadable text.\n",
    "\n",
    "Furthermore, `fullTextInd:y` doesn't seem to consistently applied to NLA's own digitised resources. For example, it seems to exclude a number of periodicals with digitised issues. Compare this search for *Platt's Almanac* [with](https://trove.nla.gov.au/search/category/books?keyword=%22Platt%27s%20almanac,%20diary,%20and%20South%20Australian%20directory%22%20fullTextInd%3Ay) and [without](https://trove.nla.gov.au/search/category/books?keyword=%22Platt%27s%20almanac,%20diary,%20and%20South%20Australian%20directory%22&l-availability=y) `fullTextInd:y`.\n",
    "\n",
    "Adding `fullTextInd:y` does seem to exclude NLA digitised resources that have no OCRd text. This might be useful in combination with a \"nla.obj\" search, but again there might be unintended consequences.\n",
    "\n",
    "### `has:correctabletext`\n",
    "\n",
    "Adding `has:correctabletext` to your query limits the results to works that have OCRd text you can correct in the Trove web interface.\n",
    "\n",
    "If the text content of a resource is 'correctable' then you'd expect it to be an NLA digitised item with OCRd text you can download. So adding `has:correctabletext` to your query *should* limit the results to digitised items with downloadable text. This seems to be the case (though watch out for more ghost records), but again it's not clear what you are excluding – is every item with OCRd text correctable? \n",
    "\n",
    "### `imageInd`\n",
    "\n",
    "Adding `imageInd:thumbnail` to your query limits results to works that have a thumbnail image.\n",
    "\n",
    "Both `fullTextInd:y` and `has:correctabletext` filter records based on whether they have accessible text. But there are many digitised resources that either contain no text at all, or have no text that can be extracted by OCR. Adding `imageInd:thumbnail` to your search can help find these items. However, like `fullTextInd` this index is applied to aggregated collections as well as digitised resources, so your results can include all sorts of content, from book covers to pictures of politicians. There's also no guarantee that an item with a thumbnail will provide a larger image for download."
   ]
  }
 ],
 "metadata": {
  "kernelspec": {
   "display_name": "Python 3 (ipykernel)",
   "language": "python",
   "name": "python3"
  },
  "language_info": {
   "codemirror_mode": {
    "name": "ipython",
    "version": 3
   },
   "file_extension": ".py",
   "mimetype": "text/x-python",
   "name": "python",
   "nbconvert_exporter": "python",
   "pygments_lexer": "ipython3",
   "version": "3.8.12"
  }
 },
 "nbformat": 4,
 "nbformat_minor": 5
}
